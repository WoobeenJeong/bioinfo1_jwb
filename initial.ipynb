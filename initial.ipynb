{
 "cells": [
  {
   "attachments": {},
   "cell_type": "markdown",
   "metadata": {},
   "source": [
    "**project running on: C:\\Users\\Test\\qbio\\project**\n",
    "\n",
    "Mode                 LastWriteTime         Length Name\n",
    "----                 -------------         ------ ----\n",
    "d----        2023-05-24  오후 4:14                code\n",
    "d----        2023-05-24  오후 4:25                data\n",
    "-a---        2023-05-24  오후 3:42            267 read.me\n",
    "\n",
    "At start, There is two initial idea for project\n",
    "\n",
    "**project candidates**\n",
    "\n",
    "1. Binding site frequency analysis on LIN28A\n",
    "\n",
    "    = (Fig.2E) Normalized relative frequency of Watson-Crick pair between two bases flanking LIN28A binding sites.\n",
    "\n",
    "2. LIN28A binding predictor\n",
    "\n",
    "    = (Fig.S3F) Positional emission probabilities of hidden Markov model of LIN28A recognition motif.\n",
    "    \n",
    "    > using ML, as basically GLM and RF regression and compare them by validation(AUC) and the result.\n",
    "\n",
    "**Project starting point**\n",
    "\n",
    "Based on result of Guided mission 003 \n",
    "\n",
    "https://github.com/WoobeenJeong/bioinfo1_jwb/blob/main/CoLab_TermProj_2023_3.ipynb"
   ]
  },
  {
   "attachments": {},
   "cell_type": "markdown",
   "metadata": {},
   "source": [
    "**Basic settings**\n",
    "- Directory include whole RNA-seq data: \n",
    "    C:\\Users\\Test\\qbio\\project\\data\n",
    "\n",
    "- workspace setting:\n",
    "    [ installing ]\n",
    "    conda (already)\n",
    "    mamba\n",
    "    bedtools (already)\n",
    "    bioawk (already)\n",
    "    samtools (already)\n",
    "\n",
    "    > conda install -p c:\\ProgramData\\Anaconda3 ipykernel --update-deps --force-reinstall\n",
    "    > conda install -y bedtools bioawk samtools\n",
    "\n",
    "At First, we need to check file is properly downloaded from google drive.\n",
    "\n",
    "140aaf30bcb9276cc716f8699f04ddd6  CLIP-35L33G.bam\n",
    "f1b3336ed7e2f97d562dcc71641251bd  CLIP-35L33G.bam.bai\n",
    "328883a73d507eafbf5b60bd6b906201  RNA-control.bam\n",
    "02073818e2f398a73c3b76e5169de1ca  RNA-control.bam.bai\n",
    "b09550d09d6c2a4ce27f0226f426fdb1  RNA-siLin28a.bam\n",
    "fef112c727244060ea62d3f2564a07f6  RNA-siLin28a.bam.bai\n",
    "28bbd0c47d725669340c784f1b772c01  RNA-siLuc.bam\n",
    "43590fdc4d81905c0432e0d1cb8cfd5b  RNA-siLuc.bam.bai\n",
    "5c08a9297307bc83259e658c4474f0cc  RPF-siLin28a.bam\n",
    "a1bb3e29be412dfd7fd8d16b1b1acc4c  RPF-siLin28a.bam.bai\n",
    "f2eebf50943024d0116c9cd3e744c707  RPF-siLuc.bam\n",
    "dc24f69e8f571fc8be30f28ce5b84fcd  RPF-siLuc.bam.bai\n",
    "\n",
    "> md5sum C:/Users/Test/qbio/project/data/* (-> git bash terminal on VScode)"
   ]
  },
  {
   "cell_type": "code",
   "execution_count": 1,
   "metadata": {},
   "outputs": [
    {
     "name": "stdout",
     "output_type": "stream",
     "text": [
      "140aaf30bcb9276cc716f8699f04ddd6\tCLIP-35L33G.bam\n",
      "f1b3336ed7e2f97d562dcc71641251bd\tCLIP-35L33G.bam.bai\n",
      "e22f2adecc2da272b1297850ac463105\tfivepcounts-RPF-siLuc.bed\n",
      "ed47186ee44654792a8a130c695f3a22\tgencode-exons-containing-startcodon.bed\n",
      "3469e3e3e018302c5488adc052fd1e21\tgencode-plusexon.gtf\n",
      "b1c38579a9e8e0313c1508f02ce0afaf\tgencode-start.gtf\n",
      "2386750ffd7ddd7288bb821ca018069b\tmatches.txt\n",
      "7c9528c08ed2f1ae6e2de599db1aa8fb\tread-counts.txt.summary\n",
      "328883a73d507eafbf5b60bd6b906201\tRNA-control.bam\n",
      "02073818e2f398a73c3b76e5169de1ca\tRNA-control.bam.bai\n",
      "fef112c727244060ea62d3f2564a07f6\tRNA-siLin28a.bam.bai\n",
      "43590fdc4d81905c0432e0d1cb8cfd5b\tRNA-siLuc.bam.bai\n",
      "a1bb3e29be412dfd7fd8d16b1b1acc4c\tRPF-siLin28a.bam.bai\n",
      "f2eebf50943024d0116c9cd3e744c707\tRPF-siLuc.bam\n",
      "dc24f69e8f571fc8be30f28ce5b84fcd\tRPF-siLuc.bam.bai\n"
     ]
    }
   ],
   "source": [
    "import hashlib\n",
    "import glob\n",
    "import os\n",
    "\n",
    "projectdb = 'C:/Users/Test/qbio/project/data/*'\n",
    "files = glob.glob(projectdb)\n",
    "\n",
    "for file in files:\n",
    "    with open(file, 'rb') as f:\n",
    "        data = f.read()\n",
    "        md5_hash = hashlib.md5(data).hexdigest()\n",
    "        filename = os.path.basename(file)\n",
    "        print(f\"{md5_hash}\\t{filename}\")\n"
   ]
  },
  {
   "cell_type": "code",
   "execution_count": 2,
   "metadata": {},
   "outputs": [],
   "source": [
    "import os\n",
    "os.chdir('C:/Users/Test/qbio/project/data')"
   ]
  },
  {
   "attachments": {},
   "cell_type": "markdown",
   "metadata": {},
   "source": [
    "import the tools at once!"
   ]
  },
  {
   "cell_type": "code",
   "execution_count": 3,
   "metadata": {},
   "outputs": [],
   "source": [
    "import pandas as pd\n",
    "import numpy as np\n",
    "import matplotlib.pyplot as plt\n",
    "import re\n",
    "from collections import Counter\n"
   ]
  },
  {
   "attachments": {},
   "cell_type": "markdown",
   "metadata": {},
   "source": [
    "Previously in Misson 003, There is some code mistaken."
   ]
  },
  {
   "cell_type": "code",
   "execution_count": 5,
   "metadata": {},
   "outputs": [
    {
     "name": "stdout",
     "output_type": "stream",
     "text": [
      "C:\\Users\\Test\\qbio\\project\\data\n"
     ]
    }
   ],
   "source": [
    "%cd C:/Users/Test/qbio/project/data"
   ]
  },
  {
   "cell_type": "code",
   "execution_count": 18,
   "metadata": {},
   "outputs": [
    {
     "data": {
      "text/html": [
       "<div>\n",
       "<style scoped>\n",
       "    .dataframe tbody tr th:only-of-type {\n",
       "        vertical-align: middle;\n",
       "    }\n",
       "\n",
       "    .dataframe tbody tr th {\n",
       "        vertical-align: top;\n",
       "    }\n",
       "\n",
       "    .dataframe thead th {\n",
       "        text-align: right;\n",
       "    }\n",
       "</style>\n",
       "<table border=\"1\" class=\"dataframe\">\n",
       "  <thead>\n",
       "    <tr style=\"text-align: right;\">\n",
       "      <th></th>\n",
       "      <th>ID</th>\n",
       "      <th>Level</th>\n",
       "      <th>Start</th>\n",
       "      <th>End</th>\n",
       "      <th>Dot1</th>\n",
       "      <th>Strand</th>\n",
       "      <th>Dot2</th>\n",
       "      <th>Info</th>\n",
       "    </tr>\n",
       "    <tr>\n",
       "      <th>Chrom</th>\n",
       "      <th></th>\n",
       "      <th></th>\n",
       "      <th></th>\n",
       "      <th></th>\n",
       "      <th></th>\n",
       "      <th></th>\n",
       "      <th></th>\n",
       "      <th></th>\n",
       "    </tr>\n",
       "  </thead>\n",
       "  <tbody>\n",
       "    <tr>\n",
       "      <th>chr1</th>\n",
       "      <td>HAVANA</td>\n",
       "      <td>gene</td>\n",
       "      <td>3143476</td>\n",
       "      <td>3144545</td>\n",
       "      <td>.</td>\n",
       "      <td>+</td>\n",
       "      <td>.</td>\n",
       "      <td>gene_id \"ENSMUSG00000102693.2\"; gene_type \"TEC...</td>\n",
       "    </tr>\n",
       "    <tr>\n",
       "      <th>chr1</th>\n",
       "      <td>HAVANA</td>\n",
       "      <td>transcript</td>\n",
       "      <td>3143476</td>\n",
       "      <td>3144545</td>\n",
       "      <td>.</td>\n",
       "      <td>+</td>\n",
       "      <td>.</td>\n",
       "      <td>gene_id \"ENSMUSG00000102693.2\"; transcript_id ...</td>\n",
       "    </tr>\n",
       "    <tr>\n",
       "      <th>chr1</th>\n",
       "      <td>HAVANA</td>\n",
       "      <td>exon</td>\n",
       "      <td>3143476</td>\n",
       "      <td>3144545</td>\n",
       "      <td>.</td>\n",
       "      <td>+</td>\n",
       "      <td>.</td>\n",
       "      <td>gene_id \"ENSMUSG00000102693.2\"; transcript_id ...</td>\n",
       "    </tr>\n",
       "    <tr>\n",
       "      <th>chr1</th>\n",
       "      <td>ENSEMBL</td>\n",
       "      <td>gene</td>\n",
       "      <td>3172239</td>\n",
       "      <td>3172348</td>\n",
       "      <td>.</td>\n",
       "      <td>+</td>\n",
       "      <td>.</td>\n",
       "      <td>gene_id \"ENSMUSG00000064842.3\"; gene_type \"snR...</td>\n",
       "    </tr>\n",
       "    <tr>\n",
       "      <th>chr1</th>\n",
       "      <td>ENSEMBL</td>\n",
       "      <td>transcript</td>\n",
       "      <td>3172239</td>\n",
       "      <td>3172348</td>\n",
       "      <td>.</td>\n",
       "      <td>+</td>\n",
       "      <td>.</td>\n",
       "      <td>gene_id \"ENSMUSG00000064842.3\"; transcript_id ...</td>\n",
       "    </tr>\n",
       "  </tbody>\n",
       "</table>\n",
       "</div>"
      ],
      "text/plain": [
       "            ID       Level    Start      End Dot1 Strand Dot2  \\\n",
       "Chrom                                                           \n",
       "chr1    HAVANA        gene  3143476  3144545    .      +    .   \n",
       "chr1    HAVANA  transcript  3143476  3144545    .      +    .   \n",
       "chr1    HAVANA        exon  3143476  3144545    .      +    .   \n",
       "chr1   ENSEMBL        gene  3172239  3172348    .      +    .   \n",
       "chr1   ENSEMBL  transcript  3172239  3172348    .      +    .   \n",
       "\n",
       "                                                    Info  \n",
       "Chrom                                                     \n",
       "chr1   gene_id \"ENSMUSG00000102693.2\"; gene_type \"TEC...  \n",
       "chr1   gene_id \"ENSMUSG00000102693.2\"; transcript_id ...  \n",
       "chr1   gene_id \"ENSMUSG00000102693.2\"; transcript_id ...  \n",
       "chr1   gene_id \"ENSMUSG00000064842.3\"; gene_type \"snR...  \n",
       "chr1   gene_id \"ENSMUSG00000064842.3\"; transcript_id ...  "
      ]
     },
     "execution_count": 18,
     "metadata": {},
     "output_type": "execute_result"
    }
   ],
   "source": [
    "gencode_name = ['Chrom', 'ID', 'Level', 'Start', 'End', 'Dot1', 'Strand', 'Dot2','Info' ]\n",
    "gencode = pd.read_csv('gencode.gtf', sep='\\t', comment='#', index_col=0, names=gencode_name)\n",
    "gencode.head()"
   ]
  },
  {
   "attachments": {},
   "cell_type": "markdown",
   "metadata": {},
   "source": [
    "in the code  \n",
    "**.str.contains( ,case=False)**  \n",
    "case=False means 'mirlet7g' only identically  \n",
    "case=True means allowing 'mirlet7g' 'Mirlet7g' 'MIRLET7G'"
   ]
  },
  {
   "cell_type": "code",
   "execution_count": 19,
   "metadata": {},
   "outputs": [
    {
     "data": {
      "text/html": [
       "<div>\n",
       "<style scoped>\n",
       "    .dataframe tbody tr th:only-of-type {\n",
       "        vertical-align: middle;\n",
       "    }\n",
       "\n",
       "    .dataframe tbody tr th {\n",
       "        vertical-align: top;\n",
       "    }\n",
       "\n",
       "    .dataframe thead th {\n",
       "        text-align: right;\n",
       "    }\n",
       "</style>\n",
       "<table border=\"1\" class=\"dataframe\">\n",
       "  <thead>\n",
       "    <tr style=\"text-align: right;\">\n",
       "      <th></th>\n",
       "      <th>ID</th>\n",
       "      <th>Level</th>\n",
       "      <th>Start</th>\n",
       "      <th>End</th>\n",
       "      <th>Dot1</th>\n",
       "      <th>Strand</th>\n",
       "      <th>Dot2</th>\n",
       "      <th>Info</th>\n",
       "    </tr>\n",
       "    <tr>\n",
       "      <th>Chrom</th>\n",
       "      <th></th>\n",
       "      <th></th>\n",
       "      <th></th>\n",
       "      <th></th>\n",
       "      <th></th>\n",
       "      <th></th>\n",
       "      <th></th>\n",
       "      <th></th>\n",
       "    </tr>\n",
       "  </thead>\n",
       "  <tbody>\n",
       "    <tr>\n",
       "      <th>chr9</th>\n",
       "      <td>ENSEMBL</td>\n",
       "      <td>gene</td>\n",
       "      <td>106056039</td>\n",
       "      <td>106056126</td>\n",
       "      <td>.</td>\n",
       "      <td>+</td>\n",
       "      <td>.</td>\n",
       "      <td>gene_id \"ENSMUSG00000065440.3\"; gene_type \"miR...</td>\n",
       "    </tr>\n",
       "    <tr>\n",
       "      <th>chr9</th>\n",
       "      <td>ENSEMBL</td>\n",
       "      <td>transcript</td>\n",
       "      <td>106056039</td>\n",
       "      <td>106056126</td>\n",
       "      <td>.</td>\n",
       "      <td>+</td>\n",
       "      <td>.</td>\n",
       "      <td>gene_id \"ENSMUSG00000065440.3\"; transcript_id ...</td>\n",
       "    </tr>\n",
       "    <tr>\n",
       "      <th>chr9</th>\n",
       "      <td>ENSEMBL</td>\n",
       "      <td>exon</td>\n",
       "      <td>106056039</td>\n",
       "      <td>106056126</td>\n",
       "      <td>.</td>\n",
       "      <td>+</td>\n",
       "      <td>.</td>\n",
       "      <td>gene_id \"ENSMUSG00000065440.3\"; transcript_id ...</td>\n",
       "    </tr>\n",
       "  </tbody>\n",
       "</table>\n",
       "</div>"
      ],
      "text/plain": [
       "            ID       Level      Start        End Dot1 Strand Dot2  \\\n",
       "Chrom                                                               \n",
       "chr9   ENSEMBL        gene  106056039  106056126    .      +    .   \n",
       "chr9   ENSEMBL  transcript  106056039  106056126    .      +    .   \n",
       "chr9   ENSEMBL        exon  106056039  106056126    .      +    .   \n",
       "\n",
       "                                                    Info  \n",
       "Chrom                                                     \n",
       "chr9   gene_id \"ENSMUSG00000065440.3\"; gene_type \"miR...  \n",
       "chr9   gene_id \"ENSMUSG00000065440.3\"; transcript_id ...  \n",
       "chr9   gene_id \"ENSMUSG00000065440.3\"; transcript_id ...  "
      ]
     },
     "execution_count": 19,
     "metadata": {},
     "output_type": "execute_result"
    }
   ],
   "source": [
    "mirlet7g = gencode[gencode['Info'].str.contains('mirlet7g', case=False)]\n",
    "mirlet7g.head()"
   ]
  }
 ],
 "metadata": {
  "kernelspec": {
   "display_name": "Python 3",
   "language": "python",
   "name": "python3"
  },
  "language_info": {
   "codemirror_mode": {
    "name": "ipython",
    "version": 3
   },
   "file_extension": ".py",
   "mimetype": "text/x-python",
   "name": "python",
   "nbconvert_exporter": "python",
   "pygments_lexer": "ipython3",
   "version": "3.10.11"
  },
  "orig_nbformat": 4,
  "vscode": {
   "interpreter": {
    "hash": "366f9de4a1878ed8f09516a426b62a3a703aa5fa25c40c9ddde35f183c040af7"
   }
  }
 },
 "nbformat": 4,
 "nbformat_minor": 2
}
