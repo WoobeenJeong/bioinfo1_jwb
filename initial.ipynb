{
 "cells": [
  {
   "attachments": {},
   "cell_type": "markdown",
   "metadata": {},
   "source": [
    "**project running on: C:\\Users\\Test\\qbio\\project**\n",
    "\n",
    "Mode                 LastWriteTime         Length Name\n",
    "----                 -------------         ------ ----\n",
    "d----        2023-05-24  오후 4:14                code\n",
    "d----        2023-05-24  오후 4:25                data\n",
    "-a---        2023-05-24  오후 3:42            267 read.me\n",
    "\n",
    "At start, There is two initial idea for project\n",
    "\n",
    "**project candidates**\n",
    "\n",
    "1. Binding site frequency analysis on LIN28A\n",
    "\n",
    "    = (Fig.2E) Normalized relative frequency of Watson-Crick pair between two bases flanking LIN28A binding sites.\n",
    "\n",
    "2. LIN28A binding predictor\n",
    "\n",
    "    = (Fig.S3F) Positional emission probabilities of hidden Markov model of LIN28A recognition motif.\n",
    "    \n",
    "    > using ML, as basically GLM and RF regression and compare them by validation(AUC) and the result.\n",
    "\n",
    "**Project starting point**\n",
    "\n",
    "Based on result of Guided mission 003 \n",
    "\n",
    "https://github.com/WoobeenJeong/bioinfo1_jwb/blob/main/CoLab_TermProj_2023_3.ipynb"
   ]
  },
  {
   "attachments": {},
   "cell_type": "markdown",
   "metadata": {},
   "source": [
    "**Basic settings**\n",
    "- Directory include whole RNA-seq data: \n",
    "    C:\\Users\\Test\\qbio\\project\\data\n",
    "\n",
    "- workspace setting:\n",
    "    [ installing ]\n",
    "    conda (already)\n",
    "    mamba\n",
    "    bedtools (already)\n",
    "    bioawk (already)\n",
    "    samtools (already)\n",
    "\n",
    "    > conda install -p c:\\ProgramData\\Anaconda3 ipykernel --update-deps --force-reinstall\n",
    "    > conda install -y bedtools bioawk samtools\n",
    "\n",
    "At First, we need to check file is properly downloaded from google drive.\n",
    "\n",
    "140aaf30bcb9276cc716f8699f04ddd6  CLIP-35L33G.bam\n",
    "f1b3336ed7e2f97d562dcc71641251bd  CLIP-35L33G.bam.bai\n",
    "328883a73d507eafbf5b60bd6b906201  RNA-control.bam\n",
    "02073818e2f398a73c3b76e5169de1ca  RNA-control.bam.bai\n",
    "b09550d09d6c2a4ce27f0226f426fdb1  RNA-siLin28a.bam\n",
    "fef112c727244060ea62d3f2564a07f6  RNA-siLin28a.bam.bai\n",
    "28bbd0c47d725669340c784f1b772c01  RNA-siLuc.bam\n",
    "43590fdc4d81905c0432e0d1cb8cfd5b  RNA-siLuc.bam.bai\n",
    "5c08a9297307bc83259e658c4474f0cc  RPF-siLin28a.bam\n",
    "a1bb3e29be412dfd7fd8d16b1b1acc4c  RPF-siLin28a.bam.bai\n",
    "f2eebf50943024d0116c9cd3e744c707  RPF-siLuc.bam\n",
    "dc24f69e8f571fc8be30f28ce5b84fcd  RPF-siLuc.bam.bai\n",
    "\n",
    "> md5sum C:/Users/Test/qbio/project/data/* (-> git bash terminal on VScode)"
   ]
  },
  {
   "cell_type": "code",
   "execution_count": null,
   "metadata": {},
   "outputs": [
    {
     "ename": "",
     "evalue": "",
     "output_type": "error",
     "traceback": [
      "\u001b[1;31mThe kernel failed to start as a dll could not be loaded.\n",
      "\u001b[1;31mClick <a href='https://aka.ms/kernelFailuresDllLoad'>here</a> for more info."
     ]
    }
   ],
   "source": [
    "import hashlib\n",
    "import glob\n",
    "import os\n",
    "\n",
    "projectdb = 'C:/Users/Test/qbio/project/data/*'\n",
    "files = glob.glob(projectdb)\n",
    "\n",
    "for file in files:\n",
    "    with open(file, 'rb') as f:\n",
    "        data = f.read()\n",
    "        md5_hash = hashlib.md5(data).hexdigest()\n",
    "        filename = os.path.basename(file)\n",
    "        print(f\"{md5_hash}\\t{filename}\")\n"
   ]
  },
  {
   "cell_type": "code",
   "execution_count": null,
   "metadata": {},
   "outputs": [],
   "source": [
    "import os\n",
    "os.chdir('C:/Users/Test/qbio/project/data')"
   ]
  },
  {
   "attachments": {},
   "cell_type": "markdown",
   "metadata": {},
   "source": [
    "import the tools at once!"
   ]
  },
  {
   "cell_type": "code",
   "execution_count": null,
   "metadata": {},
   "outputs": [],
   "source": [
    "import pandas as pd\n",
    "import numpy as np\n",
    "import matplotlib.pyplot as plt\n",
    "import re\n",
    "from collections import Counter\n"
   ]
  },
  {
   "attachments": {},
   "cell_type": "markdown",
   "metadata": {},
   "source": [
    "Previously in Misson 003, There is some code mistaken."
   ]
  },
  {
   "cell_type": "code",
   "execution_count": null,
   "metadata": {},
   "outputs": [],
   "source": []
  }
 ],
 "metadata": {
  "kernelspec": {
   "display_name": "Python 3",
   "language": "python",
   "name": "python3"
  },
  "language_info": {
   "codemirror_mode": {
    "name": "ipython",
    "version": 3
   },
   "file_extension": ".py",
   "mimetype": "text/x-python",
   "name": "python",
   "nbconvert_exporter": "python",
   "pygments_lexer": "ipython3",
   "version": "3.9.13 (main, Aug 25 2022, 23:51:50) [MSC v.1916 64 bit (AMD64)]"
  },
  "orig_nbformat": 4,
  "vscode": {
   "interpreter": {
    "hash": "ad2bdc8ecc057115af97d19610ffacc2b4e99fae6737bb82f5d7fb13d2f2c186"
   }
  }
 },
 "nbformat": 4,
 "nbformat_minor": 2
}
