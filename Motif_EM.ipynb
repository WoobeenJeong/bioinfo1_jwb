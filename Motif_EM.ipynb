{
  "cells": [
    {
      "cell_type": "markdown",
      "metadata": {
        "id": "DeBEwjbqhpTa"
      },
      "source": [
        "# Motif Finding by Expectation-Maximization\n",
        "\n",
        "EM algorithm으로 motif를 찾아본다.\n",
        "\n",
        "생물정보학 및 실습 1, 2023년 1학기"
      ]
    },
    {
      "cell_type": "code",
      "execution_count": null,
      "metadata": {
        "id": "m5essJZQhpTd"
      },
      "outputs": [],
      "source": [
        "seqs = \"\"\"\n",
        "CGCCCCTCTCGGGGGTGTTCAG\n",
        "TGTGTAAGTGCCAAGGTGCCAG\n",
        "ACCGAAAGAAGTATACAGGCGT\n",
        "TTCAGGTGCACGTCGGTGAACC\n",
        "CTCCACGTGCAATGTTGGCCTA\"\"\".split()\n",
        "seqs"
      ]
    },
    {
      "cell_type": "code",
      "execution_count": null,
      "metadata": {
        "id": "V9tNuCNshpTe"
      },
      "outputs": [],
      "source": [
        "import numpy as np\n",
        "np.set_printoptions(edgeitems=30, linewidth=100000)"
      ]
    },
    {
      "cell_type": "markdown",
      "metadata": {
        "id": "w4JItI85hpTe"
      },
      "source": [
        "기본 파라미터 세팅"
      ]
    },
    {
      "cell_type": "code",
      "execution_count": null,
      "metadata": {
        "id": "TV2do9rdhpTf"
      },
      "outputs": [],
      "source": [
        "W = 8 # motif width\n",
        "ALPHABET = 'ACGT'\n",
        "N = len(ALPHABET)\n",
        "L = len(seqs[0]) # length of each sequence\n",
        "pseudocount = 1\n",
        "\n",
        "ALPHABETenum = dict(zip(ALPHABET, range(N)))"
      ]
    },
    {
      "cell_type": "markdown",
      "metadata": {
        "id": "8k45ori8hpTf"
      },
      "source": [
        "다루기 쉽게 seqs를 숫자 배열로 변환함 (A->0, C->1, G->2, T->3)"
      ]
    },
    {
      "cell_type": "code",
      "execution_count": null,
      "metadata": {
        "id": "g7sfMwuqhpTf"
      },
      "outputs": [],
      "source": [
        "X = np.array([[ALPHABETenum[c] for c in s] for s in seqs])\n",
        "X"
      ]
    },
    {
      "cell_type": "markdown",
      "metadata": {
        "id": "wjIxuYyxhpTg"
      },
      "source": [
        "미리 전체 알파벳 빈도 계산하고 백그라운드 벡터 B 계산"
      ]
    },
    {
      "cell_type": "code",
      "execution_count": null,
      "metadata": {
        "id": "CzQa-FFShpTg"
      },
      "outputs": [],
      "source": [
        "nc = np.array([(X == i).sum() for i in range(N)])\n",
        "B = (nc + pseudocount) / (nc + pseudocount).sum()\n",
        "nc, B"
      ]
    },
    {
      "cell_type": "markdown",
      "metadata": {
        "id": "_g_mhxpihpTg"
      },
      "source": [
        "시작 profile을 맨 앞 부분 길이가 W인 문자열로 초기화함"
      ]
    },
    {
      "cell_type": "code",
      "execution_count": null,
      "metadata": {
        "id": "dI12LG4shpTh"
      },
      "outputs": [],
      "source": [
        "M = np.zeros([N, W])\n",
        "\n",
        "for j in range(W): # for each column of motif\n",
        "    for c in range(N): # for each character in the alphabet\n",
        "        M[c, j] = np.mean(X[:, j] == <<1>>)\n",
        "\n",
        "M"
      ]
    },
    {
      "cell_type": "markdown",
      "metadata": {
        "id": "hdv0ve0yhpTh"
      },
      "source": [
        "### E-step"
      ]
    },
    {
      "cell_type": "markdown",
      "metadata": {
        "id": "WyzL4S8ThpTh"
      },
      "source": [
        "Z matrix 계산\n",
        "\n",
        "$Z_{ij}^{(t)} = \\frac {\\Pr(X_i | Z_{ij}=1,M^{(t)})} {\\sum _{k=1} ^{L-W+1} { \\Pr(X_i | Z_{ik}=1,M^{(t)})}}$"
      ]
    },
    {
      "cell_type": "code",
      "execution_count": null,
      "metadata": {
        "id": "xHi1LpbvhpTh"
      },
      "outputs": [],
      "source": [
        "Z = np.zeros([X.shape[0], L-W+1])\n",
        "\n",
        "# 먼저 분자의 Pr(Xi...)를 계산한다.\n",
        "for i in range(X.shape[0]):\n",
        "    for j in range(<<2>>):\n",
        "        # motif 이전 background\n",
        "        pr_beforemotif = B[X[i, :j]]\n",
        "\n",
        "        # motif 내부\n",
        "        subseq = X[i, j:<<3>>]\n",
        "        pr_motif = np.choose(subseq, M)\n",
        "\n",
        "        # motif 이후 background\n",
        "        pr_aftermotif = B[X[i, <<4>>:]]\n",
        "\n",
        "        # 모두 곱해서 분모를 계산한다.\n",
        "        probs = np.hstack([pr_beforemotif, pr_motif, pr_aftermotif])\n",
        "        Z[i, j] = <<5>>(probs)\n",
        "\n",
        "        # 예시 좀 보여줌\n",
        "        if i < 2 and j < 5:\n",
        "            print(f'z[{i},{j}] =',\n",
        "                ' * '.join(format(v, 'g') for v in probs),\n",
        "                '=', format(Z[i, j], 'g'))"
      ]
    },
    {
      "cell_type": "code",
      "source": [
        "print('== 분모로 나누기 전 Z', '=' * 30)\n",
        "print(Z)\n",
        "\n",
        "# 각 sequence의 likelihood 총합을 계산해서 분모로 써서 나눈다.\n",
        "Z = Z / <<6>>(axis=1)[:, np.newaxis]\n",
        "\n",
        "print('== 분모로 나눈 후 Z', '=' * 30)\n",
        "print(Z)"
      ],
      "metadata": {
        "id": "Lg85GezPjm5m"
      },
      "execution_count": null,
      "outputs": []
    },
    {
      "cell_type": "markdown",
      "metadata": {
        "id": "1CrUipvBhpTh"
      },
      "source": [
        "### M-step\n",
        "\n",
        "`numpy`는 슬라이드 자료와 다르게 세로축을 먼저 쓰기 때문에 파라미터 순서도 k,c 대신 c,k로 바꿈.\n",
        "\n",
        "$M^{(t+1)}(c,k) = \\frac {n_{c,k} + d} {\\sum _c {(n_{c,k} + d)}}$\n",
        "\n",
        "$n_{c,k} = \\sum _i \\sum _{j|X_{i,j+k-1}=c} {Z_{ij}}$"
      ]
    },
    {
      "cell_type": "code",
      "execution_count": null,
      "metadata": {
        "id": "-aJ9_lWThpTi"
      },
      "outputs": [],
      "source": [
        "n = np.zeros([N, W])\n",
        "\n",
        "# 행렬 n 먼저 계산\n",
        "for c in range(N):\n",
        "    for k in range(W):\n",
        "        # sum 순서는 sigma i 방향을 먼저 합하는 게 간단하므로 i먼저 j나중\n",
        "        # X[:, <<7>>] == c는 boolean 벡터로, X_i,j+k-1=c 조건을 담당한다.\n",
        "        n[c, k] = np.sum([(Z[:, j] * (X[:, <<7>>] == c)).sum()\n",
        "                          for j in range(<<8>>)])\n",
        "\n",
        "# M 계산\n",
        "M = n + pseudocount\n",
        "M = M / M.sum(axis=0)\n",
        "M"
      ]
    },
    {
      "cell_type": "markdown",
      "metadata": {
        "id": "WDKf0s2phpTi"
      },
      "source": [
        "백그라운드 벡터 B 업데이트하기. 앞의 $n_{c,k}$와 마찬가지로 슬라이드와는 축을 반대로 써야 행렬을 표시했을 때 보기 편하다.\n",
        "\n",
        "$B^{(t+1)}(c) = \\frac {n_{c,0}+d} {\\sum_c {(n_{c,0}+d)}}$\n",
        "\n",
        "$n_{c,0}=n_c-\\sum_{j=1}^W {n_{c,j}}$"
      ]
    },
    {
      "cell_type": "code",
      "execution_count": null,
      "metadata": {
        "id": "TxxoXd-yhpTi"
      },
      "outputs": [],
      "source": [
        "# nc는 시작할 때 미리 계산해 두었다.\n",
        "B = nc - n.sum(<<9>>) + pseudocount\n",
        "B = B / B.sum(<<10>>)\n",
        "B"
      ]
    },
    {
      "cell_type": "markdown",
      "metadata": {
        "id": "D18RzlYYhpTj"
      },
      "source": [
        "### 함수로 모아 두기\n",
        "\n",
        "여러 번 돌리기 쉽게 위의 코드를 모아서 함수로 만든다."
      ]
    },
    {
      "cell_type": "code",
      "execution_count": null,
      "metadata": {
        "id": "bWrSUUXnhpTj"
      },
      "outputs": [],
      "source": [
        "def Estep(X, B, L, W):\n",
        "    Z = np.zeros([X.shape[0], <<11>>])\n",
        "\n",
        "    for i in range(X.shape[0]):\n",
        "        for j in range(L-W+1):\n",
        "            pr_beforemotif = B[X[i, :j]]\n",
        "\n",
        "            subseq = X[i, j:j+W]\n",
        "            pr_motif = np.choose(subseq, M)\n",
        "\n",
        "            pr_aftermotif = B[X[i, j+W:]]\n",
        "\n",
        "            probs = np.hstack([pr_beforemotif, pr_motif, pr_aftermotif])\n",
        "            Z[i, j] = np.prod(probs)\n",
        "\n",
        "    return Z / Z.sum(<<12>>)[:, np.newaxis]"
      ]
    },
    {
      "cell_type": "code",
      "execution_count": null,
      "metadata": {
        "id": "yuIkz7pyhpTj"
      },
      "outputs": [],
      "source": [
        "# 서열 맨 앞부분을 모아서 만든 초기 M을 계산한다\n",
        "def initialize_M(X, nc, N, W, pseudocount):\n",
        "    M = np.zeros([N, W])\n",
        "\n",
        "    for j in range(W): # for each column of motif\n",
        "        for c in range(N): # for each character in the alphabet\n",
        "            M[c, j] = <<13>>(X[:, j] == c)\n",
        "\n",
        "    B = (nc + pseudocount) / (nc + pseudocount).sum()\n",
        "\n",
        "    return M, B"
      ]
    },
    {
      "cell_type": "code",
      "execution_count": null,
      "metadata": {
        "id": "gGROOt7phpTj"
      },
      "outputs": [],
      "source": [
        "def Mstep(X, Z, nc, N, W, pseudocount):\n",
        "    n = np.zeros([<<14>>])\n",
        "\n",
        "    for c in range(N):\n",
        "        for k in range(W):\n",
        "            n[c, k] = <<15>>([(Z[:, j] * (X[:, j+k] == c)).sum()\n",
        "                             for j in range(L-W+1)])\n",
        "\n",
        "    M = n + pseudocount\n",
        "    M = M / M.sum(axis=0)\n",
        "\n",
        "    B = nc - n.sum(axis=1) + pseudocount\n",
        "    B = B / B.sum(axis=0)\n",
        "\n",
        "    return M, B"
      ]
    },
    {
      "cell_type": "markdown",
      "metadata": {
        "id": "zNbNK8x5hpTj"
      },
      "source": [
        "모아서 돌려보기!"
      ]
    },
    {
      "cell_type": "code",
      "execution_count": null,
      "metadata": {
        "id": "57GXdycghpTj"
      },
      "outputs": [],
      "source": [
        "M, B = initialize_M(X, nc, N, W, pseudocount)\n",
        "print('== (initial) M', '=' * 30)\n",
        "print(M)\n",
        "print('== (initial) B', '=' * 30)\n",
        "print(B)\n",
        "\n",
        "Z = Estep(X, B, L, W)\n",
        "M, B = Mstep(X, Z, nc, N, W, pseudocount)\n",
        "print('== (iteration 1) M', '=' * 30)\n",
        "print(M)\n",
        "print('== (iteration 1) B', '=' * 30)\n",
        "print(B)"
      ]
    },
    {
      "cell_type": "markdown",
      "metadata": {
        "id": "earRs2mYhpTj"
      },
      "source": [
        "3번 돌려 보기"
      ]
    },
    {
      "cell_type": "code",
      "execution_count": null,
      "metadata": {
        "id": "qtUI57IqhpTk"
      },
      "outputs": [],
      "source": [
        "M, B = initialize_M(X, nc, N, W, pseudocount)\n",
        "Z = Estep(X, B, L, W)\n",
        "M, B = Mstep(X, Z, nc, N, W, pseudocount)\n",
        "Z = Estep(X, B, L, W)\n",
        "M, B = Mstep(X, Z, nc, N, W, pseudocount)\n",
        "Z = Estep(X, B, L, W)\n",
        "M, B = Mstep(X, Z, nc, N, W, pseudocount)\n",
        "\n",
        "print('== (iteration 3) M', '=' * 30)\n",
        "print(M)\n",
        "print('== (iteration 3) B', '=' * 30)\n",
        "print(B)"
      ]
    },
    {
      "cell_type": "markdown",
      "metadata": {
        "id": "XLHS7ogmhpTk"
      },
      "source": [
        "delta M이 0.01% 이하가 될 때까지 E-M 반복하기"
      ]
    },
    {
      "cell_type": "code",
      "execution_count": null,
      "metadata": {
        "id": "8APSP6BWhpTk"
      },
      "outputs": [],
      "source": [
        "deltaM_threshold = 1e-4\n",
        "datalog = {'deltaM': [], 'B': [], 'Z': [], 'M': []}\n",
        "\n",
        "M, B = initialize_M(X, nc, N, W, pseudocount)\n",
        "for i in range(<<16>>): # 최대 iteration 수를 10000으로 제한한다.\n",
        "    prev_M = M\n",
        "    Z = Estep(X, B, L, W)\n",
        "    M, B = Mstep(X, Z, nc, N, W, pseudocount)\n",
        "\n",
        "    # M 변화를 계산하고 주요 값들을 저장한다.\n",
        "    delta = (np.abs(M - <<17>>) / M).mean()\n",
        "    datalog['deltaM'].append(delta)\n",
        "    datalog['B'].append(B)\n",
        "    datalog['Z'].append(Z)\n",
        "    datalog['M'].append(M)\n",
        "    if delta < ((18)):\n",
        "        break\n",
        "\n",
        "print(f'== (iteration {i+1}) M', '=' * 30)\n",
        "print(M)\n",
        "print(f'== (iteration {i+1}) B', '=' * 30)\n",
        "print(B)"
      ]
    },
    {
      "cell_type": "markdown",
      "metadata": {
        "id": "loU6a7m0hpTk"
      },
      "source": [
        "$\\Delta M$ 과 B 변화를 찍어본다."
      ]
    },
    {
      "cell_type": "code",
      "execution_count": null,
      "metadata": {
        "id": "JKfseb7ohpTk"
      },
      "outputs": [],
      "source": [
        "from matplotlib import pyplot as plt"
      ]
    },
    {
      "cell_type": "code",
      "execution_count": null,
      "metadata": {
        "id": "i3cEqkdMhpTk"
      },
      "outputs": [],
      "source": [
        "fig, axes = plt.subplots(2, 1, figsize=(8, 4))\n",
        "axes[0].plot(datalog['deltaM'], marker='o', markersize=4)\n",
        "axes[0].axhline(deltaM_threshold, color='r', linestyle='--')\n",
        "axes[0].set_ylabel('$\\Delta M$')\n",
        "\n",
        "axes[1].plot(datalog['B'], marker='o', markersize=4, label=['A', 'C', 'G', 'T'])\n",
        "axes[1].legend()\n",
        "axes[1].set_ylabel('Freq. in B')\n",
        "axes[1].set_xlabel('Iteration')"
      ]
    },
    {
      "cell_type": "markdown",
      "metadata": {
        "id": "stmRLTDahpTk"
      },
      "source": [
        "Z, M의 변화도 한 번 찍어본다. Z에서는 맨 앞이 선택되다가 점차 뒤로 이동해서 motif가 제대로 선택되는 것이 보인다."
      ]
    },
    {
      "cell_type": "code",
      "execution_count": null,
      "metadata": {
        "id": "b1pA2zz9hpTk"
      },
      "outputs": [],
      "source": [
        "fig, axes = plt.subplots(6, 2, figsize=(6, 6))\n",
        "\n",
        "# 왼쪽에는 Z를 그림\n",
        "for ax, i in zip(axes[:, 0], range(0, len(datalog['Z']), 2)):\n",
        "    ax.pcolor(datalog['Z'][i], vmin=0, vmax=.5)\n",
        "    plt.setp(ax.get_yticklabels() + ax.get_xticklabels(), visible=False)\n",
        "    ax.set_ylabel(f'Iter. {i+1}')\n",
        "    if i == 0:\n",
        "        ax.set_title('Z')\n",
        "\n",
        "# 오른쪽에 M 그림\n",
        "for ax, i in zip(axes[:, 1], range(0, len(datalog['M']), 2)):\n",
        "    ax.pcolor(datalog['M'][i], vmin=0.1, vmax=.4)\n",
        "    plt.setp(ax.get_yticklabels() + ax.get_xticklabels(), visible=False)\n",
        "    if i == 0:\n",
        "        ax.set_title('M')\n",
        "\n",
        "plt.tight_layout()"
      ]
    },
    {
      "cell_type": "markdown",
      "metadata": {
        "id": "U3IjUsMdhpTk"
      },
      "source": [
        "Consensus 모티프 찍어보기"
      ]
    },
    {
      "cell_type": "code",
      "execution_count": null,
      "metadata": {
        "id": "6wMyvKrJhpTk"
      },
      "outputs": [],
      "source": [
        "# M 에서 최대 확률인 염기들을 모은 consensus\n",
        "consensus = ''.join(np.choose(<<19>>(axis=0), 'ACGT'))\n",
        "\n",
        "# Z 에서 가장 확률이 높은 부분들을 고른 instances\n",
        "instances = [seqs[i][j:j+W] for i, j in enumerate(<<20>>(axis=1))]\n",
        "\n",
        "print(consensus, '\\t(consensus)')\n",
        "print('--' * 10)\n",
        "print(*instances, sep='\\n')"
      ]
    }
  ],
  "metadata": {
    "interpreter": {
      "hash": "aa89d62b8dcb58c24721fadbe84c295a8a712e290dc079849fd5d0ad10101e3d"
    },
    "kernelspec": {
      "display_name": "Python 3.9.2 ('lab2')",
      "language": "python",
      "name": "python3"
    },
    "language_info": {
      "codemirror_mode": {
        "name": "ipython",
        "version": 3
      },
      "file_extension": ".py",
      "mimetype": "text/x-python",
      "name": "python",
      "nbconvert_exporter": "python",
      "pygments_lexer": "ipython3",
      "version": "3.9.2"
    },
    "orig_nbformat": 4,
    "colab": {
      "provenance": []
    }
  },
  "nbformat": 4,
  "nbformat_minor": 0
}