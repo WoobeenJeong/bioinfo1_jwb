{
  "cells": [
    {
      "cell_type": "markdown",
      "metadata": {
        "id": "view-in-github",
        "colab_type": "text"
      },
      "source": [
        "<a href=\"https://colab.research.google.com/github/WoobeenJeong/bioinfo1_jwb/blob/main/Project_003.ipynb\" target=\"_parent\"><img src=\"https://colab.research.google.com/assets/colab-badge.svg\" alt=\"Open In Colab\"/></a>"
      ]
    },
    {
      "cell_type": "markdown",
      "metadata": {
        "id": "bpP3b34tMVlI"
      },
      "source": [
        "**1) Data mounting**"
      ]
    },
    {
      "cell_type": "code",
      "execution_count": 1,
      "metadata": {
        "colab": {
          "base_uri": "https://localhost:8080/"
        },
        "id": "ucOASOB2MKSS",
        "outputId": "717024ad-92ff-42be-c5f6-db210998630c"
      },
      "outputs": [
        {
          "output_type": "stream",
          "name": "stdout",
          "text": [
            "Mounted at /content/drive\n"
          ]
        }
      ],
      "source": [
        "from google.colab import drive\n",
        "drive.mount('/content/drive')"
      ]
    },
    {
      "cell_type": "markdown",
      "metadata": {
        "id": "HGeYUN4bNg0Y"
      },
      "source": [
        "**2) Environment setting**"
      ]
    },
    {
      "cell_type": "code",
      "execution_count": null,
      "metadata": {
        "id": "qpAeDN_xNoiI"
      },
      "outputs": [],
      "source": [
        "!git clone https://github.com/hyeshik/colab-biolab.git\n",
        "!cd colab-biolab && bash tools/setup.sh\n",
        "exec(open('colab-biolab/tools/activate_conda.py').read())"
      ]
    },
    {
      "cell_type": "code",
      "execution_count": null,
      "metadata": {
        "id": "_eQeafJils95"
      },
      "outputs": [],
      "source": [
        "!conda install -y bedtools bioawk samtools"
      ]
    },
    {
      "cell_type": "markdown",
      "metadata": {
        "id": "ZtTJ5WTneSTX"
      },
      "source": [
        "**3) Data loading & check**"
      ]
    },
    {
      "cell_type": "code",
      "execution_count": null,
      "metadata": {
        "colab": {
          "base_uri": "https://localhost:8080/"
        },
        "id": "3ovWb7O0eYGf",
        "outputId": "4c01f88e-5c37-4669-fc75-55e65d7ab43f"
      },
      "outputs": [
        {
          "output_type": "stream",
          "name": "stdout",
          "text": [
            "/content/drive/MyDrive/binfo1-work\n"
          ]
        }
      ],
      "source": [
        "%cd /content/drive/MyDrive/binfo1-work"
      ]
    },
    {
      "cell_type": "code",
      "execution_count": null,
      "metadata": {
        "id": "bu9blLM8lCjn"
      },
      "outputs": [],
      "source": [
        "!ls -al /content/drive/MyDrive/binfo1-work/"
      ]
    },
    {
      "cell_type": "code",
      "execution_count": null,
      "metadata": {
        "id": "OrbqDw1tkugu"
      },
      "outputs": [],
      "source": [
        "!md5sum /content/drive/MyDrive/binfo1-work/*"
      ]
    },
    {
      "cell_type": "markdown",
      "metadata": {
        "id": "ziU8sAjtlk1T"
      },
      "source": [
        "**4) Background setting**"
      ]
    },
    {
      "cell_type": "code",
      "execution_count": 4,
      "metadata": {
        "colab": {
          "base_uri": "https://localhost:8080/"
        },
        "id": "bXc89_vbuqLF",
        "outputId": "0a87b221-f352-464b-de14-c37652d9336a"
      },
      "outputs": [
        {
          "output_type": "stream",
          "name": "stdout",
          "text": [
            "/content/drive/MyDrive/binfo1-work\n"
          ]
        }
      ],
      "source": [
        "%cd /content/drive/MyDrive/binfo1-work\n",
        "import pandas as pd\n",
        "import numpy as np\n",
        "import matplotlib.pyplot as plt\n",
        "import re\n",
        "from collections import Counter"
      ]
    },
    {
      "cell_type": "markdown",
      "metadata": {
        "id": "Acfq33BwuWG8"
      },
      "source": [
        "**5) Target region on CLIP-seq using gencode.gtf**"
      ]
    },
    {
      "cell_type": "markdown",
      "metadata": {
        "id": "ru1osIY-PchC"
      },
      "source": [
        "먼저 GTF파일은 genecode로부터 M32버전이 (2023.02월에) 나왔으며  \n",
        "M32(GRCm39) Refseq 자료 중 chr9에 대해 확인 할 것  \n",
        "NCBI RefSeq에서도 Mus musculus strain C57BL/6J chromosome 9, GRCm39 존재\n",
        "\n",
        "1) C=Shannon’s entrophy를 CRES: Crosslinking-induced reverse transcription error score로 가져감  \n",
        "2) 이때, insertion은 무시 substitution과 deletion고려  \n",
        "3) FDR은 permutation으로 구함   \n",
        "4) Read는 rRNA,tRNA,adapte제외하고 GSNAP의 Refseq에 align  \n",
        "5) 이를 바탕으로, 먼저 CRES(0.8) 상 low depth positio이 130 reads 이하  \n",
        "6) LOESS smoothing (regression) a=0.5사용 medium depth positon 250 read이하  \n",
        "7) FDR(0.001)상 high depth position >250 read 사용  "
      ]
    },
    {
      "cell_type": "code",
      "execution_count": null,
      "metadata": {
        "colab": {
          "base_uri": "https://localhost:8080/"
        },
        "id": "sqRqHaX7PcQj",
        "outputId": "75381450-bce1-4123-ef72-b54b9707b31e"
      },
      "outputs": [
        {
          "output_type": "stream",
          "name": "stdout",
          "text": [
            "gzip: gencode.vM32.annotation.gtf.gz: No such file or directory\n"
          ]
        }
      ],
      "source": [
        "!gzip -d gencode.vM32.annotation.gtf.gz"
      ]
    },
    {
      "cell_type": "code",
      "execution_count": null,
      "metadata": {
        "id": "45-1kKZdWWqh"
      },
      "outputs": [],
      "source": [
        "!grep 'chr9' gencode.vM32.annotation.gtf > gencode.vM32.chr9.gtf"
      ]
    },
    {
      "cell_type": "code",
      "execution_count": null,
      "metadata": {
        "id": "n89Hr5-LacUm"
      },
      "outputs": [],
      "source": [
        "!head gencode.vM32.chr9.gtf"
      ]
    },
    {
      "cell_type": "code",
      "execution_count": null,
      "metadata": {
        "colab": {
          "base_uri": "https://localhost:8080/"
        },
        "id": "L1KLh3PmbfRt",
        "outputId": "b9a6700a-9322-48cf-a21c-766c90030fd1"
      },
      "outputs": [
        {
          "name": "stdout",
          "output_type": "stream",
          "text": [
            "3038669\n",
            "124252776\n"
          ]
        }
      ],
      "source": [
        "!awk -F'\\t' '{if ($3 == \"gene\") print $4}' gencode.vM32.chr9.gtf | sort -n | head -n 1\n",
        "!awk -F'\\t' '{if ($3 == \"gene\") print $5}' gencode.vM32.chr9.gtf | sort -n | tail -n 1"
      ]
    },
    {
      "cell_type": "code",
      "execution_count": 5,
      "metadata": {
        "colab": {
          "base_uri": "https://localhost:8080/"
        },
        "id": "TszRspV4c9oH",
        "outputId": "8293c5ea-3438-450c-d0ff-3261455c1f3b"
      },
      "outputs": [
        {
          "output_type": "stream",
          "name": "stdout",
          "text": [
            "1696165\n"
          ]
        }
      ],
      "source": [
        "!samtools view -b -o CLIP-let7g.bam CLIP-35L33G.bam chr9:3038669-124252776\n",
        "!samtools view CLIP-let7g.bam | wc -l"
      ]
    },
    {
      "cell_type": "code",
      "source": [
        "!samtools index CLIP-let7g.bam"
      ],
      "metadata": {
        "id": "rRu17HcRrfLm"
      },
      "execution_count": 6,
      "outputs": []
    },
    {
      "cell_type": "code",
      "source": [
        "!samtools view -F 16 CLIP-let7g.bam | wc -l"
      ],
      "metadata": {
        "colab": {
          "base_uri": "https://localhost:8080/"
        },
        "id": "X8mQ-GpJvFMl",
        "outputId": "08c68570-75a3-4b73-85f8-82166daffcd5"
      },
      "execution_count": 7,
      "outputs": [
        {
          "output_type": "stream",
          "name": "stdout",
          "text": [
            "905001\n"
          ]
        }
      ]
    },
    {
      "cell_type": "markdown",
      "source": [
        "(+)stand만 추출, 절반이 사라짐"
      ],
      "metadata": {
        "id": "pY7vRKoklFJl"
      }
    },
    {
      "cell_type": "markdown",
      "source": [],
      "metadata": {
        "id": "NBCVT7RDlFFj"
      }
    },
    {
      "cell_type": "code",
      "source": [
        "!samtools view -b -F 0x10 -o forward-CLIP-let7g.bam CLIP-let7g.bam"
      ],
      "metadata": {
        "id": "uju0TMGbwV8g"
      },
      "execution_count": 9,
      "outputs": []
    },
    {
      "cell_type": "code",
      "source": [
        "!samtools view -f 16 forward-CLIP-let7g.bam  | wc -l"
      ],
      "metadata": {
        "colab": {
          "base_uri": "https://localhost:8080/"
        },
        "id": "u1N1nVLqwjar",
        "outputId": "3e74b794-70fa-4589-9dff-23ea51a9b9de"
      },
      "execution_count": null,
      "outputs": [
        {
          "output_type": "stream",
          "name": "stdout",
          "text": [
            "0\n"
          ]
        }
      ]
    },
    {
      "cell_type": "code",
      "source": [
        "!samtools view -F 16 forward-CLIP-let7g.bam  | wc -l"
      ],
      "metadata": {
        "colab": {
          "base_uri": "https://localhost:8080/"
        },
        "id": "JompkscdwtJt",
        "outputId": "8f3f0bbd-3c88-44d3-8aff-793f9376604b"
      },
      "execution_count": 10,
      "outputs": [
        {
          "output_type": "stream",
          "name": "stdout",
          "text": [
            "905001\n"
          ]
        }
      ]
    },
    {
      "cell_type": "markdown",
      "source": [
        "QC는 상관없을 것으로 생각되나, secondary와 supplimentary read는 제거해야함 = secondary는 하나의 서열이 다른 곳에도 mapping될 수 있음을 고려, "
      ],
      "metadata": {
        "id": "T4-BSbVwlM8U"
      }
    },
    {
      "cell_type": "code",
      "source": [
        "!samtools flagstat forward-CLIP-let7g.bam | head"
      ],
      "metadata": {
        "colab": {
          "base_uri": "https://localhost:8080/"
        },
        "id": "kGNzgChB8u_W",
        "outputId": "a2465bd2-adb7-47d8-bc6a-dbc19f6bca3d"
      },
      "execution_count": null,
      "outputs": [
        {
          "output_type": "stream",
          "name": "stdout",
          "text": [
            "905001 + 0 in total (QC-passed reads + QC-failed reads)\n",
            "339889 + 0 secondary\n",
            "189 + 0 supplementary\n",
            "0 + 0 duplicates\n",
            "905001 + 0 mapped (100.00% : N/A)\n",
            "0 + 0 paired in sequencing\n",
            "0 + 0 read1\n",
            "0 + 0 read2\n",
            "0 + 0 properly paired (N/A : N/A)\n",
            "0 + 0 with itself and mate mapped\n"
          ]
        }
      ]
    },
    {
      "cell_type": "code",
      "source": [
        "!samtools view -b -F 0x900 -o first-forward-CLIP-let7g.bam forward-CLIP-let7g.bam"
      ],
      "metadata": {
        "id": "XbWNlBy2lywR"
      },
      "execution_count": 11,
      "outputs": []
    },
    {
      "cell_type": "code",
      "source": [
        "!samtools view -F 16 first-forward-CLIP-let7g.bam  | wc -l"
      ],
      "metadata": {
        "colab": {
          "base_uri": "https://localhost:8080/"
        },
        "id": "JLQwwtgOmE0C",
        "outputId": "b42be9f4-921d-402a-cb27-cff0b629c7a2"
      },
      "execution_count": 12,
      "outputs": [
        {
          "output_type": "stream",
          "name": "stdout",
          "text": [
            "564923\n"
          ]
        }
      ]
    },
    {
      "cell_type": "markdown",
      "source": [
        "estimate가 0.001 이었으니, MAPQ가 30이다."
      ],
      "metadata": {
        "id": "aGNNpGBkvfm2"
      }
    },
    {
      "cell_type": "code",
      "source": [
        "!samtools view -q 30 -b first-forward-CLIP-let7g.bam -o check-CLIP-let7g.bam\n",
        "!wc -l check-CLIP-let7g.bam"
      ],
      "metadata": {
        "colab": {
          "base_uri": "https://localhost:8080/"
        },
        "id": "JL3564nzohTR",
        "outputId": "f79d3d35-0ae2-46f4-a3ae-96766eec7f9a"
      },
      "execution_count": 102,
      "outputs": [
        {
          "output_type": "stream",
          "name": "stdout",
          "text": [
            "73508 check-CLIP-let7g.bam\n"
          ]
        }
      ]
    },
    {
      "cell_type": "code",
      "execution_count": 103,
      "metadata": {
        "colab": {
          "base_uri": "https://localhost:8080/"
        },
        "id": "me3Nx0ZxdLPm",
        "outputId": "a29f6278-a550-4f0e-be2c-b36fa6a49576"
      },
      "outputs": [
        {
          "output_type": "stream",
          "name": "stdout",
          "text": [
            "18224608 check-CLIP-let7g.pileup\n"
          ]
        }
      ],
      "source": [
        "!samtools mpileup check-CLIP-let7g.bam 2>/dev/null > check-CLIP-let7g.pileup\n",
        "!wc -l check-CLIP-let7g.pileup"
      ]
    },
    {
      "cell_type": "code",
      "execution_count": 104,
      "metadata": {
        "colab": {
          "base_uri": "https://localhost:8080/"
        },
        "id": "T5uYzX3EdqG2",
        "outputId": "c97fed98-2b3c-4a16-cf9d-e2c3fd140386"
      },
      "outputs": [
        {
          "output_type": "stream",
          "name": "stdout",
          "text": [
            "chr9\t124220663\tN\t1\tC\t2\n",
            "chr9\t124220664\tN\t1\tT$\t2\n"
          ]
        }
      ],
      "source": [
        "!awk '$2 >= 3038669 && $2 <= 124252714 { print $0; }' check-CLIP-let7g.pileup > check-CLIP-let7g-gene.pileup\n",
        "!tail -n 2 check-CLIP-let7g-gene.pileup"
      ]
    },
    {
      "cell_type": "code",
      "execution_count": 105,
      "metadata": {
        "colab": {
          "base_uri": "https://localhost:8080/",
          "height": 206
        },
        "id": "CCeyuqDje2VW",
        "outputId": "2b5eb37b-819c-4bbd-8e68-2b01aec161cd"
      },
      "outputs": [
        {
          "output_type": "execute_result",
          "data": {
            "text/plain": [
              "         chrom        pos ref  count basereads quals\n",
              "18224603  chr9  124220660   N      1         C     @\n",
              "18224604  chr9  124220661   N      1         C     C\n",
              "18224605  chr9  124220662   N      1         C     C\n",
              "18224606  chr9  124220663   N      1         C     2\n",
              "18224607  chr9  124220664   N      1        T$     2"
            ],
            "text/html": [
              "\n",
              "  <div id=\"df-fb049ab8-9e8a-466e-9594-659867e7c93c\">\n",
              "    <div class=\"colab-df-container\">\n",
              "      <div>\n",
              "<style scoped>\n",
              "    .dataframe tbody tr th:only-of-type {\n",
              "        vertical-align: middle;\n",
              "    }\n",
              "\n",
              "    .dataframe tbody tr th {\n",
              "        vertical-align: top;\n",
              "    }\n",
              "\n",
              "    .dataframe thead th {\n",
              "        text-align: right;\n",
              "    }\n",
              "</style>\n",
              "<table border=\"1\" class=\"dataframe\">\n",
              "  <thead>\n",
              "    <tr style=\"text-align: right;\">\n",
              "      <th></th>\n",
              "      <th>chrom</th>\n",
              "      <th>pos</th>\n",
              "      <th>ref</th>\n",
              "      <th>count</th>\n",
              "      <th>basereads</th>\n",
              "      <th>quals</th>\n",
              "    </tr>\n",
              "  </thead>\n",
              "  <tbody>\n",
              "    <tr>\n",
              "      <th>18224603</th>\n",
              "      <td>chr9</td>\n",
              "      <td>124220660</td>\n",
              "      <td>N</td>\n",
              "      <td>1</td>\n",
              "      <td>C</td>\n",
              "      <td>@</td>\n",
              "    </tr>\n",
              "    <tr>\n",
              "      <th>18224604</th>\n",
              "      <td>chr9</td>\n",
              "      <td>124220661</td>\n",
              "      <td>N</td>\n",
              "      <td>1</td>\n",
              "      <td>C</td>\n",
              "      <td>C</td>\n",
              "    </tr>\n",
              "    <tr>\n",
              "      <th>18224605</th>\n",
              "      <td>chr9</td>\n",
              "      <td>124220662</td>\n",
              "      <td>N</td>\n",
              "      <td>1</td>\n",
              "      <td>C</td>\n",
              "      <td>C</td>\n",
              "    </tr>\n",
              "    <tr>\n",
              "      <th>18224606</th>\n",
              "      <td>chr9</td>\n",
              "      <td>124220663</td>\n",
              "      <td>N</td>\n",
              "      <td>1</td>\n",
              "      <td>C</td>\n",
              "      <td>2</td>\n",
              "    </tr>\n",
              "    <tr>\n",
              "      <th>18224607</th>\n",
              "      <td>chr9</td>\n",
              "      <td>124220664</td>\n",
              "      <td>N</td>\n",
              "      <td>1</td>\n",
              "      <td>T$</td>\n",
              "      <td>2</td>\n",
              "    </tr>\n",
              "  </tbody>\n",
              "</table>\n",
              "</div>\n",
              "      <button class=\"colab-df-convert\" onclick=\"convertToInteractive('df-fb049ab8-9e8a-466e-9594-659867e7c93c')\"\n",
              "              title=\"Convert this dataframe to an interactive table.\"\n",
              "              style=\"display:none;\">\n",
              "        \n",
              "  <svg xmlns=\"http://www.w3.org/2000/svg\" height=\"24px\"viewBox=\"0 0 24 24\"\n",
              "       width=\"24px\">\n",
              "    <path d=\"M0 0h24v24H0V0z\" fill=\"none\"/>\n",
              "    <path d=\"M18.56 5.44l.94 2.06.94-2.06 2.06-.94-2.06-.94-.94-2.06-.94 2.06-2.06.94zm-11 1L8.5 8.5l.94-2.06 2.06-.94-2.06-.94L8.5 2.5l-.94 2.06-2.06.94zm10 10l.94 2.06.94-2.06 2.06-.94-2.06-.94-.94-2.06-.94 2.06-2.06.94z\"/><path d=\"M17.41 7.96l-1.37-1.37c-.4-.4-.92-.59-1.43-.59-.52 0-1.04.2-1.43.59L10.3 9.45l-7.72 7.72c-.78.78-.78 2.05 0 2.83L4 21.41c.39.39.9.59 1.41.59.51 0 1.02-.2 1.41-.59l7.78-7.78 2.81-2.81c.8-.78.8-2.07 0-2.86zM5.41 20L4 18.59l7.72-7.72 1.47 1.35L5.41 20z\"/>\n",
              "  </svg>\n",
              "      </button>\n",
              "      \n",
              "  <style>\n",
              "    .colab-df-container {\n",
              "      display:flex;\n",
              "      flex-wrap:wrap;\n",
              "      gap: 12px;\n",
              "    }\n",
              "\n",
              "    .colab-df-convert {\n",
              "      background-color: #E8F0FE;\n",
              "      border: none;\n",
              "      border-radius: 50%;\n",
              "      cursor: pointer;\n",
              "      display: none;\n",
              "      fill: #1967D2;\n",
              "      height: 32px;\n",
              "      padding: 0 0 0 0;\n",
              "      width: 32px;\n",
              "    }\n",
              "\n",
              "    .colab-df-convert:hover {\n",
              "      background-color: #E2EBFA;\n",
              "      box-shadow: 0px 1px 2px rgba(60, 64, 67, 0.3), 0px 1px 3px 1px rgba(60, 64, 67, 0.15);\n",
              "      fill: #174EA6;\n",
              "    }\n",
              "\n",
              "    [theme=dark] .colab-df-convert {\n",
              "      background-color: #3B4455;\n",
              "      fill: #D2E3FC;\n",
              "    }\n",
              "\n",
              "    [theme=dark] .colab-df-convert:hover {\n",
              "      background-color: #434B5C;\n",
              "      box-shadow: 0px 1px 3px 1px rgba(0, 0, 0, 0.15);\n",
              "      filter: drop-shadow(0px 1px 2px rgba(0, 0, 0, 0.3));\n",
              "      fill: #FFFFFF;\n",
              "    }\n",
              "  </style>\n",
              "\n",
              "      <script>\n",
              "        const buttonEl =\n",
              "          document.querySelector('#df-fb049ab8-9e8a-466e-9594-659867e7c93c button.colab-df-convert');\n",
              "        buttonEl.style.display =\n",
              "          google.colab.kernel.accessAllowed ? 'block' : 'none';\n",
              "\n",
              "        async function convertToInteractive(key) {\n",
              "          const element = document.querySelector('#df-fb049ab8-9e8a-466e-9594-659867e7c93c');\n",
              "          const dataTable =\n",
              "            await google.colab.kernel.invokeFunction('convertToInteractive',\n",
              "                                                     [key], {});\n",
              "          if (!dataTable) return;\n",
              "\n",
              "          const docLinkHtml = 'Like what you see? Visit the ' +\n",
              "            '<a target=\"_blank\" href=https://colab.research.google.com/notebooks/data_table.ipynb>data table notebook</a>'\n",
              "            + ' to learn more about interactive tables.';\n",
              "          element.innerHTML = '';\n",
              "          dataTable['output_type'] = 'display_data';\n",
              "          await google.colab.output.renderOutput(dataTable, element);\n",
              "          const docLink = document.createElement('div');\n",
              "          docLink.innerHTML = docLinkHtml;\n",
              "          element.appendChild(docLink);\n",
              "        }\n",
              "      </script>\n",
              "    </div>\n",
              "  </div>\n",
              "  "
            ]
          },
          "metadata": {},
          "execution_count": 105
        }
      ],
      "source": [
        "pileup = pd.read_csv('check-CLIP-let7g-gene.pileup', sep='\\t', names=['chrom', 'pos', 'ref', 'count', 'basereads', 'quals'])\n",
        "pileup.tail()"
      ]
    },
    {
      "cell_type": "markdown",
      "source": [
        "count의 개수가 최대 / 최소 얼마이고 볼 만한 수준인지 확인"
      ],
      "metadata": {
        "id": "cXeYxxROqzkb"
      }
    },
    {
      "cell_type": "code",
      "execution_count": 106,
      "metadata": {
        "colab": {
          "base_uri": "https://localhost:8080/"
        },
        "id": "ZUVRFUq0kBY-",
        "outputId": "b7943df5-e565-4e89-ab06-bab4c496704f"
      },
      "outputs": [
        {
          "output_type": "execute_result",
          "data": {
            "text/plain": [
              "1740"
            ]
          },
          "metadata": {},
          "execution_count": 106
        }
      ],
      "source": [
        "len(np.unique(pileup['count']))"
      ]
    },
    {
      "cell_type": "code",
      "execution_count": 107,
      "metadata": {
        "colab": {
          "base_uri": "https://localhost:8080/"
        },
        "id": "ZdHz2Glifq6U",
        "outputId": "9436b571-ee72-42b9-e9d4-d3f0399c0cc3"
      },
      "outputs": [
        {
          "output_type": "execute_result",
          "data": {
            "text/plain": [
              "count    1.822461e+07\n",
              "mean     1.073809e+01\n",
              "std      4.920374e+01\n",
              "min      0.000000e+00\n",
              "25%      2.000000e+00\n",
              "50%      4.000000e+00\n",
              "75%      8.000000e+00\n",
              "max      7.994000e+03\n",
              "Name: count, dtype: float64"
            ]
          },
          "metadata": {},
          "execution_count": 107
        }
      ],
      "source": [
        "pileup['count'].describe()"
      ]
    },
    {
      "cell_type": "markdown",
      "metadata": {
        "id": "Ee07rqNgkvp3"
      },
      "source": [
        "위를 보면 알수 있듯이 한 75%까지는 10개정도만 count되어 있는데, 무려 7993 read가 count되는 경우도 있음.  \n",
        "이경우는 좀 궁금하긴 하다만, 너무 크기 때문에, threshold <=50 reads로 두고 진행   \n",
        "(Shannon에서 depth 50으로 했으므로)"
      ]
    },
    {
      "cell_type": "code",
      "execution_count": 108,
      "metadata": {
        "id": "ySd4VMiakPa4"
      },
      "outputs": [],
      "source": [
        "f50pileup = pileup[pileup['count'] > 50]"
      ]
    },
    {
      "cell_type": "code",
      "execution_count": 109,
      "metadata": {
        "colab": {
          "base_uri": "https://localhost:8080/"
        },
        "id": "5H2WHsXqkeEh",
        "outputId": "63f745c3-7369-4eba-8151-3d7b889ed243"
      },
      "outputs": [
        {
          "output_type": "execute_result",
          "data": {
            "text/plain": [
              "1689"
            ]
          },
          "metadata": {},
          "execution_count": 109
        }
      ],
      "source": [
        "len(np.unique(f50pileup['count']))"
      ]
    },
    {
      "cell_type": "code",
      "execution_count": 110,
      "metadata": {
        "colab": {
          "base_uri": "https://localhost:8080/"
        },
        "id": "7d_gZXbIndXq",
        "outputId": "87d720f7-2e24-4c7f-b6b7-3eddc252607b"
      },
      "outputs": [
        {
          "output_type": "execute_result",
          "data": {
            "text/plain": [
              "534478"
            ]
          },
          "metadata": {},
          "execution_count": 110
        }
      ],
      "source": [
        "len(np.unique(f50pileup['pos']))"
      ]
    },
    {
      "cell_type": "code",
      "execution_count": 111,
      "metadata": {
        "colab": {
          "base_uri": "https://localhost:8080/"
        },
        "id": "oh8Uz-iblXiT",
        "outputId": "bc00d1fe-93b7-437a-f1c8-220c43f36ddf"
      },
      "outputs": [
        {
          "output_type": "execute_result",
          "data": {
            "text/plain": [
              "count    534478.000000\n",
              "mean        140.538063\n",
              "std         251.364587\n",
              "min          51.000000\n",
              "25%          58.000000\n",
              "50%          72.000000\n",
              "75%         108.000000\n",
              "max        7994.000000\n",
              "Name: count, dtype: float64"
            ]
          },
          "metadata": {},
          "execution_count": 111
        }
      ],
      "source": [
        "f50pileup['count'].describe()"
      ]
    },
    {
      "cell_type": "code",
      "execution_count": 112,
      "metadata": {
        "colab": {
          "base_uri": "https://localhost:8080/"
        },
        "id": "-G-TKmS2m0bj",
        "outputId": "5f3ad189-7b65-4641-9d16-a116fc83628b"
      },
      "outputs": [
        {
          "output_type": "execute_result",
          "data": {
            "text/plain": [
              "(123421315, 3359542)"
            ]
          },
          "metadata": {},
          "execution_count": 112
        }
      ],
      "source": [
        "max(f50pileup['pos']),min(f50pileup['pos'])"
      ]
    },
    {
      "cell_type": "markdown",
      "metadata": {
        "id": "dZjYsCGNlWU_"
      },
      "source": [
        "match와 substitution, deletion을 사용할 것이므로, 나머지에 해당하는 tag들은 제거.  \n",
        "**여기서 Deletion은 포함하는 경우를 고려하는 것을 고민할 것**"
      ]
    },
    {
      "cell_type": "code",
      "execution_count": 114,
      "metadata": {
        "colab": {
          "base_uri": "https://localhost:8080/"
        },
        "id": "M9aQMeXsm6MK",
        "outputId": "7525191b-16e2-41c9-80a5-4844600a29c9"
      },
      "outputs": [
        {
          "output_type": "stream",
          "name": "stderr",
          "text": [
            "<ipython-input-114-854502dbb2ce>:2: SettingWithCopyWarning: \n",
            "A value is trying to be set on a copy of a slice from a DataFrame.\n",
            "Try using .loc[row_indexer,col_indexer] = value instead\n",
            "\n",
            "See the caveats in the documentation: https://pandas.pydata.org/pandas-docs/stable/user_guide/indexing.html#returning-a-view-versus-a-copy\n",
            "  f50pileup.loc[:, 'matches'] = f50pileup['basereads'].apply(lambda x: toremove.sub('', x))\n"
          ]
        }
      ],
      "source": [
        "toremove = re.compile(r'[<>$*#+-]|\\^.')\n",
        "f50pileup.loc[:, 'matches'] = f50pileup['basereads'].apply(lambda x: toremove.sub('', x))"
      ]
    },
    {
      "cell_type": "code",
      "execution_count": 115,
      "metadata": {
        "colab": {
          "base_uri": "https://localhost:8080/",
          "height": 206
        },
        "id": "9JMYEv04nuE5",
        "outputId": "4205fd60-4566-48dc-ebc8-f1cbcd72a280"
      },
      "outputs": [
        {
          "output_type": "execute_result",
          "data": {
            "text/plain": [
              "      chrom      pos                                            matches\n",
              "21616  chr9  3359542  GGGGGGGGGGGGGGGGGGGGGGGGGGGGGGGGGGGGGGGGGGGGGG...\n",
              "21617  chr9  3359543  GGGGGGGGGGGGGGGGGGGGGGGGGGGGGGGGGGGGGGGGGGGGGG...\n",
              "21618  chr9  3359544  AAAAAAAAAAAAAAAAAAAAAAAAAAAAAAAAAAAAAAAAAAAAAA...\n",
              "21619  chr9  3359545  GGGGGGGGGGGGGGGGGGGGGGGGGGGGGGGGGGGGGGGGGGGGGG...\n",
              "21620  chr9  3359546  TTTTTTTTTTTTTTTTTTTTTTTTTTTTTTTTTTTTTTTTTTTTTT..."
            ],
            "text/html": [
              "\n",
              "  <div id=\"df-a5f3a208-122a-4147-b5e3-da87fd2aabc0\">\n",
              "    <div class=\"colab-df-container\">\n",
              "      <div>\n",
              "<style scoped>\n",
              "    .dataframe tbody tr th:only-of-type {\n",
              "        vertical-align: middle;\n",
              "    }\n",
              "\n",
              "    .dataframe tbody tr th {\n",
              "        vertical-align: top;\n",
              "    }\n",
              "\n",
              "    .dataframe thead th {\n",
              "        text-align: right;\n",
              "    }\n",
              "</style>\n",
              "<table border=\"1\" class=\"dataframe\">\n",
              "  <thead>\n",
              "    <tr style=\"text-align: right;\">\n",
              "      <th></th>\n",
              "      <th>chrom</th>\n",
              "      <th>pos</th>\n",
              "      <th>matches</th>\n",
              "    </tr>\n",
              "  </thead>\n",
              "  <tbody>\n",
              "    <tr>\n",
              "      <th>21616</th>\n",
              "      <td>chr9</td>\n",
              "      <td>3359542</td>\n",
              "      <td>GGGGGGGGGGGGGGGGGGGGGGGGGGGGGGGGGGGGGGGGGGGGGG...</td>\n",
              "    </tr>\n",
              "    <tr>\n",
              "      <th>21617</th>\n",
              "      <td>chr9</td>\n",
              "      <td>3359543</td>\n",
              "      <td>GGGGGGGGGGGGGGGGGGGGGGGGGGGGGGGGGGGGGGGGGGGGGG...</td>\n",
              "    </tr>\n",
              "    <tr>\n",
              "      <th>21618</th>\n",
              "      <td>chr9</td>\n",
              "      <td>3359544</td>\n",
              "      <td>AAAAAAAAAAAAAAAAAAAAAAAAAAAAAAAAAAAAAAAAAAAAAA...</td>\n",
              "    </tr>\n",
              "    <tr>\n",
              "      <th>21619</th>\n",
              "      <td>chr9</td>\n",
              "      <td>3359545</td>\n",
              "      <td>GGGGGGGGGGGGGGGGGGGGGGGGGGGGGGGGGGGGGGGGGGGGGG...</td>\n",
              "    </tr>\n",
              "    <tr>\n",
              "      <th>21620</th>\n",
              "      <td>chr9</td>\n",
              "      <td>3359546</td>\n",
              "      <td>TTTTTTTTTTTTTTTTTTTTTTTTTTTTTTTTTTTTTTTTTTTTTT...</td>\n",
              "    </tr>\n",
              "  </tbody>\n",
              "</table>\n",
              "</div>\n",
              "      <button class=\"colab-df-convert\" onclick=\"convertToInteractive('df-a5f3a208-122a-4147-b5e3-da87fd2aabc0')\"\n",
              "              title=\"Convert this dataframe to an interactive table.\"\n",
              "              style=\"display:none;\">\n",
              "        \n",
              "  <svg xmlns=\"http://www.w3.org/2000/svg\" height=\"24px\"viewBox=\"0 0 24 24\"\n",
              "       width=\"24px\">\n",
              "    <path d=\"M0 0h24v24H0V0z\" fill=\"none\"/>\n",
              "    <path d=\"M18.56 5.44l.94 2.06.94-2.06 2.06-.94-2.06-.94-.94-2.06-.94 2.06-2.06.94zm-11 1L8.5 8.5l.94-2.06 2.06-.94-2.06-.94L8.5 2.5l-.94 2.06-2.06.94zm10 10l.94 2.06.94-2.06 2.06-.94-2.06-.94-.94-2.06-.94 2.06-2.06.94z\"/><path d=\"M17.41 7.96l-1.37-1.37c-.4-.4-.92-.59-1.43-.59-.52 0-1.04.2-1.43.59L10.3 9.45l-7.72 7.72c-.78.78-.78 2.05 0 2.83L4 21.41c.39.39.9.59 1.41.59.51 0 1.02-.2 1.41-.59l7.78-7.78 2.81-2.81c.8-.78.8-2.07 0-2.86zM5.41 20L4 18.59l7.72-7.72 1.47 1.35L5.41 20z\"/>\n",
              "  </svg>\n",
              "      </button>\n",
              "      \n",
              "  <style>\n",
              "    .colab-df-container {\n",
              "      display:flex;\n",
              "      flex-wrap:wrap;\n",
              "      gap: 12px;\n",
              "    }\n",
              "\n",
              "    .colab-df-convert {\n",
              "      background-color: #E8F0FE;\n",
              "      border: none;\n",
              "      border-radius: 50%;\n",
              "      cursor: pointer;\n",
              "      display: none;\n",
              "      fill: #1967D2;\n",
              "      height: 32px;\n",
              "      padding: 0 0 0 0;\n",
              "      width: 32px;\n",
              "    }\n",
              "\n",
              "    .colab-df-convert:hover {\n",
              "      background-color: #E2EBFA;\n",
              "      box-shadow: 0px 1px 2px rgba(60, 64, 67, 0.3), 0px 1px 3px 1px rgba(60, 64, 67, 0.15);\n",
              "      fill: #174EA6;\n",
              "    }\n",
              "\n",
              "    [theme=dark] .colab-df-convert {\n",
              "      background-color: #3B4455;\n",
              "      fill: #D2E3FC;\n",
              "    }\n",
              "\n",
              "    [theme=dark] .colab-df-convert:hover {\n",
              "      background-color: #434B5C;\n",
              "      box-shadow: 0px 1px 3px 1px rgba(0, 0, 0, 0.15);\n",
              "      filter: drop-shadow(0px 1px 2px rgba(0, 0, 0, 0.3));\n",
              "      fill: #FFFFFF;\n",
              "    }\n",
              "  </style>\n",
              "\n",
              "      <script>\n",
              "        const buttonEl =\n",
              "          document.querySelector('#df-a5f3a208-122a-4147-b5e3-da87fd2aabc0 button.colab-df-convert');\n",
              "        buttonEl.style.display =\n",
              "          google.colab.kernel.accessAllowed ? 'block' : 'none';\n",
              "\n",
              "        async function convertToInteractive(key) {\n",
              "          const element = document.querySelector('#df-a5f3a208-122a-4147-b5e3-da87fd2aabc0');\n",
              "          const dataTable =\n",
              "            await google.colab.kernel.invokeFunction('convertToInteractive',\n",
              "                                                     [key], {});\n",
              "          if (!dataTable) return;\n",
              "\n",
              "          const docLinkHtml = 'Like what you see? Visit the ' +\n",
              "            '<a target=\"_blank\" href=https://colab.research.google.com/notebooks/data_table.ipynb>data table notebook</a>'\n",
              "            + ' to learn more about interactive tables.';\n",
              "          element.innerHTML = '';\n",
              "          dataTable['output_type'] = 'display_data';\n",
              "          await google.colab.output.renderOutput(dataTable, element);\n",
              "          const docLink = document.createElement('div');\n",
              "          docLink.innerHTML = docLinkHtml;\n",
              "          element.appendChild(docLink);\n",
              "        }\n",
              "      </script>\n",
              "    </div>\n",
              "  </div>\n",
              "  "
            ]
          },
          "metadata": {},
          "execution_count": 115
        }
      ],
      "source": [
        "f50pileup[['chrom', 'pos', 'matches']].head()"
      ]
    },
    {
      "cell_type": "markdown",
      "metadata": {
        "id": "o3s5uS1pqN9O"
      },
      "source": [
        "Deletion상관 없이 Insertion하고 Hard-clipped read만 제외"
      ]
    },
    {
      "cell_type": "code",
      "execution_count": null,
      "metadata": {
        "id": "1y1ZXtEyqHEW"
      },
      "outputs": [],
      "source": [
        "#f50pileup['base_count'] = f50pileup['matches'].apply(lambda x: len([c for c in x if c != 'H' and c != 'I']))\n",
        "#f50pileup.head()"
      ]
    },
    {
      "cell_type": "code",
      "source": [
        "import itertools\n",
        "\n",
        "column = f50pileup['matches']\n",
        "components = column.str.findall('[A-Za-z]')\n",
        "ATGCs = list(itertools.chain(*components))\n",
        "set(ATGCs)"
      ],
      "metadata": {
        "colab": {
          "base_uri": "https://localhost:8080/"
        },
        "id": "dY7Co2SA7A7i",
        "outputId": "29c5824f-ccc8-479a-ca24-93268c5dd4ab"
      },
      "execution_count": 40,
      "outputs": [
        {
          "output_type": "execute_result",
          "data": {
            "text/plain": [
              "{'A', 'C', 'G', 'N', 'T'}"
            ]
          },
          "metadata": {},
          "execution_count": 40
        }
      ]
    },
    {
      "cell_type": "code",
      "source": [
        "f50pileup['base_count'] = f50pileup['matches'].apply(lambda x: len([c for c in x if c.upper() in ('A', 'T', 'G', 'C')]))\n",
        "f50pileup.head()"
      ],
      "metadata": {
        "colab": {
          "base_uri": "https://localhost:8080/",
          "height": 396
        },
        "id": "4WtdheuO0Fwx",
        "outputId": "90a5d3ec-09f7-46fe-87f7-01c1a4235ed9"
      },
      "execution_count": 314,
      "outputs": [
        {
          "output_type": "stream",
          "name": "stderr",
          "text": [
            "<ipython-input-314-dc38196e0fd8>:1: SettingWithCopyWarning: \n",
            "A value is trying to be set on a copy of a slice from a DataFrame.\n",
            "Try using .loc[row_indexer,col_indexer] = value instead\n",
            "\n",
            "See the caveats in the documentation: https://pandas.pydata.org/pandas-docs/stable/user_guide/indexing.html#returning-a-view-versus-a-copy\n",
            "  f50pileup['base_count'] = f50pileup['matches'].apply(lambda x: len([c for c in x if c.upper() in ('A', 'T', 'G', 'C')]))\n"
          ]
        },
        {
          "output_type": "execute_result",
          "data": {
            "text/plain": [
              "      chrom      pos ref  count  \\\n",
              "21616  chr9  3359542   N     51   \n",
              "21617  chr9  3359543   N     51   \n",
              "21618  chr9  3359544   N     51   \n",
              "21619  chr9  3359545   N     51   \n",
              "21620  chr9  3359546   N     51   \n",
              "\n",
              "                                               basereads  \\\n",
              "21616  GGGGGGGGGGGGGGGGGGGGGGGGGGGGGGGGGGGGGGGGGGGGGG...   \n",
              "21617  GGGGGGGGGGGGGGGGGGGGGGGGGGGGGGGGGGGGGGGGGGGGGG...   \n",
              "21618  AAAAAAAAAAAAAAAAAAAAAAAAAAAAAAAAAAAAAAAAAAAAAA...   \n",
              "21619  GGGGGGGGGGGGGGGGGGGGGGGGGGGGGGGGGGGGGGGGGGGGGG...   \n",
              "21620  TTTTTTTTTTTTTTTTTTTTTTTTTTTTTTTTTTTTTTTTTTTTTT...   \n",
              "\n",
              "                                                   quals  \\\n",
              "21616  HDEIHIIGIIIHHIIGAIIIGIBGIHBFGIHE?GIGIHGGHHIBII...   \n",
              "21617  IGEIHFG@IIIHHHIGFHIIEIBHIH;GGIHH=GIEIHIGHHIGII...   \n",
              "21618  IHBIHIIDHGIGHIIIDIIIDH0HH?DEHFHBBGIGIHIGHHDAII...   \n",
              "21619  IH8IHIIEIGIGHIIFFIIIGI=HIHDGGIHI;GHIIGHGHHI4DI...   \n",
              "21620  IHEIHHIEIGGDHIIDHIIIGI7HIH>GHIHI<GIGIFIGDHFCII...   \n",
              "\n",
              "                                                 matches  base_count  \n",
              "21616  GGGGGGGGGGGGGGGGGGGGGGGGGGGGGGGGGGGGGGGGGGGGGG...          51  \n",
              "21617  GGGGGGGGGGGGGGGGGGGGGGGGGGGGGGGGGGGGGGGGGGGGGG...          51  \n",
              "21618  AAAAAAAAAAAAAAAAAAAAAAAAAAAAAAAAAAAAAAAAAAAAAA...          51  \n",
              "21619  GGGGGGGGGGGGGGGGGGGGGGGGGGGGGGGGGGGGGGGGGGGGGG...          51  \n",
              "21620  TTTTTTTTTTTTTTTTTTTTTTTTTTTTTTTTTTTTTTTTTTTTTT...          51  "
            ],
            "text/html": [
              "\n",
              "  <div id=\"df-67efde3d-7347-4562-9862-af889d3f3dd6\">\n",
              "    <div class=\"colab-df-container\">\n",
              "      <div>\n",
              "<style scoped>\n",
              "    .dataframe tbody tr th:only-of-type {\n",
              "        vertical-align: middle;\n",
              "    }\n",
              "\n",
              "    .dataframe tbody tr th {\n",
              "        vertical-align: top;\n",
              "    }\n",
              "\n",
              "    .dataframe thead th {\n",
              "        text-align: right;\n",
              "    }\n",
              "</style>\n",
              "<table border=\"1\" class=\"dataframe\">\n",
              "  <thead>\n",
              "    <tr style=\"text-align: right;\">\n",
              "      <th></th>\n",
              "      <th>chrom</th>\n",
              "      <th>pos</th>\n",
              "      <th>ref</th>\n",
              "      <th>count</th>\n",
              "      <th>basereads</th>\n",
              "      <th>quals</th>\n",
              "      <th>matches</th>\n",
              "      <th>base_count</th>\n",
              "    </tr>\n",
              "  </thead>\n",
              "  <tbody>\n",
              "    <tr>\n",
              "      <th>21616</th>\n",
              "      <td>chr9</td>\n",
              "      <td>3359542</td>\n",
              "      <td>N</td>\n",
              "      <td>51</td>\n",
              "      <td>GGGGGGGGGGGGGGGGGGGGGGGGGGGGGGGGGGGGGGGGGGGGGG...</td>\n",
              "      <td>HDEIHIIGIIIHHIIGAIIIGIBGIHBFGIHE?GIGIHGGHHIBII...</td>\n",
              "      <td>GGGGGGGGGGGGGGGGGGGGGGGGGGGGGGGGGGGGGGGGGGGGGG...</td>\n",
              "      <td>51</td>\n",
              "    </tr>\n",
              "    <tr>\n",
              "      <th>21617</th>\n",
              "      <td>chr9</td>\n",
              "      <td>3359543</td>\n",
              "      <td>N</td>\n",
              "      <td>51</td>\n",
              "      <td>GGGGGGGGGGGGGGGGGGGGGGGGGGGGGGGGGGGGGGGGGGGGGG...</td>\n",
              "      <td>IGEIHFG@IIIHHHIGFHIIEIBHIH;GGIHH=GIEIHIGHHIGII...</td>\n",
              "      <td>GGGGGGGGGGGGGGGGGGGGGGGGGGGGGGGGGGGGGGGGGGGGGG...</td>\n",
              "      <td>51</td>\n",
              "    </tr>\n",
              "    <tr>\n",
              "      <th>21618</th>\n",
              "      <td>chr9</td>\n",
              "      <td>3359544</td>\n",
              "      <td>N</td>\n",
              "      <td>51</td>\n",
              "      <td>AAAAAAAAAAAAAAAAAAAAAAAAAAAAAAAAAAAAAAAAAAAAAA...</td>\n",
              "      <td>IHBIHIIDHGIGHIIIDIIIDH0HH?DEHFHBBGIGIHIGHHDAII...</td>\n",
              "      <td>AAAAAAAAAAAAAAAAAAAAAAAAAAAAAAAAAAAAAAAAAAAAAA...</td>\n",
              "      <td>51</td>\n",
              "    </tr>\n",
              "    <tr>\n",
              "      <th>21619</th>\n",
              "      <td>chr9</td>\n",
              "      <td>3359545</td>\n",
              "      <td>N</td>\n",
              "      <td>51</td>\n",
              "      <td>GGGGGGGGGGGGGGGGGGGGGGGGGGGGGGGGGGGGGGGGGGGGGG...</td>\n",
              "      <td>IH8IHIIEIGIGHIIFFIIIGI=HIHDGGIHI;GHIIGHGHHI4DI...</td>\n",
              "      <td>GGGGGGGGGGGGGGGGGGGGGGGGGGGGGGGGGGGGGGGGGGGGGG...</td>\n",
              "      <td>51</td>\n",
              "    </tr>\n",
              "    <tr>\n",
              "      <th>21620</th>\n",
              "      <td>chr9</td>\n",
              "      <td>3359546</td>\n",
              "      <td>N</td>\n",
              "      <td>51</td>\n",
              "      <td>TTTTTTTTTTTTTTTTTTTTTTTTTTTTTTTTTTTTTTTTTTTTTT...</td>\n",
              "      <td>IHEIHHIEIGGDHIIDHIIIGI7HIH&gt;GHIHI&lt;GIGIFIGDHFCII...</td>\n",
              "      <td>TTTTTTTTTTTTTTTTTTTTTTTTTTTTTTTTTTTTTTTTTTTTTT...</td>\n",
              "      <td>51</td>\n",
              "    </tr>\n",
              "  </tbody>\n",
              "</table>\n",
              "</div>\n",
              "      <button class=\"colab-df-convert\" onclick=\"convertToInteractive('df-67efde3d-7347-4562-9862-af889d3f3dd6')\"\n",
              "              title=\"Convert this dataframe to an interactive table.\"\n",
              "              style=\"display:none;\">\n",
              "        \n",
              "  <svg xmlns=\"http://www.w3.org/2000/svg\" height=\"24px\"viewBox=\"0 0 24 24\"\n",
              "       width=\"24px\">\n",
              "    <path d=\"M0 0h24v24H0V0z\" fill=\"none\"/>\n",
              "    <path d=\"M18.56 5.44l.94 2.06.94-2.06 2.06-.94-2.06-.94-.94-2.06-.94 2.06-2.06.94zm-11 1L8.5 8.5l.94-2.06 2.06-.94-2.06-.94L8.5 2.5l-.94 2.06-2.06.94zm10 10l.94 2.06.94-2.06 2.06-.94-2.06-.94-.94-2.06-.94 2.06-2.06.94z\"/><path d=\"M17.41 7.96l-1.37-1.37c-.4-.4-.92-.59-1.43-.59-.52 0-1.04.2-1.43.59L10.3 9.45l-7.72 7.72c-.78.78-.78 2.05 0 2.83L4 21.41c.39.39.9.59 1.41.59.51 0 1.02-.2 1.41-.59l7.78-7.78 2.81-2.81c.8-.78.8-2.07 0-2.86zM5.41 20L4 18.59l7.72-7.72 1.47 1.35L5.41 20z\"/>\n",
              "  </svg>\n",
              "      </button>\n",
              "      \n",
              "  <style>\n",
              "    .colab-df-container {\n",
              "      display:flex;\n",
              "      flex-wrap:wrap;\n",
              "      gap: 12px;\n",
              "    }\n",
              "\n",
              "    .colab-df-convert {\n",
              "      background-color: #E8F0FE;\n",
              "      border: none;\n",
              "      border-radius: 50%;\n",
              "      cursor: pointer;\n",
              "      display: none;\n",
              "      fill: #1967D2;\n",
              "      height: 32px;\n",
              "      padding: 0 0 0 0;\n",
              "      width: 32px;\n",
              "    }\n",
              "\n",
              "    .colab-df-convert:hover {\n",
              "      background-color: #E2EBFA;\n",
              "      box-shadow: 0px 1px 2px rgba(60, 64, 67, 0.3), 0px 1px 3px 1px rgba(60, 64, 67, 0.15);\n",
              "      fill: #174EA6;\n",
              "    }\n",
              "\n",
              "    [theme=dark] .colab-df-convert {\n",
              "      background-color: #3B4455;\n",
              "      fill: #D2E3FC;\n",
              "    }\n",
              "\n",
              "    [theme=dark] .colab-df-convert:hover {\n",
              "      background-color: #434B5C;\n",
              "      box-shadow: 0px 1px 3px 1px rgba(0, 0, 0, 0.15);\n",
              "      filter: drop-shadow(0px 1px 2px rgba(0, 0, 0, 0.3));\n",
              "      fill: #FFFFFF;\n",
              "    }\n",
              "  </style>\n",
              "\n",
              "      <script>\n",
              "        const buttonEl =\n",
              "          document.querySelector('#df-67efde3d-7347-4562-9862-af889d3f3dd6 button.colab-df-convert');\n",
              "        buttonEl.style.display =\n",
              "          google.colab.kernel.accessAllowed ? 'block' : 'none';\n",
              "\n",
              "        async function convertToInteractive(key) {\n",
              "          const element = document.querySelector('#df-67efde3d-7347-4562-9862-af889d3f3dd6');\n",
              "          const dataTable =\n",
              "            await google.colab.kernel.invokeFunction('convertToInteractive',\n",
              "                                                     [key], {});\n",
              "          if (!dataTable) return;\n",
              "\n",
              "          const docLinkHtml = 'Like what you see? Visit the ' +\n",
              "            '<a target=\"_blank\" href=https://colab.research.google.com/notebooks/data_table.ipynb>data table notebook</a>'\n",
              "            + ' to learn more about interactive tables.';\n",
              "          element.innerHTML = '';\n",
              "          dataTable['output_type'] = 'display_data';\n",
              "          await google.colab.output.renderOutput(dataTable, element);\n",
              "          const docLink = document.createElement('div');\n",
              "          docLink.innerHTML = docLinkHtml;\n",
              "          element.appendChild(docLink);\n",
              "        }\n",
              "      </script>\n",
              "    </div>\n",
              "  </div>\n",
              "  "
            ]
          },
          "metadata": {},
          "execution_count": 314
        }
      ]
    },
    {
      "cell_type": "code",
      "source": [
        "np.unique(f50pileup['matches'])"
      ],
      "metadata": {
        "id": "hGSA6KbIzioi"
      },
      "execution_count": null,
      "outputs": []
    },
    {
      "cell_type": "code",
      "execution_count": 316,
      "metadata": {
        "colab": {
          "base_uri": "https://localhost:8080/"
        },
        "id": "aX5DjWZcqnag",
        "outputId": "a9d68a7b-f7ba-4c1a-9aa5-5fa439a8766f"
      },
      "outputs": [
        {
          "output_type": "execute_result",
          "data": {
            "text/plain": [
              "array([   0,    1,    2, ..., 7989, 7990, 7994])"
            ]
          },
          "metadata": {},
          "execution_count": 316
        }
      ],
      "source": [
        "np.unique(f50pileup['base_count'])"
      ]
    },
    {
      "cell_type": "markdown",
      "metadata": {
        "id": "E_0_hO3StYR4"
      },
      "source": [
        "Colab RAM사용 제한 상, 데이터가 날라가는 것을 방지하기 위해 일단 결과 csv 저장"
      ]
    },
    {
      "cell_type": "code",
      "execution_count": 317,
      "metadata": {
        "id": "Eq6jlhtctXta"
      },
      "outputs": [],
      "source": [
        "f50pileup.to_csv('f50pileup.csv', index=True)"
      ]
    },
    {
      "cell_type": "code",
      "execution_count": 319,
      "metadata": {
        "colab": {
          "base_uri": "https://localhost:8080/",
          "height": 287
        },
        "id": "dwPHY6D5xWpK",
        "outputId": "827dc94d-c4d3-4195-83e0-f754fd8a2fc4"
      },
      "outputs": [
        {
          "output_type": "execute_result",
          "data": {
            "text/plain": [
              "      chrom      pos ref  count  \\\n",
              "21616  chr9  3359542   N     51   \n",
              "21617  chr9  3359543   N     51   \n",
              "21618  chr9  3359544   N     51   \n",
              "21619  chr9  3359545   N     51   \n",
              "21620  chr9  3359546   N     51   \n",
              "\n",
              "                                               basereads  \\\n",
              "21616  GGGGGGGGGGGGGGGGGGGGGGGGGGGGGGGGGGGGGGGGGGGGGG...   \n",
              "21617  GGGGGGGGGGGGGGGGGGGGGGGGGGGGGGGGGGGGGGGGGGGGGG...   \n",
              "21618  AAAAAAAAAAAAAAAAAAAAAAAAAAAAAAAAAAAAAAAAAAAAAA...   \n",
              "21619  GGGGGGGGGGGGGGGGGGGGGGGGGGGGGGGGGGGGGGGGGGGGGG...   \n",
              "21620  TTTTTTTTTTTTTTTTTTTTTTTTTTTTTTTTTTTTTTTTTTTTTT...   \n",
              "\n",
              "                                                   quals  \\\n",
              "21616  HDEIHIIGIIIHHIIGAIIIGIBGIHBFGIHE?GIGIHGGHHIBII...   \n",
              "21617  IGEIHFG@IIIHHHIGFHIIEIBHIH;GGIHH=GIEIHIGHHIGII...   \n",
              "21618  IHBIHIIDHGIGHIIIDIIIDH0HH?DEHFHBBGIGIHIGHHDAII...   \n",
              "21619  IH8IHIIEIGIGHIIFFIIIGI=HIHDGGIHI;GHIIGHGHHI4DI...   \n",
              "21620  IHEIHHIEIGGDHIIDHIIIGI7HIH>GHIHI<GIGIFIGDHFCII...   \n",
              "\n",
              "                                                 matches  base_count  \n",
              "21616  GGGGGGGGGGGGGGGGGGGGGGGGGGGGGGGGGGGGGGGGGGGGGG...          51  \n",
              "21617  GGGGGGGGGGGGGGGGGGGGGGGGGGGGGGGGGGGGGGGGGGGGGG...          51  \n",
              "21618  AAAAAAAAAAAAAAAAAAAAAAAAAAAAAAAAAAAAAAAAAAAAAA...          51  \n",
              "21619  GGGGGGGGGGGGGGGGGGGGGGGGGGGGGGGGGGGGGGGGGGGGGG...          51  \n",
              "21620  TTTTTTTTTTTTTTTTTTTTTTTTTTTTTTTTTTTTTTTTTTTTTT...          51  "
            ],
            "text/html": [
              "\n",
              "  <div id=\"df-b4f6540b-acc5-40a9-a071-a1e9da4d6170\">\n",
              "    <div class=\"colab-df-container\">\n",
              "      <div>\n",
              "<style scoped>\n",
              "    .dataframe tbody tr th:only-of-type {\n",
              "        vertical-align: middle;\n",
              "    }\n",
              "\n",
              "    .dataframe tbody tr th {\n",
              "        vertical-align: top;\n",
              "    }\n",
              "\n",
              "    .dataframe thead th {\n",
              "        text-align: right;\n",
              "    }\n",
              "</style>\n",
              "<table border=\"1\" class=\"dataframe\">\n",
              "  <thead>\n",
              "    <tr style=\"text-align: right;\">\n",
              "      <th></th>\n",
              "      <th>chrom</th>\n",
              "      <th>pos</th>\n",
              "      <th>ref</th>\n",
              "      <th>count</th>\n",
              "      <th>basereads</th>\n",
              "      <th>quals</th>\n",
              "      <th>matches</th>\n",
              "      <th>base_count</th>\n",
              "    </tr>\n",
              "  </thead>\n",
              "  <tbody>\n",
              "    <tr>\n",
              "      <th>21616</th>\n",
              "      <td>chr9</td>\n",
              "      <td>3359542</td>\n",
              "      <td>N</td>\n",
              "      <td>51</td>\n",
              "      <td>GGGGGGGGGGGGGGGGGGGGGGGGGGGGGGGGGGGGGGGGGGGGGG...</td>\n",
              "      <td>HDEIHIIGIIIHHIIGAIIIGIBGIHBFGIHE?GIGIHGGHHIBII...</td>\n",
              "      <td>GGGGGGGGGGGGGGGGGGGGGGGGGGGGGGGGGGGGGGGGGGGGGG...</td>\n",
              "      <td>51</td>\n",
              "    </tr>\n",
              "    <tr>\n",
              "      <th>21617</th>\n",
              "      <td>chr9</td>\n",
              "      <td>3359543</td>\n",
              "      <td>N</td>\n",
              "      <td>51</td>\n",
              "      <td>GGGGGGGGGGGGGGGGGGGGGGGGGGGGGGGGGGGGGGGGGGGGGG...</td>\n",
              "      <td>IGEIHFG@IIIHHHIGFHIIEIBHIH;GGIHH=GIEIHIGHHIGII...</td>\n",
              "      <td>GGGGGGGGGGGGGGGGGGGGGGGGGGGGGGGGGGGGGGGGGGGGGG...</td>\n",
              "      <td>51</td>\n",
              "    </tr>\n",
              "    <tr>\n",
              "      <th>21618</th>\n",
              "      <td>chr9</td>\n",
              "      <td>3359544</td>\n",
              "      <td>N</td>\n",
              "      <td>51</td>\n",
              "      <td>AAAAAAAAAAAAAAAAAAAAAAAAAAAAAAAAAAAAAAAAAAAAAA...</td>\n",
              "      <td>IHBIHIIDHGIGHIIIDIIIDH0HH?DEHFHBBGIGIHIGHHDAII...</td>\n",
              "      <td>AAAAAAAAAAAAAAAAAAAAAAAAAAAAAAAAAAAAAAAAAAAAAA...</td>\n",
              "      <td>51</td>\n",
              "    </tr>\n",
              "    <tr>\n",
              "      <th>21619</th>\n",
              "      <td>chr9</td>\n",
              "      <td>3359545</td>\n",
              "      <td>N</td>\n",
              "      <td>51</td>\n",
              "      <td>GGGGGGGGGGGGGGGGGGGGGGGGGGGGGGGGGGGGGGGGGGGGGG...</td>\n",
              "      <td>IH8IHIIEIGIGHIIFFIIIGI=HIHDGGIHI;GHIIGHGHHI4DI...</td>\n",
              "      <td>GGGGGGGGGGGGGGGGGGGGGGGGGGGGGGGGGGGGGGGGGGGGGG...</td>\n",
              "      <td>51</td>\n",
              "    </tr>\n",
              "    <tr>\n",
              "      <th>21620</th>\n",
              "      <td>chr9</td>\n",
              "      <td>3359546</td>\n",
              "      <td>N</td>\n",
              "      <td>51</td>\n",
              "      <td>TTTTTTTTTTTTTTTTTTTTTTTTTTTTTTTTTTTTTTTTTTTTTT...</td>\n",
              "      <td>IHEIHHIEIGGDHIIDHIIIGI7HIH&gt;GHIHI&lt;GIGIFIGDHFCII...</td>\n",
              "      <td>TTTTTTTTTTTTTTTTTTTTTTTTTTTTTTTTTTTTTTTTTTTTTT...</td>\n",
              "      <td>51</td>\n",
              "    </tr>\n",
              "  </tbody>\n",
              "</table>\n",
              "</div>\n",
              "      <button class=\"colab-df-convert\" onclick=\"convertToInteractive('df-b4f6540b-acc5-40a9-a071-a1e9da4d6170')\"\n",
              "              title=\"Convert this dataframe to an interactive table.\"\n",
              "              style=\"display:none;\">\n",
              "        \n",
              "  <svg xmlns=\"http://www.w3.org/2000/svg\" height=\"24px\"viewBox=\"0 0 24 24\"\n",
              "       width=\"24px\">\n",
              "    <path d=\"M0 0h24v24H0V0z\" fill=\"none\"/>\n",
              "    <path d=\"M18.56 5.44l.94 2.06.94-2.06 2.06-.94-2.06-.94-.94-2.06-.94 2.06-2.06.94zm-11 1L8.5 8.5l.94-2.06 2.06-.94-2.06-.94L8.5 2.5l-.94 2.06-2.06.94zm10 10l.94 2.06.94-2.06 2.06-.94-2.06-.94-.94-2.06-.94 2.06-2.06.94z\"/><path d=\"M17.41 7.96l-1.37-1.37c-.4-.4-.92-.59-1.43-.59-.52 0-1.04.2-1.43.59L10.3 9.45l-7.72 7.72c-.78.78-.78 2.05 0 2.83L4 21.41c.39.39.9.59 1.41.59.51 0 1.02-.2 1.41-.59l7.78-7.78 2.81-2.81c.8-.78.8-2.07 0-2.86zM5.41 20L4 18.59l7.72-7.72 1.47 1.35L5.41 20z\"/>\n",
              "  </svg>\n",
              "      </button>\n",
              "      \n",
              "  <style>\n",
              "    .colab-df-container {\n",
              "      display:flex;\n",
              "      flex-wrap:wrap;\n",
              "      gap: 12px;\n",
              "    }\n",
              "\n",
              "    .colab-df-convert {\n",
              "      background-color: #E8F0FE;\n",
              "      border: none;\n",
              "      border-radius: 50%;\n",
              "      cursor: pointer;\n",
              "      display: none;\n",
              "      fill: #1967D2;\n",
              "      height: 32px;\n",
              "      padding: 0 0 0 0;\n",
              "      width: 32px;\n",
              "    }\n",
              "\n",
              "    .colab-df-convert:hover {\n",
              "      background-color: #E2EBFA;\n",
              "      box-shadow: 0px 1px 2px rgba(60, 64, 67, 0.3), 0px 1px 3px 1px rgba(60, 64, 67, 0.15);\n",
              "      fill: #174EA6;\n",
              "    }\n",
              "\n",
              "    [theme=dark] .colab-df-convert {\n",
              "      background-color: #3B4455;\n",
              "      fill: #D2E3FC;\n",
              "    }\n",
              "\n",
              "    [theme=dark] .colab-df-convert:hover {\n",
              "      background-color: #434B5C;\n",
              "      box-shadow: 0px 1px 3px 1px rgba(0, 0, 0, 0.15);\n",
              "      filter: drop-shadow(0px 1px 2px rgba(0, 0, 0, 0.3));\n",
              "      fill: #FFFFFF;\n",
              "    }\n",
              "  </style>\n",
              "\n",
              "      <script>\n",
              "        const buttonEl =\n",
              "          document.querySelector('#df-b4f6540b-acc5-40a9-a071-a1e9da4d6170 button.colab-df-convert');\n",
              "        buttonEl.style.display =\n",
              "          google.colab.kernel.accessAllowed ? 'block' : 'none';\n",
              "\n",
              "        async function convertToInteractive(key) {\n",
              "          const element = document.querySelector('#df-b4f6540b-acc5-40a9-a071-a1e9da4d6170');\n",
              "          const dataTable =\n",
              "            await google.colab.kernel.invokeFunction('convertToInteractive',\n",
              "                                                     [key], {});\n",
              "          if (!dataTable) return;\n",
              "\n",
              "          const docLinkHtml = 'Like what you see? Visit the ' +\n",
              "            '<a target=\"_blank\" href=https://colab.research.google.com/notebooks/data_table.ipynb>data table notebook</a>'\n",
              "            + ' to learn more about interactive tables.';\n",
              "          element.innerHTML = '';\n",
              "          dataTable['output_type'] = 'display_data';\n",
              "          await google.colab.output.renderOutput(dataTable, element);\n",
              "          const docLink = document.createElement('div');\n",
              "          docLink.innerHTML = docLinkHtml;\n",
              "          element.appendChild(docLink);\n",
              "        }\n",
              "      </script>\n",
              "    </div>\n",
              "  </div>\n",
              "  "
            ]
          },
          "metadata": {},
          "execution_count": 319
        }
      ],
      "source": [
        "f50pileup.head()"
      ]
    },
    {
      "cell_type": "code",
      "execution_count": 344,
      "metadata": {
        "colab": {
          "base_uri": "https://localhost:8080/",
          "height": 472
        },
        "id": "9h7oIzfklvNA",
        "outputId": "44720fba-91d4-460f-ce49-55028a625d90"
      },
      "outputs": [
        {
          "output_type": "display_data",
          "data": {
            "text/plain": [
              "<Figure size 640x480 with 1 Axes>"
            ],
            "image/png": "[encoded data removed]"
          },
          "metadata": {}
        }
      ],
      "source": [
        "x = f50pileup['pos']\n",
        "y = f50pileup['count']\n",
        "\n",
        "plt.plot(x, y)\n",
        "plt.xlabel('Position')\n",
        "plt.ylabel('Count')\n",
        "plt.title('Distribution of read depths on position (chr=9)')\n",
        "plt.axhline(1500, c='red', linewidth=1)\n",
        "plt.show()"
      ]
    },
    {
      "cell_type": "code",
      "execution_count": 343,
      "metadata": {
        "id": "a2Q5KkmCRy45"
      },
      "outputs": [],
      "source": [
        "pup = f50pileup[f50pileup['base_count']>1500]"
      ]
    },
    {
      "cell_type": "code",
      "source": [
        "pup['base_count'].head()"
      ],
      "metadata": {
        "colab": {
          "base_uri": "https://localhost:8080/"
        },
        "id": "PPRRs60t5OFg",
        "outputId": "f00e2f32-c656-4d4e-f042-58bc166e95d8"
      },
      "execution_count": 345,
      "outputs": [
        {
          "output_type": "execute_result",
          "data": {
            "text/plain": [
              "2419292    3230\n",
              "2419293    3227\n",
              "2419294    3243\n",
              "2419295    3245\n",
              "2419296    3248\n",
              "Name: base_count, dtype: int64"
            ]
          },
          "metadata": {},
          "execution_count": 345
        }
      ]
    },
    {
      "cell_type": "code",
      "source": [
        "pup['matches'].apply(len)"
      ],
      "metadata": {
        "colab": {
          "base_uri": "https://localhost:8080/"
        },
        "id": "klfFXwLk5UZs",
        "outputId": "9d2ab841-53c6-4f13-f4b8-80ac45e9ecff"
      },
      "execution_count": 346,
      "outputs": [
        {
          "output_type": "execute_result",
          "data": {
            "text/plain": [
              "2419292     3230\n",
              "2419293     3227\n",
              "2419294     3243\n",
              "2419295     3245\n",
              "2419296     3248\n",
              "            ... \n",
              "17967218    3217\n",
              "17967219    2958\n",
              "17967220    2546\n",
              "17967221    2438\n",
              "17967222    1548\n",
              "Name: matches, Length: 675, dtype: int64"
            ]
          },
          "metadata": {},
          "execution_count": 346
        }
      ]
    },
    {
      "cell_type": "code",
      "execution_count": 347,
      "metadata": {
        "colab": {
          "base_uri": "https://localhost:8080/",
          "height": 379
        },
        "id": "tBm3Day_Rxj7",
        "outputId": "019ccbc2-9530-44c6-b522-ed0308d94eeb"
      },
      "outputs": [
        {
          "output_type": "stream",
          "name": "stderr",
          "text": [
            "<ipython-input-347-ef3998149eec>:1: SettingWithCopyWarning: \n",
            "A value is trying to be set on a copy of a slice from a DataFrame.\n",
            "Try using .loc[row_indexer,col_indexer] = value instead\n",
            "\n",
            "See the caveats in the documentation: https://pandas.pydata.org/pandas-docs/stable/user_guide/indexing.html#returning-a-view-versus-a-copy\n",
            "  pup['nonzero'] = pup['base_count']/pup['basereads'].apply(len)\n"
          ]
        },
        {
          "output_type": "execute_result",
          "data": {
            "text/plain": [
              "        chrom       pos ref  count  \\\n",
              "2419292  chr9  21923376   N   3230   \n",
              "2419293  chr9  21923377   N   3227   \n",
              "2419294  chr9  21923378   N   3243   \n",
              "2419295  chr9  21923379   N   3245   \n",
              "2419296  chr9  21923380   N   3248   \n",
              "\n",
              "                                                 basereads  \\\n",
              "2419292  GGGGGGGGGGGGGGGGGGGGGGGGGGGGGGGGGGGGGGGGGGGGGG...   \n",
              "2419293  AAAAAAAAAAAAAAAAAAAAAAAAAAAAAAAAAAAAAAAAAAAAAA...   \n",
              "2419294  AAAAAAAAAAAAAAAAAAAAAAAAAAAAAAAAAAAAAAAAAAAAAA...   \n",
              "2419295  AAAAAAAAAAAAAAAAAAAAAAAAAAAAAAAAAAAAAAAAAAAAAA...   \n",
              "2419296  GGGGGGGGGGGGGGGGGGGGGGGGGGGGGGGGGGGGGGGGGGGGGG...   \n",
              "\n",
              "                                                     quals  \\\n",
              "2419292  IHEGIEGDIIIBGI8IGHH>B=IIG@IHIGH@HIGEGEIEBIHD=G...   \n",
              "2419293  IHGGHBGHIII=GI@IGII>DDIGGGIHHGH@EGD@GBIDGII<BD...   \n",
              "2419294  IHEGIGGIIII=GI@IBHI>DEIIGGIHIGHCHIGBE@IEGII:@G...   \n",
              "2419295  DH@GGGEIIII=GI@IBHIBBEIIGGFHIEH:GIGEGBIEGII:BG...   \n",
              "2419296  IHEDDGGGHDI8BI@GGGBA@3IGGGIHGGHBHIG@D4HGDHIDED...   \n",
              "\n",
              "                                                   matches  base_count  \\\n",
              "2419292  GGGGGGGGGGGGGGGGGGGGGGGGGGGGGGGGGGGGGGGGGGGGGG...        3230   \n",
              "2419293  AAAAAAAAAAAAAAAAAAAAAAAAAAAAAAAAAAAAAAAAAAAAAA...        3227   \n",
              "2419294  AAAAAAAAAAAAAAAAAAAAAAAAAAAAAAAAAAAAAAAAAAAAAA...        3243   \n",
              "2419295  AAAAAAAAAAAAAAAAAAAAAAAAAAAAAAAAAAAAAAAAAAAAAA...        3245   \n",
              "2419296  GGGGGGGGGGGGGGGGGGGGGGGGGGGGGGGGGGGGGGGGGGGGGG...        3248   \n",
              "\n",
              "          nonzero  \n",
              "2419292  0.480941  \n",
              "2419293  0.998144  \n",
              "2419294  0.995091  \n",
              "2419295  0.998154  \n",
              "2419296  0.992059  "
            ],
            "text/html": [
              "\n",
              "  <div id=\"df-d2fbe74b-9438-4984-b7ca-60a7db94ef69\">\n",
              "    <div class=\"colab-df-container\">\n",
              "      <div>\n",
              "<style scoped>\n",
              "    .dataframe tbody tr th:only-of-type {\n",
              "        vertical-align: middle;\n",
              "    }\n",
              "\n",
              "    .dataframe tbody tr th {\n",
              "        vertical-align: top;\n",
              "    }\n",
              "\n",
              "    .dataframe thead th {\n",
              "        text-align: right;\n",
              "    }\n",
              "</style>\n",
              "<table border=\"1\" class=\"dataframe\">\n",
              "  <thead>\n",
              "    <tr style=\"text-align: right;\">\n",
              "      <th></th>\n",
              "      <th>chrom</th>\n",
              "      <th>pos</th>\n",
              "      <th>ref</th>\n",
              "      <th>count</th>\n",
              "      <th>basereads</th>\n",
              "      <th>quals</th>\n",
              "      <th>matches</th>\n",
              "      <th>base_count</th>\n",
              "      <th>nonzero</th>\n",
              "    </tr>\n",
              "  </thead>\n",
              "  <tbody>\n",
              "    <tr>\n",
              "      <th>2419292</th>\n",
              "      <td>chr9</td>\n",
              "      <td>21923376</td>\n",
              "      <td>N</td>\n",
              "      <td>3230</td>\n",
              "      <td>GGGGGGGGGGGGGGGGGGGGGGGGGGGGGGGGGGGGGGGGGGGGGG...</td>\n",
              "      <td>IHEGIEGDIIIBGI8IGHH&gt;B=IIG@IHIGH@HIGEGEIEBIHD=G...</td>\n",
              "      <td>GGGGGGGGGGGGGGGGGGGGGGGGGGGGGGGGGGGGGGGGGGGGGG...</td>\n",
              "      <td>3230</td>\n",
              "      <td>0.480941</td>\n",
              "    </tr>\n",
              "    <tr>\n",
              "      <th>2419293</th>\n",
              "      <td>chr9</td>\n",
              "      <td>21923377</td>\n",
              "      <td>N</td>\n",
              "      <td>3227</td>\n",
              "      <td>AAAAAAAAAAAAAAAAAAAAAAAAAAAAAAAAAAAAAAAAAAAAAA...</td>\n",
              "      <td>IHGGHBGHIII=GI@IGII&gt;DDIGGGIHHGH@EGD@GBIDGII&lt;BD...</td>\n",
              "      <td>AAAAAAAAAAAAAAAAAAAAAAAAAAAAAAAAAAAAAAAAAAAAAA...</td>\n",
              "      <td>3227</td>\n",
              "      <td>0.998144</td>\n",
              "    </tr>\n",
              "    <tr>\n",
              "      <th>2419294</th>\n",
              "      <td>chr9</td>\n",
              "      <td>21923378</td>\n",
              "      <td>N</td>\n",
              "      <td>3243</td>\n",
              "      <td>AAAAAAAAAAAAAAAAAAAAAAAAAAAAAAAAAAAAAAAAAAAAAA...</td>\n",
              "      <td>IHEGIGGIIII=GI@IBHI&gt;DEIIGGIHIGHCHIGBE@IEGII:@G...</td>\n",
              "      <td>AAAAAAAAAAAAAAAAAAAAAAAAAAAAAAAAAAAAAAAAAAAAAA...</td>\n",
              "      <td>3243</td>\n",
              "      <td>0.995091</td>\n",
              "    </tr>\n",
              "    <tr>\n",
              "      <th>2419295</th>\n",
              "      <td>chr9</td>\n",
              "      <td>21923379</td>\n",
              "      <td>N</td>\n",
              "      <td>3245</td>\n",
              "      <td>AAAAAAAAAAAAAAAAAAAAAAAAAAAAAAAAAAAAAAAAAAAAAA...</td>\n",
              "      <td>DH@GGGEIIII=GI@IBHIBBEIIGGFHIEH:GIGEGBIEGII:BG...</td>\n",
              "      <td>AAAAAAAAAAAAAAAAAAAAAAAAAAAAAAAAAAAAAAAAAAAAAA...</td>\n",
              "      <td>3245</td>\n",
              "      <td>0.998154</td>\n",
              "    </tr>\n",
              "    <tr>\n",
              "      <th>2419296</th>\n",
              "      <td>chr9</td>\n",
              "      <td>21923380</td>\n",
              "      <td>N</td>\n",
              "      <td>3248</td>\n",
              "      <td>GGGGGGGGGGGGGGGGGGGGGGGGGGGGGGGGGGGGGGGGGGGGGG...</td>\n",
              "      <td>IHEDDGGGHDI8BI@GGGBA@3IGGGIHGGHBHIG@D4HGDHIDED...</td>\n",
              "      <td>GGGGGGGGGGGGGGGGGGGGGGGGGGGGGGGGGGGGGGGGGGGGGG...</td>\n",
              "      <td>3248</td>\n",
              "      <td>0.992059</td>\n",
              "    </tr>\n",
              "  </tbody>\n",
              "</table>\n",
              "</div>\n",
              "      <button class=\"colab-df-convert\" onclick=\"convertToInteractive('df-d2fbe74b-9438-4984-b7ca-60a7db94ef69')\"\n",
              "              title=\"Convert this dataframe to an interactive table.\"\n",
              "              style=\"display:none;\">\n",
              "        \n",
              "  <svg xmlns=\"http://www.w3.org/2000/svg\" height=\"24px\"viewBox=\"0 0 24 24\"\n",
              "       width=\"24px\">\n",
              "    <path d=\"M0 0h24v24H0V0z\" fill=\"none\"/>\n",
              "    <path d=\"M18.56 5.44l.94 2.06.94-2.06 2.06-.94-2.06-.94-.94-2.06-.94 2.06-2.06.94zm-11 1L8.5 8.5l.94-2.06 2.06-.94-2.06-.94L8.5 2.5l-.94 2.06-2.06.94zm10 10l.94 2.06.94-2.06 2.06-.94-2.06-.94-.94-2.06-.94 2.06-2.06.94z\"/><path d=\"M17.41 7.96l-1.37-1.37c-.4-.4-.92-.59-1.43-.59-.52 0-1.04.2-1.43.59L10.3 9.45l-7.72 7.72c-.78.78-.78 2.05 0 2.83L4 21.41c.39.39.9.59 1.41.59.51 0 1.02-.2 1.41-.59l7.78-7.78 2.81-2.81c.8-.78.8-2.07 0-2.86zM5.41 20L4 18.59l7.72-7.72 1.47 1.35L5.41 20z\"/>\n",
              "  </svg>\n",
              "      </button>\n",
              "      \n",
              "  <style>\n",
              "    .colab-df-container {\n",
              "      display:flex;\n",
              "      flex-wrap:wrap;\n",
              "      gap: 12px;\n",
              "    }\n",
              "\n",
              "    .colab-df-convert {\n",
              "      background-color: #E8F0FE;\n",
              "      border: none;\n",
              "      border-radius: 50%;\n",
              "      cursor: pointer;\n",
              "      display: none;\n",
              "      fill: #1967D2;\n",
              "      height: 32px;\n",
              "      padding: 0 0 0 0;\n",
              "      width: 32px;\n",
              "    }\n",
              "\n",
              "    .colab-df-convert:hover {\n",
              "      background-color: #E2EBFA;\n",
              "      box-shadow: 0px 1px 2px rgba(60, 64, 67, 0.3), 0px 1px 3px 1px rgba(60, 64, 67, 0.15);\n",
              "      fill: #174EA6;\n",
              "    }\n",
              "\n",
              "    [theme=dark] .colab-df-convert {\n",
              "      background-color: #3B4455;\n",
              "      fill: #D2E3FC;\n",
              "    }\n",
              "\n",
              "    [theme=dark] .colab-df-convert:hover {\n",
              "      background-color: #434B5C;\n",
              "      box-shadow: 0px 1px 3px 1px rgba(0, 0, 0, 0.15);\n",
              "      filter: drop-shadow(0px 1px 2px rgba(0, 0, 0, 0.3));\n",
              "      fill: #FFFFFF;\n",
              "    }\n",
              "  </style>\n",
              "\n",
              "      <script>\n",
              "        const buttonEl =\n",
              "          document.querySelector('#df-d2fbe74b-9438-4984-b7ca-60a7db94ef69 button.colab-df-convert');\n",
              "        buttonEl.style.display =\n",
              "          google.colab.kernel.accessAllowed ? 'block' : 'none';\n",
              "\n",
              "        async function convertToInteractive(key) {\n",
              "          const element = document.querySelector('#df-d2fbe74b-9438-4984-b7ca-60a7db94ef69');\n",
              "          const dataTable =\n",
              "            await google.colab.kernel.invokeFunction('convertToInteractive',\n",
              "                                                     [key], {});\n",
              "          if (!dataTable) return;\n",
              "\n",
              "          const docLinkHtml = 'Like what you see? Visit the ' +\n",
              "            '<a target=\"_blank\" href=https://colab.research.google.com/notebooks/data_table.ipynb>data table notebook</a>'\n",
              "            + ' to learn more about interactive tables.';\n",
              "          element.innerHTML = '';\n",
              "          dataTable['output_type'] = 'display_data';\n",
              "          await google.colab.output.renderOutput(dataTable, element);\n",
              "          const docLink = document.createElement('div');\n",
              "          docLink.innerHTML = docLinkHtml;\n",
              "          element.appendChild(docLink);\n",
              "        }\n",
              "      </script>\n",
              "    </div>\n",
              "  </div>\n",
              "  "
            ]
          },
          "metadata": {},
          "execution_count": 347
        }
      ],
      "source": [
        "pup['nonzero'] = pup['base_count']/pup['basereads'].apply(len)\n",
        "pup.head()"
      ]
    },
    {
      "cell_type": "code",
      "execution_count": 365,
      "metadata": {
        "colab": {
          "base_uri": "https://localhost:8080/",
          "height": 379
        },
        "id": "HXbGir2yRyMg",
        "outputId": "3db5cc12-cdd4-4e57-ab54-d332482b8063"
      },
      "outputs": [
        {
          "output_type": "stream",
          "name": "stderr",
          "text": [
            "<ipython-input-365-fbb7882d73db>:1: SettingWithCopyWarning: \n",
            "A value is trying to be set on a copy of a slice from a DataFrame.\n",
            "Try using .loc[row_indexer,col_indexer] = value instead\n",
            "\n",
            "See the caveats in the documentation: https://pandas.pydata.org/pandas-docs/stable/user_guide/indexing.html#returning-a-view-versus-a-copy\n",
            "  pup['shannon'] = -pup['nonzero']*np.log2(pup['nonzero'])*2\n"
          ]
        },
        {
          "output_type": "execute_result",
          "data": {
            "text/plain": [
              "        chrom       pos ref  count  \\\n",
              "2419292  chr9  21923376   N   3230   \n",
              "2419293  chr9  21923377   N   3227   \n",
              "2419294  chr9  21923378   N   3243   \n",
              "2419295  chr9  21923379   N   3245   \n",
              "2419296  chr9  21923380   N   3248   \n",
              "\n",
              "                                                 basereads  \\\n",
              "2419292  GGGGGGGGGGGGGGGGGGGGGGGGGGGGGGGGGGGGGGGGGGGGGG...   \n",
              "2419293  AAAAAAAAAAAAAAAAAAAAAAAAAAAAAAAAAAAAAAAAAAAAAA...   \n",
              "2419294  AAAAAAAAAAAAAAAAAAAAAAAAAAAAAAAAAAAAAAAAAAAAAA...   \n",
              "2419295  AAAAAAAAAAAAAAAAAAAAAAAAAAAAAAAAAAAAAAAAAAAAAA...   \n",
              "2419296  GGGGGGGGGGGGGGGGGGGGGGGGGGGGGGGGGGGGGGGGGGGGGG...   \n",
              "\n",
              "                                                     quals  \\\n",
              "2419292  IHEGIEGDIIIBGI8IGHH>B=IIG@IHIGH@HIGEGEIEBIHD=G...   \n",
              "2419293  IHGGHBGHIII=GI@IGII>DDIGGGIHHGH@EGD@GBIDGII<BD...   \n",
              "2419294  IHEGIGGIIII=GI@IBHI>DEIIGGIHIGHCHIGBE@IEGII:@G...   \n",
              "2419295  DH@GGGEIIII=GI@IBHIBBEIIGGFHIEH:GIGEGBIEGII:BG...   \n",
              "2419296  IHEDDGGGHDI8BI@GGGBA@3IGGGIHGGHBHIG@D4HGDHIDED...   \n",
              "\n",
              "                                                   matches  base_count  \\\n",
              "2419292  GGGGGGGGGGGGGGGGGGGGGGGGGGGGGGGGGGGGGGGGGGGGGG...        3230   \n",
              "2419293  AAAAAAAAAAAAAAAAAAAAAAAAAAAAAAAAAAAAAAAAAAAAAA...        3227   \n",
              "2419294  AAAAAAAAAAAAAAAAAAAAAAAAAAAAAAAAAAAAAAAAAAAAAA...        3243   \n",
              "2419295  AAAAAAAAAAAAAAAAAAAAAAAAAAAAAAAAAAAAAAAAAAAAAA...        3245   \n",
              "2419296  GGGGGGGGGGGGGGGGGGGGGGGGGGGGGGGGGGGGGGGGGGGGGG...        3248   \n",
              "\n",
              "          nonzero   shannon  \n",
              "2419292  0.480941  1.015813  \n",
              "2419293  0.998144  0.005350  \n",
              "2419294  0.995091  0.014131  \n",
              "2419295  0.998154  0.005320  \n",
              "2419296  0.992059  0.022823  "
            ],
            "text/html": [
              "\n",
              "  <div id=\"df-b9ec1ecc-df85-4ff6-88f6-bbf1907408c0\">\n",
              "    <div class=\"colab-df-container\">\n",
              "      <div>\n",
              "<style scoped>\n",
              "    .dataframe tbody tr th:only-of-type {\n",
              "        vertical-align: middle;\n",
              "    }\n",
              "\n",
              "    .dataframe tbody tr th {\n",
              "        vertical-align: top;\n",
              "    }\n",
              "\n",
              "    .dataframe thead th {\n",
              "        text-align: right;\n",
              "    }\n",
              "</style>\n",
              "<table border=\"1\" class=\"dataframe\">\n",
              "  <thead>\n",
              "    <tr style=\"text-align: right;\">\n",
              "      <th></th>\n",
              "      <th>chrom</th>\n",
              "      <th>pos</th>\n",
              "      <th>ref</th>\n",
              "      <th>count</th>\n",
              "      <th>basereads</th>\n",
              "      <th>quals</th>\n",
              "      <th>matches</th>\n",
              "      <th>base_count</th>\n",
              "      <th>nonzero</th>\n",
              "      <th>shannon</th>\n",
              "    </tr>\n",
              "  </thead>\n",
              "  <tbody>\n",
              "    <tr>\n",
              "      <th>2419292</th>\n",
              "      <td>chr9</td>\n",
              "      <td>21923376</td>\n",
              "      <td>N</td>\n",
              "      <td>3230</td>\n",
              "      <td>GGGGGGGGGGGGGGGGGGGGGGGGGGGGGGGGGGGGGGGGGGGGGG...</td>\n",
              "      <td>IHEGIEGDIIIBGI8IGHH&gt;B=IIG@IHIGH@HIGEGEIEBIHD=G...</td>\n",
              "      <td>GGGGGGGGGGGGGGGGGGGGGGGGGGGGGGGGGGGGGGGGGGGGGG...</td>\n",
              "      <td>3230</td>\n",
              "      <td>0.480941</td>\n",
              "      <td>1.015813</td>\n",
              "    </tr>\n",
              "    <tr>\n",
              "      <th>2419293</th>\n",
              "      <td>chr9</td>\n",
              "      <td>21923377</td>\n",
              "      <td>N</td>\n",
              "      <td>3227</td>\n",
              "      <td>AAAAAAAAAAAAAAAAAAAAAAAAAAAAAAAAAAAAAAAAAAAAAA...</td>\n",
              "      <td>IHGGHBGHIII=GI@IGII&gt;DDIGGGIHHGH@EGD@GBIDGII&lt;BD...</td>\n",
              "      <td>AAAAAAAAAAAAAAAAAAAAAAAAAAAAAAAAAAAAAAAAAAAAAA...</td>\n",
              "      <td>3227</td>\n",
              "      <td>0.998144</td>\n",
              "      <td>0.005350</td>\n",
              "    </tr>\n",
              "    <tr>\n",
              "      <th>2419294</th>\n",
              "      <td>chr9</td>\n",
              "      <td>21923378</td>\n",
              "      <td>N</td>\n",
              "      <td>3243</td>\n",
              "      <td>AAAAAAAAAAAAAAAAAAAAAAAAAAAAAAAAAAAAAAAAAAAAAA...</td>\n",
              "      <td>IHEGIGGIIII=GI@IBHI&gt;DEIIGGIHIGHCHIGBE@IEGII:@G...</td>\n",
              "      <td>AAAAAAAAAAAAAAAAAAAAAAAAAAAAAAAAAAAAAAAAAAAAAA...</td>\n",
              "      <td>3243</td>\n",
              "      <td>0.995091</td>\n",
              "      <td>0.014131</td>\n",
              "    </tr>\n",
              "    <tr>\n",
              "      <th>2419295</th>\n",
              "      <td>chr9</td>\n",
              "      <td>21923379</td>\n",
              "      <td>N</td>\n",
              "      <td>3245</td>\n",
              "      <td>AAAAAAAAAAAAAAAAAAAAAAAAAAAAAAAAAAAAAAAAAAAAAA...</td>\n",
              "      <td>DH@GGGEIIII=GI@IBHIBBEIIGGFHIEH:GIGEGBIEGII:BG...</td>\n",
              "      <td>AAAAAAAAAAAAAAAAAAAAAAAAAAAAAAAAAAAAAAAAAAAAAA...</td>\n",
              "      <td>3245</td>\n",
              "      <td>0.998154</td>\n",
              "      <td>0.005320</td>\n",
              "    </tr>\n",
              "    <tr>\n",
              "      <th>2419296</th>\n",
              "      <td>chr9</td>\n",
              "      <td>21923380</td>\n",
              "      <td>N</td>\n",
              "      <td>3248</td>\n",
              "      <td>GGGGGGGGGGGGGGGGGGGGGGGGGGGGGGGGGGGGGGGGGGGGGG...</td>\n",
              "      <td>IHEDDGGGHDI8BI@GGGBA@3IGGGIHGGHBHIG@D4HGDHIDED...</td>\n",
              "      <td>GGGGGGGGGGGGGGGGGGGGGGGGGGGGGGGGGGGGGGGGGGGGGG...</td>\n",
              "      <td>3248</td>\n",
              "      <td>0.992059</td>\n",
              "      <td>0.022823</td>\n",
              "    </tr>\n",
              "  </tbody>\n",
              "</table>\n",
              "</div>\n",
              "      <button class=\"colab-df-convert\" onclick=\"convertToInteractive('df-b9ec1ecc-df85-4ff6-88f6-bbf1907408c0')\"\n",
              "              title=\"Convert this dataframe to an interactive table.\"\n",
              "              style=\"display:none;\">\n",
              "        \n",
              "  <svg xmlns=\"http://www.w3.org/2000/svg\" height=\"24px\"viewBox=\"0 0 24 24\"\n",
              "       width=\"24px\">\n",
              "    <path d=\"M0 0h24v24H0V0z\" fill=\"none\"/>\n",
              "    <path d=\"M18.56 5.44l.94 2.06.94-2.06 2.06-.94-2.06-.94-.94-2.06-.94 2.06-2.06.94zm-11 1L8.5 8.5l.94-2.06 2.06-.94-2.06-.94L8.5 2.5l-.94 2.06-2.06.94zm10 10l.94 2.06.94-2.06 2.06-.94-2.06-.94-.94-2.06-.94 2.06-2.06.94z\"/><path d=\"M17.41 7.96l-1.37-1.37c-.4-.4-.92-.59-1.43-.59-.52 0-1.04.2-1.43.59L10.3 9.45l-7.72 7.72c-.78.78-.78 2.05 0 2.83L4 21.41c.39.39.9.59 1.41.59.51 0 1.02-.2 1.41-.59l7.78-7.78 2.81-2.81c.8-.78.8-2.07 0-2.86zM5.41 20L4 18.59l7.72-7.72 1.47 1.35L5.41 20z\"/>\n",
              "  </svg>\n",
              "      </button>\n",
              "      \n",
              "  <style>\n",
              "    .colab-df-container {\n",
              "      display:flex;\n",
              "      flex-wrap:wrap;\n",
              "      gap: 12px;\n",
              "    }\n",
              "\n",
              "    .colab-df-convert {\n",
              "      background-color: #E8F0FE;\n",
              "      border: none;\n",
              "      border-radius: 50%;\n",
              "      cursor: pointer;\n",
              "      display: none;\n",
              "      fill: #1967D2;\n",
              "      height: 32px;\n",
              "      padding: 0 0 0 0;\n",
              "      width: 32px;\n",
              "    }\n",
              "\n",
              "    .colab-df-convert:hover {\n",
              "      background-color: #E2EBFA;\n",
              "      box-shadow: 0px 1px 2px rgba(60, 64, 67, 0.3), 0px 1px 3px 1px rgba(60, 64, 67, 0.15);\n",
              "      fill: #174EA6;\n",
              "    }\n",
              "\n",
              "    [theme=dark] .colab-df-convert {\n",
              "      background-color: #3B4455;\n",
              "      fill: #D2E3FC;\n",
              "    }\n",
              "\n",
              "    [theme=dark] .colab-df-convert:hover {\n",
              "      background-color: #434B5C;\n",
              "      box-shadow: 0px 1px 3px 1px rgba(0, 0, 0, 0.15);\n",
              "      filter: drop-shadow(0px 1px 2px rgba(0, 0, 0, 0.3));\n",
              "      fill: #FFFFFF;\n",
              "    }\n",
              "  </style>\n",
              "\n",
              "      <script>\n",
              "        const buttonEl =\n",
              "          document.querySelector('#df-b9ec1ecc-df85-4ff6-88f6-bbf1907408c0 button.colab-df-convert');\n",
              "        buttonEl.style.display =\n",
              "          google.colab.kernel.accessAllowed ? 'block' : 'none';\n",
              "\n",
              "        async function convertToInteractive(key) {\n",
              "          const element = document.querySelector('#df-b9ec1ecc-df85-4ff6-88f6-bbf1907408c0');\n",
              "          const dataTable =\n",
              "            await google.colab.kernel.invokeFunction('convertToInteractive',\n",
              "                                                     [key], {});\n",
              "          if (!dataTable) return;\n",
              "\n",
              "          const docLinkHtml = 'Like what you see? Visit the ' +\n",
              "            '<a target=\"_blank\" href=https://colab.research.google.com/notebooks/data_table.ipynb>data table notebook</a>'\n",
              "            + ' to learn more about interactive tables.';\n",
              "          element.innerHTML = '';\n",
              "          dataTable['output_type'] = 'display_data';\n",
              "          await google.colab.output.renderOutput(dataTable, element);\n",
              "          const docLink = document.createElement('div');\n",
              "          docLink.innerHTML = docLinkHtml;\n",
              "          element.appendChild(docLink);\n",
              "        }\n",
              "      </script>\n",
              "    </div>\n",
              "  </div>\n",
              "  "
            ]
          },
          "metadata": {},
          "execution_count": 365
        }
      ],
      "source": [
        "pup['shannon'] = -pup['nonzero']*np.log2(pup['nonzero'])\n",
        "pup.head()"
      ]
    },
    {
      "cell_type": "markdown",
      "source": [],
      "metadata": {
        "id": "NdLz2KbZGvAJ"
      }
    },
    {
      "cell_type": "code",
      "source": [
        "len(np.unique(pup['pos']))"
      ],
      "metadata": {
        "colab": {
          "base_uri": "https://localhost:8080/"
        },
        "id": "vLFxU05rr5pJ",
        "outputId": "624c0037-28d8-454f-8769-2c52d41d577c"
      },
      "execution_count": 366,
      "outputs": [
        {
          "output_type": "execute_result",
          "data": {
            "text/plain": [
              "675"
            ]
          },
          "metadata": {},
          "execution_count": 366
        }
      ]
    },
    {
      "cell_type": "code",
      "source": [
        "pup['shannon'].describe()"
      ],
      "metadata": {
        "colab": {
          "base_uri": "https://localhost:8080/"
        },
        "id": "hCDgWA8V1Fqz",
        "outputId": "0a24ce46-2086-4dbb-f4ba-976f0c66470a"
      },
      "execution_count": 367,
      "outputs": [
        {
          "output_type": "execute_result",
          "data": {
            "text/plain": [
              "count    675.000000\n",
              "mean       0.139754\n",
              "std        0.221821\n",
              "min       -0.000000\n",
              "25%        0.011000\n",
              "50%        0.047356\n",
              "75%        0.154446\n",
              "max        1.061449\n",
              "Name: shannon, dtype: float64"
            ]
          },
          "metadata": {},
          "execution_count": 367
        }
      ]
    },
    {
      "cell_type": "code",
      "source": [
        "grouped = pup.groupby('pos')['shannon'].sum().reset_index() "
      ],
      "metadata": {
        "id": "qDC-bhRCHDQO"
      },
      "execution_count": 368,
      "outputs": []
    },
    {
      "cell_type": "code",
      "execution_count": 369,
      "metadata": {
        "colab": {
          "base_uri": "https://localhost:8080/",
          "height": 472
        },
        "id": "f6wDPK3dR2cP",
        "outputId": "13e97177-1a95-4ff5-ed14-31c3210fb191"
      },
      "outputs": [
        {
          "output_type": "display_data",
          "data": {
            "text/plain": [
              "<Figure size 640x480 with 1 Axes>"
            ],
            "image/png": "[encoded data removed]"
          },
          "metadata": {}
        }
      ],
      "source": [
        "plt.scatter(grouped['pos'], grouped['shannon'],s=1)\n",
        "plt.xlabel('Position')\n",
        "plt.ylabel('Shannon Entropy')\n",
        "plt.title('Shannon Entropy on each reads in Pileup Data')\n",
        "plt.axhline(0.8, c='red', linewidth=1)\n",
        "plt.show()"
      ]
    },
    {
      "cell_type": "code",
      "source": [
        "import collections\n",
        "from scipy.stats import entropy\n",
        "\n",
        "def shannon(seq):\n",
        "    tmp = collections.Counter([tmp_base for tmp_base in seq])\n",
        "    dist = [x/sum(tmp.values()) for x in tmp.values()]\n",
        "    result = entropy(dist, base=2)\n",
        "    return result"
      ],
      "metadata": {
        "id": "RjWKzYDew8bN"
      },
      "execution_count": 353,
      "outputs": []
    },
    {
      "cell_type": "code",
      "source": [
        "pup2 = pup\n",
        "pup2['shannon'] = pup2['matches'].map(lambda x : shannon(x))\n",
        "plt.scatter(pup2['pos'], pup2['shannon'],s=1)\n",
        "plt.xlabel('Position')\n",
        "plt.ylabel('Shannon Entropy')\n",
        "plt.title('Shannon Entropy by Position in Pileup Data')\n",
        "plt.axhline(0.8, c='red', linewidth=2)\n",
        "plt.show()"
      ],
      "metadata": {
        "colab": {
          "base_uri": "https://localhost:8080/",
          "height": 581
        },
        "id": "qrthVNSrxJh4",
        "outputId": "20675354-b1d3-47cd-ea7e-bf273745cf5c"
      },
      "execution_count": 354,
      "outputs": [
        {
          "output_type": "stream",
          "name": "stderr",
          "text": [
            "<ipython-input-354-84df57a27493>:2: SettingWithCopyWarning: \n",
            "A value is trying to be set on a copy of a slice from a DataFrame.\n",
            "Try using .loc[row_indexer,col_indexer] = value instead\n",
            "\n",
            "See the caveats in the documentation: https://pandas.pydata.org/pandas-docs/stable/user_guide/indexing.html#returning-a-view-versus-a-copy\n",
            "  pup2['shannon'] = pup2['matches'].map(lambda x : shannon(x))\n"
          ]
        },
        {
          "output_type": "display_data",
          "data": {
            "text/plain": [
              "<Figure size 640x480 with 1 Axes>"
            ],
            "image/png": "[encoded data removed]"
          },
          "metadata": {}
        }
      ]
    },
    {
      "cell_type": "code",
      "source": [
        "subpup = pup[(pup['shannon'] > 0.8) & (pup['pos'] > 1.0e8)]"
      ],
      "metadata": {
        "id": "g-llClCEBjJl"
      },
      "execution_count": 370,
      "outputs": []
    },
    {
      "cell_type": "code",
      "source": [
        "plt.scatter(subpup['pos'], subpup['shannon'],s=1)\n",
        "plt.xlabel('Position')\n",
        "plt.ylabel('Shannon Entropy')\n",
        "plt.title('Shannon Entropy by Position in Pileup Data')\n",
        "plt.xlim(1.1e8,124252714)\n",
        "plt.show()"
      ],
      "metadata": {
        "colab": {
          "base_uri": "https://localhost:8080/",
          "height": 472
        },
        "id": "IYLtlHtDSPdR",
        "outputId": "3be610b7-2efa-4050-c243-d67084965e46"
      },
      "execution_count": 378,
      "outputs": [
        {
          "output_type": "display_data",
          "data": {
            "text/plain": [
              "<Figure size 640x480 with 1 Axes>"
            ],
            "image/png": "[encoded data removed]"
          },
          "metadata": {}
        }
      ]
    },
    {
      "cell_type": "code",
      "source": [
        "subpup"
      ],
      "metadata": {
        "colab": {
          "base_uri": "https://localhost:8080/",
          "height": 684
        },
        "id": "xd403rroS58g",
        "outputId": "8125e8a3-ee88-4dc8-ebc5-5d96bf827f01"
      },
      "execution_count": 380,
      "outputs": [
        {
          "output_type": "execute_result",
          "data": {
            "text/plain": [
              "         chrom        pos ref  count  \\\n",
              "17523922  chr9  120788886   N   2217   \n",
              "17524432  chr9  120789396   N   7955   \n",
              "17524467  chr9  120789431   N   5121   \n",
              "17524468  chr9  120789432   N   1760   \n",
              "17966887  chr9  123290888   N   7432   \n",
              "17966937  chr9  123290938   N   2090   \n",
              "17966970  chr9  123290971   N   2603   \n",
              "17966972  chr9  123290973   N   3831   \n",
              "17967018  chr9  123291019   N   2581   \n",
              "17967024  chr9  123291025   N   2477   \n",
              "17967030  chr9  123291031   N   3529   \n",
              "17967056  chr9  123291057   N   4941   \n",
              "17967058  chr9  123291059   N   7413   \n",
              "17967101  chr9  123291102   N   3210   \n",
              "17967140  chr9  123291141   N   2093   \n",
              "17967147  chr9  123291148   N   5798   \n",
              "\n",
              "                                                  basereads  \\\n",
              "17523922  AAAAAAAAAAAAAAAAAAAAAAAAAAAAAAAAAAAAAAAAAAAAAA...   \n",
              "17524432  AAAAAAAAAAAAAAAAAAAAAAAAAAAAAAAAAAAAAAAAAAAAAA...   \n",
              "17524467  TTTT$T$T$T$TT$T$T$T$T$T$T$T$TTT$TTT$TT$TT$T$TT...   \n",
              "17524468  C$C$C$C$C$CC$C$C$C$C$C$C$C$C$C$C$C$CC$C$C$C$C$...   \n",
              "17966887  >>>>>>AAAAAAAAAAAAAAAAAAAAAAAAAAAAAAAAAAAAA-1N...   \n",
              "17966937  >>>>>>C$C$C$C$C$C$C$C$C$CC$CC$C$CC$C$C$C$C$C$C...   \n",
              "17966970  >>>>>>AAAAAA$AAAAAAAAAAAA$AAAAAA$AAAAAAAAAAA$A...   \n",
              "17966972  >>>>>>GGGGGGGGGGGGGGGGGGGGGGGGGGGGGGGGGGGGGGGG...   \n",
              "17967018  >>>>>>TT$TTTTTTT$TTT$TTT$T$TT$TTTTTTTTTTTTTT$T...   \n",
              "17967024  >>>>>>AAAAAAAAAAAAAAAAAAAAAAAAAAAAAAAAAAAAAAAA...   \n",
              "17967030  >>>>>>AAAAAAAAAAAAAAAAAAA>AAAAAAAAAAAAAAAAAAAA...   \n",
              "17967056  >>>>>>>AAAAAAAAAAAAAAAAAAAAAAAAAAAAAAAAAAAAAAA...   \n",
              "17967058  >>>>>>>AAAAAAAAAAAAAAAAAAAAAAAAAAAAAAAAAAAAAAA...   \n",
              "17967101  AAAAAA>AAAAAAAAAAAAAAAAAAAAAAAAAAAAAAAAAAAAAAA...   \n",
              "17967140  C$C$C$C$C$C$>C$CCCCCCCCCCCCCCCCCC$CCC$CCCCCCCC...   \n",
              "17967147  >AAAAAAAAAAAAAAAAAAAAAAAAAAAAAAAAAAAAAAAAAAAAA...   \n",
              "\n",
              "                                                      quals  \\\n",
              "17523922  II?@=EHHED?HHIBBHGIIIIHIG?BEIHHIIHIGIIIDFG<IIH...   \n",
              "17524432  IG=DIIHBGIIGI;GI2HIII>HDEDGIDGIGGGHIIEIGHGHDIH...   \n",
              "17524467  IH6IIGB?9IIGIGEEHEHDDGIE?DGIGIIII?HIIGGGGGIIIH...   \n",
              "17524468  IH=BI=FDI:IGIGIIIIGBIGGIIIGIFH8I<IIGG<DHHIEGIB...   \n",
              "17966887  CEF>9EIHDG;B?GGH@BHDIIIHGGHIIIIDI>GH@IG<@EI<@I...   \n",
              "17966937  CEF>9EHEAI:IE?EIFGIDGHGE@;HBBEBGGHE.HBGGHH@GDC...   \n",
              "17966970  CEF>9EHHIGGI<GIIEGIGIIGIGIEHGEIEIHFIBBDIIGIFGI...   \n",
              "17966972  CEF>9EDG.EGICDI>IHGD>DGI8GFH7@G>H8EIBG8BHBFIGG...   \n",
              "17967018  CEF>9E>AHEHEBEFGDEDIIGIDGGHEFIAIF0IDHG>HD7FBEH...   \n",
              "17967024  CEF>9EBGGIFGGGAIEHGEGIEEGFGGGHIGHBIHCI;HHGHBHH...   \n",
              "17967030  CEF>9EECGGEGGGHGDGFGGCEIG@FIGIDGIIIIGIIGH>EIIG...   \n",
              "17967056  CEF>9E@=??E.?9?C>CACBBA?:@A6<@3G=C0G>DE;85E;<<...   \n",
              "17967058  CEF>9E@;??D??C?ACB@AA2@A9=>9AG<<G@CB<=E>D>?G?D...   \n",
              "17967101  EGG@G<@BA8?>BD?@7EI<HGHC;GCHA=IDEBHIGGH?HGI@GD...   \n",
              "17967140  B@E;AE@FDE.>G?EFDGGGEE8AHCE:HDFAHIHIHGCEHDGIGH...   \n",
              "17967147  @E7A?AAA:BEBEDHEIIIHF74HGGIGAIIGGGBGII@GGG?GID...   \n",
              "\n",
              "                                                    matches  base_count  \\\n",
              "17523922  AAAAAAAAAAAAAAAAAAAAAAAAAAAAAAAAAAAAAAAAAAAAAA...        2212   \n",
              "17524432  AAAAAAAAAAAAAAAAAAAAAAAAAAAAAAAAAAAAAAAAAAAAAA...        7955   \n",
              "17524467  TTTTTTTTTTTTTTTTTTTTTTTTTTTTTTTTTTTTTTTTTTTTTT...        5121   \n",
              "17524468  CCCCCCCCCCCCCCCCCCCCCCCCCCCCCCCCCCCCCCCCCCCCCC...        1760   \n",
              "17966887  AAAAAAAAAAAAAAAAAAAAAAAAAAAAAAAAAAAAA1NAAAAAA1...        7401   \n",
              "17966937  CCCCCCCCCCCCCCCCCCCCCCCCCCCCCCCCCCCCCCCCCCCCCC...        2080   \n",
              "17966970  AAAAAAAAAAAAAAAAAAAAAAAAAAAAAAAAAAAAAAAAAAAAAA...        2594   \n",
              "17966972  GGGGGGGGGGGGGGGGGGGGGGGGGGGGGGGGGGGGGGGGGGGGGG...        3814   \n",
              "17967018  TTTTTTTTTTTTTTTTTTTTTTTTTTTTTTTTTTTTTTTTTTTTTT...        2574   \n",
              "17967024  AAAAAAAAAAAAAAAAAAAAAAAAAAAAAAAAAAAAAAAAAAAAAA...        2470   \n",
              "17967030  AAAAAAAAAAAAAAAAAAAAAAAAAAAAAAAAAAAAAAAAAAAAAA...        3522   \n",
              "17967056  AAAAAAAAAAAAAAAAAAAAAAAAAAAAAAAAAAAAAAAAAAAAAA...        4885   \n",
              "17967058  AAAAAAAAAAAAAAAAAAAAAAAAAAAAAAAAAAAAAAAAAAAAAA...        7396   \n",
              "17967101  AAAAAAAAAAAAAAAAAAAAAAAAAAAAAAAAAAAAAAAAAAAAAA...        3209   \n",
              "17967140  CCCCCCCCCCCCCCCCCCCCCCCCCCCCCCCCCCCCCCCCCCCCCC...        2085   \n",
              "17967147  AAAAAAAAAAAAAAAAAAAAAAAAAAAAAAAAAAAAAAAAAAAAAA...        5797   \n",
              "\n",
              "           nonzero   shannon  \n",
              "17523922  0.502842  0.997461  \n",
              "17524432  0.344060  1.059201  \n",
              "17524467  0.602187  0.881260  \n",
              "17524468  0.506329  0.994281  \n",
              "17966887  0.356984  1.061006  \n",
              "17966937  0.627073  0.844410  \n",
              "17966970  0.447782  1.038077  \n",
              "17966972  0.607809  0.873191  \n",
              "17967018  0.633210  0.834879  \n",
              "17967024  0.476190  1.019418  \n",
              "17967030  0.579181  0.912689  \n",
              "17967056  0.629997  0.839890  \n",
              "17967058  0.630520  0.839078  \n",
              "17967101  0.402635  1.056881  \n",
              "17967140  0.543535  0.956138  \n",
              "17967147  0.370510  1.061449  "
            ],
            "text/html": [
              "\n",
              "  <div id=\"df-49bc89c8-0a8f-46ae-b67d-152557485543\">\n",
              "    <div class=\"colab-df-container\">\n",
              "      <div>\n",
              "<style scoped>\n",
              "    .dataframe tbody tr th:only-of-type {\n",
              "        vertical-align: middle;\n",
              "    }\n",
              "\n",
              "    .dataframe tbody tr th {\n",
              "        vertical-align: top;\n",
              "    }\n",
              "\n",
              "    .dataframe thead th {\n",
              "        text-align: right;\n",
              "    }\n",
              "</style>\n",
              "<table border=\"1\" class=\"dataframe\">\n",
              "  <thead>\n",
              "    <tr style=\"text-align: right;\">\n",
              "      <th></th>\n",
              "      <th>chrom</th>\n",
              "      <th>pos</th>\n",
              "      <th>ref</th>\n",
              "      <th>count</th>\n",
              "      <th>basereads</th>\n",
              "      <th>quals</th>\n",
              "      <th>matches</th>\n",
              "      <th>base_count</th>\n",
              "      <th>nonzero</th>\n",
              "      <th>shannon</th>\n",
              "    </tr>\n",
              "  </thead>\n",
              "  <tbody>\n",
              "    <tr>\n",
              "      <th>17523922</th>\n",
              "      <td>chr9</td>\n",
              "      <td>120788886</td>\n",
              "      <td>N</td>\n",
              "      <td>2217</td>\n",
              "      <td>AAAAAAAAAAAAAAAAAAAAAAAAAAAAAAAAAAAAAAAAAAAAAA...</td>\n",
              "      <td>II?@=EHHED?HHIBBHGIIIIHIG?BEIHHIIHIGIIIDFG&lt;IIH...</td>\n",
              "      <td>AAAAAAAAAAAAAAAAAAAAAAAAAAAAAAAAAAAAAAAAAAAAAA...</td>\n",
              "      <td>2212</td>\n",
              "      <td>0.502842</td>\n",
              "      <td>0.997461</td>\n",
              "    </tr>\n",
              "    <tr>\n",
              "      <th>17524432</th>\n",
              "      <td>chr9</td>\n",
              "      <td>120789396</td>\n",
              "      <td>N</td>\n",
              "      <td>7955</td>\n",
              "      <td>AAAAAAAAAAAAAAAAAAAAAAAAAAAAAAAAAAAAAAAAAAAAAA...</td>\n",
              "      <td>IG=DIIHBGIIGI;GI2HIII&gt;HDEDGIDGIGGGHIIEIGHGHDIH...</td>\n",
              "      <td>AAAAAAAAAAAAAAAAAAAAAAAAAAAAAAAAAAAAAAAAAAAAAA...</td>\n",
              "      <td>7955</td>\n",
              "      <td>0.344060</td>\n",
              "      <td>1.059201</td>\n",
              "    </tr>\n",
              "    <tr>\n",
              "      <th>17524467</th>\n",
              "      <td>chr9</td>\n",
              "      <td>120789431</td>\n",
              "      <td>N</td>\n",
              "      <td>5121</td>\n",
              "      <td>TTTT$T$T$T$TT$T$T$T$T$T$T$T$TTT$TTT$TT$TT$T$TT...</td>\n",
              "      <td>IH6IIGB?9IIGIGEEHEHDDGIE?DGIGIIII?HIIGGGGGIIIH...</td>\n",
              "      <td>TTTTTTTTTTTTTTTTTTTTTTTTTTTTTTTTTTTTTTTTTTTTTT...</td>\n",
              "      <td>5121</td>\n",
              "      <td>0.602187</td>\n",
              "      <td>0.881260</td>\n",
              "    </tr>\n",
              "    <tr>\n",
              "      <th>17524468</th>\n",
              "      <td>chr9</td>\n",
              "      <td>120789432</td>\n",
              "      <td>N</td>\n",
              "      <td>1760</td>\n",
              "      <td>C$C$C$C$C$CC$C$C$C$C$C$C$C$C$C$C$C$CC$C$C$C$C$...</td>\n",
              "      <td>IH=BI=FDI:IGIGIIIIGBIGGIIIGIFH8I&lt;IIGG&lt;DHHIEGIB...</td>\n",
              "      <td>CCCCCCCCCCCCCCCCCCCCCCCCCCCCCCCCCCCCCCCCCCCCCC...</td>\n",
              "      <td>1760</td>\n",
              "      <td>0.506329</td>\n",
              "      <td>0.994281</td>\n",
              "    </tr>\n",
              "    <tr>\n",
              "      <th>17966887</th>\n",
              "      <td>chr9</td>\n",
              "      <td>123290888</td>\n",
              "      <td>N</td>\n",
              "      <td>7432</td>\n",
              "      <td>&gt;&gt;&gt;&gt;&gt;&gt;AAAAAAAAAAAAAAAAAAAAAAAAAAAAAAAAAAAAA-1N...</td>\n",
              "      <td>CEF&gt;9EIHDG;B?GGH@BHDIIIHGGHIIIIDI&gt;GH@IG&lt;@EI&lt;@I...</td>\n",
              "      <td>AAAAAAAAAAAAAAAAAAAAAAAAAAAAAAAAAAAAA1NAAAAAA1...</td>\n",
              "      <td>7401</td>\n",
              "      <td>0.356984</td>\n",
              "      <td>1.061006</td>\n",
              "    </tr>\n",
              "    <tr>\n",
              "      <th>17966937</th>\n",
              "      <td>chr9</td>\n",
              "      <td>123290938</td>\n",
              "      <td>N</td>\n",
              "      <td>2090</td>\n",
              "      <td>&gt;&gt;&gt;&gt;&gt;&gt;C$C$C$C$C$C$C$C$C$CC$CC$C$CC$C$C$C$C$C$C...</td>\n",
              "      <td>CEF&gt;9EHEAI:IE?EIFGIDGHGE@;HBBEBGGHE.HBGGHH@GDC...</td>\n",
              "      <td>CCCCCCCCCCCCCCCCCCCCCCCCCCCCCCCCCCCCCCCCCCCCCC...</td>\n",
              "      <td>2080</td>\n",
              "      <td>0.627073</td>\n",
              "      <td>0.844410</td>\n",
              "    </tr>\n",
              "    <tr>\n",
              "      <th>17966970</th>\n",
              "      <td>chr9</td>\n",
              "      <td>123290971</td>\n",
              "      <td>N</td>\n",
              "      <td>2603</td>\n",
              "      <td>&gt;&gt;&gt;&gt;&gt;&gt;AAAAAA$AAAAAAAAAAAA$AAAAAA$AAAAAAAAAAA$A...</td>\n",
              "      <td>CEF&gt;9EHHIGGI&lt;GIIEGIGIIGIGIEHGEIEIHFIBBDIIGIFGI...</td>\n",
              "      <td>AAAAAAAAAAAAAAAAAAAAAAAAAAAAAAAAAAAAAAAAAAAAAA...</td>\n",
              "      <td>2594</td>\n",
              "      <td>0.447782</td>\n",
              "      <td>1.038077</td>\n",
              "    </tr>\n",
              "    <tr>\n",
              "      <th>17966972</th>\n",
              "      <td>chr9</td>\n",
              "      <td>123290973</td>\n",
              "      <td>N</td>\n",
              "      <td>3831</td>\n",
              "      <td>&gt;&gt;&gt;&gt;&gt;&gt;GGGGGGGGGGGGGGGGGGGGGGGGGGGGGGGGGGGGGGGG...</td>\n",
              "      <td>CEF&gt;9EDG.EGICDI&gt;IHGD&gt;DGI8GFH7@G&gt;H8EIBG8BHBFIGG...</td>\n",
              "      <td>GGGGGGGGGGGGGGGGGGGGGGGGGGGGGGGGGGGGGGGGGGGGGG...</td>\n",
              "      <td>3814</td>\n",
              "      <td>0.607809</td>\n",
              "      <td>0.873191</td>\n",
              "    </tr>\n",
              "    <tr>\n",
              "      <th>17967018</th>\n",
              "      <td>chr9</td>\n",
              "      <td>123291019</td>\n",
              "      <td>N</td>\n",
              "      <td>2581</td>\n",
              "      <td>&gt;&gt;&gt;&gt;&gt;&gt;TT$TTTTTTT$TTT$TTT$T$TT$TTTTTTTTTTTTTT$T...</td>\n",
              "      <td>CEF&gt;9E&gt;AHEHEBEFGDEDIIGIDGGHEFIAIF0IDHG&gt;HD7FBEH...</td>\n",
              "      <td>TTTTTTTTTTTTTTTTTTTTTTTTTTTTTTTTTTTTTTTTTTTTTT...</td>\n",
              "      <td>2574</td>\n",
              "      <td>0.633210</td>\n",
              "      <td>0.834879</td>\n",
              "    </tr>\n",
              "    <tr>\n",
              "      <th>17967024</th>\n",
              "      <td>chr9</td>\n",
              "      <td>123291025</td>\n",
              "      <td>N</td>\n",
              "      <td>2477</td>\n",
              "      <td>&gt;&gt;&gt;&gt;&gt;&gt;AAAAAAAAAAAAAAAAAAAAAAAAAAAAAAAAAAAAAAAA...</td>\n",
              "      <td>CEF&gt;9EBGGIFGGGAIEHGEGIEEGFGGGHIGHBIHCI;HHGHBHH...</td>\n",
              "      <td>AAAAAAAAAAAAAAAAAAAAAAAAAAAAAAAAAAAAAAAAAAAAAA...</td>\n",
              "      <td>2470</td>\n",
              "      <td>0.476190</td>\n",
              "      <td>1.019418</td>\n",
              "    </tr>\n",
              "    <tr>\n",
              "      <th>17967030</th>\n",
              "      <td>chr9</td>\n",
              "      <td>123291031</td>\n",
              "      <td>N</td>\n",
              "      <td>3529</td>\n",
              "      <td>&gt;&gt;&gt;&gt;&gt;&gt;AAAAAAAAAAAAAAAAAAA&gt;AAAAAAAAAAAAAAAAAAAA...</td>\n",
              "      <td>CEF&gt;9EECGGEGGGHGDGFGGCEIG@FIGIDGIIIIGIIGH&gt;EIIG...</td>\n",
              "      <td>AAAAAAAAAAAAAAAAAAAAAAAAAAAAAAAAAAAAAAAAAAAAAA...</td>\n",
              "      <td>3522</td>\n",
              "      <td>0.579181</td>\n",
              "      <td>0.912689</td>\n",
              "    </tr>\n",
              "    <tr>\n",
              "      <th>17967056</th>\n",
              "      <td>chr9</td>\n",
              "      <td>123291057</td>\n",
              "      <td>N</td>\n",
              "      <td>4941</td>\n",
              "      <td>&gt;&gt;&gt;&gt;&gt;&gt;&gt;AAAAAAAAAAAAAAAAAAAAAAAAAAAAAAAAAAAAAAA...</td>\n",
              "      <td>CEF&gt;9E@=??E.?9?C&gt;CACBBA?:@A6&lt;@3G=C0G&gt;DE;85E;&lt;&lt;...</td>\n",
              "      <td>AAAAAAAAAAAAAAAAAAAAAAAAAAAAAAAAAAAAAAAAAAAAAA...</td>\n",
              "      <td>4885</td>\n",
              "      <td>0.629997</td>\n",
              "      <td>0.839890</td>\n",
              "    </tr>\n",
              "    <tr>\n",
              "      <th>17967058</th>\n",
              "      <td>chr9</td>\n",
              "      <td>123291059</td>\n",
              "      <td>N</td>\n",
              "      <td>7413</td>\n",
              "      <td>&gt;&gt;&gt;&gt;&gt;&gt;&gt;AAAAAAAAAAAAAAAAAAAAAAAAAAAAAAAAAAAAAAA...</td>\n",
              "      <td>CEF&gt;9E@;??D??C?ACB@AA2@A9=&gt;9AG&lt;&lt;G@CB&lt;=E&gt;D&gt;?G?D...</td>\n",
              "      <td>AAAAAAAAAAAAAAAAAAAAAAAAAAAAAAAAAAAAAAAAAAAAAA...</td>\n",
              "      <td>7396</td>\n",
              "      <td>0.630520</td>\n",
              "      <td>0.839078</td>\n",
              "    </tr>\n",
              "    <tr>\n",
              "      <th>17967101</th>\n",
              "      <td>chr9</td>\n",
              "      <td>123291102</td>\n",
              "      <td>N</td>\n",
              "      <td>3210</td>\n",
              "      <td>AAAAAA&gt;AAAAAAAAAAAAAAAAAAAAAAAAAAAAAAAAAAAAAAA...</td>\n",
              "      <td>EGG@G&lt;@BA8?&gt;BD?@7EI&lt;HGHC;GCHA=IDEBHIGGH?HGI@GD...</td>\n",
              "      <td>AAAAAAAAAAAAAAAAAAAAAAAAAAAAAAAAAAAAAAAAAAAAAA...</td>\n",
              "      <td>3209</td>\n",
              "      <td>0.402635</td>\n",
              "      <td>1.056881</td>\n",
              "    </tr>\n",
              "    <tr>\n",
              "      <th>17967140</th>\n",
              "      <td>chr9</td>\n",
              "      <td>123291141</td>\n",
              "      <td>N</td>\n",
              "      <td>2093</td>\n",
              "      <td>C$C$C$C$C$C$&gt;C$CCCCCCCCCCCCCCCCCC$CCC$CCCCCCCC...</td>\n",
              "      <td>B@E;AE@FDE.&gt;G?EFDGGGEE8AHCE:HDFAHIHIHGCEHDGIGH...</td>\n",
              "      <td>CCCCCCCCCCCCCCCCCCCCCCCCCCCCCCCCCCCCCCCCCCCCCC...</td>\n",
              "      <td>2085</td>\n",
              "      <td>0.543535</td>\n",
              "      <td>0.956138</td>\n",
              "    </tr>\n",
              "    <tr>\n",
              "      <th>17967147</th>\n",
              "      <td>chr9</td>\n",
              "      <td>123291148</td>\n",
              "      <td>N</td>\n",
              "      <td>5798</td>\n",
              "      <td>&gt;AAAAAAAAAAAAAAAAAAAAAAAAAAAAAAAAAAAAAAAAAAAAA...</td>\n",
              "      <td>@E7A?AAA:BEBEDHEIIIHF74HGGIGAIIGGGBGII@GGG?GID...</td>\n",
              "      <td>AAAAAAAAAAAAAAAAAAAAAAAAAAAAAAAAAAAAAAAAAAAAAA...</td>\n",
              "      <td>5797</td>\n",
              "      <td>0.370510</td>\n",
              "      <td>1.061449</td>\n",
              "    </tr>\n",
              "  </tbody>\n",
              "</table>\n",
              "</div>\n",
              "      <button class=\"colab-df-convert\" onclick=\"convertToInteractive('df-49bc89c8-0a8f-46ae-b67d-152557485543')\"\n",
              "              title=\"Convert this dataframe to an interactive table.\"\n",
              "              style=\"display:none;\">\n",
              "        \n",
              "  <svg xmlns=\"http://www.w3.org/2000/svg\" height=\"24px\"viewBox=\"0 0 24 24\"\n",
              "       width=\"24px\">\n",
              "    <path d=\"M0 0h24v24H0V0z\" fill=\"none\"/>\n",
              "    <path d=\"M18.56 5.44l.94 2.06.94-2.06 2.06-.94-2.06-.94-.94-2.06-.94 2.06-2.06.94zm-11 1L8.5 8.5l.94-2.06 2.06-.94-2.06-.94L8.5 2.5l-.94 2.06-2.06.94zm10 10l.94 2.06.94-2.06 2.06-.94-2.06-.94-.94-2.06-.94 2.06-2.06.94z\"/><path d=\"M17.41 7.96l-1.37-1.37c-.4-.4-.92-.59-1.43-.59-.52 0-1.04.2-1.43.59L10.3 9.45l-7.72 7.72c-.78.78-.78 2.05 0 2.83L4 21.41c.39.39.9.59 1.41.59.51 0 1.02-.2 1.41-.59l7.78-7.78 2.81-2.81c.8-.78.8-2.07 0-2.86zM5.41 20L4 18.59l7.72-7.72 1.47 1.35L5.41 20z\"/>\n",
              "  </svg>\n",
              "      </button>\n",
              "      \n",
              "  <style>\n",
              "    .colab-df-container {\n",
              "      display:flex;\n",
              "      flex-wrap:wrap;\n",
              "      gap: 12px;\n",
              "    }\n",
              "\n",
              "    .colab-df-convert {\n",
              "      background-color: #E8F0FE;\n",
              "      border: none;\n",
              "      border-radius: 50%;\n",
              "      cursor: pointer;\n",
              "      display: none;\n",
              "      fill: #1967D2;\n",
              "      height: 32px;\n",
              "      padding: 0 0 0 0;\n",
              "      width: 32px;\n",
              "    }\n",
              "\n",
              "    .colab-df-convert:hover {\n",
              "      background-color: #E2EBFA;\n",
              "      box-shadow: 0px 1px 2px rgba(60, 64, 67, 0.3), 0px 1px 3px 1px rgba(60, 64, 67, 0.15);\n",
              "      fill: #174EA6;\n",
              "    }\n",
              "\n",
              "    [theme=dark] .colab-df-convert {\n",
              "      background-color: #3B4455;\n",
              "      fill: #D2E3FC;\n",
              "    }\n",
              "\n",
              "    [theme=dark] .colab-df-convert:hover {\n",
              "      background-color: #434B5C;\n",
              "      box-shadow: 0px 1px 3px 1px rgba(0, 0, 0, 0.15);\n",
              "      filter: drop-shadow(0px 1px 2px rgba(0, 0, 0, 0.3));\n",
              "      fill: #FFFFFF;\n",
              "    }\n",
              "  </style>\n",
              "\n",
              "      <script>\n",
              "        const buttonEl =\n",
              "          document.querySelector('#df-49bc89c8-0a8f-46ae-b67d-152557485543 button.colab-df-convert');\n",
              "        buttonEl.style.display =\n",
              "          google.colab.kernel.accessAllowed ? 'block' : 'none';\n",
              "\n",
              "        async function convertToInteractive(key) {\n",
              "          const element = document.querySelector('#df-49bc89c8-0a8f-46ae-b67d-152557485543');\n",
              "          const dataTable =\n",
              "            await google.colab.kernel.invokeFunction('convertToInteractive',\n",
              "                                                     [key], {});\n",
              "          if (!dataTable) return;\n",
              "\n",
              "          const docLinkHtml = 'Like what you see? Visit the ' +\n",
              "            '<a target=\"_blank\" href=https://colab.research.google.com/notebooks/data_table.ipynb>data table notebook</a>'\n",
              "            + ' to learn more about interactive tables.';\n",
              "          element.innerHTML = '';\n",
              "          dataTable['output_type'] = 'display_data';\n",
              "          await google.colab.output.renderOutput(dataTable, element);\n",
              "          const docLink = document.createElement('div');\n",
              "          docLink.innerHTML = docLinkHtml;\n",
              "          element.appendChild(docLink);\n",
              "        }\n",
              "      </script>\n",
              "    </div>\n",
              "  </div>\n",
              "  "
            ]
          },
          "metadata": {},
          "execution_count": 380
        }
      ]
    }
  ],
  "metadata": {
    "colab": {
      "provenance": [],
      "authorship_tag": "ABX9TyNtTalKjUZLyFVzfTEd8q71",
      "include_colab_link": true
    },
    "kernelspec": {
      "display_name": "Python 3",
      "name": "python3"
    },
    "language_info": {
      "name": "python"
    }
  },
  "nbformat": 4,
  "nbformat_minor": 0
}