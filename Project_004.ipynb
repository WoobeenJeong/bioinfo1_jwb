{
  "cells": [
    {
      "cell_type": "markdown",
      "metadata": {
        "id": "view-in-github",
        "colab_type": "text"
      },
      "source": [
        "<a href=\"https://colab.research.google.com/github/WoobeenJeong/bioinfo1_jwb/blob/main/Project_004.ipynb\" target=\"_parent\"><img src=\"https://colab.research.google.com/assets/colab-badge.svg\" alt=\"Open In Colab\"/></a>"
      ]
    },
    {
      "cell_type": "markdown",
      "metadata": {
        "id": "bpP3b34tMVlI"
      },
      "source": [
        "**1) Data mounting**"
      ]
    },
    {
      "cell_type": "code",
      "execution_count": 1,
      "metadata": {
        "colab": {
          "base_uri": "https://localhost:8080/"
        },
        "id": "ucOASOB2MKSS",
        "outputId": "2d6dabf1-64aa-446e-9ada-678b93549c88"
      },
      "outputs": [
        {
          "output_type": "stream",
          "name": "stdout",
          "text": [
            "Mounted at /content/drive\n"
          ]
        }
      ],
      "source": [
        "from google.colab import drive\n",
        "drive.mount('/content/drive')"
      ]
    },
    {
      "cell_type": "markdown",
      "metadata": {
        "id": "HGeYUN4bNg0Y"
      },
      "source": [
        "**2) Environment setting**"
      ]
    },
    {
      "cell_type": "code",
      "execution_count": null,
      "metadata": {
        "id": "qpAeDN_xNoiI"
      },
      "outputs": [],
      "source": [
        "!git clone https://github.com/hyeshik/colab-biolab.git\n",
        "!cd colab-biolab && bash tools/setup.sh\n",
        "exec(open('colab-biolab/tools/activate_conda.py').read())"
      ]
    },
    {
      "cell_type": "code",
      "execution_count": null,
      "metadata": {
        "id": "_eQeafJils95"
      },
      "outputs": [],
      "source": [
        "!conda install -y bedtools bioawk samtools"
      ]
    },
    {
      "cell_type": "markdown",
      "metadata": {
        "id": "ZtTJ5WTneSTX"
      },
      "source": [
        "**3) Data loading & check**"
      ]
    },
    {
      "cell_type": "markdown",
      "metadata": {
        "id": "ziU8sAjtlk1T"
      },
      "source": [
        "**4) Background setting**"
      ]
    },
    {
      "cell_type": "code",
      "execution_count": 70,
      "metadata": {
        "colab": {
          "base_uri": "https://localhost:8080/"
        },
        "id": "bXc89_vbuqLF",
        "outputId": "1ec9d046-9bee-4d71-8f89-6a33af5bf9b6"
      },
      "outputs": [
        {
          "output_type": "stream",
          "name": "stdout",
          "text": [
            "/content/drive/MyDrive/binfo1-work\n"
          ]
        }
      ],
      "source": [
        "%cd /content/drive/MyDrive/binfo1-work\n",
        "import pandas as pd\n",
        "import numpy as np\n",
        "import matplotlib.pyplot as plt\n",
        "import re\n",
        "from collections import Counter"
      ]
    },
    {
      "cell_type": "code",
      "execution_count": 71,
      "metadata": {
        "id": "sqRqHaX7PcQj"
      },
      "outputs": [],
      "source": [
        "!gzip -d gencode.vM32.annotation.gtf.gz"
      ]
    },
    {
      "cell_type": "code",
      "execution_count": 72,
      "metadata": {
        "id": "45-1kKZdWWqh"
      },
      "outputs": [],
      "source": [
        "!grep 'chr9' gencode.vM32.annotation.gtf > gencode.vM32.chr9.gtf"
      ]
    },
    {
      "cell_type": "code",
      "source": [
        "f50pileup = pd.read_csv('f50pileup.csv')"
      ],
      "metadata": {
        "id": "8E6nk47Lu9FA"
      },
      "execution_count": 28,
      "outputs": []
    },
    {
      "cell_type": "code",
      "execution_count": 29,
      "metadata": {
        "colab": {
          "base_uri": "https://localhost:8080/",
          "height": 305
        },
        "id": "dwPHY6D5xWpK",
        "outputId": "63fbcaec-cc8a-4601-b73d-feaa81e6c53c"
      },
      "outputs": [
        {
          "output_type": "execute_result",
          "data": {
            "text/plain": [
              "   Unnamed: 0 chrom      pos ref  count  \\\n",
              "0       21616  chr9  3359542   N     51   \n",
              "1       21617  chr9  3359543   N     51   \n",
              "2       21618  chr9  3359544   N     51   \n",
              "3       21619  chr9  3359545   N     51   \n",
              "4       21620  chr9  3359546   N     51   \n",
              "\n",
              "                                           basereads  \\\n",
              "0  GGGGGGGGGGGGGGGGGGGGGGGGGGGGGGGGGGGGGGGGGGGGGG...   \n",
              "1  GGGGGGGGGGGGGGGGGGGGGGGGGGGGGGGGGGGGGGGGGGGGGG...   \n",
              "2  AAAAAAAAAAAAAAAAAAAAAAAAAAAAAAAAAAAAAAAAAAAAAA...   \n",
              "3  GGGGGGGGGGGGGGGGGGGGGGGGGGGGGGGGGGGGGGGGGGGGGG...   \n",
              "4  TTTTTTTTTTTTTTTTTTTTTTTTTTTTTTTTTTTTTTTTTTTTTT...   \n",
              "\n",
              "                                               quals  \\\n",
              "0  HDEIHIIGIIIHHIIGAIIIGIBGIHBFGIHE?GIGIHGGHHIBII...   \n",
              "1  IGEIHFG@IIIHHHIGFHIIEIBHIH;GGIHH=GIEIHIGHHIGII...   \n",
              "2  IHBIHIIDHGIGHIIIDIIIDH0HH?DEHFHBBGIGIHIGHHDAII...   \n",
              "3  IH8IHIIEIGIGHIIFFIIIGI=HIHDGGIHI;GHIIGHGHHI4DI...   \n",
              "4  IHEIHHIEIGGDHIIDHIIIGI7HIH>GHIHI<GIGIFIGDHFCII...   \n",
              "\n",
              "                                             matches  base_count  \n",
              "0  GGGGGGGGGGGGGGGGGGGGGGGGGGGGGGGGGGGGGGGGGGGGGG...          51  \n",
              "1  GGGGGGGGGGGGGGGGGGGGGGGGGGGGGGGGGGGGGGGGGGGGGG...          51  \n",
              "2  AAAAAAAAAAAAAAAAAAAAAAAAAAAAAAAAAAAAAAAAAAAAAA...          51  \n",
              "3  GGGGGGGGGGGGGGGGGGGGGGGGGGGGGGGGGGGGGGGGGGGGGG...          51  \n",
              "4  TTTTTTTTTTTTTTTTTTTTTTTTTTTTTTTTTTTTTTTTTTTTTT...          51  "
            ],
            "text/html": [
              "\n",
              "  <div id=\"df-e4ba11e5-a418-4084-9c3d-d4cdb15109bd\">\n",
              "    <div class=\"colab-df-container\">\n",
              "      <div>\n",
              "<style scoped>\n",
              "    .dataframe tbody tr th:only-of-type {\n",
              "        vertical-align: middle;\n",
              "    }\n",
              "\n",
              "    .dataframe tbody tr th {\n",
              "        vertical-align: top;\n",
              "    }\n",
              "\n",
              "    .dataframe thead th {\n",
              "        text-align: right;\n",
              "    }\n",
              "</style>\n",
              "<table border=\"1\" class=\"dataframe\">\n",
              "  <thead>\n",
              "    <tr style=\"text-align: right;\">\n",
              "      <th></th>\n",
              "      <th>Unnamed: 0</th>\n",
              "      <th>chrom</th>\n",
              "      <th>pos</th>\n",
              "      <th>ref</th>\n",
              "      <th>count</th>\n",
              "      <th>basereads</th>\n",
              "      <th>quals</th>\n",
              "      <th>matches</th>\n",
              "      <th>base_count</th>\n",
              "    </tr>\n",
              "  </thead>\n",
              "  <tbody>\n",
              "    <tr>\n",
              "      <th>0</th>\n",
              "      <td>21616</td>\n",
              "      <td>chr9</td>\n",
              "      <td>3359542</td>\n",
              "      <td>N</td>\n",
              "      <td>51</td>\n",
              "      <td>GGGGGGGGGGGGGGGGGGGGGGGGGGGGGGGGGGGGGGGGGGGGGG...</td>\n",
              "      <td>HDEIHIIGIIIHHIIGAIIIGIBGIHBFGIHE?GIGIHGGHHIBII...</td>\n",
              "      <td>GGGGGGGGGGGGGGGGGGGGGGGGGGGGGGGGGGGGGGGGGGGGGG...</td>\n",
              "      <td>51</td>\n",
              "    </tr>\n",
              "    <tr>\n",
              "      <th>1</th>\n",
              "      <td>21617</td>\n",
              "      <td>chr9</td>\n",
              "      <td>3359543</td>\n",
              "      <td>N</td>\n",
              "      <td>51</td>\n",
              "      <td>GGGGGGGGGGGGGGGGGGGGGGGGGGGGGGGGGGGGGGGGGGGGGG...</td>\n",
              "      <td>IGEIHFG@IIIHHHIGFHIIEIBHIH;GGIHH=GIEIHIGHHIGII...</td>\n",
              "      <td>GGGGGGGGGGGGGGGGGGGGGGGGGGGGGGGGGGGGGGGGGGGGGG...</td>\n",
              "      <td>51</td>\n",
              "    </tr>\n",
              "    <tr>\n",
              "      <th>2</th>\n",
              "      <td>21618</td>\n",
              "      <td>chr9</td>\n",
              "      <td>3359544</td>\n",
              "      <td>N</td>\n",
              "      <td>51</td>\n",
              "      <td>AAAAAAAAAAAAAAAAAAAAAAAAAAAAAAAAAAAAAAAAAAAAAA...</td>\n",
              "      <td>IHBIHIIDHGIGHIIIDIIIDH0HH?DEHFHBBGIGIHIGHHDAII...</td>\n",
              "      <td>AAAAAAAAAAAAAAAAAAAAAAAAAAAAAAAAAAAAAAAAAAAAAA...</td>\n",
              "      <td>51</td>\n",
              "    </tr>\n",
              "    <tr>\n",
              "      <th>3</th>\n",
              "      <td>21619</td>\n",
              "      <td>chr9</td>\n",
              "      <td>3359545</td>\n",
              "      <td>N</td>\n",
              "      <td>51</td>\n",
              "      <td>GGGGGGGGGGGGGGGGGGGGGGGGGGGGGGGGGGGGGGGGGGGGGG...</td>\n",
              "      <td>IH8IHIIEIGIGHIIFFIIIGI=HIHDGGIHI;GHIIGHGHHI4DI...</td>\n",
              "      <td>GGGGGGGGGGGGGGGGGGGGGGGGGGGGGGGGGGGGGGGGGGGGGG...</td>\n",
              "      <td>51</td>\n",
              "    </tr>\n",
              "    <tr>\n",
              "      <th>4</th>\n",
              "      <td>21620</td>\n",
              "      <td>chr9</td>\n",
              "      <td>3359546</td>\n",
              "      <td>N</td>\n",
              "      <td>51</td>\n",
              "      <td>TTTTTTTTTTTTTTTTTTTTTTTTTTTTTTTTTTTTTTTTTTTTTT...</td>\n",
              "      <td>IHEIHHIEIGGDHIIDHIIIGI7HIH&gt;GHIHI&lt;GIGIFIGDHFCII...</td>\n",
              "      <td>TTTTTTTTTTTTTTTTTTTTTTTTTTTTTTTTTTTTTTTTTTTTTT...</td>\n",
              "      <td>51</td>\n",
              "    </tr>\n",
              "  </tbody>\n",
              "</table>\n",
              "</div>\n",
              "      <button class=\"colab-df-convert\" onclick=\"convertToInteractive('df-e4ba11e5-a418-4084-9c3d-d4cdb15109bd')\"\n",
              "              title=\"Convert this dataframe to an interactive table.\"\n",
              "              style=\"display:none;\">\n",
              "        \n",
              "  <svg xmlns=\"http://www.w3.org/2000/svg\" height=\"24px\"viewBox=\"0 0 24 24\"\n",
              "       width=\"24px\">\n",
              "    <path d=\"M0 0h24v24H0V0z\" fill=\"none\"/>\n",
              "    <path d=\"M18.56 5.44l.94 2.06.94-2.06 2.06-.94-2.06-.94-.94-2.06-.94 2.06-2.06.94zm-11 1L8.5 8.5l.94-2.06 2.06-.94-2.06-.94L8.5 2.5l-.94 2.06-2.06.94zm10 10l.94 2.06.94-2.06 2.06-.94-2.06-.94-.94-2.06-.94 2.06-2.06.94z\"/><path d=\"M17.41 7.96l-1.37-1.37c-.4-.4-.92-.59-1.43-.59-.52 0-1.04.2-1.43.59L10.3 9.45l-7.72 7.72c-.78.78-.78 2.05 0 2.83L4 21.41c.39.39.9.59 1.41.59.51 0 1.02-.2 1.41-.59l7.78-7.78 2.81-2.81c.8-.78.8-2.07 0-2.86zM5.41 20L4 18.59l7.72-7.72 1.47 1.35L5.41 20z\"/>\n",
              "  </svg>\n",
              "      </button>\n",
              "      \n",
              "  <style>\n",
              "    .colab-df-container {\n",
              "      display:flex;\n",
              "      flex-wrap:wrap;\n",
              "      gap: 12px;\n",
              "    }\n",
              "\n",
              "    .colab-df-convert {\n",
              "      background-color: #E8F0FE;\n",
              "      border: none;\n",
              "      border-radius: 50%;\n",
              "      cursor: pointer;\n",
              "      display: none;\n",
              "      fill: #1967D2;\n",
              "      height: 32px;\n",
              "      padding: 0 0 0 0;\n",
              "      width: 32px;\n",
              "    }\n",
              "\n",
              "    .colab-df-convert:hover {\n",
              "      background-color: #E2EBFA;\n",
              "      box-shadow: 0px 1px 2px rgba(60, 64, 67, 0.3), 0px 1px 3px 1px rgba(60, 64, 67, 0.15);\n",
              "      fill: #174EA6;\n",
              "    }\n",
              "\n",
              "    [theme=dark] .colab-df-convert {\n",
              "      background-color: #3B4455;\n",
              "      fill: #D2E3FC;\n",
              "    }\n",
              "\n",
              "    [theme=dark] .colab-df-convert:hover {\n",
              "      background-color: #434B5C;\n",
              "      box-shadow: 0px 1px 3px 1px rgba(0, 0, 0, 0.15);\n",
              "      filter: drop-shadow(0px 1px 2px rgba(0, 0, 0, 0.3));\n",
              "      fill: #FFFFFF;\n",
              "    }\n",
              "  </style>\n",
              "\n",
              "      <script>\n",
              "        const buttonEl =\n",
              "          document.querySelector('#df-e4ba11e5-a418-4084-9c3d-d4cdb15109bd button.colab-df-convert');\n",
              "        buttonEl.style.display =\n",
              "          google.colab.kernel.accessAllowed ? 'block' : 'none';\n",
              "\n",
              "        async function convertToInteractive(key) {\n",
              "          const element = document.querySelector('#df-e4ba11e5-a418-4084-9c3d-d4cdb15109bd');\n",
              "          const dataTable =\n",
              "            await google.colab.kernel.invokeFunction('convertToInteractive',\n",
              "                                                     [key], {});\n",
              "          if (!dataTable) return;\n",
              "\n",
              "          const docLinkHtml = 'Like what you see? Visit the ' +\n",
              "            '<a target=\"_blank\" href=https://colab.research.google.com/notebooks/data_table.ipynb>data table notebook</a>'\n",
              "            + ' to learn more about interactive tables.';\n",
              "          element.innerHTML = '';\n",
              "          dataTable['output_type'] = 'display_data';\n",
              "          await google.colab.output.renderOutput(dataTable, element);\n",
              "          const docLink = document.createElement('div');\n",
              "          docLink.innerHTML = docLinkHtml;\n",
              "          element.appendChild(docLink);\n",
              "        }\n",
              "      </script>\n",
              "    </div>\n",
              "  </div>\n",
              "  "
            ]
          },
          "metadata": {},
          "execution_count": 29
        }
      ],
      "source": [
        "f50pileup.head()"
      ]
    },
    {
      "cell_type": "code",
      "source": [
        "subpup = pup[(pup['shannon'] > 0.2) & (pup['pos'] > 1.0e8)]"
      ],
      "metadata": {
        "id": "g-llClCEBjJl"
      },
      "execution_count": 137,
      "outputs": []
    },
    {
      "cell_type": "code",
      "source": [
        "subpup"
      ],
      "metadata": {
        "id": "4btJrO4Au1MA"
      },
      "execution_count": null,
      "outputs": []
    },
    {
      "cell_type": "code",
      "source": [
        "target = subpup[['chrom','pos']]\n",
        "target['start'] = target['pos'] -12\n",
        "target['stop'] = target['pos'] +11\n",
        "target['shannon'] = subpup[['shannon']]\n",
        "target = target.drop('pos', axis=1)"
      ],
      "metadata": {
        "id": "kL-ka6i5BGu_"
      },
      "execution_count": null,
      "outputs": []
    },
    {
      "cell_type": "code",
      "source": [
        "target.to_csv(\"target.bed\",header=None, index=False, sep='\\t')"
      ],
      "metadata": {
        "id": "c73MJIYABAGp"
      },
      "execution_count": 143,
      "outputs": []
    },
    {
      "cell_type": "markdown",
      "source": [
        "120788886\t- 123291148\t서열 확인  \n",
        "123290888\t- 123291148\t서열 확인\n",
        "\n"
      ],
      "metadata": {
        "id": "ObkvJZfkwkvf"
      }
    },
    {
      "cell_type": "code",
      "source": [
        "!grep \"ENSMUSG00000035202.9\" gencode.vM32.pc_transcripts.fa"
      ],
      "metadata": {
        "colab": {
          "base_uri": "https://localhost:8080/"
        },
        "id": "FUms49b83cO2",
        "outputId": "361ac1ef-f500-471b-9df1-cc7400d19e29"
      },
      "execution_count": 133,
      "outputs": [
        {
          "output_type": "stream",
          "name": "stdout",
          "text": [
            ">ENSMUST00000038863.9|ENSMUSG00000035202.9|OTTMUSG00000062845.1|OTTMUST00000153045.1|Lars2-201|Lars2|3894|UTR5:1-199|CDS:200-2908|UTR3:2909-3894|\n",
            ">ENSMUST00000217116.2|ENSMUSG00000035202.9|OTTMUSG00000062845.1|OTTMUST00000153048.1|Lars2-209|Lars2|3756|UTR5:1-172|CDS:173-1660|UTR3:1661-3756|\n",
            ">ENSMUST00000216843.2|ENSMUSG00000035202.9|OTTMUSG00000062845.1|OTTMUST00000153049.1|Lars2-208|Lars2|720|UTR5:1-455|CDS:456-720|\n",
            ">ENSMUST00000215464.2|ENSMUSG00000035202.9|OTTMUSG00000062845.1|OTTMUST00000153050.1|Lars2-206|Lars2|554|CDS:1-364|UTR3:365-554|\n"
          ]
        }
      ]
    },
    {
      "cell_type": "code",
      "source": [
        "!awk -F'\\t' '{if ($3 == \"gene\" && $4 <= 123290888 && $5 >= 123291148 ) print}' gencode.vM32.chr9.gtf"
      ],
      "metadata": {
        "colab": {
          "base_uri": "https://localhost:8080/"
        },
        "id": "d3gxyOK53rIS",
        "outputId": "3213c0a0-1448-4cdc-ea64-43a648986558"
      },
      "execution_count": 94,
      "outputs": [
        {
          "output_type": "stream",
          "name": "stdout",
          "text": [
            "chr9\tHAVANA\tgene\t123195992\t123291731\t.\t+\t.\tgene_id \"ENSMUSG00000035202.9\"; gene_type \"protein_coding\"; gene_name \"Lars2\"; level 2; mgi_id \"MGI:2142973\"; havana_gene \"OTTMUSG00000062845.1\";\n"
          ]
        }
      ]
    },
    {
      "cell_type": "code",
      "source": [
        "!wget https://ftp.ebi.ac.uk/pub/databases/gencode/Gencode_mouse/release_M32/GRCm39.genome.fa.gz"
      ],
      "metadata": {
        "colab": {
          "base_uri": "https://localhost:8080/"
        },
        "id": "Y4KV-bas-KYL",
        "outputId": "efde89a4-390a-4265-ac0d-d30fc62e1bdf"
      },
      "execution_count": 97,
      "outputs": [
        {
          "output_type": "stream",
          "name": "stdout",
          "text": [
            "--2023-06-04 15:13:47--  https://ftp.ebi.ac.uk/pub/databases/gencode/Gencode_mouse/release_M32/GRCm39.genome.fa.gz\n",
            "Resolving ftp.ebi.ac.uk (ftp.ebi.ac.uk)... 193.62.193.138\n",
            "Connecting to ftp.ebi.ac.uk (ftp.ebi.ac.uk)|193.62.193.138|:443... connected.\n",
            "HTTP request sent, awaiting response... 200 OK\n",
            "Length: 773872991 (738M) [application/x-gzip]\n",
            "Saving to: ‘GRCm39.genome.fa.gz’\n",
            "\n",
            "GRCm39.genome.fa.gz 100%[===================>] 738.02M   694KB/s    in 18m 24s \n",
            "\n",
            "2023-06-04 15:32:11 (685 KB/s) - ‘GRCm39.genome.fa.gz’ saved [773872991/773872991]\n",
            "\n"
          ]
        }
      ]
    },
    {
      "cell_type": "code",
      "source": [
        "!gzip -d GRCm39.genome.fa.gz"
      ],
      "metadata": {
        "id": "LqX4Je8_w9B9"
      },
      "execution_count": 98,
      "outputs": []
    },
    {
      "cell_type": "code",
      "source": [
        "!bedtools getfasta -fi GRCm39.genome.fa -bed target.bed -fo target_mirlet7g.fa"
      ],
      "metadata": {
        "id": "G_heIA7O7Ww3"
      },
      "execution_count": 144,
      "outputs": []
    },
    {
      "cell_type": "code",
      "source": [
        "!grep '[A-Z][A-Z][A-Z][A-Z][A-Z][A-Z][A-Z][A-Z][A-Z][A-Z][A-Z]G[A-Z][A-Z][A-Z][A-Z][A-Z][A-Z][A-Z][A-Z][A-Z][A-Z][A-Z]' target_mirlet7g.fa > G_target_mirlet7g.fa"
      ],
      "metadata": {
        "id": "gKutokbsEYmE"
      },
      "execution_count": 145,
      "outputs": []
    },
    {
      "cell_type": "code",
      "source": [
        "!head G_target_mirlet7g.fa"
      ],
      "metadata": {
        "colab": {
          "base_uri": "https://localhost:8080/"
        },
        "id": "HfA5BPLkFaQz",
        "outputId": "914f397d-f7af-4c94-9c99-0b750bda5fb9"
      },
      "execution_count": 146,
      "outputs": [
        {
          "output_type": "stream",
          "name": "stdout",
          "text": [
            "ATTGGCCTGTAGAGTTGCTGAGA\n",
            "GTAGAGTTGCTGAGAGGGCTCGA\n",
            "GGGGTGGGCTGGTATCTCAGAAA\n",
            "ATCGGGGATACGTGCGGTAGGGT\n",
            "CAGGGAGGACAGAAACCTCCCGT\n",
            "GGAGCAGAAGGGCAAAAGCTCGC\n",
            "CGGGGCCTCACGATCCTTCTGAC\n",
            "TGACCTTTTGGGTTTTAAGCAGG\n",
            "AAGTTACCACAGGGATAACTGGC\n",
            "ATAACTGGCTTGTGGCGGCCAAG\n"
          ]
        }
      ]
    },
    {
      "cell_type": "code",
      "source": [
        "with open('G_target_mirlet7g.fa', 'r') as file:\n",
        "    sequences = file.readlines()\n",
        "\n",
        "sequences = [seq.strip() for seq in sequences]\n",
        "\n",
        "counts = { 'A': [], 'T': [], 'G': [], 'C': [] }\n",
        "\n",
        "for position in range(0, 23):\n",
        "    nucleotide_counts = { 'A': 0, 'T': 0, 'G': 0, 'C': 0 }\n",
        "    for sequence in sequences:\n",
        "        base = sequence[position]\n",
        "        nucleotide_counts[base] += 1\n",
        "    for nucleotide, count in nucleotide_counts.items():\n",
        "        counts[nucleotide].append(count)\n",
        "df = pd.DataFrame(counts)\n",
        "df.insert(0, 'pos', range(-11, 12))"
      ],
      "metadata": {
        "id": "oflTVC9DJnRr"
      },
      "execution_count": 158,
      "outputs": []
    },
    {
      "cell_type": "code",
      "source": [
        "df.head()"
      ],
      "metadata": {
        "colab": {
          "base_uri": "https://localhost:8080/",
          "height": 206
        },
        "id": "_K7KTLfTJwCG",
        "outputId": "73c8b873-8366-4fbc-f18f-fafdb6a69634"
      },
      "execution_count": 166,
      "outputs": [
        {
          "output_type": "execute_result",
          "data": {
            "text/plain": [
              "   pos  A  T  G  C\n",
              "0  -11  7  2  6  2\n",
              "1  -10  5  5  5  2\n",
              "2   -9  4  2  7  4\n",
              "3   -8  2  4  8  3\n",
              "4   -7  2  3  7  5"
            ],
            "text/html": [
              "\n",
              "  <div id=\"df-3030c34b-26a8-4c10-9118-53eb47cb27e5\">\n",
              "    <div class=\"colab-df-container\">\n",
              "      <div>\n",
              "<style scoped>\n",
              "    .dataframe tbody tr th:only-of-type {\n",
              "        vertical-align: middle;\n",
              "    }\n",
              "\n",
              "    .dataframe tbody tr th {\n",
              "        vertical-align: top;\n",
              "    }\n",
              "\n",
              "    .dataframe thead th {\n",
              "        text-align: right;\n",
              "    }\n",
              "</style>\n",
              "<table border=\"1\" class=\"dataframe\">\n",
              "  <thead>\n",
              "    <tr style=\"text-align: right;\">\n",
              "      <th></th>\n",
              "      <th>pos</th>\n",
              "      <th>A</th>\n",
              "      <th>T</th>\n",
              "      <th>G</th>\n",
              "      <th>C</th>\n",
              "    </tr>\n",
              "  </thead>\n",
              "  <tbody>\n",
              "    <tr>\n",
              "      <th>0</th>\n",
              "      <td>-11</td>\n",
              "      <td>7</td>\n",
              "      <td>2</td>\n",
              "      <td>6</td>\n",
              "      <td>2</td>\n",
              "    </tr>\n",
              "    <tr>\n",
              "      <th>1</th>\n",
              "      <td>-10</td>\n",
              "      <td>5</td>\n",
              "      <td>5</td>\n",
              "      <td>5</td>\n",
              "      <td>2</td>\n",
              "    </tr>\n",
              "    <tr>\n",
              "      <th>2</th>\n",
              "      <td>-9</td>\n",
              "      <td>4</td>\n",
              "      <td>2</td>\n",
              "      <td>7</td>\n",
              "      <td>4</td>\n",
              "    </tr>\n",
              "    <tr>\n",
              "      <th>3</th>\n",
              "      <td>-8</td>\n",
              "      <td>2</td>\n",
              "      <td>4</td>\n",
              "      <td>8</td>\n",
              "      <td>3</td>\n",
              "    </tr>\n",
              "    <tr>\n",
              "      <th>4</th>\n",
              "      <td>-7</td>\n",
              "      <td>2</td>\n",
              "      <td>3</td>\n",
              "      <td>7</td>\n",
              "      <td>5</td>\n",
              "    </tr>\n",
              "  </tbody>\n",
              "</table>\n",
              "</div>\n",
              "      <button class=\"colab-df-convert\" onclick=\"convertToInteractive('df-3030c34b-26a8-4c10-9118-53eb47cb27e5')\"\n",
              "              title=\"Convert this dataframe to an interactive table.\"\n",
              "              style=\"display:none;\">\n",
              "        \n",
              "  <svg xmlns=\"http://www.w3.org/2000/svg\" height=\"24px\"viewBox=\"0 0 24 24\"\n",
              "       width=\"24px\">\n",
              "    <path d=\"M0 0h24v24H0V0z\" fill=\"none\"/>\n",
              "    <path d=\"M18.56 5.44l.94 2.06.94-2.06 2.06-.94-2.06-.94-.94-2.06-.94 2.06-2.06.94zm-11 1L8.5 8.5l.94-2.06 2.06-.94-2.06-.94L8.5 2.5l-.94 2.06-2.06.94zm10 10l.94 2.06.94-2.06 2.06-.94-2.06-.94-.94-2.06-.94 2.06-2.06.94z\"/><path d=\"M17.41 7.96l-1.37-1.37c-.4-.4-.92-.59-1.43-.59-.52 0-1.04.2-1.43.59L10.3 9.45l-7.72 7.72c-.78.78-.78 2.05 0 2.83L4 21.41c.39.39.9.59 1.41.59.51 0 1.02-.2 1.41-.59l7.78-7.78 2.81-2.81c.8-.78.8-2.07 0-2.86zM5.41 20L4 18.59l7.72-7.72 1.47 1.35L5.41 20z\"/>\n",
              "  </svg>\n",
              "      </button>\n",
              "      \n",
              "  <style>\n",
              "    .colab-df-container {\n",
              "      display:flex;\n",
              "      flex-wrap:wrap;\n",
              "      gap: 12px;\n",
              "    }\n",
              "\n",
              "    .colab-df-convert {\n",
              "      background-color: #E8F0FE;\n",
              "      border: none;\n",
              "      border-radius: 50%;\n",
              "      cursor: pointer;\n",
              "      display: none;\n",
              "      fill: #1967D2;\n",
              "      height: 32px;\n",
              "      padding: 0 0 0 0;\n",
              "      width: 32px;\n",
              "    }\n",
              "\n",
              "    .colab-df-convert:hover {\n",
              "      background-color: #E2EBFA;\n",
              "      box-shadow: 0px 1px 2px rgba(60, 64, 67, 0.3), 0px 1px 3px 1px rgba(60, 64, 67, 0.15);\n",
              "      fill: #174EA6;\n",
              "    }\n",
              "\n",
              "    [theme=dark] .colab-df-convert {\n",
              "      background-color: #3B4455;\n",
              "      fill: #D2E3FC;\n",
              "    }\n",
              "\n",
              "    [theme=dark] .colab-df-convert:hover {\n",
              "      background-color: #434B5C;\n",
              "      box-shadow: 0px 1px 3px 1px rgba(0, 0, 0, 0.15);\n",
              "      filter: drop-shadow(0px 1px 2px rgba(0, 0, 0, 0.3));\n",
              "      fill: #FFFFFF;\n",
              "    }\n",
              "  </style>\n",
              "\n",
              "      <script>\n",
              "        const buttonEl =\n",
              "          document.querySelector('#df-3030c34b-26a8-4c10-9118-53eb47cb27e5 button.colab-df-convert');\n",
              "        buttonEl.style.display =\n",
              "          google.colab.kernel.accessAllowed ? 'block' : 'none';\n",
              "\n",
              "        async function convertToInteractive(key) {\n",
              "          const element = document.querySelector('#df-3030c34b-26a8-4c10-9118-53eb47cb27e5');\n",
              "          const dataTable =\n",
              "            await google.colab.kernel.invokeFunction('convertToInteractive',\n",
              "                                                     [key], {});\n",
              "          if (!dataTable) return;\n",
              "\n",
              "          const docLinkHtml = 'Like what you see? Visit the ' +\n",
              "            '<a target=\"_blank\" href=https://colab.research.google.com/notebooks/data_table.ipynb>data table notebook</a>'\n",
              "            + ' to learn more about interactive tables.';\n",
              "          element.innerHTML = '';\n",
              "          dataTable['output_type'] = 'display_data';\n",
              "          await google.colab.output.renderOutput(dataTable, element);\n",
              "          const docLink = document.createElement('div');\n",
              "          docLink.innerHTML = docLinkHtml;\n",
              "          element.appendChild(docLink);\n",
              "        }\n",
              "      </script>\n",
              "    </div>\n",
              "  </div>\n",
              "  "
            ]
          },
          "metadata": {},
          "execution_count": 166
        }
      ]
    },
    {
      "cell_type": "code",
      "source": [
        "sum_row = df.sum(axis=1)\n",
        "percentages = df.iloc[:, 1:].div(sum_row, axis=0)\n",
        "result = pd.concat([df['pos'], percentages], axis=1)\n",
        "result = result.set_index('pos')"
      ],
      "metadata": {
        "id": "akd4wMA7OICg"
      },
      "execution_count": 186,
      "outputs": []
    },
    {
      "cell_type": "code",
      "source": [
        "sum_row = df.iloc[:, 1:].sum(axis=1)\n",
        "percentages = df.iloc[:, 1:].div(sum_row, axis=0)\n",
        "normalize = pd.concat([df['pos'], percentages], axis=1)"
      ],
      "metadata": {
        "id": "mv8ycrCSK29E"
      },
      "execution_count": 180,
      "outputs": []
    },
    {
      "cell_type": "code",
      "source": [
        "normalize = normalize.set_index('pos')\n",
        "normalize"
      ],
      "metadata": {
        "colab": {
          "base_uri": "https://localhost:8080/",
          "height": 802
        },
        "id": "s56wwtcHLI7J",
        "outputId": "77a0cbd7-d885-476d-ca6d-a450569f4412"
      },
      "execution_count": 181,
      "outputs": [
        {
          "output_type": "execute_result",
          "data": {
            "text/plain": [
              "            A         T         G         C\n",
              "pos                                        \n",
              "-11  0.411765  0.117647  0.352941  0.117647\n",
              "-10  0.294118  0.294118  0.294118  0.117647\n",
              "-9   0.235294  0.117647  0.411765  0.235294\n",
              "-8   0.117647  0.235294  0.470588  0.176471\n",
              "-7   0.117647  0.176471  0.411765  0.294118\n",
              "-6   0.294118  0.176471  0.294118  0.235294\n",
              "-5   0.000000  0.235294  0.411765  0.352941\n",
              "-4   0.235294  0.294118  0.235294  0.235294\n",
              "-3   0.352941  0.294118  0.176471  0.176471\n",
              "-2   0.176471  0.352941  0.294118  0.176471\n",
              "-1   0.294118  0.235294  0.294118  0.176471\n",
              " 0   0.000000  0.000000  1.000000  0.000000\n",
              " 1   0.294118  0.470588  0.176471  0.058824\n",
              " 2   0.235294  0.294118  0.352941  0.117647\n",
              " 3   0.352941  0.294118  0.176471  0.176471\n",
              " 4   0.235294  0.294118  0.235294  0.235294\n",
              " 5   0.235294  0.176471  0.294118  0.294118\n",
              " 6   0.235294  0.235294  0.235294  0.294118\n",
              " 7   0.176471  0.176471  0.117647  0.529412\n",
              " 8   0.058824  0.294118  0.294118  0.352941\n",
              " 9   0.294118  0.117647  0.352941  0.235294\n",
              " 10  0.294118  0.117647  0.470588  0.117647\n",
              " 11  0.176471  0.117647  0.176471  0.529412"
            ],
            "text/html": [
              "\n",
              "  <div id=\"df-06f229b4-07fa-49b9-b284-50d4d26e15e6\">\n",
              "    <div class=\"colab-df-container\">\n",
              "      <div>\n",
              "<style scoped>\n",
              "    .dataframe tbody tr th:only-of-type {\n",
              "        vertical-align: middle;\n",
              "    }\n",
              "\n",
              "    .dataframe tbody tr th {\n",
              "        vertical-align: top;\n",
              "    }\n",
              "\n",
              "    .dataframe thead th {\n",
              "        text-align: right;\n",
              "    }\n",
              "</style>\n",
              "<table border=\"1\" class=\"dataframe\">\n",
              "  <thead>\n",
              "    <tr style=\"text-align: right;\">\n",
              "      <th></th>\n",
              "      <th>A</th>\n",
              "      <th>T</th>\n",
              "      <th>G</th>\n",
              "      <th>C</th>\n",
              "    </tr>\n",
              "    <tr>\n",
              "      <th>pos</th>\n",
              "      <th></th>\n",
              "      <th></th>\n",
              "      <th></th>\n",
              "      <th></th>\n",
              "    </tr>\n",
              "  </thead>\n",
              "  <tbody>\n",
              "    <tr>\n",
              "      <th>-11</th>\n",
              "      <td>0.411765</td>\n",
              "      <td>0.117647</td>\n",
              "      <td>0.352941</td>\n",
              "      <td>0.117647</td>\n",
              "    </tr>\n",
              "    <tr>\n",
              "      <th>-10</th>\n",
              "      <td>0.294118</td>\n",
              "      <td>0.294118</td>\n",
              "      <td>0.294118</td>\n",
              "      <td>0.117647</td>\n",
              "    </tr>\n",
              "    <tr>\n",
              "      <th>-9</th>\n",
              "      <td>0.235294</td>\n",
              "      <td>0.117647</td>\n",
              "      <td>0.411765</td>\n",
              "      <td>0.235294</td>\n",
              "    </tr>\n",
              "    <tr>\n",
              "      <th>-8</th>\n",
              "      <td>0.117647</td>\n",
              "      <td>0.235294</td>\n",
              "      <td>0.470588</td>\n",
              "      <td>0.176471</td>\n",
              "    </tr>\n",
              "    <tr>\n",
              "      <th>-7</th>\n",
              "      <td>0.117647</td>\n",
              "      <td>0.176471</td>\n",
              "      <td>0.411765</td>\n",
              "      <td>0.294118</td>\n",
              "    </tr>\n",
              "    <tr>\n",
              "      <th>-6</th>\n",
              "      <td>0.294118</td>\n",
              "      <td>0.176471</td>\n",
              "      <td>0.294118</td>\n",
              "      <td>0.235294</td>\n",
              "    </tr>\n",
              "    <tr>\n",
              "      <th>-5</th>\n",
              "      <td>0.000000</td>\n",
              "      <td>0.235294</td>\n",
              "      <td>0.411765</td>\n",
              "      <td>0.352941</td>\n",
              "    </tr>\n",
              "    <tr>\n",
              "      <th>-4</th>\n",
              "      <td>0.235294</td>\n",
              "      <td>0.294118</td>\n",
              "      <td>0.235294</td>\n",
              "      <td>0.235294</td>\n",
              "    </tr>\n",
              "    <tr>\n",
              "      <th>-3</th>\n",
              "      <td>0.352941</td>\n",
              "      <td>0.294118</td>\n",
              "      <td>0.176471</td>\n",
              "      <td>0.176471</td>\n",
              "    </tr>\n",
              "    <tr>\n",
              "      <th>-2</th>\n",
              "      <td>0.176471</td>\n",
              "      <td>0.352941</td>\n",
              "      <td>0.294118</td>\n",
              "      <td>0.176471</td>\n",
              "    </tr>\n",
              "    <tr>\n",
              "      <th>-1</th>\n",
              "      <td>0.294118</td>\n",
              "      <td>0.235294</td>\n",
              "      <td>0.294118</td>\n",
              "      <td>0.176471</td>\n",
              "    </tr>\n",
              "    <tr>\n",
              "      <th>0</th>\n",
              "      <td>0.000000</td>\n",
              "      <td>0.000000</td>\n",
              "      <td>1.000000</td>\n",
              "      <td>0.000000</td>\n",
              "    </tr>\n",
              "    <tr>\n",
              "      <th>1</th>\n",
              "      <td>0.294118</td>\n",
              "      <td>0.470588</td>\n",
              "      <td>0.176471</td>\n",
              "      <td>0.058824</td>\n",
              "    </tr>\n",
              "    <tr>\n",
              "      <th>2</th>\n",
              "      <td>0.235294</td>\n",
              "      <td>0.294118</td>\n",
              "      <td>0.352941</td>\n",
              "      <td>0.117647</td>\n",
              "    </tr>\n",
              "    <tr>\n",
              "      <th>3</th>\n",
              "      <td>0.352941</td>\n",
              "      <td>0.294118</td>\n",
              "      <td>0.176471</td>\n",
              "      <td>0.176471</td>\n",
              "    </tr>\n",
              "    <tr>\n",
              "      <th>4</th>\n",
              "      <td>0.235294</td>\n",
              "      <td>0.294118</td>\n",
              "      <td>0.235294</td>\n",
              "      <td>0.235294</td>\n",
              "    </tr>\n",
              "    <tr>\n",
              "      <th>5</th>\n",
              "      <td>0.235294</td>\n",
              "      <td>0.176471</td>\n",
              "      <td>0.294118</td>\n",
              "      <td>0.294118</td>\n",
              "    </tr>\n",
              "    <tr>\n",
              "      <th>6</th>\n",
              "      <td>0.235294</td>\n",
              "      <td>0.235294</td>\n",
              "      <td>0.235294</td>\n",
              "      <td>0.294118</td>\n",
              "    </tr>\n",
              "    <tr>\n",
              "      <th>7</th>\n",
              "      <td>0.176471</td>\n",
              "      <td>0.176471</td>\n",
              "      <td>0.117647</td>\n",
              "      <td>0.529412</td>\n",
              "    </tr>\n",
              "    <tr>\n",
              "      <th>8</th>\n",
              "      <td>0.058824</td>\n",
              "      <td>0.294118</td>\n",
              "      <td>0.294118</td>\n",
              "      <td>0.352941</td>\n",
              "    </tr>\n",
              "    <tr>\n",
              "      <th>9</th>\n",
              "      <td>0.294118</td>\n",
              "      <td>0.117647</td>\n",
              "      <td>0.352941</td>\n",
              "      <td>0.235294</td>\n",
              "    </tr>\n",
              "    <tr>\n",
              "      <th>10</th>\n",
              "      <td>0.294118</td>\n",
              "      <td>0.117647</td>\n",
              "      <td>0.470588</td>\n",
              "      <td>0.117647</td>\n",
              "    </tr>\n",
              "    <tr>\n",
              "      <th>11</th>\n",
              "      <td>0.176471</td>\n",
              "      <td>0.117647</td>\n",
              "      <td>0.176471</td>\n",
              "      <td>0.529412</td>\n",
              "    </tr>\n",
              "  </tbody>\n",
              "</table>\n",
              "</div>\n",
              "      <button class=\"colab-df-convert\" onclick=\"convertToInteractive('df-06f229b4-07fa-49b9-b284-50d4d26e15e6')\"\n",
              "              title=\"Convert this dataframe to an interactive table.\"\n",
              "              style=\"display:none;\">\n",
              "        \n",
              "  <svg xmlns=\"http://www.w3.org/2000/svg\" height=\"24px\"viewBox=\"0 0 24 24\"\n",
              "       width=\"24px\">\n",
              "    <path d=\"M0 0h24v24H0V0z\" fill=\"none\"/>\n",
              "    <path d=\"M18.56 5.44l.94 2.06.94-2.06 2.06-.94-2.06-.94-.94-2.06-.94 2.06-2.06.94zm-11 1L8.5 8.5l.94-2.06 2.06-.94-2.06-.94L8.5 2.5l-.94 2.06-2.06.94zm10 10l.94 2.06.94-2.06 2.06-.94-2.06-.94-.94-2.06-.94 2.06-2.06.94z\"/><path d=\"M17.41 7.96l-1.37-1.37c-.4-.4-.92-.59-1.43-.59-.52 0-1.04.2-1.43.59L10.3 9.45l-7.72 7.72c-.78.78-.78 2.05 0 2.83L4 21.41c.39.39.9.59 1.41.59.51 0 1.02-.2 1.41-.59l7.78-7.78 2.81-2.81c.8-.78.8-2.07 0-2.86zM5.41 20L4 18.59l7.72-7.72 1.47 1.35L5.41 20z\"/>\n",
              "  </svg>\n",
              "      </button>\n",
              "      \n",
              "  <style>\n",
              "    .colab-df-container {\n",
              "      display:flex;\n",
              "      flex-wrap:wrap;\n",
              "      gap: 12px;\n",
              "    }\n",
              "\n",
              "    .colab-df-convert {\n",
              "      background-color: #E8F0FE;\n",
              "      border: none;\n",
              "      border-radius: 50%;\n",
              "      cursor: pointer;\n",
              "      display: none;\n",
              "      fill: #1967D2;\n",
              "      height: 32px;\n",
              "      padding: 0 0 0 0;\n",
              "      width: 32px;\n",
              "    }\n",
              "\n",
              "    .colab-df-convert:hover {\n",
              "      background-color: #E2EBFA;\n",
              "      box-shadow: 0px 1px 2px rgba(60, 64, 67, 0.3), 0px 1px 3px 1px rgba(60, 64, 67, 0.15);\n",
              "      fill: #174EA6;\n",
              "    }\n",
              "\n",
              "    [theme=dark] .colab-df-convert {\n",
              "      background-color: #3B4455;\n",
              "      fill: #D2E3FC;\n",
              "    }\n",
              "\n",
              "    [theme=dark] .colab-df-convert:hover {\n",
              "      background-color: #434B5C;\n",
              "      box-shadow: 0px 1px 3px 1px rgba(0, 0, 0, 0.15);\n",
              "      filter: drop-shadow(0px 1px 2px rgba(0, 0, 0, 0.3));\n",
              "      fill: #FFFFFF;\n",
              "    }\n",
              "  </style>\n",
              "\n",
              "      <script>\n",
              "        const buttonEl =\n",
              "          document.querySelector('#df-06f229b4-07fa-49b9-b284-50d4d26e15e6 button.colab-df-convert');\n",
              "        buttonEl.style.display =\n",
              "          google.colab.kernel.accessAllowed ? 'block' : 'none';\n",
              "\n",
              "        async function convertToInteractive(key) {\n",
              "          const element = document.querySelector('#df-06f229b4-07fa-49b9-b284-50d4d26e15e6');\n",
              "          const dataTable =\n",
              "            await google.colab.kernel.invokeFunction('convertToInteractive',\n",
              "                                                     [key], {});\n",
              "          if (!dataTable) return;\n",
              "\n",
              "          const docLinkHtml = 'Like what you see? Visit the ' +\n",
              "            '<a target=\"_blank\" href=https://colab.research.google.com/notebooks/data_table.ipynb>data table notebook</a>'\n",
              "            + ' to learn more about interactive tables.';\n",
              "          element.innerHTML = '';\n",
              "          dataTable['output_type'] = 'display_data';\n",
              "          await google.colab.output.renderOutput(dataTable, element);\n",
              "          const docLink = document.createElement('div');\n",
              "          docLink.innerHTML = docLinkHtml;\n",
              "          element.appendChild(docLink);\n",
              "        }\n",
              "      </script>\n",
              "    </div>\n",
              "  </div>\n",
              "  "
            ]
          },
          "metadata": {},
          "execution_count": 181
        }
      ]
    },
    {
      "cell_type": "code",
      "source": [
        "pip install logomaker\n",
        "import logomaker"
      ],
      "metadata": {
        "id": "4a70COJhr3c2"
      },
      "execution_count": null,
      "outputs": []
    },
    {
      "cell_type": "code",
      "source": [
        "import numpy as np\n",
        "import pandas as pd\n",
        "import matplotlib.pyplot as plt\n",
        "%matplotlib inline \n",
        "plt.ion()\n",
        "\n",
        "import logomaker as lm"
      ],
      "metadata": {
        "id": "4_yRd-znosbE"
      },
      "execution_count": 22,
      "outputs": []
    },
    {
      "cell_type": "markdown",
      "source": [
        "이건 logomaker의 예시 파일 "
      ],
      "metadata": {
        "id": "HoMahfmnNDtb"
      }
    },
    {
      "cell_type": "code",
      "source": [
        "crp_df = -lm.get_example_matrix('crp_energy_matrix')\n",
        "crp_df.head()"
      ],
      "metadata": {
        "colab": {
          "base_uri": "https://localhost:8080/",
          "height": 454
        },
        "id": "6DGKL24ItnyZ",
        "outputId": "09dfd39c-48d3-414b-bf50-a71f4ff12e1f"
      },
      "execution_count": 176,
      "outputs": [
        {
          "output_type": "stream",
          "name": "stdout",
          "text": [
            "Description of example matrix \"crp_energy_matrix\":\n",
            "# \n",
            "# CRP energy matrix from Kinney et al. (2010).\n",
            "# Matrix values are in units of kcal/mol.\n",
            "# \n",
            "# References\n",
            "# \n",
            "# Kinney JB et al. (2010) Using deep sequencing to characterize the\n",
            "# biophysical mechanism of a transcriptional regulatory sequence.\n",
            "# Proc Natl Acad Sci USA. 107(20):9158–63.\n",
            "# \n",
            "\n"
          ]
        },
        {
          "output_type": "execute_result",
          "data": {
            "text/plain": [
              "            A         C         G         T\n",
              "pos                                        \n",
              "0    0.183642 -0.155864 -0.094136  0.066358\n",
              "1    0.290123 -0.277778 -0.111111  0.098765\n",
              "2    0.276235 -0.316358 -0.168210  0.208333\n",
              "3    0.226852 -0.285494 -0.297840  0.356481\n",
              "4    0.060185 -0.143519 -0.057099  0.140432"
            ],
            "text/html": [
              "\n",
              "  <div id=\"df-0f4ff532-24e6-4dec-97ae-41433240ad3f\">\n",
              "    <div class=\"colab-df-container\">\n",
              "      <div>\n",
              "<style scoped>\n",
              "    .dataframe tbody tr th:only-of-type {\n",
              "        vertical-align: middle;\n",
              "    }\n",
              "\n",
              "    .dataframe tbody tr th {\n",
              "        vertical-align: top;\n",
              "    }\n",
              "\n",
              "    .dataframe thead th {\n",
              "        text-align: right;\n",
              "    }\n",
              "</style>\n",
              "<table border=\"1\" class=\"dataframe\">\n",
              "  <thead>\n",
              "    <tr style=\"text-align: right;\">\n",
              "      <th></th>\n",
              "      <th>A</th>\n",
              "      <th>C</th>\n",
              "      <th>G</th>\n",
              "      <th>T</th>\n",
              "    </tr>\n",
              "    <tr>\n",
              "      <th>pos</th>\n",
              "      <th></th>\n",
              "      <th></th>\n",
              "      <th></th>\n",
              "      <th></th>\n",
              "    </tr>\n",
              "  </thead>\n",
              "  <tbody>\n",
              "    <tr>\n",
              "      <th>0</th>\n",
              "      <td>0.183642</td>\n",
              "      <td>-0.155864</td>\n",
              "      <td>-0.094136</td>\n",
              "      <td>0.066358</td>\n",
              "    </tr>\n",
              "    <tr>\n",
              "      <th>1</th>\n",
              "      <td>0.290123</td>\n",
              "      <td>-0.277778</td>\n",
              "      <td>-0.111111</td>\n",
              "      <td>0.098765</td>\n",
              "    </tr>\n",
              "    <tr>\n",
              "      <th>2</th>\n",
              "      <td>0.276235</td>\n",
              "      <td>-0.316358</td>\n",
              "      <td>-0.168210</td>\n",
              "      <td>0.208333</td>\n",
              "    </tr>\n",
              "    <tr>\n",
              "      <th>3</th>\n",
              "      <td>0.226852</td>\n",
              "      <td>-0.285494</td>\n",
              "      <td>-0.297840</td>\n",
              "      <td>0.356481</td>\n",
              "    </tr>\n",
              "    <tr>\n",
              "      <th>4</th>\n",
              "      <td>0.060185</td>\n",
              "      <td>-0.143519</td>\n",
              "      <td>-0.057099</td>\n",
              "      <td>0.140432</td>\n",
              "    </tr>\n",
              "  </tbody>\n",
              "</table>\n",
              "</div>\n",
              "      <button class=\"colab-df-convert\" onclick=\"convertToInteractive('df-0f4ff532-24e6-4dec-97ae-41433240ad3f')\"\n",
              "              title=\"Convert this dataframe to an interactive table.\"\n",
              "              style=\"display:none;\">\n",
              "        \n",
              "  <svg xmlns=\"http://www.w3.org/2000/svg\" height=\"24px\"viewBox=\"0 0 24 24\"\n",
              "       width=\"24px\">\n",
              "    <path d=\"M0 0h24v24H0V0z\" fill=\"none\"/>\n",
              "    <path d=\"M18.56 5.44l.94 2.06.94-2.06 2.06-.94-2.06-.94-.94-2.06-.94 2.06-2.06.94zm-11 1L8.5 8.5l.94-2.06 2.06-.94-2.06-.94L8.5 2.5l-.94 2.06-2.06.94zm10 10l.94 2.06.94-2.06 2.06-.94-2.06-.94-.94-2.06-.94 2.06-2.06.94z\"/><path d=\"M17.41 7.96l-1.37-1.37c-.4-.4-.92-.59-1.43-.59-.52 0-1.04.2-1.43.59L10.3 9.45l-7.72 7.72c-.78.78-.78 2.05 0 2.83L4 21.41c.39.39.9.59 1.41.59.51 0 1.02-.2 1.41-.59l7.78-7.78 2.81-2.81c.8-.78.8-2.07 0-2.86zM5.41 20L4 18.59l7.72-7.72 1.47 1.35L5.41 20z\"/>\n",
              "  </svg>\n",
              "      </button>\n",
              "      \n",
              "  <style>\n",
              "    .colab-df-container {\n",
              "      display:flex;\n",
              "      flex-wrap:wrap;\n",
              "      gap: 12px;\n",
              "    }\n",
              "\n",
              "    .colab-df-convert {\n",
              "      background-color: #E8F0FE;\n",
              "      border: none;\n",
              "      border-radius: 50%;\n",
              "      cursor: pointer;\n",
              "      display: none;\n",
              "      fill: #1967D2;\n",
              "      height: 32px;\n",
              "      padding: 0 0 0 0;\n",
              "      width: 32px;\n",
              "    }\n",
              "\n",
              "    .colab-df-convert:hover {\n",
              "      background-color: #E2EBFA;\n",
              "      box-shadow: 0px 1px 2px rgba(60, 64, 67, 0.3), 0px 1px 3px 1px rgba(60, 64, 67, 0.15);\n",
              "      fill: #174EA6;\n",
              "    }\n",
              "\n",
              "    [theme=dark] .colab-df-convert {\n",
              "      background-color: #3B4455;\n",
              "      fill: #D2E3FC;\n",
              "    }\n",
              "\n",
              "    [theme=dark] .colab-df-convert:hover {\n",
              "      background-color: #434B5C;\n",
              "      box-shadow: 0px 1px 3px 1px rgba(0, 0, 0, 0.15);\n",
              "      filter: drop-shadow(0px 1px 2px rgba(0, 0, 0, 0.3));\n",
              "      fill: #FFFFFF;\n",
              "    }\n",
              "  </style>\n",
              "\n",
              "      <script>\n",
              "        const buttonEl =\n",
              "          document.querySelector('#df-0f4ff532-24e6-4dec-97ae-41433240ad3f button.colab-df-convert');\n",
              "        buttonEl.style.display =\n",
              "          google.colab.kernel.accessAllowed ? 'block' : 'none';\n",
              "\n",
              "        async function convertToInteractive(key) {\n",
              "          const element = document.querySelector('#df-0f4ff532-24e6-4dec-97ae-41433240ad3f');\n",
              "          const dataTable =\n",
              "            await google.colab.kernel.invokeFunction('convertToInteractive',\n",
              "                                                     [key], {});\n",
              "          if (!dataTable) return;\n",
              "\n",
              "          const docLinkHtml = 'Like what you see? Visit the ' +\n",
              "            '<a target=\"_blank\" href=https://colab.research.google.com/notebooks/data_table.ipynb>data table notebook</a>'\n",
              "            + ' to learn more about interactive tables.';\n",
              "          element.innerHTML = '';\n",
              "          dataTable['output_type'] = 'display_data';\n",
              "          await google.colab.output.renderOutput(dataTable, element);\n",
              "          const docLink = document.createElement('div');\n",
              "          docLink.innerHTML = docLinkHtml;\n",
              "          element.appendChild(docLink);\n",
              "        }\n",
              "      </script>\n",
              "    </div>\n",
              "  </div>\n",
              "  "
            ]
          },
          "metadata": {},
          "execution_count": 176
        }
      ]
    },
    {
      "cell_type": "code",
      "source": [
        "plt.rcParams['font.family'] = 'sans-serif'\n",
        "logo = lm.Logo(crp_df, font_name = 'sans-serif')"
      ],
      "metadata": {
        "colab": {
          "base_uri": "https://localhost:8080/",
          "height": 253
        },
        "id": "hcRut1WTNFB_",
        "outputId": "319c4d37-7180-43f2-b626-9cbd73b7f2e3"
      },
      "execution_count": 177,
      "outputs": [
        {
          "output_type": "display_data",
          "data": {
            "text/plain": [
              "<Figure size 1000x250 with 1 Axes>"
            ],
            "image/png": "[encoded data removed]"
          },
          "metadata": {}
        }
      ]
    },
    {
      "cell_type": "code",
      "source": [
        "plt.rcParams['font.family'] = 'sans-serif'\n",
        "logo = lm.Logo(result, font_name = 'sans-serif')"
      ],
      "metadata": {
        "colab": {
          "base_uri": "https://localhost:8080/",
          "height": 253
        },
        "id": "su-HXEAWtvwA",
        "outputId": "16244683-3b8a-49eb-e8e2-2726774da291"
      },
      "execution_count": 187,
      "outputs": [
        {
          "output_type": "display_data",
          "data": {
            "text/plain": [
              "<Figure size 1000x250 with 1 Axes>"
            ],
            "image/png": "[encoded data removed]"
          },
          "metadata": {}
        }
      ]
    },
    {
      "cell_type": "code",
      "source": [
        "plt.rcParams['font.family'] = 'sans-serif'\n",
        "logo = lm.Logo(normalize, font_name = 'sans-serif')"
      ],
      "metadata": {
        "colab": {
          "base_uri": "https://localhost:8080/",
          "height": 258
        },
        "id": "rQGrsMVNN7Eu",
        "outputId": "67271e48-d60c-4436-846c-72e7a59fc455"
      },
      "execution_count": 183,
      "outputs": [
        {
          "output_type": "display_data",
          "data": {
            "text/plain": [
              "<Figure size 1000x250 with 1 Axes>"
            ],
            "image/png": "[encoded data removed]"
          },
          "metadata": {}
        }
      ]
    }
  ],
  "metadata": {
    "colab": {
      "provenance": [],
      "authorship_tag": "ABX9TyMT8koA3CVv3VREc4/zxF4U",
      "include_colab_link": true
    },
    "kernelspec": {
      "display_name": "Python 3",
      "name": "python3"
    },
    "language_info": {
      "name": "python"
    }
  },
  "nbformat": 4,
  "nbformat_minor": 0
}