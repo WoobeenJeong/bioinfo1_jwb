{
  "nbformat": 4,
  "nbformat_minor": 0,
  "metadata": {
    "colab": {
      "provenance": [],
      "include_colab_link": true
    },
    "kernelspec": {
      "name": "python3",
      "display_name": "Python 3"
    }
  },
  "cells": [
    {
      "cell_type": "markdown",
      "metadata": {
        "id": "view-in-github",
        "colab_type": "text"
      },
      "source": [
        "<a href=\"https://colab.research.google.com/github/WoobeenJeong/bioinfo1_jwb/blob/main/CoLab_TermProj_2023_3.ipynb\" target=\"_parent\"><img src=\"https://colab.research.google.com/assets/colab-badge.svg\" alt=\"Open In Colab\"/></a>"
      ]
    },
    {
      "cell_type": "markdown",
      "metadata": {
        "id": "qSmNiRknPfSy"
      },
      "source": [
        "# 생물정보학 및 실습 1 - Term Project용 Mission 3 환경 셋업\n",
        "\n",
        "```\n",
        "생물정보학 및 실습 1\n",
        "서울대학교 생물정보학전공/생명과학부 2023년 1학기\n",
        "\n",
        "이 노트북은 Creative Commons BY-SA 조건으로 재사용 가능합니다.\n",
        "장혜식 <hyeshik@snu.ac.kr>, 서울대학교 생명과학부\n",
        "```\n",
        "\n",
        "이 노트북은 Google Colab을 이용해서 Term Project를 할 수 있도록 환경을 준비해 줍니다. 터미널 사용이 원활하지 않은 상태이고, 데이터를 오랫동안 보관하기 어렵기 때문에 되도록 개인용 컴퓨터에서 [Anaconda](https://www.anaconda.com/)나 [JupyterLab](https://jupyterlab.readthedocs.io/en/stable/) 등을 설치하고 사용하시는 것이 편하지만, 개인용 컴퓨터 사양이 부족한 경우에는 Google CoLab을 사용할 수도 있습니다. 개인용 컴퓨터를 쓸 때는 Windows에서는 [WSL2](https://docs.microsoft.com/en-us/windows/wsl/install-win10)를 쓰시면 리눅스 커맨드라인 환경을 쓸 수 있습니다. Google Colab은 창을 닫은 후 90분 후, 또는 창을 처음 열고 12시간 후에 환경을 닫아버리기 때문에 매번 실습할 때마다 새로 셋업이 필요합니다. `Runtime->Run All`을 실행해서 전체를 한 번 실행하시면 준비됩니다. 모든 것이 잘 안 되고 뭔가 꼬인 느낌이 강하게 들 때는 `Runtime->Factory reset runtime`을 누르고 새로 시작하시면 될 수도 있습니다.\n"
      ]
    },
    {
      "cell_type": "markdown",
      "metadata": {
        "id": "ojAx9SdvPfSz"
      },
      "source": [
        "## Google Drive 마운트\n",
        "\n",
        "데이터 파일들을 불러오고 저장하기 위해서 Google Drive를 연결합니다. **이번엔 스크립트 파일을 편집해야 하기 때문에 Google Drive 마운트를 하지 않으면 vim등 콘솔에서 쓸 수 있는 에디터를 쓰셔야 합니다.** 화면에 나오는 주소를 눌러서 인증하고 인증 코드를 그 아래에 입력하세요. 그러면 `/contents/drive/MyDrive`에서 자신의 Drive 최상단 폴더가 보입니다. Google CoLab에서 접속하지 않고, 본인 컴퓨터 또는 연구실 워크스테이션 등 다른 컴퓨터를 쓰시는 경우에는 저장공간이 충분하므로 이 부분은 생략하고 지나갑니다."
      ]
    },
    {
      "cell_type": "code",
      "metadata": {
        "id": "SbkVVS-CPfSz",
        "colab": {
          "base_uri": "https://localhost:8080/"
        },
        "outputId": "d38d06fd-9f2f-46f1-b6c1-0e3d40d33b62"
      },
      "source": [
        "from google.colab import drive\n",
        "drive.mount('/content/drive')"
      ],
      "execution_count": 1,
      "outputs": [
        {
          "output_type": "stream",
          "name": "stdout",
          "text": [
            "Mounted at /content/drive\n"
          ]
        }
      ]
    },
    {
      "cell_type": "markdown",
      "metadata": {
        "id": "BjtCUaGSPfSz"
      },
      "source": [
        "## 실습용 Bioconda 환경 설치하기\n",
        "Google CoLab에서 접속하지 않고, 본인 컴퓨터 또는 연구실 워크스테이션 등 다른 컴퓨터를 쓰시는 경우에는 따로 실습용 [Bioconda](https://bioconda.github.io/) 환경을 구축해서 이 노트북을 그 환경 안에서 띄우시면 됩니다.\n",
        "\n",
        "CoLab을 쓰시는 분들은 다음에 따라서 실습용 프로그램들을 쉽게 설치할 수 있도록 [Bioconda](https://bioconda.github.io/) 환경을 만듭니다. 실행하고 진행상황을 관찰하다가 에러로 보이는 것이 있으면 잘 읽어보고 해결합니다.\n",
        "\n",
        "파이썬 모듈들은 Colab쪽의 파이썬 인터프리터를 바꿀 수 없기 때문에 Conda에 설치하더라도 사용하기 어렵습니다. 파이썬 모듈은 `pip` 명령어로 설치하시면 Colab에서 불러와서 사용할 수 있습니다.\n",
        "\n",
        "환경 초기화에 관련된 스크립트는 [GitHub 프로젝트](https://github.com/hyeshik/colab-biolab)에 있습니다."
      ]
    },
    {
      "cell_type": "code",
      "metadata": {
        "id": "g-vfGi3ePfSz",
        "colab": {
          "base_uri": "https://localhost:8080/"
        },
        "outputId": "0e346537-56be-4406-f197-eb3ffe140b5f"
      },
      "source": [
        "!git clone https://github.com/hyeshik/colab-biolab.git\n",
        "!cd colab-biolab && bash tools/setup.sh\n",
        "exec(open('colab-biolab/tools/activate_conda.py').read())"
      ],
      "execution_count": 2,
      "outputs": [
        {
          "output_type": "stream",
          "name": "stdout",
          "text": [
            "Cloning into 'colab-biolab'...\n",
            "remote: Enumerating objects: 76, done.\u001b[K\n",
            "remote: Counting objects: 100% (76/76), done.\u001b[K\n",
            "remote: Compressing objects: 100% (47/47), done.\u001b[K\n",
            "remote: Total 76 (delta 26), reused 59 (delta 15), pack-reused 0\u001b[K\n",
            "Unpacking objects: 100% (76/76), 318.14 KiB | 3.66 MiB/s, done.\n",
            "./\n",
            "./root/\n",
            "./root/.profile\n",
            "./root/.bin.priority/\n",
            "./root/.bin.priority/pip\n",
            "./root/.bin.priority/pip2\n",
            "./root/.bin.priority/pip3\n",
            "./root/.vimrc\n",
            "./root/.condarc\n",
            "./root/.bashrc.biolab\n",
            "./root/.tmux.conf\n",
            "--2023-05-12 04:20:39--  https://repo.anaconda.com/miniconda/Miniconda3-latest-Linux-x86_64.sh\n",
            "Resolving repo.anaconda.com (repo.anaconda.com)... 104.16.131.3, 104.16.130.3, 2606:4700::6810:8203, ...\n",
            "Connecting to repo.anaconda.com (repo.anaconda.com)|104.16.131.3|:443... connected.\n",
            "HTTP request sent, awaiting response... 200 OK\n",
            "Length: 73134376 (70M) [application/x-sh]\n",
            "Saving to: ‘miniconda3.sh’\n",
            "\n",
            "miniconda3.sh       100%[===================>]  69.75M   145MB/s    in 0.5s    \n",
            "\n",
            "2023-05-12 04:20:39 (145 MB/s) - ‘miniconda3.sh’ saved [73134376/73134376]\n",
            "\n",
            "PREFIX=/root/conda\n",
            "Unpacking payload ...\n",
            "                                                                               \n",
            "Installing base environment...\n",
            "\n",
            "\n",
            "Downloading and Extracting Packages\n",
            "\n",
            "\n",
            "Downloading and Extracting Packages\n",
            "\n",
            "Preparing transaction: - \b\b\\ \b\b| \b\b/ \b\b- \b\bdone\n",
            "Executing transaction: | \b\b/ \b\b- \b\b\\ \b\b| \b\b/ \b\b- \b\b\\ \b\b| \b\b/ \b\b- \b\b\\ \b\b| \b\b/ \b\b- \b\b\\ \b\b| \b\b/ \b\b- \b\b\\ \b\b| \b\bdone\n",
            "installation finished.\n",
            "WARNING:\n",
            "    You currently have a PYTHONPATH environment variable set. This may cause\n",
            "    unexpected behavior when running the Python interpreter in Miniconda3.\n",
            "    For best results, please verify that your PYTHONPATH only points to\n",
            "    directories of packages that are compatible with the Python interpreter\n",
            "    in Miniconda3: /root/conda\n",
            "Activated conda environment `lab'!\n"
          ]
        }
      ]
    },
    {
      "cell_type": "markdown",
      "metadata": {
        "id": "8A1Qq4AcPfS0"
      },
      "source": [
        "설정이 끝났으면, 이제 콘솔을 열어서 터미널로 접속할 수 있는 통로를 열어줍니다."
      ]
    },
    {
      "cell_type": "markdown",
      "metadata": {
        "id": "etOQJdMTPfS0"
      },
      "source": [
        "## 시퀀싱 데이터 다운로드\n",
        "첫 실습 시간에 데이터 복사를 마쳤으면 이 부분은 생략하고 지나갑니다.\n",
        "\n",
        "이제 실습 수업에서 필요한 시퀀싱 데이터를 다운로드 받아서 설치합시다. 드라이브 공간만 충분하면 데이터는 계속 저장돼 있기 때문에 학기 전체를 통해서 딱 한 번만 하시면 됩니다. Colab에서는 작업용 데이터를 Google Drive 폴더 아래의 `binfo-datapack1`에 저장합니다. 실습용 데이터는 `/content/drive/MyDrive/binfo1-datapack1`에 풀리게 됩니다.\n",
        "\n",
        "### (Option 1) Google CoLab에서 접속한 경우\n",
        "1. [Google Drive 공유폴더](https://drive.google.com/drive/folders/1QBJednh-C7A17PFOlpZHBKyDmBvd6klh?usp=sharing)에 접속합니다.\n",
        "1. 중간 제목줄의 \"binfo1-datapack1 ▾\"에서 ▾을 누릅니다.\n",
        "1. Add shortcut to Drive를 누릅니다.\n",
        "1. My Drive를 선택해서 ADD SHORTCUT 버튼을 누릅니다.\n",
        "1. 다음 cell을 실행해서 링크가 제대로 들어왔는지 확인합니다. (바로 확인되지 않으면 3–5분 정도 기다렸다가 하면 됩니다.)\n",
        "1. 제대로 확인되면 다음으로 넘어갑니다.\n"
      ]
    },
    {
      "cell_type": "code",
      "source": [
        "!ls -al /content/drive/MyDrive/binfo1-datapack1/"
      ],
      "metadata": {
        "id": "D24wKYriG8tI",
        "colab": {
          "base_uri": "https://localhost:8080/"
        },
        "outputId": "d403fc22-34c6-4698-89ec-ef74fc78ecc2"
      },
      "execution_count": 3,
      "outputs": [
        {
          "output_type": "stream",
          "name": "stdout",
          "text": [
            "total 7162852\n",
            "-r-------- 1 root root 1370036258 Apr 27 14:53 CLIP-35L33G.bam\n",
            "-r-------- 1 root root    3118336 Apr 27 14:53 CLIP-35L33G.bam.bai\n",
            "-r-------- 1 root root       7113 May 11 11:02 CLIP-let7g.bam\n",
            "-r-------- 1 root root      14561 May 11 11:03 CLIP-let7g-gene.pileup\n",
            "-r-------- 1 root root    2685065 May 11 11:02 CLIP-let7g.pileup\n",
            "-r-------- 1 root root  883334756 Apr 27 14:53 gencode.gtf\n",
            "-r-------- 1 root root   24065406 Apr 27 15:15 read-counts.txt\n",
            "-r-------- 1 root root        751 Apr 27 15:15 read-counts.txt.summary\n",
            "-r-------- 1 root root 1003658801 Apr 27 14:54 RNA-control.bam\n",
            "-r-------- 1 root root    2276104 Apr 27 14:53 RNA-control.bam.bai\n",
            "-r-------- 1 root root 1260991122 Apr 27 14:54 RNA-siLin28a.bam\n",
            "-r-------- 1 root root    2710744 Apr 27 14:54 RNA-siLin28a.bam.bai\n",
            "-r-------- 1 root root  981684502 Apr 27 14:54 RNA-siLuc.bam\n",
            "-r-------- 1 root root    2606104 Apr 27 14:54 RNA-siLuc.bam.bai\n",
            "-r-------- 1 root root  737352902 Apr 27 14:54 RPF-siLin28a.bam\n",
            "-r-------- 1 root root    2482768 Apr 27 14:54 RPF-siLin28a.bam.bai\n",
            "-r-------- 1 root root 1055123479 Apr 27 14:54 RPF-siLuc.bam\n",
            "-r-------- 1 root root    2605912 Apr 27 14:54 RPF-siLuc.bam.bai\n"
          ]
        }
      ]
    },
    {
      "cell_type": "markdown",
      "source": [
        "### (Option 2) CoLab외의 다른 환경에서 접속한 경우\n",
        "본인 컴퓨터나 연구실 워크스테이션 등에서 작업하는 경우에는 다음 명령어로 다운로드 받으시면 됩니다. 첫 번째에는 wget이 접속오류를 내는 경우가 많으니, 접속에러가 발생하면 다시 한 번 실행해 보세요. `/content/drive/Mydrive` 부분은 원하는 저장 경로로 바꿔서 지정하시면 됩니다."
      ],
      "metadata": {
        "id": "OZ0KkKrmG-M4"
      }
    },
    {
      "cell_type": "code",
      "metadata": {
        "id": "rgT10jUOPfS0"
      },
      "source": [
        "!wget -O - --no-check-certificate https://hyeshik.qbio.io/binfo/binfo1-datapack1.tar | tar -C /content/drive/MyDrive -xf -"
      ],
      "execution_count": null,
      "outputs": []
    },
    {
      "cell_type": "markdown",
      "metadata": {
        "id": "BnS18ErRPfS2"
      },
      "source": [
        "### 파일 체크섬 확인\n",
        "\n",
        "받은 데이터의 MD5 체크섬을 확인합니다. 한참 걸립니다. 각 파일들의 원래 체크섬은 다음과 같습니다. 한 번 비교해 보세요.\n",
        "\n",
        "```\n",
        "140aaf30bcb9276cc716f8699f04ddd6  CLIP-35L33G.bam\n",
        "f1b3336ed7e2f97d562dcc71641251bd  CLIP-35L33G.bam.bai\n",
        "328883a73d507eafbf5b60bd6b906201  RNA-control.bam\n",
        "02073818e2f398a73c3b76e5169de1ca  RNA-control.bam.bai\n",
        "b09550d09d6c2a4ce27f0226f426fdb1  RNA-siLin28a.bam\n",
        "fef112c727244060ea62d3f2564a07f6  RNA-siLin28a.bam.bai\n",
        "28bbd0c47d725669340c784f1b772c01  RNA-siLuc.bam\n",
        "43590fdc4d81905c0432e0d1cb8cfd5b  RNA-siLuc.bam.bai\n",
        "5c08a9297307bc83259e658c4474f0cc  RPF-siLin28a.bam\n",
        "a1bb3e29be412dfd7fd8d16b1b1acc4c  RPF-siLin28a.bam.bai\n",
        "f2eebf50943024d0116c9cd3e744c707  RPF-siLuc.bam\n",
        "dc24f69e8f571fc8be30f28ce5b84fcd  RPF-siLuc.bam.bai\n",
        "```"
      ]
    },
    {
      "cell_type": "code",
      "metadata": {
        "id": "6wOX9pzSPfS2"
      },
      "source": [
        "!md5sum drive/MyDrive/binfo1-datapack1/*"
      ],
      "execution_count": null,
      "outputs": []
    },
    {
      "cell_type": "code",
      "source": [
        "!ls -al drive/MyDrive/binfo*"
      ],
      "metadata": {
        "id": "-TbxufDhch1f"
      },
      "execution_count": null,
      "outputs": []
    },
    {
      "cell_type": "markdown",
      "source": [
        "# 파일 복사하기\n",
        "첫 시간에 파일을 복사해 두었으면 이 부분은 생략하고 다음으로 넘어갑니다.\n",
        "\n",
        "공유한 폴더를 나의 작업 폴더로 복사합니다."
      ],
      "metadata": {
        "id": "TYffnLRpcmSn"
      }
    },
    {
      "cell_type": "code",
      "source": [
        "!mkdir -p /content/drive/MyDrive/binfo1-work\n",
        "%cd /content/drive/MyDrive/binfo1-work\n",
        "!cp ../binfo1-datapack1/* ."
      ],
      "metadata": {
        "id": "mDgKA0xGco6G"
      },
      "execution_count": null,
      "outputs": []
    },
    {
      "cell_type": "markdown",
      "metadata": {
        "id": "ecEA1PPQUlIK"
      },
      "source": [
        "# 프로그램 설치\n",
        "데이터 준비가 끝났으면, 이제 이번 시간 실습에 필요한 프로그램들 몇 가지를 추가로 설치합니다."
      ]
    },
    {
      "cell_type": "code",
      "metadata": {
        "id": "neteyWsWEKBy"
      },
      "source": [
        "!conda install -y bedtools bioawk samtools"
      ],
      "execution_count": null,
      "outputs": []
    },
    {
      "cell_type": "markdown",
      "metadata": {
        "id": "Oe_54MZrEi4y"
      },
      "source": [
        "## Mission 3\n",
        "\n",
        "이번 미션에서는 Figure S2A 아랫쪽에 표시되는 clustered error 분석 (CIMS; Crosslinking-induced mutation sites)을 합니다. 자외선에 의해서 단백질이 붙어있다가 단백질 분해효소로 단백질을 뜯어내고 남은 자리에서는 reverse-transcriptase가 오류를 자주 냅니다. 오류율을 분석해서 단백질이 앉아 있었던 자리를 분석해 봅시다.\n",
        "\n",
        "데이터는 지난 번과 동일하기 때문에 이미 다운로드 받으셨다면 다시 다운로드 받을 필요는 없습니다."
      ]
    },
    {
      "cell_type": "code",
      "metadata": {
        "id": "IANz6DmLUkA6",
        "colab": {
          "base_uri": "https://localhost:8080/"
        },
        "outputId": "e98282da-e9f3-4506-9d43-3db34f3483c3"
      },
      "source": [
        "%cd /content/drive/MyDrive/binfo1-datapack1/"
      ],
      "execution_count": 5,
      "outputs": [
        {
          "output_type": "stream",
          "name": "stdout",
          "text": [
            "/content/drive/.shortcut-targets-by-id/1QBJednh-C7A17PFOlpZHBKyDmBvd6klh/binfo1-datapack1\n"
          ]
        }
      ]
    },
    {
      "cell_type": "markdown",
      "metadata": {
        "id": "CMMDdHgyJAB1"
      },
      "source": [
        "Genome 전체로 계산하는 방법은 자원도 꽤 쓰고 시간이 걸리기 때문에 여기서는 유전자 단위로 간략하게 하도록 합시다. 예시로 Mirlet7g를 해 보고, 추가로 Mirlet7f-1과 Mirlet7d도 봐서 비교해 봅시다.\n",
        "\n",
        "논문은 예전 레퍼런스 유전체인 mm9을 쓰고 있기 때문에, 현재 사용되는 레퍼런스 mm39와는 좌표계에 차이가 있습니다. 새로 annotation에서 위치를 찾습니다."
      ]
    },
    {
      "cell_type": "code",
      "metadata": {
        "id": "sumX23OcI_fl",
        "colab": {
          "base_uri": "https://localhost:8080/"
        },
        "outputId": "6c7fd9a5-7963-4d22-f68f-49b030335bb4"
      },
      "source": [
        "!grep -i mirlet7g gencode.gtf"
      ],
      "execution_count": 6,
      "outputs": [
        {
          "output_type": "stream",
          "name": "stdout",
          "text": [
            "chr9\tENSEMBL\tgene\t106056039\t106056126\t.\t+\t.\tgene_id \"ENSMUSG00000065440.3\"; gene_type \"miRNA\"; gene_name \"Mirlet7g\"; level 3; mgi_id \"MGI:2676800\";\n",
            "chr9\tENSEMBL\ttranscript\t106056039\t106056126\t.\t+\t.\tgene_id \"ENSMUSG00000065440.3\"; transcript_id \"ENSMUST00000083506.3\"; gene_type \"miRNA\"; gene_name \"Mirlet7g\"; transcript_type \"miRNA\"; transcript_name \"Mirlet7g-201\"; level 3; transcript_support_level \"NA\"; mgi_id \"MGI:2676800\"; tag \"basic\";\n",
            "chr9\tENSEMBL\texon\t106056039\t106056126\t.\t+\t.\tgene_id \"ENSMUSG00000065440.3\"; transcript_id \"ENSMUST00000083506.3\"; gene_type \"miRNA\"; gene_name \"Mirlet7g\"; transcript_type \"miRNA\"; transcript_name \"Mirlet7g-201\"; exon_number 1; exon_id \"ENSMUSE00000522665.2\"; level 3; transcript_support_level \"NA\"; mgi_id \"MGI:2676800\"; tag \"basic\";\n"
          ]
        }
      ]
    },
    {
      "cell_type": "markdown",
      "metadata": {
        "id": "iB_C8P1fJkNE"
      },
      "source": [
        "Splicing 되지 않는 transcript이기 때문에 결과가 단조롭습니다. 해당 좌표 범위로 bam을 솎아냅니다."
      ]
    },
    {
      "cell_type": "code",
      "metadata": {
        "id": "opqsj9vNIL-z",
        "colab": {
          "base_uri": "https://localhost:8080/"
        },
        "outputId": "eb623c80-1c00-410c-fd84-0ed7ac9c3f1a"
      },
      "source": [
        "!samtools view -b -o CLIP-let7g.bam CLIP-35L33G.bam chr9:106056039-106056126\n",
        "!samtools view CLIP-let7g.bam | wc -l"
      ],
      "execution_count": 7,
      "outputs": [
        {
          "output_type": "stream",
          "name": "stdout",
          "text": [
            "[E::hts_open_format] Failed to open file CLIP-let7g.bam\n",
            "samtools view: failed to open \"CLIP-let7g.bam\" for writing: Operation not permitted\n",
            "163\n"
          ]
        }
      ]
    },
    {
      "cell_type": "markdown",
      "metadata": {
        "id": "baEtdt6aJ12N"
      },
      "source": [
        "각 자리에 mapping된 read들의 분포를 요약하기 위해 samtools mpileup을 이용합니다. Shannon entropy를 구할 때는 reference를 따로 줄 필요는 없습니다. samtools를 쓰지 않고 직접 read를 분석하면 더욱 더 재미있습니다."
      ]
    },
    {
      "cell_type": "code",
      "metadata": {
        "id": "5_RLXcMpIL8J",
        "colab": {
          "base_uri": "https://localhost:8080/"
        },
        "outputId": "cfa50fba-3618-4ed4-9bd5-b58a80dcb60a"
      },
      "source": [
        "!samtools mpileup CLIP-let7g.bam > CLIP-let7g.pileup\n",
        "!wc -l CLIP-let7g.pileup"
      ],
      "execution_count": 8,
      "outputs": [
        {
          "output_type": "stream",
          "name": "stdout",
          "text": [
            "/bin/bash: CLIP-let7g.pileup: Operation not permitted\n",
            "68548 CLIP-let7g.pileup\n"
          ]
        }
      ]
    },
    {
      "cell_type": "markdown",
      "metadata": {
        "id": "Xuzv5lSEKVoG"
      },
      "source": [
        "Mirlet7g는 100bp도 안 되는 짧은 gene인데 `mpileup` 결과는 엄청 길게 나옵니다. 왜 그럴까요? (잘 한 번 생각해 봅시다)"
      ]
    },
    {
      "cell_type": "markdown",
      "source": [
        "**예상 답:** \n",
        "  \n",
        "  1) MicroRNA Let-7g 이므로, 여러 위치에 존재할 수 있기 때문에? 게다가 non-coding region...\n",
        "  \n",
        "  2) Sample마다 mutation등의 이유로 위치가 다 다르기 때문에?\n",
        "  \n",
        "  3) 그럼에도 68548이라는 숫자가 나오는 것을 보면, \"mapping\"은 교수님 설명처럼 biological background를 고려한 \"완벽한\" 방법이 아닌, 확률적으로 가장 가능하 곳에 붙여서 편차가 크기 때문에?\n",
        "\n",
        "\n",
        "    일단 결국은, 해당 위치가 Mirlet7g가 아닐 수 있음"
      ],
      "metadata": {
        "id": "aUiRZSAPlEfM"
      }
    },
    {
      "cell_type": "markdown",
      "metadata": {
        "id": "hpC-bsZEKozF"
      },
      "source": [
        "이제 Mirlet7g의 핵심부분을 살펴봐서 어떻게 하면 좋을지 견적을 내 봅니다."
      ]
    },
    {
      "cell_type": "code",
      "metadata": {
        "id": "1WulVeZqIL5W",
        "colab": {
          "base_uri": "https://localhost:8080/"
        },
        "outputId": "611e1c36-dace-42f2-e539-dc2078492409"
      },
      "source": [
        "!head CLIP-let7g.pileup"
      ],
      "execution_count": 9,
      "outputs": [
        {
          "output_type": "stream",
          "name": "stdout",
          "text": [
            "chr9\t106007092\tN\t9\t^Ga^Ia^Ha^Ia^Ga^Ga^Ha^Ia^Ia\t<IFIGGHII\n",
            "chr9\t106007093\tN\t9\tggggggggg\tAFGIEGDII\n",
            "chr9\t106007094\tN\t9\tccccccccc\tEHHIGAFEH\n",
            "chr9\t106007095\tN\t9\taaaaaaaaa\t?HDIFA>II\n",
            "chr9\t106007096\tN\t9\taaaaaaaaa\tEHHIG@CHH\n",
            "chr9\t106007097\tN\t9\tttttttttt\t=HGEGDFII\n",
            "chr9\t106007098\tN\t9\taaaaaaaaa\t?HHIGDEII\n",
            "chr9\t106007099\tN\t9\tg-2nng-2nng-2nng-2nng-2nng-2nng-2nng-2nng-2nn\t?IEHGEDII\n",
            "chr9\t106007100\tN\t9\t*********\t8IBIBC@EI\n",
            "chr9\t106007101\tN\t9\t*********\t8IBIBC@EI\n"
          ]
        }
      ]
    },
    {
      "cell_type": "code",
      "metadata": {
        "id": "GUdB31wAIL0K",
        "colab": {
          "base_uri": "https://localhost:8080/"
        },
        "outputId": "3ba99df9-b7a0-415d-d3ff-9a3f5a3f1587"
      },
      "source": [
        "!awk '$2 >= 106056039 && $2 <= 106056126 { print $0; }' CLIP-let7g.pileup > CLIP-let7g-gene.pileup\n",
        "!tail CLIP-let7g-gene.pileup"
      ],
      "execution_count": 10,
      "outputs": [
        {
          "output_type": "stream",
          "name": "stdout",
          "text": [
            "/bin/bash: CLIP-let7g-gene.pileup: Operation not permitted\n",
            "chr9\t106056117\tN\t138\t<<<<<<<<<CCCCCCCCCCCCCCCCCCCCCCCCCCCCCCCCCCCCCCCCCCCCCCCCCCCCCCCCCCCCCCCCCCCCCCCCCCCCCCCCCCCCCCCCCCCCCCCCCCCCCCCCCCCCCCCCCCCCCCCCCCCCCCCCC\tBHEIG?DIIHGHII:;HGIIDGGGIIBGEB?>H<GGIIIIDIIGFHIHH9IGG=GGHIDH?DGIBIIHHGGIEIGI8GIDHDG.GGHEDIIDIDGDHIDGIFGHG;DCDDHEE@I?CGG:IHGIBGIHIIDG@DHIGG\n",
            "chr9\t106056118\tN\t139\t<<<<<<<<<CCCCCCCCCCCCCCCCCCCCCCCCCCCCCCCCCCCCCCCCCCCCCCCCCCCCCCCCCCCCCCCCCCCCCCCCCCCCCCCCCCCCCCCCCCCCCCCCCCCCCCCCCCCCCCCCCCCCCCCCCCCCCCCCCC\tBHEIG?DIIHGHII3AHIIIDGGGIIB3EHFBH>GIIIIIIIIIHIIHHAIIGBDGHIDH?GIIGIIHHDIIHIGIGGI=BGG9GIHHHIIGI=IAIIGGIEHGIEBG@DHDE;IBDGG4IGGIGGIIIIGGGDGIH1G\n",
            "chr9\t106056119\tN\t138\t<<<<<<<<<TTTTTTTTTTTTTTTTTTTTTTTTTT$TTTT$TTTTTTTTTTTTTTT$TTTT$TTTTTTT$TTTTTTTTTTTTTTTTTTTTTTTTTTTTTTTTTTTTTTTTTTTTTTTTTTTTTTTTTTTTTTTTTTTTTTTTT\tBHEIG?DIIGEFII:/GIIEDDHDIIF>BH3<HBEGIHIGFIIIBIIBE:HHGD>EGGDH7BIIGGIHHDHIHDEIGEIDHGG;GIHGHHIGD:IGHD:GGEHH?3G87HD</I=DGG=IHHIHBIFII@<HDHHH1G\n",
            "chr9\t106056120\tN\t133\t<<<<<<<<<TTTTTTTTTTTTTTTTTTTTTTTTTTTT$TTTT$TTT$TTTTTTTTTT$TTTTTTTT$TTTTTTTTTTTT$T$TTTTTT$TTTT$TT$TTTTTTTTTTTTTTTTTTT$TTTTTTTTTTTTTTTTTTTTTTTTTTT\tBHEIG?DIIHFBII74BIIIGDIIIIA8DHECHBIIIIIIIIHIIHB?IDGGGFDH?GIIIIHH@GHHGEDDGIEHBEDIHHGIIGI:HBII8DIIHHIBDD;<HDD3HB?@G?HHIIHIIIIIB@HDHDH8G\n",
            "chr9\t106056121\tN\t118\t<<<<<<<<<GGGGGGGGGGGGGGGGGGGG$G$G$G$G$G$G$G$GGGGGG$GG$GGGG$GG$GGGG$G$GGG$GGG$GGG$GGGG$GGGGG$GGGGGGGGG$GGGGGG$GG$GGG$GGG$GGGG$G$GG$GGGGGG$GGGG$G$G$G$G$G$\tBHEIG?DIIB<EDI/7BHHFB<FGHI3?GG>HAIHIFEF@H<<2>D3EE;HBAIIIBH4IHG@DI>G482GGFHID:I9II@BH@>HE8@;<HGI:GGBIDEIBIGIIIE?G@EIH7G\n",
            "chr9\t106056122\tN\t88\t<<<<<<<<<C$C$C$C$C$C$C$C$C$C$C$C$C$CCCCCC$C$C$C$C$C$C$CCC$C$C$C$CC$C$CC$CC$C$C$C$C$C$C$C$C$C$C$C$C$C$CC$C$C$C$C$C$CC$CC$C$CCC$C$C$C$C$CCCCC$CCC$C\tBHEIG?DIIEEGIIC;GIHEGBIIIIB1=FII?FEIGGGHDBIG=HHIIEBHD>EIHIG=I:HGBIIEF?E;DB3HB<GIHIHHEADF\n",
            "chr9\t106056123\tN\t31\t<<<<<<<<<CCCCCCCCCCCCCCCCCCCCCC\tBHEIG?DIIIIII>GIGGIGGD>BIHHHIEH\n",
            "chr9\t106056124\tN\t31\t<<<<<<<<<AAAAAAAAAAAAAAAAAAAAAA\tBHEIG?DIIIIHIGGIGGGIG:9DDBIEGFH\n",
            "chr9\t106056125\tN\t31\t<<<<<<<<<GGGGGGGGGGGGGGGGGGGGGG\tBHEIG?DIIIIIIGGE@GFIGD;GIGIIFHD\n",
            "chr9\t106056126\tN\t30\t<<<<<<<<<GGGGGGGGGGGGGGGGGGGGG\tBHEIG?DIIIIGHGHIGHI>G;GGGIGIHG\n"
          ]
        }
      ]
    },
    {
      "cell_type": "markdown",
      "metadata": {
        "id": "CNEWC4t_MA__"
      },
      "source": [
        "이제 pandas에 불러와서 분석해 봅니다. R을 쓰시는 분들은 R로 보내서 작업하셔도 됩니다."
      ]
    },
    {
      "cell_type": "code",
      "metadata": {
        "id": "PWq1ItOxILxa",
        "colab": {
          "base_uri": "https://localhost:8080/",
          "height": 374
        },
        "outputId": "5db1cce0-1a31-4506-aef2-8d8b3188d244"
      },
      "source": [
        "import pandas as pd\n",
        "\n",
        "pileup = pd.read_csv('CLIP-let7g-gene.pileup', sep='\\t', names=['chrom', 'pos', '_ref', 'count', 'basereads', 'quals'])\n",
        "pileup.tail()"
      ],
      "execution_count": 11,
      "outputs": [
        {
          "output_type": "execute_result",
          "data": {
            "text/plain": [
              "   chrom        pos _ref  count  \\\n",
              "83  chr9  106056122    N     88   \n",
              "84  chr9  106056123    N     31   \n",
              "85  chr9  106056124    N     31   \n",
              "86  chr9  106056125    N     31   \n",
              "87  chr9  106056126    N     30   \n",
              "\n",
              "                                            basereads  \\\n",
              "83  <<<<<<<<<C$C$C$C$C$C$C$C$C$C$C$C$C$CCCCCC$C$C$...   \n",
              "84                    <<<<<<<<<CCCCCCCCCCCCCCCCCCCCCC   \n",
              "85                    <<<<<<<<<AAAAAAAAAAAAAAAAAAAAAA   \n",
              "86                    <<<<<<<<<GGGGGGGGGGGGGGGGGGGGGG   \n",
              "87                     <<<<<<<<<GGGGGGGGGGGGGGGGGGGGG   \n",
              "\n",
              "                                                quals  \n",
              "83  BHEIG?DIIEEGIIC;GIHEGBIIIIB1=FII?FEIGGGHDBIG=H...  \n",
              "84                    BHEIG?DIIIIII>GIGGIGGD>BIHHHIEH  \n",
              "85                    BHEIG?DIIIIHIGGIGGGIG:9DDBIEGFH  \n",
              "86                    BHEIG?DIIIIIIGGE@GFIGD;GIGIIFHD  \n",
              "87                     BHEIG?DIIIIGHGHIGHI>G;GGGIGIHG  "
            ],
            "text/html": [
              "\n",
              "  <div id=\"df-57796e8e-ea33-415d-9ddf-3503ae2a5e5c\">\n",
              "    <div class=\"colab-df-container\">\n",
              "      <div>\n",
              "<style scoped>\n",
              "    .dataframe tbody tr th:only-of-type {\n",
              "        vertical-align: middle;\n",
              "    }\n",
              "\n",
              "    .dataframe tbody tr th {\n",
              "        vertical-align: top;\n",
              "    }\n",
              "\n",
              "    .dataframe thead th {\n",
              "        text-align: right;\n",
              "    }\n",
              "</style>\n",
              "<table border=\"1\" class=\"dataframe\">\n",
              "  <thead>\n",
              "    <tr style=\"text-align: right;\">\n",
              "      <th></th>\n",
              "      <th>chrom</th>\n",
              "      <th>pos</th>\n",
              "      <th>_ref</th>\n",
              "      <th>count</th>\n",
              "      <th>basereads</th>\n",
              "      <th>quals</th>\n",
              "    </tr>\n",
              "  </thead>\n",
              "  <tbody>\n",
              "    <tr>\n",
              "      <th>83</th>\n",
              "      <td>chr9</td>\n",
              "      <td>106056122</td>\n",
              "      <td>N</td>\n",
              "      <td>88</td>\n",
              "      <td>&lt;&lt;&lt;&lt;&lt;&lt;&lt;&lt;&lt;C$C$C$C$C$C$C$C$C$C$C$C$C$CCCCCC$C$C$...</td>\n",
              "      <td>BHEIG?DIIEEGIIC;GIHEGBIIIIB1=FII?FEIGGGHDBIG=H...</td>\n",
              "    </tr>\n",
              "    <tr>\n",
              "      <th>84</th>\n",
              "      <td>chr9</td>\n",
              "      <td>106056123</td>\n",
              "      <td>N</td>\n",
              "      <td>31</td>\n",
              "      <td>&lt;&lt;&lt;&lt;&lt;&lt;&lt;&lt;&lt;CCCCCCCCCCCCCCCCCCCCCC</td>\n",
              "      <td>BHEIG?DIIIIII&gt;GIGGIGGD&gt;BIHHHIEH</td>\n",
              "    </tr>\n",
              "    <tr>\n",
              "      <th>85</th>\n",
              "      <td>chr9</td>\n",
              "      <td>106056124</td>\n",
              "      <td>N</td>\n",
              "      <td>31</td>\n",
              "      <td>&lt;&lt;&lt;&lt;&lt;&lt;&lt;&lt;&lt;AAAAAAAAAAAAAAAAAAAAAA</td>\n",
              "      <td>BHEIG?DIIIIHIGGIGGGIG:9DDBIEGFH</td>\n",
              "    </tr>\n",
              "    <tr>\n",
              "      <th>86</th>\n",
              "      <td>chr9</td>\n",
              "      <td>106056125</td>\n",
              "      <td>N</td>\n",
              "      <td>31</td>\n",
              "      <td>&lt;&lt;&lt;&lt;&lt;&lt;&lt;&lt;&lt;GGGGGGGGGGGGGGGGGGGGGG</td>\n",
              "      <td>BHEIG?DIIIIIIGGE@GFIGD;GIGIIFHD</td>\n",
              "    </tr>\n",
              "    <tr>\n",
              "      <th>87</th>\n",
              "      <td>chr9</td>\n",
              "      <td>106056126</td>\n",
              "      <td>N</td>\n",
              "      <td>30</td>\n",
              "      <td>&lt;&lt;&lt;&lt;&lt;&lt;&lt;&lt;&lt;GGGGGGGGGGGGGGGGGGGGG</td>\n",
              "      <td>BHEIG?DIIIIGHGHIGHI&gt;G;GGGIGIHG</td>\n",
              "    </tr>\n",
              "  </tbody>\n",
              "</table>\n",
              "</div>\n",
              "      <button class=\"colab-df-convert\" onclick=\"convertToInteractive('df-57796e8e-ea33-415d-9ddf-3503ae2a5e5c')\"\n",
              "              title=\"Convert this dataframe to an interactive table.\"\n",
              "              style=\"display:none;\">\n",
              "        \n",
              "  <svg xmlns=\"http://www.w3.org/2000/svg\" height=\"24px\"viewBox=\"0 0 24 24\"\n",
              "       width=\"24px\">\n",
              "    <path d=\"M0 0h24v24H0V0z\" fill=\"none\"/>\n",
              "    <path d=\"M18.56 5.44l.94 2.06.94-2.06 2.06-.94-2.06-.94-.94-2.06-.94 2.06-2.06.94zm-11 1L8.5 8.5l.94-2.06 2.06-.94-2.06-.94L8.5 2.5l-.94 2.06-2.06.94zm10 10l.94 2.06.94-2.06 2.06-.94-2.06-.94-.94-2.06-.94 2.06-2.06.94z\"/><path d=\"M17.41 7.96l-1.37-1.37c-.4-.4-.92-.59-1.43-.59-.52 0-1.04.2-1.43.59L10.3 9.45l-7.72 7.72c-.78.78-.78 2.05 0 2.83L4 21.41c.39.39.9.59 1.41.59.51 0 1.02-.2 1.41-.59l7.78-7.78 2.81-2.81c.8-.78.8-2.07 0-2.86zM5.41 20L4 18.59l7.72-7.72 1.47 1.35L5.41 20z\"/>\n",
              "  </svg>\n",
              "      </button>\n",
              "      \n",
              "  <style>\n",
              "    .colab-df-container {\n",
              "      display:flex;\n",
              "      flex-wrap:wrap;\n",
              "      gap: 12px;\n",
              "    }\n",
              "\n",
              "    .colab-df-convert {\n",
              "      background-color: #E8F0FE;\n",
              "      border: none;\n",
              "      border-radius: 50%;\n",
              "      cursor: pointer;\n",
              "      display: none;\n",
              "      fill: #1967D2;\n",
              "      height: 32px;\n",
              "      padding: 0 0 0 0;\n",
              "      width: 32px;\n",
              "    }\n",
              "\n",
              "    .colab-df-convert:hover {\n",
              "      background-color: #E2EBFA;\n",
              "      box-shadow: 0px 1px 2px rgba(60, 64, 67, 0.3), 0px 1px 3px 1px rgba(60, 64, 67, 0.15);\n",
              "      fill: #174EA6;\n",
              "    }\n",
              "\n",
              "    [theme=dark] .colab-df-convert {\n",
              "      background-color: #3B4455;\n",
              "      fill: #D2E3FC;\n",
              "    }\n",
              "\n",
              "    [theme=dark] .colab-df-convert:hover {\n",
              "      background-color: #434B5C;\n",
              "      box-shadow: 0px 1px 3px 1px rgba(0, 0, 0, 0.15);\n",
              "      filter: drop-shadow(0px 1px 2px rgba(0, 0, 0, 0.3));\n",
              "      fill: #FFFFFF;\n",
              "    }\n",
              "  </style>\n",
              "\n",
              "      <script>\n",
              "        const buttonEl =\n",
              "          document.querySelector('#df-57796e8e-ea33-415d-9ddf-3503ae2a5e5c button.colab-df-convert');\n",
              "        buttonEl.style.display =\n",
              "          google.colab.kernel.accessAllowed ? 'block' : 'none';\n",
              "\n",
              "        async function convertToInteractive(key) {\n",
              "          const element = document.querySelector('#df-57796e8e-ea33-415d-9ddf-3503ae2a5e5c');\n",
              "          const dataTable =\n",
              "            await google.colab.kernel.invokeFunction('convertToInteractive',\n",
              "                                                     [key], {});\n",
              "          if (!dataTable) return;\n",
              "\n",
              "          const docLinkHtml = 'Like what you see? Visit the ' +\n",
              "            '<a target=\"_blank\" href=https://colab.research.google.com/notebooks/data_table.ipynb>data table notebook</a>'\n",
              "            + ' to learn more about interactive tables.';\n",
              "          element.innerHTML = '';\n",
              "          dataTable['output_type'] = 'display_data';\n",
              "          await google.colab.output.renderOutput(dataTable, element);\n",
              "          const docLink = document.createElement('div');\n",
              "          docLink.innerHTML = docLinkHtml;\n",
              "          element.appendChild(docLink);\n",
              "        }\n",
              "      </script>\n",
              "    </div>\n",
              "  </div>\n",
              "  "
            ]
          },
          "metadata": {},
          "execution_count": 11
        }
      ]
    },
    {
      "cell_type": "code",
      "source": [
        "max(pileup['pos']),max(pileup['pos'])-min(pileup['pos'])"
      ],
      "metadata": {
        "colab": {
          "base_uri": "https://localhost:8080/"
        },
        "id": "EZfyFAGSmgu8",
        "outputId": "59e6ae3f-683b-471a-8cd0-ddccc2ae2847"
      },
      "execution_count": 12,
      "outputs": [
        {
          "output_type": "execute_result",
          "data": {
            "text/plain": [
              "(106056126, 87)"
            ]
          },
          "metadata": {},
          "execution_count": 12
        }
      ]
    },
    {
      "cell_type": "markdown",
      "metadata": {
        "id": "DOM-v48vMTQ-"
      },
      "source": [
        "여기서 pileup에서 계산에 사용할 것은 match와 substitution만입니다. 나머지에 해당하는 tag들은 제거합니다.\n",
        "\n",
        "R을 쓰시는 분들은 R로 보내서 작업하셔도 됩니다."
      ]
    },
    {
      "cell_type": "code",
      "metadata": {
        "id": "qm25CsvBILug"
      },
      "source": [
        "import re\n",
        "toremove = re.compile('[<>$*#^]')\n",
        "pileup['matches'] = pileup['basereads'].apply(lambda x: toremove.sub('', x))"
      ],
      "execution_count": 13,
      "outputs": []
    },
    {
      "cell_type": "code",
      "metadata": {
        "id": "uXYF___MILrK",
        "colab": {
          "base_uri": "https://localhost:8080/",
          "height": 424
        },
        "outputId": "6a8618da-0c6e-434f-f846-2b99cdffdb4c"
      },
      "source": [
        "pileup[['chrom', 'pos', 'matches']]"
      ],
      "execution_count": 14,
      "outputs": [
        {
          "output_type": "execute_result",
          "data": {
            "text/plain": [
              "   chrom        pos                                            matches\n",
              "0   chr9  106056039                                                   \n",
              "1   chr9  106056040                                                   \n",
              "2   chr9  106056041                                                   \n",
              "3   chr9  106056042                                                   \n",
              "4   chr9  106056043                                                   \n",
              "..   ...        ...                                                ...\n",
              "83  chr9  106056122  CCCCCCCCCCCCCCCCCCCCCCCCCCCCCCCCCCCCCCCCCCCCCC...\n",
              "84  chr9  106056123                             CCCCCCCCCCCCCCCCCCCCCC\n",
              "85  chr9  106056124                             AAAAAAAAAAAAAAAAAAAAAA\n",
              "86  chr9  106056125                             GGGGGGGGGGGGGGGGGGGGGG\n",
              "87  chr9  106056126                              GGGGGGGGGGGGGGGGGGGGG\n",
              "\n",
              "[88 rows x 3 columns]"
            ],
            "text/html": [
              "\n",
              "  <div id=\"df-1420d073-c745-45dc-865b-e31f747da794\">\n",
              "    <div class=\"colab-df-container\">\n",
              "      <div>\n",
              "<style scoped>\n",
              "    .dataframe tbody tr th:only-of-type {\n",
              "        vertical-align: middle;\n",
              "    }\n",
              "\n",
              "    .dataframe tbody tr th {\n",
              "        vertical-align: top;\n",
              "    }\n",
              "\n",
              "    .dataframe thead th {\n",
              "        text-align: right;\n",
              "    }\n",
              "</style>\n",
              "<table border=\"1\" class=\"dataframe\">\n",
              "  <thead>\n",
              "    <tr style=\"text-align: right;\">\n",
              "      <th></th>\n",
              "      <th>chrom</th>\n",
              "      <th>pos</th>\n",
              "      <th>matches</th>\n",
              "    </tr>\n",
              "  </thead>\n",
              "  <tbody>\n",
              "    <tr>\n",
              "      <th>0</th>\n",
              "      <td>chr9</td>\n",
              "      <td>106056039</td>\n",
              "      <td></td>\n",
              "    </tr>\n",
              "    <tr>\n",
              "      <th>1</th>\n",
              "      <td>chr9</td>\n",
              "      <td>106056040</td>\n",
              "      <td></td>\n",
              "    </tr>\n",
              "    <tr>\n",
              "      <th>2</th>\n",
              "      <td>chr9</td>\n",
              "      <td>106056041</td>\n",
              "      <td></td>\n",
              "    </tr>\n",
              "    <tr>\n",
              "      <th>3</th>\n",
              "      <td>chr9</td>\n",
              "      <td>106056042</td>\n",
              "      <td></td>\n",
              "    </tr>\n",
              "    <tr>\n",
              "      <th>4</th>\n",
              "      <td>chr9</td>\n",
              "      <td>106056043</td>\n",
              "      <td></td>\n",
              "    </tr>\n",
              "    <tr>\n",
              "      <th>...</th>\n",
              "      <td>...</td>\n",
              "      <td>...</td>\n",
              "      <td>...</td>\n",
              "    </tr>\n",
              "    <tr>\n",
              "      <th>83</th>\n",
              "      <td>chr9</td>\n",
              "      <td>106056122</td>\n",
              "      <td>CCCCCCCCCCCCCCCCCCCCCCCCCCCCCCCCCCCCCCCCCCCCCC...</td>\n",
              "    </tr>\n",
              "    <tr>\n",
              "      <th>84</th>\n",
              "      <td>chr9</td>\n",
              "      <td>106056123</td>\n",
              "      <td>CCCCCCCCCCCCCCCCCCCCCC</td>\n",
              "    </tr>\n",
              "    <tr>\n",
              "      <th>85</th>\n",
              "      <td>chr9</td>\n",
              "      <td>106056124</td>\n",
              "      <td>AAAAAAAAAAAAAAAAAAAAAA</td>\n",
              "    </tr>\n",
              "    <tr>\n",
              "      <th>86</th>\n",
              "      <td>chr9</td>\n",
              "      <td>106056125</td>\n",
              "      <td>GGGGGGGGGGGGGGGGGGGGGG</td>\n",
              "    </tr>\n",
              "    <tr>\n",
              "      <th>87</th>\n",
              "      <td>chr9</td>\n",
              "      <td>106056126</td>\n",
              "      <td>GGGGGGGGGGGGGGGGGGGGG</td>\n",
              "    </tr>\n",
              "  </tbody>\n",
              "</table>\n",
              "<p>88 rows × 3 columns</p>\n",
              "</div>\n",
              "      <button class=\"colab-df-convert\" onclick=\"convertToInteractive('df-1420d073-c745-45dc-865b-e31f747da794')\"\n",
              "              title=\"Convert this dataframe to an interactive table.\"\n",
              "              style=\"display:none;\">\n",
              "        \n",
              "  <svg xmlns=\"http://www.w3.org/2000/svg\" height=\"24px\"viewBox=\"0 0 24 24\"\n",
              "       width=\"24px\">\n",
              "    <path d=\"M0 0h24v24H0V0z\" fill=\"none\"/>\n",
              "    <path d=\"M18.56 5.44l.94 2.06.94-2.06 2.06-.94-2.06-.94-.94-2.06-.94 2.06-2.06.94zm-11 1L8.5 8.5l.94-2.06 2.06-.94-2.06-.94L8.5 2.5l-.94 2.06-2.06.94zm10 10l.94 2.06.94-2.06 2.06-.94-2.06-.94-.94-2.06-.94 2.06-2.06.94z\"/><path d=\"M17.41 7.96l-1.37-1.37c-.4-.4-.92-.59-1.43-.59-.52 0-1.04.2-1.43.59L10.3 9.45l-7.72 7.72c-.78.78-.78 2.05 0 2.83L4 21.41c.39.39.9.59 1.41.59.51 0 1.02-.2 1.41-.59l7.78-7.78 2.81-2.81c.8-.78.8-2.07 0-2.86zM5.41 20L4 18.59l7.72-7.72 1.47 1.35L5.41 20z\"/>\n",
              "  </svg>\n",
              "      </button>\n",
              "      \n",
              "  <style>\n",
              "    .colab-df-container {\n",
              "      display:flex;\n",
              "      flex-wrap:wrap;\n",
              "      gap: 12px;\n",
              "    }\n",
              "\n",
              "    .colab-df-convert {\n",
              "      background-color: #E8F0FE;\n",
              "      border: none;\n",
              "      border-radius: 50%;\n",
              "      cursor: pointer;\n",
              "      display: none;\n",
              "      fill: #1967D2;\n",
              "      height: 32px;\n",
              "      padding: 0 0 0 0;\n",
              "      width: 32px;\n",
              "    }\n",
              "\n",
              "    .colab-df-convert:hover {\n",
              "      background-color: #E2EBFA;\n",
              "      box-shadow: 0px 1px 2px rgba(60, 64, 67, 0.3), 0px 1px 3px 1px rgba(60, 64, 67, 0.15);\n",
              "      fill: #174EA6;\n",
              "    }\n",
              "\n",
              "    [theme=dark] .colab-df-convert {\n",
              "      background-color: #3B4455;\n",
              "      fill: #D2E3FC;\n",
              "    }\n",
              "\n",
              "    [theme=dark] .colab-df-convert:hover {\n",
              "      background-color: #434B5C;\n",
              "      box-shadow: 0px 1px 3px 1px rgba(0, 0, 0, 0.15);\n",
              "      filter: drop-shadow(0px 1px 2px rgba(0, 0, 0, 0.3));\n",
              "      fill: #FFFFFF;\n",
              "    }\n",
              "  </style>\n",
              "\n",
              "      <script>\n",
              "        const buttonEl =\n",
              "          document.querySelector('#df-1420d073-c745-45dc-865b-e31f747da794 button.colab-df-convert');\n",
              "        buttonEl.style.display =\n",
              "          google.colab.kernel.accessAllowed ? 'block' : 'none';\n",
              "\n",
              "        async function convertToInteractive(key) {\n",
              "          const element = document.querySelector('#df-1420d073-c745-45dc-865b-e31f747da794');\n",
              "          const dataTable =\n",
              "            await google.colab.kernel.invokeFunction('convertToInteractive',\n",
              "                                                     [key], {});\n",
              "          if (!dataTable) return;\n",
              "\n",
              "          const docLinkHtml = 'Like what you see? Visit the ' +\n",
              "            '<a target=\"_blank\" href=https://colab.research.google.com/notebooks/data_table.ipynb>data table notebook</a>'\n",
              "            + ' to learn more about interactive tables.';\n",
              "          element.innerHTML = '';\n",
              "          dataTable['output_type'] = 'display_data';\n",
              "          await google.colab.output.renderOutput(dataTable, element);\n",
              "          const docLink = document.createElement('div');\n",
              "          docLink.innerHTML = docLinkHtml;\n",
              "          element.appendChild(docLink);\n",
              "        }\n",
              "      </script>\n",
              "    </div>\n",
              "  </div>\n",
              "  "
            ]
          },
          "metadata": {},
          "execution_count": 14
        }
      ]
    },
    {
      "cell_type": "code",
      "metadata": {
        "id": "k55NUm9OILhw",
        "colab": {
          "base_uri": "https://localhost:8080/",
          "height": 54
        },
        "outputId": "d6042031-b67c-4d21-ac81-8d86d100ca22"
      },
      "source": [
        "pileup[pileup['pos'] == 106056094].iloc[0]['matches']"
      ],
      "execution_count": 19,
      "outputs": [
        {
          "output_type": "execute_result",
          "data": {
            "text/plain": [
              "'GGGGGGAAAAAAAAGGGGGAAAAAAGCCGCAGGATGAGGTGATAAGGGAGGGGTGAAGGGCGGTGAAGGGGAAAAGAGAAAGAAAAATAAAGGGGGAGTGGGAGGAAGAAGAGAATA'"
            ],
            "application/vnd.google.colaboratory.intrinsic+json": {
              "type": "string"
            }
          },
          "metadata": {},
          "execution_count": 19
        }
      ]
    },
    {
      "cell_type": "markdown",
      "metadata": {
        "id": "NrgJiS2iRhIn"
      },
      "source": [
        "자 이제 데이터 준비가 대충 끝났습니다. 다음 순서로 진행해 보세요. (1-4번 단계는 R을 쓰시는 분들은 R로 보내서 작업하셔도 됩니다.)\n",
        "\n",
        "1. 각 position별로 base수를 셉니다.\n",
        "1. 각 position별로 Shannon entropy를 계산합니다.\n",
        "1. 계산한 Shannon entropy를 [bedgraph format](https://genome.ucsc.edu/goldenPath/help/bedgraph.html)으로 출력합니다. 말은 복잡해도 실제로는 간단합니다. 4칸짜리를 만드시면 됩니다.\n",
        "1. 결과 파일을 본인의 Google Drive에서 가져옵니다.\n",
        "1. [UCSC Genome Browser](http://genome.ucsc.edu/cgi-bin/hgTracks?db=mm39&lastVirtModeType=default&lastVirtModeExtraState=&virtModeType=default&virtMode=0&nonVirtPosition=&position=chr9%3A106056039-106056126)에 접속해서 Genome은 mm39로 선택합니다.\n",
        "1. 그래프 아랫쪽의 add custom tracks 버튼을 누릅니다.\n",
        "1. Paste URLs or data 옆의 Choose File 버튼을 누르고 우리가 만든 bedgraph 파일을 업로드 합니다.\n",
        "1. 그리고 이리 저리 감상해 보다가 View 메뉴의 PDF/PS 를 눌러서 인증샷을 한 번 찍습니다.\n",
        "1. Mirlet7d와 Mirlet7f-1도 한 번 해 봅니다."
      ]
    },
    {
      "cell_type": "code",
      "metadata": {
        "id": "AHTL_baZRg2y",
        "colab": {
          "base_uri": "https://localhost:8080/"
        },
        "outputId": "ae94e68b-fdf4-4ec4-9bf2-672dd6920fd3"
      },
      "source": [
        "import numpy as np\n",
        "\n",
        "len(np.unique(pileup['pos']))"
      ],
      "execution_count": 15,
      "outputs": [
        {
          "output_type": "execute_result",
          "data": {
            "text/plain": [
              "88"
            ]
          },
          "metadata": {},
          "execution_count": 15
        }
      ]
    },
    {
      "cell_type": "markdown",
      "source": [
        "88 row인데 pileup['pos']가 unique 개수 88개 이므로, 그냥 겹침 확인 없이 각 matches에 해당하는 수를 counting. \n",
        "\n",
        "  그 전에, matches가 그냥 count해도 되는지 확인해 볼것"
      ],
      "metadata": {
        "id": "m60OlYVyoldM"
      }
    },
    {
      "cell_type": "code",
      "source": [
        "np.unique(pileup['matches'])"
      ],
      "metadata": {
        "colab": {
          "base_uri": "https://localhost:8080/"
        },
        "id": "jPKuaOKZoGci",
        "outputId": "0fc9d051-ffa4-46b4-e457-ad9b4c09ffa8"
      },
      "execution_count": 16,
      "outputs": [
        {
          "output_type": "execute_result",
          "data": {
            "text/plain": [
              "array(['', 'AAAAAAAAAAAAAAAAAAAAAA', 'AAAAAAAAAAAAAAAAAAAAAAA',\n",
              "       'AAAAAAAAAAAAAAAAAAAAAAAAAAAAAAAAAAAA',\n",
              "       'AAAAAAAAAAAAAAAAAAAAAAAAAAAAAAAAAAAAAAAAAAAAAAAAAAAAAAAAAAAAAAAAAAAAAAAAAAAAAAAAAAAAAAAAAAAAAAAAAAAAAAAAAAAAAAAAAAAAAAAAAAAAAAAAA',\n",
              "       'AAAAAAAAAAAAAAAAAAAAAAAAAAAAAAAAAAAAAAAAAAAAAAAAAAAAAAAAAAAAAAAAAAAAAAAAAAAAAAAAAAAAAAAAAAAAAAAAAAAAAAAAAAAAAAAAAAAAAAAAAAAAAAAAAA',\n",
              "       'AAAAAAAAAAAAAAAAAAAAAAAAAAAAAAAAAAAAAAAAAAAAAAAAAAAAAAAAAAAAAAAAAAAAAAAAAAAAAAAAAAAAAAAAAAAAAAAAAAAAAAAAAAAAAAAAAAAAAAAAAAAAAAAAAAAAAAAA',\n",
              "       'AAAAAAAAAAAAAAAAAAAAAAAAAAAAAAAAAAAAAAAAAAAAAAAAAAAAAAAAAAAAAAAAAAAAAAAAAAAAAAAAAAAAAAAAAAAAAAAAAAAAAAAAAAAAAAAAAAAAAAAAAAAAAAAAAAAAAHAIAHA',\n",
              "       'AAAAAAAAAAAAAAAAAAAAAAAAAAAAAAAAAAAAAAAAAAAAAAAAAAAAAAAAAAAAAAAAAAAAAAAAAAAAAAAAAAAAAAAAAAAAAAAAAAAAAAAAAAAAAAAAAAAAAAAAAAAAAAAAAGA',\n",
              "       'AAAAAAAAAAAAAAAAAAAAAAAAAAAAAAAAAAAAAAAAAAAAAAAAAAAAAAAAAAAAAAAAAAAAAAHAIAHAIAGAHAIAGAHAGABAHADAGAIAHAHAHAIAIAHAIAGAIAGAIAIAGAHAIAIAHAHAIAGAHAGADADAHAGAGAIAGADAGAGA',\n",
              "       'AAAAAAAAAAAAAAAAAAAAAAAAAAAAAAAIAIAIAHAIA',\n",
              "       'AAAAAAAAAAAAAAAAAAAAAAAAAAAAAIAIAIAIAHA',\n",
              "       'AAAAAAAAAAAAAAAAAAAAAAAAAGAGAHAGADAHAGAHAIAIAIAIAIAIAIAIAIAHAIAIAHAHABAIAIAHAGAGAHAHAIADAHAGAHAIAIAHAIAIAHAHAGAIAIA',\n",
              "       'AAAAAAACAAAAAAAAAAAAAAA', 'CCCCCCCCCCCCCCCCCCCCCC',\n",
              "       'CCCCCCCCCCCCCCCCCCCCCCC', 'CCCCCCCCCCCCCCCCCCCCCCCCCCCCCCC',\n",
              "       'CCCCCCCCCCCCCCCCCCCCCCCCCCCCCCCCCC',\n",
              "       'CCCCCCCCCCCCCCCCCCCCCCCCCCCCCCCCCCCC',\n",
              "       'CCCCCCCCCCCCCCCCCCCCCCCCCCCCCCCCCCCCCCCCCCCCCCCCCCCCCCCCCCCCCCCCCCCCCC',\n",
              "       'CCCCCCCCCCCCCCCCCCCCCCCCCCCCCCCCCCCCCCCCCCCCCCCCCCCCCCCCCCCCCCCCCCCCCCCCCCCCCCC',\n",
              "       'CCCCCCCCCCCCCCCCCCCCCCCCCCCCCCCCCCCCCCCCCCCCCCCCCCCCCCCCCCCCCCCCCCCCCCCCCCCCCCCCCCCCCCCCCCCCCCCCCCCCCCCCCCCCCCCCCCCCCCCCCCCCCCCCC',\n",
              "       'CCCCCCCCCCCCCCCCCCCCCCCCCCCCCCCCCCCCCCCCCCCCCCCCCCCCCCCCCCCCCCCCCCCCCCCCCCCCCCCCCCCCCCCCCCCCCCCCCCCCCCCCCCCCCCCCCCCCCCCCCCCCCCCCCC',\n",
              "       'GGGGGGAAAAAAAAGGGGGAAAAAAGCCGCAGGATGAGGTGATAAGGGAGGGGTGAAGGGCGGTGAAGGGGAAAAGAGAAAGAAAAATAAAGGGGGAGTGGGAGGAAGAAGAGAATA',\n",
              "       'GGGGGGGGGGGGGGGGGGGGG', 'GGGGGGGGGGGGGGGGGGGGGG',\n",
              "       'GGGGGGGGGGGGGGGGGGGGGGG', 'GGGGGGGGGGGGGGGGGGGGGGGGGGGGGGGGGG',\n",
              "       'GGGGGGGGGGGGGGGGGGGGGGGGGGGGGGGGGGGG',\n",
              "       'GGGGGGGGGGGGGGGGGGGGGGGGGGGGGGGGGGGGGGGGGGGGGCGCGGGGGGGGGCGGGGGGCGGCGGCGGGGGGGGGGGGGGGGGGGGGGGGGGGGCGGGGGGGGGGGGGGGGDGIGHGIGIGHGIGIGIGIGIGHGHGHGDG',\n",
              "       'GGGGGGGGGGGGGGGGGGGGGGGGGGGGGGGGGGGGGGGGGGGGGGGGGGGGGGGGGGGGGGGGGGGGGGGGGGGGGGGGGGGGGGGGGGGGGGGGGGGGGGGGGGCGGGGGGGGGGGGGGGGGGG',\n",
              "       'GGGGGGGGGGGGGGGGGGGGGGGGGGGGGGGGGGGGGGGGGGGGGGGGGGGGGGGGGGGGGGGGGGGGGGGGGGGGGGGGGGGGGGGGGGGGGGGGGGGGGGGGGGGGG',\n",
              "       'GGGGGGGGGGGGGGGGGGGGGGGGGGGGGGGGGGGGGGGGGGGGGGGGGGGGGGGGGGGGGGGGGGGGGGGGGGGGGGGGGGGGGGGGGGGGGGGGGGGGGGGGGGGGGGGGGGGGGGGGGGGGGGG',\n",
              "       'GGGGGGGGGGGGGGGGGGGGGGGGGGGGGGGGGGGGGGGGGGGGGGGGGGGGGGGGGGGGGGGGGGGGGGGGGGGGGGGGGGGGGGGGGGGGGGGGGGGGGGGGGGGGGGGGGGGGGGGGGGGGGGGGGG',\n",
              "       'GGGGGGGGGGGGGGGGGGGGGGGGGGGGGGGGGGGGGGGGGGGGGGGGGGGGGGGGGGGGGGGGGGGGGGGGGGGGGGGGGGGGGGGGGGGGGGGGGGGGGGGGGGGGGGGGGGGGGGGGGGGGGGGGGGGGGGG',\n",
              "       'GGGGGGGGGGGGGGGGGGGGGGGHGHGHGIGIGHGGGHG',\n",
              "       'HTDTITGTHTHTITGTITHTHTITITHTHTGTHTGTHTHTHTITGT',\n",
              "       'TCTTTTTTTTTTTTTTTTTTTTTTTTTTTTTTTTTTTTTTTTTTTTTTTTTTTTTTTTTTTTTTTTTTTTTTTTTTTTTTTTTTTTTTTTTTTTTTTTTTTTTTTTTTTTTTTTTTTTTTTTTTTTTTT',\n",
              "       'TTTTTTTTTTTTTTTTTTTTTT', 'TTTTTTTTTTTTTTTTTTTTTTT',\n",
              "       'TTTTTTTTTTTTTTTTTTTTTTTT', 'TTTTTTTTTTTTTTTTTTTTTTTTTTTTTTT',\n",
              "       'TTTTTTTTTTTTTTTTTTTTTTTTTTTTTTTTTTTT',\n",
              "       'TTTTTTTTTTTTTTTTTTTTTTTTTTTTTTTTTTTTTTTTTTTTTTTTTTTTTTTTTTTTTTTTTTTTTTTTTTTTTTTTTTTTTTTTTTTTTTTTTTTTTTTTTTTTTTTTTTTTTTTTTTTT',\n",
              "       'TTTTTTTTTTTTTTTTTTTTTTTTTTTTTTTTTTTTTTTTTTTTTTTTTTTTTTTTTTTTTTTTTTTTTTTTTTTTTTTTTTTTTTTTTTTTTTTTTTTTTTTTTTTTTTTTTTTTTTTTTTTTTTTTT',\n",
              "       'TTTTTTTTTTTTTTTTTTTTTTTTTTTTTTTTTTTTTTTTTTTTTTTTTTTTTTTTTTTTTTTTTTTTTTTTTTTTTTTTTTTTTTTTTTTTTTTTTTTTTTTTTTTTTTTTTTTTTTTTTTTTTTTTTT',\n",
              "       'TTTTTTTTTTTTTTTTTTTTTTTTTTTTTTTTTTTTTTTTTTTTTTTTTTTTTTTTTTTTTTTTTTTTTTTTTTTTTTTTTTTTTTTTTTTTTTTTTTTTTTTTTTTTTTTTTTTTTTTTTTTTTTTTTTTTTTTT'],\n",
              "      dtype=object)"
            ]
          },
          "metadata": {},
          "execution_count": 16
        }
      ]
    },
    {
      "cell_type": "markdown",
      "source": [
        "**저 H와 I는 뭘까? base count에 사용 해도 되는 걸까?**\n",
        "\n",
        "**(I는 insertion? = 맞았다.)**\n",
        "\n",
        "\n",
        "ChatGPT: \n",
        "In CLIPseq data, \"H\" represents a hard-clipped read. A hard-clipped read means that the read was aligned to the reference genome but a portion of the read was excluded from the alignment, as it did not match the reference genome well enough to be included. This exclusion is represented by the \"H\" character in the read sequence.\n",
        "\n",
        "In the example sequence you provided, \"AAAAAAAHAIAHAIAGAHAIA\", the \"H\" indicates that the read was clipped, and the aligned sequence starts with \"AAAAAAA\". The specific reason for clipping the read can vary, but it is typically due to low-quality sequence or a low mapping score for a portion of the read.\n",
        "\n",
        "**Insertion하고 Hard clipped(10개도 안됨)은 뺴고 count**"
      ],
      "metadata": {
        "id": "oCgjtMlIpxpb"
      }
    },
    {
      "cell_type": "code",
      "source": [
        "from collections import Counter\n",
        "\n",
        "Counter(pileup['matches'])"
      ],
      "metadata": {
        "colab": {
          "base_uri": "https://localhost:8080/"
        },
        "id": "mJ0zeYmJo7l-",
        "outputId": "ae8b522e-b64a-4357-b1cf-d7e155418eb8"
      },
      "execution_count": 17,
      "outputs": [
        {
          "output_type": "execute_result",
          "data": {
            "text/plain": [
              "Counter({'': 6,\n",
              "         'HTDTITGTHTHTITGTITHTHTITITHTHTGTHTGTHTHTHTITGT': 1,\n",
              "         'GGGGGGGGGGGGGGGGGGGGGGG': 10,\n",
              "         'AAAAAAAAAAAAAAAAAAAAAAA': 5,\n",
              "         'TTTTTTTTTTTTTTTTTTTTTT': 2,\n",
              "         'TTTTTTTTTTTTTTTTTTTTTTT': 7,\n",
              "         'CCCCCCCCCCCCCCCCCCCCCCC': 1,\n",
              "         'AAAAAAACAAAAAAAAAAAAAAA': 1,\n",
              "         'GGGGGGGGGGGGGGGGGGGGGGGHGHGHGIGIGHGGGHG': 1,\n",
              "         'TTTTTTTTTTTTTTTTTTTTTTTTTTTTTTT': 2,\n",
              "         'CCCCCCCCCCCCCCCCCCCCCCCCCCCCCCC': 1,\n",
              "         'AAAAAAAAAAAAAAAAAAAAAAAAAAAAAAAIAIAIAHAIA': 1,\n",
              "         'TTTTTTTTTTTTTTTTTTTTTTTTTTTTTTTTTTTT': 2,\n",
              "         'GGGGGGGGGGGGGGGGGGGGGGGGGGGGGGGGGGGG': 1,\n",
              "         'AAAAAAAAAAAAAAAAAAAAAAAAAAAAAAAAAAAA': 2,\n",
              "         'CCCCCCCCCCCCCCCCCCCCCCCCCCCCCCCCCCCC': 2,\n",
              "         'AAAAAAAAAAAAAAAAAAAAAAAAAAAAAIAIAIAIAHA': 1,\n",
              "         'CCCCCCCCCCCCCCCCCCCCCCCCCCCCCCCCCC': 3,\n",
              "         'GGGGGGGGGGGGGGGGGGGGGGGGGGGGGGGGGG': 2,\n",
              "         'TTTTTTTTTTTTTTTTTTTTTTTT': 1,\n",
              "         'AAAAAAAAAAAAAAAAAAAAAAAAAGAGAHAGADAHAGAHAIAIAIAIAIAIAIAIAIAHAIAIAHAHABAIAIAHAGAGAHAHAIADAHAGAHAIAIAHAIAIAHAHAGAIAIA': 1,\n",
              "         'CCCCCCCCCCCCCCCCCCCCCCCCCCCCCCCCCCCCCCCCCCCCCCCCCCCCCCCCCCCCCCCCCCCCCC': 1,\n",
              "         'AAAAAAAAAAAAAAAAAAAAAAAAAAAAAAAAAAAAAAAAAAAAAAAAAAAAAAAAAAAAAAAAAAAAAAHAIAHAIAGAHAIAGAHAGABAHADAGAIAHAHAHAIAIAHAIAGAIAGAIAIAGAHAIAIAHAHAIAGAHAGADADAHAGAGAIAGADAGAGA': 1,\n",
              "         'GGGGGGAAAAAAAAGGGGGAAAAAAGCCGCAGGATGAGGTGATAAGGGAGGGGTGAAGGGCGGTGAAGGGGAAAAGAGAAAGAAAAATAAAGGGGGAGTGGGAGGAAGAAGAGAATA': 1,\n",
              "         'GGGGGGGGGGGGGGGGGGGGGGGGGGGGGGGGGGGGGGGGGGGGGCGCGGGGGGGGGCGGGGGGCGGCGGCGGGGGGGGGGGGGGGGGGGGGGGGGGGGCGGGGGGGGGGGGGGGGDGIGHGIGIGHGIGIGIGIGIGHGHGHGDG': 1,\n",
              "         'AAAAAAAAAAAAAAAAAAAAAAAAAAAAAAAAAAAAAAAAAAAAAAAAAAAAAAAAAAAAAAAAAAAAAAAAAAAAAAAAAAAAAAAAAAAAAAAAAAAAAAAAAAAAAAAAAAAAAAAAAAAAAAAAAAAAAHAIAHA': 1,\n",
              "         'GGGGGGGGGGGGGGGGGGGGGGGGGGGGGGGGGGGGGGGGGGGGGGGGGGGGGGGGGGGGGGGGGGGGGGGGGGGGGGGGGGGGGGGGGGGGGGGGGGGGGGGGGGGGGGGGGGGGGGGGGGGGGGGGGGGGGGG': 1,\n",
              "         'AAAAAAAAAAAAAAAAAAAAAAAAAAAAAAAAAAAAAAAAAAAAAAAAAAAAAAAAAAAAAAAAAAAAAAAAAAAAAAAAAAAAAAAAAAAAAAAAAAAAAAAAAAAAAAAAAAAAAAAAAAAAAAAAAAAAAAAA': 1,\n",
              "         'TTTTTTTTTTTTTTTTTTTTTTTTTTTTTTTTTTTTTTTTTTTTTTTTTTTTTTTTTTTTTTTTTTTTTTTTTTTTTTTTTTTTTTTTTTTTTTTTTTTTTTTTTTTTTTTTTTTTTTTTTTTTTTTTTTTTTTTT': 1,\n",
              "         'AAAAAAAAAAAAAAAAAAAAAAAAAAAAAAAAAAAAAAAAAAAAAAAAAAAAAAAAAAAAAAAAAAAAAAAAAAAAAAAAAAAAAAAAAAAAAAAAAAAAAAAAAAAAAAAAAAAAAAAAAAAAAAAAAGA': 1,\n",
              "         'AAAAAAAAAAAAAAAAAAAAAAAAAAAAAAAAAAAAAAAAAAAAAAAAAAAAAAAAAAAAAAAAAAAAAAAAAAAAAAAAAAAAAAAAAAAAAAAAAAAAAAAAAAAAAAAAAAAAAAAAAAAAAAAAAA': 2,\n",
              "         'CCCCCCCCCCCCCCCCCCCCCCCCCCCCCCCCCCCCCCCCCCCCCCCCCCCCCCCCCCCCCCCCCCCCCCCCCCCCCCCCCCCCCCCCCCCCCCCCCCCCCCCCCCCCCCCCCCCCCCCCCCCCCCCCCC': 5,\n",
              "         'TTTTTTTTTTTTTTTTTTTTTTTTTTTTTTTTTTTTTTTTTTTTTTTTTTTTTTTTTTTTTTTTTTTTTTTTTTTTTTTTTTTTTTTTTTTTTTTTTTTTTTTTTTTTTTTTTTTTTTTTTTTTTTTTTT': 1,\n",
              "         'GGGGGGGGGGGGGGGGGGGGGGGGGGGGGGGGGGGGGGGGGGGGGGGGGGGGGGGGGGGGGGGGGGGGGGGGGGGGGGGGGGGGGGGGGGGGGGGGGGGGGGGGGGGGGGGGGGGGGGGGGGGGGGGGGG': 2,\n",
              "         'TTTTTTTTTTTTTTTTTTTTTTTTTTTTTTTTTTTTTTTTTTTTTTTTTTTTTTTTTTTTTTTTTTTTTTTTTTTTTTTTTTTTTTTTTTTTTTTTTTTTTTTTTTTTTTTTTTTTTTTTTTTTTTTTT': 2,\n",
              "         'AAAAAAAAAAAAAAAAAAAAAAAAAAAAAAAAAAAAAAAAAAAAAAAAAAAAAAAAAAAAAAAAAAAAAAAAAAAAAAAAAAAAAAAAAAAAAAAAAAAAAAAAAAAAAAAAAAAAAAAAAAAAAAAAA': 2,\n",
              "         'CCCCCCCCCCCCCCCCCCCCCCCCCCCCCCCCCCCCCCCCCCCCCCCCCCCCCCCCCCCCCCCCCCCCCCCCCCCCCCCCCCCCCCCCCCCCCCCCCCCCCCCCCCCCCCCCCCCCCCCCCCCCCCCCC': 2,\n",
              "         'GGGGGGGGGGGGGGGGGGGGGGGGGGGGGGGGGGGGGGGGGGGGGGGGGGGGGGGGGGGGGGGGGGGGGGGGGGGGGGGGGGGGGGGGGGGGGGGGGGGGGGGGGGGGGGGGGGGGGGGGGGGGGGG': 1,\n",
              "         'GGGGGGGGGGGGGGGGGGGGGGGGGGGGGGGGGGGGGGGGGGGGGGGGGGGGGGGGGGGGGGGGGGGGGGGGGGGGGGGGGGGGGGGGGGGGGGGGGGGGGGGGGGCGGGGGGGGGGGGGGGGGGG': 1,\n",
              "         'TCTTTTTTTTTTTTTTTTTTTTTTTTTTTTTTTTTTTTTTTTTTTTTTTTTTTTTTTTTTTTTTTTTTTTTTTTTTTTTTTTTTTTTTTTTTTTTTTTTTTTTTTTTTTTTTTTTTTTTTTTTTTTTTT': 1,\n",
              "         'TTTTTTTTTTTTTTTTTTTTTTTTTTTTTTTTTTTTTTTTTTTTTTTTTTTTTTTTTTTTTTTTTTTTTTTTTTTTTTTTTTTTTTTTTTTTTTTTTTTTTTTTTTTTTTTTTTTTTTTTTTTT': 1,\n",
              "         'GGGGGGGGGGGGGGGGGGGGGGGGGGGGGGGGGGGGGGGGGGGGGGGGGGGGGGGGGGGGGGGGGGGGGGGGGGGGGGGGGGGGGGGGGGGGGGGGGGGGGGGGGGGGG': 1,\n",
              "         'CCCCCCCCCCCCCCCCCCCCCCCCCCCCCCCCCCCCCCCCCCCCCCCCCCCCCCCCCCCCCCCCCCCCCCCCCCCCCCC': 1,\n",
              "         'CCCCCCCCCCCCCCCCCCCCCC': 1,\n",
              "         'AAAAAAAAAAAAAAAAAAAAAA': 1,\n",
              "         'GGGGGGGGGGGGGGGGGGGGGG': 1,\n",
              "         'GGGGGGGGGGGGGGGGGGGGG': 1})"
            ]
          },
          "metadata": {},
          "execution_count": 17
        }
      ]
    },
    {
      "cell_type": "code",
      "source": [
        "pileup['base_count'] = pileup['matches'].apply(lambda x: len([c for c in x if c != 'H' and c != 'I']))\n",
        "pileup.head()"
      ],
      "metadata": {
        "colab": {
          "base_uri": "https://localhost:8080/",
          "height": 206
        },
        "id": "2AHYWxFGrQuf",
        "outputId": "d1b1c553-fcb1-484a-89e6-d62cc7c1a6d1"
      },
      "execution_count": 18,
      "outputs": [
        {
          "output_type": "execute_result",
          "data": {
            "text/plain": [
              "  chrom        pos _ref  count  basereads      quals matches  base_count\n",
              "0  chr9  106056039    N      9  <<<<<<<<<  BHEIG?DII                   0\n",
              "1  chr9  106056040    N      9  <<<<<<<<<  BHEIG?DII                   0\n",
              "2  chr9  106056041    N      9  <<<<<<<<<  BHEIG?DII                   0\n",
              "3  chr9  106056042    N      9  <<<<<<<<<  BHEIG?DII                   0\n",
              "4  chr9  106056043    N      9  <<<<<<<<<  BHEIG?DII                   0"
            ],
            "text/html": [
              "\n",
              "  <div id=\"df-1061c40d-4385-45b7-a69a-cec5b1d046fd\">\n",
              "    <div class=\"colab-df-container\">\n",
              "      <div>\n",
              "<style scoped>\n",
              "    .dataframe tbody tr th:only-of-type {\n",
              "        vertical-align: middle;\n",
              "    }\n",
              "\n",
              "    .dataframe tbody tr th {\n",
              "        vertical-align: top;\n",
              "    }\n",
              "\n",
              "    .dataframe thead th {\n",
              "        text-align: right;\n",
              "    }\n",
              "</style>\n",
              "<table border=\"1\" class=\"dataframe\">\n",
              "  <thead>\n",
              "    <tr style=\"text-align: right;\">\n",
              "      <th></th>\n",
              "      <th>chrom</th>\n",
              "      <th>pos</th>\n",
              "      <th>_ref</th>\n",
              "      <th>count</th>\n",
              "      <th>basereads</th>\n",
              "      <th>quals</th>\n",
              "      <th>matches</th>\n",
              "      <th>base_count</th>\n",
              "    </tr>\n",
              "  </thead>\n",
              "  <tbody>\n",
              "    <tr>\n",
              "      <th>0</th>\n",
              "      <td>chr9</td>\n",
              "      <td>106056039</td>\n",
              "      <td>N</td>\n",
              "      <td>9</td>\n",
              "      <td>&lt;&lt;&lt;&lt;&lt;&lt;&lt;&lt;&lt;</td>\n",
              "      <td>BHEIG?DII</td>\n",
              "      <td></td>\n",
              "      <td>0</td>\n",
              "    </tr>\n",
              "    <tr>\n",
              "      <th>1</th>\n",
              "      <td>chr9</td>\n",
              "      <td>106056040</td>\n",
              "      <td>N</td>\n",
              "      <td>9</td>\n",
              "      <td>&lt;&lt;&lt;&lt;&lt;&lt;&lt;&lt;&lt;</td>\n",
              "      <td>BHEIG?DII</td>\n",
              "      <td></td>\n",
              "      <td>0</td>\n",
              "    </tr>\n",
              "    <tr>\n",
              "      <th>2</th>\n",
              "      <td>chr9</td>\n",
              "      <td>106056041</td>\n",
              "      <td>N</td>\n",
              "      <td>9</td>\n",
              "      <td>&lt;&lt;&lt;&lt;&lt;&lt;&lt;&lt;&lt;</td>\n",
              "      <td>BHEIG?DII</td>\n",
              "      <td></td>\n",
              "      <td>0</td>\n",
              "    </tr>\n",
              "    <tr>\n",
              "      <th>3</th>\n",
              "      <td>chr9</td>\n",
              "      <td>106056042</td>\n",
              "      <td>N</td>\n",
              "      <td>9</td>\n",
              "      <td>&lt;&lt;&lt;&lt;&lt;&lt;&lt;&lt;&lt;</td>\n",
              "      <td>BHEIG?DII</td>\n",
              "      <td></td>\n",
              "      <td>0</td>\n",
              "    </tr>\n",
              "    <tr>\n",
              "      <th>4</th>\n",
              "      <td>chr9</td>\n",
              "      <td>106056043</td>\n",
              "      <td>N</td>\n",
              "      <td>9</td>\n",
              "      <td>&lt;&lt;&lt;&lt;&lt;&lt;&lt;&lt;&lt;</td>\n",
              "      <td>BHEIG?DII</td>\n",
              "      <td></td>\n",
              "      <td>0</td>\n",
              "    </tr>\n",
              "  </tbody>\n",
              "</table>\n",
              "</div>\n",
              "      <button class=\"colab-df-convert\" onclick=\"convertToInteractive('df-1061c40d-4385-45b7-a69a-cec5b1d046fd')\"\n",
              "              title=\"Convert this dataframe to an interactive table.\"\n",
              "              style=\"display:none;\">\n",
              "        \n",
              "  <svg xmlns=\"http://www.w3.org/2000/svg\" height=\"24px\"viewBox=\"0 0 24 24\"\n",
              "       width=\"24px\">\n",
              "    <path d=\"M0 0h24v24H0V0z\" fill=\"none\"/>\n",
              "    <path d=\"M18.56 5.44l.94 2.06.94-2.06 2.06-.94-2.06-.94-.94-2.06-.94 2.06-2.06.94zm-11 1L8.5 8.5l.94-2.06 2.06-.94-2.06-.94L8.5 2.5l-.94 2.06-2.06.94zm10 10l.94 2.06.94-2.06 2.06-.94-2.06-.94-.94-2.06-.94 2.06-2.06.94z\"/><path d=\"M17.41 7.96l-1.37-1.37c-.4-.4-.92-.59-1.43-.59-.52 0-1.04.2-1.43.59L10.3 9.45l-7.72 7.72c-.78.78-.78 2.05 0 2.83L4 21.41c.39.39.9.59 1.41.59.51 0 1.02-.2 1.41-.59l7.78-7.78 2.81-2.81c.8-.78.8-2.07 0-2.86zM5.41 20L4 18.59l7.72-7.72 1.47 1.35L5.41 20z\"/>\n",
              "  </svg>\n",
              "      </button>\n",
              "      \n",
              "  <style>\n",
              "    .colab-df-container {\n",
              "      display:flex;\n",
              "      flex-wrap:wrap;\n",
              "      gap: 12px;\n",
              "    }\n",
              "\n",
              "    .colab-df-convert {\n",
              "      background-color: #E8F0FE;\n",
              "      border: none;\n",
              "      border-radius: 50%;\n",
              "      cursor: pointer;\n",
              "      display: none;\n",
              "      fill: #1967D2;\n",
              "      height: 32px;\n",
              "      padding: 0 0 0 0;\n",
              "      width: 32px;\n",
              "    }\n",
              "\n",
              "    .colab-df-convert:hover {\n",
              "      background-color: #E2EBFA;\n",
              "      box-shadow: 0px 1px 2px rgba(60, 64, 67, 0.3), 0px 1px 3px 1px rgba(60, 64, 67, 0.15);\n",
              "      fill: #174EA6;\n",
              "    }\n",
              "\n",
              "    [theme=dark] .colab-df-convert {\n",
              "      background-color: #3B4455;\n",
              "      fill: #D2E3FC;\n",
              "    }\n",
              "\n",
              "    [theme=dark] .colab-df-convert:hover {\n",
              "      background-color: #434B5C;\n",
              "      box-shadow: 0px 1px 3px 1px rgba(0, 0, 0, 0.15);\n",
              "      filter: drop-shadow(0px 1px 2px rgba(0, 0, 0, 0.3));\n",
              "      fill: #FFFFFF;\n",
              "    }\n",
              "  </style>\n",
              "\n",
              "      <script>\n",
              "        const buttonEl =\n",
              "          document.querySelector('#df-1061c40d-4385-45b7-a69a-cec5b1d046fd button.colab-df-convert');\n",
              "        buttonEl.style.display =\n",
              "          google.colab.kernel.accessAllowed ? 'block' : 'none';\n",
              "\n",
              "        async function convertToInteractive(key) {\n",
              "          const element = document.querySelector('#df-1061c40d-4385-45b7-a69a-cec5b1d046fd');\n",
              "          const dataTable =\n",
              "            await google.colab.kernel.invokeFunction('convertToInteractive',\n",
              "                                                     [key], {});\n",
              "          if (!dataTable) return;\n",
              "\n",
              "          const docLinkHtml = 'Like what you see? Visit the ' +\n",
              "            '<a target=\"_blank\" href=https://colab.research.google.com/notebooks/data_table.ipynb>data table notebook</a>'\n",
              "            + ' to learn more about interactive tables.';\n",
              "          element.innerHTML = '';\n",
              "          dataTable['output_type'] = 'display_data';\n",
              "          await google.colab.output.renderOutput(dataTable, element);\n",
              "          const docLink = document.createElement('div');\n",
              "          docLink.innerHTML = docLinkHtml;\n",
              "          element.appendChild(docLink);\n",
              "        }\n",
              "      </script>\n",
              "    </div>\n",
              "  </div>\n",
              "  "
            ]
          },
          "metadata": {},
          "execution_count": 18
        }
      ]
    },
    {
      "cell_type": "code",
      "source": [
        "np.unique(pileup['base_count'])"
      ],
      "metadata": {
        "colab": {
          "base_uri": "https://localhost:8080/"
        },
        "id": "l4OrZrBDtsaH",
        "outputId": "a02fa1ed-78c3-44a9-a70d-215aab1cde68"
      },
      "execution_count": 19,
      "outputs": [
        {
          "output_type": "execute_result",
          "data": {
            "text/plain": [
              "array([  0,  21,  22,  23,  24,  29,  31,  32,  34,  36,  70,  79,  81,\n",
              "       109, 117, 124, 126, 127, 129, 130, 131, 133, 135, 136])"
            ]
          },
          "metadata": {},
          "execution_count": 19
        }
      ]
    },
    {
      "cell_type": "markdown",
      "source": [
        "**Shannon entropy:**\n",
        "\n",
        "H = −∑ p(i)*log2p(i)\n",
        "\n",
        "정보량의 불확실성 확률 정도\n",
        "즉, 확률값이므로 엔트로피가 높을수록 좋은 것인가?\n",
        "\n",
        "shannon = -np.sum(non_zero_frequencies * np.log(non_zero_frequencies))"
      ],
      "metadata": {
        "id": "DZQFlQfcuDMP"
      }
    },
    {
      "cell_type": "markdown",
      "source": [
        "ChatGPT : \n",
        "\n",
        "  Shannon entropy가 높다는 것은 정보량의 불확실성, 즉 염기 서열의 다양성이 높다는 것을 의미합니다. 따라서 염기 서열의 Shannon entropy가 높을수록, 해당 위치에서 다양한 염기가 나타나고 있으며, base count도 높을 가능성이 있습니다. **하지만, base count가 높다고 해서 항상 Shannon entropy가 높은 것은 아닙니다.** 예를 들어, 모든 염기가 균일하게 분포되어 있다면, Shannon entropy는 높지만 base count는 비교적 낮을 수 있습니다. 따라서 Shannon entropy와 base count는 서로 다른 개념이며, Shannon entropy가 높다고 해서 정보량이 많다고 단순히 해석할 수는 없습니다."
      ],
      "metadata": {
        "id": "7EnMmlp-wihM"
      }
    },
    {
      "cell_type": "code",
      "source": [
        "total = np.sum(pileup['base_count'])\n",
        "prob = pileup['base_count']/total\n",
        "nonzero = prob[prob!=0]\n",
        "\n",
        "shannon = -np.sum(nonzero * np.log2(nonzero))\n",
        "\n",
        "(total,prob,nonzero,shannon)"
      ],
      "metadata": {
        "colab": {
          "base_uri": "https://localhost:8080/"
        },
        "id": "AIQ8wG2qvFz5",
        "outputId": "0c59f9a0-439e-497a-dcbc-c30fc8ab82fb"
      },
      "execution_count": 20,
      "outputs": [
        {
          "output_type": "execute_result",
          "data": {
            "text/plain": [
              "(5332,\n",
              " 0     0.000000\n",
              " 1     0.000000\n",
              " 2     0.000000\n",
              " 3     0.000000\n",
              " 4     0.000000\n",
              "         ...   \n",
              " 83    0.014816\n",
              " 84    0.004126\n",
              " 85    0.004126\n",
              " 86    0.004126\n",
              " 87    0.003938\n",
              " Name: base_count, Length: 88, dtype: float64,\n",
              " 6     0.005439\n",
              " 7     0.004314\n",
              " 8     0.004314\n",
              " 9     0.004314\n",
              " 10    0.004314\n",
              "         ...   \n",
              " 83    0.014816\n",
              " 84    0.004126\n",
              " 85    0.004126\n",
              " 86    0.004126\n",
              " 87    0.003938\n",
              " Name: base_count, Length: 82, dtype: float64,\n",
              " 5.962553548475989)"
            ]
          },
          "metadata": {},
          "execution_count": 20
        }
      ]
    },
    {
      "cell_type": "code",
      "source": [
        "pileup['nonzero'] = prob[prob!=0]\n",
        "pileup['nonzero'].fillna(0, inplace=True)\n",
        "pileup.head()"
      ],
      "metadata": {
        "colab": {
          "base_uri": "https://localhost:8080/",
          "height": 206
        },
        "id": "cH1YaCvNyPrC",
        "outputId": "e96d2578-1b58-42bb-f9c5-52ee3e4998d8"
      },
      "execution_count": 21,
      "outputs": [
        {
          "output_type": "execute_result",
          "data": {
            "text/plain": [
              "  chrom        pos _ref  count  basereads      quals matches  base_count  \\\n",
              "0  chr9  106056039    N      9  <<<<<<<<<  BHEIG?DII                   0   \n",
              "1  chr9  106056040    N      9  <<<<<<<<<  BHEIG?DII                   0   \n",
              "2  chr9  106056041    N      9  <<<<<<<<<  BHEIG?DII                   0   \n",
              "3  chr9  106056042    N      9  <<<<<<<<<  BHEIG?DII                   0   \n",
              "4  chr9  106056043    N      9  <<<<<<<<<  BHEIG?DII                   0   \n",
              "\n",
              "   nonzero  \n",
              "0      0.0  \n",
              "1      0.0  \n",
              "2      0.0  \n",
              "3      0.0  \n",
              "4      0.0  "
            ],
            "text/html": [
              "\n",
              "  <div id=\"df-7744a55b-fdeb-4cfe-a076-8fc7dfe6f201\">\n",
              "    <div class=\"colab-df-container\">\n",
              "      <div>\n",
              "<style scoped>\n",
              "    .dataframe tbody tr th:only-of-type {\n",
              "        vertical-align: middle;\n",
              "    }\n",
              "\n",
              "    .dataframe tbody tr th {\n",
              "        vertical-align: top;\n",
              "    }\n",
              "\n",
              "    .dataframe thead th {\n",
              "        text-align: right;\n",
              "    }\n",
              "</style>\n",
              "<table border=\"1\" class=\"dataframe\">\n",
              "  <thead>\n",
              "    <tr style=\"text-align: right;\">\n",
              "      <th></th>\n",
              "      <th>chrom</th>\n",
              "      <th>pos</th>\n",
              "      <th>_ref</th>\n",
              "      <th>count</th>\n",
              "      <th>basereads</th>\n",
              "      <th>quals</th>\n",
              "      <th>matches</th>\n",
              "      <th>base_count</th>\n",
              "      <th>nonzero</th>\n",
              "    </tr>\n",
              "  </thead>\n",
              "  <tbody>\n",
              "    <tr>\n",
              "      <th>0</th>\n",
              "      <td>chr9</td>\n",
              "      <td>106056039</td>\n",
              "      <td>N</td>\n",
              "      <td>9</td>\n",
              "      <td>&lt;&lt;&lt;&lt;&lt;&lt;&lt;&lt;&lt;</td>\n",
              "      <td>BHEIG?DII</td>\n",
              "      <td></td>\n",
              "      <td>0</td>\n",
              "      <td>0.0</td>\n",
              "    </tr>\n",
              "    <tr>\n",
              "      <th>1</th>\n",
              "      <td>chr9</td>\n",
              "      <td>106056040</td>\n",
              "      <td>N</td>\n",
              "      <td>9</td>\n",
              "      <td>&lt;&lt;&lt;&lt;&lt;&lt;&lt;&lt;&lt;</td>\n",
              "      <td>BHEIG?DII</td>\n",
              "      <td></td>\n",
              "      <td>0</td>\n",
              "      <td>0.0</td>\n",
              "    </tr>\n",
              "    <tr>\n",
              "      <th>2</th>\n",
              "      <td>chr9</td>\n",
              "      <td>106056041</td>\n",
              "      <td>N</td>\n",
              "      <td>9</td>\n",
              "      <td>&lt;&lt;&lt;&lt;&lt;&lt;&lt;&lt;&lt;</td>\n",
              "      <td>BHEIG?DII</td>\n",
              "      <td></td>\n",
              "      <td>0</td>\n",
              "      <td>0.0</td>\n",
              "    </tr>\n",
              "    <tr>\n",
              "      <th>3</th>\n",
              "      <td>chr9</td>\n",
              "      <td>106056042</td>\n",
              "      <td>N</td>\n",
              "      <td>9</td>\n",
              "      <td>&lt;&lt;&lt;&lt;&lt;&lt;&lt;&lt;&lt;</td>\n",
              "      <td>BHEIG?DII</td>\n",
              "      <td></td>\n",
              "      <td>0</td>\n",
              "      <td>0.0</td>\n",
              "    </tr>\n",
              "    <tr>\n",
              "      <th>4</th>\n",
              "      <td>chr9</td>\n",
              "      <td>106056043</td>\n",
              "      <td>N</td>\n",
              "      <td>9</td>\n",
              "      <td>&lt;&lt;&lt;&lt;&lt;&lt;&lt;&lt;&lt;</td>\n",
              "      <td>BHEIG?DII</td>\n",
              "      <td></td>\n",
              "      <td>0</td>\n",
              "      <td>0.0</td>\n",
              "    </tr>\n",
              "  </tbody>\n",
              "</table>\n",
              "</div>\n",
              "      <button class=\"colab-df-convert\" onclick=\"convertToInteractive('df-7744a55b-fdeb-4cfe-a076-8fc7dfe6f201')\"\n",
              "              title=\"Convert this dataframe to an interactive table.\"\n",
              "              style=\"display:none;\">\n",
              "        \n",
              "  <svg xmlns=\"http://www.w3.org/2000/svg\" height=\"24px\"viewBox=\"0 0 24 24\"\n",
              "       width=\"24px\">\n",
              "    <path d=\"M0 0h24v24H0V0z\" fill=\"none\"/>\n",
              "    <path d=\"M18.56 5.44l.94 2.06.94-2.06 2.06-.94-2.06-.94-.94-2.06-.94 2.06-2.06.94zm-11 1L8.5 8.5l.94-2.06 2.06-.94-2.06-.94L8.5 2.5l-.94 2.06-2.06.94zm10 10l.94 2.06.94-2.06 2.06-.94-2.06-.94-.94-2.06-.94 2.06-2.06.94z\"/><path d=\"M17.41 7.96l-1.37-1.37c-.4-.4-.92-.59-1.43-.59-.52 0-1.04.2-1.43.59L10.3 9.45l-7.72 7.72c-.78.78-.78 2.05 0 2.83L4 21.41c.39.39.9.59 1.41.59.51 0 1.02-.2 1.41-.59l7.78-7.78 2.81-2.81c.8-.78.8-2.07 0-2.86zM5.41 20L4 18.59l7.72-7.72 1.47 1.35L5.41 20z\"/>\n",
              "  </svg>\n",
              "      </button>\n",
              "      \n",
              "  <style>\n",
              "    .colab-df-container {\n",
              "      display:flex;\n",
              "      flex-wrap:wrap;\n",
              "      gap: 12px;\n",
              "    }\n",
              "\n",
              "    .colab-df-convert {\n",
              "      background-color: #E8F0FE;\n",
              "      border: none;\n",
              "      border-radius: 50%;\n",
              "      cursor: pointer;\n",
              "      display: none;\n",
              "      fill: #1967D2;\n",
              "      height: 32px;\n",
              "      padding: 0 0 0 0;\n",
              "      width: 32px;\n",
              "    }\n",
              "\n",
              "    .colab-df-convert:hover {\n",
              "      background-color: #E2EBFA;\n",
              "      box-shadow: 0px 1px 2px rgba(60, 64, 67, 0.3), 0px 1px 3px 1px rgba(60, 64, 67, 0.15);\n",
              "      fill: #174EA6;\n",
              "    }\n",
              "\n",
              "    [theme=dark] .colab-df-convert {\n",
              "      background-color: #3B4455;\n",
              "      fill: #D2E3FC;\n",
              "    }\n",
              "\n",
              "    [theme=dark] .colab-df-convert:hover {\n",
              "      background-color: #434B5C;\n",
              "      box-shadow: 0px 1px 3px 1px rgba(0, 0, 0, 0.15);\n",
              "      filter: drop-shadow(0px 1px 2px rgba(0, 0, 0, 0.3));\n",
              "      fill: #FFFFFF;\n",
              "    }\n",
              "  </style>\n",
              "\n",
              "      <script>\n",
              "        const buttonEl =\n",
              "          document.querySelector('#df-7744a55b-fdeb-4cfe-a076-8fc7dfe6f201 button.colab-df-convert');\n",
              "        buttonEl.style.display =\n",
              "          google.colab.kernel.accessAllowed ? 'block' : 'none';\n",
              "\n",
              "        async function convertToInteractive(key) {\n",
              "          const element = document.querySelector('#df-7744a55b-fdeb-4cfe-a076-8fc7dfe6f201');\n",
              "          const dataTable =\n",
              "            await google.colab.kernel.invokeFunction('convertToInteractive',\n",
              "                                                     [key], {});\n",
              "          if (!dataTable) return;\n",
              "\n",
              "          const docLinkHtml = 'Like what you see? Visit the ' +\n",
              "            '<a target=\"_blank\" href=https://colab.research.google.com/notebooks/data_table.ipynb>data table notebook</a>'\n",
              "            + ' to learn more about interactive tables.';\n",
              "          element.innerHTML = '';\n",
              "          dataTable['output_type'] = 'display_data';\n",
              "          await google.colab.output.renderOutput(dataTable, element);\n",
              "          const docLink = document.createElement('div');\n",
              "          docLink.innerHTML = docLinkHtml;\n",
              "          element.appendChild(docLink);\n",
              "        }\n",
              "      </script>\n",
              "    </div>\n",
              "  </div>\n",
              "  "
            ]
          },
          "metadata": {},
          "execution_count": 21
        }
      ]
    },
    {
      "cell_type": "code",
      "source": [
        "np.unique(pileup['nonzero'])"
      ],
      "metadata": {
        "colab": {
          "base_uri": "https://localhost:8080/"
        },
        "id": "Xv2bjbS6ylvG",
        "outputId": "843737ff-3885-4b4c-8dfe-ee65ba9fc53c"
      },
      "execution_count": 22,
      "outputs": [
        {
          "output_type": "execute_result",
          "data": {
            "text/plain": [
              "array([0.        , 0.00393848, 0.00412603, 0.00431358, 0.00450113,\n",
              "       0.00543886, 0.00581395, 0.0060015 , 0.00637659, 0.00675169,\n",
              "       0.01312828, 0.0148162 , 0.0151913 , 0.02044261, 0.02194299,\n",
              "       0.02325581, 0.02363091, 0.02381845, 0.02419355, 0.0243811 ,\n",
              "       0.02456864, 0.02494374, 0.02531883, 0.02550638])"
            ]
          },
          "metadata": {},
          "execution_count": 22
        }
      ]
    },
    {
      "cell_type": "code",
      "source": [
        "-np.sum(nonzero * np.log2(nonzero))"
      ],
      "metadata": {
        "id": "ij3aAouv2U7d"
      },
      "execution_count": null,
      "outputs": []
    },
    {
      "cell_type": "code",
      "source": [
        "pileup['shannon'] = pileup['base_count']*np.log2(pileup['base_count'])\n",
        "pileup['shannon'].fillna(0, inplace=True)\n",
        "pileup.head()"
      ],
      "metadata": {
        "colab": {
          "base_uri": "https://localhost:8080/",
          "height": 307
        },
        "id": "cIq_cR2b0EXU",
        "outputId": "3eacc40a-97c9-4553-9f5e-d5610d661464"
      },
      "execution_count": 25,
      "outputs": [
        {
          "output_type": "stream",
          "name": "stderr",
          "text": [
            "/usr/local/lib/python3.10/dist-packages/pandas/core/arraylike.py:402: RuntimeWarning: divide by zero encountered in log2\n",
            "  result = getattr(ufunc, method)(*inputs, **kwargs)\n"
          ]
        },
        {
          "output_type": "execute_result",
          "data": {
            "text/plain": [
              "  chrom        pos _ref  count  basereads      quals matches  base_count  \\\n",
              "0  chr9  106056039    N      9  <<<<<<<<<  BHEIG?DII                   0   \n",
              "1  chr9  106056040    N      9  <<<<<<<<<  BHEIG?DII                   0   \n",
              "2  chr9  106056041    N      9  <<<<<<<<<  BHEIG?DII                   0   \n",
              "3  chr9  106056042    N      9  <<<<<<<<<  BHEIG?DII                   0   \n",
              "4  chr9  106056043    N      9  <<<<<<<<<  BHEIG?DII                   0   \n",
              "\n",
              "   nonzero  shannon  \n",
              "0      0.0      0.0  \n",
              "1      0.0      0.0  \n",
              "2      0.0      0.0  \n",
              "3      0.0      0.0  \n",
              "4      0.0      0.0  "
            ],
            "text/html": [
              "\n",
              "  <div id=\"df-62f43da9-6c60-48d3-86aa-ee4911d5af81\">\n",
              "    <div class=\"colab-df-container\">\n",
              "      <div>\n",
              "<style scoped>\n",
              "    .dataframe tbody tr th:only-of-type {\n",
              "        vertical-align: middle;\n",
              "    }\n",
              "\n",
              "    .dataframe tbody tr th {\n",
              "        vertical-align: top;\n",
              "    }\n",
              "\n",
              "    .dataframe thead th {\n",
              "        text-align: right;\n",
              "    }\n",
              "</style>\n",
              "<table border=\"1\" class=\"dataframe\">\n",
              "  <thead>\n",
              "    <tr style=\"text-align: right;\">\n",
              "      <th></th>\n",
              "      <th>chrom</th>\n",
              "      <th>pos</th>\n",
              "      <th>_ref</th>\n",
              "      <th>count</th>\n",
              "      <th>basereads</th>\n",
              "      <th>quals</th>\n",
              "      <th>matches</th>\n",
              "      <th>base_count</th>\n",
              "      <th>nonzero</th>\n",
              "      <th>shannon</th>\n",
              "    </tr>\n",
              "  </thead>\n",
              "  <tbody>\n",
              "    <tr>\n",
              "      <th>0</th>\n",
              "      <td>chr9</td>\n",
              "      <td>106056039</td>\n",
              "      <td>N</td>\n",
              "      <td>9</td>\n",
              "      <td>&lt;&lt;&lt;&lt;&lt;&lt;&lt;&lt;&lt;</td>\n",
              "      <td>BHEIG?DII</td>\n",
              "      <td></td>\n",
              "      <td>0</td>\n",
              "      <td>0.0</td>\n",
              "      <td>0.0</td>\n",
              "    </tr>\n",
              "    <tr>\n",
              "      <th>1</th>\n",
              "      <td>chr9</td>\n",
              "      <td>106056040</td>\n",
              "      <td>N</td>\n",
              "      <td>9</td>\n",
              "      <td>&lt;&lt;&lt;&lt;&lt;&lt;&lt;&lt;&lt;</td>\n",
              "      <td>BHEIG?DII</td>\n",
              "      <td></td>\n",
              "      <td>0</td>\n",
              "      <td>0.0</td>\n",
              "      <td>0.0</td>\n",
              "    </tr>\n",
              "    <tr>\n",
              "      <th>2</th>\n",
              "      <td>chr9</td>\n",
              "      <td>106056041</td>\n",
              "      <td>N</td>\n",
              "      <td>9</td>\n",
              "      <td>&lt;&lt;&lt;&lt;&lt;&lt;&lt;&lt;&lt;</td>\n",
              "      <td>BHEIG?DII</td>\n",
              "      <td></td>\n",
              "      <td>0</td>\n",
              "      <td>0.0</td>\n",
              "      <td>0.0</td>\n",
              "    </tr>\n",
              "    <tr>\n",
              "      <th>3</th>\n",
              "      <td>chr9</td>\n",
              "      <td>106056042</td>\n",
              "      <td>N</td>\n",
              "      <td>9</td>\n",
              "      <td>&lt;&lt;&lt;&lt;&lt;&lt;&lt;&lt;&lt;</td>\n",
              "      <td>BHEIG?DII</td>\n",
              "      <td></td>\n",
              "      <td>0</td>\n",
              "      <td>0.0</td>\n",
              "      <td>0.0</td>\n",
              "    </tr>\n",
              "    <tr>\n",
              "      <th>4</th>\n",
              "      <td>chr9</td>\n",
              "      <td>106056043</td>\n",
              "      <td>N</td>\n",
              "      <td>9</td>\n",
              "      <td>&lt;&lt;&lt;&lt;&lt;&lt;&lt;&lt;&lt;</td>\n",
              "      <td>BHEIG?DII</td>\n",
              "      <td></td>\n",
              "      <td>0</td>\n",
              "      <td>0.0</td>\n",
              "      <td>0.0</td>\n",
              "    </tr>\n",
              "  </tbody>\n",
              "</table>\n",
              "</div>\n",
              "      <button class=\"colab-df-convert\" onclick=\"convertToInteractive('df-62f43da9-6c60-48d3-86aa-ee4911d5af81')\"\n",
              "              title=\"Convert this dataframe to an interactive table.\"\n",
              "              style=\"display:none;\">\n",
              "        \n",
              "  <svg xmlns=\"http://www.w3.org/2000/svg\" height=\"24px\"viewBox=\"0 0 24 24\"\n",
              "       width=\"24px\">\n",
              "    <path d=\"M0 0h24v24H0V0z\" fill=\"none\"/>\n",
              "    <path d=\"M18.56 5.44l.94 2.06.94-2.06 2.06-.94-2.06-.94-.94-2.06-.94 2.06-2.06.94zm-11 1L8.5 8.5l.94-2.06 2.06-.94-2.06-.94L8.5 2.5l-.94 2.06-2.06.94zm10 10l.94 2.06.94-2.06 2.06-.94-2.06-.94-.94-2.06-.94 2.06-2.06.94z\"/><path d=\"M17.41 7.96l-1.37-1.37c-.4-.4-.92-.59-1.43-.59-.52 0-1.04.2-1.43.59L10.3 9.45l-7.72 7.72c-.78.78-.78 2.05 0 2.83L4 21.41c.39.39.9.59 1.41.59.51 0 1.02-.2 1.41-.59l7.78-7.78 2.81-2.81c.8-.78.8-2.07 0-2.86zM5.41 20L4 18.59l7.72-7.72 1.47 1.35L5.41 20z\"/>\n",
              "  </svg>\n",
              "      </button>\n",
              "      \n",
              "  <style>\n",
              "    .colab-df-container {\n",
              "      display:flex;\n",
              "      flex-wrap:wrap;\n",
              "      gap: 12px;\n",
              "    }\n",
              "\n",
              "    .colab-df-convert {\n",
              "      background-color: #E8F0FE;\n",
              "      border: none;\n",
              "      border-radius: 50%;\n",
              "      cursor: pointer;\n",
              "      display: none;\n",
              "      fill: #1967D2;\n",
              "      height: 32px;\n",
              "      padding: 0 0 0 0;\n",
              "      width: 32px;\n",
              "    }\n",
              "\n",
              "    .colab-df-convert:hover {\n",
              "      background-color: #E2EBFA;\n",
              "      box-shadow: 0px 1px 2px rgba(60, 64, 67, 0.3), 0px 1px 3px 1px rgba(60, 64, 67, 0.15);\n",
              "      fill: #174EA6;\n",
              "    }\n",
              "\n",
              "    [theme=dark] .colab-df-convert {\n",
              "      background-color: #3B4455;\n",
              "      fill: #D2E3FC;\n",
              "    }\n",
              "\n",
              "    [theme=dark] .colab-df-convert:hover {\n",
              "      background-color: #434B5C;\n",
              "      box-shadow: 0px 1px 3px 1px rgba(0, 0, 0, 0.15);\n",
              "      filter: drop-shadow(0px 1px 2px rgba(0, 0, 0, 0.3));\n",
              "      fill: #FFFFFF;\n",
              "    }\n",
              "  </style>\n",
              "\n",
              "      <script>\n",
              "        const buttonEl =\n",
              "          document.querySelector('#df-62f43da9-6c60-48d3-86aa-ee4911d5af81 button.colab-df-convert');\n",
              "        buttonEl.style.display =\n",
              "          google.colab.kernel.accessAllowed ? 'block' : 'none';\n",
              "\n",
              "        async function convertToInteractive(key) {\n",
              "          const element = document.querySelector('#df-62f43da9-6c60-48d3-86aa-ee4911d5af81');\n",
              "          const dataTable =\n",
              "            await google.colab.kernel.invokeFunction('convertToInteractive',\n",
              "                                                     [key], {});\n",
              "          if (!dataTable) return;\n",
              "\n",
              "          const docLinkHtml = 'Like what you see? Visit the ' +\n",
              "            '<a target=\"_blank\" href=https://colab.research.google.com/notebooks/data_table.ipynb>data table notebook</a>'\n",
              "            + ' to learn more about interactive tables.';\n",
              "          element.innerHTML = '';\n",
              "          dataTable['output_type'] = 'display_data';\n",
              "          await google.colab.output.renderOutput(dataTable, element);\n",
              "          const docLink = document.createElement('div');\n",
              "          docLink.innerHTML = docLinkHtml;\n",
              "          element.appendChild(docLink);\n",
              "        }\n",
              "      </script>\n",
              "    </div>\n",
              "  </div>\n",
              "  "
            ]
          },
          "metadata": {},
          "execution_count": 25
        }
      ]
    },
    {
      "cell_type": "code",
      "source": [
        "np.unique(pileup['shannon'])"
      ],
      "metadata": {
        "colab": {
          "base_uri": "https://localhost:8080/"
        },
        "id": "ctq18__w2a4o",
        "outputId": "b3b27ff5-edfc-49dd-a017-17c99cdc24ba"
      },
      "execution_count": 26,
      "outputs": [
        {
          "output_type": "execute_result",
          "data": {
            "text/plain": [
              "array([  0.        ,  92.23866588,  98.10749561, 104.04192499,\n",
              "       110.03910002, 140.88144886, 153.58008562, 160.        ,\n",
              "       172.9737366 , 186.11730005, 429.04981119, 497.99867911,\n",
              "       513.52785023, 737.7320914 , 803.83267219, 862.32034249,\n",
              "       879.13727036, 887.56295522, 904.44831595, 912.90781569,\n",
              "       921.3784132 , 938.35256392, 955.3701056 , 963.89494641])"
            ]
          },
          "metadata": {},
          "execution_count": 26
        }
      ]
    },
    {
      "cell_type": "code",
      "source": [
        "import matplotlib.pyplot as plt\n",
        "\n",
        "plt.plot(pileup['pos'], pileup['shannon'])\n",
        "plt.xlabel('Position')\n",
        "plt.ylabel('Shannon Entropy')\n",
        "plt.title('Shannon Entropy by Position in Pileup Data')\n",
        "plt.show()"
      ],
      "metadata": {
        "colab": {
          "base_uri": "https://localhost:8080/",
          "height": 472
        },
        "id": "y5PzFsau21ZH",
        "outputId": "3bd01c34-c8ad-412e-e50b-a465a0ba761f"
      },
      "execution_count": 27,
      "outputs": [
        {
          "output_type": "display_data",
          "data": {
            "text/plain": [
              "<Figure size 640x480 with 1 Axes>"
            ],
            "image/png": "[encoded data removed]"
          },
          "metadata": {}
        }
      ]
    },
    {
      "cell_type": "code",
      "source": [
        "import matplotlib.pyplot as plt\n",
        "\n",
        "pileup = pileup.sort_values('pos')\n",
        "\n",
        "fig, ax = plt.subplots(figsize=(10, 5))\n",
        "ax.plot(pileup['pos'], pileup['shannon'], color='black')\n",
        "ax.set_xlabel('Genomic Positions')\n",
        "ax.set_ylabel('Shannon Entropy')\n",
        "ax.set_title('Shannon Entropy Plot')\n",
        "ax.grid(True, which='both', linestyle='--', alpha=0.5)\n",
        "ax.spines['top'].set_visible(False)\n",
        "ax.spines['right'].set_visible(False)\n",
        "\n",
        "plt.show()\n",
        "\n"
      ],
      "metadata": {
        "colab": {
          "base_uri": "https://localhost:8080/",
          "height": 443
        },
        "id": "ypUHsSVWKmaJ",
        "outputId": "cb72f77e-4703-4162-e3da-0b1b213f848c"
      },
      "execution_count": 33,
      "outputs": [
        {
          "output_type": "display_data",
          "data": {
            "text/plain": [
              "<Figure size 1000x500 with 1 Axes>"
            ],
            "image/png": "[encoded data removed]"
          },
          "metadata": {}
        }
      ]
    },
    {
      "cell_type": "code",
      "source": [
        "import os\n",
        "os.chdir('/content/drive/MyDrive')\n",
        "\n",
        "with open('Mirlet7g.bedgraph', 'w') as f:\n",
        "    for i, row in pileup.iterrows():\n",
        "        f.write('{}\\t{}\\t{}\\n'.format(row['chrom'], row['pos']-1, row['pos'], row['shannon']))"
      ],
      "metadata": {
        "id": "ExWYfHs9N4Kk"
      },
      "execution_count": 36,
      "outputs": []
    },
    {
      "cell_type": "markdown",
      "source": [
        "이제 결과를 UCSC에서 확인한다."
      ],
      "metadata": {
        "id": "y56YdtILTUgG"
      }
    }
  ]
}