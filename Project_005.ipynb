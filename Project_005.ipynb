{
  "cells": [
    {
      "cell_type": "markdown",
      "metadata": {
        "id": "view-in-github",
        "colab_type": "text"
      },
      "source": [
        "<a href=\"https://colab.research.google.com/github/WoobeenJeong/bioinfo1_jwb/blob/main/Project_005.ipynb\" target=\"_parent\"><img src=\"https://colab.research.google.com/assets/colab-badge.svg\" alt=\"Open In Colab\"/></a>"
      ]
    },
    {
      "cell_type": "markdown",
      "metadata": {
        "id": "bpP3b34tMVlI"
      },
      "source": [
        "**1) Data mounting**"
      ]
    },
    {
      "cell_type": "code",
      "execution_count": null,
      "metadata": {
        "colab": {
          "base_uri": "https://localhost:8080/"
        },
        "id": "ucOASOB2MKSS",
        "outputId": "c6905c66-9f55-44df-f8d6-ca0949406d18"
      },
      "outputs": [
        {
          "output_type": "stream",
          "name": "stdout",
          "text": [
            "Drive already mounted at /content/drive; to attempt to forcibly remount, call drive.mount(\"/content/drive\", force_remount=True).\n"
          ]
        }
      ],
      "source": [
        "from google.colab import drive\n",
        "drive.mount('/content/drive')"
      ]
    },
    {
      "cell_type": "markdown",
      "metadata": {
        "id": "HGeYUN4bNg0Y"
      },
      "source": [
        "**2) Environment setting**"
      ]
    },
    {
      "cell_type": "code",
      "execution_count": null,
      "metadata": {
        "id": "qpAeDN_xNoiI"
      },
      "outputs": [],
      "source": [
        "!git clone https://github.com/hyeshik/colab-biolab.git\n",
        "!cd colab-biolab && bash tools/setup.sh\n",
        "exec(open('colab-biolab/tools/activate_conda.py').read())"
      ]
    },
    {
      "cell_type": "code",
      "execution_count": null,
      "metadata": {
        "id": "_eQeafJils95"
      },
      "outputs": [],
      "source": [
        "!conda install -y bedtools bioawk samtools"
      ]
    },
    {
      "cell_type": "markdown",
      "metadata": {
        "id": "ZtTJ5WTneSTX"
      },
      "source": [
        "**3) Data loading & check**"
      ]
    },
    {
      "cell_type": "code",
      "execution_count": null,
      "metadata": {
        "colab": {
          "base_uri": "https://localhost:8080/"
        },
        "id": "3ovWb7O0eYGf",
        "outputId": "1ff127ed-fa80-41e7-9dfa-99e65158a505"
      },
      "outputs": [
        {
          "output_type": "stream",
          "name": "stdout",
          "text": [
            "/content/drive/MyDrive/binfo1-work\n"
          ]
        }
      ],
      "source": [
        "%cd /content/drive/MyDrive/binfo1-work"
      ]
    },
    {
      "cell_type": "code",
      "execution_count": null,
      "metadata": {
        "id": "bu9blLM8lCjn"
      },
      "outputs": [],
      "source": [
        "!ls -al /content/drive/MyDrive/binfo1-work/"
      ]
    },
    {
      "cell_type": "code",
      "execution_count": null,
      "metadata": {
        "id": "OrbqDw1tkugu"
      },
      "outputs": [],
      "source": [
        "!md5sum /content/drive/MyDrive/binfo1-work/*"
      ]
    },
    {
      "cell_type": "markdown",
      "metadata": {
        "id": "ziU8sAjtlk1T"
      },
      "source": [
        "**4) Background setting**"
      ]
    },
    {
      "cell_type": "code",
      "execution_count": null,
      "metadata": {
        "colab": {
          "base_uri": "https://localhost:8080/"
        },
        "id": "bXc89_vbuqLF",
        "outputId": "8d85c9dd-a37f-4175-ecbc-904209882a38"
      },
      "outputs": [
        {
          "output_type": "stream",
          "name": "stdout",
          "text": [
            "/content/drive/MyDrive/binfo1-work\n"
          ]
        }
      ],
      "source": [
        "%cd /content/drive/MyDrive/binfo1-work\n",
        "import pandas as pd\n",
        "import numpy as np\n",
        "import matplotlib.pyplot as plt\n",
        "import re\n",
        "from collections import Counter"
      ]
    },
    {
      "cell_type": "markdown",
      "metadata": {
        "id": "Acfq33BwuWG8"
      },
      "source": [
        "**5) Target region on CLIP-seq using gencode.gtf**"
      ]
    },
    {
      "cell_type": "markdown",
      "metadata": {
        "id": "ru1osIY-PchC"
      },
      "source": [
        "먼저 GTF파일은 genecode로부터 M32버전이 (2023.02월에) 나왔으며  \n",
        "M32(GRCm39) Refseq 자료 중 chr9에 대해 확인 할 것  \n",
        "NCBI RefSeq에서도 Mus musculus strain C57BL/6J chromosome 9, GRCm39 존재\n",
        "\n",
        "1) C=Shannon’s entrophy를 CRES: Crosslinking-induced reverse transcription error score로 가져감  \n",
        "2) 이때, insertion은 무시 substitution과 deletion고려  \n",
        "3) FDR은 permutation으로 구함   \n",
        "4) Read는 rRNA,tRNA,adapte제외하고 GSNAP의 Refseq에 align  \n",
        "5) 이를 바탕으로, 먼저 CRES(0.8) 상 low depth positio이 130 reads 이하  \n",
        "6) LOESS smoothing (regression) a=0.5사용 medium depth positon 250 read이하  \n",
        "7) FDR(0.001)상 high depth position >250 read 사용  "
      ]
    },
    {
      "cell_type": "code",
      "execution_count": null,
      "metadata": {
        "colab": {
          "base_uri": "https://localhost:8080/"
        },
        "id": "sqRqHaX7PcQj",
        "outputId": "8154f2c8-0741-45d9-f19f-fe696b693422"
      },
      "outputs": [
        {
          "output_type": "stream",
          "name": "stdout",
          "text": [
            "gzip: gencode.vM32.annotation.gtf.gz: No such file or directory\n"
          ]
        }
      ],
      "source": [
        "!gzip -d gencode.vM32.annotation.gtf.gz"
      ]
    },
    {
      "cell_type": "code",
      "execution_count": null,
      "metadata": {
        "id": "45-1kKZdWWqh"
      },
      "outputs": [],
      "source": [
        "!grep 'chr9' gencode.vM32.annotation.gtf > gencode.vM32.chr9.gtf"
      ]
    },
    {
      "cell_type": "code",
      "execution_count": null,
      "metadata": {
        "id": "n89Hr5-LacUm"
      },
      "outputs": [],
      "source": [
        "!head gencode.vM32.chr9.gtf"
      ]
    },
    {
      "cell_type": "code",
      "execution_count": null,
      "metadata": {
        "colab": {
          "base_uri": "https://localhost:8080/"
        },
        "id": "L1KLh3PmbfRt",
        "outputId": "b9a6700a-9322-48cf-a21c-766c90030fd1"
      },
      "outputs": [
        {
          "name": "stdout",
          "output_type": "stream",
          "text": [
            "3038669\n",
            "124252776\n"
          ]
        }
      ],
      "source": [
        "!awk -F'\\t' '{if ($3 == \"gene\") print $4}' gencode.vM32.chr9.gtf | sort -n | head -n 1\n",
        "!awk -F'\\t' '{if ($3 == \"gene\") print $5}' gencode.vM32.chr9.gtf | sort -n | tail -n 1"
      ]
    },
    {
      "cell_type": "code",
      "execution_count": null,
      "metadata": {
        "colab": {
          "base_uri": "https://localhost:8080/"
        },
        "id": "TszRspV4c9oH",
        "outputId": "8293c5ea-3438-450c-d0ff-3261455c1f3b"
      },
      "outputs": [
        {
          "output_type": "stream",
          "name": "stdout",
          "text": [
            "1696165\n"
          ]
        }
      ],
      "source": [
        "!samtools view -b -o CLIP-let7g.bam CLIP-35L33G.bam chr9:3038669-124252776\n",
        "!samtools view CLIP-let7g.bam | wc -l"
      ]
    },
    {
      "cell_type": "code",
      "source": [
        "!samtools index CLIP-let7g.bam"
      ],
      "metadata": {
        "id": "rRu17HcRrfLm"
      },
      "execution_count": null,
      "outputs": []
    },
    {
      "cell_type": "code",
      "source": [
        "!samtools view -F 16 CLIP-let7g.bam | wc -l"
      ],
      "metadata": {
        "colab": {
          "base_uri": "https://localhost:8080/"
        },
        "id": "X8mQ-GpJvFMl",
        "outputId": "08c68570-75a3-4b73-85f8-82166daffcd5"
      },
      "execution_count": null,
      "outputs": [
        {
          "output_type": "stream",
          "name": "stdout",
          "text": [
            "905001\n"
          ]
        }
      ]
    },
    {
      "cell_type": "markdown",
      "source": [
        "(+)stand만 추출, 절반이 사라짐"
      ],
      "metadata": {
        "id": "pY7vRKoklFJl"
      }
    },
    {
      "cell_type": "markdown",
      "source": [],
      "metadata": {
        "id": "NBCVT7RDlFFj"
      }
    },
    {
      "cell_type": "code",
      "source": [
        "!samtools view -b -F 0x10 -o forward-CLIP-let7g.bam CLIP-let7g.bam"
      ],
      "metadata": {
        "id": "uju0TMGbwV8g"
      },
      "execution_count": null,
      "outputs": []
    },
    {
      "cell_type": "code",
      "source": [
        "!samtools view -f 16 forward-CLIP-let7g.bam  | wc -l"
      ],
      "metadata": {
        "colab": {
          "base_uri": "https://localhost:8080/"
        },
        "id": "u1N1nVLqwjar",
        "outputId": "3e74b794-70fa-4589-9dff-23ea51a9b9de"
      },
      "execution_count": null,
      "outputs": [
        {
          "output_type": "stream",
          "name": "stdout",
          "text": [
            "0\n"
          ]
        }
      ]
    },
    {
      "cell_type": "code",
      "source": [
        "!samtools view -F 16 forward-CLIP-let7g.bam  | wc -l"
      ],
      "metadata": {
        "colab": {
          "base_uri": "https://localhost:8080/"
        },
        "id": "JompkscdwtJt",
        "outputId": "8f3f0bbd-3c88-44d3-8aff-793f9376604b"
      },
      "execution_count": null,
      "outputs": [
        {
          "output_type": "stream",
          "name": "stdout",
          "text": [
            "905001\n"
          ]
        }
      ]
    },
    {
      "cell_type": "markdown",
      "source": [
        "QC는 상관없을 것으로 생각되나, secondary와 supplimentary read는 제거해야함 = secondary는 하나의 서열이 다른 곳에도 mapping될 수 있음을 고려, "
      ],
      "metadata": {
        "id": "T4-BSbVwlM8U"
      }
    },
    {
      "cell_type": "code",
      "source": [
        "!samtools flagstat forward-CLIP-let7g.bam | head"
      ],
      "metadata": {
        "colab": {
          "base_uri": "https://localhost:8080/"
        },
        "id": "kGNzgChB8u_W",
        "outputId": "a2465bd2-adb7-47d8-bc6a-dbc19f6bca3d"
      },
      "execution_count": null,
      "outputs": [
        {
          "output_type": "stream",
          "name": "stdout",
          "text": [
            "905001 + 0 in total (QC-passed reads + QC-failed reads)\n",
            "339889 + 0 secondary\n",
            "189 + 0 supplementary\n",
            "0 + 0 duplicates\n",
            "905001 + 0 mapped (100.00% : N/A)\n",
            "0 + 0 paired in sequencing\n",
            "0 + 0 read1\n",
            "0 + 0 read2\n",
            "0 + 0 properly paired (N/A : N/A)\n",
            "0 + 0 with itself and mate mapped\n"
          ]
        }
      ]
    },
    {
      "cell_type": "code",
      "source": [
        "!samtools view -b -F 0x900 -o first-forward-CLIP-let7g.bam forward-CLIP-let7g.bam"
      ],
      "metadata": {
        "id": "XbWNlBy2lywR"
      },
      "execution_count": null,
      "outputs": []
    },
    {
      "cell_type": "code",
      "source": [
        "!samtools view -F 16 first-forward-CLIP-let7g.bam  | wc -l"
      ],
      "metadata": {
        "colab": {
          "base_uri": "https://localhost:8080/"
        },
        "id": "JLQwwtgOmE0C",
        "outputId": "b42be9f4-921d-402a-cb27-cff0b629c7a2"
      },
      "execution_count": null,
      "outputs": [
        {
          "output_type": "stream",
          "name": "stdout",
          "text": [
            "564923\n"
          ]
        }
      ]
    },
    {
      "cell_type": "markdown",
      "source": [
        "estimate가 0.001 이었으니, MAPQ가 30이다."
      ],
      "metadata": {
        "id": "aGNNpGBkvfm2"
      }
    },
    {
      "cell_type": "code",
      "source": [
        "!samtools view -q 30 -b first-forward-CLIP-let7g.bam -o check-CLIP-let7g.bam\n",
        "!wc -l check-CLIP-let7g.bam"
      ],
      "metadata": {
        "colab": {
          "base_uri": "https://localhost:8080/"
        },
        "id": "JL3564nzohTR",
        "outputId": "f79d3d35-0ae2-46f4-a3ae-96766eec7f9a"
      },
      "execution_count": null,
      "outputs": [
        {
          "output_type": "stream",
          "name": "stdout",
          "text": [
            "73508 check-CLIP-let7g.bam\n"
          ]
        }
      ]
    },
    {
      "cell_type": "code",
      "execution_count": null,
      "metadata": {
        "colab": {
          "base_uri": "https://localhost:8080/"
        },
        "id": "me3Nx0ZxdLPm",
        "outputId": "a29f6278-a550-4f0e-be2c-b36fa6a49576"
      },
      "outputs": [
        {
          "output_type": "stream",
          "name": "stdout",
          "text": [
            "18224608 check-CLIP-let7g.pileup\n"
          ]
        }
      ],
      "source": [
        "!samtools mpileup check-CLIP-let7g.bam 2>/dev/null > check-CLIP-let7g.pileup\n",
        "!wc -l check-CLIP-let7g.pileup"
      ]
    },
    {
      "cell_type": "code",
      "execution_count": null,
      "metadata": {
        "colab": {
          "base_uri": "https://localhost:8080/"
        },
        "id": "T5uYzX3EdqG2",
        "outputId": "c97fed98-2b3c-4a16-cf9d-e2c3fd140386"
      },
      "outputs": [
        {
          "output_type": "stream",
          "name": "stdout",
          "text": [
            "chr9\t124220663\tN\t1\tC\t2\n",
            "chr9\t124220664\tN\t1\tT$\t2\n"
          ]
        }
      ],
      "source": [
        "!awk '$2 >= 3038669 && $2 <= 124252714 { print $0; }' check-CLIP-let7g.pileup > check-CLIP-let7g-gene.pileup\n",
        "!tail -n 2 check-CLIP-let7g-gene.pileup"
      ]
    },
    {
      "cell_type": "code",
      "execution_count": null,
      "metadata": {
        "id": "CCeyuqDje2VW",
        "colab": {
          "base_uri": "https://localhost:8080/",
          "height": 206
        },
        "outputId": "23bf3a2e-7496-41b8-81ff-897a3b0bbfe7"
      },
      "outputs": [
        {
          "output_type": "execute_result",
          "data": {
            "text/plain": [
              "         chrom        pos ref  count basereads quals\n",
              "18224603  chr9  124220660   N      1         C     @\n",
              "18224604  chr9  124220661   N      1         C     C\n",
              "18224605  chr9  124220662   N      1         C     C\n",
              "18224606  chr9  124220663   N      1         C     2\n",
              "18224607  chr9  124220664   N      1        T$     2"
            ],
            "text/html": [
              "\n",
              "  <div id=\"df-e5354bcb-347a-4143-a8df-dd222273deea\">\n",
              "    <div class=\"colab-df-container\">\n",
              "      <div>\n",
              "<style scoped>\n",
              "    .dataframe tbody tr th:only-of-type {\n",
              "        vertical-align: middle;\n",
              "    }\n",
              "\n",
              "    .dataframe tbody tr th {\n",
              "        vertical-align: top;\n",
              "    }\n",
              "\n",
              "    .dataframe thead th {\n",
              "        text-align: right;\n",
              "    }\n",
              "</style>\n",
              "<table border=\"1\" class=\"dataframe\">\n",
              "  <thead>\n",
              "    <tr style=\"text-align: right;\">\n",
              "      <th></th>\n",
              "      <th>chrom</th>\n",
              "      <th>pos</th>\n",
              "      <th>ref</th>\n",
              "      <th>count</th>\n",
              "      <th>basereads</th>\n",
              "      <th>quals</th>\n",
              "    </tr>\n",
              "  </thead>\n",
              "  <tbody>\n",
              "    <tr>\n",
              "      <th>18224603</th>\n",
              "      <td>chr9</td>\n",
              "      <td>124220660</td>\n",
              "      <td>N</td>\n",
              "      <td>1</td>\n",
              "      <td>C</td>\n",
              "      <td>@</td>\n",
              "    </tr>\n",
              "    <tr>\n",
              "      <th>18224604</th>\n",
              "      <td>chr9</td>\n",
              "      <td>124220661</td>\n",
              "      <td>N</td>\n",
              "      <td>1</td>\n",
              "      <td>C</td>\n",
              "      <td>C</td>\n",
              "    </tr>\n",
              "    <tr>\n",
              "      <th>18224605</th>\n",
              "      <td>chr9</td>\n",
              "      <td>124220662</td>\n",
              "      <td>N</td>\n",
              "      <td>1</td>\n",
              "      <td>C</td>\n",
              "      <td>C</td>\n",
              "    </tr>\n",
              "    <tr>\n",
              "      <th>18224606</th>\n",
              "      <td>chr9</td>\n",
              "      <td>124220663</td>\n",
              "      <td>N</td>\n",
              "      <td>1</td>\n",
              "      <td>C</td>\n",
              "      <td>2</td>\n",
              "    </tr>\n",
              "    <tr>\n",
              "      <th>18224607</th>\n",
              "      <td>chr9</td>\n",
              "      <td>124220664</td>\n",
              "      <td>N</td>\n",
              "      <td>1</td>\n",
              "      <td>T$</td>\n",
              "      <td>2</td>\n",
              "    </tr>\n",
              "  </tbody>\n",
              "</table>\n",
              "</div>\n",
              "      <button class=\"colab-df-convert\" onclick=\"convertToInteractive('df-e5354bcb-347a-4143-a8df-dd222273deea')\"\n",
              "              title=\"Convert this dataframe to an interactive table.\"\n",
              "              style=\"display:none;\">\n",
              "        \n",
              "  <svg xmlns=\"http://www.w3.org/2000/svg\" height=\"24px\"viewBox=\"0 0 24 24\"\n",
              "       width=\"24px\">\n",
              "    <path d=\"M0 0h24v24H0V0z\" fill=\"none\"/>\n",
              "    <path d=\"M18.56 5.44l.94 2.06.94-2.06 2.06-.94-2.06-.94-.94-2.06-.94 2.06-2.06.94zm-11 1L8.5 8.5l.94-2.06 2.06-.94-2.06-.94L8.5 2.5l-.94 2.06-2.06.94zm10 10l.94 2.06.94-2.06 2.06-.94-2.06-.94-.94-2.06-.94 2.06-2.06.94z\"/><path d=\"M17.41 7.96l-1.37-1.37c-.4-.4-.92-.59-1.43-.59-.52 0-1.04.2-1.43.59L10.3 9.45l-7.72 7.72c-.78.78-.78 2.05 0 2.83L4 21.41c.39.39.9.59 1.41.59.51 0 1.02-.2 1.41-.59l7.78-7.78 2.81-2.81c.8-.78.8-2.07 0-2.86zM5.41 20L4 18.59l7.72-7.72 1.47 1.35L5.41 20z\"/>\n",
              "  </svg>\n",
              "      </button>\n",
              "      \n",
              "  <style>\n",
              "    .colab-df-container {\n",
              "      display:flex;\n",
              "      flex-wrap:wrap;\n",
              "      gap: 12px;\n",
              "    }\n",
              "\n",
              "    .colab-df-convert {\n",
              "      background-color: #E8F0FE;\n",
              "      border: none;\n",
              "      border-radius: 50%;\n",
              "      cursor: pointer;\n",
              "      display: none;\n",
              "      fill: #1967D2;\n",
              "      height: 32px;\n",
              "      padding: 0 0 0 0;\n",
              "      width: 32px;\n",
              "    }\n",
              "\n",
              "    .colab-df-convert:hover {\n",
              "      background-color: #E2EBFA;\n",
              "      box-shadow: 0px 1px 2px rgba(60, 64, 67, 0.3), 0px 1px 3px 1px rgba(60, 64, 67, 0.15);\n",
              "      fill: #174EA6;\n",
              "    }\n",
              "\n",
              "    [theme=dark] .colab-df-convert {\n",
              "      background-color: #3B4455;\n",
              "      fill: #D2E3FC;\n",
              "    }\n",
              "\n",
              "    [theme=dark] .colab-df-convert:hover {\n",
              "      background-color: #434B5C;\n",
              "      box-shadow: 0px 1px 3px 1px rgba(0, 0, 0, 0.15);\n",
              "      filter: drop-shadow(0px 1px 2px rgba(0, 0, 0, 0.3));\n",
              "      fill: #FFFFFF;\n",
              "    }\n",
              "  </style>\n",
              "\n",
              "      <script>\n",
              "        const buttonEl =\n",
              "          document.querySelector('#df-e5354bcb-347a-4143-a8df-dd222273deea button.colab-df-convert');\n",
              "        buttonEl.style.display =\n",
              "          google.colab.kernel.accessAllowed ? 'block' : 'none';\n",
              "\n",
              "        async function convertToInteractive(key) {\n",
              "          const element = document.querySelector('#df-e5354bcb-347a-4143-a8df-dd222273deea');\n",
              "          const dataTable =\n",
              "            await google.colab.kernel.invokeFunction('convertToInteractive',\n",
              "                                                     [key], {});\n",
              "          if (!dataTable) return;\n",
              "\n",
              "          const docLinkHtml = 'Like what you see? Visit the ' +\n",
              "            '<a target=\"_blank\" href=https://colab.research.google.com/notebooks/data_table.ipynb>data table notebook</a>'\n",
              "            + ' to learn more about interactive tables.';\n",
              "          element.innerHTML = '';\n",
              "          dataTable['output_type'] = 'display_data';\n",
              "          await google.colab.output.renderOutput(dataTable, element);\n",
              "          const docLink = document.createElement('div');\n",
              "          docLink.innerHTML = docLinkHtml;\n",
              "          element.appendChild(docLink);\n",
              "        }\n",
              "      </script>\n",
              "    </div>\n",
              "  </div>\n",
              "  "
            ]
          },
          "metadata": {},
          "execution_count": 12
        }
      ],
      "source": [
        "pileup = pd.read_csv('check-CLIP-let7g-gene.pileup', sep='\\t', names=['chrom', 'pos', 'ref', 'count', 'basereads', 'quals'])\n",
        "pileup.tail()"
      ]
    },
    {
      "cell_type": "markdown",
      "source": [
        "count의 개수가 최대 / 최소 얼마이고 볼 만한 수준인지 확인"
      ],
      "metadata": {
        "id": "cXeYxxROqzkb"
      }
    },
    {
      "cell_type": "code",
      "execution_count": null,
      "metadata": {
        "colab": {
          "base_uri": "https://localhost:8080/"
        },
        "id": "ZUVRFUq0kBY-",
        "outputId": "dd5ffd28-99e0-45d9-fb68-29327749071e"
      },
      "outputs": [
        {
          "output_type": "execute_result",
          "data": {
            "text/plain": [
              "1740"
            ]
          },
          "metadata": {},
          "execution_count": 8
        }
      ],
      "source": [
        "len(np.unique(pileup['count']))"
      ]
    },
    {
      "cell_type": "code",
      "execution_count": null,
      "metadata": {
        "colab": {
          "base_uri": "https://localhost:8080/"
        },
        "id": "ZdHz2Glifq6U",
        "outputId": "4e71b95a-3be6-45c9-ce1f-c6814a8cd16a"
      },
      "outputs": [
        {
          "output_type": "execute_result",
          "data": {
            "text/plain": [
              "count    1.822461e+07\n",
              "mean     1.073809e+01\n",
              "std      4.920374e+01\n",
              "min      0.000000e+00\n",
              "25%      2.000000e+00\n",
              "50%      4.000000e+00\n",
              "75%      8.000000e+00\n",
              "max      7.994000e+03\n",
              "Name: count, dtype: float64"
            ]
          },
          "metadata": {},
          "execution_count": 7
        }
      ],
      "source": [
        "pileup['count'].describe()"
      ]
    },
    {
      "cell_type": "markdown",
      "metadata": {
        "id": "Ee07rqNgkvp3"
      },
      "source": [
        "위를 보면 알수 있듯이 한 75%까지는 10개정도만 count되어 있는데, 무려 7993 read가 count되는 경우도 있음.  \n",
        "이경우는 좀 궁금하긴 하다만, 너무 크기 때문에, threshold <=50 reads로 두고 진행   \n",
        "(Shannon에서 depth 50으로 했으므로)"
      ]
    },
    {
      "cell_type": "code",
      "execution_count": null,
      "metadata": {
        "id": "ySd4VMiakPa4"
      },
      "outputs": [],
      "source": [
        "f50pileup = pileup[pileup['count'] > 50]"
      ]
    },
    {
      "cell_type": "code",
      "execution_count": null,
      "metadata": {
        "colab": {
          "base_uri": "https://localhost:8080/"
        },
        "id": "5H2WHsXqkeEh",
        "outputId": "b75509f8-0620-4272-a4f1-e6634eddcf4e"
      },
      "outputs": [
        {
          "output_type": "execute_result",
          "data": {
            "text/plain": [
              "1689"
            ]
          },
          "metadata": {},
          "execution_count": 10
        }
      ],
      "source": [
        "len(np.unique(f50pileup['count']))"
      ]
    },
    {
      "cell_type": "code",
      "execution_count": null,
      "metadata": {
        "colab": {
          "base_uri": "https://localhost:8080/"
        },
        "id": "7d_gZXbIndXq",
        "outputId": "d0f8eff8-c204-4862-ea20-cd580cf6175e"
      },
      "outputs": [
        {
          "output_type": "execute_result",
          "data": {
            "text/plain": [
              "534478"
            ]
          },
          "metadata": {},
          "execution_count": 11
        }
      ],
      "source": [
        "len(np.unique(f50pileup['pos']))"
      ]
    },
    {
      "cell_type": "code",
      "execution_count": null,
      "metadata": {
        "colab": {
          "base_uri": "https://localhost:8080/"
        },
        "id": "oh8Uz-iblXiT",
        "outputId": "124381a7-304e-44e7-b299-cd0506826118"
      },
      "outputs": [
        {
          "output_type": "execute_result",
          "data": {
            "text/plain": [
              "count    534478.000000\n",
              "mean        140.538063\n",
              "std         251.364587\n",
              "min          51.000000\n",
              "25%          58.000000\n",
              "50%          72.000000\n",
              "75%         108.000000\n",
              "max        7994.000000\n",
              "Name: count, dtype: float64"
            ]
          },
          "metadata": {},
          "execution_count": 14
        }
      ],
      "source": [
        "f50pileup['count'].describe()"
      ]
    },
    {
      "cell_type": "code",
      "execution_count": null,
      "metadata": {
        "colab": {
          "base_uri": "https://localhost:8080/"
        },
        "id": "-G-TKmS2m0bj",
        "outputId": "426f119f-af47-460f-8b91-7c63ff251bd0"
      },
      "outputs": [
        {
          "output_type": "execute_result",
          "data": {
            "text/plain": [
              "(123421315, 3359542)"
            ]
          },
          "metadata": {},
          "execution_count": 9
        }
      ],
      "source": [
        "max(f50pileup['pos']),min(f50pileup['pos'])"
      ]
    },
    {
      "cell_type": "markdown",
      "metadata": {
        "id": "dZjYsCGNlWU_"
      },
      "source": [
        "match와 substitution, deletion을 사용할 것이므로, 나머지에 해당하는 tag들은 제거.  \n",
        "**여기서 Deletion은 포함하는 경우를 고려하는 것을 고민할 것**"
      ]
    },
    {
      "cell_type": "code",
      "execution_count": null,
      "metadata": {
        "id": "M9aQMeXsm6MK",
        "colab": {
          "base_uri": "https://localhost:8080/"
        },
        "outputId": "1e6c5f26-b1c2-4786-aa03-10fb6de44103"
      },
      "outputs": [
        {
          "output_type": "stream",
          "name": "stderr",
          "text": [
            "<ipython-input-15-f5adc2352889>:2: SettingWithCopyWarning: \n",
            "A value is trying to be set on a copy of a slice from a DataFrame.\n",
            "Try using .loc[row_indexer,col_indexer] = value instead\n",
            "\n",
            "See the caveats in the documentation: https://pandas.pydata.org/pandas-docs/stable/user_guide/indexing.html#returning-a-view-versus-a-copy\n",
            "  f50pileup.loc[:, 'matches'] = f50pileup['basereads'].apply(lambda x: toremove.sub('', x))\n"
          ]
        }
      ],
      "source": [
        "toremove = re.compile(r'[<>$*#+-]|[0-9]|\\^.')\n",
        "f50pileup.loc[:, 'matches'] = f50pileup['basereads'].apply(lambda x: toremove.sub('', x))"
      ]
    },
    {
      "cell_type": "code",
      "execution_count": null,
      "metadata": {
        "colab": {
          "base_uri": "https://localhost:8080/",
          "height": 206
        },
        "id": "9JMYEv04nuE5",
        "outputId": "4f5e76d9-d68b-4540-e8e2-68dca42b4fbb"
      },
      "outputs": [
        {
          "output_type": "execute_result",
          "data": {
            "text/plain": [
              "      chrom      pos                                            matches\n",
              "21616  chr9  3359542  GGGGGGGGGGGGGGGGGGGGGGGGGGGGGGGGGGGGGGGGGGGGGG...\n",
              "21617  chr9  3359543  GGGGGGGGGGGGGGGGGGGGGGGGGGGGGGGGGGGGGGGGGGGGGG...\n",
              "21618  chr9  3359544  AAAAAAAAAAAAAAAAAAAAAAAAAAAAAAAAAAAAAAAAAAAAAA...\n",
              "21619  chr9  3359545  GGGGGGGGGGGGGGGGGGGGGGGGGGGGGGGGGGGGGGGGGGGGGG...\n",
              "21620  chr9  3359546  TTTTTTTTTTTTTTTTTTTTTTTTTTTTTTTTTTTTTTTTTTTTTT..."
            ],
            "text/html": [
              "\n",
              "  <div id=\"df-7fa74655-8763-4730-ad20-5dc53fed7fd4\">\n",
              "    <div class=\"colab-df-container\">\n",
              "      <div>\n",
              "<style scoped>\n",
              "    .dataframe tbody tr th:only-of-type {\n",
              "        vertical-align: middle;\n",
              "    }\n",
              "\n",
              "    .dataframe tbody tr th {\n",
              "        vertical-align: top;\n",
              "    }\n",
              "\n",
              "    .dataframe thead th {\n",
              "        text-align: right;\n",
              "    }\n",
              "</style>\n",
              "<table border=\"1\" class=\"dataframe\">\n",
              "  <thead>\n",
              "    <tr style=\"text-align: right;\">\n",
              "      <th></th>\n",
              "      <th>chrom</th>\n",
              "      <th>pos</th>\n",
              "      <th>matches</th>\n",
              "    </tr>\n",
              "  </thead>\n",
              "  <tbody>\n",
              "    <tr>\n",
              "      <th>21616</th>\n",
              "      <td>chr9</td>\n",
              "      <td>3359542</td>\n",
              "      <td>GGGGGGGGGGGGGGGGGGGGGGGGGGGGGGGGGGGGGGGGGGGGGG...</td>\n",
              "    </tr>\n",
              "    <tr>\n",
              "      <th>21617</th>\n",
              "      <td>chr9</td>\n",
              "      <td>3359543</td>\n",
              "      <td>GGGGGGGGGGGGGGGGGGGGGGGGGGGGGGGGGGGGGGGGGGGGGG...</td>\n",
              "    </tr>\n",
              "    <tr>\n",
              "      <th>21618</th>\n",
              "      <td>chr9</td>\n",
              "      <td>3359544</td>\n",
              "      <td>AAAAAAAAAAAAAAAAAAAAAAAAAAAAAAAAAAAAAAAAAAAAAA...</td>\n",
              "    </tr>\n",
              "    <tr>\n",
              "      <th>21619</th>\n",
              "      <td>chr9</td>\n",
              "      <td>3359545</td>\n",
              "      <td>GGGGGGGGGGGGGGGGGGGGGGGGGGGGGGGGGGGGGGGGGGGGGG...</td>\n",
              "    </tr>\n",
              "    <tr>\n",
              "      <th>21620</th>\n",
              "      <td>chr9</td>\n",
              "      <td>3359546</td>\n",
              "      <td>TTTTTTTTTTTTTTTTTTTTTTTTTTTTTTTTTTTTTTTTTTTTTT...</td>\n",
              "    </tr>\n",
              "  </tbody>\n",
              "</table>\n",
              "</div>\n",
              "      <button class=\"colab-df-convert\" onclick=\"convertToInteractive('df-7fa74655-8763-4730-ad20-5dc53fed7fd4')\"\n",
              "              title=\"Convert this dataframe to an interactive table.\"\n",
              "              style=\"display:none;\">\n",
              "        \n",
              "  <svg xmlns=\"http://www.w3.org/2000/svg\" height=\"24px\"viewBox=\"0 0 24 24\"\n",
              "       width=\"24px\">\n",
              "    <path d=\"M0 0h24v24H0V0z\" fill=\"none\"/>\n",
              "    <path d=\"M18.56 5.44l.94 2.06.94-2.06 2.06-.94-2.06-.94-.94-2.06-.94 2.06-2.06.94zm-11 1L8.5 8.5l.94-2.06 2.06-.94-2.06-.94L8.5 2.5l-.94 2.06-2.06.94zm10 10l.94 2.06.94-2.06 2.06-.94-2.06-.94-.94-2.06-.94 2.06-2.06.94z\"/><path d=\"M17.41 7.96l-1.37-1.37c-.4-.4-.92-.59-1.43-.59-.52 0-1.04.2-1.43.59L10.3 9.45l-7.72 7.72c-.78.78-.78 2.05 0 2.83L4 21.41c.39.39.9.59 1.41.59.51 0 1.02-.2 1.41-.59l7.78-7.78 2.81-2.81c.8-.78.8-2.07 0-2.86zM5.41 20L4 18.59l7.72-7.72 1.47 1.35L5.41 20z\"/>\n",
              "  </svg>\n",
              "      </button>\n",
              "      \n",
              "  <style>\n",
              "    .colab-df-container {\n",
              "      display:flex;\n",
              "      flex-wrap:wrap;\n",
              "      gap: 12px;\n",
              "    }\n",
              "\n",
              "    .colab-df-convert {\n",
              "      background-color: #E8F0FE;\n",
              "      border: none;\n",
              "      border-radius: 50%;\n",
              "      cursor: pointer;\n",
              "      display: none;\n",
              "      fill: #1967D2;\n",
              "      height: 32px;\n",
              "      padding: 0 0 0 0;\n",
              "      width: 32px;\n",
              "    }\n",
              "\n",
              "    .colab-df-convert:hover {\n",
              "      background-color: #E2EBFA;\n",
              "      box-shadow: 0px 1px 2px rgba(60, 64, 67, 0.3), 0px 1px 3px 1px rgba(60, 64, 67, 0.15);\n",
              "      fill: #174EA6;\n",
              "    }\n",
              "\n",
              "    [theme=dark] .colab-df-convert {\n",
              "      background-color: #3B4455;\n",
              "      fill: #D2E3FC;\n",
              "    }\n",
              "\n",
              "    [theme=dark] .colab-df-convert:hover {\n",
              "      background-color: #434B5C;\n",
              "      box-shadow: 0px 1px 3px 1px rgba(0, 0, 0, 0.15);\n",
              "      filter: drop-shadow(0px 1px 2px rgba(0, 0, 0, 0.3));\n",
              "      fill: #FFFFFF;\n",
              "    }\n",
              "  </style>\n",
              "\n",
              "      <script>\n",
              "        const buttonEl =\n",
              "          document.querySelector('#df-7fa74655-8763-4730-ad20-5dc53fed7fd4 button.colab-df-convert');\n",
              "        buttonEl.style.display =\n",
              "          google.colab.kernel.accessAllowed ? 'block' : 'none';\n",
              "\n",
              "        async function convertToInteractive(key) {\n",
              "          const element = document.querySelector('#df-7fa74655-8763-4730-ad20-5dc53fed7fd4');\n",
              "          const dataTable =\n",
              "            await google.colab.kernel.invokeFunction('convertToInteractive',\n",
              "                                                     [key], {});\n",
              "          if (!dataTable) return;\n",
              "\n",
              "          const docLinkHtml = 'Like what you see? Visit the ' +\n",
              "            '<a target=\"_blank\" href=https://colab.research.google.com/notebooks/data_table.ipynb>data table notebook</a>'\n",
              "            + ' to learn more about interactive tables.';\n",
              "          element.innerHTML = '';\n",
              "          dataTable['output_type'] = 'display_data';\n",
              "          await google.colab.output.renderOutput(dataTable, element);\n",
              "          const docLink = document.createElement('div');\n",
              "          docLink.innerHTML = docLinkHtml;\n",
              "          element.appendChild(docLink);\n",
              "        }\n",
              "      </script>\n",
              "    </div>\n",
              "  </div>\n",
              "  "
            ]
          },
          "metadata": {},
          "execution_count": 16
        }
      ],
      "source": [
        "f50pileup[['chrom', 'pos', 'matches']].head()"
      ]
    },
    {
      "cell_type": "markdown",
      "metadata": {
        "id": "o3s5uS1pqN9O"
      },
      "source": [
        "Deletion상관 없이 Insertion하고 Hard-clipped read만 제외"
      ]
    },
    {
      "cell_type": "code",
      "execution_count": null,
      "metadata": {
        "id": "1y1ZXtEyqHEW"
      },
      "outputs": [],
      "source": [
        "#f50pileup['base_count'] = f50pileup['matches'].apply(lambda x: len([c for c in x if c != 'H' and c != 'I']))\n",
        "#f50pileup.head()"
      ]
    },
    {
      "cell_type": "code",
      "source": [
        "import itertools\n",
        "\n",
        "column = f50pileup['matches']\n",
        "components = column.str.findall('[A-Za-z0-9]') \n",
        "all_components = list(itertools.chain(*components))\n",
        "unique_components = set(all_components)\n",
        "\n",
        "print(unique_components)"
      ],
      "metadata": {
        "colab": {
          "base_uri": "https://localhost:8080/"
        },
        "id": "dY7Co2SA7A7i",
        "outputId": "042f71d4-e623-4594-be3e-d8f8ecbf0493"
      },
      "execution_count": null,
      "outputs": [
        {
          "output_type": "stream",
          "name": "stdout",
          "text": [
            "{'T', 'C', 'A', 'N', 'G'}\n"
          ]
        }
      ]
    },
    {
      "cell_type": "code",
      "source": [
        "f50pileup['base_count'] = f50pileup['matches'].apply(lambda x: len([c for c in x if c.upper() in ('A', 'T', 'G', 'C')]))\n",
        "f50pileup.head()"
      ],
      "metadata": {
        "colab": {
          "base_uri": "https://localhost:8080/",
          "height": 397
        },
        "id": "4WtdheuO0Fwx",
        "outputId": "107f8bfd-6cbe-406c-8c55-5d5723d5ab43"
      },
      "execution_count": null,
      "outputs": [
        {
          "output_type": "stream",
          "name": "stderr",
          "text": [
            "<ipython-input-18-dc38196e0fd8>:1: SettingWithCopyWarning: \n",
            "A value is trying to be set on a copy of a slice from a DataFrame.\n",
            "Try using .loc[row_indexer,col_indexer] = value instead\n",
            "\n",
            "See the caveats in the documentation: https://pandas.pydata.org/pandas-docs/stable/user_guide/indexing.html#returning-a-view-versus-a-copy\n",
            "  f50pileup['base_count'] = f50pileup['matches'].apply(lambda x: len([c for c in x if c.upper() in ('A', 'T', 'G', 'C')]))\n"
          ]
        },
        {
          "output_type": "execute_result",
          "data": {
            "text/plain": [
              "      chrom      pos ref  count  \\\n",
              "21616  chr9  3359542   N     51   \n",
              "21617  chr9  3359543   N     51   \n",
              "21618  chr9  3359544   N     51   \n",
              "21619  chr9  3359545   N     51   \n",
              "21620  chr9  3359546   N     51   \n",
              "\n",
              "                                               basereads  \\\n",
              "21616  GGGGGGGGGGGGGGGGGGGGGGGGGGGGGGGGGGGGGGGGGGGGGG...   \n",
              "21617  GGGGGGGGGGGGGGGGGGGGGGGGGGGGGGGGGGGGGGGGGGGGGG...   \n",
              "21618  AAAAAAAAAAAAAAAAAAAAAAAAAAAAAAAAAAAAAAAAAAAAAA...   \n",
              "21619  GGGGGGGGGGGGGGGGGGGGGGGGGGGGGGGGGGGGGGGGGGGGGG...   \n",
              "21620  TTTTTTTTTTTTTTTTTTTTTTTTTTTTTTTTTTTTTTTTTTTTTT...   \n",
              "\n",
              "                                                   quals  \\\n",
              "21616  HDEIHIIGIIIHHIIGAIIIGIBGIHBFGIHE?GIGIHGGHHIBII...   \n",
              "21617  IGEIHFG@IIIHHHIGFHIIEIBHIH;GGIHH=GIEIHIGHHIGII...   \n",
              "21618  IHBIHIIDHGIGHIIIDIIIDH0HH?DEHFHBBGIGIHIGHHDAII...   \n",
              "21619  IH8IHIIEIGIGHIIFFIIIGI=HIHDGGIHI;GHIIGHGHHI4DI...   \n",
              "21620  IHEIHHIEIGGDHIIDHIIIGI7HIH>GHIHI<GIGIFIGDHFCII...   \n",
              "\n",
              "                                                 matches  base_count  \n",
              "21616  GGGGGGGGGGGGGGGGGGGGGGGGGGGGGGGGGGGGGGGGGGGGGG...          51  \n",
              "21617  GGGGGGGGGGGGGGGGGGGGGGGGGGGGGGGGGGGGGGGGGGGGGG...          51  \n",
              "21618  AAAAAAAAAAAAAAAAAAAAAAAAAAAAAAAAAAAAAAAAAAAAAA...          51  \n",
              "21619  GGGGGGGGGGGGGGGGGGGGGGGGGGGGGGGGGGGGGGGGGGGGGG...          51  \n",
              "21620  TTTTTTTTTTTTTTTTTTTTTTTTTTTTTTTTTTTTTTTTTTTTTT...          51  "
            ],
            "text/html": [
              "\n",
              "  <div id=\"df-09e040ba-f41d-4509-bf79-128908b74913\">\n",
              "    <div class=\"colab-df-container\">\n",
              "      <div>\n",
              "<style scoped>\n",
              "    .dataframe tbody tr th:only-of-type {\n",
              "        vertical-align: middle;\n",
              "    }\n",
              "\n",
              "    .dataframe tbody tr th {\n",
              "        vertical-align: top;\n",
              "    }\n",
              "\n",
              "    .dataframe thead th {\n",
              "        text-align: right;\n",
              "    }\n",
              "</style>\n",
              "<table border=\"1\" class=\"dataframe\">\n",
              "  <thead>\n",
              "    <tr style=\"text-align: right;\">\n",
              "      <th></th>\n",
              "      <th>chrom</th>\n",
              "      <th>pos</th>\n",
              "      <th>ref</th>\n",
              "      <th>count</th>\n",
              "      <th>basereads</th>\n",
              "      <th>quals</th>\n",
              "      <th>matches</th>\n",
              "      <th>base_count</th>\n",
              "    </tr>\n",
              "  </thead>\n",
              "  <tbody>\n",
              "    <tr>\n",
              "      <th>21616</th>\n",
              "      <td>chr9</td>\n",
              "      <td>3359542</td>\n",
              "      <td>N</td>\n",
              "      <td>51</td>\n",
              "      <td>GGGGGGGGGGGGGGGGGGGGGGGGGGGGGGGGGGGGGGGGGGGGGG...</td>\n",
              "      <td>HDEIHIIGIIIHHIIGAIIIGIBGIHBFGIHE?GIGIHGGHHIBII...</td>\n",
              "      <td>GGGGGGGGGGGGGGGGGGGGGGGGGGGGGGGGGGGGGGGGGGGGGG...</td>\n",
              "      <td>51</td>\n",
              "    </tr>\n",
              "    <tr>\n",
              "      <th>21617</th>\n",
              "      <td>chr9</td>\n",
              "      <td>3359543</td>\n",
              "      <td>N</td>\n",
              "      <td>51</td>\n",
              "      <td>GGGGGGGGGGGGGGGGGGGGGGGGGGGGGGGGGGGGGGGGGGGGGG...</td>\n",
              "      <td>IGEIHFG@IIIHHHIGFHIIEIBHIH;GGIHH=GIEIHIGHHIGII...</td>\n",
              "      <td>GGGGGGGGGGGGGGGGGGGGGGGGGGGGGGGGGGGGGGGGGGGGGG...</td>\n",
              "      <td>51</td>\n",
              "    </tr>\n",
              "    <tr>\n",
              "      <th>21618</th>\n",
              "      <td>chr9</td>\n",
              "      <td>3359544</td>\n",
              "      <td>N</td>\n",
              "      <td>51</td>\n",
              "      <td>AAAAAAAAAAAAAAAAAAAAAAAAAAAAAAAAAAAAAAAAAAAAAA...</td>\n",
              "      <td>IHBIHIIDHGIGHIIIDIIIDH0HH?DEHFHBBGIGIHIGHHDAII...</td>\n",
              "      <td>AAAAAAAAAAAAAAAAAAAAAAAAAAAAAAAAAAAAAAAAAAAAAA...</td>\n",
              "      <td>51</td>\n",
              "    </tr>\n",
              "    <tr>\n",
              "      <th>21619</th>\n",
              "      <td>chr9</td>\n",
              "      <td>3359545</td>\n",
              "      <td>N</td>\n",
              "      <td>51</td>\n",
              "      <td>GGGGGGGGGGGGGGGGGGGGGGGGGGGGGGGGGGGGGGGGGGGGGG...</td>\n",
              "      <td>IH8IHIIEIGIGHIIFFIIIGI=HIHDGGIHI;GHIIGHGHHI4DI...</td>\n",
              "      <td>GGGGGGGGGGGGGGGGGGGGGGGGGGGGGGGGGGGGGGGGGGGGGG...</td>\n",
              "      <td>51</td>\n",
              "    </tr>\n",
              "    <tr>\n",
              "      <th>21620</th>\n",
              "      <td>chr9</td>\n",
              "      <td>3359546</td>\n",
              "      <td>N</td>\n",
              "      <td>51</td>\n",
              "      <td>TTTTTTTTTTTTTTTTTTTTTTTTTTTTTTTTTTTTTTTTTTTTTT...</td>\n",
              "      <td>IHEIHHIEIGGDHIIDHIIIGI7HIH&gt;GHIHI&lt;GIGIFIGDHFCII...</td>\n",
              "      <td>TTTTTTTTTTTTTTTTTTTTTTTTTTTTTTTTTTTTTTTTTTTTTT...</td>\n",
              "      <td>51</td>\n",
              "    </tr>\n",
              "  </tbody>\n",
              "</table>\n",
              "</div>\n",
              "      <button class=\"colab-df-convert\" onclick=\"convertToInteractive('df-09e040ba-f41d-4509-bf79-128908b74913')\"\n",
              "              title=\"Convert this dataframe to an interactive table.\"\n",
              "              style=\"display:none;\">\n",
              "        \n",
              "  <svg xmlns=\"http://www.w3.org/2000/svg\" height=\"24px\"viewBox=\"0 0 24 24\"\n",
              "       width=\"24px\">\n",
              "    <path d=\"M0 0h24v24H0V0z\" fill=\"none\"/>\n",
              "    <path d=\"M18.56 5.44l.94 2.06.94-2.06 2.06-.94-2.06-.94-.94-2.06-.94 2.06-2.06.94zm-11 1L8.5 8.5l.94-2.06 2.06-.94-2.06-.94L8.5 2.5l-.94 2.06-2.06.94zm10 10l.94 2.06.94-2.06 2.06-.94-2.06-.94-.94-2.06-.94 2.06-2.06.94z\"/><path d=\"M17.41 7.96l-1.37-1.37c-.4-.4-.92-.59-1.43-.59-.52 0-1.04.2-1.43.59L10.3 9.45l-7.72 7.72c-.78.78-.78 2.05 0 2.83L4 21.41c.39.39.9.59 1.41.59.51 0 1.02-.2 1.41-.59l7.78-7.78 2.81-2.81c.8-.78.8-2.07 0-2.86zM5.41 20L4 18.59l7.72-7.72 1.47 1.35L5.41 20z\"/>\n",
              "  </svg>\n",
              "      </button>\n",
              "      \n",
              "  <style>\n",
              "    .colab-df-container {\n",
              "      display:flex;\n",
              "      flex-wrap:wrap;\n",
              "      gap: 12px;\n",
              "    }\n",
              "\n",
              "    .colab-df-convert {\n",
              "      background-color: #E8F0FE;\n",
              "      border: none;\n",
              "      border-radius: 50%;\n",
              "      cursor: pointer;\n",
              "      display: none;\n",
              "      fill: #1967D2;\n",
              "      height: 32px;\n",
              "      padding: 0 0 0 0;\n",
              "      width: 32px;\n",
              "    }\n",
              "\n",
              "    .colab-df-convert:hover {\n",
              "      background-color: #E2EBFA;\n",
              "      box-shadow: 0px 1px 2px rgba(60, 64, 67, 0.3), 0px 1px 3px 1px rgba(60, 64, 67, 0.15);\n",
              "      fill: #174EA6;\n",
              "    }\n",
              "\n",
              "    [theme=dark] .colab-df-convert {\n",
              "      background-color: #3B4455;\n",
              "      fill: #D2E3FC;\n",
              "    }\n",
              "\n",
              "    [theme=dark] .colab-df-convert:hover {\n",
              "      background-color: #434B5C;\n",
              "      box-shadow: 0px 1px 3px 1px rgba(0, 0, 0, 0.15);\n",
              "      filter: drop-shadow(0px 1px 2px rgba(0, 0, 0, 0.3));\n",
              "      fill: #FFFFFF;\n",
              "    }\n",
              "  </style>\n",
              "\n",
              "      <script>\n",
              "        const buttonEl =\n",
              "          document.querySelector('#df-09e040ba-f41d-4509-bf79-128908b74913 button.colab-df-convert');\n",
              "        buttonEl.style.display =\n",
              "          google.colab.kernel.accessAllowed ? 'block' : 'none';\n",
              "\n",
              "        async function convertToInteractive(key) {\n",
              "          const element = document.querySelector('#df-09e040ba-f41d-4509-bf79-128908b74913');\n",
              "          const dataTable =\n",
              "            await google.colab.kernel.invokeFunction('convertToInteractive',\n",
              "                                                     [key], {});\n",
              "          if (!dataTable) return;\n",
              "\n",
              "          const docLinkHtml = 'Like what you see? Visit the ' +\n",
              "            '<a target=\"_blank\" href=https://colab.research.google.com/notebooks/data_table.ipynb>data table notebook</a>'\n",
              "            + ' to learn more about interactive tables.';\n",
              "          element.innerHTML = '';\n",
              "          dataTable['output_type'] = 'display_data';\n",
              "          await google.colab.output.renderOutput(dataTable, element);\n",
              "          const docLink = document.createElement('div');\n",
              "          docLink.innerHTML = docLinkHtml;\n",
              "          element.appendChild(docLink);\n",
              "        }\n",
              "      </script>\n",
              "    </div>\n",
              "  </div>\n",
              "  "
            ]
          },
          "metadata": {},
          "execution_count": 18
        }
      ]
    },
    {
      "cell_type": "code",
      "execution_count": null,
      "metadata": {
        "colab": {
          "base_uri": "https://localhost:8080/"
        },
        "id": "aX5DjWZcqnag",
        "outputId": "31171382-2a42-4df6-d7ba-1468864f2a2e"
      },
      "outputs": [
        {
          "output_type": "execute_result",
          "data": {
            "text/plain": [
              "array([   0,    1,    2, ..., 7989, 7990, 7994])"
            ]
          },
          "metadata": {},
          "execution_count": 30
        }
      ],
      "source": [
        "np.unique(f50pileup['base_count'])"
      ]
    },
    {
      "cell_type": "markdown",
      "metadata": {
        "id": "E_0_hO3StYR4"
      },
      "source": [
        "Colab RAM사용 제한 상, 데이터가 날라가는 것을 방지하기 위해 일단 결과 csv 저장"
      ]
    },
    {
      "cell_type": "code",
      "execution_count": null,
      "metadata": {
        "colab": {
          "base_uri": "https://localhost:8080/",
          "height": 287
        },
        "id": "dwPHY6D5xWpK",
        "outputId": "70c97e4c-b82c-4528-ef7d-a2208af59db8"
      },
      "outputs": [
        {
          "output_type": "execute_result",
          "data": {
            "text/plain": [
              "      chrom      pos ref  count  \\\n",
              "21616  chr9  3359542   N     51   \n",
              "21617  chr9  3359543   N     51   \n",
              "21618  chr9  3359544   N     51   \n",
              "21619  chr9  3359545   N     51   \n",
              "21620  chr9  3359546   N     51   \n",
              "\n",
              "                                               basereads  \\\n",
              "21616  GGGGGGGGGGGGGGGGGGGGGGGGGGGGGGGGGGGGGGGGGGGGGG...   \n",
              "21617  GGGGGGGGGGGGGGGGGGGGGGGGGGGGGGGGGGGGGGGGGGGGGG...   \n",
              "21618  AAAAAAAAAAAAAAAAAAAAAAAAAAAAAAAAAAAAAAAAAAAAAA...   \n",
              "21619  GGGGGGGGGGGGGGGGGGGGGGGGGGGGGGGGGGGGGGGGGGGGGG...   \n",
              "21620  TTTTTTTTTTTTTTTTTTTTTTTTTTTTTTTTTTTTTTTTTTTTTT...   \n",
              "\n",
              "                                                   quals  \\\n",
              "21616  HDEIHIIGIIIHHIIGAIIIGIBGIHBFGIHE?GIGIHGGHHIBII...   \n",
              "21617  IGEIHFG@IIIHHHIGFHIIEIBHIH;GGIHH=GIEIHIGHHIGII...   \n",
              "21618  IHBIHIIDHGIGHIIIDIIIDH0HH?DEHFHBBGIGIHIGHHDAII...   \n",
              "21619  IH8IHIIEIGIGHIIFFIIIGI=HIHDGGIHI;GHIIGHGHHI4DI...   \n",
              "21620  IHEIHHIEIGGDHIIDHIIIGI7HIH>GHIHI<GIGIFIGDHFCII...   \n",
              "\n",
              "                                                 matches  base_count  \n",
              "21616  GGGGGGGGGGGGGGGGGGGGGGGGGGGGGGGGGGGGGGGGGGGGGG...          51  \n",
              "21617  GGGGGGGGGGGGGGGGGGGGGGGGGGGGGGGGGGGGGGGGGGGGGG...          51  \n",
              "21618  AAAAAAAAAAAAAAAAAAAAAAAAAAAAAAAAAAAAAAAAAAAAAA...          51  \n",
              "21619  GGGGGGGGGGGGGGGGGGGGGGGGGGGGGGGGGGGGGGGGGGGGGG...          51  \n",
              "21620  TTTTTTTTTTTTTTTTTTTTTTTTTTTTTTTTTTTTTTTTTTTTTT...          51  "
            ],
            "text/html": [
              "\n",
              "  <div id=\"df-c5ac996f-388d-4fb5-a5e9-fe7092e99b55\">\n",
              "    <div class=\"colab-df-container\">\n",
              "      <div>\n",
              "<style scoped>\n",
              "    .dataframe tbody tr th:only-of-type {\n",
              "        vertical-align: middle;\n",
              "    }\n",
              "\n",
              "    .dataframe tbody tr th {\n",
              "        vertical-align: top;\n",
              "    }\n",
              "\n",
              "    .dataframe thead th {\n",
              "        text-align: right;\n",
              "    }\n",
              "</style>\n",
              "<table border=\"1\" class=\"dataframe\">\n",
              "  <thead>\n",
              "    <tr style=\"text-align: right;\">\n",
              "      <th></th>\n",
              "      <th>chrom</th>\n",
              "      <th>pos</th>\n",
              "      <th>ref</th>\n",
              "      <th>count</th>\n",
              "      <th>basereads</th>\n",
              "      <th>quals</th>\n",
              "      <th>matches</th>\n",
              "      <th>base_count</th>\n",
              "    </tr>\n",
              "  </thead>\n",
              "  <tbody>\n",
              "    <tr>\n",
              "      <th>21616</th>\n",
              "      <td>chr9</td>\n",
              "      <td>3359542</td>\n",
              "      <td>N</td>\n",
              "      <td>51</td>\n",
              "      <td>GGGGGGGGGGGGGGGGGGGGGGGGGGGGGGGGGGGGGGGGGGGGGG...</td>\n",
              "      <td>HDEIHIIGIIIHHIIGAIIIGIBGIHBFGIHE?GIGIHGGHHIBII...</td>\n",
              "      <td>GGGGGGGGGGGGGGGGGGGGGGGGGGGGGGGGGGGGGGGGGGGGGG...</td>\n",
              "      <td>51</td>\n",
              "    </tr>\n",
              "    <tr>\n",
              "      <th>21617</th>\n",
              "      <td>chr9</td>\n",
              "      <td>3359543</td>\n",
              "      <td>N</td>\n",
              "      <td>51</td>\n",
              "      <td>GGGGGGGGGGGGGGGGGGGGGGGGGGGGGGGGGGGGGGGGGGGGGG...</td>\n",
              "      <td>IGEIHFG@IIIHHHIGFHIIEIBHIH;GGIHH=GIEIHIGHHIGII...</td>\n",
              "      <td>GGGGGGGGGGGGGGGGGGGGGGGGGGGGGGGGGGGGGGGGGGGGGG...</td>\n",
              "      <td>51</td>\n",
              "    </tr>\n",
              "    <tr>\n",
              "      <th>21618</th>\n",
              "      <td>chr9</td>\n",
              "      <td>3359544</td>\n",
              "      <td>N</td>\n",
              "      <td>51</td>\n",
              "      <td>AAAAAAAAAAAAAAAAAAAAAAAAAAAAAAAAAAAAAAAAAAAAAA...</td>\n",
              "      <td>IHBIHIIDHGIGHIIIDIIIDH0HH?DEHFHBBGIGIHIGHHDAII...</td>\n",
              "      <td>AAAAAAAAAAAAAAAAAAAAAAAAAAAAAAAAAAAAAAAAAAAAAA...</td>\n",
              "      <td>51</td>\n",
              "    </tr>\n",
              "    <tr>\n",
              "      <th>21619</th>\n",
              "      <td>chr9</td>\n",
              "      <td>3359545</td>\n",
              "      <td>N</td>\n",
              "      <td>51</td>\n",
              "      <td>GGGGGGGGGGGGGGGGGGGGGGGGGGGGGGGGGGGGGGGGGGGGGG...</td>\n",
              "      <td>IH8IHIIEIGIGHIIFFIIIGI=HIHDGGIHI;GHIIGHGHHI4DI...</td>\n",
              "      <td>GGGGGGGGGGGGGGGGGGGGGGGGGGGGGGGGGGGGGGGGGGGGGG...</td>\n",
              "      <td>51</td>\n",
              "    </tr>\n",
              "    <tr>\n",
              "      <th>21620</th>\n",
              "      <td>chr9</td>\n",
              "      <td>3359546</td>\n",
              "      <td>N</td>\n",
              "      <td>51</td>\n",
              "      <td>TTTTTTTTTTTTTTTTTTTTTTTTTTTTTTTTTTTTTTTTTTTTTT...</td>\n",
              "      <td>IHEIHHIEIGGDHIIDHIIIGI7HIH&gt;GHIHI&lt;GIGIFIGDHFCII...</td>\n",
              "      <td>TTTTTTTTTTTTTTTTTTTTTTTTTTTTTTTTTTTTTTTTTTTTTT...</td>\n",
              "      <td>51</td>\n",
              "    </tr>\n",
              "  </tbody>\n",
              "</table>\n",
              "</div>\n",
              "      <button class=\"colab-df-convert\" onclick=\"convertToInteractive('df-c5ac996f-388d-4fb5-a5e9-fe7092e99b55')\"\n",
              "              title=\"Convert this dataframe to an interactive table.\"\n",
              "              style=\"display:none;\">\n",
              "        \n",
              "  <svg xmlns=\"http://www.w3.org/2000/svg\" height=\"24px\"viewBox=\"0 0 24 24\"\n",
              "       width=\"24px\">\n",
              "    <path d=\"M0 0h24v24H0V0z\" fill=\"none\"/>\n",
              "    <path d=\"M18.56 5.44l.94 2.06.94-2.06 2.06-.94-2.06-.94-.94-2.06-.94 2.06-2.06.94zm-11 1L8.5 8.5l.94-2.06 2.06-.94-2.06-.94L8.5 2.5l-.94 2.06-2.06.94zm10 10l.94 2.06.94-2.06 2.06-.94-2.06-.94-.94-2.06-.94 2.06-2.06.94z\"/><path d=\"M17.41 7.96l-1.37-1.37c-.4-.4-.92-.59-1.43-.59-.52 0-1.04.2-1.43.59L10.3 9.45l-7.72 7.72c-.78.78-.78 2.05 0 2.83L4 21.41c.39.39.9.59 1.41.59.51 0 1.02-.2 1.41-.59l7.78-7.78 2.81-2.81c.8-.78.8-2.07 0-2.86zM5.41 20L4 18.59l7.72-7.72 1.47 1.35L5.41 20z\"/>\n",
              "  </svg>\n",
              "      </button>\n",
              "      \n",
              "  <style>\n",
              "    .colab-df-container {\n",
              "      display:flex;\n",
              "      flex-wrap:wrap;\n",
              "      gap: 12px;\n",
              "    }\n",
              "\n",
              "    .colab-df-convert {\n",
              "      background-color: #E8F0FE;\n",
              "      border: none;\n",
              "      border-radius: 50%;\n",
              "      cursor: pointer;\n",
              "      display: none;\n",
              "      fill: #1967D2;\n",
              "      height: 32px;\n",
              "      padding: 0 0 0 0;\n",
              "      width: 32px;\n",
              "    }\n",
              "\n",
              "    .colab-df-convert:hover {\n",
              "      background-color: #E2EBFA;\n",
              "      box-shadow: 0px 1px 2px rgba(60, 64, 67, 0.3), 0px 1px 3px 1px rgba(60, 64, 67, 0.15);\n",
              "      fill: #174EA6;\n",
              "    }\n",
              "\n",
              "    [theme=dark] .colab-df-convert {\n",
              "      background-color: #3B4455;\n",
              "      fill: #D2E3FC;\n",
              "    }\n",
              "\n",
              "    [theme=dark] .colab-df-convert:hover {\n",
              "      background-color: #434B5C;\n",
              "      box-shadow: 0px 1px 3px 1px rgba(0, 0, 0, 0.15);\n",
              "      filter: drop-shadow(0px 1px 2px rgba(0, 0, 0, 0.3));\n",
              "      fill: #FFFFFF;\n",
              "    }\n",
              "  </style>\n",
              "\n",
              "      <script>\n",
              "        const buttonEl =\n",
              "          document.querySelector('#df-c5ac996f-388d-4fb5-a5e9-fe7092e99b55 button.colab-df-convert');\n",
              "        buttonEl.style.display =\n",
              "          google.colab.kernel.accessAllowed ? 'block' : 'none';\n",
              "\n",
              "        async function convertToInteractive(key) {\n",
              "          const element = document.querySelector('#df-c5ac996f-388d-4fb5-a5e9-fe7092e99b55');\n",
              "          const dataTable =\n",
              "            await google.colab.kernel.invokeFunction('convertToInteractive',\n",
              "                                                     [key], {});\n",
              "          if (!dataTable) return;\n",
              "\n",
              "          const docLinkHtml = 'Like what you see? Visit the ' +\n",
              "            '<a target=\"_blank\" href=https://colab.research.google.com/notebooks/data_table.ipynb>data table notebook</a>'\n",
              "            + ' to learn more about interactive tables.';\n",
              "          element.innerHTML = '';\n",
              "          dataTable['output_type'] = 'display_data';\n",
              "          await google.colab.output.renderOutput(dataTable, element);\n",
              "          const docLink = document.createElement('div');\n",
              "          docLink.innerHTML = docLinkHtml;\n",
              "          element.appendChild(docLink);\n",
              "        }\n",
              "      </script>\n",
              "    </div>\n",
              "  </div>\n",
              "  "
            ]
          },
          "metadata": {},
          "execution_count": 13
        }
      ],
      "source": [
        "f50pileup.head()"
      ]
    },
    {
      "cell_type": "code",
      "execution_count": null,
      "metadata": {
        "colab": {
          "base_uri": "https://localhost:8080/",
          "height": 472
        },
        "id": "9h7oIzfklvNA",
        "outputId": "2bbe9acc-c17e-4f94-b045-39483e0a2fac"
      },
      "outputs": [
        {
          "output_type": "display_data",
          "data": {
            "text/plain": [
              "<Figure size 640x480 with 1 Axes>"
            ],
            "image/png": "[encoded data removed]"
          },
          "metadata": {}
        }
      ],
      "source": [
        "x = f50pileup['pos']\n",
        "y = f50pileup['base_count']\n",
        "\n",
        "plt.scatter(x, y,s=0.5)\n",
        "plt.xlabel('Position')\n",
        "plt.ylabel('Read depth')\n",
        "plt.title('Distribution of reads depth on position (chr=9)')\n",
        "plt.axhline(250, c='red', linewidth=1)\n",
        "plt.show()"
      ]
    },
    {
      "cell_type": "code",
      "execution_count": null,
      "metadata": {
        "id": "a2Q5KkmCRy45"
      },
      "outputs": [],
      "source": [
        "pup = f50pileup[(f50pileup['base_count'] <250)&(f50pileup['base_count'] >50)]"
      ]
    },
    {
      "cell_type": "code",
      "source": [
        "x = pup['pos']\n",
        "y = pup['base_count']\n",
        "plt.scatter(x, y,s=0.5)\n",
        "plt.xlabel('Position')\n",
        "plt.ylabel('Read depth')\n",
        "plt.title('Distribution of reads depth on position (chr=9)')\n",
        "plt.show()"
      ],
      "metadata": {
        "colab": {
          "base_uri": "https://localhost:8080/",
          "height": 472
        },
        "id": "iPSv7rggzYci",
        "outputId": "7d397141-adb5-4fa4-b6b4-619e6899482a"
      },
      "execution_count": null,
      "outputs": [
        {
          "output_type": "display_data",
          "data": {
            "text/plain": [
              "<Figure size 640x480 with 1 Axes>"
            ],
            "image/png": "[encoded data removed]"
          },
          "metadata": {}
        }
      ]
    },
    {
      "cell_type": "code",
      "source": [
        "pup = f50pileup[(f50pileup['base_count'] < 250) & (f50pileup['base_count'] > 50)]"
      ],
      "metadata": {
        "id": "BBUahF400uHh"
      },
      "execution_count": null,
      "outputs": []
    },
    {
      "cell_type": "code",
      "source": [
        "pup['matches'].apply(len)"
      ],
      "metadata": {
        "colab": {
          "base_uri": "https://localhost:8080/"
        },
        "id": "klfFXwLk5UZs",
        "outputId": "55bc1d15-19e6-4368-8f72-8fe0611dc218"
      },
      "execution_count": null,
      "outputs": [
        {
          "output_type": "execute_result",
          "data": {
            "text/plain": [
              "21616       51\n",
              "21617       51\n",
              "21618       51\n",
              "21619       51\n",
              "21620       51\n",
              "            ..\n",
              "18081219    51\n",
              "18081221    51\n",
              "18081222    51\n",
              "18081223    51\n",
              "18081224    57\n",
              "Name: matches, Length: 40671, dtype: int64"
            ]
          },
          "metadata": {},
          "execution_count": 20
        }
      ]
    },
    {
      "cell_type": "markdown",
      "source": [
        "한 position에 A,T,G,C가 존재하므로, 확률은 \n",
        "S={A,T,G,C,N}\n",
        "p(A), p(T), p(G), p(C) 을 구해서 shannon entropy를 구해야 한다."
      ],
      "metadata": {
        "id": "iD30KeaY80O6"
      }
    },
    {
      "cell_type": "code",
      "source": [
        "for pos, row in pup.iterrows():\n",
        "    if row['base_count'] == 0:\n",
        "        pup.loc[pos,'countA'] = '0'\n",
        "        pup.loc[pos,'countT'] = '0'\n",
        "        pup.loc[pos,'countG'] = '0'\n",
        "        pup.loc[pos,'countC'] = '0'\n",
        "    else:\n",
        "        pup.loc[pos,'countA'] = (row['matches'].count('A'))/row['base_count']\n",
        "        pup.loc[pos,'countT'] = (row['matches'].count('T'))/row['base_count']\n",
        "        pup.loc[pos,'countG'] = (row['matches'].count('G'))/row['base_count']\n",
        "        pup.loc[pos,'countC'] = (row['matches'].count('C'))/row['base_count']"
      ],
      "metadata": {
        "id": "0JE3gxkC5_KX"
      },
      "execution_count": null,
      "outputs": []
    },
    {
      "cell_type": "code",
      "source": [
        "pup[['countA', 'countT', 'countG', 'countC']].head()"
      ],
      "metadata": {
        "colab": {
          "base_uri": "https://localhost:8080/",
          "height": 206
        },
        "id": "DmMNaln1AZDs",
        "outputId": "2de11b2e-dd22-4f9a-96b0-21f1210b43ff"
      },
      "execution_count": null,
      "outputs": [
        {
          "output_type": "execute_result",
          "data": {
            "text/plain": [
              "       countA  countT  countG  countC\n",
              "21616     0.0     0.0     1.0     0.0\n",
              "21617     0.0     0.0     1.0     0.0\n",
              "21618     1.0     0.0     0.0     0.0\n",
              "21619     0.0     0.0     1.0     0.0\n",
              "21620     0.0     1.0     0.0     0.0"
            ],
            "text/html": [
              "\n",
              "  <div id=\"df-66da5e98-9422-43c2-951e-1ecf35998c91\">\n",
              "    <div class=\"colab-df-container\">\n",
              "      <div>\n",
              "<style scoped>\n",
              "    .dataframe tbody tr th:only-of-type {\n",
              "        vertical-align: middle;\n",
              "    }\n",
              "\n",
              "    .dataframe tbody tr th {\n",
              "        vertical-align: top;\n",
              "    }\n",
              "\n",
              "    .dataframe thead th {\n",
              "        text-align: right;\n",
              "    }\n",
              "</style>\n",
              "<table border=\"1\" class=\"dataframe\">\n",
              "  <thead>\n",
              "    <tr style=\"text-align: right;\">\n",
              "      <th></th>\n",
              "      <th>countA</th>\n",
              "      <th>countT</th>\n",
              "      <th>countG</th>\n",
              "      <th>countC</th>\n",
              "    </tr>\n",
              "  </thead>\n",
              "  <tbody>\n",
              "    <tr>\n",
              "      <th>21616</th>\n",
              "      <td>0.0</td>\n",
              "      <td>0.0</td>\n",
              "      <td>1.0</td>\n",
              "      <td>0.0</td>\n",
              "    </tr>\n",
              "    <tr>\n",
              "      <th>21617</th>\n",
              "      <td>0.0</td>\n",
              "      <td>0.0</td>\n",
              "      <td>1.0</td>\n",
              "      <td>0.0</td>\n",
              "    </tr>\n",
              "    <tr>\n",
              "      <th>21618</th>\n",
              "      <td>1.0</td>\n",
              "      <td>0.0</td>\n",
              "      <td>0.0</td>\n",
              "      <td>0.0</td>\n",
              "    </tr>\n",
              "    <tr>\n",
              "      <th>21619</th>\n",
              "      <td>0.0</td>\n",
              "      <td>0.0</td>\n",
              "      <td>1.0</td>\n",
              "      <td>0.0</td>\n",
              "    </tr>\n",
              "    <tr>\n",
              "      <th>21620</th>\n",
              "      <td>0.0</td>\n",
              "      <td>1.0</td>\n",
              "      <td>0.0</td>\n",
              "      <td>0.0</td>\n",
              "    </tr>\n",
              "  </tbody>\n",
              "</table>\n",
              "</div>\n",
              "      <button class=\"colab-df-convert\" onclick=\"convertToInteractive('df-66da5e98-9422-43c2-951e-1ecf35998c91')\"\n",
              "              title=\"Convert this dataframe to an interactive table.\"\n",
              "              style=\"display:none;\">\n",
              "        \n",
              "  <svg xmlns=\"http://www.w3.org/2000/svg\" height=\"24px\"viewBox=\"0 0 24 24\"\n",
              "       width=\"24px\">\n",
              "    <path d=\"M0 0h24v24H0V0z\" fill=\"none\"/>\n",
              "    <path d=\"M18.56 5.44l.94 2.06.94-2.06 2.06-.94-2.06-.94-.94-2.06-.94 2.06-2.06.94zm-11 1L8.5 8.5l.94-2.06 2.06-.94-2.06-.94L8.5 2.5l-.94 2.06-2.06.94zm10 10l.94 2.06.94-2.06 2.06-.94-2.06-.94-.94-2.06-.94 2.06-2.06.94z\"/><path d=\"M17.41 7.96l-1.37-1.37c-.4-.4-.92-.59-1.43-.59-.52 0-1.04.2-1.43.59L10.3 9.45l-7.72 7.72c-.78.78-.78 2.05 0 2.83L4 21.41c.39.39.9.59 1.41.59.51 0 1.02-.2 1.41-.59l7.78-7.78 2.81-2.81c.8-.78.8-2.07 0-2.86zM5.41 20L4 18.59l7.72-7.72 1.47 1.35L5.41 20z\"/>\n",
              "  </svg>\n",
              "      </button>\n",
              "      \n",
              "  <style>\n",
              "    .colab-df-container {\n",
              "      display:flex;\n",
              "      flex-wrap:wrap;\n",
              "      gap: 12px;\n",
              "    }\n",
              "\n",
              "    .colab-df-convert {\n",
              "      background-color: #E8F0FE;\n",
              "      border: none;\n",
              "      border-radius: 50%;\n",
              "      cursor: pointer;\n",
              "      display: none;\n",
              "      fill: #1967D2;\n",
              "      height: 32px;\n",
              "      padding: 0 0 0 0;\n",
              "      width: 32px;\n",
              "    }\n",
              "\n",
              "    .colab-df-convert:hover {\n",
              "      background-color: #E2EBFA;\n",
              "      box-shadow: 0px 1px 2px rgba(60, 64, 67, 0.3), 0px 1px 3px 1px rgba(60, 64, 67, 0.15);\n",
              "      fill: #174EA6;\n",
              "    }\n",
              "\n",
              "    [theme=dark] .colab-df-convert {\n",
              "      background-color: #3B4455;\n",
              "      fill: #D2E3FC;\n",
              "    }\n",
              "\n",
              "    [theme=dark] .colab-df-convert:hover {\n",
              "      background-color: #434B5C;\n",
              "      box-shadow: 0px 1px 3px 1px rgba(0, 0, 0, 0.15);\n",
              "      filter: drop-shadow(0px 1px 2px rgba(0, 0, 0, 0.3));\n",
              "      fill: #FFFFFF;\n",
              "    }\n",
              "  </style>\n",
              "\n",
              "      <script>\n",
              "        const buttonEl =\n",
              "          document.querySelector('#df-66da5e98-9422-43c2-951e-1ecf35998c91 button.colab-df-convert');\n",
              "        buttonEl.style.display =\n",
              "          google.colab.kernel.accessAllowed ? 'block' : 'none';\n",
              "\n",
              "        async function convertToInteractive(key) {\n",
              "          const element = document.querySelector('#df-66da5e98-9422-43c2-951e-1ecf35998c91');\n",
              "          const dataTable =\n",
              "            await google.colab.kernel.invokeFunction('convertToInteractive',\n",
              "                                                     [key], {});\n",
              "          if (!dataTable) return;\n",
              "\n",
              "          const docLinkHtml = 'Like what you see? Visit the ' +\n",
              "            '<a target=\"_blank\" href=https://colab.research.google.com/notebooks/data_table.ipynb>data table notebook</a>'\n",
              "            + ' to learn more about interactive tables.';\n",
              "          element.innerHTML = '';\n",
              "          dataTable['output_type'] = 'display_data';\n",
              "          await google.colab.output.renderOutput(dataTable, element);\n",
              "          const docLink = document.createElement('div');\n",
              "          docLink.innerHTML = docLinkHtml;\n",
              "          element.appendChild(docLink);\n",
              "        }\n",
              "      </script>\n",
              "    </div>\n",
              "  </div>\n",
              "  "
            ]
          },
          "metadata": {},
          "execution_count": 22
        }
      ]
    },
    {
      "cell_type": "code",
      "source": [
        "pup['shannon'] = np.zeros(len(pup))\n",
        "\n",
        "for i, row in pup.iterrows():\n",
        "    countA = float(row['countA'])\n",
        "    countT = float(row['countT'])\n",
        "    countG = float(row['countG'])\n",
        "    countC = float(row['countC'])\n",
        "    \n",
        "    if countA <= 0.0 or countA >= 1.0:\n",
        "        pup.loc[i, 'shannon'] += 0\n",
        "    else:\n",
        "        pup.loc[i, 'shannon'] += countA * np.log2(countA)\n",
        "    \n",
        "    if countT <= 0.0 or countT >= 1.0:\n",
        "        pup.loc[i, 'shannon'] += 0\n",
        "    else:\n",
        "        pup.loc[i, 'shannon'] += countT * np.log2(countT)\n",
        "    \n",
        "    if countG <= 0.0 or countG >= 1.0:\n",
        "        pup.loc[i, 'shannon'] += 0\n",
        "    else:\n",
        "        pup.loc[i, 'shannon'] += countG * np.log2(countG)\n",
        "    \n",
        "    if countC <= 0.0 or countC >= 1.0:\n",
        "        pup.loc[i, 'shannon'] += 0\n",
        "    else:\n",
        "        pup.loc[i, 'shannon'] += countC * np.log2(countC)\n"
      ],
      "metadata": {
        "id": "Fykhe5wdFIOb"
      },
      "execution_count": null,
      "outputs": []
    },
    {
      "cell_type": "code",
      "source": [
        "pup[['countA', 'countT', 'countG', 'countC','shannon']].head()"
      ],
      "metadata": {
        "colab": {
          "base_uri": "https://localhost:8080/",
          "height": 206
        },
        "id": "p06frkF1IYbx",
        "outputId": "85930af5-713c-44b0-a7ae-943a5499695e"
      },
      "execution_count": null,
      "outputs": [
        {
          "output_type": "execute_result",
          "data": {
            "text/plain": [
              "       countA  countT  countG  countC  shannon\n",
              "21616     0.0     0.0     1.0     0.0      0.0\n",
              "21617     0.0     0.0     1.0     0.0      0.0\n",
              "21618     1.0     0.0     0.0     0.0      0.0\n",
              "21619     0.0     0.0     1.0     0.0      0.0\n",
              "21620     0.0     1.0     0.0     0.0      0.0"
            ],
            "text/html": [
              "\n",
              "  <div id=\"df-43092d71-d933-492e-ad72-472f7108e9aa\">\n",
              "    <div class=\"colab-df-container\">\n",
              "      <div>\n",
              "<style scoped>\n",
              "    .dataframe tbody tr th:only-of-type {\n",
              "        vertical-align: middle;\n",
              "    }\n",
              "\n",
              "    .dataframe tbody tr th {\n",
              "        vertical-align: top;\n",
              "    }\n",
              "\n",
              "    .dataframe thead th {\n",
              "        text-align: right;\n",
              "    }\n",
              "</style>\n",
              "<table border=\"1\" class=\"dataframe\">\n",
              "  <thead>\n",
              "    <tr style=\"text-align: right;\">\n",
              "      <th></th>\n",
              "      <th>countA</th>\n",
              "      <th>countT</th>\n",
              "      <th>countG</th>\n",
              "      <th>countC</th>\n",
              "      <th>shannon</th>\n",
              "    </tr>\n",
              "  </thead>\n",
              "  <tbody>\n",
              "    <tr>\n",
              "      <th>21616</th>\n",
              "      <td>0.0</td>\n",
              "      <td>0.0</td>\n",
              "      <td>1.0</td>\n",
              "      <td>0.0</td>\n",
              "      <td>0.0</td>\n",
              "    </tr>\n",
              "    <tr>\n",
              "      <th>21617</th>\n",
              "      <td>0.0</td>\n",
              "      <td>0.0</td>\n",
              "      <td>1.0</td>\n",
              "      <td>0.0</td>\n",
              "      <td>0.0</td>\n",
              "    </tr>\n",
              "    <tr>\n",
              "      <th>21618</th>\n",
              "      <td>1.0</td>\n",
              "      <td>0.0</td>\n",
              "      <td>0.0</td>\n",
              "      <td>0.0</td>\n",
              "      <td>0.0</td>\n",
              "    </tr>\n",
              "    <tr>\n",
              "      <th>21619</th>\n",
              "      <td>0.0</td>\n",
              "      <td>0.0</td>\n",
              "      <td>1.0</td>\n",
              "      <td>0.0</td>\n",
              "      <td>0.0</td>\n",
              "    </tr>\n",
              "    <tr>\n",
              "      <th>21620</th>\n",
              "      <td>0.0</td>\n",
              "      <td>1.0</td>\n",
              "      <td>0.0</td>\n",
              "      <td>0.0</td>\n",
              "      <td>0.0</td>\n",
              "    </tr>\n",
              "  </tbody>\n",
              "</table>\n",
              "</div>\n",
              "      <button class=\"colab-df-convert\" onclick=\"convertToInteractive('df-43092d71-d933-492e-ad72-472f7108e9aa')\"\n",
              "              title=\"Convert this dataframe to an interactive table.\"\n",
              "              style=\"display:none;\">\n",
              "        \n",
              "  <svg xmlns=\"http://www.w3.org/2000/svg\" height=\"24px\"viewBox=\"0 0 24 24\"\n",
              "       width=\"24px\">\n",
              "    <path d=\"M0 0h24v24H0V0z\" fill=\"none\"/>\n",
              "    <path d=\"M18.56 5.44l.94 2.06.94-2.06 2.06-.94-2.06-.94-.94-2.06-.94 2.06-2.06.94zm-11 1L8.5 8.5l.94-2.06 2.06-.94-2.06-.94L8.5 2.5l-.94 2.06-2.06.94zm10 10l.94 2.06.94-2.06 2.06-.94-2.06-.94-.94-2.06-.94 2.06-2.06.94z\"/><path d=\"M17.41 7.96l-1.37-1.37c-.4-.4-.92-.59-1.43-.59-.52 0-1.04.2-1.43.59L10.3 9.45l-7.72 7.72c-.78.78-.78 2.05 0 2.83L4 21.41c.39.39.9.59 1.41.59.51 0 1.02-.2 1.41-.59l7.78-7.78 2.81-2.81c.8-.78.8-2.07 0-2.86zM5.41 20L4 18.59l7.72-7.72 1.47 1.35L5.41 20z\"/>\n",
              "  </svg>\n",
              "      </button>\n",
              "      \n",
              "  <style>\n",
              "    .colab-df-container {\n",
              "      display:flex;\n",
              "      flex-wrap:wrap;\n",
              "      gap: 12px;\n",
              "    }\n",
              "\n",
              "    .colab-df-convert {\n",
              "      background-color: #E8F0FE;\n",
              "      border: none;\n",
              "      border-radius: 50%;\n",
              "      cursor: pointer;\n",
              "      display: none;\n",
              "      fill: #1967D2;\n",
              "      height: 32px;\n",
              "      padding: 0 0 0 0;\n",
              "      width: 32px;\n",
              "    }\n",
              "\n",
              "    .colab-df-convert:hover {\n",
              "      background-color: #E2EBFA;\n",
              "      box-shadow: 0px 1px 2px rgba(60, 64, 67, 0.3), 0px 1px 3px 1px rgba(60, 64, 67, 0.15);\n",
              "      fill: #174EA6;\n",
              "    }\n",
              "\n",
              "    [theme=dark] .colab-df-convert {\n",
              "      background-color: #3B4455;\n",
              "      fill: #D2E3FC;\n",
              "    }\n",
              "\n",
              "    [theme=dark] .colab-df-convert:hover {\n",
              "      background-color: #434B5C;\n",
              "      box-shadow: 0px 1px 3px 1px rgba(0, 0, 0, 0.15);\n",
              "      filter: drop-shadow(0px 1px 2px rgba(0, 0, 0, 0.3));\n",
              "      fill: #FFFFFF;\n",
              "    }\n",
              "  </style>\n",
              "\n",
              "      <script>\n",
              "        const buttonEl =\n",
              "          document.querySelector('#df-43092d71-d933-492e-ad72-472f7108e9aa button.colab-df-convert');\n",
              "        buttonEl.style.display =\n",
              "          google.colab.kernel.accessAllowed ? 'block' : 'none';\n",
              "\n",
              "        async function convertToInteractive(key) {\n",
              "          const element = document.querySelector('#df-43092d71-d933-492e-ad72-472f7108e9aa');\n",
              "          const dataTable =\n",
              "            await google.colab.kernel.invokeFunction('convertToInteractive',\n",
              "                                                     [key], {});\n",
              "          if (!dataTable) return;\n",
              "\n",
              "          const docLinkHtml = 'Like what you see? Visit the ' +\n",
              "            '<a target=\"_blank\" href=https://colab.research.google.com/notebooks/data_table.ipynb>data table notebook</a>'\n",
              "            + ' to learn more about interactive tables.';\n",
              "          element.innerHTML = '';\n",
              "          dataTable['output_type'] = 'display_data';\n",
              "          await google.colab.output.renderOutput(dataTable, element);\n",
              "          const docLink = document.createElement('div');\n",
              "          docLink.innerHTML = docLinkHtml;\n",
              "          element.appendChild(docLink);\n",
              "        }\n",
              "      </script>\n",
              "    </div>\n",
              "  </div>\n",
              "  "
            ]
          },
          "metadata": {},
          "execution_count": 36
        }
      ]
    },
    {
      "cell_type": "code",
      "source": [
        "pup['shannon']=-pup['shannon']"
      ],
      "metadata": {
        "id": "ZeP339YCTGxW"
      },
      "execution_count": null,
      "outputs": []
    },
    {
      "cell_type": "code",
      "source": [
        "np.unique(pup['shannon'])"
      ],
      "metadata": {
        "colab": {
          "base_uri": "https://localhost:8080/"
        },
        "id": "g7Fghnrb4XtS",
        "outputId": "f68b351a-f6da-4379-8e8f-db6ceb6ff3ab"
      },
      "execution_count": null,
      "outputs": [
        {
          "output_type": "execute_result",
          "data": {
            "text/plain": [
              "array([-0.        ,  0.03775019,  0.03787895, ...,  1.8217662 ,\n",
              "        1.82363023,  1.87345501])"
            ]
          },
          "metadata": {},
          "execution_count": 25
        }
      ]
    },
    {
      "cell_type": "markdown",
      "source": [],
      "metadata": {
        "id": "NdLz2KbZGvAJ"
      }
    },
    {
      "cell_type": "code",
      "source": [
        "pup['shannon'].describe()"
      ],
      "metadata": {
        "colab": {
          "base_uri": "https://localhost:8080/"
        },
        "id": "hCDgWA8V1Fqz",
        "outputId": "e5c773a1-1395-4939-bbac-f5ddd505a769"
      },
      "execution_count": null,
      "outputs": [
        {
          "output_type": "execute_result",
          "data": {
            "text/plain": [
              "count    40671.000000\n",
              "mean         0.053671\n",
              "std          0.189090\n",
              "min         -0.000000\n",
              "25%         -0.000000\n",
              "50%          0.000000\n",
              "75%         -0.000000\n",
              "max          1.873455\n",
              "Name: shannon, dtype: float64"
            ]
          },
          "metadata": {},
          "execution_count": 40
        }
      ]
    },
    {
      "cell_type": "code",
      "source": [
        "grouped = pup.groupby('pos')['shannon'].sum().reset_index() "
      ],
      "metadata": {
        "id": "qDC-bhRCHDQO"
      },
      "execution_count": null,
      "outputs": []
    },
    {
      "cell_type": "code",
      "execution_count": null,
      "metadata": {
        "colab": {
          "base_uri": "https://localhost:8080/",
          "height": 472
        },
        "id": "f6wDPK3dR2cP",
        "outputId": "3594be75-7267-4fea-e745-80ee0d01777c"
      },
      "outputs": [
        {
          "output_type": "display_data",
          "data": {
            "text/plain": [
              "<Figure size 640x480 with 1 Axes>"
            ],
            "image/png": "[encoded data removed]"
          },
          "metadata": {}
        }
      ],
      "source": [
        "plt.scatter(grouped['pos'], grouped['shannon'],s=1)\n",
        "plt.xlabel('Position')\n",
        "plt.ylabel('Shannon Entropy')\n",
        "plt.title('Shannon Entropy on each reads in Pileup Data')\n",
        "plt.axhline(0.8, c='red', linewidth=1)\n",
        "plt.show()"
      ]
    },
    {
      "cell_type": "code",
      "source": [
        "import collections\n",
        "from scipy.stats import entropy\n",
        "\n",
        "def shannon(seq):\n",
        "    tmp = collections.Counter([tmp_base for tmp_base in seq])\n",
        "    dist = [x/sum(tmp.values()) for x in tmp.values()]\n",
        "    result = entropy(dist, base=2)\n",
        "    return result"
      ],
      "metadata": {
        "id": "RjWKzYDew8bN"
      },
      "execution_count": null,
      "outputs": []
    },
    {
      "cell_type": "code",
      "source": [
        "pup2 = pup\n",
        "pup2['shannon'] = pup2['matches'].map(lambda x : shannon(x))\n",
        "plt.scatter(pup2['pos'], pup2['shannon'],s=1)\n",
        "plt.xlabel('Position')\n",
        "plt.ylabel('Shannon Entropy')\n",
        "plt.title('Shannon Entropy by Position in Pileup Data')\n",
        "plt.axhline(0.8, c='red', linewidth=2)\n",
        "plt.show()"
      ],
      "metadata": {
        "colab": {
          "base_uri": "https://localhost:8080/",
          "height": 581
        },
        "id": "qrthVNSrxJh4",
        "outputId": "bd4785a1-daa9-4ef2-ebe5-6b58202d3615"
      },
      "execution_count": null,
      "outputs": [
        {
          "output_type": "stream",
          "name": "stderr",
          "text": [
            "<ipython-input-65-84df57a27493>:2: SettingWithCopyWarning: \n",
            "A value is trying to be set on a copy of a slice from a DataFrame.\n",
            "Try using .loc[row_indexer,col_indexer] = value instead\n",
            "\n",
            "See the caveats in the documentation: https://pandas.pydata.org/pandas-docs/stable/user_guide/indexing.html#returning-a-view-versus-a-copy\n",
            "  pup2['shannon'] = pup2['matches'].map(lambda x : shannon(x))\n"
          ]
        },
        {
          "output_type": "display_data",
          "data": {
            "text/plain": [
              "<Figure size 640x480 with 1 Axes>"
            ],
            "image/png": "[encoded data removed]"
          },
          "metadata": {}
        }
      ]
    },
    {
      "cell_type": "code",
      "source": [
        "subpup = pup[(pup['shannon'] > 0.8)]"
      ],
      "metadata": {
        "id": "bzpBBzObavWb"
      },
      "execution_count": null,
      "outputs": []
    },
    {
      "cell_type": "code",
      "source": [
        "plt.scatter(subpup['pos'], subpup['shannon'],s=1)\n",
        "plt.xlabel('Position')\n",
        "plt.ylabel('Shannon Entropy')\n",
        "plt.title('Shannon Entropy by Position in Pileup Data')\n",
        "plt.show()"
      ],
      "metadata": {
        "colab": {
          "base_uri": "https://localhost:8080/",
          "height": 472
        },
        "id": "IYLtlHtDSPdR",
        "outputId": "7eb36efe-6011-4aff-f3a3-b4afb5e2261f"
      },
      "execution_count": null,
      "outputs": [
        {
          "output_type": "display_data",
          "data": {
            "text/plain": [
              "<Figure size 640x480 with 1 Axes>"
            ],
            "image/png": "[encoded data removed]"
          },
          "metadata": {}
        }
      ]
    },
    {
      "cell_type": "code",
      "source": [
        "subpup = pup[(pup['shannon'] > 0.2)]"
      ],
      "metadata": {
        "id": "TN2Ia2pzzte8"
      },
      "execution_count": null,
      "outputs": []
    },
    {
      "cell_type": "code",
      "source": [
        "plt.scatter(subpup['pos'], subpup['shannon'],s=1)\n",
        "plt.xlabel('Position')\n",
        "plt.ylabel('Shannon Entropy')\n",
        "plt.title('Shannon Entropy by Position in Pileup Data')\n",
        "plt.show()"
      ],
      "metadata": {
        "colab": {
          "base_uri": "https://localhost:8080/",
          "height": 472
        },
        "id": "-gwEEvo160u9",
        "outputId": "e5c6e38a-c472-4a0f-c048-4af5c4236d0e"
      },
      "execution_count": null,
      "outputs": [
        {
          "output_type": "display_data",
          "data": {
            "text/plain": [
              "<Figure size 640x480 with 1 Axes>"
            ],
            "image/png": "[encoded data removed]"
          },
          "metadata": {}
        }
      ]
    },
    {
      "cell_type": "code",
      "source": [
        "subpup['adj_shannon'] = (subpup['shannon']/subpup['base_count'])*subpup['base_count']\n",
        "\n",
        "np.unique(subpup['adj_shannon']-subpup['shannon'])"
      ],
      "metadata": {
        "id": "mWOL0Jc9udH4"
      },
      "execution_count": null,
      "outputs": []
    },
    {
      "cell_type": "code",
      "source": [
        "min(subpup['pos']), max(subpup['pos'])"
      ],
      "metadata": {
        "colab": {
          "base_uri": "https://localhost:8080/"
        },
        "id": "chlLwfnSVVXE",
        "outputId": "f908ead8-2e0a-4824-9533-d4a7a42c8474"
      },
      "execution_count": null,
      "outputs": [
        {
          "output_type": "execute_result",
          "data": {
            "text/plain": [
              "(3359552, 122836478)"
            ]
          },
          "metadata": {},
          "execution_count": 47
        }
      ]
    },
    {
      "cell_type": "code",
      "source": [
        "# threshold = 1000\n",
        "\n",
        "# diff = subpup['pos'].diff()\n",
        "# group_indices = np.where(diff > threshold)[0]\n",
        "# groups = np.split(subpup['pos'], group_indices + 1)\n",
        "\n",
        "# num_components_list = []\n",
        "# sum_diff_list = []\n",
        "# min_pos_list = []\n",
        "# max_pos_list = []\n",
        "\n",
        "# for group in groups:\n",
        "#     num_components = len(group)\n",
        "#     sum_diff = group.diff().sum()\n",
        "#     min_pos = group.min()\n",
        "#     max_pos = group.max()\n",
        "\n",
        "#     num_components_list.append(num_components)\n",
        "#     sum_diff_list.append(sum_diff)\n",
        "#     min_pos_list.append(min_pos)\n",
        "#     max_pos_list.append(max_pos)\n",
        "\n",
        "# result = {\n",
        "#     'Numbers': num_components_list,\n",
        "#     'Differences': sum_diff_list,\n",
        "#     'Min Pos': min_pos_list,\n",
        "#     'Max Pos': max_pos_list\n",
        "# }\n",
        "# result=pd.DataFrame(result)\n",
        "\n",
        "# result=result[(result['Numbers']>10) & (result['Differences']!=0)]\n",
        "# result=result.sort_values('Differences')\n",
        "# result.head(n=15)"
      ],
      "metadata": {
        "colab": {
          "base_uri": "https://localhost:8080/",
          "height": 519
        },
        "id": "Nw9F-hgBhmLG",
        "outputId": "97f683c8-84f8-48af-c149-93d009d63c30"
      },
      "execution_count": null,
      "outputs": [
        {
          "output_type": "execute_result",
          "data": {
            "text/plain": [
              "     Numbers  Differences      Min Pos      Max Pos\n",
              "81        12       1242.0   27264897.0   27266139.0\n",
              "199       12       1411.0   57437547.0   57438958.0\n",
              "216       13       1528.0   59576222.0   59577750.0\n",
              "316       15       1667.0   72642370.0   72644037.0\n",
              "5         12       1971.0    7186783.0    7188754.0\n",
              "85        19       2169.0   30980341.0   30982510.0\n",
              "546       11       2240.0  120781990.0  120784230.0\n",
              "112       11       2354.0   44319016.0   44321370.0\n",
              "144       11       2500.0   51976182.0   51978682.0\n",
              "173       19       2543.0   54816035.0   54818578.0\n",
              "100       12       2543.0   40712588.0   40715131.0\n",
              "318       19       2563.0   72646347.0   72648910.0\n",
              "104       13       2693.0   44051045.0   44053738.0\n",
              "545       37       2708.0  120779280.0  120781988.0\n",
              "106       11       2752.0   44243264.0   44246016.0"
            ],
            "text/html": [
              "\n",
              "  <div id=\"df-420ecb82-b57e-4963-9529-77e158477365\">\n",
              "    <div class=\"colab-df-container\">\n",
              "      <div>\n",
              "<style scoped>\n",
              "    .dataframe tbody tr th:only-of-type {\n",
              "        vertical-align: middle;\n",
              "    }\n",
              "\n",
              "    .dataframe tbody tr th {\n",
              "        vertical-align: top;\n",
              "    }\n",
              "\n",
              "    .dataframe thead th {\n",
              "        text-align: right;\n",
              "    }\n",
              "</style>\n",
              "<table border=\"1\" class=\"dataframe\">\n",
              "  <thead>\n",
              "    <tr style=\"text-align: right;\">\n",
              "      <th></th>\n",
              "      <th>Numbers</th>\n",
              "      <th>Differences</th>\n",
              "      <th>Min Pos</th>\n",
              "      <th>Max Pos</th>\n",
              "    </tr>\n",
              "  </thead>\n",
              "  <tbody>\n",
              "    <tr>\n",
              "      <th>81</th>\n",
              "      <td>12</td>\n",
              "      <td>1242.0</td>\n",
              "      <td>27264897.0</td>\n",
              "      <td>27266139.0</td>\n",
              "    </tr>\n",
              "    <tr>\n",
              "      <th>199</th>\n",
              "      <td>12</td>\n",
              "      <td>1411.0</td>\n",
              "      <td>57437547.0</td>\n",
              "      <td>57438958.0</td>\n",
              "    </tr>\n",
              "    <tr>\n",
              "      <th>216</th>\n",
              "      <td>13</td>\n",
              "      <td>1528.0</td>\n",
              "      <td>59576222.0</td>\n",
              "      <td>59577750.0</td>\n",
              "    </tr>\n",
              "    <tr>\n",
              "      <th>316</th>\n",
              "      <td>15</td>\n",
              "      <td>1667.0</td>\n",
              "      <td>72642370.0</td>\n",
              "      <td>72644037.0</td>\n",
              "    </tr>\n",
              "    <tr>\n",
              "      <th>5</th>\n",
              "      <td>12</td>\n",
              "      <td>1971.0</td>\n",
              "      <td>7186783.0</td>\n",
              "      <td>7188754.0</td>\n",
              "    </tr>\n",
              "    <tr>\n",
              "      <th>85</th>\n",
              "      <td>19</td>\n",
              "      <td>2169.0</td>\n",
              "      <td>30980341.0</td>\n",
              "      <td>30982510.0</td>\n",
              "    </tr>\n",
              "    <tr>\n",
              "      <th>546</th>\n",
              "      <td>11</td>\n",
              "      <td>2240.0</td>\n",
              "      <td>120781990.0</td>\n",
              "      <td>120784230.0</td>\n",
              "    </tr>\n",
              "    <tr>\n",
              "      <th>112</th>\n",
              "      <td>11</td>\n",
              "      <td>2354.0</td>\n",
              "      <td>44319016.0</td>\n",
              "      <td>44321370.0</td>\n",
              "    </tr>\n",
              "    <tr>\n",
              "      <th>144</th>\n",
              "      <td>11</td>\n",
              "      <td>2500.0</td>\n",
              "      <td>51976182.0</td>\n",
              "      <td>51978682.0</td>\n",
              "    </tr>\n",
              "    <tr>\n",
              "      <th>173</th>\n",
              "      <td>19</td>\n",
              "      <td>2543.0</td>\n",
              "      <td>54816035.0</td>\n",
              "      <td>54818578.0</td>\n",
              "    </tr>\n",
              "    <tr>\n",
              "      <th>100</th>\n",
              "      <td>12</td>\n",
              "      <td>2543.0</td>\n",
              "      <td>40712588.0</td>\n",
              "      <td>40715131.0</td>\n",
              "    </tr>\n",
              "    <tr>\n",
              "      <th>318</th>\n",
              "      <td>19</td>\n",
              "      <td>2563.0</td>\n",
              "      <td>72646347.0</td>\n",
              "      <td>72648910.0</td>\n",
              "    </tr>\n",
              "    <tr>\n",
              "      <th>104</th>\n",
              "      <td>13</td>\n",
              "      <td>2693.0</td>\n",
              "      <td>44051045.0</td>\n",
              "      <td>44053738.0</td>\n",
              "    </tr>\n",
              "    <tr>\n",
              "      <th>545</th>\n",
              "      <td>37</td>\n",
              "      <td>2708.0</td>\n",
              "      <td>120779280.0</td>\n",
              "      <td>120781988.0</td>\n",
              "    </tr>\n",
              "    <tr>\n",
              "      <th>106</th>\n",
              "      <td>11</td>\n",
              "      <td>2752.0</td>\n",
              "      <td>44243264.0</td>\n",
              "      <td>44246016.0</td>\n",
              "    </tr>\n",
              "  </tbody>\n",
              "</table>\n",
              "</div>\n",
              "      <button class=\"colab-df-convert\" onclick=\"convertToInteractive('df-420ecb82-b57e-4963-9529-77e158477365')\"\n",
              "              title=\"Convert this dataframe to an interactive table.\"\n",
              "              style=\"display:none;\">\n",
              "        \n",
              "  <svg xmlns=\"http://www.w3.org/2000/svg\" height=\"24px\"viewBox=\"0 0 24 24\"\n",
              "       width=\"24px\">\n",
              "    <path d=\"M0 0h24v24H0V0z\" fill=\"none\"/>\n",
              "    <path d=\"M18.56 5.44l.94 2.06.94-2.06 2.06-.94-2.06-.94-.94-2.06-.94 2.06-2.06.94zm-11 1L8.5 8.5l.94-2.06 2.06-.94-2.06-.94L8.5 2.5l-.94 2.06-2.06.94zm10 10l.94 2.06.94-2.06 2.06-.94-2.06-.94-.94-2.06-.94 2.06-2.06.94z\"/><path d=\"M17.41 7.96l-1.37-1.37c-.4-.4-.92-.59-1.43-.59-.52 0-1.04.2-1.43.59L10.3 9.45l-7.72 7.72c-.78.78-.78 2.05 0 2.83L4 21.41c.39.39.9.59 1.41.59.51 0 1.02-.2 1.41-.59l7.78-7.78 2.81-2.81c.8-.78.8-2.07 0-2.86zM5.41 20L4 18.59l7.72-7.72 1.47 1.35L5.41 20z\"/>\n",
              "  </svg>\n",
              "      </button>\n",
              "      \n",
              "  <style>\n",
              "    .colab-df-container {\n",
              "      display:flex;\n",
              "      flex-wrap:wrap;\n",
              "      gap: 12px;\n",
              "    }\n",
              "\n",
              "    .colab-df-convert {\n",
              "      background-color: #E8F0FE;\n",
              "      border: none;\n",
              "      border-radius: 50%;\n",
              "      cursor: pointer;\n",
              "      display: none;\n",
              "      fill: #1967D2;\n",
              "      height: 32px;\n",
              "      padding: 0 0 0 0;\n",
              "      width: 32px;\n",
              "    }\n",
              "\n",
              "    .colab-df-convert:hover {\n",
              "      background-color: #E2EBFA;\n",
              "      box-shadow: 0px 1px 2px rgba(60, 64, 67, 0.3), 0px 1px 3px 1px rgba(60, 64, 67, 0.15);\n",
              "      fill: #174EA6;\n",
              "    }\n",
              "\n",
              "    [theme=dark] .colab-df-convert {\n",
              "      background-color: #3B4455;\n",
              "      fill: #D2E3FC;\n",
              "    }\n",
              "\n",
              "    [theme=dark] .colab-df-convert:hover {\n",
              "      background-color: #434B5C;\n",
              "      box-shadow: 0px 1px 3px 1px rgba(0, 0, 0, 0.15);\n",
              "      filter: drop-shadow(0px 1px 2px rgba(0, 0, 0, 0.3));\n",
              "      fill: #FFFFFF;\n",
              "    }\n",
              "  </style>\n",
              "\n",
              "      <script>\n",
              "        const buttonEl =\n",
              "          document.querySelector('#df-420ecb82-b57e-4963-9529-77e158477365 button.colab-df-convert');\n",
              "        buttonEl.style.display =\n",
              "          google.colab.kernel.accessAllowed ? 'block' : 'none';\n",
              "\n",
              "        async function convertToInteractive(key) {\n",
              "          const element = document.querySelector('#df-420ecb82-b57e-4963-9529-77e158477365');\n",
              "          const dataTable =\n",
              "            await google.colab.kernel.invokeFunction('convertToInteractive',\n",
              "                                                     [key], {});\n",
              "          if (!dataTable) return;\n",
              "\n",
              "          const docLinkHtml = 'Like what you see? Visit the ' +\n",
              "            '<a target=\"_blank\" href=https://colab.research.google.com/notebooks/data_table.ipynb>data table notebook</a>'\n",
              "            + ' to learn more about interactive tables.';\n",
              "          element.innerHTML = '';\n",
              "          dataTable['output_type'] = 'display_data';\n",
              "          await google.colab.output.renderOutput(dataTable, element);\n",
              "          const docLink = document.createElement('div');\n",
              "          docLink.innerHTML = docLinkHtml;\n",
              "          element.appendChild(docLink);\n",
              "        }\n",
              "      </script>\n",
              "    </div>\n",
              "  </div>\n",
              "  "
            ]
          },
          "metadata": {},
          "execution_count": 72
        }
      ]
    },
    {
      "cell_type": "code",
      "source": [
        "subpup.to_csv('subpup2.csv', index=True) #0.2"
      ],
      "metadata": {
        "id": "nWoZiVJfC5at"
      },
      "execution_count": null,
      "outputs": []
    },
    {
      "cell_type": "code",
      "source": [
        "subpup.to_csv('subpup.csv', index=True) #0.8"
      ],
      "metadata": {
        "id": "0Snh4u_h8Aoc"
      },
      "execution_count": null,
      "outputs": []
    },
    {
      "cell_type": "code",
      "source": [
        "%cd /content/drive/MyDrive/binfo1-work\n",
        "import pandas as pd\n",
        "import numpy as np\n",
        "import matplotlib.pyplot as plt\n",
        "import re\n",
        "from collections import Counter"
      ],
      "metadata": {
        "colab": {
          "base_uri": "https://localhost:8080/"
        },
        "id": "9U1Qqj-B-Z3I",
        "outputId": "be095de6-67ec-4aff-bf51-b92e59eef161"
      },
      "execution_count": 172,
      "outputs": [
        {
          "output_type": "stream",
          "name": "stdout",
          "text": [
            "/content/drive/MyDrive/binfo1-work\n"
          ]
        }
      ]
    },
    {
      "cell_type": "code",
      "source": [
        "subpup = pd.read_csv('subpup2.csv')"
      ],
      "metadata": {
        "id": "evV1kaIf8LuL"
      },
      "execution_count": 178,
      "outputs": []
    },
    {
      "cell_type": "code",
      "source": [
        "start = 3038669\n",
        "end = 124252776\n",
        "\n",
        "subpup_sorted = set(subpup['pos'])\n",
        "\n",
        "with open('subpup_regions.csv', 'w') as f:\n",
        "    f.write('Start,End,Length\\n')\n",
        "\n",
        "    missing_start = None\n",
        "    missing_end = None\n",
        "    for pos in range(start, end + 1):\n",
        "        if pos not in subpup_sorted:\n",
        "            if missing_start is None:\n",
        "                missing_start = pos\n",
        "            missing_end = pos\n",
        "        elif missing_start is not None:\n",
        "            length = missing_end - missing_start + 1\n",
        "            if length >= 15511 and length < 220000:\n",
        "                f.write(f'{missing_start},{missing_end},{length}\\n')\n",
        "            missing_start = None\n",
        "            missing_end = None\n",
        "\n",
        "    if missing_start is not None:\n",
        "        length = missing_end - missing_start + 1\n",
        "        if length >= 15511 and length < 220000:\n",
        "            f.write(f'{missing_start},{missing_end},{length}\\n')"
      ],
      "metadata": {
        "id": "9Jqxm-W7-4PW"
      },
      "execution_count": null,
      "outputs": []
    },
    {
      "cell_type": "code",
      "source": [
        "region = pd.read_csv('subpup_regions.csv')\n",
        "region['Length'] = region['End'] - region['Start'] + 1\n",
        "region.sort_values(by='Length').head(35)"
      ],
      "metadata": {
        "id": "U8iDJa4c_LC4"
      },
      "execution_count": null,
      "outputs": []
    },
    {
      "cell_type": "code",
      "source": [
        "region['1e7'] = round(region['Start']/1e7,0)\n",
        "counts = np.unique(region['1e7'], return_counts=True)\n",
        "counts = pd.DataFrame(counts)\n",
        "counts.index = ['1e7','regions']\n",
        "counts.reset_index(inplace=True)\n",
        "counts = counts.transpose()\n",
        "counts.columns = counts.iloc[0]\n",
        "counts = counts.iloc[1:]\n",
        "hicounts = counts[counts['regions']>=10]\n",
        "hicounts.sort_values(by='regions', ascending=False)"
      ],
      "metadata": {
        "colab": {
          "base_uri": "https://localhost:8080/",
          "height": 175
        },
        "id": "v74DbM61EIzg",
        "outputId": "5442f680-3661-4477-ca55-fd2840302e5d"
      },
      "execution_count": null,
      "outputs": [
        {
          "output_type": "execute_result",
          "data": {
            "text/plain": [
              "index   1e7 regions\n",
              "10     11.0    29.0\n",
              "7       7.0    24.0\n",
              "9      10.0    14.0\n",
              "6       6.0    12.0"
            ],
            "text/html": [
              "\n",
              "  <div id=\"df-2ef3e975-dec1-401f-bc9c-7e8b0bf8ab65\">\n",
              "    <div class=\"colab-df-container\">\n",
              "      <div>\n",
              "<style scoped>\n",
              "    .dataframe tbody tr th:only-of-type {\n",
              "        vertical-align: middle;\n",
              "    }\n",
              "\n",
              "    .dataframe tbody tr th {\n",
              "        vertical-align: top;\n",
              "    }\n",
              "\n",
              "    .dataframe thead th {\n",
              "        text-align: right;\n",
              "    }\n",
              "</style>\n",
              "<table border=\"1\" class=\"dataframe\">\n",
              "  <thead>\n",
              "    <tr style=\"text-align: right;\">\n",
              "      <th>index</th>\n",
              "      <th>1e7</th>\n",
              "      <th>regions</th>\n",
              "    </tr>\n",
              "  </thead>\n",
              "  <tbody>\n",
              "    <tr>\n",
              "      <th>10</th>\n",
              "      <td>11.0</td>\n",
              "      <td>29.0</td>\n",
              "    </tr>\n",
              "    <tr>\n",
              "      <th>7</th>\n",
              "      <td>7.0</td>\n",
              "      <td>24.0</td>\n",
              "    </tr>\n",
              "    <tr>\n",
              "      <th>9</th>\n",
              "      <td>10.0</td>\n",
              "      <td>14.0</td>\n",
              "    </tr>\n",
              "    <tr>\n",
              "      <th>6</th>\n",
              "      <td>6.0</td>\n",
              "      <td>12.0</td>\n",
              "    </tr>\n",
              "  </tbody>\n",
              "</table>\n",
              "</div>\n",
              "      <button class=\"colab-df-convert\" onclick=\"convertToInteractive('df-2ef3e975-dec1-401f-bc9c-7e8b0bf8ab65')\"\n",
              "              title=\"Convert this dataframe to an interactive table.\"\n",
              "              style=\"display:none;\">\n",
              "        \n",
              "  <svg xmlns=\"http://www.w3.org/2000/svg\" height=\"24px\"viewBox=\"0 0 24 24\"\n",
              "       width=\"24px\">\n",
              "    <path d=\"M0 0h24v24H0V0z\" fill=\"none\"/>\n",
              "    <path d=\"M18.56 5.44l.94 2.06.94-2.06 2.06-.94-2.06-.94-.94-2.06-.94 2.06-2.06.94zm-11 1L8.5 8.5l.94-2.06 2.06-.94-2.06-.94L8.5 2.5l-.94 2.06-2.06.94zm10 10l.94 2.06.94-2.06 2.06-.94-2.06-.94-.94-2.06-.94 2.06-2.06.94z\"/><path d=\"M17.41 7.96l-1.37-1.37c-.4-.4-.92-.59-1.43-.59-.52 0-1.04.2-1.43.59L10.3 9.45l-7.72 7.72c-.78.78-.78 2.05 0 2.83L4 21.41c.39.39.9.59 1.41.59.51 0 1.02-.2 1.41-.59l7.78-7.78 2.81-2.81c.8-.78.8-2.07 0-2.86zM5.41 20L4 18.59l7.72-7.72 1.47 1.35L5.41 20z\"/>\n",
              "  </svg>\n",
              "      </button>\n",
              "      \n",
              "  <style>\n",
              "    .colab-df-container {\n",
              "      display:flex;\n",
              "      flex-wrap:wrap;\n",
              "      gap: 12px;\n",
              "    }\n",
              "\n",
              "    .colab-df-convert {\n",
              "      background-color: #E8F0FE;\n",
              "      border: none;\n",
              "      border-radius: 50%;\n",
              "      cursor: pointer;\n",
              "      display: none;\n",
              "      fill: #1967D2;\n",
              "      height: 32px;\n",
              "      padding: 0 0 0 0;\n",
              "      width: 32px;\n",
              "    }\n",
              "\n",
              "    .colab-df-convert:hover {\n",
              "      background-color: #E2EBFA;\n",
              "      box-shadow: 0px 1px 2px rgba(60, 64, 67, 0.3), 0px 1px 3px 1px rgba(60, 64, 67, 0.15);\n",
              "      fill: #174EA6;\n",
              "    }\n",
              "\n",
              "    [theme=dark] .colab-df-convert {\n",
              "      background-color: #3B4455;\n",
              "      fill: #D2E3FC;\n",
              "    }\n",
              "\n",
              "    [theme=dark] .colab-df-convert:hover {\n",
              "      background-color: #434B5C;\n",
              "      box-shadow: 0px 1px 3px 1px rgba(0, 0, 0, 0.15);\n",
              "      filter: drop-shadow(0px 1px 2px rgba(0, 0, 0, 0.3));\n",
              "      fill: #FFFFFF;\n",
              "    }\n",
              "  </style>\n",
              "\n",
              "      <script>\n",
              "        const buttonEl =\n",
              "          document.querySelector('#df-2ef3e975-dec1-401f-bc9c-7e8b0bf8ab65 button.colab-df-convert');\n",
              "        buttonEl.style.display =\n",
              "          google.colab.kernel.accessAllowed ? 'block' : 'none';\n",
              "\n",
              "        async function convertToInteractive(key) {\n",
              "          const element = document.querySelector('#df-2ef3e975-dec1-401f-bc9c-7e8b0bf8ab65');\n",
              "          const dataTable =\n",
              "            await google.colab.kernel.invokeFunction('convertToInteractive',\n",
              "                                                     [key], {});\n",
              "          if (!dataTable) return;\n",
              "\n",
              "          const docLinkHtml = 'Like what you see? Visit the ' +\n",
              "            '<a target=\"_blank\" href=https://colab.research.google.com/notebooks/data_table.ipynb>data table notebook</a>'\n",
              "            + ' to learn more about interactive tables.';\n",
              "          element.innerHTML = '';\n",
              "          dataTable['output_type'] = 'display_data';\n",
              "          await google.colab.output.renderOutput(dataTable, element);\n",
              "          const docLink = document.createElement('div');\n",
              "          docLink.innerHTML = docLinkHtml;\n",
              "          element.appendChild(docLink);\n",
              "        }\n",
              "      </script>\n",
              "    </div>\n",
              "  </div>\n",
              "  "
            ]
          },
          "metadata": {},
          "execution_count": 137
        }
      ]
    },
    {
      "cell_type": "code",
      "source": [
        "region[(region['1e7']>10) & (region['1e7']<12) ] "
      ],
      "metadata": {
        "colab": {
          "base_uri": "https://localhost:8080/",
          "height": 958
        },
        "id": "z87ZZK-9KGCQ",
        "outputId": "45571d38-a8e1-46f2-809a-99fa3269e3e0"
      },
      "execution_count": null,
      "outputs": [
        {
          "output_type": "execute_result",
          "data": {
            "text/plain": [
              "         Start        End  Length   1e7\n",
              "89   105532209  105564621   32413  11.0\n",
              "90   106067025  106092307   25283  11.0\n",
              "91   106716270  106751272   35003  11.0\n",
              "92   107447731  107469519   21789  11.0\n",
              "93   107470072  107644134  174063  11.0\n",
              "94   108177083  108204797   27715  11.0\n",
              "95   108217418  108249797   32380  11.0\n",
              "96   108249799  108269159   19361  11.0\n",
              "97   108269161  108359082   89922  11.0\n",
              "98   108392337  108437731   45395  11.0\n",
              "99   108442704  108605443  162740  11.0\n",
              "100  108626463  108766223  139761  11.0\n",
              "101  108778618  108938283  159666  11.0\n",
              "102  109722885  109808059   85175  11.0\n",
              "103  109808091  109864101   56011  11.0\n",
              "104  109864117  109892092   27976  11.0\n",
              "105  109892106  109911876   19771  11.0\n",
              "106  109912729  109964645   51917  11.0\n",
              "107  109968670  109986355   17686  11.0\n",
              "108  110035156  110067020   31865  11.0\n",
              "109  110076095  110110348   34254  11.0\n",
              "110  110403194  110421478   18285  11.0\n",
              "111  110421501  110444010   22510  11.0\n",
              "112  110809951  111022185  212235  11.0\n",
              "113  111028752  111052345   23594  11.0\n",
              "114  113595693  113709200  113508  11.0\n",
              "115  113719096  113747999   28904  11.0\n",
              "116  113748572  113804900   56329  11.0\n",
              "117  114259520  114288709   29190  11.0"
            ],
            "text/html": [
              "\n",
              "  <div id=\"df-dc34e50a-355b-4713-8f40-24fed7d420d4\">\n",
              "    <div class=\"colab-df-container\">\n",
              "      <div>\n",
              "<style scoped>\n",
              "    .dataframe tbody tr th:only-of-type {\n",
              "        vertical-align: middle;\n",
              "    }\n",
              "\n",
              "    .dataframe tbody tr th {\n",
              "        vertical-align: top;\n",
              "    }\n",
              "\n",
              "    .dataframe thead th {\n",
              "        text-align: right;\n",
              "    }\n",
              "</style>\n",
              "<table border=\"1\" class=\"dataframe\">\n",
              "  <thead>\n",
              "    <tr style=\"text-align: right;\">\n",
              "      <th></th>\n",
              "      <th>Start</th>\n",
              "      <th>End</th>\n",
              "      <th>Length</th>\n",
              "      <th>1e7</th>\n",
              "    </tr>\n",
              "  </thead>\n",
              "  <tbody>\n",
              "    <tr>\n",
              "      <th>89</th>\n",
              "      <td>105532209</td>\n",
              "      <td>105564621</td>\n",
              "      <td>32413</td>\n",
              "      <td>11.0</td>\n",
              "    </tr>\n",
              "    <tr>\n",
              "      <th>90</th>\n",
              "      <td>106067025</td>\n",
              "      <td>106092307</td>\n",
              "      <td>25283</td>\n",
              "      <td>11.0</td>\n",
              "    </tr>\n",
              "    <tr>\n",
              "      <th>91</th>\n",
              "      <td>106716270</td>\n",
              "      <td>106751272</td>\n",
              "      <td>35003</td>\n",
              "      <td>11.0</td>\n",
              "    </tr>\n",
              "    <tr>\n",
              "      <th>92</th>\n",
              "      <td>107447731</td>\n",
              "      <td>107469519</td>\n",
              "      <td>21789</td>\n",
              "      <td>11.0</td>\n",
              "    </tr>\n",
              "    <tr>\n",
              "      <th>93</th>\n",
              "      <td>107470072</td>\n",
              "      <td>107644134</td>\n",
              "      <td>174063</td>\n",
              "      <td>11.0</td>\n",
              "    </tr>\n",
              "    <tr>\n",
              "      <th>94</th>\n",
              "      <td>108177083</td>\n",
              "      <td>108204797</td>\n",
              "      <td>27715</td>\n",
              "      <td>11.0</td>\n",
              "    </tr>\n",
              "    <tr>\n",
              "      <th>95</th>\n",
              "      <td>108217418</td>\n",
              "      <td>108249797</td>\n",
              "      <td>32380</td>\n",
              "      <td>11.0</td>\n",
              "    </tr>\n",
              "    <tr>\n",
              "      <th>96</th>\n",
              "      <td>108249799</td>\n",
              "      <td>108269159</td>\n",
              "      <td>19361</td>\n",
              "      <td>11.0</td>\n",
              "    </tr>\n",
              "    <tr>\n",
              "      <th>97</th>\n",
              "      <td>108269161</td>\n",
              "      <td>108359082</td>\n",
              "      <td>89922</td>\n",
              "      <td>11.0</td>\n",
              "    </tr>\n",
              "    <tr>\n",
              "      <th>98</th>\n",
              "      <td>108392337</td>\n",
              "      <td>108437731</td>\n",
              "      <td>45395</td>\n",
              "      <td>11.0</td>\n",
              "    </tr>\n",
              "    <tr>\n",
              "      <th>99</th>\n",
              "      <td>108442704</td>\n",
              "      <td>108605443</td>\n",
              "      <td>162740</td>\n",
              "      <td>11.0</td>\n",
              "    </tr>\n",
              "    <tr>\n",
              "      <th>100</th>\n",
              "      <td>108626463</td>\n",
              "      <td>108766223</td>\n",
              "      <td>139761</td>\n",
              "      <td>11.0</td>\n",
              "    </tr>\n",
              "    <tr>\n",
              "      <th>101</th>\n",
              "      <td>108778618</td>\n",
              "      <td>108938283</td>\n",
              "      <td>159666</td>\n",
              "      <td>11.0</td>\n",
              "    </tr>\n",
              "    <tr>\n",
              "      <th>102</th>\n",
              "      <td>109722885</td>\n",
              "      <td>109808059</td>\n",
              "      <td>85175</td>\n",
              "      <td>11.0</td>\n",
              "    </tr>\n",
              "    <tr>\n",
              "      <th>103</th>\n",
              "      <td>109808091</td>\n",
              "      <td>109864101</td>\n",
              "      <td>56011</td>\n",
              "      <td>11.0</td>\n",
              "    </tr>\n",
              "    <tr>\n",
              "      <th>104</th>\n",
              "      <td>109864117</td>\n",
              "      <td>109892092</td>\n",
              "      <td>27976</td>\n",
              "      <td>11.0</td>\n",
              "    </tr>\n",
              "    <tr>\n",
              "      <th>105</th>\n",
              "      <td>109892106</td>\n",
              "      <td>109911876</td>\n",
              "      <td>19771</td>\n",
              "      <td>11.0</td>\n",
              "    </tr>\n",
              "    <tr>\n",
              "      <th>106</th>\n",
              "      <td>109912729</td>\n",
              "      <td>109964645</td>\n",
              "      <td>51917</td>\n",
              "      <td>11.0</td>\n",
              "    </tr>\n",
              "    <tr>\n",
              "      <th>107</th>\n",
              "      <td>109968670</td>\n",
              "      <td>109986355</td>\n",
              "      <td>17686</td>\n",
              "      <td>11.0</td>\n",
              "    </tr>\n",
              "    <tr>\n",
              "      <th>108</th>\n",
              "      <td>110035156</td>\n",
              "      <td>110067020</td>\n",
              "      <td>31865</td>\n",
              "      <td>11.0</td>\n",
              "    </tr>\n",
              "    <tr>\n",
              "      <th>109</th>\n",
              "      <td>110076095</td>\n",
              "      <td>110110348</td>\n",
              "      <td>34254</td>\n",
              "      <td>11.0</td>\n",
              "    </tr>\n",
              "    <tr>\n",
              "      <th>110</th>\n",
              "      <td>110403194</td>\n",
              "      <td>110421478</td>\n",
              "      <td>18285</td>\n",
              "      <td>11.0</td>\n",
              "    </tr>\n",
              "    <tr>\n",
              "      <th>111</th>\n",
              "      <td>110421501</td>\n",
              "      <td>110444010</td>\n",
              "      <td>22510</td>\n",
              "      <td>11.0</td>\n",
              "    </tr>\n",
              "    <tr>\n",
              "      <th>112</th>\n",
              "      <td>110809951</td>\n",
              "      <td>111022185</td>\n",
              "      <td>212235</td>\n",
              "      <td>11.0</td>\n",
              "    </tr>\n",
              "    <tr>\n",
              "      <th>113</th>\n",
              "      <td>111028752</td>\n",
              "      <td>111052345</td>\n",
              "      <td>23594</td>\n",
              "      <td>11.0</td>\n",
              "    </tr>\n",
              "    <tr>\n",
              "      <th>114</th>\n",
              "      <td>113595693</td>\n",
              "      <td>113709200</td>\n",
              "      <td>113508</td>\n",
              "      <td>11.0</td>\n",
              "    </tr>\n",
              "    <tr>\n",
              "      <th>115</th>\n",
              "      <td>113719096</td>\n",
              "      <td>113747999</td>\n",
              "      <td>28904</td>\n",
              "      <td>11.0</td>\n",
              "    </tr>\n",
              "    <tr>\n",
              "      <th>116</th>\n",
              "      <td>113748572</td>\n",
              "      <td>113804900</td>\n",
              "      <td>56329</td>\n",
              "      <td>11.0</td>\n",
              "    </tr>\n",
              "    <tr>\n",
              "      <th>117</th>\n",
              "      <td>114259520</td>\n",
              "      <td>114288709</td>\n",
              "      <td>29190</td>\n",
              "      <td>11.0</td>\n",
              "    </tr>\n",
              "  </tbody>\n",
              "</table>\n",
              "</div>\n",
              "      <button class=\"colab-df-convert\" onclick=\"convertToInteractive('df-dc34e50a-355b-4713-8f40-24fed7d420d4')\"\n",
              "              title=\"Convert this dataframe to an interactive table.\"\n",
              "              style=\"display:none;\">\n",
              "        \n",
              "  <svg xmlns=\"http://www.w3.org/2000/svg\" height=\"24px\"viewBox=\"0 0 24 24\"\n",
              "       width=\"24px\">\n",
              "    <path d=\"M0 0h24v24H0V0z\" fill=\"none\"/>\n",
              "    <path d=\"M18.56 5.44l.94 2.06.94-2.06 2.06-.94-2.06-.94-.94-2.06-.94 2.06-2.06.94zm-11 1L8.5 8.5l.94-2.06 2.06-.94-2.06-.94L8.5 2.5l-.94 2.06-2.06.94zm10 10l.94 2.06.94-2.06 2.06-.94-2.06-.94-.94-2.06-.94 2.06-2.06.94z\"/><path d=\"M17.41 7.96l-1.37-1.37c-.4-.4-.92-.59-1.43-.59-.52 0-1.04.2-1.43.59L10.3 9.45l-7.72 7.72c-.78.78-.78 2.05 0 2.83L4 21.41c.39.39.9.59 1.41.59.51 0 1.02-.2 1.41-.59l7.78-7.78 2.81-2.81c.8-.78.8-2.07 0-2.86zM5.41 20L4 18.59l7.72-7.72 1.47 1.35L5.41 20z\"/>\n",
              "  </svg>\n",
              "      </button>\n",
              "      \n",
              "  <style>\n",
              "    .colab-df-container {\n",
              "      display:flex;\n",
              "      flex-wrap:wrap;\n",
              "      gap: 12px;\n",
              "    }\n",
              "\n",
              "    .colab-df-convert {\n",
              "      background-color: #E8F0FE;\n",
              "      border: none;\n",
              "      border-radius: 50%;\n",
              "      cursor: pointer;\n",
              "      display: none;\n",
              "      fill: #1967D2;\n",
              "      height: 32px;\n",
              "      padding: 0 0 0 0;\n",
              "      width: 32px;\n",
              "    }\n",
              "\n",
              "    .colab-df-convert:hover {\n",
              "      background-color: #E2EBFA;\n",
              "      box-shadow: 0px 1px 2px rgba(60, 64, 67, 0.3), 0px 1px 3px 1px rgba(60, 64, 67, 0.15);\n",
              "      fill: #174EA6;\n",
              "    }\n",
              "\n",
              "    [theme=dark] .colab-df-convert {\n",
              "      background-color: #3B4455;\n",
              "      fill: #D2E3FC;\n",
              "    }\n",
              "\n",
              "    [theme=dark] .colab-df-convert:hover {\n",
              "      background-color: #434B5C;\n",
              "      box-shadow: 0px 1px 3px 1px rgba(0, 0, 0, 0.15);\n",
              "      filter: drop-shadow(0px 1px 2px rgba(0, 0, 0, 0.3));\n",
              "      fill: #FFFFFF;\n",
              "    }\n",
              "  </style>\n",
              "\n",
              "      <script>\n",
              "        const buttonEl =\n",
              "          document.querySelector('#df-dc34e50a-355b-4713-8f40-24fed7d420d4 button.colab-df-convert');\n",
              "        buttonEl.style.display =\n",
              "          google.colab.kernel.accessAllowed ? 'block' : 'none';\n",
              "\n",
              "        async function convertToInteractive(key) {\n",
              "          const element = document.querySelector('#df-dc34e50a-355b-4713-8f40-24fed7d420d4');\n",
              "          const dataTable =\n",
              "            await google.colab.kernel.invokeFunction('convertToInteractive',\n",
              "                                                     [key], {});\n",
              "          if (!dataTable) return;\n",
              "\n",
              "          const docLinkHtml = 'Like what you see? Visit the ' +\n",
              "            '<a target=\"_blank\" href=https://colab.research.google.com/notebooks/data_table.ipynb>data table notebook</a>'\n",
              "            + ' to learn more about interactive tables.';\n",
              "          element.innerHTML = '';\n",
              "          dataTable['output_type'] = 'display_data';\n",
              "          await google.colab.output.renderOutput(dataTable, element);\n",
              "          const docLink = document.createElement('div');\n",
              "          docLink.innerHTML = docLinkHtml;\n",
              "          element.appendChild(docLink);\n",
              "        }\n",
              "      </script>\n",
              "    </div>\n",
              "  </div>\n",
              "  "
            ]
          },
          "metadata": {},
          "execution_count": 141
        }
      ]
    },
    {
      "cell_type": "code",
      "source": [
        "# start = 3038669\n",
        "# end = 124252776\n",
        "# pos = subpup['pos'].sort_values()\n",
        "\n",
        "# whole = set(range(start, end+1))\n",
        "\n",
        "# missing = sorted(list(whole - set(pos)))\n",
        "\n",
        "# startpos = []\n",
        "# endpos = []\n",
        "\n",
        "# for i in range(len(missing)):\n",
        "#     if i == 0:\n",
        "#         startpos.append(missing[i])\n",
        "#     elif missing[i] != missing[i-1] + 1:\n",
        "#         endpos.append(missing[i-1])\n",
        "#         startpos.append(missing[i])\n",
        "\n",
        "# if len(missing) > 0:\n",
        "#     endpos.append(missing[-1])\n",
        "\n",
        "# region = pd.DataFrame({\n",
        "#     'Start': startpos,\n",
        "#     'End': endpos\n",
        "# })\n",
        "\n",
        "# region['Length'] = region['End'] - region['Start'] + 1\n",
        "# region.head()\n"
      ],
      "metadata": {
        "id": "QGulVv6c1Q4O"
      },
      "execution_count": null,
      "outputs": []
    },
    {
      "cell_type": "markdown",
      "source": [
        "106067016\t106092310"
      ],
      "metadata": {
        "id": "rlxHarmLXH3w"
      }
    },
    {
      "cell_type": "code",
      "source": [
        "plt.plot(subpup['pos'], subpup['shannon'])\n",
        "plt.xlabel('Position')\n",
        "plt.ylabel('Shannon Entropy')\n",
        "plt.title('Shannon Entropy by Position in Pileup Data')\n",
        "plt.xlim(106063000,106097000)\n",
        "plt.axvline(106066000, c='red', linewidth=1)\n",
        "plt.axvline(106093000, c='red', linewidth=1)\n",
        "plt.show()"
      ],
      "metadata": {
        "colab": {
          "base_uri": "https://localhost:8080/",
          "height": 472
        },
        "id": "CqIc3d0Wf87y",
        "outputId": "b8ecdca4-6abf-4889-87cd-a6c61a954be0"
      },
      "execution_count": 188,
      "outputs": [
        {
          "output_type": "display_data",
          "data": {
            "text/plain": [
              "<Figure size 640x480 with 1 Axes>"
            ],
            "image/png": "[encoded data removed]"
          },
          "metadata": {}
        }
      ]
    },
    {
      "cell_type": "code",
      "source": [
        "plt.plot(subpup['pos'], subpup['shannon'])\n",
        "plt.xlabel('Position')\n",
        "plt.ylabel('Shannon Entropy')\n",
        "plt.title('Shannon Entropy by Position in Pileup Data')\n",
        "plt.xlim(106063000,106097000)\n",
        "plt.axvline(106066000, c='red', linewidth=1)\n",
        "plt.axvline(106068000, c='red', linewidth=1)\n",
        "plt.show()"
      ],
      "metadata": {
        "colab": {
          "base_uri": "https://localhost:8080/",
          "height": 472
        },
        "id": "qjnk3A43VEN3",
        "outputId": "957825be-e48a-4b12-f3a0-917fcd89a41d"
      },
      "execution_count": 190,
      "outputs": [
        {
          "output_type": "display_data",
          "data": {
            "text/plain": [
              "<Figure size 640x480 with 1 Axes>"
            ],
            "image/png": "[encoded data removed]"
          },
          "metadata": {}
        }
      ]
    },
    {
      "cell_type": "code",
      "source": [
        "subpup2 = pup[(pup['pos'] > 106066500) & (pup['pos'] < 106068500)]\n",
        "len(subpup2)"
      ],
      "metadata": {
        "colab": {
          "base_uri": "https://localhost:8080/"
        },
        "id": "EGjv-EhhXvjq",
        "outputId": "bf58053c-bc2d-456f-df11-59fcc0fc2e8d"
      },
      "execution_count": null,
      "outputs": [
        {
          "output_type": "execute_result",
          "data": {
            "text/plain": [
              "123"
            ]
          },
          "metadata": {},
          "execution_count": 86
        }
      ]
    },
    {
      "cell_type": "code",
      "source": [
        "plt.scatter(subpup['pos'], subpup['shannon'],s=1)\n",
        "plt.xlabel('Position')\n",
        "plt.ylabel('Shannon Entropy')\n",
        "plt.title('Shannon Entropy by Position in Pileup Data')\n",
        "plt.xlim(63000000,65000000)\n",
        "plt.show()"
      ],
      "metadata": {
        "colab": {
          "base_uri": "https://localhost:8080/",
          "height": 472
        },
        "id": "bug0dc7fzOA8",
        "outputId": "44454e17-5a3c-4e73-c35d-4db775eff215"
      },
      "execution_count": null,
      "outputs": [
        {
          "output_type": "display_data",
          "data": {
            "text/plain": [
              "<Figure size 640x480 with 1 Axes>"
            ],
            "image/png": "[encoded data removed]"
          },
          "metadata": {}
        }
      ]
    },
    {
      "cell_type": "code",
      "source": [
        "plt.scatter(subpup['pos'], subpup['shannon'],s=1)\n",
        "plt.xlabel('Position')\n",
        "plt.ylabel('Shannon Entropy')\n",
        "plt.title('Shannon Entropy by Position in Pileup Data')\n",
        "plt.xlim(120600000,121000000)\n",
        "plt.axvline(120775000, c='red', linewidth=1)\n",
        "plt.axvline(120795000, c='red', linewidth=1)\n",
        "plt.show()"
      ],
      "metadata": {
        "colab": {
          "base_uri": "https://localhost:8080/",
          "height": 472
        },
        "id": "lZtkt9az7Ijf",
        "outputId": "2f789269-434b-42c4-dc16-7faf8c38f2d5"
      },
      "execution_count": null,
      "outputs": [
        {
          "output_type": "display_data",
          "data": {
            "text/plain": [
              "<Figure size 640x480 with 1 Axes>"
            ],
            "image/png": "[encoded data removed]"
          },
          "metadata": {}
        }
      ]
    },
    {
      "cell_type": "code",
      "source": [
        "plt.scatter(subpup['pos'], subpup['shannon'],s=1)\n",
        "plt.xlabel('Position')\n",
        "plt.ylabel('Shannon Entropy')\n",
        "plt.title('Shannon Entropy by Position in Pileup Data')\n",
        "plt.xlim(120600000,121000000)\n",
        "plt.show()"
      ],
      "metadata": {
        "colab": {
          "base_uri": "https://localhost:8080/",
          "height": 472
        },
        "id": "jl38deFwmsE_",
        "outputId": "935527a8-a761-4ede-deb1-1eff42b408ce"
      },
      "execution_count": null,
      "outputs": [
        {
          "output_type": "display_data",
          "data": {
            "text/plain": [
              "<Figure size 640x480 with 1 Axes>"
            ],
            "image/png": "[encoded data removed]"
          },
          "metadata": {}
        }
      ]
    },
    {
      "cell_type": "code",
      "source": [
        "subpup2 = pup[(pup['shannon'] > 0.8) & (pup['pos'] > 1.206e8) & (pup['pos'] < 1.210e8)]\n",
        "len(subpup2)"
      ],
      "metadata": {
        "id": "g-llClCEBjJl",
        "colab": {
          "base_uri": "https://localhost:8080/"
        },
        "outputId": "4db31602-c86b-4f90-efdc-0089b90c4ed2"
      },
      "execution_count": null,
      "outputs": [
        {
          "output_type": "execute_result",
          "data": {
            "text/plain": [
              "15"
            ]
          },
          "metadata": {},
          "execution_count": 120
        }
      ]
    },
    {
      "cell_type": "code",
      "source": [
        "plt.scatter(subpup['pos'], subpup['shannon'],s=1)\n",
        "plt.xlabel('Position')\n",
        "plt.ylabel('Shannon Entropy')\n",
        "plt.title('Shannon Entropy by Position in Pileup Data')\n",
        "plt.xlim(110200000,110600000)\n",
        "plt.axvline(110370000, c='red', linewidth=1)\n",
        "plt.axvline(110390000, c='red', linewidth=1)\n",
        "plt.show()"
      ],
      "metadata": {
        "colab": {
          "base_uri": "https://localhost:8080/",
          "height": 472
        },
        "id": "v4HJnpjH7LLk",
        "outputId": "2dcdabe9-dcc9-4f09-c69a-1ae5e210ca78"
      },
      "execution_count": null,
      "outputs": [
        {
          "output_type": "display_data",
          "data": {
            "text/plain": [
              "<Figure size 640x480 with 1 Axes>"
            ],
            "image/png": "[encoded data removed]"
          },
          "metadata": {}
        }
      ]
    },
    {
      "cell_type": "code",
      "source": [
        "subpup3 = pup[(pup['shannon'] > 0.8) & (pup['pos'] > 1.1037e8) & (pup['pos'] < 1.1039e8)]\n",
        "len(subpup3)"
      ],
      "metadata": {
        "colab": {
          "base_uri": "https://localhost:8080/"
        },
        "id": "BgzNOUVi8Ov8",
        "outputId": "e0618f20-2032-4f5b-d4b9-c2ba7d3ecc7d"
      },
      "execution_count": null,
      "outputs": [
        {
          "output_type": "execute_result",
          "data": {
            "text/plain": [
              "15"
            ]
          },
          "metadata": {},
          "execution_count": 107
        }
      ]
    },
    {
      "cell_type": "code",
      "source": [
        "subpup2"
      ],
      "metadata": {
        "colab": {
          "base_uri": "https://localhost:8080/",
          "height": 601
        },
        "id": "jWwCGM6fvVLU",
        "outputId": "8dccc4f2-85e9-4d31-fc7c-d9d9cc873a81"
      },
      "execution_count": null,
      "outputs": [
        {
          "output_type": "execute_result",
          "data": {
            "text/plain": [
              "         chrom        pos ref  count  \\\n",
              "17515495  chr9  120780456   N    187   \n",
              "17515596  chr9  120780557   N    198   \n",
              "17515609  chr9  120780570   N    192   \n",
              "17515827  chr9  120780788   N    150   \n",
              "17517027  chr9  120781988   N    172   \n",
              "17521665  chr9  120786626   N    105   \n",
              "17521759  chr9  120786720   N    123   \n",
              "17521938  chr9  120786899   N    240   \n",
              "17522737  chr9  120787698   N    221   \n",
              "17524232  chr9  120789196   N     69   \n",
              "17524269  chr9  120789233   N     85   \n",
              "17524357  chr9  120789321   N    103   \n",
              "17524406  chr9  120789370   N     81   \n",
              "17524407  chr9  120789371   N     80   \n",
              "17524567  chr9  120789531   N    233   \n",
              "\n",
              "                                                  basereads  \\\n",
              "17515495  >>>>GGGGGGGGGGGAGGGGAGGGGAGGGAGGAATTTTGTGTTTGT...   \n",
              "17515596  >>>>GGGGGGGCGGGG-2NNGCGGAGGCGGGGGGAGGGGGGGGGGG...   \n",
              "17515609  >>>>GGGGGGGGGGGGGGGGGGAGGGGGGGGGGGGAGGGGGGGGGG...   \n",
              "17515827  >>>>GGGGGGGGGGGGGGGGGGGGGGGGGGGGGAGGGGAGGGGGGG...   \n",
              "17517027  >>>>GAGTGGAATGTGGTAAGTTGTAAAAAAGAAGGGGGGGGGGGG...   \n",
              "17521665  GGGGGGGAAAAAAAAAAAAAAAAACGGGACGAGCAAGGCCGCGGGC...   \n",
              "17521759  GGGGGGGGGGGGGGGGGGGGGGGGGGGGGGGGGGGGGGGGGGGGGG...   \n",
              "17521938  GGGGGGGGGGGGGGGGGGGGGGGGGGGGGGGGGGGGGGGGCGGGGG...   \n",
              "17522737  CCCCCTTCTCTTTCTCTCCCCCCCCCCCCTTTTCCCCCTCTCTTCC...   \n",
              "17524232  GGGGGGGGGGGGGGGGGGGGGGGAAGGGGGGGAGAGGGGAGGAGGA...   \n",
              "17524269  AAAAAAAAAAAAAAAAAAGGGGGGGGGGGGGGGGGGAGGGAGGGGG...   \n",
              "17524357  GGGGGGGGGGA*AGA*GAGAA*A*GGAGGGAGAAG**AGGAGGGGG...   \n",
              "17524406  GGAAAAAAAAAAAAAAAAAAAAAAAAAAAGGGGCGGGGGGGGGGGG...   \n",
              "17524407  GGGGGGGGGGGGGGGGGGGGGGGGGGGGAAAGGGGAGGGAAGCGGA...   \n",
              "17524567  GGGAAAAAAGGGGGGGGCAGGGGGGGGGGCGGGAGAACGGCGGGGG...   \n",
              "\n",
              "                                                      quals  \\\n",
              "17515495  GIDDG@3IGHB:G@GIIHIGHHIBHA?IH=DIHHIGIIHIHIIIGH...   \n",
              "17515596  GIDDAF@7IIHIHG>DICIGG@HIHEHGGGIBGEBFIBHHFGGGHI...   \n",
              "17515609  GIDDIIIDDDH@IGGIHIIHIG?I>GG>DE:IDEBGHHIDGIIGG:...   \n",
              "17515827  GIDDHE@GI=8HDIIIAHIIIIIHHIHBDDBI<IIGIIHFIEAHCE...   \n",
              "17517027  GIDDBGDH8<IDGIHFIHEIBII2GIBIBGBGDDBBEEGCGIG=GH...   \n",
              "17521665  8HI@IDGFIBIG1HGD8HGGHIIBBGBHBHGDEGGIDH5DIGIIBC...   \n",
              "17521759  <GIGII<D?HDID@GHHH>IHEIGIH;G@IGIEEIGIE:BH>IAIE...   \n",
              "17521938  BGEI>?<<IHIICIIEG52HFBEGBB>HAIIBI;@GIIDG@ICHIH...   \n",
              "17522737  DFF8DBCDEGGGD?=I;AHGGGGH?6D;EH5H:AIHG?H?ADIGBH...   \n",
              "17524232  H=DDHFIIHIH>H?GGIGIHFBDHCIHHGEEIHDHIIGII=IHHII...   \n",
              "17524269  HBHGIGGIIEIIEHDGGIGIGIDID<GGGIBI:BIIE@DDHEGIDB...   \n",
              "17524357  BGGIHBDHIDBGDHHI?GIH>I@IH@DIHDIGI>I:DI@FG6GEGI...   \n",
              "17524406  ?FIHGHIIDGIGHHIGI?HDHIIGG=DEG<I4IIGIEHIHDEBIII...   \n",
              "17524407  EIHGHIHGEGBIGGBIFGEHIIGH4DGH<I;IIGI>IIG@DGIIII...   \n",
              "17524567  GEF6GDIHIBDGIDBIDIHHDIIGHHGBH;IBIICIG>GBIGG1EH...   \n",
              "\n",
              "                                                    matches  base_count  \\\n",
              "17515495  GGGGGGGGGGGAGGGGAGGGGAGGGAGGAATTTTGTGTTTGTTGTG...         183   \n",
              "17515596  GGGGGGGCGGGGNNGCGGAGGCGGGGGGAGGGGGGGGGGGGGAACG...         194   \n",
              "17515609  GGGGGGGGGGGGGGGGGGAGGGGGGGGGGGGAGGGGGGGGGGGGGG...         188   \n",
              "17515827  GGGGGGGGGGGGGGGGGGGGGGGGGGGGGAGGGGAGGGGGGGGGGG...         146   \n",
              "17517027  GAGTGGAATGTGGTAAGTTGTAAAAAAGAAGGGGGGGGGGGGGGGG...         168   \n",
              "17521665  GGGGGGGAAAAAAAAAAAAAAAAACGGGACGAGCAAGGCCGCGGGC...         105   \n",
              "17521759  GGGGGGGGGGGGGGGGGGGGGGGGGGGGGGGGGGGGGGGGGGGGGG...         123   \n",
              "17521938  GGGGGGGGGGGGGGGGGGGGGGGGGGGGGGGGGGGGGGGGCGGGGG...         235   \n",
              "17522737  CCCCCTTCTCTTTCTCTCCCCCCCCCCCCTTTTCCCCCTCTCTTCC...         221   \n",
              "17524232  GGGGGGGGGGGGGGGGGGGGGGGAAGGGGGGGAGAGGGGAGGAGGA...          69   \n",
              "17524269  AAAAAAAAAAAAAAAAAAGGGGGGGGGGGGGGGGGGAGGGAGGGGG...          85   \n",
              "17524357  GGGGGGGGGGAAGAGAGAAAGGAGGGAGAAGAGGAGGGGGAAGGAG...          96   \n",
              "17524406  GGAAAAAAAAAAAAAAAAAAAAAAAAAAAGGGGCGGGGGGGGGGGG...          81   \n",
              "17524407  GGGGGGGGGGGGGGGGGGGGGGGGGGGGAAAGGGGAGGGAAGCGGA...          80   \n",
              "17524567  GGGAAAAAAGGGGGGGGCAGGGGGGGGGGCGGGAGAACGGCGGGGG...         233   \n",
              "\n",
              "            countA    countT    countG    countC   shannon  \n",
              "17515495  0.103825  0.060109  0.786885  0.049180  1.068908  \n",
              "17515596  0.087629  0.005155  0.845361  0.061856  0.800197  \n",
              "17515609  0.186170  0.000000  0.739362  0.074468  1.052670  \n",
              "17515827  0.260274  0.061644  0.623288  0.054795  1.407908  \n",
              "17517027  0.172619  0.077381  0.690476  0.059524  1.334387  \n",
              "17521665  0.295238  0.000000  0.561905  0.142857  1.387966  \n",
              "17521759  0.073171  0.000000  0.821138  0.105691  0.852154  \n",
              "17521938  0.148936  0.012766  0.795745  0.042553  0.945588  \n",
              "17522737  0.000000  0.244344  0.000000  0.755656  0.802190  \n",
              "17524232  0.260870  0.000000  0.724638  0.014493  0.930967  \n",
              "17524269  0.364706  0.000000  0.635294  0.000000  0.946520  \n",
              "17524357  0.229167  0.000000  0.572917  0.197917  1.410036  \n",
              "17524406  0.333333  0.000000  0.629630  0.037037  1.124658  \n",
              "17524407  0.275000  0.000000  0.662500  0.062500  1.155717  \n",
              "17524567  0.313305  0.000000  0.613734  0.072961  1.232402  "
            ],
            "text/html": [
              "\n",
              "  <div id=\"df-e35e7579-2d19-40dd-a2f4-2500071724c5\">\n",
              "    <div class=\"colab-df-container\">\n",
              "      <div>\n",
              "<style scoped>\n",
              "    .dataframe tbody tr th:only-of-type {\n",
              "        vertical-align: middle;\n",
              "    }\n",
              "\n",
              "    .dataframe tbody tr th {\n",
              "        vertical-align: top;\n",
              "    }\n",
              "\n",
              "    .dataframe thead th {\n",
              "        text-align: right;\n",
              "    }\n",
              "</style>\n",
              "<table border=\"1\" class=\"dataframe\">\n",
              "  <thead>\n",
              "    <tr style=\"text-align: right;\">\n",
              "      <th></th>\n",
              "      <th>chrom</th>\n",
              "      <th>pos</th>\n",
              "      <th>ref</th>\n",
              "      <th>count</th>\n",
              "      <th>basereads</th>\n",
              "      <th>quals</th>\n",
              "      <th>matches</th>\n",
              "      <th>base_count</th>\n",
              "      <th>countA</th>\n",
              "      <th>countT</th>\n",
              "      <th>countG</th>\n",
              "      <th>countC</th>\n",
              "      <th>shannon</th>\n",
              "    </tr>\n",
              "  </thead>\n",
              "  <tbody>\n",
              "    <tr>\n",
              "      <th>17515495</th>\n",
              "      <td>chr9</td>\n",
              "      <td>120780456</td>\n",
              "      <td>N</td>\n",
              "      <td>187</td>\n",
              "      <td>&gt;&gt;&gt;&gt;GGGGGGGGGGGAGGGGAGGGGAGGGAGGAATTTTGTGTTTGT...</td>\n",
              "      <td>GIDDG@3IGHB:G@GIIHIGHHIBHA?IH=DIHHIGIIHIHIIIGH...</td>\n",
              "      <td>GGGGGGGGGGGAGGGGAGGGGAGGGAGGAATTTTGTGTTTGTTGTG...</td>\n",
              "      <td>183</td>\n",
              "      <td>0.103825</td>\n",
              "      <td>0.060109</td>\n",
              "      <td>0.786885</td>\n",
              "      <td>0.049180</td>\n",
              "      <td>1.068908</td>\n",
              "    </tr>\n",
              "    <tr>\n",
              "      <th>17515596</th>\n",
              "      <td>chr9</td>\n",
              "      <td>120780557</td>\n",
              "      <td>N</td>\n",
              "      <td>198</td>\n",
              "      <td>&gt;&gt;&gt;&gt;GGGGGGGCGGGG-2NNGCGGAGGCGGGGGGAGGGGGGGGGGG...</td>\n",
              "      <td>GIDDAF@7IIHIHG&gt;DICIGG@HIHEHGGGIBGEBFIBHHFGGGHI...</td>\n",
              "      <td>GGGGGGGCGGGGNNGCGGAGGCGGGGGGAGGGGGGGGGGGGGAACG...</td>\n",
              "      <td>194</td>\n",
              "      <td>0.087629</td>\n",
              "      <td>0.005155</td>\n",
              "      <td>0.845361</td>\n",
              "      <td>0.061856</td>\n",
              "      <td>0.800197</td>\n",
              "    </tr>\n",
              "    <tr>\n",
              "      <th>17515609</th>\n",
              "      <td>chr9</td>\n",
              "      <td>120780570</td>\n",
              "      <td>N</td>\n",
              "      <td>192</td>\n",
              "      <td>&gt;&gt;&gt;&gt;GGGGGGGGGGGGGGGGGGAGGGGGGGGGGGGAGGGGGGGGGG...</td>\n",
              "      <td>GIDDIIIDDDH@IGGIHIIHIG?I&gt;GG&gt;DE:IDEBGHHIDGIIGG:...</td>\n",
              "      <td>GGGGGGGGGGGGGGGGGGAGGGGGGGGGGGGAGGGGGGGGGGGGGG...</td>\n",
              "      <td>188</td>\n",
              "      <td>0.186170</td>\n",
              "      <td>0.000000</td>\n",
              "      <td>0.739362</td>\n",
              "      <td>0.074468</td>\n",
              "      <td>1.052670</td>\n",
              "    </tr>\n",
              "    <tr>\n",
              "      <th>17515827</th>\n",
              "      <td>chr9</td>\n",
              "      <td>120780788</td>\n",
              "      <td>N</td>\n",
              "      <td>150</td>\n",
              "      <td>&gt;&gt;&gt;&gt;GGGGGGGGGGGGGGGGGGGGGGGGGGGGGAGGGGAGGGGGGG...</td>\n",
              "      <td>GIDDHE@GI=8HDIIIAHIIIIIHHIHBDDBI&lt;IIGIIHFIEAHCE...</td>\n",
              "      <td>GGGGGGGGGGGGGGGGGGGGGGGGGGGGGAGGGGAGGGGGGGGGGG...</td>\n",
              "      <td>146</td>\n",
              "      <td>0.260274</td>\n",
              "      <td>0.061644</td>\n",
              "      <td>0.623288</td>\n",
              "      <td>0.054795</td>\n",
              "      <td>1.407908</td>\n",
              "    </tr>\n",
              "    <tr>\n",
              "      <th>17517027</th>\n",
              "      <td>chr9</td>\n",
              "      <td>120781988</td>\n",
              "      <td>N</td>\n",
              "      <td>172</td>\n",
              "      <td>&gt;&gt;&gt;&gt;GAGTGGAATGTGGTAAGTTGTAAAAAAGAAGGGGGGGGGGGG...</td>\n",
              "      <td>GIDDBGDH8&lt;IDGIHFIHEIBII2GIBIBGBGDDBBEEGCGIG=GH...</td>\n",
              "      <td>GAGTGGAATGTGGTAAGTTGTAAAAAAGAAGGGGGGGGGGGGGGGG...</td>\n",
              "      <td>168</td>\n",
              "      <td>0.172619</td>\n",
              "      <td>0.077381</td>\n",
              "      <td>0.690476</td>\n",
              "      <td>0.059524</td>\n",
              "      <td>1.334387</td>\n",
              "    </tr>\n",
              "    <tr>\n",
              "      <th>17521665</th>\n",
              "      <td>chr9</td>\n",
              "      <td>120786626</td>\n",
              "      <td>N</td>\n",
              "      <td>105</td>\n",
              "      <td>GGGGGGGAAAAAAAAAAAAAAAAACGGGACGAGCAAGGCCGCGGGC...</td>\n",
              "      <td>8HI@IDGFIBIG1HGD8HGGHIIBBGBHBHGDEGGIDH5DIGIIBC...</td>\n",
              "      <td>GGGGGGGAAAAAAAAAAAAAAAAACGGGACGAGCAAGGCCGCGGGC...</td>\n",
              "      <td>105</td>\n",
              "      <td>0.295238</td>\n",
              "      <td>0.000000</td>\n",
              "      <td>0.561905</td>\n",
              "      <td>0.142857</td>\n",
              "      <td>1.387966</td>\n",
              "    </tr>\n",
              "    <tr>\n",
              "      <th>17521759</th>\n",
              "      <td>chr9</td>\n",
              "      <td>120786720</td>\n",
              "      <td>N</td>\n",
              "      <td>123</td>\n",
              "      <td>GGGGGGGGGGGGGGGGGGGGGGGGGGGGGGGGGGGGGGGGGGGGGG...</td>\n",
              "      <td>&lt;GIGII&lt;D?HDID@GHHH&gt;IHEIGIH;G@IGIEEIGIE:BH&gt;IAIE...</td>\n",
              "      <td>GGGGGGGGGGGGGGGGGGGGGGGGGGGGGGGGGGGGGGGGGGGGGG...</td>\n",
              "      <td>123</td>\n",
              "      <td>0.073171</td>\n",
              "      <td>0.000000</td>\n",
              "      <td>0.821138</td>\n",
              "      <td>0.105691</td>\n",
              "      <td>0.852154</td>\n",
              "    </tr>\n",
              "    <tr>\n",
              "      <th>17521938</th>\n",
              "      <td>chr9</td>\n",
              "      <td>120786899</td>\n",
              "      <td>N</td>\n",
              "      <td>240</td>\n",
              "      <td>GGGGGGGGGGGGGGGGGGGGGGGGGGGGGGGGGGGGGGGGCGGGGG...</td>\n",
              "      <td>BGEI&gt;?&lt;&lt;IHIICIIEG52HFBEGBB&gt;HAIIBI;@GIIDG@ICHIH...</td>\n",
              "      <td>GGGGGGGGGGGGGGGGGGGGGGGGGGGGGGGGGGGGGGGGCGGGGG...</td>\n",
              "      <td>235</td>\n",
              "      <td>0.148936</td>\n",
              "      <td>0.012766</td>\n",
              "      <td>0.795745</td>\n",
              "      <td>0.042553</td>\n",
              "      <td>0.945588</td>\n",
              "    </tr>\n",
              "    <tr>\n",
              "      <th>17522737</th>\n",
              "      <td>chr9</td>\n",
              "      <td>120787698</td>\n",
              "      <td>N</td>\n",
              "      <td>221</td>\n",
              "      <td>CCCCCTTCTCTTTCTCTCCCCCCCCCCCCTTTTCCCCCTCTCTTCC...</td>\n",
              "      <td>DFF8DBCDEGGGD?=I;AHGGGGH?6D;EH5H:AIHG?H?ADIGBH...</td>\n",
              "      <td>CCCCCTTCTCTTTCTCTCCCCCCCCCCCCTTTTCCCCCTCTCTTCC...</td>\n",
              "      <td>221</td>\n",
              "      <td>0.000000</td>\n",
              "      <td>0.244344</td>\n",
              "      <td>0.000000</td>\n",
              "      <td>0.755656</td>\n",
              "      <td>0.802190</td>\n",
              "    </tr>\n",
              "    <tr>\n",
              "      <th>17524232</th>\n",
              "      <td>chr9</td>\n",
              "      <td>120789196</td>\n",
              "      <td>N</td>\n",
              "      <td>69</td>\n",
              "      <td>GGGGGGGGGGGGGGGGGGGGGGGAAGGGGGGGAGAGGGGAGGAGGA...</td>\n",
              "      <td>H=DDHFIIHIH&gt;H?GGIGIHFBDHCIHHGEEIHDHIIGII=IHHII...</td>\n",
              "      <td>GGGGGGGGGGGGGGGGGGGGGGGAAGGGGGGGAGAGGGGAGGAGGA...</td>\n",
              "      <td>69</td>\n",
              "      <td>0.260870</td>\n",
              "      <td>0.000000</td>\n",
              "      <td>0.724638</td>\n",
              "      <td>0.014493</td>\n",
              "      <td>0.930967</td>\n",
              "    </tr>\n",
              "    <tr>\n",
              "      <th>17524269</th>\n",
              "      <td>chr9</td>\n",
              "      <td>120789233</td>\n",
              "      <td>N</td>\n",
              "      <td>85</td>\n",
              "      <td>AAAAAAAAAAAAAAAAAAGGGGGGGGGGGGGGGGGGAGGGAGGGGG...</td>\n",
              "      <td>HBHGIGGIIEIIEHDGGIGIGIDID&lt;GGGIBI:BIIE@DDHEGIDB...</td>\n",
              "      <td>AAAAAAAAAAAAAAAAAAGGGGGGGGGGGGGGGGGGAGGGAGGGGG...</td>\n",
              "      <td>85</td>\n",
              "      <td>0.364706</td>\n",
              "      <td>0.000000</td>\n",
              "      <td>0.635294</td>\n",
              "      <td>0.000000</td>\n",
              "      <td>0.946520</td>\n",
              "    </tr>\n",
              "    <tr>\n",
              "      <th>17524357</th>\n",
              "      <td>chr9</td>\n",
              "      <td>120789321</td>\n",
              "      <td>N</td>\n",
              "      <td>103</td>\n",
              "      <td>GGGGGGGGGGA*AGA*GAGAA*A*GGAGGGAGAAG**AGGAGGGGG...</td>\n",
              "      <td>BGGIHBDHIDBGDHHI?GIH&gt;I@IH@DIHDIGI&gt;I:DI@FG6GEGI...</td>\n",
              "      <td>GGGGGGGGGGAAGAGAGAAAGGAGGGAGAAGAGGAGGGGGAAGGAG...</td>\n",
              "      <td>96</td>\n",
              "      <td>0.229167</td>\n",
              "      <td>0.000000</td>\n",
              "      <td>0.572917</td>\n",
              "      <td>0.197917</td>\n",
              "      <td>1.410036</td>\n",
              "    </tr>\n",
              "    <tr>\n",
              "      <th>17524406</th>\n",
              "      <td>chr9</td>\n",
              "      <td>120789370</td>\n",
              "      <td>N</td>\n",
              "      <td>81</td>\n",
              "      <td>GGAAAAAAAAAAAAAAAAAAAAAAAAAAAGGGGCGGGGGGGGGGGG...</td>\n",
              "      <td>?FIHGHIIDGIGHHIGI?HDHIIGG=DEG&lt;I4IIGIEHIHDEBIII...</td>\n",
              "      <td>GGAAAAAAAAAAAAAAAAAAAAAAAAAAAGGGGCGGGGGGGGGGGG...</td>\n",
              "      <td>81</td>\n",
              "      <td>0.333333</td>\n",
              "      <td>0.000000</td>\n",
              "      <td>0.629630</td>\n",
              "      <td>0.037037</td>\n",
              "      <td>1.124658</td>\n",
              "    </tr>\n",
              "    <tr>\n",
              "      <th>17524407</th>\n",
              "      <td>chr9</td>\n",
              "      <td>120789371</td>\n",
              "      <td>N</td>\n",
              "      <td>80</td>\n",
              "      <td>GGGGGGGGGGGGGGGGGGGGGGGGGGGGAAAGGGGAGGGAAGCGGA...</td>\n",
              "      <td>EIHGHIHGEGBIGGBIFGEHIIGH4DGH&lt;I;IIGI&gt;IIG@DGIIII...</td>\n",
              "      <td>GGGGGGGGGGGGGGGGGGGGGGGGGGGGAAAGGGGAGGGAAGCGGA...</td>\n",
              "      <td>80</td>\n",
              "      <td>0.275000</td>\n",
              "      <td>0.000000</td>\n",
              "      <td>0.662500</td>\n",
              "      <td>0.062500</td>\n",
              "      <td>1.155717</td>\n",
              "    </tr>\n",
              "    <tr>\n",
              "      <th>17524567</th>\n",
              "      <td>chr9</td>\n",
              "      <td>120789531</td>\n",
              "      <td>N</td>\n",
              "      <td>233</td>\n",
              "      <td>GGGAAAAAAGGGGGGGGCAGGGGGGGGGGCGGGAGAACGGCGGGGG...</td>\n",
              "      <td>GEF6GDIHIBDGIDBIDIHHDIIGHHGBH;IBIICIG&gt;GBIGG1EH...</td>\n",
              "      <td>GGGAAAAAAGGGGGGGGCAGGGGGGGGGGCGGGAGAACGGCGGGGG...</td>\n",
              "      <td>233</td>\n",
              "      <td>0.313305</td>\n",
              "      <td>0.000000</td>\n",
              "      <td>0.613734</td>\n",
              "      <td>0.072961</td>\n",
              "      <td>1.232402</td>\n",
              "    </tr>\n",
              "  </tbody>\n",
              "</table>\n",
              "</div>\n",
              "      <button class=\"colab-df-convert\" onclick=\"convertToInteractive('df-e35e7579-2d19-40dd-a2f4-2500071724c5')\"\n",
              "              title=\"Convert this dataframe to an interactive table.\"\n",
              "              style=\"display:none;\">\n",
              "        \n",
              "  <svg xmlns=\"http://www.w3.org/2000/svg\" height=\"24px\"viewBox=\"0 0 24 24\"\n",
              "       width=\"24px\">\n",
              "    <path d=\"M0 0h24v24H0V0z\" fill=\"none\"/>\n",
              "    <path d=\"M18.56 5.44l.94 2.06.94-2.06 2.06-.94-2.06-.94-.94-2.06-.94 2.06-2.06.94zm-11 1L8.5 8.5l.94-2.06 2.06-.94-2.06-.94L8.5 2.5l-.94 2.06-2.06.94zm10 10l.94 2.06.94-2.06 2.06-.94-2.06-.94-.94-2.06-.94 2.06-2.06.94z\"/><path d=\"M17.41 7.96l-1.37-1.37c-.4-.4-.92-.59-1.43-.59-.52 0-1.04.2-1.43.59L10.3 9.45l-7.72 7.72c-.78.78-.78 2.05 0 2.83L4 21.41c.39.39.9.59 1.41.59.51 0 1.02-.2 1.41-.59l7.78-7.78 2.81-2.81c.8-.78.8-2.07 0-2.86zM5.41 20L4 18.59l7.72-7.72 1.47 1.35L5.41 20z\"/>\n",
              "  </svg>\n",
              "      </button>\n",
              "      \n",
              "  <style>\n",
              "    .colab-df-container {\n",
              "      display:flex;\n",
              "      flex-wrap:wrap;\n",
              "      gap: 12px;\n",
              "    }\n",
              "\n",
              "    .colab-df-convert {\n",
              "      background-color: #E8F0FE;\n",
              "      border: none;\n",
              "      border-radius: 50%;\n",
              "      cursor: pointer;\n",
              "      display: none;\n",
              "      fill: #1967D2;\n",
              "      height: 32px;\n",
              "      padding: 0 0 0 0;\n",
              "      width: 32px;\n",
              "    }\n",
              "\n",
              "    .colab-df-convert:hover {\n",
              "      background-color: #E2EBFA;\n",
              "      box-shadow: 0px 1px 2px rgba(60, 64, 67, 0.3), 0px 1px 3px 1px rgba(60, 64, 67, 0.15);\n",
              "      fill: #174EA6;\n",
              "    }\n",
              "\n",
              "    [theme=dark] .colab-df-convert {\n",
              "      background-color: #3B4455;\n",
              "      fill: #D2E3FC;\n",
              "    }\n",
              "\n",
              "    [theme=dark] .colab-df-convert:hover {\n",
              "      background-color: #434B5C;\n",
              "      box-shadow: 0px 1px 3px 1px rgba(0, 0, 0, 0.15);\n",
              "      filter: drop-shadow(0px 1px 2px rgba(0, 0, 0, 0.3));\n",
              "      fill: #FFFFFF;\n",
              "    }\n",
              "  </style>\n",
              "\n",
              "      <script>\n",
              "        const buttonEl =\n",
              "          document.querySelector('#df-e35e7579-2d19-40dd-a2f4-2500071724c5 button.colab-df-convert');\n",
              "        buttonEl.style.display =\n",
              "          google.colab.kernel.accessAllowed ? 'block' : 'none';\n",
              "\n",
              "        async function convertToInteractive(key) {\n",
              "          const element = document.querySelector('#df-e35e7579-2d19-40dd-a2f4-2500071724c5');\n",
              "          const dataTable =\n",
              "            await google.colab.kernel.invokeFunction('convertToInteractive',\n",
              "                                                     [key], {});\n",
              "          if (!dataTable) return;\n",
              "\n",
              "          const docLinkHtml = 'Like what you see? Visit the ' +\n",
              "            '<a target=\"_blank\" href=https://colab.research.google.com/notebooks/data_table.ipynb>data table notebook</a>'\n",
              "            + ' to learn more about interactive tables.';\n",
              "          element.innerHTML = '';\n",
              "          dataTable['output_type'] = 'display_data';\n",
              "          await google.colab.output.renderOutput(dataTable, element);\n",
              "          const docLink = document.createElement('div');\n",
              "          docLink.innerHTML = docLinkHtml;\n",
              "          element.appendChild(docLink);\n",
              "        }\n",
              "      </script>\n",
              "    </div>\n",
              "  </div>\n",
              "  "
            ]
          },
          "metadata": {},
          "execution_count": 133
        }
      ]
    },
    {
      "cell_type": "code",
      "source": [
        "target = subpup2[['chrom','pos']]\n",
        "target['start']=subpup2['pos']-16\n",
        "target['stop']=subpup2['pos']+15\n",
        "target = target.drop('pos', axis=1)\n",
        "target['shannon'] = subpup2[['shannon']]\n",
        "target"
      ],
      "metadata": {
        "colab": {
          "base_uri": "https://localhost:8080/",
          "height": 661
        },
        "id": "uxmxyVx4uGg0",
        "outputId": "8c01ad83-ab2a-46c2-a060-414981d680c3"
      },
      "execution_count": null,
      "outputs": [
        {
          "output_type": "stream",
          "name": "stderr",
          "text": [
            "<ipython-input-88-361baa628390>:2: SettingWithCopyWarning: \n",
            "A value is trying to be set on a copy of a slice from a DataFrame.\n",
            "Try using .loc[row_indexer,col_indexer] = value instead\n",
            "\n",
            "See the caveats in the documentation: https://pandas.pydata.org/pandas-docs/stable/user_guide/indexing.html#returning-a-view-versus-a-copy\n",
            "  target['start']=subpup2['pos']-16\n",
            "<ipython-input-88-361baa628390>:3: SettingWithCopyWarning: \n",
            "A value is trying to be set on a copy of a slice from a DataFrame.\n",
            "Try using .loc[row_indexer,col_indexer] = value instead\n",
            "\n",
            "See the caveats in the documentation: https://pandas.pydata.org/pandas-docs/stable/user_guide/indexing.html#returning-a-view-versus-a-copy\n",
            "  target['stop']=subpup2['pos']+15\n"
          ]
        },
        {
          "output_type": "execute_result",
          "data": {
            "text/plain": [
              "         chrom      start       stop   shannon\n",
              "14849219  chr9  106066861  106066892 -0.000000\n",
              "14849220  chr9  106066862  106066893 -0.000000\n",
              "14849221  chr9  106066863  106066894 -0.000000\n",
              "14849222  chr9  106066864  106066895 -0.000000\n",
              "14849223  chr9  106066865  106066896  0.345117\n",
              "...        ...        ...        ...       ...\n",
              "14849927  chr9  106067956  106067987 -0.000000\n",
              "14849928  chr9  106067957  106067988 -0.000000\n",
              "14849929  chr9  106067958  106067989  0.169324\n",
              "14849930  chr9  106067959  106067990 -0.000000\n",
              "14849982  chr9  106068011  106068042 -0.000000\n",
              "\n",
              "[123 rows x 4 columns]"
            ],
            "text/html": [
              "\n",
              "  <div id=\"df-a94c454a-2423-44f8-9675-ce03cdd3cdb3\">\n",
              "    <div class=\"colab-df-container\">\n",
              "      <div>\n",
              "<style scoped>\n",
              "    .dataframe tbody tr th:only-of-type {\n",
              "        vertical-align: middle;\n",
              "    }\n",
              "\n",
              "    .dataframe tbody tr th {\n",
              "        vertical-align: top;\n",
              "    }\n",
              "\n",
              "    .dataframe thead th {\n",
              "        text-align: right;\n",
              "    }\n",
              "</style>\n",
              "<table border=\"1\" class=\"dataframe\">\n",
              "  <thead>\n",
              "    <tr style=\"text-align: right;\">\n",
              "      <th></th>\n",
              "      <th>chrom</th>\n",
              "      <th>start</th>\n",
              "      <th>stop</th>\n",
              "      <th>shannon</th>\n",
              "    </tr>\n",
              "  </thead>\n",
              "  <tbody>\n",
              "    <tr>\n",
              "      <th>14849219</th>\n",
              "      <td>chr9</td>\n",
              "      <td>106066861</td>\n",
              "      <td>106066892</td>\n",
              "      <td>-0.000000</td>\n",
              "    </tr>\n",
              "    <tr>\n",
              "      <th>14849220</th>\n",
              "      <td>chr9</td>\n",
              "      <td>106066862</td>\n",
              "      <td>106066893</td>\n",
              "      <td>-0.000000</td>\n",
              "    </tr>\n",
              "    <tr>\n",
              "      <th>14849221</th>\n",
              "      <td>chr9</td>\n",
              "      <td>106066863</td>\n",
              "      <td>106066894</td>\n",
              "      <td>-0.000000</td>\n",
              "    </tr>\n",
              "    <tr>\n",
              "      <th>14849222</th>\n",
              "      <td>chr9</td>\n",
              "      <td>106066864</td>\n",
              "      <td>106066895</td>\n",
              "      <td>-0.000000</td>\n",
              "    </tr>\n",
              "    <tr>\n",
              "      <th>14849223</th>\n",
              "      <td>chr9</td>\n",
              "      <td>106066865</td>\n",
              "      <td>106066896</td>\n",
              "      <td>0.345117</td>\n",
              "    </tr>\n",
              "    <tr>\n",
              "      <th>...</th>\n",
              "      <td>...</td>\n",
              "      <td>...</td>\n",
              "      <td>...</td>\n",
              "      <td>...</td>\n",
              "    </tr>\n",
              "    <tr>\n",
              "      <th>14849927</th>\n",
              "      <td>chr9</td>\n",
              "      <td>106067956</td>\n",
              "      <td>106067987</td>\n",
              "      <td>-0.000000</td>\n",
              "    </tr>\n",
              "    <tr>\n",
              "      <th>14849928</th>\n",
              "      <td>chr9</td>\n",
              "      <td>106067957</td>\n",
              "      <td>106067988</td>\n",
              "      <td>-0.000000</td>\n",
              "    </tr>\n",
              "    <tr>\n",
              "      <th>14849929</th>\n",
              "      <td>chr9</td>\n",
              "      <td>106067958</td>\n",
              "      <td>106067989</td>\n",
              "      <td>0.169324</td>\n",
              "    </tr>\n",
              "    <tr>\n",
              "      <th>14849930</th>\n",
              "      <td>chr9</td>\n",
              "      <td>106067959</td>\n",
              "      <td>106067990</td>\n",
              "      <td>-0.000000</td>\n",
              "    </tr>\n",
              "    <tr>\n",
              "      <th>14849982</th>\n",
              "      <td>chr9</td>\n",
              "      <td>106068011</td>\n",
              "      <td>106068042</td>\n",
              "      <td>-0.000000</td>\n",
              "    </tr>\n",
              "  </tbody>\n",
              "</table>\n",
              "<p>123 rows × 4 columns</p>\n",
              "</div>\n",
              "      <button class=\"colab-df-convert\" onclick=\"convertToInteractive('df-a94c454a-2423-44f8-9675-ce03cdd3cdb3')\"\n",
              "              title=\"Convert this dataframe to an interactive table.\"\n",
              "              style=\"display:none;\">\n",
              "        \n",
              "  <svg xmlns=\"http://www.w3.org/2000/svg\" height=\"24px\"viewBox=\"0 0 24 24\"\n",
              "       width=\"24px\">\n",
              "    <path d=\"M0 0h24v24H0V0z\" fill=\"none\"/>\n",
              "    <path d=\"M18.56 5.44l.94 2.06.94-2.06 2.06-.94-2.06-.94-.94-2.06-.94 2.06-2.06.94zm-11 1L8.5 8.5l.94-2.06 2.06-.94-2.06-.94L8.5 2.5l-.94 2.06-2.06.94zm10 10l.94 2.06.94-2.06 2.06-.94-2.06-.94-.94-2.06-.94 2.06-2.06.94z\"/><path d=\"M17.41 7.96l-1.37-1.37c-.4-.4-.92-.59-1.43-.59-.52 0-1.04.2-1.43.59L10.3 9.45l-7.72 7.72c-.78.78-.78 2.05 0 2.83L4 21.41c.39.39.9.59 1.41.59.51 0 1.02-.2 1.41-.59l7.78-7.78 2.81-2.81c.8-.78.8-2.07 0-2.86zM5.41 20L4 18.59l7.72-7.72 1.47 1.35L5.41 20z\"/>\n",
              "  </svg>\n",
              "      </button>\n",
              "      \n",
              "  <style>\n",
              "    .colab-df-container {\n",
              "      display:flex;\n",
              "      flex-wrap:wrap;\n",
              "      gap: 12px;\n",
              "    }\n",
              "\n",
              "    .colab-df-convert {\n",
              "      background-color: #E8F0FE;\n",
              "      border: none;\n",
              "      border-radius: 50%;\n",
              "      cursor: pointer;\n",
              "      display: none;\n",
              "      fill: #1967D2;\n",
              "      height: 32px;\n",
              "      padding: 0 0 0 0;\n",
              "      width: 32px;\n",
              "    }\n",
              "\n",
              "    .colab-df-convert:hover {\n",
              "      background-color: #E2EBFA;\n",
              "      box-shadow: 0px 1px 2px rgba(60, 64, 67, 0.3), 0px 1px 3px 1px rgba(60, 64, 67, 0.15);\n",
              "      fill: #174EA6;\n",
              "    }\n",
              "\n",
              "    [theme=dark] .colab-df-convert {\n",
              "      background-color: #3B4455;\n",
              "      fill: #D2E3FC;\n",
              "    }\n",
              "\n",
              "    [theme=dark] .colab-df-convert:hover {\n",
              "      background-color: #434B5C;\n",
              "      box-shadow: 0px 1px 3px 1px rgba(0, 0, 0, 0.15);\n",
              "      filter: drop-shadow(0px 1px 2px rgba(0, 0, 0, 0.3));\n",
              "      fill: #FFFFFF;\n",
              "    }\n",
              "  </style>\n",
              "\n",
              "      <script>\n",
              "        const buttonEl =\n",
              "          document.querySelector('#df-a94c454a-2423-44f8-9675-ce03cdd3cdb3 button.colab-df-convert');\n",
              "        buttonEl.style.display =\n",
              "          google.colab.kernel.accessAllowed ? 'block' : 'none';\n",
              "\n",
              "        async function convertToInteractive(key) {\n",
              "          const element = document.querySelector('#df-a94c454a-2423-44f8-9675-ce03cdd3cdb3');\n",
              "          const dataTable =\n",
              "            await google.colab.kernel.invokeFunction('convertToInteractive',\n",
              "                                                     [key], {});\n",
              "          if (!dataTable) return;\n",
              "\n",
              "          const docLinkHtml = 'Like what you see? Visit the ' +\n",
              "            '<a target=\"_blank\" href=https://colab.research.google.com/notebooks/data_table.ipynb>data table notebook</a>'\n",
              "            + ' to learn more about interactive tables.';\n",
              "          element.innerHTML = '';\n",
              "          dataTable['output_type'] = 'display_data';\n",
              "          await google.colab.output.renderOutput(dataTable, element);\n",
              "          const docLink = document.createElement('div');\n",
              "          docLink.innerHTML = docLinkHtml;\n",
              "          element.appendChild(docLink);\n",
              "        }\n",
              "      </script>\n",
              "    </div>\n",
              "  </div>\n",
              "  "
            ]
          },
          "metadata": {},
          "execution_count": 88
        }
      ]
    },
    {
      "cell_type": "code",
      "source": [
        "target.to_csv(\"target_mirlet7g3.bed\",header=None, index=False, sep='\\t')  "
      ],
      "metadata": {
        "id": "40IjlsyoxJQb"
      },
      "execution_count": null,
      "outputs": []
    },
    {
      "cell_type": "code",
      "source": [
        "!bedtools getfasta -fi GRCm39.genome.fa -bed target_mirlet7g3.bed -fo target_mirlet7g3.fa"
      ],
      "metadata": {
        "id": "P0H3b9Cp9cGC"
      },
      "execution_count": null,
      "outputs": []
    },
    {
      "cell_type": "markdown",
      "source": [
        "120780444-120789542"
      ],
      "metadata": {
        "id": "cyt6A3HxEYR_"
      }
    },
    {
      "cell_type": "code",
      "execution_count": null,
      "metadata": {
        "id": "Eq6jlhtctXta"
      },
      "outputs": [],
      "source": [
        "subpup = pup[(pup['pos'] > 1.207790e8) & (pup['pos'] < 1.207810e8)]\n",
        "subpup.to_csv('pup.csv', index=True)"
      ]
    },
    {
      "cell_type": "code",
      "source": [
        "subpup2 = pup[(pup['pos'] > 106066500) & (pup['pos'] < 106068500)]\n",
        "subpup2.to_csv('pup2.csv', index=True)"
      ],
      "metadata": {
        "id": "ekBbk9rHHk9v"
      },
      "execution_count": null,
      "outputs": []
    },
    {
      "cell_type": "code",
      "source": [
        "max_columns = subpup2[['countA', 'countT', 'countG', 'countC']].idxmax(axis=1)\n",
        "column_letters = max_columns.str[-1]\n",
        "result = ''.join(column_letters)\n",
        "result"
      ],
      "metadata": {
        "colab": {
          "base_uri": "https://localhost:8080/",
          "height": 54
        },
        "id": "qnVPQ4snHj_n",
        "outputId": "d5cacded-4dd1-4d5a-c171-2ffeeabc0557"
      },
      "execution_count": null,
      "outputs": [
        {
          "output_type": "execute_result",
          "data": {
            "text/plain": [
              "'GTTTGTATTTGAACACTGTGTGTGTCCACTTAAGGGAGAGGGAACCTTGCAGCCAAGAATGACTCTGTGGATAGTGTGTGCCACAACTGTTATTCTTCTCTGTTAAGAAAGAGGGAGAAAGCT'"
            ],
            "application/vnd.google.colaboratory.intrinsic+json": {
              "type": "string"
            }
          },
          "metadata": {},
          "execution_count": 92
        }
      ]
    },
    {
      "cell_type": "code",
      "source": [
        "\n",
        "substring = 'AAG*G'\n",
        "start_positions = []\n",
        "\n",
        "for i in range(len(result) - len(substring) + 1):\n",
        "    if result[i:i+len(substring)].startswith('AAG') and result[i:i+len(substring)].endswith('G'):\n",
        "        start_positions.append(i)\n",
        "\n",
        "# Check if the substring is found\n",
        "if start_positions:\n",
        "    print(\"Substring '\", substring, \"' found at starting positions:\", start_positions)\n",
        "else:\n",
        "    print(\"Substring '\", substring, \"' not found.\")"
      ],
      "metadata": {
        "colab": {
          "base_uri": "https://localhost:8080/"
        },
        "id": "awjg9bjzIf0f",
        "outputId": "4a2c5d89-2c48-4c81-ce7a-eb073368d84c"
      },
      "execution_count": null,
      "outputs": [
        {
          "output_type": "stream",
          "name": "stdout",
          "text": [
            "Substring ' AAG*G ' found at starting positions: [31, 108]\n"
          ]
        }
      ]
    }
  ],
  "metadata": {
    "colab": {
      "provenance": [],
      "authorship_tag": "ABX9TyOgADAlH2yzbSH9W7kcA7fD",
      "include_colab_link": true
    },
    "kernelspec": {
      "display_name": "Python 3",
      "name": "python3"
    },
    "language_info": {
      "name": "python"
    }
  },
  "nbformat": 4,
  "nbformat_minor": 0
}