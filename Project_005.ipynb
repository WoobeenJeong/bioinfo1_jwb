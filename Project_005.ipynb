{
  "cells": [
    {
      "cell_type": "markdown",
      "metadata": {
        "id": "view-in-github",
        "colab_type": "text"
      },
      "source": [
        "<a href=\"https://colab.research.google.com/github/WoobeenJeong/bioinfo1_jwb/blob/main/Project_005.ipynb\" target=\"_parent\"><img src=\"https://colab.research.google.com/assets/colab-badge.svg\" alt=\"Open In Colab\"/></a>"
      ]
    },
    {
      "cell_type": "markdown",
      "metadata": {
        "id": "bpP3b34tMVlI"
      },
      "source": [
        "**1) Data mounting**"
      ]
    },
    {
      "cell_type": "code",
      "execution_count": 4,
      "metadata": {
        "colab": {
          "base_uri": "https://localhost:8080/"
        },
        "id": "ucOASOB2MKSS",
        "outputId": "2333860b-45f0-4539-b476-880b4e0c41ac"
      },
      "outputs": [
        {
          "output_type": "stream",
          "name": "stdout",
          "text": [
            "Drive already mounted at /content/drive; to attempt to forcibly remount, call drive.mount(\"/content/drive\", force_remount=True).\n"
          ]
        }
      ],
      "source": [
        "from google.colab import drive\n",
        "drive.mount('/content/drive')"
      ]
    },
    {
      "cell_type": "markdown",
      "metadata": {
        "id": "HGeYUN4bNg0Y"
      },
      "source": [
        "**2) Environment setting**"
      ]
    },
    {
      "cell_type": "code",
      "execution_count": null,
      "metadata": {
        "id": "qpAeDN_xNoiI"
      },
      "outputs": [],
      "source": [
        "!git clone https://github.com/hyeshik/colab-biolab.git\n",
        "!cd colab-biolab && bash tools/setup.sh\n",
        "exec(open('colab-biolab/tools/activate_conda.py').read())"
      ]
    },
    {
      "cell_type": "code",
      "execution_count": null,
      "metadata": {
        "id": "_eQeafJils95"
      },
      "outputs": [],
      "source": [
        "!conda install -y bedtools bioawk samtools"
      ]
    },
    {
      "cell_type": "markdown",
      "metadata": {
        "id": "ZtTJ5WTneSTX"
      },
      "source": [
        "**3) Data loading & check**"
      ]
    },
    {
      "cell_type": "code",
      "execution_count": 5,
      "metadata": {
        "colab": {
          "base_uri": "https://localhost:8080/"
        },
        "id": "3ovWb7O0eYGf",
        "outputId": "1ff127ed-fa80-41e7-9dfa-99e65158a505"
      },
      "outputs": [
        {
          "output_type": "stream",
          "name": "stdout",
          "text": [
            "/content/drive/MyDrive/binfo1-work\n"
          ]
        }
      ],
      "source": [
        "%cd /content/drive/MyDrive/binfo1-work"
      ]
    },
    {
      "cell_type": "code",
      "execution_count": null,
      "metadata": {
        "id": "bu9blLM8lCjn"
      },
      "outputs": [],
      "source": [
        "!ls -al /content/drive/MyDrive/binfo1-work/"
      ]
    },
    {
      "cell_type": "code",
      "execution_count": null,
      "metadata": {
        "id": "OrbqDw1tkugu"
      },
      "outputs": [],
      "source": [
        "!md5sum /content/drive/MyDrive/binfo1-work/*"
      ]
    },
    {
      "cell_type": "markdown",
      "metadata": {
        "id": "ziU8sAjtlk1T"
      },
      "source": [
        "**4) Background setting**"
      ]
    },
    {
      "cell_type": "code",
      "execution_count": 6,
      "metadata": {
        "colab": {
          "base_uri": "https://localhost:8080/"
        },
        "id": "bXc89_vbuqLF",
        "outputId": "ad1cc5ec-350a-4092-d445-363ea7dbc0dc"
      },
      "outputs": [
        {
          "output_type": "stream",
          "name": "stdout",
          "text": [
            "/content/drive/MyDrive/binfo1-work\n"
          ]
        }
      ],
      "source": [
        "%cd /content/drive/MyDrive/binfo1-work\n",
        "import pandas as pd\n",
        "import numpy as np\n",
        "import matplotlib.pyplot as plt\n",
        "import re\n",
        "from collections import Counter"
      ]
    },
    {
      "cell_type": "markdown",
      "metadata": {
        "id": "Acfq33BwuWG8"
      },
      "source": [
        "**5) Target region on CLIP-seq using gencode.gtf**"
      ]
    },
    {
      "cell_type": "markdown",
      "metadata": {
        "id": "ru1osIY-PchC"
      },
      "source": [
        "먼저 GTF파일은 genecode로부터 M32버전이 (2023.02월에) 나왔으며  \n",
        "M32(GRCm39) Refseq 자료 중 chr9에 대해 확인 할 것  \n",
        "NCBI RefSeq에서도 Mus musculus strain C57BL/6J chromosome 9, GRCm39 존재\n",
        "\n",
        "1) C=Shannon’s entrophy를 CRES: Crosslinking-induced reverse transcription error score로 가져감  \n",
        "2) 이때, insertion은 무시 substitution과 deletion고려  \n",
        "3) FDR은 permutation으로 구함   \n",
        "4) Read는 rRNA,tRNA,adapte제외하고 GSNAP의 Refseq에 align  \n",
        "5) 이를 바탕으로, 먼저 CRES(0.8) 상 low depth positio이 130 reads 이하  \n",
        "6) LOESS smoothing (regression) a=0.5사용 medium depth positon 250 read이하  \n",
        "7) FDR(0.001)상 high depth position >250 read 사용  "
      ]
    },
    {
      "cell_type": "code",
      "execution_count": null,
      "metadata": {
        "colab": {
          "base_uri": "https://localhost:8080/"
        },
        "id": "sqRqHaX7PcQj",
        "outputId": "8154f2c8-0741-45d9-f19f-fe696b693422"
      },
      "outputs": [
        {
          "output_type": "stream",
          "name": "stdout",
          "text": [
            "gzip: gencode.vM32.annotation.gtf.gz: No such file or directory\n"
          ]
        }
      ],
      "source": [
        "!gzip -d gencode.vM32.annotation.gtf.gz"
      ]
    },
    {
      "cell_type": "code",
      "execution_count": null,
      "metadata": {
        "id": "45-1kKZdWWqh"
      },
      "outputs": [],
      "source": [
        "!grep 'chr9' gencode.vM32.annotation.gtf > gencode.vM32.chr9.gtf"
      ]
    },
    {
      "cell_type": "code",
      "execution_count": null,
      "metadata": {
        "id": "n89Hr5-LacUm"
      },
      "outputs": [],
      "source": [
        "!head gencode.vM32.chr9.gtf"
      ]
    },
    {
      "cell_type": "code",
      "execution_count": null,
      "metadata": {
        "colab": {
          "base_uri": "https://localhost:8080/"
        },
        "id": "L1KLh3PmbfRt",
        "outputId": "b9a6700a-9322-48cf-a21c-766c90030fd1"
      },
      "outputs": [
        {
          "name": "stdout",
          "output_type": "stream",
          "text": [
            "3038669\n",
            "124252776\n"
          ]
        }
      ],
      "source": [
        "!awk -F'\\t' '{if ($3 == \"gene\") print $4}' gencode.vM32.chr9.gtf | sort -n | head -n 1\n",
        "!awk -F'\\t' '{if ($3 == \"gene\") print $5}' gencode.vM32.chr9.gtf | sort -n | tail -n 1"
      ]
    },
    {
      "cell_type": "code",
      "execution_count": null,
      "metadata": {
        "colab": {
          "base_uri": "https://localhost:8080/"
        },
        "id": "TszRspV4c9oH",
        "outputId": "8293c5ea-3438-450c-d0ff-3261455c1f3b"
      },
      "outputs": [
        {
          "output_type": "stream",
          "name": "stdout",
          "text": [
            "1696165\n"
          ]
        }
      ],
      "source": [
        "!samtools view -b -o CLIP-let7g.bam CLIP-35L33G.bam chr9:3038669-124252776\n",
        "!samtools view CLIP-let7g.bam | wc -l"
      ]
    },
    {
      "cell_type": "code",
      "source": [
        "!samtools index CLIP-let7g.bam"
      ],
      "metadata": {
        "id": "rRu17HcRrfLm"
      },
      "execution_count": null,
      "outputs": []
    },
    {
      "cell_type": "code",
      "source": [
        "!samtools view -F 16 CLIP-let7g.bam | wc -l"
      ],
      "metadata": {
        "colab": {
          "base_uri": "https://localhost:8080/"
        },
        "id": "X8mQ-GpJvFMl",
        "outputId": "08c68570-75a3-4b73-85f8-82166daffcd5"
      },
      "execution_count": null,
      "outputs": [
        {
          "output_type": "stream",
          "name": "stdout",
          "text": [
            "905001\n"
          ]
        }
      ]
    },
    {
      "cell_type": "markdown",
      "source": [
        "(+)stand만 추출, 절반이 사라짐"
      ],
      "metadata": {
        "id": "pY7vRKoklFJl"
      }
    },
    {
      "cell_type": "markdown",
      "source": [],
      "metadata": {
        "id": "NBCVT7RDlFFj"
      }
    },
    {
      "cell_type": "code",
      "source": [
        "!samtools view -b -F 0x10 -o forward-CLIP-let7g.bam CLIP-let7g.bam"
      ],
      "metadata": {
        "id": "uju0TMGbwV8g"
      },
      "execution_count": null,
      "outputs": []
    },
    {
      "cell_type": "code",
      "source": [
        "!samtools view -f 16 forward-CLIP-let7g.bam  | wc -l"
      ],
      "metadata": {
        "colab": {
          "base_uri": "https://localhost:8080/"
        },
        "id": "u1N1nVLqwjar",
        "outputId": "3e74b794-70fa-4589-9dff-23ea51a9b9de"
      },
      "execution_count": null,
      "outputs": [
        {
          "output_type": "stream",
          "name": "stdout",
          "text": [
            "0\n"
          ]
        }
      ]
    },
    {
      "cell_type": "code",
      "source": [
        "!samtools view -F 16 forward-CLIP-let7g.bam  | wc -l"
      ],
      "metadata": {
        "colab": {
          "base_uri": "https://localhost:8080/"
        },
        "id": "JompkscdwtJt",
        "outputId": "8f3f0bbd-3c88-44d3-8aff-793f9376604b"
      },
      "execution_count": null,
      "outputs": [
        {
          "output_type": "stream",
          "name": "stdout",
          "text": [
            "905001\n"
          ]
        }
      ]
    },
    {
      "cell_type": "markdown",
      "source": [
        "QC는 상관없을 것으로 생각되나, secondary와 supplimentary read는 제거해야함 = secondary는 하나의 서열이 다른 곳에도 mapping될 수 있음을 고려, "
      ],
      "metadata": {
        "id": "T4-BSbVwlM8U"
      }
    },
    {
      "cell_type": "code",
      "source": [
        "!samtools flagstat forward-CLIP-let7g.bam | head"
      ],
      "metadata": {
        "colab": {
          "base_uri": "https://localhost:8080/"
        },
        "id": "kGNzgChB8u_W",
        "outputId": "a2465bd2-adb7-47d8-bc6a-dbc19f6bca3d"
      },
      "execution_count": null,
      "outputs": [
        {
          "output_type": "stream",
          "name": "stdout",
          "text": [
            "905001 + 0 in total (QC-passed reads + QC-failed reads)\n",
            "339889 + 0 secondary\n",
            "189 + 0 supplementary\n",
            "0 + 0 duplicates\n",
            "905001 + 0 mapped (100.00% : N/A)\n",
            "0 + 0 paired in sequencing\n",
            "0 + 0 read1\n",
            "0 + 0 read2\n",
            "0 + 0 properly paired (N/A : N/A)\n",
            "0 + 0 with itself and mate mapped\n"
          ]
        }
      ]
    },
    {
      "cell_type": "code",
      "source": [
        "!samtools view -b -F 0x900 -o first-forward-CLIP-let7g.bam forward-CLIP-let7g.bam"
      ],
      "metadata": {
        "id": "XbWNlBy2lywR"
      },
      "execution_count": null,
      "outputs": []
    },
    {
      "cell_type": "code",
      "source": [
        "!samtools view -F 16 first-forward-CLIP-let7g.bam  | wc -l"
      ],
      "metadata": {
        "colab": {
          "base_uri": "https://localhost:8080/"
        },
        "id": "JLQwwtgOmE0C",
        "outputId": "b42be9f4-921d-402a-cb27-cff0b629c7a2"
      },
      "execution_count": null,
      "outputs": [
        {
          "output_type": "stream",
          "name": "stdout",
          "text": [
            "564923\n"
          ]
        }
      ]
    },
    {
      "cell_type": "markdown",
      "source": [
        "estimate가 0.001 이었으니, MAPQ가 30이다."
      ],
      "metadata": {
        "id": "aGNNpGBkvfm2"
      }
    },
    {
      "cell_type": "code",
      "source": [
        "!samtools view -q 30 -b first-forward-CLIP-let7g.bam -o check-CLIP-let7g.bam\n",
        "!wc -l check-CLIP-let7g.bam"
      ],
      "metadata": {
        "colab": {
          "base_uri": "https://localhost:8080/"
        },
        "id": "JL3564nzohTR",
        "outputId": "f79d3d35-0ae2-46f4-a3ae-96766eec7f9a"
      },
      "execution_count": null,
      "outputs": [
        {
          "output_type": "stream",
          "name": "stdout",
          "text": [
            "73508 check-CLIP-let7g.bam\n"
          ]
        }
      ]
    },
    {
      "cell_type": "code",
      "execution_count": null,
      "metadata": {
        "colab": {
          "base_uri": "https://localhost:8080/"
        },
        "id": "me3Nx0ZxdLPm",
        "outputId": "a29f6278-a550-4f0e-be2c-b36fa6a49576"
      },
      "outputs": [
        {
          "output_type": "stream",
          "name": "stdout",
          "text": [
            "18224608 check-CLIP-let7g.pileup\n"
          ]
        }
      ],
      "source": [
        "!samtools mpileup check-CLIP-let7g.bam 2>/dev/null > check-CLIP-let7g.pileup\n",
        "!wc -l check-CLIP-let7g.pileup"
      ]
    },
    {
      "cell_type": "code",
      "execution_count": null,
      "metadata": {
        "colab": {
          "base_uri": "https://localhost:8080/"
        },
        "id": "T5uYzX3EdqG2",
        "outputId": "c97fed98-2b3c-4a16-cf9d-e2c3fd140386"
      },
      "outputs": [
        {
          "output_type": "stream",
          "name": "stdout",
          "text": [
            "chr9\t124220663\tN\t1\tC\t2\n",
            "chr9\t124220664\tN\t1\tT$\t2\n"
          ]
        }
      ],
      "source": [
        "!awk '$2 >= 3038669 && $2 <= 124252714 { print $0; }' check-CLIP-let7g.pileup > check-CLIP-let7g-gene.pileup\n",
        "!tail -n 2 check-CLIP-let7g-gene.pileup"
      ]
    },
    {
      "cell_type": "code",
      "execution_count": 7,
      "metadata": {
        "colab": {
          "base_uri": "https://localhost:8080/",
          "height": 206
        },
        "id": "CCeyuqDje2VW",
        "outputId": "f21fe8fe-5b40-4255-87d9-cccbe876523d"
      },
      "outputs": [
        {
          "output_type": "execute_result",
          "data": {
            "text/plain": [
              "         chrom        pos ref  count basereads quals\n",
              "18224603  chr9  124220660   N      1         C     @\n",
              "18224604  chr9  124220661   N      1         C     C\n",
              "18224605  chr9  124220662   N      1         C     C\n",
              "18224606  chr9  124220663   N      1         C     2\n",
              "18224607  chr9  124220664   N      1        T$     2"
            ],
            "text/html": [
              "\n",
              "  <div id=\"df-4ff02e56-07c0-463c-8d86-cca55c55376d\">\n",
              "    <div class=\"colab-df-container\">\n",
              "      <div>\n",
              "<style scoped>\n",
              "    .dataframe tbody tr th:only-of-type {\n",
              "        vertical-align: middle;\n",
              "    }\n",
              "\n",
              "    .dataframe tbody tr th {\n",
              "        vertical-align: top;\n",
              "    }\n",
              "\n",
              "    .dataframe thead th {\n",
              "        text-align: right;\n",
              "    }\n",
              "</style>\n",
              "<table border=\"1\" class=\"dataframe\">\n",
              "  <thead>\n",
              "    <tr style=\"text-align: right;\">\n",
              "      <th></th>\n",
              "      <th>chrom</th>\n",
              "      <th>pos</th>\n",
              "      <th>ref</th>\n",
              "      <th>count</th>\n",
              "      <th>basereads</th>\n",
              "      <th>quals</th>\n",
              "    </tr>\n",
              "  </thead>\n",
              "  <tbody>\n",
              "    <tr>\n",
              "      <th>18224603</th>\n",
              "      <td>chr9</td>\n",
              "      <td>124220660</td>\n",
              "      <td>N</td>\n",
              "      <td>1</td>\n",
              "      <td>C</td>\n",
              "      <td>@</td>\n",
              "    </tr>\n",
              "    <tr>\n",
              "      <th>18224604</th>\n",
              "      <td>chr9</td>\n",
              "      <td>124220661</td>\n",
              "      <td>N</td>\n",
              "      <td>1</td>\n",
              "      <td>C</td>\n",
              "      <td>C</td>\n",
              "    </tr>\n",
              "    <tr>\n",
              "      <th>18224605</th>\n",
              "      <td>chr9</td>\n",
              "      <td>124220662</td>\n",
              "      <td>N</td>\n",
              "      <td>1</td>\n",
              "      <td>C</td>\n",
              "      <td>C</td>\n",
              "    </tr>\n",
              "    <tr>\n",
              "      <th>18224606</th>\n",
              "      <td>chr9</td>\n",
              "      <td>124220663</td>\n",
              "      <td>N</td>\n",
              "      <td>1</td>\n",
              "      <td>C</td>\n",
              "      <td>2</td>\n",
              "    </tr>\n",
              "    <tr>\n",
              "      <th>18224607</th>\n",
              "      <td>chr9</td>\n",
              "      <td>124220664</td>\n",
              "      <td>N</td>\n",
              "      <td>1</td>\n",
              "      <td>T$</td>\n",
              "      <td>2</td>\n",
              "    </tr>\n",
              "  </tbody>\n",
              "</table>\n",
              "</div>\n",
              "      <button class=\"colab-df-convert\" onclick=\"convertToInteractive('df-4ff02e56-07c0-463c-8d86-cca55c55376d')\"\n",
              "              title=\"Convert this dataframe to an interactive table.\"\n",
              "              style=\"display:none;\">\n",
              "        \n",
              "  <svg xmlns=\"http://www.w3.org/2000/svg\" height=\"24px\"viewBox=\"0 0 24 24\"\n",
              "       width=\"24px\">\n",
              "    <path d=\"M0 0h24v24H0V0z\" fill=\"none\"/>\n",
              "    <path d=\"M18.56 5.44l.94 2.06.94-2.06 2.06-.94-2.06-.94-.94-2.06-.94 2.06-2.06.94zm-11 1L8.5 8.5l.94-2.06 2.06-.94-2.06-.94L8.5 2.5l-.94 2.06-2.06.94zm10 10l.94 2.06.94-2.06 2.06-.94-2.06-.94-.94-2.06-.94 2.06-2.06.94z\"/><path d=\"M17.41 7.96l-1.37-1.37c-.4-.4-.92-.59-1.43-.59-.52 0-1.04.2-1.43.59L10.3 9.45l-7.72 7.72c-.78.78-.78 2.05 0 2.83L4 21.41c.39.39.9.59 1.41.59.51 0 1.02-.2 1.41-.59l7.78-7.78 2.81-2.81c.8-.78.8-2.07 0-2.86zM5.41 20L4 18.59l7.72-7.72 1.47 1.35L5.41 20z\"/>\n",
              "  </svg>\n",
              "      </button>\n",
              "      \n",
              "  <style>\n",
              "    .colab-df-container {\n",
              "      display:flex;\n",
              "      flex-wrap:wrap;\n",
              "      gap: 12px;\n",
              "    }\n",
              "\n",
              "    .colab-df-convert {\n",
              "      background-color: #E8F0FE;\n",
              "      border: none;\n",
              "      border-radius: 50%;\n",
              "      cursor: pointer;\n",
              "      display: none;\n",
              "      fill: #1967D2;\n",
              "      height: 32px;\n",
              "      padding: 0 0 0 0;\n",
              "      width: 32px;\n",
              "    }\n",
              "\n",
              "    .colab-df-convert:hover {\n",
              "      background-color: #E2EBFA;\n",
              "      box-shadow: 0px 1px 2px rgba(60, 64, 67, 0.3), 0px 1px 3px 1px rgba(60, 64, 67, 0.15);\n",
              "      fill: #174EA6;\n",
              "    }\n",
              "\n",
              "    [theme=dark] .colab-df-convert {\n",
              "      background-color: #3B4455;\n",
              "      fill: #D2E3FC;\n",
              "    }\n",
              "\n",
              "    [theme=dark] .colab-df-convert:hover {\n",
              "      background-color: #434B5C;\n",
              "      box-shadow: 0px 1px 3px 1px rgba(0, 0, 0, 0.15);\n",
              "      filter: drop-shadow(0px 1px 2px rgba(0, 0, 0, 0.3));\n",
              "      fill: #FFFFFF;\n",
              "    }\n",
              "  </style>\n",
              "\n",
              "      <script>\n",
              "        const buttonEl =\n",
              "          document.querySelector('#df-4ff02e56-07c0-463c-8d86-cca55c55376d button.colab-df-convert');\n",
              "        buttonEl.style.display =\n",
              "          google.colab.kernel.accessAllowed ? 'block' : 'none';\n",
              "\n",
              "        async function convertToInteractive(key) {\n",
              "          const element = document.querySelector('#df-4ff02e56-07c0-463c-8d86-cca55c55376d');\n",
              "          const dataTable =\n",
              "            await google.colab.kernel.invokeFunction('convertToInteractive',\n",
              "                                                     [key], {});\n",
              "          if (!dataTable) return;\n",
              "\n",
              "          const docLinkHtml = 'Like what you see? Visit the ' +\n",
              "            '<a target=\"_blank\" href=https://colab.research.google.com/notebooks/data_table.ipynb>data table notebook</a>'\n",
              "            + ' to learn more about interactive tables.';\n",
              "          element.innerHTML = '';\n",
              "          dataTable['output_type'] = 'display_data';\n",
              "          await google.colab.output.renderOutput(dataTable, element);\n",
              "          const docLink = document.createElement('div');\n",
              "          docLink.innerHTML = docLinkHtml;\n",
              "          element.appendChild(docLink);\n",
              "        }\n",
              "      </script>\n",
              "    </div>\n",
              "  </div>\n",
              "  "
            ]
          },
          "metadata": {},
          "execution_count": 7
        }
      ],
      "source": [
        "pileup = pd.read_csv('check-CLIP-let7g-gene.pileup', sep='\\t', names=['chrom', 'pos', 'ref', 'count', 'basereads', 'quals'])\n",
        "pileup.tail()"
      ]
    },
    {
      "cell_type": "markdown",
      "source": [
        "count의 개수가 최대 / 최소 얼마이고 볼 만한 수준인지 확인"
      ],
      "metadata": {
        "id": "cXeYxxROqzkb"
      }
    },
    {
      "cell_type": "code",
      "execution_count": null,
      "metadata": {
        "colab": {
          "base_uri": "https://localhost:8080/"
        },
        "id": "ZUVRFUq0kBY-",
        "outputId": "9bc2d793-4130-46a8-81cb-5ed33500482b"
      },
      "outputs": [
        {
          "output_type": "execute_result",
          "data": {
            "text/plain": [
              "1740"
            ]
          },
          "metadata": {},
          "execution_count": 5
        }
      ],
      "source": [
        "len(np.unique(pileup['count']))"
      ]
    },
    {
      "cell_type": "code",
      "execution_count": null,
      "metadata": {
        "colab": {
          "base_uri": "https://localhost:8080/"
        },
        "id": "ZdHz2Glifq6U",
        "outputId": "7f1c7b1b-ea23-4ca9-f3f4-507dff6d7ade"
      },
      "outputs": [
        {
          "output_type": "execute_result",
          "data": {
            "text/plain": [
              "count    1.822461e+07\n",
              "mean     1.073809e+01\n",
              "std      4.920374e+01\n",
              "min      0.000000e+00\n",
              "25%      2.000000e+00\n",
              "50%      4.000000e+00\n",
              "75%      8.000000e+00\n",
              "max      7.994000e+03\n",
              "Name: count, dtype: float64"
            ]
          },
          "metadata": {},
          "execution_count": 6
        }
      ],
      "source": [
        "pileup['count'].describe()"
      ]
    },
    {
      "cell_type": "markdown",
      "metadata": {
        "id": "Ee07rqNgkvp3"
      },
      "source": [
        "위를 보면 알수 있듯이 한 75%까지는 10개정도만 count되어 있는데, 무려 7993 read가 count되는 경우도 있음.  \n",
        "이경우는 좀 궁금하긴 하다만, 너무 크기 때문에, threshold <=50 reads로 두고 진행   \n",
        "(Shannon에서 depth 50으로 했으므로)"
      ]
    },
    {
      "cell_type": "code",
      "execution_count": 8,
      "metadata": {
        "id": "ySd4VMiakPa4"
      },
      "outputs": [],
      "source": [
        "f50pileup = pileup[pileup['count'] > 50]"
      ]
    },
    {
      "cell_type": "code",
      "execution_count": null,
      "metadata": {
        "colab": {
          "base_uri": "https://localhost:8080/"
        },
        "id": "5H2WHsXqkeEh",
        "outputId": "a049f3cf-91cb-4a14-fef0-7489f0153603"
      },
      "outputs": [
        {
          "output_type": "execute_result",
          "data": {
            "text/plain": [
              "1689"
            ]
          },
          "metadata": {},
          "execution_count": 10
        }
      ],
      "source": [
        "len(np.unique(f50pileup['count']))"
      ]
    },
    {
      "cell_type": "code",
      "execution_count": null,
      "metadata": {
        "colab": {
          "base_uri": "https://localhost:8080/"
        },
        "id": "7d_gZXbIndXq",
        "outputId": "b72966b0-e449-4e29-d1b7-ffdfeb37bdca"
      },
      "outputs": [
        {
          "output_type": "execute_result",
          "data": {
            "text/plain": [
              "534478"
            ]
          },
          "metadata": {},
          "execution_count": 11
        }
      ],
      "source": [
        "len(np.unique(f50pileup['pos']))"
      ]
    },
    {
      "cell_type": "code",
      "execution_count": null,
      "metadata": {
        "colab": {
          "base_uri": "https://localhost:8080/"
        },
        "id": "oh8Uz-iblXiT",
        "outputId": "7c15d193-ec4b-4a92-b003-604767ce4c68"
      },
      "outputs": [
        {
          "output_type": "execute_result",
          "data": {
            "text/plain": [
              "count    534478.000000\n",
              "mean        140.538063\n",
              "std         251.364587\n",
              "min          51.000000\n",
              "25%          58.000000\n",
              "50%          72.000000\n",
              "75%         108.000000\n",
              "max        7994.000000\n",
              "Name: count, dtype: float64"
            ]
          },
          "metadata": {},
          "execution_count": 8
        }
      ],
      "source": [
        "f50pileup['count'].describe()"
      ]
    },
    {
      "cell_type": "code",
      "execution_count": null,
      "metadata": {
        "colab": {
          "base_uri": "https://localhost:8080/"
        },
        "id": "-G-TKmS2m0bj",
        "outputId": "426f119f-af47-460f-8b91-7c63ff251bd0"
      },
      "outputs": [
        {
          "output_type": "execute_result",
          "data": {
            "text/plain": [
              "(123421315, 3359542)"
            ]
          },
          "metadata": {},
          "execution_count": 9
        }
      ],
      "source": [
        "max(f50pileup['pos']),min(f50pileup['pos'])"
      ]
    },
    {
      "cell_type": "markdown",
      "metadata": {
        "id": "dZjYsCGNlWU_"
      },
      "source": [
        "match와 substitution, deletion을 사용할 것이므로, 나머지에 해당하는 tag들은 제거.  \n",
        "**여기서 Deletion은 포함하는 경우를 고려하는 것을 고민할 것**"
      ]
    },
    {
      "cell_type": "code",
      "execution_count": null,
      "metadata": {
        "id": "M9aQMeXsm6MK"
      },
      "outputs": [],
      "source": [
        "toremove = re.compile(r'[<>$*#+-]|[0-9]|\\^.')\n",
        "f50pileup.loc[:, 'matches'] = f50pileup['basereads'].apply(lambda x: toremove.sub('', x))"
      ]
    },
    {
      "cell_type": "code",
      "execution_count": null,
      "metadata": {
        "colab": {
          "base_uri": "https://localhost:8080/",
          "height": 206
        },
        "id": "9JMYEv04nuE5",
        "outputId": "062d9991-edc8-42e6-a8ce-493ac82b1dc5"
      },
      "outputs": [
        {
          "output_type": "execute_result",
          "data": {
            "text/plain": [
              "      chrom      pos                                            matches\n",
              "21616  chr9  3359542  GGGGGGGGGGGGGGGGGGGGGGGGGGGGGGGGGGGGGGGGGGGGGG...\n",
              "21617  chr9  3359543  GGGGGGGGGGGGGGGGGGGGGGGGGGGGGGGGGGGGGGGGGGGGGG...\n",
              "21618  chr9  3359544  AAAAAAAAAAAAAAAAAAAAAAAAAAAAAAAAAAAAAAAAAAAAAA...\n",
              "21619  chr9  3359545  GGGGGGGGGGGGGGGGGGGGGGGGGGGGGGGGGGGGGGGGGGGGGG...\n",
              "21620  chr9  3359546  TTTTTTTTTTTTTTTTTTTTTTTTTTTTTTTTTTTTTTTTTTTTTT..."
            ],
            "text/html": [
              "\n",
              "  <div id=\"df-51397f66-2226-4105-a0a9-11efdb702052\">\n",
              "    <div class=\"colab-df-container\">\n",
              "      <div>\n",
              "<style scoped>\n",
              "    .dataframe tbody tr th:only-of-type {\n",
              "        vertical-align: middle;\n",
              "    }\n",
              "\n",
              "    .dataframe tbody tr th {\n",
              "        vertical-align: top;\n",
              "    }\n",
              "\n",
              "    .dataframe thead th {\n",
              "        text-align: right;\n",
              "    }\n",
              "</style>\n",
              "<table border=\"1\" class=\"dataframe\">\n",
              "  <thead>\n",
              "    <tr style=\"text-align: right;\">\n",
              "      <th></th>\n",
              "      <th>chrom</th>\n",
              "      <th>pos</th>\n",
              "      <th>matches</th>\n",
              "    </tr>\n",
              "  </thead>\n",
              "  <tbody>\n",
              "    <tr>\n",
              "      <th>21616</th>\n",
              "      <td>chr9</td>\n",
              "      <td>3359542</td>\n",
              "      <td>GGGGGGGGGGGGGGGGGGGGGGGGGGGGGGGGGGGGGGGGGGGGGG...</td>\n",
              "    </tr>\n",
              "    <tr>\n",
              "      <th>21617</th>\n",
              "      <td>chr9</td>\n",
              "      <td>3359543</td>\n",
              "      <td>GGGGGGGGGGGGGGGGGGGGGGGGGGGGGGGGGGGGGGGGGGGGGG...</td>\n",
              "    </tr>\n",
              "    <tr>\n",
              "      <th>21618</th>\n",
              "      <td>chr9</td>\n",
              "      <td>3359544</td>\n",
              "      <td>AAAAAAAAAAAAAAAAAAAAAAAAAAAAAAAAAAAAAAAAAAAAAA...</td>\n",
              "    </tr>\n",
              "    <tr>\n",
              "      <th>21619</th>\n",
              "      <td>chr9</td>\n",
              "      <td>3359545</td>\n",
              "      <td>GGGGGGGGGGGGGGGGGGGGGGGGGGGGGGGGGGGGGGGGGGGGGG...</td>\n",
              "    </tr>\n",
              "    <tr>\n",
              "      <th>21620</th>\n",
              "      <td>chr9</td>\n",
              "      <td>3359546</td>\n",
              "      <td>TTTTTTTTTTTTTTTTTTTTTTTTTTTTTTTTTTTTTTTTTTTTTT...</td>\n",
              "    </tr>\n",
              "  </tbody>\n",
              "</table>\n",
              "</div>\n",
              "      <button class=\"colab-df-convert\" onclick=\"convertToInteractive('df-51397f66-2226-4105-a0a9-11efdb702052')\"\n",
              "              title=\"Convert this dataframe to an interactive table.\"\n",
              "              style=\"display:none;\">\n",
              "        \n",
              "  <svg xmlns=\"http://www.w3.org/2000/svg\" height=\"24px\"viewBox=\"0 0 24 24\"\n",
              "       width=\"24px\">\n",
              "    <path d=\"M0 0h24v24H0V0z\" fill=\"none\"/>\n",
              "    <path d=\"M18.56 5.44l.94 2.06.94-2.06 2.06-.94-2.06-.94-.94-2.06-.94 2.06-2.06.94zm-11 1L8.5 8.5l.94-2.06 2.06-.94-2.06-.94L8.5 2.5l-.94 2.06-2.06.94zm10 10l.94 2.06.94-2.06 2.06-.94-2.06-.94-.94-2.06-.94 2.06-2.06.94z\"/><path d=\"M17.41 7.96l-1.37-1.37c-.4-.4-.92-.59-1.43-.59-.52 0-1.04.2-1.43.59L10.3 9.45l-7.72 7.72c-.78.78-.78 2.05 0 2.83L4 21.41c.39.39.9.59 1.41.59.51 0 1.02-.2 1.41-.59l7.78-7.78 2.81-2.81c.8-.78.8-2.07 0-2.86zM5.41 20L4 18.59l7.72-7.72 1.47 1.35L5.41 20z\"/>\n",
              "  </svg>\n",
              "      </button>\n",
              "      \n",
              "  <style>\n",
              "    .colab-df-container {\n",
              "      display:flex;\n",
              "      flex-wrap:wrap;\n",
              "      gap: 12px;\n",
              "    }\n",
              "\n",
              "    .colab-df-convert {\n",
              "      background-color: #E8F0FE;\n",
              "      border: none;\n",
              "      border-radius: 50%;\n",
              "      cursor: pointer;\n",
              "      display: none;\n",
              "      fill: #1967D2;\n",
              "      height: 32px;\n",
              "      padding: 0 0 0 0;\n",
              "      width: 32px;\n",
              "    }\n",
              "\n",
              "    .colab-df-convert:hover {\n",
              "      background-color: #E2EBFA;\n",
              "      box-shadow: 0px 1px 2px rgba(60, 64, 67, 0.3), 0px 1px 3px 1px rgba(60, 64, 67, 0.15);\n",
              "      fill: #174EA6;\n",
              "    }\n",
              "\n",
              "    [theme=dark] .colab-df-convert {\n",
              "      background-color: #3B4455;\n",
              "      fill: #D2E3FC;\n",
              "    }\n",
              "\n",
              "    [theme=dark] .colab-df-convert:hover {\n",
              "      background-color: #434B5C;\n",
              "      box-shadow: 0px 1px 3px 1px rgba(0, 0, 0, 0.15);\n",
              "      filter: drop-shadow(0px 1px 2px rgba(0, 0, 0, 0.3));\n",
              "      fill: #FFFFFF;\n",
              "    }\n",
              "  </style>\n",
              "\n",
              "      <script>\n",
              "        const buttonEl =\n",
              "          document.querySelector('#df-51397f66-2226-4105-a0a9-11efdb702052 button.colab-df-convert');\n",
              "        buttonEl.style.display =\n",
              "          google.colab.kernel.accessAllowed ? 'block' : 'none';\n",
              "\n",
              "        async function convertToInteractive(key) {\n",
              "          const element = document.querySelector('#df-51397f66-2226-4105-a0a9-11efdb702052');\n",
              "          const dataTable =\n",
              "            await google.colab.kernel.invokeFunction('convertToInteractive',\n",
              "                                                     [key], {});\n",
              "          if (!dataTable) return;\n",
              "\n",
              "          const docLinkHtml = 'Like what you see? Visit the ' +\n",
              "            '<a target=\"_blank\" href=https://colab.research.google.com/notebooks/data_table.ipynb>data table notebook</a>'\n",
              "            + ' to learn more about interactive tables.';\n",
              "          element.innerHTML = '';\n",
              "          dataTable['output_type'] = 'display_data';\n",
              "          await google.colab.output.renderOutput(dataTable, element);\n",
              "          const docLink = document.createElement('div');\n",
              "          docLink.innerHTML = docLinkHtml;\n",
              "          element.appendChild(docLink);\n",
              "        }\n",
              "      </script>\n",
              "    </div>\n",
              "  </div>\n",
              "  "
            ]
          },
          "metadata": {},
          "execution_count": 11
        }
      ],
      "source": [
        "f50pileup[['chrom', 'pos', 'matches']].head()"
      ]
    },
    {
      "cell_type": "markdown",
      "metadata": {
        "id": "o3s5uS1pqN9O"
      },
      "source": [
        "Deletion상관 없이 Insertion하고 Hard-clipped read만 제외"
      ]
    },
    {
      "cell_type": "code",
      "execution_count": null,
      "metadata": {
        "id": "1y1ZXtEyqHEW"
      },
      "outputs": [],
      "source": [
        "#f50pileup['base_count'] = f50pileup['matches'].apply(lambda x: len([c for c in x if c != 'H' and c != 'I']))\n",
        "#f50pileup.head()"
      ]
    },
    {
      "cell_type": "code",
      "source": [
        "import itertools\n",
        "\n",
        "column = f50pileup['matches']\n",
        "components = column.str.findall('[A-Za-z0-9]') \n",
        "all_components = list(itertools.chain(*components))\n",
        "unique_components = set(all_components)\n",
        "\n",
        "print(unique_components)"
      ],
      "metadata": {
        "colab": {
          "base_uri": "https://localhost:8080/"
        },
        "id": "dY7Co2SA7A7i",
        "outputId": "dc25dc25-4daf-4f32-f05f-b81737fb07b4"
      },
      "execution_count": 10,
      "outputs": [
        {
          "output_type": "stream",
          "name": "stdout",
          "text": [
            "{'T', 'C', 'N', 'G', 'A'}\n"
          ]
        }
      ]
    },
    {
      "cell_type": "code",
      "source": [
        "f50pileup['base_count'] = f50pileup['matches'].apply(lambda x: len([c for c in x if c.upper() in ('A', 'T', 'G', 'C')]))\n",
        "f50pileup.head()"
      ],
      "metadata": {
        "colab": {
          "base_uri": "https://localhost:8080/",
          "height": 396
        },
        "id": "4WtdheuO0Fwx",
        "outputId": "61f915a2-c523-4481-f3c1-1562ec1d2837"
      },
      "execution_count": 11,
      "outputs": [
        {
          "output_type": "stream",
          "name": "stderr",
          "text": [
            "<ipython-input-11-dc38196e0fd8>:1: SettingWithCopyWarning: \n",
            "A value is trying to be set on a copy of a slice from a DataFrame.\n",
            "Try using .loc[row_indexer,col_indexer] = value instead\n",
            "\n",
            "See the caveats in the documentation: https://pandas.pydata.org/pandas-docs/stable/user_guide/indexing.html#returning-a-view-versus-a-copy\n",
            "  f50pileup['base_count'] = f50pileup['matches'].apply(lambda x: len([c for c in x if c.upper() in ('A', 'T', 'G', 'C')]))\n"
          ]
        },
        {
          "output_type": "execute_result",
          "data": {
            "text/plain": [
              "      chrom      pos ref  count  \\\n",
              "21616  chr9  3359542   N     51   \n",
              "21617  chr9  3359543   N     51   \n",
              "21618  chr9  3359544   N     51   \n",
              "21619  chr9  3359545   N     51   \n",
              "21620  chr9  3359546   N     51   \n",
              "\n",
              "                                               basereads  \\\n",
              "21616  GGGGGGGGGGGGGGGGGGGGGGGGGGGGGGGGGGGGGGGGGGGGGG...   \n",
              "21617  GGGGGGGGGGGGGGGGGGGGGGGGGGGGGGGGGGGGGGGGGGGGGG...   \n",
              "21618  AAAAAAAAAAAAAAAAAAAAAAAAAAAAAAAAAAAAAAAAAAAAAA...   \n",
              "21619  GGGGGGGGGGGGGGGGGGGGGGGGGGGGGGGGGGGGGGGGGGGGGG...   \n",
              "21620  TTTTTTTTTTTTTTTTTTTTTTTTTTTTTTTTTTTTTTTTTTTTTT...   \n",
              "\n",
              "                                                   quals  \\\n",
              "21616  HDEIHIIGIIIHHIIGAIIIGIBGIHBFGIHE?GIGIHGGHHIBII...   \n",
              "21617  IGEIHFG@IIIHHHIGFHIIEIBHIH;GGIHH=GIEIHIGHHIGII...   \n",
              "21618  IHBIHIIDHGIGHIIIDIIIDH0HH?DEHFHBBGIGIHIGHHDAII...   \n",
              "21619  IH8IHIIEIGIGHIIFFIIIGI=HIHDGGIHI;GHIIGHGHHI4DI...   \n",
              "21620  IHEIHHIEIGGDHIIDHIIIGI7HIH>GHIHI<GIGIFIGDHFCII...   \n",
              "\n",
              "                                                 matches  base_count  \n",
              "21616  GGGGGGGGGGGGGGGGGGGGGGGGGGGGGGGGGGGGGGGGGGGGGG...          51  \n",
              "21617  GGGGGGGGGGGGGGGGGGGGGGGGGGGGGGGGGGGGGGGGGGGGGG...          51  \n",
              "21618  AAAAAAAAAAAAAAAAAAAAAAAAAAAAAAAAAAAAAAAAAAAAAA...          51  \n",
              "21619  GGGGGGGGGGGGGGGGGGGGGGGGGGGGGGGGGGGGGGGGGGGGGG...          51  \n",
              "21620  TTTTTTTTTTTTTTTTTTTTTTTTTTTTTTTTTTTTTTTTTTTTTT...          51  "
            ],
            "text/html": [
              "\n",
              "  <div id=\"df-5d54b975-b6f6-459e-ba02-905b5b98e66b\">\n",
              "    <div class=\"colab-df-container\">\n",
              "      <div>\n",
              "<style scoped>\n",
              "    .dataframe tbody tr th:only-of-type {\n",
              "        vertical-align: middle;\n",
              "    }\n",
              "\n",
              "    .dataframe tbody tr th {\n",
              "        vertical-align: top;\n",
              "    }\n",
              "\n",
              "    .dataframe thead th {\n",
              "        text-align: right;\n",
              "    }\n",
              "</style>\n",
              "<table border=\"1\" class=\"dataframe\">\n",
              "  <thead>\n",
              "    <tr style=\"text-align: right;\">\n",
              "      <th></th>\n",
              "      <th>chrom</th>\n",
              "      <th>pos</th>\n",
              "      <th>ref</th>\n",
              "      <th>count</th>\n",
              "      <th>basereads</th>\n",
              "      <th>quals</th>\n",
              "      <th>matches</th>\n",
              "      <th>base_count</th>\n",
              "    </tr>\n",
              "  </thead>\n",
              "  <tbody>\n",
              "    <tr>\n",
              "      <th>21616</th>\n",
              "      <td>chr9</td>\n",
              "      <td>3359542</td>\n",
              "      <td>N</td>\n",
              "      <td>51</td>\n",
              "      <td>GGGGGGGGGGGGGGGGGGGGGGGGGGGGGGGGGGGGGGGGGGGGGG...</td>\n",
              "      <td>HDEIHIIGIIIHHIIGAIIIGIBGIHBFGIHE?GIGIHGGHHIBII...</td>\n",
              "      <td>GGGGGGGGGGGGGGGGGGGGGGGGGGGGGGGGGGGGGGGGGGGGGG...</td>\n",
              "      <td>51</td>\n",
              "    </tr>\n",
              "    <tr>\n",
              "      <th>21617</th>\n",
              "      <td>chr9</td>\n",
              "      <td>3359543</td>\n",
              "      <td>N</td>\n",
              "      <td>51</td>\n",
              "      <td>GGGGGGGGGGGGGGGGGGGGGGGGGGGGGGGGGGGGGGGGGGGGGG...</td>\n",
              "      <td>IGEIHFG@IIIHHHIGFHIIEIBHIH;GGIHH=GIEIHIGHHIGII...</td>\n",
              "      <td>GGGGGGGGGGGGGGGGGGGGGGGGGGGGGGGGGGGGGGGGGGGGGG...</td>\n",
              "      <td>51</td>\n",
              "    </tr>\n",
              "    <tr>\n",
              "      <th>21618</th>\n",
              "      <td>chr9</td>\n",
              "      <td>3359544</td>\n",
              "      <td>N</td>\n",
              "      <td>51</td>\n",
              "      <td>AAAAAAAAAAAAAAAAAAAAAAAAAAAAAAAAAAAAAAAAAAAAAA...</td>\n",
              "      <td>IHBIHIIDHGIGHIIIDIIIDH0HH?DEHFHBBGIGIHIGHHDAII...</td>\n",
              "      <td>AAAAAAAAAAAAAAAAAAAAAAAAAAAAAAAAAAAAAAAAAAAAAA...</td>\n",
              "      <td>51</td>\n",
              "    </tr>\n",
              "    <tr>\n",
              "      <th>21619</th>\n",
              "      <td>chr9</td>\n",
              "      <td>3359545</td>\n",
              "      <td>N</td>\n",
              "      <td>51</td>\n",
              "      <td>GGGGGGGGGGGGGGGGGGGGGGGGGGGGGGGGGGGGGGGGGGGGGG...</td>\n",
              "      <td>IH8IHIIEIGIGHIIFFIIIGI=HIHDGGIHI;GHIIGHGHHI4DI...</td>\n",
              "      <td>GGGGGGGGGGGGGGGGGGGGGGGGGGGGGGGGGGGGGGGGGGGGGG...</td>\n",
              "      <td>51</td>\n",
              "    </tr>\n",
              "    <tr>\n",
              "      <th>21620</th>\n",
              "      <td>chr9</td>\n",
              "      <td>3359546</td>\n",
              "      <td>N</td>\n",
              "      <td>51</td>\n",
              "      <td>TTTTTTTTTTTTTTTTTTTTTTTTTTTTTTTTTTTTTTTTTTTTTT...</td>\n",
              "      <td>IHEIHHIEIGGDHIIDHIIIGI7HIH&gt;GHIHI&lt;GIGIFIGDHFCII...</td>\n",
              "      <td>TTTTTTTTTTTTTTTTTTTTTTTTTTTTTTTTTTTTTTTTTTTTTT...</td>\n",
              "      <td>51</td>\n",
              "    </tr>\n",
              "  </tbody>\n",
              "</table>\n",
              "</div>\n",
              "      <button class=\"colab-df-convert\" onclick=\"convertToInteractive('df-5d54b975-b6f6-459e-ba02-905b5b98e66b')\"\n",
              "              title=\"Convert this dataframe to an interactive table.\"\n",
              "              style=\"display:none;\">\n",
              "        \n",
              "  <svg xmlns=\"http://www.w3.org/2000/svg\" height=\"24px\"viewBox=\"0 0 24 24\"\n",
              "       width=\"24px\">\n",
              "    <path d=\"M0 0h24v24H0V0z\" fill=\"none\"/>\n",
              "    <path d=\"M18.56 5.44l.94 2.06.94-2.06 2.06-.94-2.06-.94-.94-2.06-.94 2.06-2.06.94zm-11 1L8.5 8.5l.94-2.06 2.06-.94-2.06-.94L8.5 2.5l-.94 2.06-2.06.94zm10 10l.94 2.06.94-2.06 2.06-.94-2.06-.94-.94-2.06-.94 2.06-2.06.94z\"/><path d=\"M17.41 7.96l-1.37-1.37c-.4-.4-.92-.59-1.43-.59-.52 0-1.04.2-1.43.59L10.3 9.45l-7.72 7.72c-.78.78-.78 2.05 0 2.83L4 21.41c.39.39.9.59 1.41.59.51 0 1.02-.2 1.41-.59l7.78-7.78 2.81-2.81c.8-.78.8-2.07 0-2.86zM5.41 20L4 18.59l7.72-7.72 1.47 1.35L5.41 20z\"/>\n",
              "  </svg>\n",
              "      </button>\n",
              "      \n",
              "  <style>\n",
              "    .colab-df-container {\n",
              "      display:flex;\n",
              "      flex-wrap:wrap;\n",
              "      gap: 12px;\n",
              "    }\n",
              "\n",
              "    .colab-df-convert {\n",
              "      background-color: #E8F0FE;\n",
              "      border: none;\n",
              "      border-radius: 50%;\n",
              "      cursor: pointer;\n",
              "      display: none;\n",
              "      fill: #1967D2;\n",
              "      height: 32px;\n",
              "      padding: 0 0 0 0;\n",
              "      width: 32px;\n",
              "    }\n",
              "\n",
              "    .colab-df-convert:hover {\n",
              "      background-color: #E2EBFA;\n",
              "      box-shadow: 0px 1px 2px rgba(60, 64, 67, 0.3), 0px 1px 3px 1px rgba(60, 64, 67, 0.15);\n",
              "      fill: #174EA6;\n",
              "    }\n",
              "\n",
              "    [theme=dark] .colab-df-convert {\n",
              "      background-color: #3B4455;\n",
              "      fill: #D2E3FC;\n",
              "    }\n",
              "\n",
              "    [theme=dark] .colab-df-convert:hover {\n",
              "      background-color: #434B5C;\n",
              "      box-shadow: 0px 1px 3px 1px rgba(0, 0, 0, 0.15);\n",
              "      filter: drop-shadow(0px 1px 2px rgba(0, 0, 0, 0.3));\n",
              "      fill: #FFFFFF;\n",
              "    }\n",
              "  </style>\n",
              "\n",
              "      <script>\n",
              "        const buttonEl =\n",
              "          document.querySelector('#df-5d54b975-b6f6-459e-ba02-905b5b98e66b button.colab-df-convert');\n",
              "        buttonEl.style.display =\n",
              "          google.colab.kernel.accessAllowed ? 'block' : 'none';\n",
              "\n",
              "        async function convertToInteractive(key) {\n",
              "          const element = document.querySelector('#df-5d54b975-b6f6-459e-ba02-905b5b98e66b');\n",
              "          const dataTable =\n",
              "            await google.colab.kernel.invokeFunction('convertToInteractive',\n",
              "                                                     [key], {});\n",
              "          if (!dataTable) return;\n",
              "\n",
              "          const docLinkHtml = 'Like what you see? Visit the ' +\n",
              "            '<a target=\"_blank\" href=https://colab.research.google.com/notebooks/data_table.ipynb>data table notebook</a>'\n",
              "            + ' to learn more about interactive tables.';\n",
              "          element.innerHTML = '';\n",
              "          dataTable['output_type'] = 'display_data';\n",
              "          await google.colab.output.renderOutput(dataTable, element);\n",
              "          const docLink = document.createElement('div');\n",
              "          docLink.innerHTML = docLinkHtml;\n",
              "          element.appendChild(docLink);\n",
              "        }\n",
              "      </script>\n",
              "    </div>\n",
              "  </div>\n",
              "  "
            ]
          },
          "metadata": {},
          "execution_count": 11
        }
      ]
    },
    {
      "cell_type": "code",
      "execution_count": null,
      "metadata": {
        "colab": {
          "base_uri": "https://localhost:8080/"
        },
        "id": "aX5DjWZcqnag",
        "outputId": "e76f3799-2309-4304-98e4-db6f5026b00f"
      },
      "outputs": [
        {
          "output_type": "execute_result",
          "data": {
            "text/plain": [
              "array([   0,    1,    2, ..., 7989, 7990, 7994])"
            ]
          },
          "metadata": {},
          "execution_count": 302
        }
      ],
      "source": [
        "np.unique(f50pileup['base_count'])"
      ]
    },
    {
      "cell_type": "markdown",
      "metadata": {
        "id": "E_0_hO3StYR4"
      },
      "source": [
        "Colab RAM사용 제한 상, 데이터가 날라가는 것을 방지하기 위해 일단 결과 csv 저장"
      ]
    },
    {
      "cell_type": "code",
      "execution_count": null,
      "metadata": {
        "id": "Eq6jlhtctXta"
      },
      "outputs": [],
      "source": [
        "f50pileup.to_csv('f50pileup.csv', index=True)"
      ]
    },
    {
      "cell_type": "code",
      "execution_count": null,
      "metadata": {
        "colab": {
          "base_uri": "https://localhost:8080/",
          "height": 287
        },
        "id": "dwPHY6D5xWpK",
        "outputId": "70c97e4c-b82c-4528-ef7d-a2208af59db8"
      },
      "outputs": [
        {
          "output_type": "execute_result",
          "data": {
            "text/plain": [
              "      chrom      pos ref  count  \\\n",
              "21616  chr9  3359542   N     51   \n",
              "21617  chr9  3359543   N     51   \n",
              "21618  chr9  3359544   N     51   \n",
              "21619  chr9  3359545   N     51   \n",
              "21620  chr9  3359546   N     51   \n",
              "\n",
              "                                               basereads  \\\n",
              "21616  GGGGGGGGGGGGGGGGGGGGGGGGGGGGGGGGGGGGGGGGGGGGGG...   \n",
              "21617  GGGGGGGGGGGGGGGGGGGGGGGGGGGGGGGGGGGGGGGGGGGGGG...   \n",
              "21618  AAAAAAAAAAAAAAAAAAAAAAAAAAAAAAAAAAAAAAAAAAAAAA...   \n",
              "21619  GGGGGGGGGGGGGGGGGGGGGGGGGGGGGGGGGGGGGGGGGGGGGG...   \n",
              "21620  TTTTTTTTTTTTTTTTTTTTTTTTTTTTTTTTTTTTTTTTTTTTTT...   \n",
              "\n",
              "                                                   quals  \\\n",
              "21616  HDEIHIIGIIIHHIIGAIIIGIBGIHBFGIHE?GIGIHGGHHIBII...   \n",
              "21617  IGEIHFG@IIIHHHIGFHIIEIBHIH;GGIHH=GIEIHIGHHIGII...   \n",
              "21618  IHBIHIIDHGIGHIIIDIIIDH0HH?DEHFHBBGIGIHIGHHDAII...   \n",
              "21619  IH8IHIIEIGIGHIIFFIIIGI=HIHDGGIHI;GHIIGHGHHI4DI...   \n",
              "21620  IHEIHHIEIGGDHIIDHIIIGI7HIH>GHIHI<GIGIFIGDHFCII...   \n",
              "\n",
              "                                                 matches  base_count  \n",
              "21616  GGGGGGGGGGGGGGGGGGGGGGGGGGGGGGGGGGGGGGGGGGGGGG...          51  \n",
              "21617  GGGGGGGGGGGGGGGGGGGGGGGGGGGGGGGGGGGGGGGGGGGGGG...          51  \n",
              "21618  AAAAAAAAAAAAAAAAAAAAAAAAAAAAAAAAAAAAAAAAAAAAAA...          51  \n",
              "21619  GGGGGGGGGGGGGGGGGGGGGGGGGGGGGGGGGGGGGGGGGGGGGG...          51  \n",
              "21620  TTTTTTTTTTTTTTTTTTTTTTTTTTTTTTTTTTTTTTTTTTTTTT...          51  "
            ],
            "text/html": [
              "\n",
              "  <div id=\"df-c5ac996f-388d-4fb5-a5e9-fe7092e99b55\">\n",
              "    <div class=\"colab-df-container\">\n",
              "      <div>\n",
              "<style scoped>\n",
              "    .dataframe tbody tr th:only-of-type {\n",
              "        vertical-align: middle;\n",
              "    }\n",
              "\n",
              "    .dataframe tbody tr th {\n",
              "        vertical-align: top;\n",
              "    }\n",
              "\n",
              "    .dataframe thead th {\n",
              "        text-align: right;\n",
              "    }\n",
              "</style>\n",
              "<table border=\"1\" class=\"dataframe\">\n",
              "  <thead>\n",
              "    <tr style=\"text-align: right;\">\n",
              "      <th></th>\n",
              "      <th>chrom</th>\n",
              "      <th>pos</th>\n",
              "      <th>ref</th>\n",
              "      <th>count</th>\n",
              "      <th>basereads</th>\n",
              "      <th>quals</th>\n",
              "      <th>matches</th>\n",
              "      <th>base_count</th>\n",
              "    </tr>\n",
              "  </thead>\n",
              "  <tbody>\n",
              "    <tr>\n",
              "      <th>21616</th>\n",
              "      <td>chr9</td>\n",
              "      <td>3359542</td>\n",
              "      <td>N</td>\n",
              "      <td>51</td>\n",
              "      <td>GGGGGGGGGGGGGGGGGGGGGGGGGGGGGGGGGGGGGGGGGGGGGG...</td>\n",
              "      <td>HDEIHIIGIIIHHIIGAIIIGIBGIHBFGIHE?GIGIHGGHHIBII...</td>\n",
              "      <td>GGGGGGGGGGGGGGGGGGGGGGGGGGGGGGGGGGGGGGGGGGGGGG...</td>\n",
              "      <td>51</td>\n",
              "    </tr>\n",
              "    <tr>\n",
              "      <th>21617</th>\n",
              "      <td>chr9</td>\n",
              "      <td>3359543</td>\n",
              "      <td>N</td>\n",
              "      <td>51</td>\n",
              "      <td>GGGGGGGGGGGGGGGGGGGGGGGGGGGGGGGGGGGGGGGGGGGGGG...</td>\n",
              "      <td>IGEIHFG@IIIHHHIGFHIIEIBHIH;GGIHH=GIEIHIGHHIGII...</td>\n",
              "      <td>GGGGGGGGGGGGGGGGGGGGGGGGGGGGGGGGGGGGGGGGGGGGGG...</td>\n",
              "      <td>51</td>\n",
              "    </tr>\n",
              "    <tr>\n",
              "      <th>21618</th>\n",
              "      <td>chr9</td>\n",
              "      <td>3359544</td>\n",
              "      <td>N</td>\n",
              "      <td>51</td>\n",
              "      <td>AAAAAAAAAAAAAAAAAAAAAAAAAAAAAAAAAAAAAAAAAAAAAA...</td>\n",
              "      <td>IHBIHIIDHGIGHIIIDIIIDH0HH?DEHFHBBGIGIHIGHHDAII...</td>\n",
              "      <td>AAAAAAAAAAAAAAAAAAAAAAAAAAAAAAAAAAAAAAAAAAAAAA...</td>\n",
              "      <td>51</td>\n",
              "    </tr>\n",
              "    <tr>\n",
              "      <th>21619</th>\n",
              "      <td>chr9</td>\n",
              "      <td>3359545</td>\n",
              "      <td>N</td>\n",
              "      <td>51</td>\n",
              "      <td>GGGGGGGGGGGGGGGGGGGGGGGGGGGGGGGGGGGGGGGGGGGGGG...</td>\n",
              "      <td>IH8IHIIEIGIGHIIFFIIIGI=HIHDGGIHI;GHIIGHGHHI4DI...</td>\n",
              "      <td>GGGGGGGGGGGGGGGGGGGGGGGGGGGGGGGGGGGGGGGGGGGGGG...</td>\n",
              "      <td>51</td>\n",
              "    </tr>\n",
              "    <tr>\n",
              "      <th>21620</th>\n",
              "      <td>chr9</td>\n",
              "      <td>3359546</td>\n",
              "      <td>N</td>\n",
              "      <td>51</td>\n",
              "      <td>TTTTTTTTTTTTTTTTTTTTTTTTTTTTTTTTTTTTTTTTTTTTTT...</td>\n",
              "      <td>IHEIHHIEIGGDHIIDHIIIGI7HIH&gt;GHIHI&lt;GIGIFIGDHFCII...</td>\n",
              "      <td>TTTTTTTTTTTTTTTTTTTTTTTTTTTTTTTTTTTTTTTTTTTTTT...</td>\n",
              "      <td>51</td>\n",
              "    </tr>\n",
              "  </tbody>\n",
              "</table>\n",
              "</div>\n",
              "      <button class=\"colab-df-convert\" onclick=\"convertToInteractive('df-c5ac996f-388d-4fb5-a5e9-fe7092e99b55')\"\n",
              "              title=\"Convert this dataframe to an interactive table.\"\n",
              "              style=\"display:none;\">\n",
              "        \n",
              "  <svg xmlns=\"http://www.w3.org/2000/svg\" height=\"24px\"viewBox=\"0 0 24 24\"\n",
              "       width=\"24px\">\n",
              "    <path d=\"M0 0h24v24H0V0z\" fill=\"none\"/>\n",
              "    <path d=\"M18.56 5.44l.94 2.06.94-2.06 2.06-.94-2.06-.94-.94-2.06-.94 2.06-2.06.94zm-11 1L8.5 8.5l.94-2.06 2.06-.94-2.06-.94L8.5 2.5l-.94 2.06-2.06.94zm10 10l.94 2.06.94-2.06 2.06-.94-2.06-.94-.94-2.06-.94 2.06-2.06.94z\"/><path d=\"M17.41 7.96l-1.37-1.37c-.4-.4-.92-.59-1.43-.59-.52 0-1.04.2-1.43.59L10.3 9.45l-7.72 7.72c-.78.78-.78 2.05 0 2.83L4 21.41c.39.39.9.59 1.41.59.51 0 1.02-.2 1.41-.59l7.78-7.78 2.81-2.81c.8-.78.8-2.07 0-2.86zM5.41 20L4 18.59l7.72-7.72 1.47 1.35L5.41 20z\"/>\n",
              "  </svg>\n",
              "      </button>\n",
              "      \n",
              "  <style>\n",
              "    .colab-df-container {\n",
              "      display:flex;\n",
              "      flex-wrap:wrap;\n",
              "      gap: 12px;\n",
              "    }\n",
              "\n",
              "    .colab-df-convert {\n",
              "      background-color: #E8F0FE;\n",
              "      border: none;\n",
              "      border-radius: 50%;\n",
              "      cursor: pointer;\n",
              "      display: none;\n",
              "      fill: #1967D2;\n",
              "      height: 32px;\n",
              "      padding: 0 0 0 0;\n",
              "      width: 32px;\n",
              "    }\n",
              "\n",
              "    .colab-df-convert:hover {\n",
              "      background-color: #E2EBFA;\n",
              "      box-shadow: 0px 1px 2px rgba(60, 64, 67, 0.3), 0px 1px 3px 1px rgba(60, 64, 67, 0.15);\n",
              "      fill: #174EA6;\n",
              "    }\n",
              "\n",
              "    [theme=dark] .colab-df-convert {\n",
              "      background-color: #3B4455;\n",
              "      fill: #D2E3FC;\n",
              "    }\n",
              "\n",
              "    [theme=dark] .colab-df-convert:hover {\n",
              "      background-color: #434B5C;\n",
              "      box-shadow: 0px 1px 3px 1px rgba(0, 0, 0, 0.15);\n",
              "      filter: drop-shadow(0px 1px 2px rgba(0, 0, 0, 0.3));\n",
              "      fill: #FFFFFF;\n",
              "    }\n",
              "  </style>\n",
              "\n",
              "      <script>\n",
              "        const buttonEl =\n",
              "          document.querySelector('#df-c5ac996f-388d-4fb5-a5e9-fe7092e99b55 button.colab-df-convert');\n",
              "        buttonEl.style.display =\n",
              "          google.colab.kernel.accessAllowed ? 'block' : 'none';\n",
              "\n",
              "        async function convertToInteractive(key) {\n",
              "          const element = document.querySelector('#df-c5ac996f-388d-4fb5-a5e9-fe7092e99b55');\n",
              "          const dataTable =\n",
              "            await google.colab.kernel.invokeFunction('convertToInteractive',\n",
              "                                                     [key], {});\n",
              "          if (!dataTable) return;\n",
              "\n",
              "          const docLinkHtml = 'Like what you see? Visit the ' +\n",
              "            '<a target=\"_blank\" href=https://colab.research.google.com/notebooks/data_table.ipynb>data table notebook</a>'\n",
              "            + ' to learn more about interactive tables.';\n",
              "          element.innerHTML = '';\n",
              "          dataTable['output_type'] = 'display_data';\n",
              "          await google.colab.output.renderOutput(dataTable, element);\n",
              "          const docLink = document.createElement('div');\n",
              "          docLink.innerHTML = docLinkHtml;\n",
              "          element.appendChild(docLink);\n",
              "        }\n",
              "      </script>\n",
              "    </div>\n",
              "  </div>\n",
              "  "
            ]
          },
          "metadata": {},
          "execution_count": 13
        }
      ],
      "source": [
        "f50pileup.head()"
      ]
    },
    {
      "cell_type": "code",
      "execution_count": 16,
      "metadata": {
        "colab": {
          "base_uri": "https://localhost:8080/",
          "height": 472
        },
        "id": "9h7oIzfklvNA",
        "outputId": "9e6abcf1-9a6e-4c6b-8b56-73b512063cf2"
      },
      "outputs": [
        {
          "output_type": "display_data",
          "data": {
            "text/plain": [
              "<Figure size 640x480 with 1 Axes>"
            ],
            "image/png": "[encoded data removed]"
          },
          "metadata": {}
        }
      ],
      "source": [
        "x = f50pileup['pos']\n",
        "y = f50pileup['base_count']\n",
        "\n",
        "plt.scatter(x, y,s=0.5)\n",
        "plt.xlabel('Position')\n",
        "plt.ylabel('Read depth')\n",
        "plt.title('Distribution of reads depth on position (chr=9)')\n",
        "plt.axhline(250, c='red', linewidth=1)\n",
        "plt.show()"
      ]
    },
    {
      "cell_type": "code",
      "source": [
        "smallpup = f50pileup[(f50pileup['base_count'] > 130) & (f50pileup['base_count'] < 250)]\n",
        "\n",
        "x = smallpup['pos']\n",
        "y = smallpup['count']\n",
        "plt.scatter(x, y,s=0.5)\n",
        "plt.xlabel('Position')\n",
        "plt.ylabel('Read depth (without insertion)')\n",
        "plt.title('Distribution of reads depth on position (chr=9)')\n",
        "plt.show()"
      ],
      "metadata": {
        "colab": {
          "base_uri": "https://localhost:8080/",
          "height": 472
        },
        "id": "SRMZHQ9Uzv8y",
        "outputId": "0be2ecb6-36e2-4e0b-e119-bc058ee08c51"
      },
      "execution_count": 17,
      "outputs": [
        {
          "output_type": "display_data",
          "data": {
            "text/plain": [
              "<Figure size 640x480 with 1 Axes>"
            ],
            "image/png": "[encoded data removed]"
          },
          "metadata": {}
        }
      ]
    },
    {
      "cell_type": "code",
      "execution_count": null,
      "metadata": {
        "id": "a2Q5KkmCRy45"
      },
      "outputs": [],
      "source": [
        "pup = f50pileup[(f50pileup['base_count'] < 250)]"
      ]
    },
    {
      "cell_type": "code",
      "source": [
        "x = pup['pos']\n",
        "y = pup['base_count']\n",
        "plt.scatter(x, y,s=0.5)\n",
        "plt.xlabel('Position')\n",
        "plt.ylabel('Read depth')\n",
        "plt.title('Distribution of reads depth on position (chr=9)')\n",
        "plt.show()"
      ],
      "metadata": {
        "colab": {
          "base_uri": "https://localhost:8080/",
          "height": 472
        },
        "id": "iPSv7rggzYci",
        "outputId": "6ce168d0-78bf-4b32-9143-0db3c4a5eb45"
      },
      "execution_count": null,
      "outputs": [
        {
          "output_type": "display_data",
          "data": {
            "text/plain": [
              "<Figure size 640x480 with 1 Axes>"
            ],
            "image/png": "[encoded data removed]"
          },
          "metadata": {}
        }
      ]
    },
    {
      "cell_type": "code",
      "source": [
        "pup = f50pileup[(f50pileup['base_count'] < 250) & (f50pileup['base_count'] > 50)]"
      ],
      "metadata": {
        "id": "BBUahF400uHh"
      },
      "execution_count": 78,
      "outputs": []
    },
    {
      "cell_type": "code",
      "source": [
        "pup['matches'].apply(len)"
      ],
      "metadata": {
        "colab": {
          "base_uri": "https://localhost:8080/"
        },
        "id": "klfFXwLk5UZs",
        "outputId": "14204e87-b8d1-4e93-e4ac-1b50d0654f2d"
      },
      "execution_count": 79,
      "outputs": [
        {
          "output_type": "execute_result",
          "data": {
            "text/plain": [
              "21616       51\n",
              "21617       51\n",
              "21618       51\n",
              "21619       51\n",
              "21620       51\n",
              "            ..\n",
              "18081219    51\n",
              "18081221    51\n",
              "18081222    51\n",
              "18081223    51\n",
              "18081224    57\n",
              "Name: matches, Length: 40671, dtype: int64"
            ]
          },
          "metadata": {},
          "execution_count": 79
        }
      ]
    },
    {
      "cell_type": "markdown",
      "source": [
        "한 position에 A,T,G,C가 존재하므로, 확률은 \n",
        "S={A,T,G,C,N}\n",
        "p(A), p(T), p(G), p(C) 을 구해서 shannon entropy를 구해야 한다."
      ],
      "metadata": {
        "id": "iD30KeaY80O6"
      }
    },
    {
      "cell_type": "code",
      "source": [
        "for pos, row in pup.iterrows():\n",
        "    if row['base_count'] == 0:\n",
        "        pup.loc[pos,'countA'] = '0'\n",
        "        pup.loc[pos,'countT'] = '0'\n",
        "        pup.loc[pos,'countG'] = '0'\n",
        "        pup.loc[pos,'countC'] = '0'\n",
        "    else:\n",
        "        pup.loc[pos,'countA'] = (row['matches'].count('A'))/row['base_count']\n",
        "        pup.loc[pos,'countT'] = (row['matches'].count('T'))/row['base_count']\n",
        "        pup.loc[pos,'countG'] = (row['matches'].count('G'))/row['base_count']\n",
        "        pup.loc[pos,'countC'] = (row['matches'].count('C'))/row['base_count']"
      ],
      "metadata": {
        "id": "0JE3gxkC5_KX"
      },
      "execution_count": 80,
      "outputs": []
    },
    {
      "cell_type": "code",
      "source": [
        "pup[['countA', 'countT', 'countG', 'countC']].head()"
      ],
      "metadata": {
        "colab": {
          "base_uri": "https://localhost:8080/",
          "height": 206
        },
        "id": "DmMNaln1AZDs",
        "outputId": "90c1feb1-4152-4cd6-e3b2-fc3e4d10563d"
      },
      "execution_count": 81,
      "outputs": [
        {
          "output_type": "execute_result",
          "data": {
            "text/plain": [
              "       countA  countT  countG  countC\n",
              "21616     0.0     0.0     1.0     0.0\n",
              "21617     0.0     0.0     1.0     0.0\n",
              "21618     1.0     0.0     0.0     0.0\n",
              "21619     0.0     0.0     1.0     0.0\n",
              "21620     0.0     1.0     0.0     0.0"
            ],
            "text/html": [
              "\n",
              "  <div id=\"df-09a25fad-b0e7-4d99-92ab-8407d2b18b8c\">\n",
              "    <div class=\"colab-df-container\">\n",
              "      <div>\n",
              "<style scoped>\n",
              "    .dataframe tbody tr th:only-of-type {\n",
              "        vertical-align: middle;\n",
              "    }\n",
              "\n",
              "    .dataframe tbody tr th {\n",
              "        vertical-align: top;\n",
              "    }\n",
              "\n",
              "    .dataframe thead th {\n",
              "        text-align: right;\n",
              "    }\n",
              "</style>\n",
              "<table border=\"1\" class=\"dataframe\">\n",
              "  <thead>\n",
              "    <tr style=\"text-align: right;\">\n",
              "      <th></th>\n",
              "      <th>countA</th>\n",
              "      <th>countT</th>\n",
              "      <th>countG</th>\n",
              "      <th>countC</th>\n",
              "    </tr>\n",
              "  </thead>\n",
              "  <tbody>\n",
              "    <tr>\n",
              "      <th>21616</th>\n",
              "      <td>0.0</td>\n",
              "      <td>0.0</td>\n",
              "      <td>1.0</td>\n",
              "      <td>0.0</td>\n",
              "    </tr>\n",
              "    <tr>\n",
              "      <th>21617</th>\n",
              "      <td>0.0</td>\n",
              "      <td>0.0</td>\n",
              "      <td>1.0</td>\n",
              "      <td>0.0</td>\n",
              "    </tr>\n",
              "    <tr>\n",
              "      <th>21618</th>\n",
              "      <td>1.0</td>\n",
              "      <td>0.0</td>\n",
              "      <td>0.0</td>\n",
              "      <td>0.0</td>\n",
              "    </tr>\n",
              "    <tr>\n",
              "      <th>21619</th>\n",
              "      <td>0.0</td>\n",
              "      <td>0.0</td>\n",
              "      <td>1.0</td>\n",
              "      <td>0.0</td>\n",
              "    </tr>\n",
              "    <tr>\n",
              "      <th>21620</th>\n",
              "      <td>0.0</td>\n",
              "      <td>1.0</td>\n",
              "      <td>0.0</td>\n",
              "      <td>0.0</td>\n",
              "    </tr>\n",
              "  </tbody>\n",
              "</table>\n",
              "</div>\n",
              "      <button class=\"colab-df-convert\" onclick=\"convertToInteractive('df-09a25fad-b0e7-4d99-92ab-8407d2b18b8c')\"\n",
              "              title=\"Convert this dataframe to an interactive table.\"\n",
              "              style=\"display:none;\">\n",
              "        \n",
              "  <svg xmlns=\"http://www.w3.org/2000/svg\" height=\"24px\"viewBox=\"0 0 24 24\"\n",
              "       width=\"24px\">\n",
              "    <path d=\"M0 0h24v24H0V0z\" fill=\"none\"/>\n",
              "    <path d=\"M18.56 5.44l.94 2.06.94-2.06 2.06-.94-2.06-.94-.94-2.06-.94 2.06-2.06.94zm-11 1L8.5 8.5l.94-2.06 2.06-.94-2.06-.94L8.5 2.5l-.94 2.06-2.06.94zm10 10l.94 2.06.94-2.06 2.06-.94-2.06-.94-.94-2.06-.94 2.06-2.06.94z\"/><path d=\"M17.41 7.96l-1.37-1.37c-.4-.4-.92-.59-1.43-.59-.52 0-1.04.2-1.43.59L10.3 9.45l-7.72 7.72c-.78.78-.78 2.05 0 2.83L4 21.41c.39.39.9.59 1.41.59.51 0 1.02-.2 1.41-.59l7.78-7.78 2.81-2.81c.8-.78.8-2.07 0-2.86zM5.41 20L4 18.59l7.72-7.72 1.47 1.35L5.41 20z\"/>\n",
              "  </svg>\n",
              "      </button>\n",
              "      \n",
              "  <style>\n",
              "    .colab-df-container {\n",
              "      display:flex;\n",
              "      flex-wrap:wrap;\n",
              "      gap: 12px;\n",
              "    }\n",
              "\n",
              "    .colab-df-convert {\n",
              "      background-color: #E8F0FE;\n",
              "      border: none;\n",
              "      border-radius: 50%;\n",
              "      cursor: pointer;\n",
              "      display: none;\n",
              "      fill: #1967D2;\n",
              "      height: 32px;\n",
              "      padding: 0 0 0 0;\n",
              "      width: 32px;\n",
              "    }\n",
              "\n",
              "    .colab-df-convert:hover {\n",
              "      background-color: #E2EBFA;\n",
              "      box-shadow: 0px 1px 2px rgba(60, 64, 67, 0.3), 0px 1px 3px 1px rgba(60, 64, 67, 0.15);\n",
              "      fill: #174EA6;\n",
              "    }\n",
              "\n",
              "    [theme=dark] .colab-df-convert {\n",
              "      background-color: #3B4455;\n",
              "      fill: #D2E3FC;\n",
              "    }\n",
              "\n",
              "    [theme=dark] .colab-df-convert:hover {\n",
              "      background-color: #434B5C;\n",
              "      box-shadow: 0px 1px 3px 1px rgba(0, 0, 0, 0.15);\n",
              "      filter: drop-shadow(0px 1px 2px rgba(0, 0, 0, 0.3));\n",
              "      fill: #FFFFFF;\n",
              "    }\n",
              "  </style>\n",
              "\n",
              "      <script>\n",
              "        const buttonEl =\n",
              "          document.querySelector('#df-09a25fad-b0e7-4d99-92ab-8407d2b18b8c button.colab-df-convert');\n",
              "        buttonEl.style.display =\n",
              "          google.colab.kernel.accessAllowed ? 'block' : 'none';\n",
              "\n",
              "        async function convertToInteractive(key) {\n",
              "          const element = document.querySelector('#df-09a25fad-b0e7-4d99-92ab-8407d2b18b8c');\n",
              "          const dataTable =\n",
              "            await google.colab.kernel.invokeFunction('convertToInteractive',\n",
              "                                                     [key], {});\n",
              "          if (!dataTable) return;\n",
              "\n",
              "          const docLinkHtml = 'Like what you see? Visit the ' +\n",
              "            '<a target=\"_blank\" href=https://colab.research.google.com/notebooks/data_table.ipynb>data table notebook</a>'\n",
              "            + ' to learn more about interactive tables.';\n",
              "          element.innerHTML = '';\n",
              "          dataTable['output_type'] = 'display_data';\n",
              "          await google.colab.output.renderOutput(dataTable, element);\n",
              "          const docLink = document.createElement('div');\n",
              "          docLink.innerHTML = docLinkHtml;\n",
              "          element.appendChild(docLink);\n",
              "        }\n",
              "      </script>\n",
              "    </div>\n",
              "  </div>\n",
              "  "
            ]
          },
          "metadata": {},
          "execution_count": 81
        }
      ]
    },
    {
      "cell_type": "code",
      "source": [
        "pup['shannon'] = np.zeros(len(pup))\n",
        "\n",
        "for i, row in pup.iterrows():\n",
        "    countA = float(row['countA'])\n",
        "    countT = float(row['countT'])\n",
        "    countG = float(row['countG'])\n",
        "    countC = float(row['countC'])\n",
        "    \n",
        "    if countA <= 0.0 or countA >= 1.0:\n",
        "        pup.loc[i, 'shannon'] += 0\n",
        "    else:\n",
        "        pup.loc[i, 'shannon'] += countA * np.log2(countA)\n",
        "    \n",
        "    if countT <= 0.0 or countT >= 1.0:\n",
        "        pup.loc[i, 'shannon'] += 0\n",
        "    else:\n",
        "        pup.loc[i, 'shannon'] += countT * np.log2(countT)\n",
        "    \n",
        "    if countG <= 0.0 or countG >= 1.0:\n",
        "        pup.loc[i, 'shannon'] += 0\n",
        "    else:\n",
        "        pup.loc[i, 'shannon'] += countG * np.log2(countG)\n",
        "    \n",
        "    if countC <= 0.0 or countC >= 1.0:\n",
        "        pup.loc[i, 'shannon'] += 0\n",
        "    else:\n",
        "        pup.loc[i, 'shannon'] += countC * np.log2(countC)\n"
      ],
      "metadata": {
        "id": "Fykhe5wdFIOb"
      },
      "execution_count": null,
      "outputs": []
    },
    {
      "cell_type": "code",
      "source": [
        "pup[['countA', 'countT', 'countG', 'countC','shannon']].head()"
      ],
      "metadata": {
        "colab": {
          "base_uri": "https://localhost:8080/",
          "height": 206
        },
        "id": "p06frkF1IYbx",
        "outputId": "bc8db06b-ce5c-4ac3-cd64-28c74cb5ffc9"
      },
      "execution_count": 83,
      "outputs": [
        {
          "output_type": "execute_result",
          "data": {
            "text/plain": [
              "       countA  countT  countG  countC  shannon\n",
              "21616     0.0     0.0     1.0     0.0      0.0\n",
              "21617     0.0     0.0     1.0     0.0      0.0\n",
              "21618     1.0     0.0     0.0     0.0      0.0\n",
              "21619     0.0     0.0     1.0     0.0      0.0\n",
              "21620     0.0     1.0     0.0     0.0      0.0"
            ],
            "text/html": [
              "\n",
              "  <div id=\"df-670ae34b-4379-4f07-a55d-337c70ef2cc4\">\n",
              "    <div class=\"colab-df-container\">\n",
              "      <div>\n",
              "<style scoped>\n",
              "    .dataframe tbody tr th:only-of-type {\n",
              "        vertical-align: middle;\n",
              "    }\n",
              "\n",
              "    .dataframe tbody tr th {\n",
              "        vertical-align: top;\n",
              "    }\n",
              "\n",
              "    .dataframe thead th {\n",
              "        text-align: right;\n",
              "    }\n",
              "</style>\n",
              "<table border=\"1\" class=\"dataframe\">\n",
              "  <thead>\n",
              "    <tr style=\"text-align: right;\">\n",
              "      <th></th>\n",
              "      <th>countA</th>\n",
              "      <th>countT</th>\n",
              "      <th>countG</th>\n",
              "      <th>countC</th>\n",
              "      <th>shannon</th>\n",
              "    </tr>\n",
              "  </thead>\n",
              "  <tbody>\n",
              "    <tr>\n",
              "      <th>21616</th>\n",
              "      <td>0.0</td>\n",
              "      <td>0.0</td>\n",
              "      <td>1.0</td>\n",
              "      <td>0.0</td>\n",
              "      <td>0.0</td>\n",
              "    </tr>\n",
              "    <tr>\n",
              "      <th>21617</th>\n",
              "      <td>0.0</td>\n",
              "      <td>0.0</td>\n",
              "      <td>1.0</td>\n",
              "      <td>0.0</td>\n",
              "      <td>0.0</td>\n",
              "    </tr>\n",
              "    <tr>\n",
              "      <th>21618</th>\n",
              "      <td>1.0</td>\n",
              "      <td>0.0</td>\n",
              "      <td>0.0</td>\n",
              "      <td>0.0</td>\n",
              "      <td>0.0</td>\n",
              "    </tr>\n",
              "    <tr>\n",
              "      <th>21619</th>\n",
              "      <td>0.0</td>\n",
              "      <td>0.0</td>\n",
              "      <td>1.0</td>\n",
              "      <td>0.0</td>\n",
              "      <td>0.0</td>\n",
              "    </tr>\n",
              "    <tr>\n",
              "      <th>21620</th>\n",
              "      <td>0.0</td>\n",
              "      <td>1.0</td>\n",
              "      <td>0.0</td>\n",
              "      <td>0.0</td>\n",
              "      <td>0.0</td>\n",
              "    </tr>\n",
              "  </tbody>\n",
              "</table>\n",
              "</div>\n",
              "      <button class=\"colab-df-convert\" onclick=\"convertToInteractive('df-670ae34b-4379-4f07-a55d-337c70ef2cc4')\"\n",
              "              title=\"Convert this dataframe to an interactive table.\"\n",
              "              style=\"display:none;\">\n",
              "        \n",
              "  <svg xmlns=\"http://www.w3.org/2000/svg\" height=\"24px\"viewBox=\"0 0 24 24\"\n",
              "       width=\"24px\">\n",
              "    <path d=\"M0 0h24v24H0V0z\" fill=\"none\"/>\n",
              "    <path d=\"M18.56 5.44l.94 2.06.94-2.06 2.06-.94-2.06-.94-.94-2.06-.94 2.06-2.06.94zm-11 1L8.5 8.5l.94-2.06 2.06-.94-2.06-.94L8.5 2.5l-.94 2.06-2.06.94zm10 10l.94 2.06.94-2.06 2.06-.94-2.06-.94-.94-2.06-.94 2.06-2.06.94z\"/><path d=\"M17.41 7.96l-1.37-1.37c-.4-.4-.92-.59-1.43-.59-.52 0-1.04.2-1.43.59L10.3 9.45l-7.72 7.72c-.78.78-.78 2.05 0 2.83L4 21.41c.39.39.9.59 1.41.59.51 0 1.02-.2 1.41-.59l7.78-7.78 2.81-2.81c.8-.78.8-2.07 0-2.86zM5.41 20L4 18.59l7.72-7.72 1.47 1.35L5.41 20z\"/>\n",
              "  </svg>\n",
              "      </button>\n",
              "      \n",
              "  <style>\n",
              "    .colab-df-container {\n",
              "      display:flex;\n",
              "      flex-wrap:wrap;\n",
              "      gap: 12px;\n",
              "    }\n",
              "\n",
              "    .colab-df-convert {\n",
              "      background-color: #E8F0FE;\n",
              "      border: none;\n",
              "      border-radius: 50%;\n",
              "      cursor: pointer;\n",
              "      display: none;\n",
              "      fill: #1967D2;\n",
              "      height: 32px;\n",
              "      padding: 0 0 0 0;\n",
              "      width: 32px;\n",
              "    }\n",
              "\n",
              "    .colab-df-convert:hover {\n",
              "      background-color: #E2EBFA;\n",
              "      box-shadow: 0px 1px 2px rgba(60, 64, 67, 0.3), 0px 1px 3px 1px rgba(60, 64, 67, 0.15);\n",
              "      fill: #174EA6;\n",
              "    }\n",
              "\n",
              "    [theme=dark] .colab-df-convert {\n",
              "      background-color: #3B4455;\n",
              "      fill: #D2E3FC;\n",
              "    }\n",
              "\n",
              "    [theme=dark] .colab-df-convert:hover {\n",
              "      background-color: #434B5C;\n",
              "      box-shadow: 0px 1px 3px 1px rgba(0, 0, 0, 0.15);\n",
              "      filter: drop-shadow(0px 1px 2px rgba(0, 0, 0, 0.3));\n",
              "      fill: #FFFFFF;\n",
              "    }\n",
              "  </style>\n",
              "\n",
              "      <script>\n",
              "        const buttonEl =\n",
              "          document.querySelector('#df-670ae34b-4379-4f07-a55d-337c70ef2cc4 button.colab-df-convert');\n",
              "        buttonEl.style.display =\n",
              "          google.colab.kernel.accessAllowed ? 'block' : 'none';\n",
              "\n",
              "        async function convertToInteractive(key) {\n",
              "          const element = document.querySelector('#df-670ae34b-4379-4f07-a55d-337c70ef2cc4');\n",
              "          const dataTable =\n",
              "            await google.colab.kernel.invokeFunction('convertToInteractive',\n",
              "                                                     [key], {});\n",
              "          if (!dataTable) return;\n",
              "\n",
              "          const docLinkHtml = 'Like what you see? Visit the ' +\n",
              "            '<a target=\"_blank\" href=https://colab.research.google.com/notebooks/data_table.ipynb>data table notebook</a>'\n",
              "            + ' to learn more about interactive tables.';\n",
              "          element.innerHTML = '';\n",
              "          dataTable['output_type'] = 'display_data';\n",
              "          await google.colab.output.renderOutput(dataTable, element);\n",
              "          const docLink = document.createElement('div');\n",
              "          docLink.innerHTML = docLinkHtml;\n",
              "          element.appendChild(docLink);\n",
              "        }\n",
              "      </script>\n",
              "    </div>\n",
              "  </div>\n",
              "  "
            ]
          },
          "metadata": {},
          "execution_count": 83
        }
      ]
    },
    {
      "cell_type": "code",
      "source": [
        "pup['shannon']=-pup['shannon']"
      ],
      "metadata": {
        "id": "ZeP339YCTGxW",
        "colab": {
          "base_uri": "https://localhost:8080/"
        },
        "outputId": "8c80e96c-89c5-411f-9e89-0ad37896b28c"
      },
      "execution_count": 87,
      "outputs": [
        {
          "output_type": "stream",
          "name": "stderr",
          "text": [
            "<ipython-input-87-c3ecc40fb592>:1: SettingWithCopyWarning: \n",
            "A value is trying to be set on a copy of a slice from a DataFrame.\n",
            "Try using .loc[row_indexer,col_indexer] = value instead\n",
            "\n",
            "See the caveats in the documentation: https://pandas.pydata.org/pandas-docs/stable/user_guide/indexing.html#returning-a-view-versus-a-copy\n",
            "  pup['shannon']=-pup['shannon']\n"
          ]
        }
      ]
    },
    {
      "cell_type": "code",
      "source": [
        "np.unique(pup['shannon'])"
      ],
      "metadata": {
        "colab": {
          "base_uri": "https://localhost:8080/"
        },
        "id": "g7Fghnrb4XtS",
        "outputId": "2247cde6-54c4-4da9-fac1-34e1e0889e8d"
      },
      "execution_count": 88,
      "outputs": [
        {
          "output_type": "execute_result",
          "data": {
            "text/plain": [
              "array([-0.        ,  0.03775019,  0.03787895, ...,  1.8217662 ,\n",
              "        1.82363023,  1.87345501])"
            ]
          },
          "metadata": {},
          "execution_count": 88
        }
      ]
    },
    {
      "cell_type": "markdown",
      "source": [],
      "metadata": {
        "id": "NdLz2KbZGvAJ"
      }
    },
    {
      "cell_type": "code",
      "source": [
        "pup['shannon'].describe()"
      ],
      "metadata": {
        "colab": {
          "base_uri": "https://localhost:8080/"
        },
        "id": "hCDgWA8V1Fqz",
        "outputId": "8788093e-fb81-4884-f764-302b559109b6"
      },
      "execution_count": 89,
      "outputs": [
        {
          "output_type": "execute_result",
          "data": {
            "text/plain": [
              "count    40671.000000\n",
              "mean         0.053671\n",
              "std          0.189090\n",
              "min         -0.000000\n",
              "25%         -0.000000\n",
              "50%          0.000000\n",
              "75%         -0.000000\n",
              "max          1.873455\n",
              "Name: shannon, dtype: float64"
            ]
          },
          "metadata": {},
          "execution_count": 89
        }
      ]
    },
    {
      "cell_type": "code",
      "source": [
        "grouped = pup.groupby('pos')['shannon'].sum().reset_index() "
      ],
      "metadata": {
        "id": "qDC-bhRCHDQO"
      },
      "execution_count": 90,
      "outputs": []
    },
    {
      "cell_type": "code",
      "execution_count": 91,
      "metadata": {
        "colab": {
          "base_uri": "https://localhost:8080/",
          "height": 472
        },
        "id": "f6wDPK3dR2cP",
        "outputId": "4c8ed5a2-4aaa-410d-c9c8-6ddcaf27eff5"
      },
      "outputs": [
        {
          "output_type": "display_data",
          "data": {
            "text/plain": [
              "<Figure size 640x480 with 1 Axes>"
            ],
            "image/png": "[encoded data removed]"
          },
          "metadata": {}
        }
      ],
      "source": [
        "plt.scatter(grouped['pos'], grouped['shannon'],s=1)\n",
        "plt.xlabel('Position')\n",
        "plt.ylabel('Shannon Entropy')\n",
        "plt.title('Shannon Entropy on each reads in Pileup Data')\n",
        "plt.axhline(0.8, c='red', linewidth=1)\n",
        "plt.show()"
      ]
    },
    {
      "cell_type": "code",
      "source": [
        "import collections\n",
        "from scipy.stats import entropy\n",
        "\n",
        "def shannon(seq):\n",
        "    tmp = collections.Counter([tmp_base for tmp_base in seq])\n",
        "    dist = [x/sum(tmp.values()) for x in tmp.values()]\n",
        "    result = entropy(dist, base=2)\n",
        "    return result"
      ],
      "metadata": {
        "id": "RjWKzYDew8bN"
      },
      "execution_count": 64,
      "outputs": []
    },
    {
      "cell_type": "code",
      "source": [
        "pup2 = pup\n",
        "pup2['shannon'] = pup2['matches'].map(lambda x : shannon(x))\n",
        "plt.scatter(pup2['pos'], pup2['shannon'],s=1)\n",
        "plt.xlabel('Position')\n",
        "plt.ylabel('Shannon Entropy')\n",
        "plt.title('Shannon Entropy by Position in Pileup Data')\n",
        "plt.axhline(0.8, c='red', linewidth=2)\n",
        "plt.show()"
      ],
      "metadata": {
        "colab": {
          "base_uri": "https://localhost:8080/",
          "height": 580
        },
        "id": "qrthVNSrxJh4",
        "outputId": "d953f6fb-2588-445b-9adf-c9dca229e84d"
      },
      "execution_count": 65,
      "outputs": [
        {
          "output_type": "stream",
          "name": "stderr",
          "text": [
            "<ipython-input-65-84df57a27493>:2: SettingWithCopyWarning: \n",
            "A value is trying to be set on a copy of a slice from a DataFrame.\n",
            "Try using .loc[row_indexer,col_indexer] = value instead\n",
            "\n",
            "See the caveats in the documentation: https://pandas.pydata.org/pandas-docs/stable/user_guide/indexing.html#returning-a-view-versus-a-copy\n",
            "  pup2['shannon'] = pup2['matches'].map(lambda x : shannon(x))\n"
          ]
        },
        {
          "output_type": "display_data",
          "data": {
            "text/plain": [
              "<Figure size 640x480 with 1 Axes>"
            ],
            "image/png": "[encoded data removed]"
          },
          "metadata": {}
        }
      ]
    },
    {
      "cell_type": "code",
      "source": [
        "subpup = pup[(pup['shannon'] > .8)]"
      ],
      "metadata": {
        "id": "bzpBBzObavWb"
      },
      "execution_count": 92,
      "outputs": []
    },
    {
      "cell_type": "code",
      "source": [
        "plt.scatter(subpup['pos'], subpup['shannon'],s=1)\n",
        "plt.xlabel('Position')\n",
        "plt.ylabel('Shannon Entropy')\n",
        "plt.title('Shannon Entropy by Position in Pileup Data')\n",
        "plt.show()"
      ],
      "metadata": {
        "colab": {
          "base_uri": "https://localhost:8080/",
          "height": 472
        },
        "id": "IYLtlHtDSPdR",
        "outputId": "5de4fb5f-dd87-4fbb-96fe-1e66292656a1"
      },
      "execution_count": 67,
      "outputs": [
        {
          "output_type": "display_data",
          "data": {
            "text/plain": [
              "<Figure size 640x480 with 1 Axes>"
            ],
            "image/png": "[encoded data removed]"
          },
          "metadata": {}
        }
      ]
    },
    {
      "cell_type": "code",
      "source": [
        "plt.scatter(subpup['pos'], subpup['shannon'],s=1)\n",
        "plt.xlabel('Position')\n",
        "plt.ylabel('Shannon Entropy')\n",
        "plt.title('Shannon Entropy by Position in Pileup Data')\n",
        "plt.show()"
      ],
      "metadata": {
        "colab": {
          "base_uri": "https://localhost:8080/",
          "height": 472
        },
        "id": "-gwEEvo160u9",
        "outputId": "ebaf4fe4-60a1-46a5-9da9-38ba1ae2803d"
      },
      "execution_count": 93,
      "outputs": [
        {
          "output_type": "display_data",
          "data": {
            "text/plain": [
              "<Figure size 640x480 with 1 Axes>"
            ],
            "image/png": "[encoded data removed]"
          },
          "metadata": {}
        }
      ]
    },
    {
      "cell_type": "code",
      "source": [
        "subpup['adj_shannon'] = (subpup['shannon']/subpup['base_count'])*subpup['base_count']\n",
        "\n",
        "np.unique(subpup['adj_shannon']-subpup['shannon'])"
      ],
      "metadata": {
        "id": "mWOL0Jc9udH4"
      },
      "execution_count": null,
      "outputs": []
    },
    {
      "cell_type": "code",
      "source": [
        "min(subpup['pos']), max(subpup['pos'])"
      ],
      "metadata": {
        "colab": {
          "base_uri": "https://localhost:8080/"
        },
        "id": "chlLwfnSVVXE",
        "outputId": "c8ce0999-1958-4f92-9eee-a482f9f277d2"
      },
      "execution_count": 69,
      "outputs": [
        {
          "output_type": "execute_result",
          "data": {
            "text/plain": [
              "(7206931, 123291165)"
            ]
          },
          "metadata": {},
          "execution_count": 69
        }
      ]
    },
    {
      "cell_type": "code",
      "source": [
        "threshold = 1000\n",
        "\n",
        "diff = subpup['pos'].diff()\n",
        "group_indices = np.where(diff > threshold)[0]\n",
        "groups = np.split(subpup['pos'], group_indices + 1)\n",
        "\n",
        "num_components_list = []\n",
        "sum_diff_list = []\n",
        "min_pos_list = []\n",
        "max_pos_list = []\n",
        "\n",
        "for group in groups:\n",
        "    num_components = len(group)\n",
        "    sum_diff = group.diff().sum()\n",
        "    min_pos = group.min()\n",
        "    max_pos = group.max()\n",
        "\n",
        "    num_components_list.append(num_components)\n",
        "    sum_diff_list.append(sum_diff)\n",
        "    min_pos_list.append(min_pos)\n",
        "    max_pos_list.append(max_pos)\n",
        "\n",
        "result = {\n",
        "    'Numbers': num_components_list,\n",
        "    'Differences': sum_diff_list,\n",
        "    'Min Pos': min_pos_list,\n",
        "    'Max Pos': max_pos_list\n",
        "}\n",
        "result=pd.DataFrame(result)\n",
        "\n",
        "result=result[(result['Numbers']>3) & (result['Differences']!=0)]\n",
        "result=result.sort_values('Differences')\n",
        "result"
      ],
      "metadata": {
        "colab": {
          "base_uri": "https://localhost:8080/",
          "height": 206
        },
        "id": "Nw9F-hgBhmLG",
        "outputId": "96a73ed6-f40c-436b-fd8d-20cb427b09d2"
      },
      "execution_count": 70,
      "outputs": [
        {
          "output_type": "execute_result",
          "data": {
            "text/plain": [
              "    Numbers  Differences    Min Pos    Max Pos\n",
              "12        4       2323.0   44296030   44298353\n",
              "71        4       2485.0  120784398  120786883\n",
              "32        5    1883839.0   64085018   65968857\n",
              "73        4    2501829.0  120789281  123291110\n",
              "30        4    4496662.0   59586214   64082876"
            ],
            "text/html": [
              "\n",
              "  <div id=\"df-d27da049-e46b-49bb-bdd3-75624faf701a\">\n",
              "    <div class=\"colab-df-container\">\n",
              "      <div>\n",
              "<style scoped>\n",
              "    .dataframe tbody tr th:only-of-type {\n",
              "        vertical-align: middle;\n",
              "    }\n",
              "\n",
              "    .dataframe tbody tr th {\n",
              "        vertical-align: top;\n",
              "    }\n",
              "\n",
              "    .dataframe thead th {\n",
              "        text-align: right;\n",
              "    }\n",
              "</style>\n",
              "<table border=\"1\" class=\"dataframe\">\n",
              "  <thead>\n",
              "    <tr style=\"text-align: right;\">\n",
              "      <th></th>\n",
              "      <th>Numbers</th>\n",
              "      <th>Differences</th>\n",
              "      <th>Min Pos</th>\n",
              "      <th>Max Pos</th>\n",
              "    </tr>\n",
              "  </thead>\n",
              "  <tbody>\n",
              "    <tr>\n",
              "      <th>12</th>\n",
              "      <td>4</td>\n",
              "      <td>2323.0</td>\n",
              "      <td>44296030</td>\n",
              "      <td>44298353</td>\n",
              "    </tr>\n",
              "    <tr>\n",
              "      <th>71</th>\n",
              "      <td>4</td>\n",
              "      <td>2485.0</td>\n",
              "      <td>120784398</td>\n",
              "      <td>120786883</td>\n",
              "    </tr>\n",
              "    <tr>\n",
              "      <th>32</th>\n",
              "      <td>5</td>\n",
              "      <td>1883839.0</td>\n",
              "      <td>64085018</td>\n",
              "      <td>65968857</td>\n",
              "    </tr>\n",
              "    <tr>\n",
              "      <th>73</th>\n",
              "      <td>4</td>\n",
              "      <td>2501829.0</td>\n",
              "      <td>120789281</td>\n",
              "      <td>123291110</td>\n",
              "    </tr>\n",
              "    <tr>\n",
              "      <th>30</th>\n",
              "      <td>4</td>\n",
              "      <td>4496662.0</td>\n",
              "      <td>59586214</td>\n",
              "      <td>64082876</td>\n",
              "    </tr>\n",
              "  </tbody>\n",
              "</table>\n",
              "</div>\n",
              "      <button class=\"colab-df-convert\" onclick=\"convertToInteractive('df-d27da049-e46b-49bb-bdd3-75624faf701a')\"\n",
              "              title=\"Convert this dataframe to an interactive table.\"\n",
              "              style=\"display:none;\">\n",
              "        \n",
              "  <svg xmlns=\"http://www.w3.org/2000/svg\" height=\"24px\"viewBox=\"0 0 24 24\"\n",
              "       width=\"24px\">\n",
              "    <path d=\"M0 0h24v24H0V0z\" fill=\"none\"/>\n",
              "    <path d=\"M18.56 5.44l.94 2.06.94-2.06 2.06-.94-2.06-.94-.94-2.06-.94 2.06-2.06.94zm-11 1L8.5 8.5l.94-2.06 2.06-.94-2.06-.94L8.5 2.5l-.94 2.06-2.06.94zm10 10l.94 2.06.94-2.06 2.06-.94-2.06-.94-.94-2.06-.94 2.06-2.06.94z\"/><path d=\"M17.41 7.96l-1.37-1.37c-.4-.4-.92-.59-1.43-.59-.52 0-1.04.2-1.43.59L10.3 9.45l-7.72 7.72c-.78.78-.78 2.05 0 2.83L4 21.41c.39.39.9.59 1.41.59.51 0 1.02-.2 1.41-.59l7.78-7.78 2.81-2.81c.8-.78.8-2.07 0-2.86zM5.41 20L4 18.59l7.72-7.72 1.47 1.35L5.41 20z\"/>\n",
              "  </svg>\n",
              "      </button>\n",
              "      \n",
              "  <style>\n",
              "    .colab-df-container {\n",
              "      display:flex;\n",
              "      flex-wrap:wrap;\n",
              "      gap: 12px;\n",
              "    }\n",
              "\n",
              "    .colab-df-convert {\n",
              "      background-color: #E8F0FE;\n",
              "      border: none;\n",
              "      border-radius: 50%;\n",
              "      cursor: pointer;\n",
              "      display: none;\n",
              "      fill: #1967D2;\n",
              "      height: 32px;\n",
              "      padding: 0 0 0 0;\n",
              "      width: 32px;\n",
              "    }\n",
              "\n",
              "    .colab-df-convert:hover {\n",
              "      background-color: #E2EBFA;\n",
              "      box-shadow: 0px 1px 2px rgba(60, 64, 67, 0.3), 0px 1px 3px 1px rgba(60, 64, 67, 0.15);\n",
              "      fill: #174EA6;\n",
              "    }\n",
              "\n",
              "    [theme=dark] .colab-df-convert {\n",
              "      background-color: #3B4455;\n",
              "      fill: #D2E3FC;\n",
              "    }\n",
              "\n",
              "    [theme=dark] .colab-df-convert:hover {\n",
              "      background-color: #434B5C;\n",
              "      box-shadow: 0px 1px 3px 1px rgba(0, 0, 0, 0.15);\n",
              "      filter: drop-shadow(0px 1px 2px rgba(0, 0, 0, 0.3));\n",
              "      fill: #FFFFFF;\n",
              "    }\n",
              "  </style>\n",
              "\n",
              "      <script>\n",
              "        const buttonEl =\n",
              "          document.querySelector('#df-d27da049-e46b-49bb-bdd3-75624faf701a button.colab-df-convert');\n",
              "        buttonEl.style.display =\n",
              "          google.colab.kernel.accessAllowed ? 'block' : 'none';\n",
              "\n",
              "        async function convertToInteractive(key) {\n",
              "          const element = document.querySelector('#df-d27da049-e46b-49bb-bdd3-75624faf701a');\n",
              "          const dataTable =\n",
              "            await google.colab.kernel.invokeFunction('convertToInteractive',\n",
              "                                                     [key], {});\n",
              "          if (!dataTable) return;\n",
              "\n",
              "          const docLinkHtml = 'Like what you see? Visit the ' +\n",
              "            '<a target=\"_blank\" href=https://colab.research.google.com/notebooks/data_table.ipynb>data table notebook</a>'\n",
              "            + ' to learn more about interactive tables.';\n",
              "          element.innerHTML = '';\n",
              "          dataTable['output_type'] = 'display_data';\n",
              "          await google.colab.output.renderOutput(dataTable, element);\n",
              "          const docLink = document.createElement('div');\n",
              "          docLink.innerHTML = docLinkHtml;\n",
              "          element.appendChild(docLink);\n",
              "        }\n",
              "      </script>\n",
              "    </div>\n",
              "  </div>\n",
              "  "
            ]
          },
          "metadata": {},
          "execution_count": 70
        }
      ]
    },
    {
      "cell_type": "code",
      "source": [
        "threshold = 1000\n",
        "\n",
        "diff = subpup['pos'].diff()\n",
        "group_indices = np.where(diff > threshold)[0]\n",
        "groups = np.split(subpup['pos'], group_indices + 1)\n",
        "\n",
        "num_components_list = []\n",
        "sum_diff_list = []\n",
        "min_pos_list = []\n",
        "max_pos_list = []\n",
        "\n",
        "for group in groups:\n",
        "    num_components = len(group)\n",
        "    sum_diff = group.diff().sum()\n",
        "    min_pos = group.min()\n",
        "    max_pos = group.max()\n",
        "\n",
        "    num_components_list.append(num_components)\n",
        "    sum_diff_list.append(sum_diff)\n",
        "    min_pos_list.append(min_pos)\n",
        "    max_pos_list.append(max_pos)\n",
        "\n",
        "result = {\n",
        "    'Numbers': num_components_list,\n",
        "    'Differences': sum_diff_list,\n",
        "    'Min Pos': min_pos_list,\n",
        "    'Max Pos': max_pos_list\n",
        "}\n",
        "result=pd.DataFrame(result)\n",
        "\n",
        "result=result[(result['Numbers']>9) & (result['Differences']!=0)]\n",
        "result=result.sort_values('Differences')\n",
        "result"
      ],
      "metadata": {
        "colab": {
          "base_uri": "https://localhost:8080/",
          "height": 237
        },
        "id": "Npb4Xnkd67YE",
        "outputId": "047cc6d6-d3b8-426f-d0c2-0fbcb4bca0f5"
      },
      "execution_count": 97,
      "outputs": [
        {
          "output_type": "execute_result",
          "data": {
            "text/plain": [
              "     Numbers  Differences      Min Pos      Max Pos\n",
              "380       10       7346.0  118387356.0  118394702.0\n",
              "356       15      15961.0  110377698.0  110393659.0\n",
              "79        10      16602.0   44302414.0   44319016.0\n",
              "256       10     214746.0   77890874.0   78105620.0\n",
              "238       10     251918.0   72654499.0   72906417.0\n",
              "376       16    3783336.0  114576036.0  118359372.0"
            ],
            "text/html": [
              "\n",
              "  <div id=\"df-8a861866-730d-4da1-94c7-5fdc369b0885\">\n",
              "    <div class=\"colab-df-container\">\n",
              "      <div>\n",
              "<style scoped>\n",
              "    .dataframe tbody tr th:only-of-type {\n",
              "        vertical-align: middle;\n",
              "    }\n",
              "\n",
              "    .dataframe tbody tr th {\n",
              "        vertical-align: top;\n",
              "    }\n",
              "\n",
              "    .dataframe thead th {\n",
              "        text-align: right;\n",
              "    }\n",
              "</style>\n",
              "<table border=\"1\" class=\"dataframe\">\n",
              "  <thead>\n",
              "    <tr style=\"text-align: right;\">\n",
              "      <th></th>\n",
              "      <th>Numbers</th>\n",
              "      <th>Differences</th>\n",
              "      <th>Min Pos</th>\n",
              "      <th>Max Pos</th>\n",
              "    </tr>\n",
              "  </thead>\n",
              "  <tbody>\n",
              "    <tr>\n",
              "      <th>380</th>\n",
              "      <td>10</td>\n",
              "      <td>7346.0</td>\n",
              "      <td>118387356.0</td>\n",
              "      <td>118394702.0</td>\n",
              "    </tr>\n",
              "    <tr>\n",
              "      <th>356</th>\n",
              "      <td>15</td>\n",
              "      <td>15961.0</td>\n",
              "      <td>110377698.0</td>\n",
              "      <td>110393659.0</td>\n",
              "    </tr>\n",
              "    <tr>\n",
              "      <th>79</th>\n",
              "      <td>10</td>\n",
              "      <td>16602.0</td>\n",
              "      <td>44302414.0</td>\n",
              "      <td>44319016.0</td>\n",
              "    </tr>\n",
              "    <tr>\n",
              "      <th>256</th>\n",
              "      <td>10</td>\n",
              "      <td>214746.0</td>\n",
              "      <td>77890874.0</td>\n",
              "      <td>78105620.0</td>\n",
              "    </tr>\n",
              "    <tr>\n",
              "      <th>238</th>\n",
              "      <td>10</td>\n",
              "      <td>251918.0</td>\n",
              "      <td>72654499.0</td>\n",
              "      <td>72906417.0</td>\n",
              "    </tr>\n",
              "    <tr>\n",
              "      <th>376</th>\n",
              "      <td>16</td>\n",
              "      <td>3783336.0</td>\n",
              "      <td>114576036.0</td>\n",
              "      <td>118359372.0</td>\n",
              "    </tr>\n",
              "  </tbody>\n",
              "</table>\n",
              "</div>\n",
              "      <button class=\"colab-df-convert\" onclick=\"convertToInteractive('df-8a861866-730d-4da1-94c7-5fdc369b0885')\"\n",
              "              title=\"Convert this dataframe to an interactive table.\"\n",
              "              style=\"display:none;\">\n",
              "        \n",
              "  <svg xmlns=\"http://www.w3.org/2000/svg\" height=\"24px\"viewBox=\"0 0 24 24\"\n",
              "       width=\"24px\">\n",
              "    <path d=\"M0 0h24v24H0V0z\" fill=\"none\"/>\n",
              "    <path d=\"M18.56 5.44l.94 2.06.94-2.06 2.06-.94-2.06-.94-.94-2.06-.94 2.06-2.06.94zm-11 1L8.5 8.5l.94-2.06 2.06-.94-2.06-.94L8.5 2.5l-.94 2.06-2.06.94zm10 10l.94 2.06.94-2.06 2.06-.94-2.06-.94-.94-2.06-.94 2.06-2.06.94z\"/><path d=\"M17.41 7.96l-1.37-1.37c-.4-.4-.92-.59-1.43-.59-.52 0-1.04.2-1.43.59L10.3 9.45l-7.72 7.72c-.78.78-.78 2.05 0 2.83L4 21.41c.39.39.9.59 1.41.59.51 0 1.02-.2 1.41-.59l7.78-7.78 2.81-2.81c.8-.78.8-2.07 0-2.86zM5.41 20L4 18.59l7.72-7.72 1.47 1.35L5.41 20z\"/>\n",
              "  </svg>\n",
              "      </button>\n",
              "      \n",
              "  <style>\n",
              "    .colab-df-container {\n",
              "      display:flex;\n",
              "      flex-wrap:wrap;\n",
              "      gap: 12px;\n",
              "    }\n",
              "\n",
              "    .colab-df-convert {\n",
              "      background-color: #E8F0FE;\n",
              "      border: none;\n",
              "      border-radius: 50%;\n",
              "      cursor: pointer;\n",
              "      display: none;\n",
              "      fill: #1967D2;\n",
              "      height: 32px;\n",
              "      padding: 0 0 0 0;\n",
              "      width: 32px;\n",
              "    }\n",
              "\n",
              "    .colab-df-convert:hover {\n",
              "      background-color: #E2EBFA;\n",
              "      box-shadow: 0px 1px 2px rgba(60, 64, 67, 0.3), 0px 1px 3px 1px rgba(60, 64, 67, 0.15);\n",
              "      fill: #174EA6;\n",
              "    }\n",
              "\n",
              "    [theme=dark] .colab-df-convert {\n",
              "      background-color: #3B4455;\n",
              "      fill: #D2E3FC;\n",
              "    }\n",
              "\n",
              "    [theme=dark] .colab-df-convert:hover {\n",
              "      background-color: #434B5C;\n",
              "      box-shadow: 0px 1px 3px 1px rgba(0, 0, 0, 0.15);\n",
              "      filter: drop-shadow(0px 1px 2px rgba(0, 0, 0, 0.3));\n",
              "      fill: #FFFFFF;\n",
              "    }\n",
              "  </style>\n",
              "\n",
              "      <script>\n",
              "        const buttonEl =\n",
              "          document.querySelector('#df-8a861866-730d-4da1-94c7-5fdc369b0885 button.colab-df-convert');\n",
              "        buttonEl.style.display =\n",
              "          google.colab.kernel.accessAllowed ? 'block' : 'none';\n",
              "\n",
              "        async function convertToInteractive(key) {\n",
              "          const element = document.querySelector('#df-8a861866-730d-4da1-94c7-5fdc369b0885');\n",
              "          const dataTable =\n",
              "            await google.colab.kernel.invokeFunction('convertToInteractive',\n",
              "                                                     [key], {});\n",
              "          if (!dataTable) return;\n",
              "\n",
              "          const docLinkHtml = 'Like what you see? Visit the ' +\n",
              "            '<a target=\"_blank\" href=https://colab.research.google.com/notebooks/data_table.ipynb>data table notebook</a>'\n",
              "            + ' to learn more about interactive tables.';\n",
              "          element.innerHTML = '';\n",
              "          dataTable['output_type'] = 'display_data';\n",
              "          await google.colab.output.renderOutput(dataTable, element);\n",
              "          const docLink = document.createElement('div');\n",
              "          docLink.innerHTML = docLinkHtml;\n",
              "          element.appendChild(docLink);\n",
              "        }\n",
              "      </script>\n",
              "    </div>\n",
              "  </div>\n",
              "  "
            ]
          },
          "metadata": {},
          "execution_count": 97
        }
      ]
    },
    {
      "cell_type": "code",
      "source": [
        "plt.scatter(subpup['pos'], subpup['shannon'],s=1)\n",
        "plt.xlabel('Position')\n",
        "plt.ylabel('Shannon Entropy')\n",
        "plt.title('Shannon Entropy by Position in Pileup Data')\n",
        "plt.xlim(44100000,44500000)\n",
        "plt.show()"
      ],
      "metadata": {
        "colab": {
          "base_uri": "https://localhost:8080/",
          "height": 472
        },
        "id": "CqIc3d0Wf87y",
        "outputId": "0525f41f-276b-4d06-a420-1c4b709f152d"
      },
      "execution_count": 72,
      "outputs": [
        {
          "output_type": "display_data",
          "data": {
            "text/plain": [
              "<Figure size 640x480 with 1 Axes>"
            ],
            "image/png": "[encoded data removed]"
          },
          "metadata": {}
        }
      ]
    },
    {
      "cell_type": "code",
      "source": [
        "plt.scatter(subpup['pos'], subpup['shannon'],s=1)\n",
        "plt.xlabel('Position')\n",
        "plt.ylabel('Shannon Entropy')\n",
        "plt.title('Shannon Entropy by Position in Pileup Data')\n",
        "plt.xlim(63000000,65000000)\n",
        "plt.show()"
      ],
      "metadata": {
        "colab": {
          "base_uri": "https://localhost:8080/",
          "height": 472
        },
        "id": "bug0dc7fzOA8",
        "outputId": "44454e17-5a3c-4e73-c35d-4db775eff215"
      },
      "execution_count": 71,
      "outputs": [
        {
          "output_type": "display_data",
          "data": {
            "text/plain": [
              "<Figure size 640x480 with 1 Axes>"
            ],
            "image/png": "[encoded data removed]"
          },
          "metadata": {}
        }
      ]
    },
    {
      "cell_type": "code",
      "source": [
        "plt.scatter(subpup['pos'], subpup['shannon'],s=1)\n",
        "plt.xlabel('Position')\n",
        "plt.ylabel('Shannon Entropy')\n",
        "plt.title('Shannon Entropy by Position in Pileup Data')\n",
        "plt.xlim(120600000,121000000)\n",
        "plt.axvline(120775000, c='red', linewidth=1)\n",
        "plt.axvline(120795000, c='red', linewidth=1)\n",
        "plt.show()"
      ],
      "metadata": {
        "colab": {
          "base_uri": "https://localhost:8080/",
          "height": 472
        },
        "id": "lZtkt9az7Ijf",
        "outputId": "4765c69d-3e58-43d1-cc42-60ea080336ca"
      },
      "execution_count": 112,
      "outputs": [
        {
          "output_type": "display_data",
          "data": {
            "text/plain": [
              "<Figure size 640x480 with 1 Axes>"
            ],
            "image/png": "[encoded data removed]"
          },
          "metadata": {}
        }
      ]
    },
    {
      "cell_type": "code",
      "source": [
        "plt.scatter(subpup['pos'], subpup['shannon'],s=1)\n",
        "plt.xlabel('Position')\n",
        "plt.ylabel('Shannon Entropy')\n",
        "plt.title('Shannon Entropy by Position in Pileup Data')\n",
        "plt.xlim(120600000,121000000)\n",
        "plt.show()"
      ],
      "metadata": {
        "colab": {
          "base_uri": "https://localhost:8080/",
          "height": 472
        },
        "id": "jl38deFwmsE_",
        "outputId": "935527a8-a761-4ede-deb1-1eff42b408ce"
      },
      "execution_count": 73,
      "outputs": [
        {
          "output_type": "display_data",
          "data": {
            "text/plain": [
              "<Figure size 640x480 with 1 Axes>"
            ],
            "image/png": "[encoded data removed]"
          },
          "metadata": {}
        }
      ]
    },
    {
      "cell_type": "code",
      "source": [
        "subpup2 = pup[(pup['shannon'] > 0.8) & (pup['pos'] > 1.206e8) & (pup['pos'] < 1.210e8)]\n",
        "len(subpup2)"
      ],
      "metadata": {
        "id": "g-llClCEBjJl",
        "colab": {
          "base_uri": "https://localhost:8080/"
        },
        "outputId": "ff023985-f3a1-47f2-ff9c-2ad0a3499148"
      },
      "execution_count": 37,
      "outputs": [
        {
          "output_type": "execute_result",
          "data": {
            "text/plain": [
              "19"
            ]
          },
          "metadata": {},
          "execution_count": 37
        }
      ]
    },
    {
      "cell_type": "code",
      "source": [
        "plt.scatter(subpup['pos'], subpup['shannon'],s=1)\n",
        "plt.xlabel('Position')\n",
        "plt.ylabel('Shannon Entropy')\n",
        "plt.title('Shannon Entropy by Position in Pileup Data')\n",
        "plt.xlim(110200000,110600000)\n",
        "plt.axvline(110370000, c='red', linewidth=1)\n",
        "plt.axvline(110390000, c='red', linewidth=1)\n",
        "plt.show()"
      ],
      "metadata": {
        "colab": {
          "base_uri": "https://localhost:8080/",
          "height": 472
        },
        "id": "v4HJnpjH7LLk",
        "outputId": "28bd7566-e22f-4330-9749-1fc81c248fed"
      },
      "execution_count": 106,
      "outputs": [
        {
          "output_type": "display_data",
          "data": {
            "text/plain": [
              "<Figure size 640x480 with 1 Axes>"
            ],
            "image/png": "[encoded data removed]"
          },
          "metadata": {}
        }
      ]
    },
    {
      "cell_type": "code",
      "source": [
        "subpup3 = pup[(pup['shannon'] > 0.8) & (pup['pos'] > 1.1037e8) & (pup['pos'] < 1.1039e8)]\n",
        "len(subpup3)"
      ],
      "metadata": {
        "colab": {
          "base_uri": "https://localhost:8080/"
        },
        "id": "BgzNOUVi8Ov8",
        "outputId": "e0618f20-2032-4f5b-d4b9-c2ba7d3ecc7d"
      },
      "execution_count": 107,
      "outputs": [
        {
          "output_type": "execute_result",
          "data": {
            "text/plain": [
              "15"
            ]
          },
          "metadata": {},
          "execution_count": 107
        }
      ]
    },
    {
      "cell_type": "code",
      "source": [
        "subpup2"
      ],
      "metadata": {
        "colab": {
          "base_uri": "https://localhost:8080/",
          "height": 743
        },
        "id": "jWwCGM6fvVLU",
        "outputId": "2df76532-82e7-4686-ae66-3b969c12285d"
      },
      "execution_count": 38,
      "outputs": [
        {
          "output_type": "execute_result",
          "data": {
            "text/plain": [
              "         chrom        pos ref  count  \\\n",
              "17515495  chr9  120780456   N    187   \n",
              "17515596  chr9  120780557   N    198   \n",
              "17515609  chr9  120780570   N    192   \n",
              "17515827  chr9  120780788   N    150   \n",
              "17517027  chr9  120781988   N    172   \n",
              "17517099  chr9  120782060   N    219   \n",
              "17521665  chr9  120786626   N    105   \n",
              "17521759  chr9  120786720   N    123   \n",
              "17521938  chr9  120786899   N    240   \n",
              "17522733  chr9  120787694   N    224   \n",
              "17522737  chr9  120787698   N    221   \n",
              "17523670  chr9  120788631   N    147   \n",
              "17524232  chr9  120789196   N     69   \n",
              "17524269  chr9  120789233   N     85   \n",
              "17524355  chr9  120789319   N    104   \n",
              "17524357  chr9  120789321   N    103   \n",
              "17524406  chr9  120789370   N     81   \n",
              "17524407  chr9  120789371   N     80   \n",
              "17524567  chr9  120789531   N    233   \n",
              "\n",
              "                                                  basereads  \\\n",
              "17515495  >>>>GGGGGGGGGGGAGGGGAGGGGAGGGAGGAATTTTGTGTTTGT...   \n",
              "17515596  >>>>GGGGGGGCGGGG-2NNGCGGAGGCGGGGGGAGGGGGGGGGGG...   \n",
              "17515609  >>>>GGGGGGGGGGGGGGGGGGAGGGGGGGGGGGGAGGGGGGGGGG...   \n",
              "17515827  >>>>GGGGGGGGGGGGGGGGGGGGGGGGGGGGGAGGGGAGGGGGGG...   \n",
              "17517027  >>>>GAGTGGAATGTGGTAAGTTGTAAAAAAGAAGGGGGGGGGGGG...   \n",
              "17517099  >>>>AAAAA****GGAGGGGGAGGGGGAGAGGGGGGGGAGGGGGCA...   \n",
              "17521665  GGGGGGGAAAAAAAAAAAAAAAAACGGGACGAGCAAGGCCGCGGGC...   \n",
              "17521759  GGGGGGGGGGGGGGGGGGGGGGGGGGGGGGGGGGGGGGGGGGGGGG...   \n",
              "17521938  GGGGGGGGGGGGGGGGGGGGGGGGGGGGGGGGGGGGGGGGCGGGGG...   \n",
              "17522733  GGGGG-2NNGGG-2NNGG-2NNGGGG-2NNGG-2NNGGGGGGGGGG...   \n",
              "17522737  CCCCCTTCTCTTTCTCTCCCCCCCCCCCCTTTTCCCCCTCTCTTCC...   \n",
              "17523670  C-1NCCCCC-1NCCCTCTC-1NCCC-1NC-1NCC-1NTCTCCCC-1...   \n",
              "17524232  GGGGGGGGGGGGGGGGGGGGGGGAAGGGGGGGAGAGGGGAGGAGGA...   \n",
              "17524269  AAAAAAAAAAAAAAAAAAGGGGGGGGGGGGGGGGGGAGGGAGGGGG...   \n",
              "17524355  CCCCCCCCCCCC-2NNCCCC-2NNCCCCCC-2NNCC-2NNCCCCCC...   \n",
              "17524357  GGGGGGGGGGA*AGA*GAGAA*A*GGAGGGAGAAG**AGGAGGGGG...   \n",
              "17524406  GGAAAAAAAAAAAAAAAAAAAAAAAAAAAGGGGCGGGGGGGGGGGG...   \n",
              "17524407  GGGGGGGGGGGGGGGGGGGGGGGGGGGGAAAGGGGAGGGAAGCGGA...   \n",
              "17524567  GGGAAAAAAGGGGGGGGCAGGGGGGGGGGCGGGAGAACGGCGGGGG...   \n",
              "\n",
              "                                                      quals  \\\n",
              "17515495  GIDDG@3IGHB:G@GIIHIGHHIBHA?IH=DIHHIGIIHIHIIIGH...   \n",
              "17515596  GIDDAF@7IIHIHG>DICIGG@HIHEHGGGIBGEBFIBHHFGGGHI...   \n",
              "17515609  GIDDIIIDDDH@IGGIHIIHIG?I>GG>DE:IDEBGHHIDGIIGG:...   \n",
              "17515827  GIDDHE@GI=8HDIIIAHIIIIIHHIHBDDBI<IIGIIHFIEAHCE...   \n",
              "17517027  GIDDBGDH8<IDGIHFIHEIBII2GIBIBGBGDDBBEEGCGIG=GH...   \n",
              "17517099  GIDDEIGD<DFGI?HHGI>IIGIIFHHIIIH4IDDHID>GHHII3H...   \n",
              "17521665  8HI@IDGFIBIG1HGD8HGGHIIBBGBHBHGDEGGIDH5DIGIIBC...   \n",
              "17521759  <GIGII<D?HDID@GHHH>IHEIGIH;G@IGIEEIGIE:BH>IAIE...   \n",
              "17521938  BGEI>?<<IHIICIIEG52HFBEGBB>HAIIBI;@GIIDG@ICHIH...   \n",
              "17522733  HIF:BGHGE@@GD?ADDBHHIABGI@CGDBH8IA>AIFDIDGGGIB...   \n",
              "17522737  DFF8DBCDEGGGD?=I;AHGGGGH?6D;EH5H:AIHG?H?ADIGBH...   \n",
              "17523670  HIIHIDDIGI@HH>HBEIEHII>IGIGEI1?IGGGIIGGHDIHIID...   \n",
              "17524232  H=DDHFIIHIH>H?GGIGIHFBDHCIHHGEEIHDHIIGII=IHHII...   \n",
              "17524269  HBHGIGGIIEIIEHDGGIGIGIDID<GGGIBI:BIIE@DDHEGIDB...   \n",
              "17524355  GEHIHIBHIFGGDIIIGGIHGIEIH7>II?IHIDIEGIDIG@HBGI...   \n",
              "17524357  BGGIHBDHIDBGDHHI?GIH>I@IH@DIHDIGI>I:DI@FG6GEGI...   \n",
              "17524406  ?FIHGHIIDGIGHHIGI?HDHIIGG=DEG<I4IIGIEHIHDEBIII...   \n",
              "17524407  EIHGHIHGEGBIGGBIFGEHIIGH4DGH<I;IIGI>IIG@DGIIII...   \n",
              "17524567  GEF6GDIHIBDGIDBIDIHHDIIGHHGBH;IBIICIG>GBIGG1EH...   \n",
              "\n",
              "                                                    matches  base_count  \\\n",
              "17515495  GGGGGGGGGGGAGGGGAGGGGAGGGAGGAATTTTGTGTTTGTTGTG...         183   \n",
              "17515596  GGGGGGGCGGGGNNGCGGAGGCGGGGGGAGGGGGGGGGGGGGAACG...         194   \n",
              "17515609  GGGGGGGGGGGGGGGGGGAGGGGGGGGGGGGAGGGGGGGGGGGGGG...         188   \n",
              "17515827  GGGGGGGGGGGGGGGGGGGGGGGGGGGGGAGGGGAGGGGGGGGGGG...         146   \n",
              "17517027  GAGTGGAATGTGGTAAGTTGTAAAAAAGAAGGGGGGGGGGGGGGGG...         168   \n",
              "17517099  AAAAAGGAGGGGGAGGGGGAGAGGGGGGGGAGGGGGCAGGGGGAAG...         211   \n",
              "17521665  GGGGGGGAAAAAAAAAAAAAAAAACGGGACGAGCAAGGCCGCGGGC...         105   \n",
              "17521759  GGGGGGGGGGGGGGGGGGGGGGGGGGGGGGGGGGGGGGGGGGGGGG...         123   \n",
              "17521938  GGGGGGGGGGGGGGGGGGGGGGGGGGGGGGGGGGGGGGGGCGGGGG...         235   \n",
              "17522733  GGGGGNNGGGNNGGNNGGGGNNGGNNGGGGGGGGGGGGGGGGGGGG...         220   \n",
              "17522737  CCCCCTTCTCTTTCTCTCCCCCCCCCCCCTTTTCCCCCTCTCTTCC...         221   \n",
              "17523670  CNCCCCCNCCCTCTCNCCCNCNCCNTCTCCCCNCCCCCCCCCCCNC...         147   \n",
              "17524232  GGGGGGGGGGGGGGGGGGGGGGGAAGGGGGGGAGAGGGGAGGAGGA...          69   \n",
              "17524269  AAAAAAAAAAAAAAAAAAGGGGGGGGGGGGGGGGGGAGGGAGGGGG...          85   \n",
              "17524355  CCCCCCCCCCCCNNCCCCNNCCCCCCNNCCNNCCCCCCCCCCCCNN...         104   \n",
              "17524357  GGGGGGGGGGAAGAGAGAAAGGAGGGAGAAGAGGAGGGGGAAGGAG...          96   \n",
              "17524406  GGAAAAAAAAAAAAAAAAAAAAAAAAAAAGGGGCGGGGGGGGGGGG...          81   \n",
              "17524407  GGGGGGGGGGGGGGGGGGGGGGGGGGGGAAAGGGGAGGGAAGCGGA...          80   \n",
              "17524567  GGGAAAAAAGGGGGGGGCAGGGGGGGGGGCGGGAGAACGGCGGGGG...         233   \n",
              "\n",
              "            countA    countT    countG    countC   shannon  \n",
              "17515495  0.103825  0.060109  0.786885  0.049180  1.068908  \n",
              "17515596  0.087629  0.005155  0.845361  0.061856  1.043189  \n",
              "17515609  0.186170  0.000000  0.739362  0.074468  1.052670  \n",
              "17515827  0.260274  0.061644  0.623288  0.054795  1.407908  \n",
              "17517027  0.172619  0.077381  0.690476  0.059524  1.334387  \n",
              "17517099  0.123223  0.000000  0.848341  0.028436  0.839708  \n",
              "17521665  0.295238  0.000000  0.561905  0.142857  1.387966  \n",
              "17521759  0.073171  0.000000  0.821138  0.105691  0.852154  \n",
              "17521938  0.148936  0.012766  0.795745  0.042553  0.945588  \n",
              "17522733  0.031818  0.000000  0.881818  0.086364  0.854340  \n",
              "17522737  0.000000  0.244344  0.000000  0.755656  0.802190  \n",
              "17523670  0.000000  0.054422  0.000000  0.945578  0.890418  \n",
              "17524232  0.260870  0.000000  0.724638  0.014493  0.930967  \n",
              "17524269  0.364706  0.000000  0.635294  0.000000  0.946520  \n",
              "17524355  0.000000  0.000000  0.057692  0.942308  0.805912  \n",
              "17524357  0.229167  0.000000  0.572917  0.197917  1.410036  \n",
              "17524406  0.333333  0.000000  0.629630  0.037037  1.124658  \n",
              "17524407  0.275000  0.000000  0.662500  0.062500  1.155717  \n",
              "17524567  0.313305  0.000000  0.613734  0.072961  1.232402  "
            ],
            "text/html": [
              "\n",
              "  <div id=\"df-d422b143-a1d3-4ff0-bd3a-530b5548361c\">\n",
              "    <div class=\"colab-df-container\">\n",
              "      <div>\n",
              "<style scoped>\n",
              "    .dataframe tbody tr th:only-of-type {\n",
              "        vertical-align: middle;\n",
              "    }\n",
              "\n",
              "    .dataframe tbody tr th {\n",
              "        vertical-align: top;\n",
              "    }\n",
              "\n",
              "    .dataframe thead th {\n",
              "        text-align: right;\n",
              "    }\n",
              "</style>\n",
              "<table border=\"1\" class=\"dataframe\">\n",
              "  <thead>\n",
              "    <tr style=\"text-align: right;\">\n",
              "      <th></th>\n",
              "      <th>chrom</th>\n",
              "      <th>pos</th>\n",
              "      <th>ref</th>\n",
              "      <th>count</th>\n",
              "      <th>basereads</th>\n",
              "      <th>quals</th>\n",
              "      <th>matches</th>\n",
              "      <th>base_count</th>\n",
              "      <th>countA</th>\n",
              "      <th>countT</th>\n",
              "      <th>countG</th>\n",
              "      <th>countC</th>\n",
              "      <th>shannon</th>\n",
              "    </tr>\n",
              "  </thead>\n",
              "  <tbody>\n",
              "    <tr>\n",
              "      <th>17515495</th>\n",
              "      <td>chr9</td>\n",
              "      <td>120780456</td>\n",
              "      <td>N</td>\n",
              "      <td>187</td>\n",
              "      <td>&gt;&gt;&gt;&gt;GGGGGGGGGGGAGGGGAGGGGAGGGAGGAATTTTGTGTTTGT...</td>\n",
              "      <td>GIDDG@3IGHB:G@GIIHIGHHIBHA?IH=DIHHIGIIHIHIIIGH...</td>\n",
              "      <td>GGGGGGGGGGGAGGGGAGGGGAGGGAGGAATTTTGTGTTTGTTGTG...</td>\n",
              "      <td>183</td>\n",
              "      <td>0.103825</td>\n",
              "      <td>0.060109</td>\n",
              "      <td>0.786885</td>\n",
              "      <td>0.049180</td>\n",
              "      <td>1.068908</td>\n",
              "    </tr>\n",
              "    <tr>\n",
              "      <th>17515596</th>\n",
              "      <td>chr9</td>\n",
              "      <td>120780557</td>\n",
              "      <td>N</td>\n",
              "      <td>198</td>\n",
              "      <td>&gt;&gt;&gt;&gt;GGGGGGGCGGGG-2NNGCGGAGGCGGGGGGAGGGGGGGGGGG...</td>\n",
              "      <td>GIDDAF@7IIHIHG&gt;DICIGG@HIHEHGGGIBGEBFIBHHFGGGHI...</td>\n",
              "      <td>GGGGGGGCGGGGNNGCGGAGGCGGGGGGAGGGGGGGGGGGGGAACG...</td>\n",
              "      <td>194</td>\n",
              "      <td>0.087629</td>\n",
              "      <td>0.005155</td>\n",
              "      <td>0.845361</td>\n",
              "      <td>0.061856</td>\n",
              "      <td>1.043189</td>\n",
              "    </tr>\n",
              "    <tr>\n",
              "      <th>17515609</th>\n",
              "      <td>chr9</td>\n",
              "      <td>120780570</td>\n",
              "      <td>N</td>\n",
              "      <td>192</td>\n",
              "      <td>&gt;&gt;&gt;&gt;GGGGGGGGGGGGGGGGGGAGGGGGGGGGGGGAGGGGGGGGGG...</td>\n",
              "      <td>GIDDIIIDDDH@IGGIHIIHIG?I&gt;GG&gt;DE:IDEBGHHIDGIIGG:...</td>\n",
              "      <td>GGGGGGGGGGGGGGGGGGAGGGGGGGGGGGGAGGGGGGGGGGGGGG...</td>\n",
              "      <td>188</td>\n",
              "      <td>0.186170</td>\n",
              "      <td>0.000000</td>\n",
              "      <td>0.739362</td>\n",
              "      <td>0.074468</td>\n",
              "      <td>1.052670</td>\n",
              "    </tr>\n",
              "    <tr>\n",
              "      <th>17515827</th>\n",
              "      <td>chr9</td>\n",
              "      <td>120780788</td>\n",
              "      <td>N</td>\n",
              "      <td>150</td>\n",
              "      <td>&gt;&gt;&gt;&gt;GGGGGGGGGGGGGGGGGGGGGGGGGGGGGAGGGGAGGGGGGG...</td>\n",
              "      <td>GIDDHE@GI=8HDIIIAHIIIIIHHIHBDDBI&lt;IIGIIHFIEAHCE...</td>\n",
              "      <td>GGGGGGGGGGGGGGGGGGGGGGGGGGGGGAGGGGAGGGGGGGGGGG...</td>\n",
              "      <td>146</td>\n",
              "      <td>0.260274</td>\n",
              "      <td>0.061644</td>\n",
              "      <td>0.623288</td>\n",
              "      <td>0.054795</td>\n",
              "      <td>1.407908</td>\n",
              "    </tr>\n",
              "    <tr>\n",
              "      <th>17517027</th>\n",
              "      <td>chr9</td>\n",
              "      <td>120781988</td>\n",
              "      <td>N</td>\n",
              "      <td>172</td>\n",
              "      <td>&gt;&gt;&gt;&gt;GAGTGGAATGTGGTAAGTTGTAAAAAAGAAGGGGGGGGGGGG...</td>\n",
              "      <td>GIDDBGDH8&lt;IDGIHFIHEIBII2GIBIBGBGDDBBEEGCGIG=GH...</td>\n",
              "      <td>GAGTGGAATGTGGTAAGTTGTAAAAAAGAAGGGGGGGGGGGGGGGG...</td>\n",
              "      <td>168</td>\n",
              "      <td>0.172619</td>\n",
              "      <td>0.077381</td>\n",
              "      <td>0.690476</td>\n",
              "      <td>0.059524</td>\n",
              "      <td>1.334387</td>\n",
              "    </tr>\n",
              "    <tr>\n",
              "      <th>17517099</th>\n",
              "      <td>chr9</td>\n",
              "      <td>120782060</td>\n",
              "      <td>N</td>\n",
              "      <td>219</td>\n",
              "      <td>&gt;&gt;&gt;&gt;AAAAA****GGAGGGGGAGGGGGAGAGGGGGGGGAGGGGGCA...</td>\n",
              "      <td>GIDDEIGD&lt;DFGI?HHGI&gt;IIGIIFHHIIIH4IDDHID&gt;GHHII3H...</td>\n",
              "      <td>AAAAAGGAGGGGGAGGGGGAGAGGGGGGGGAGGGGGCAGGGGGAAG...</td>\n",
              "      <td>211</td>\n",
              "      <td>0.123223</td>\n",
              "      <td>0.000000</td>\n",
              "      <td>0.848341</td>\n",
              "      <td>0.028436</td>\n",
              "      <td>0.839708</td>\n",
              "    </tr>\n",
              "    <tr>\n",
              "      <th>17521665</th>\n",
              "      <td>chr9</td>\n",
              "      <td>120786626</td>\n",
              "      <td>N</td>\n",
              "      <td>105</td>\n",
              "      <td>GGGGGGGAAAAAAAAAAAAAAAAACGGGACGAGCAAGGCCGCGGGC...</td>\n",
              "      <td>8HI@IDGFIBIG1HGD8HGGHIIBBGBHBHGDEGGIDH5DIGIIBC...</td>\n",
              "      <td>GGGGGGGAAAAAAAAAAAAAAAAACGGGACGAGCAAGGCCGCGGGC...</td>\n",
              "      <td>105</td>\n",
              "      <td>0.295238</td>\n",
              "      <td>0.000000</td>\n",
              "      <td>0.561905</td>\n",
              "      <td>0.142857</td>\n",
              "      <td>1.387966</td>\n",
              "    </tr>\n",
              "    <tr>\n",
              "      <th>17521759</th>\n",
              "      <td>chr9</td>\n",
              "      <td>120786720</td>\n",
              "      <td>N</td>\n",
              "      <td>123</td>\n",
              "      <td>GGGGGGGGGGGGGGGGGGGGGGGGGGGGGGGGGGGGGGGGGGGGGG...</td>\n",
              "      <td>&lt;GIGII&lt;D?HDID@GHHH&gt;IHEIGIH;G@IGIEEIGIE:BH&gt;IAIE...</td>\n",
              "      <td>GGGGGGGGGGGGGGGGGGGGGGGGGGGGGGGGGGGGGGGGGGGGGG...</td>\n",
              "      <td>123</td>\n",
              "      <td>0.073171</td>\n",
              "      <td>0.000000</td>\n",
              "      <td>0.821138</td>\n",
              "      <td>0.105691</td>\n",
              "      <td>0.852154</td>\n",
              "    </tr>\n",
              "    <tr>\n",
              "      <th>17521938</th>\n",
              "      <td>chr9</td>\n",
              "      <td>120786899</td>\n",
              "      <td>N</td>\n",
              "      <td>240</td>\n",
              "      <td>GGGGGGGGGGGGGGGGGGGGGGGGGGGGGGGGGGGGGGGGCGGGGG...</td>\n",
              "      <td>BGEI&gt;?&lt;&lt;IHIICIIEG52HFBEGBB&gt;HAIIBI;@GIIDG@ICHIH...</td>\n",
              "      <td>GGGGGGGGGGGGGGGGGGGGGGGGGGGGGGGGGGGGGGGGCGGGGG...</td>\n",
              "      <td>235</td>\n",
              "      <td>0.148936</td>\n",
              "      <td>0.012766</td>\n",
              "      <td>0.795745</td>\n",
              "      <td>0.042553</td>\n",
              "      <td>0.945588</td>\n",
              "    </tr>\n",
              "    <tr>\n",
              "      <th>17522733</th>\n",
              "      <td>chr9</td>\n",
              "      <td>120787694</td>\n",
              "      <td>N</td>\n",
              "      <td>224</td>\n",
              "      <td>GGGGG-2NNGGG-2NNGG-2NNGGGG-2NNGG-2NNGGGGGGGGGG...</td>\n",
              "      <td>HIF:BGHGE@@GD?ADDBHHIABGI@CGDBH8IA&gt;AIFDIDGGGIB...</td>\n",
              "      <td>GGGGGNNGGGNNGGNNGGGGNNGGNNGGGGGGGGGGGGGGGGGGGG...</td>\n",
              "      <td>220</td>\n",
              "      <td>0.031818</td>\n",
              "      <td>0.000000</td>\n",
              "      <td>0.881818</td>\n",
              "      <td>0.086364</td>\n",
              "      <td>0.854340</td>\n",
              "    </tr>\n",
              "    <tr>\n",
              "      <th>17522737</th>\n",
              "      <td>chr9</td>\n",
              "      <td>120787698</td>\n",
              "      <td>N</td>\n",
              "      <td>221</td>\n",
              "      <td>CCCCCTTCTCTTTCTCTCCCCCCCCCCCCTTTTCCCCCTCTCTTCC...</td>\n",
              "      <td>DFF8DBCDEGGGD?=I;AHGGGGH?6D;EH5H:AIHG?H?ADIGBH...</td>\n",
              "      <td>CCCCCTTCTCTTTCTCTCCCCCCCCCCCCTTTTCCCCCTCTCTTCC...</td>\n",
              "      <td>221</td>\n",
              "      <td>0.000000</td>\n",
              "      <td>0.244344</td>\n",
              "      <td>0.000000</td>\n",
              "      <td>0.755656</td>\n",
              "      <td>0.802190</td>\n",
              "    </tr>\n",
              "    <tr>\n",
              "      <th>17523670</th>\n",
              "      <td>chr9</td>\n",
              "      <td>120788631</td>\n",
              "      <td>N</td>\n",
              "      <td>147</td>\n",
              "      <td>C-1NCCCCC-1NCCCTCTC-1NCCC-1NC-1NCC-1NTCTCCCC-1...</td>\n",
              "      <td>HIIHIDDIGI@HH&gt;HBEIEHII&gt;IGIGEI1?IGGGIIGGHDIHIID...</td>\n",
              "      <td>CNCCCCCNCCCTCTCNCCCNCNCCNTCTCCCCNCCCCCCCCCCCNC...</td>\n",
              "      <td>147</td>\n",
              "      <td>0.000000</td>\n",
              "      <td>0.054422</td>\n",
              "      <td>0.000000</td>\n",
              "      <td>0.945578</td>\n",
              "      <td>0.890418</td>\n",
              "    </tr>\n",
              "    <tr>\n",
              "      <th>17524232</th>\n",
              "      <td>chr9</td>\n",
              "      <td>120789196</td>\n",
              "      <td>N</td>\n",
              "      <td>69</td>\n",
              "      <td>GGGGGGGGGGGGGGGGGGGGGGGAAGGGGGGGAGAGGGGAGGAGGA...</td>\n",
              "      <td>H=DDHFIIHIH&gt;H?GGIGIHFBDHCIHHGEEIHDHIIGII=IHHII...</td>\n",
              "      <td>GGGGGGGGGGGGGGGGGGGGGGGAAGGGGGGGAGAGGGGAGGAGGA...</td>\n",
              "      <td>69</td>\n",
              "      <td>0.260870</td>\n",
              "      <td>0.000000</td>\n",
              "      <td>0.724638</td>\n",
              "      <td>0.014493</td>\n",
              "      <td>0.930967</td>\n",
              "    </tr>\n",
              "    <tr>\n",
              "      <th>17524269</th>\n",
              "      <td>chr9</td>\n",
              "      <td>120789233</td>\n",
              "      <td>N</td>\n",
              "      <td>85</td>\n",
              "      <td>AAAAAAAAAAAAAAAAAAGGGGGGGGGGGGGGGGGGAGGGAGGGGG...</td>\n",
              "      <td>HBHGIGGIIEIIEHDGGIGIGIDID&lt;GGGIBI:BIIE@DDHEGIDB...</td>\n",
              "      <td>AAAAAAAAAAAAAAAAAAGGGGGGGGGGGGGGGGGGAGGGAGGGGG...</td>\n",
              "      <td>85</td>\n",
              "      <td>0.364706</td>\n",
              "      <td>0.000000</td>\n",
              "      <td>0.635294</td>\n",
              "      <td>0.000000</td>\n",
              "      <td>0.946520</td>\n",
              "    </tr>\n",
              "    <tr>\n",
              "      <th>17524355</th>\n",
              "      <td>chr9</td>\n",
              "      <td>120789319</td>\n",
              "      <td>N</td>\n",
              "      <td>104</td>\n",
              "      <td>CCCCCCCCCCCC-2NNCCCC-2NNCCCCCC-2NNCC-2NNCCCCCC...</td>\n",
              "      <td>GEHIHIBHIFGGDIIIGGIHGIEIH7&gt;II?IHIDIEGIDIG@HBGI...</td>\n",
              "      <td>CCCCCCCCCCCCNNCCCCNNCCCCCCNNCCNNCCCCCCCCCCCCNN...</td>\n",
              "      <td>104</td>\n",
              "      <td>0.000000</td>\n",
              "      <td>0.000000</td>\n",
              "      <td>0.057692</td>\n",
              "      <td>0.942308</td>\n",
              "      <td>0.805912</td>\n",
              "    </tr>\n",
              "    <tr>\n",
              "      <th>17524357</th>\n",
              "      <td>chr9</td>\n",
              "      <td>120789321</td>\n",
              "      <td>N</td>\n",
              "      <td>103</td>\n",
              "      <td>GGGGGGGGGGA*AGA*GAGAA*A*GGAGGGAGAAG**AGGAGGGGG...</td>\n",
              "      <td>BGGIHBDHIDBGDHHI?GIH&gt;I@IH@DIHDIGI&gt;I:DI@FG6GEGI...</td>\n",
              "      <td>GGGGGGGGGGAAGAGAGAAAGGAGGGAGAAGAGGAGGGGGAAGGAG...</td>\n",
              "      <td>96</td>\n",
              "      <td>0.229167</td>\n",
              "      <td>0.000000</td>\n",
              "      <td>0.572917</td>\n",
              "      <td>0.197917</td>\n",
              "      <td>1.410036</td>\n",
              "    </tr>\n",
              "    <tr>\n",
              "      <th>17524406</th>\n",
              "      <td>chr9</td>\n",
              "      <td>120789370</td>\n",
              "      <td>N</td>\n",
              "      <td>81</td>\n",
              "      <td>GGAAAAAAAAAAAAAAAAAAAAAAAAAAAGGGGCGGGGGGGGGGGG...</td>\n",
              "      <td>?FIHGHIIDGIGHHIGI?HDHIIGG=DEG&lt;I4IIGIEHIHDEBIII...</td>\n",
              "      <td>GGAAAAAAAAAAAAAAAAAAAAAAAAAAAGGGGCGGGGGGGGGGGG...</td>\n",
              "      <td>81</td>\n",
              "      <td>0.333333</td>\n",
              "      <td>0.000000</td>\n",
              "      <td>0.629630</td>\n",
              "      <td>0.037037</td>\n",
              "      <td>1.124658</td>\n",
              "    </tr>\n",
              "    <tr>\n",
              "      <th>17524407</th>\n",
              "      <td>chr9</td>\n",
              "      <td>120789371</td>\n",
              "      <td>N</td>\n",
              "      <td>80</td>\n",
              "      <td>GGGGGGGGGGGGGGGGGGGGGGGGGGGGAAAGGGGAGGGAAGCGGA...</td>\n",
              "      <td>EIHGHIHGEGBIGGBIFGEHIIGH4DGH&lt;I;IIGI&gt;IIG@DGIIII...</td>\n",
              "      <td>GGGGGGGGGGGGGGGGGGGGGGGGGGGGAAAGGGGAGGGAAGCGGA...</td>\n",
              "      <td>80</td>\n",
              "      <td>0.275000</td>\n",
              "      <td>0.000000</td>\n",
              "      <td>0.662500</td>\n",
              "      <td>0.062500</td>\n",
              "      <td>1.155717</td>\n",
              "    </tr>\n",
              "    <tr>\n",
              "      <th>17524567</th>\n",
              "      <td>chr9</td>\n",
              "      <td>120789531</td>\n",
              "      <td>N</td>\n",
              "      <td>233</td>\n",
              "      <td>GGGAAAAAAGGGGGGGGCAGGGGGGGGGGCGGGAGAACGGCGGGGG...</td>\n",
              "      <td>GEF6GDIHIBDGIDBIDIHHDIIGHHGBH;IBIICIG&gt;GBIGG1EH...</td>\n",
              "      <td>GGGAAAAAAGGGGGGGGCAGGGGGGGGGGCGGGAGAACGGCGGGGG...</td>\n",
              "      <td>233</td>\n",
              "      <td>0.313305</td>\n",
              "      <td>0.000000</td>\n",
              "      <td>0.613734</td>\n",
              "      <td>0.072961</td>\n",
              "      <td>1.232402</td>\n",
              "    </tr>\n",
              "  </tbody>\n",
              "</table>\n",
              "</div>\n",
              "      <button class=\"colab-df-convert\" onclick=\"convertToInteractive('df-d422b143-a1d3-4ff0-bd3a-530b5548361c')\"\n",
              "              title=\"Convert this dataframe to an interactive table.\"\n",
              "              style=\"display:none;\">\n",
              "        \n",
              "  <svg xmlns=\"http://www.w3.org/2000/svg\" height=\"24px\"viewBox=\"0 0 24 24\"\n",
              "       width=\"24px\">\n",
              "    <path d=\"M0 0h24v24H0V0z\" fill=\"none\"/>\n",
              "    <path d=\"M18.56 5.44l.94 2.06.94-2.06 2.06-.94-2.06-.94-.94-2.06-.94 2.06-2.06.94zm-11 1L8.5 8.5l.94-2.06 2.06-.94-2.06-.94L8.5 2.5l-.94 2.06-2.06.94zm10 10l.94 2.06.94-2.06 2.06-.94-2.06-.94-.94-2.06-.94 2.06-2.06.94z\"/><path d=\"M17.41 7.96l-1.37-1.37c-.4-.4-.92-.59-1.43-.59-.52 0-1.04.2-1.43.59L10.3 9.45l-7.72 7.72c-.78.78-.78 2.05 0 2.83L4 21.41c.39.39.9.59 1.41.59.51 0 1.02-.2 1.41-.59l7.78-7.78 2.81-2.81c.8-.78.8-2.07 0-2.86zM5.41 20L4 18.59l7.72-7.72 1.47 1.35L5.41 20z\"/>\n",
              "  </svg>\n",
              "      </button>\n",
              "      \n",
              "  <style>\n",
              "    .colab-df-container {\n",
              "      display:flex;\n",
              "      flex-wrap:wrap;\n",
              "      gap: 12px;\n",
              "    }\n",
              "\n",
              "    .colab-df-convert {\n",
              "      background-color: #E8F0FE;\n",
              "      border: none;\n",
              "      border-radius: 50%;\n",
              "      cursor: pointer;\n",
              "      display: none;\n",
              "      fill: #1967D2;\n",
              "      height: 32px;\n",
              "      padding: 0 0 0 0;\n",
              "      width: 32px;\n",
              "    }\n",
              "\n",
              "    .colab-df-convert:hover {\n",
              "      background-color: #E2EBFA;\n",
              "      box-shadow: 0px 1px 2px rgba(60, 64, 67, 0.3), 0px 1px 3px 1px rgba(60, 64, 67, 0.15);\n",
              "      fill: #174EA6;\n",
              "    }\n",
              "\n",
              "    [theme=dark] .colab-df-convert {\n",
              "      background-color: #3B4455;\n",
              "      fill: #D2E3FC;\n",
              "    }\n",
              "\n",
              "    [theme=dark] .colab-df-convert:hover {\n",
              "      background-color: #434B5C;\n",
              "      box-shadow: 0px 1px 3px 1px rgba(0, 0, 0, 0.15);\n",
              "      filter: drop-shadow(0px 1px 2px rgba(0, 0, 0, 0.3));\n",
              "      fill: #FFFFFF;\n",
              "    }\n",
              "  </style>\n",
              "\n",
              "      <script>\n",
              "        const buttonEl =\n",
              "          document.querySelector('#df-d422b143-a1d3-4ff0-bd3a-530b5548361c button.colab-df-convert');\n",
              "        buttonEl.style.display =\n",
              "          google.colab.kernel.accessAllowed ? 'block' : 'none';\n",
              "\n",
              "        async function convertToInteractive(key) {\n",
              "          const element = document.querySelector('#df-d422b143-a1d3-4ff0-bd3a-530b5548361c');\n",
              "          const dataTable =\n",
              "            await google.colab.kernel.invokeFunction('convertToInteractive',\n",
              "                                                     [key], {});\n",
              "          if (!dataTable) return;\n",
              "\n",
              "          const docLinkHtml = 'Like what you see? Visit the ' +\n",
              "            '<a target=\"_blank\" href=https://colab.research.google.com/notebooks/data_table.ipynb>data table notebook</a>'\n",
              "            + ' to learn more about interactive tables.';\n",
              "          element.innerHTML = '';\n",
              "          dataTable['output_type'] = 'display_data';\n",
              "          await google.colab.output.renderOutput(dataTable, element);\n",
              "          const docLink = document.createElement('div');\n",
              "          docLink.innerHTML = docLinkHtml;\n",
              "          element.appendChild(docLink);\n",
              "        }\n",
              "      </script>\n",
              "    </div>\n",
              "  </div>\n",
              "  "
            ]
          },
          "metadata": {},
          "execution_count": 38
        }
      ]
    },
    {
      "cell_type": "code",
      "source": [
        "target = subpup2[['chrom','pos']]\n",
        "target['start']=subpup['pos']-12\n",
        "target['stop']=subpup['pos']+11\n",
        "target = target.drop('pos', axis=1)\n",
        "target['shannon'] = subpup[['shannon']]\n",
        "target"
      ],
      "metadata": {
        "colab": {
          "base_uri": "https://localhost:8080/",
          "height": 862
        },
        "id": "uxmxyVx4uGg0",
        "outputId": "1bc894de-b08f-4763-c4e8-ac9e833ce4e3"
      },
      "execution_count": 39,
      "outputs": [
        {
          "output_type": "stream",
          "name": "stderr",
          "text": [
            "<ipython-input-39-05e445ead626>:2: SettingWithCopyWarning: \n",
            "A value is trying to be set on a copy of a slice from a DataFrame.\n",
            "Try using .loc[row_indexer,col_indexer] = value instead\n",
            "\n",
            "See the caveats in the documentation: https://pandas.pydata.org/pandas-docs/stable/user_guide/indexing.html#returning-a-view-versus-a-copy\n",
            "  target['start']=subpup['pos']-12\n",
            "<ipython-input-39-05e445ead626>:3: SettingWithCopyWarning: \n",
            "A value is trying to be set on a copy of a slice from a DataFrame.\n",
            "Try using .loc[row_indexer,col_indexer] = value instead\n",
            "\n",
            "See the caveats in the documentation: https://pandas.pydata.org/pandas-docs/stable/user_guide/indexing.html#returning-a-view-versus-a-copy\n",
            "  target['stop']=subpup['pos']+11\n"
          ]
        },
        {
          "output_type": "execute_result",
          "data": {
            "text/plain": [
              "         chrom      start       stop   shannon\n",
              "17515495  chr9  120780444  120780467  1.068908\n",
              "17515596  chr9  120780545  120780568  1.043189\n",
              "17515609  chr9  120780558  120780581  1.052670\n",
              "17515827  chr9  120780776  120780799  1.407908\n",
              "17517027  chr9  120781976  120781999  1.334387\n",
              "17517099  chr9  120782048  120782071  0.839708\n",
              "17521665  chr9  120786614  120786637  1.387966\n",
              "17521759  chr9  120786708  120786731  0.852154\n",
              "17521938  chr9  120786887  120786910  0.945588\n",
              "17522733  chr9  120787682  120787705  0.854340\n",
              "17522737  chr9  120787686  120787709  0.802190\n",
              "17523670  chr9  120788619  120788642  0.890418\n",
              "17524232  chr9  120789184  120789207  0.930967\n",
              "17524269  chr9  120789221  120789244  0.946520\n",
              "17524355  chr9  120789307  120789330  0.805912\n",
              "17524357  chr9  120789309  120789332  1.410036\n",
              "17524406  chr9  120789358  120789381  1.124658\n",
              "17524407  chr9  120789359  120789382  1.155717\n",
              "17524567  chr9  120789519  120789542  1.232402"
            ],
            "text/html": [
              "\n",
              "  <div id=\"df-1fc6eacc-bcda-44ab-99fb-a10157839126\">\n",
              "    <div class=\"colab-df-container\">\n",
              "      <div>\n",
              "<style scoped>\n",
              "    .dataframe tbody tr th:only-of-type {\n",
              "        vertical-align: middle;\n",
              "    }\n",
              "\n",
              "    .dataframe tbody tr th {\n",
              "        vertical-align: top;\n",
              "    }\n",
              "\n",
              "    .dataframe thead th {\n",
              "        text-align: right;\n",
              "    }\n",
              "</style>\n",
              "<table border=\"1\" class=\"dataframe\">\n",
              "  <thead>\n",
              "    <tr style=\"text-align: right;\">\n",
              "      <th></th>\n",
              "      <th>chrom</th>\n",
              "      <th>start</th>\n",
              "      <th>stop</th>\n",
              "      <th>shannon</th>\n",
              "    </tr>\n",
              "  </thead>\n",
              "  <tbody>\n",
              "    <tr>\n",
              "      <th>17515495</th>\n",
              "      <td>chr9</td>\n",
              "      <td>120780444</td>\n",
              "      <td>120780467</td>\n",
              "      <td>1.068908</td>\n",
              "    </tr>\n",
              "    <tr>\n",
              "      <th>17515596</th>\n",
              "      <td>chr9</td>\n",
              "      <td>120780545</td>\n",
              "      <td>120780568</td>\n",
              "      <td>1.043189</td>\n",
              "    </tr>\n",
              "    <tr>\n",
              "      <th>17515609</th>\n",
              "      <td>chr9</td>\n",
              "      <td>120780558</td>\n",
              "      <td>120780581</td>\n",
              "      <td>1.052670</td>\n",
              "    </tr>\n",
              "    <tr>\n",
              "      <th>17515827</th>\n",
              "      <td>chr9</td>\n",
              "      <td>120780776</td>\n",
              "      <td>120780799</td>\n",
              "      <td>1.407908</td>\n",
              "    </tr>\n",
              "    <tr>\n",
              "      <th>17517027</th>\n",
              "      <td>chr9</td>\n",
              "      <td>120781976</td>\n",
              "      <td>120781999</td>\n",
              "      <td>1.334387</td>\n",
              "    </tr>\n",
              "    <tr>\n",
              "      <th>17517099</th>\n",
              "      <td>chr9</td>\n",
              "      <td>120782048</td>\n",
              "      <td>120782071</td>\n",
              "      <td>0.839708</td>\n",
              "    </tr>\n",
              "    <tr>\n",
              "      <th>17521665</th>\n",
              "      <td>chr9</td>\n",
              "      <td>120786614</td>\n",
              "      <td>120786637</td>\n",
              "      <td>1.387966</td>\n",
              "    </tr>\n",
              "    <tr>\n",
              "      <th>17521759</th>\n",
              "      <td>chr9</td>\n",
              "      <td>120786708</td>\n",
              "      <td>120786731</td>\n",
              "      <td>0.852154</td>\n",
              "    </tr>\n",
              "    <tr>\n",
              "      <th>17521938</th>\n",
              "      <td>chr9</td>\n",
              "      <td>120786887</td>\n",
              "      <td>120786910</td>\n",
              "      <td>0.945588</td>\n",
              "    </tr>\n",
              "    <tr>\n",
              "      <th>17522733</th>\n",
              "      <td>chr9</td>\n",
              "      <td>120787682</td>\n",
              "      <td>120787705</td>\n",
              "      <td>0.854340</td>\n",
              "    </tr>\n",
              "    <tr>\n",
              "      <th>17522737</th>\n",
              "      <td>chr9</td>\n",
              "      <td>120787686</td>\n",
              "      <td>120787709</td>\n",
              "      <td>0.802190</td>\n",
              "    </tr>\n",
              "    <tr>\n",
              "      <th>17523670</th>\n",
              "      <td>chr9</td>\n",
              "      <td>120788619</td>\n",
              "      <td>120788642</td>\n",
              "      <td>0.890418</td>\n",
              "    </tr>\n",
              "    <tr>\n",
              "      <th>17524232</th>\n",
              "      <td>chr9</td>\n",
              "      <td>120789184</td>\n",
              "      <td>120789207</td>\n",
              "      <td>0.930967</td>\n",
              "    </tr>\n",
              "    <tr>\n",
              "      <th>17524269</th>\n",
              "      <td>chr9</td>\n",
              "      <td>120789221</td>\n",
              "      <td>120789244</td>\n",
              "      <td>0.946520</td>\n",
              "    </tr>\n",
              "    <tr>\n",
              "      <th>17524355</th>\n",
              "      <td>chr9</td>\n",
              "      <td>120789307</td>\n",
              "      <td>120789330</td>\n",
              "      <td>0.805912</td>\n",
              "    </tr>\n",
              "    <tr>\n",
              "      <th>17524357</th>\n",
              "      <td>chr9</td>\n",
              "      <td>120789309</td>\n",
              "      <td>120789332</td>\n",
              "      <td>1.410036</td>\n",
              "    </tr>\n",
              "    <tr>\n",
              "      <th>17524406</th>\n",
              "      <td>chr9</td>\n",
              "      <td>120789358</td>\n",
              "      <td>120789381</td>\n",
              "      <td>1.124658</td>\n",
              "    </tr>\n",
              "    <tr>\n",
              "      <th>17524407</th>\n",
              "      <td>chr9</td>\n",
              "      <td>120789359</td>\n",
              "      <td>120789382</td>\n",
              "      <td>1.155717</td>\n",
              "    </tr>\n",
              "    <tr>\n",
              "      <th>17524567</th>\n",
              "      <td>chr9</td>\n",
              "      <td>120789519</td>\n",
              "      <td>120789542</td>\n",
              "      <td>1.232402</td>\n",
              "    </tr>\n",
              "  </tbody>\n",
              "</table>\n",
              "</div>\n",
              "      <button class=\"colab-df-convert\" onclick=\"convertToInteractive('df-1fc6eacc-bcda-44ab-99fb-a10157839126')\"\n",
              "              title=\"Convert this dataframe to an interactive table.\"\n",
              "              style=\"display:none;\">\n",
              "        \n",
              "  <svg xmlns=\"http://www.w3.org/2000/svg\" height=\"24px\"viewBox=\"0 0 24 24\"\n",
              "       width=\"24px\">\n",
              "    <path d=\"M0 0h24v24H0V0z\" fill=\"none\"/>\n",
              "    <path d=\"M18.56 5.44l.94 2.06.94-2.06 2.06-.94-2.06-.94-.94-2.06-.94 2.06-2.06.94zm-11 1L8.5 8.5l.94-2.06 2.06-.94-2.06-.94L8.5 2.5l-.94 2.06-2.06.94zm10 10l.94 2.06.94-2.06 2.06-.94-2.06-.94-.94-2.06-.94 2.06-2.06.94z\"/><path d=\"M17.41 7.96l-1.37-1.37c-.4-.4-.92-.59-1.43-.59-.52 0-1.04.2-1.43.59L10.3 9.45l-7.72 7.72c-.78.78-.78 2.05 0 2.83L4 21.41c.39.39.9.59 1.41.59.51 0 1.02-.2 1.41-.59l7.78-7.78 2.81-2.81c.8-.78.8-2.07 0-2.86zM5.41 20L4 18.59l7.72-7.72 1.47 1.35L5.41 20z\"/>\n",
              "  </svg>\n",
              "      </button>\n",
              "      \n",
              "  <style>\n",
              "    .colab-df-container {\n",
              "      display:flex;\n",
              "      flex-wrap:wrap;\n",
              "      gap: 12px;\n",
              "    }\n",
              "\n",
              "    .colab-df-convert {\n",
              "      background-color: #E8F0FE;\n",
              "      border: none;\n",
              "      border-radius: 50%;\n",
              "      cursor: pointer;\n",
              "      display: none;\n",
              "      fill: #1967D2;\n",
              "      height: 32px;\n",
              "      padding: 0 0 0 0;\n",
              "      width: 32px;\n",
              "    }\n",
              "\n",
              "    .colab-df-convert:hover {\n",
              "      background-color: #E2EBFA;\n",
              "      box-shadow: 0px 1px 2px rgba(60, 64, 67, 0.3), 0px 1px 3px 1px rgba(60, 64, 67, 0.15);\n",
              "      fill: #174EA6;\n",
              "    }\n",
              "\n",
              "    [theme=dark] .colab-df-convert {\n",
              "      background-color: #3B4455;\n",
              "      fill: #D2E3FC;\n",
              "    }\n",
              "\n",
              "    [theme=dark] .colab-df-convert:hover {\n",
              "      background-color: #434B5C;\n",
              "      box-shadow: 0px 1px 3px 1px rgba(0, 0, 0, 0.15);\n",
              "      filter: drop-shadow(0px 1px 2px rgba(0, 0, 0, 0.3));\n",
              "      fill: #FFFFFF;\n",
              "    }\n",
              "  </style>\n",
              "\n",
              "      <script>\n",
              "        const buttonEl =\n",
              "          document.querySelector('#df-1fc6eacc-bcda-44ab-99fb-a10157839126 button.colab-df-convert');\n",
              "        buttonEl.style.display =\n",
              "          google.colab.kernel.accessAllowed ? 'block' : 'none';\n",
              "\n",
              "        async function convertToInteractive(key) {\n",
              "          const element = document.querySelector('#df-1fc6eacc-bcda-44ab-99fb-a10157839126');\n",
              "          const dataTable =\n",
              "            await google.colab.kernel.invokeFunction('convertToInteractive',\n",
              "                                                     [key], {});\n",
              "          if (!dataTable) return;\n",
              "\n",
              "          const docLinkHtml = 'Like what you see? Visit the ' +\n",
              "            '<a target=\"_blank\" href=https://colab.research.google.com/notebooks/data_table.ipynb>data table notebook</a>'\n",
              "            + ' to learn more about interactive tables.';\n",
              "          element.innerHTML = '';\n",
              "          dataTable['output_type'] = 'display_data';\n",
              "          await google.colab.output.renderOutput(dataTable, element);\n",
              "          const docLink = document.createElement('div');\n",
              "          docLink.innerHTML = docLinkHtml;\n",
              "          element.appendChild(docLink);\n",
              "        }\n",
              "      </script>\n",
              "    </div>\n",
              "  </div>\n",
              "  "
            ]
          },
          "metadata": {},
          "execution_count": 39
        }
      ]
    },
    {
      "cell_type": "code",
      "source": [
        "target.to_csv(\"target_mirlet7g.bed\",header=None, index=False, sep='\\t')  "
      ],
      "metadata": {
        "id": "40IjlsyoxJQb"
      },
      "execution_count": 40,
      "outputs": []
    },
    {
      "cell_type": "code",
      "source": [
        "!bedtools getfasta -fi GRCm39.genome.fa -bed target_mirlet7g.bed -fo target_mirlet7g.fa"
      ],
      "metadata": {
        "id": "P0H3b9Cp9cGC"
      },
      "execution_count": 113,
      "outputs": []
    }
  ],
  "metadata": {
    "colab": {
      "provenance": [],
      "authorship_tag": "ABX9TyNyjn++HUucyDhfBcMztCmU",
      "include_colab_link": true
    },
    "kernelspec": {
      "display_name": "Python 3",
      "name": "python3"
    },
    "language_info": {
      "name": "python"
    }
  },
  "nbformat": 4,
  "nbformat_minor": 0
}