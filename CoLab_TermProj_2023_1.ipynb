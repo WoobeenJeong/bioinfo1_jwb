{
  "cells": [
    {
      "cell_type": "markdown",
      "metadata": {
        "id": "view-in-github",
        "colab_type": "text"
      },
      "source": [
        "<a href=\"https://colab.research.google.com/github/WoobeenJeong/bioinfo1_jwb/blob/main/CoLab_TermProj_2023_1.ipynb\" target=\"_parent\"><img src=\"https://colab.research.google.com/assets/colab-badge.svg\" alt=\"Open In Colab\"/></a>"
      ]
    },
    {
      "cell_type": "markdown",
      "metadata": {
        "id": "_SmTogjeMD47"
      },
      "source": [
        "# 생물정보학 및 실습 1 - Term Project용 환경 셋업\n",
        "\n",
        "```\n",
        "생물정보학 및 실습 1\n",
        "서울대학교 생물정보학전공/생명과학부 2023년 1학기\n",
        "\n",
        "이 노트북은 Creative Commons BY-SA 조건으로 재사용 가능합니다.\n",
        "장혜식 <hyeshik@snu.ac.kr>, 서울대학교 생명과학부\n",
        "```\n",
        "\n",
        "이 노트북은 Google Colab을 이용해서 Term Project를 할 수 있도록 환경을 준비해 줍니다. 터미널 사용이 원활하지 않은 상태이고, 데이터를 오랫동안 보관하기 어렵기 때문에 되도록 개인용 컴퓨터에서 [Anaconda](https://www.anaconda.com/)나 [JupyterLab](https://jupyterlab.readthedocs.io/en/stable/) 등을 설치하고 사용하시는 것이 편하지만, 개인용 컴퓨터 사양이 부족한 경우에는 Google CoLab을 사용할 수도 있습니다. 개인용 컴퓨터를 쓸 때는 Windows에서는 [WSL2](https://docs.microsoft.com/en-us/windows/wsl/install-win10)를 쓰시면 리눅스 커맨드라인 환경을 쓸 수 있습니다. Google Colab은 창을 닫은 후 90분 후, 또는 창을 처음 열고 12시간 후에 환경을 닫아버리기 때문에 매번 실습할 때마다 새로 셋업이 필요합니다. `Runtime->Run All`을 실행해서 전체를 한 번 실행하시면 준비됩니다. 모든 것이 잘 안 되고 뭔가 꼬인 느낌이 강하게 들 때는 `Runtime->Factory reset runtime`을 누르고 새로 시작하시면 될 수도 있습니다.\n"
      ]
    },
    {
      "cell_type": "markdown",
      "metadata": {
        "id": "zGYjheLcRJS0"
      },
      "source": [
        "## Google Drive 마운트\n",
        "\n",
        "데이터 파일들을 불러오고 저장하기 위해서 Google Drive를 연결합니다. **이번엔 스크립트 파일을 편집해야 하기 때문에 Google Drive 마운트를 하지 않으면 vim등 콘솔에서 쓸 수 있는 에디터를 쓰셔야 합니다.** 화면에 나오는 주소를 눌러서 인증하고 인증 코드를 그 아래에 입력하세요. 그러면 `/contents/drive/MyDrive`에서 자신의 Drive 최상단 폴더가 보입니다. Google CoLab에서 접속하지 않고, 본인 컴퓨터 또는 연구실 워크스테이션 등 다른 컴퓨터를 쓰시는 경우에는 저장공간이 충분하므로 이 부분은 생략하고 지나갑니다."
      ]
    },
    {
      "cell_type": "code",
      "execution_count": 9,
      "metadata": {
        "colab": {
          "base_uri": "https://localhost:8080/"
        },
        "id": "0HgOxANiRHgl",
        "outputId": "9a07b9ca-2638-4013-d363-c094cc37f3f3"
      },
      "outputs": [
        {
          "output_type": "stream",
          "name": "stdout",
          "text": [
            "Drive already mounted at /content/drive; to attempt to forcibly remount, call drive.mount(\"/content/drive\", force_remount=True).\n"
          ]
        }
      ],
      "source": [
        "from google.colab import drive\n",
        "drive.mount('/content/drive')"
      ]
    },
    {
      "cell_type": "markdown",
      "metadata": {
        "id": "ra3RB22DWEER"
      },
      "source": [
        "## 실습용 Bioconda 환경 설치하기\n",
        "Google CoLab에서 접속하지 않고, 본인 컴퓨터 또는 연구실 워크스테이션 등 다른 컴퓨터를 쓰시는 경우에는 따로 실습용 [Bioconda](https://bioconda.github.io/) 환경을 구축해서 이 노트북을 그 환경 안에서 띄우시면 됩니다.\n",
        "\n",
        "CoLab을 쓰시는 분들은 다음에 따라서 실습용 프로그램들을 쉽게 설치할 수 있도록 [Bioconda](https://bioconda.github.io/) 환경을 만듭니다. 실행하고 진행상황을 관찰하다가 에러로 보이는 것이 있으면 잘 읽어보고 해결합니다.\n",
        "\n",
        "파이썬 모듈들은 Colab쪽의 파이썬 인터프리터를 바꿀 수 없기 때문에 Conda에 설치하더라도 사용하기 어렵습니다. 파이썬 모듈은 `pip` 명령어로 설치하시면 Colab에서 불러와서 사용할 수 있습니다.\n",
        "\n",
        "환경 초기화에 관련된 스크립트는 [GitHub 프로젝트](https://github.com/hyeshik/colab-biolab)에 있습니다."
      ]
    },
    {
      "cell_type": "code",
      "execution_count": 10,
      "metadata": {
        "colab": {
          "base_uri": "https://localhost:8080/"
        },
        "id": "TTXmNi4hcap3",
        "outputId": "cbb158ae-d217-4e86-de47-487c9df071d8"
      },
      "outputs": [
        {
          "output_type": "stream",
          "name": "stdout",
          "text": [
            "fatal: destination path 'colab-biolab' already exists and is not an empty directory.\n",
            "./\n",
            "./root/\n",
            "./root/.bin.priority/\n",
            "./root/.bin.priority/pip3\n",
            "./root/.bin.priority/pip2\n",
            "./root/.bin.priority/pip\n",
            "./root/.vimrc\n",
            "./root/.bashrc.biolab\n",
            "./root/.condarc\n",
            "./root/.tmux.conf\n",
            "./root/.profile\n",
            "PREFIX=/root/conda\n",
            "Unpacking payload ...\n",
            "                                                                                \n",
            "Installing base environment...\n",
            "\n",
            "\n",
            "Downloading and Extracting Packages\n",
            "\n",
            "Preparing transaction: - \b\bdone\n",
            "Executing transaction: | \b\bdone\n",
            "installation finished.\n",
            "WARNING:\n",
            "    You currently have a PYTHONPATH environment variable set. This may cause\n",
            "    unexpected behavior when running the Python interpreter in Miniconda3.\n",
            "    For best results, please verify that your PYTHONPATH only points to\n",
            "    directories of packages that are compatible with the Python interpreter\n",
            "    in Miniconda3: /root/conda\n",
            "Activated conda environment `lab'!\n"
          ]
        }
      ],
      "source": [
        "!git clone https://github.com/hyeshik/colab-biolab.git\n",
        "!cd colab-biolab && bash tools/setup.sh\n",
        "exec(open('colab-biolab/tools/activate_conda.py').read())"
      ]
    },
    {
      "cell_type": "markdown",
      "metadata": {
        "id": "eDfJ0fCzsTTb"
      },
      "source": [
        "요즘은 Google CoLab을 쓰시는 경우에는 무료로 Terminal을 쓸 수 있는 경로가 거의 모두 막혔습니다. 명령 앞에 !을 붙이면 실행할 수 있으니, 노트북 내에서 실행하는 방법을 활용합시다."
      ]
    },
    {
      "cell_type": "markdown",
      "metadata": {
        "id": "J2LqGiP_N26s"
      },
      "source": [
        "## 시퀀싱 데이터 다운로드\n",
        "이제 실습 수업에서 필요한 시퀀싱 데이터를 다운로드 받아서 설치합시다. 드라이브 공간만 충분하면 데이터는 계속 저장돼 있기 때문에 학기 전체를 통해서 딱 한 번만 하시면 됩니다. Colab에서는 작업용 데이터를 Google Drive 폴더 아래의 `binfo-datapack1`에 저장합니다. 실습용 데이터는 `/content/drive/MyDrive/binfo1-datapack1`에 풀리게 됩니다.\n",
        "\n",
        "### (Option 1) Google CoLab에서 접속한 경우\n",
        "1. [Google Drive 공유폴더](https://drive.google.com/drive/folders/1QBJednh-C7A17PFOlpZHBKyDmBvd6klh?usp=sharing)에 접속합니다.\n",
        "1. 중간 제목줄의 \"binfo1-datapack1 ▾\"에서 ▾을 누릅니다.\n",
        "1. Add shortcut to Drive를 누릅니다.\n",
        "1. My Drive를 선택해서 ADD SHORTCUT 버튼을 누릅니다.\n",
        "1. 다음 cell을 실행해서 링크가 제대로 들어왔는지 확인합니다. (바로 확인되지 않으면 3–5분 정도 기다렸다가 하면 됩니다.)\n",
        "1. 제대로 확인되면 다음으로 넘어갑니다.\n"
      ]
    },
    {
      "cell_type": "code",
      "execution_count": 12,
      "metadata": {
        "colab": {
          "base_uri": "https://localhost:8080/"
        },
        "id": "D24wKYriG8tI",
        "outputId": "52b56d6c-3ac6-41a4-efe7-67b766de6c1c"
      },
      "outputs": [
        {
          "output_type": "stream",
          "name": "stdout",
          "text": [
            "total 7160208\n",
            "-r-------- 1 root root 1370036258 Apr 27 14:53 CLIP-35L33G.bam\n",
            "-r-------- 1 root root    3118336 Apr 27 14:53 CLIP-35L33G.bam.bai\n",
            "-r-------- 1 root root  883334756 Apr 27 14:53 gencode.gtf\n",
            "-r-------- 1 root root   24065406 Apr 27 15:15 read-counts.txt\n",
            "-r-------- 1 root root        751 Apr 27 15:15 read-counts.txt.summary\n",
            "-r-------- 1 root root 1003658801 Apr 27 14:54 RNA-control.bam\n",
            "-r-------- 1 root root    2276104 Apr 27 14:53 RNA-control.bam.bai\n",
            "-r-------- 1 root root 1260991122 Apr 27 14:54 RNA-siLin28a.bam\n",
            "-r-------- 1 root root    2710744 Apr 27 14:54 RNA-siLin28a.bam.bai\n",
            "-r-------- 1 root root  981684502 Apr 27 14:54 RNA-siLuc.bam\n",
            "-r-------- 1 root root    2606104 Apr 27 14:54 RNA-siLuc.bam.bai\n",
            "-r-------- 1 root root  737352902 Apr 27 14:54 RPF-siLin28a.bam\n",
            "-r-------- 1 root root    2482768 Apr 27 14:54 RPF-siLin28a.bam.bai\n",
            "-r-------- 1 root root 1055123479 Apr 27 14:54 RPF-siLuc.bam\n",
            "-r-------- 1 root root    2605912 Apr 27 14:54 RPF-siLuc.bam.bai\n"
          ]
        }
      ],
      "source": [
        "!ls -al /content/drive/MyDrive/binfo1-datapack1/"
      ]
    },
    {
      "cell_type": "markdown",
      "metadata": {
        "id": "OZ0KkKrmG-M4"
      },
      "source": [
        "### (Option 2) CoLab외의 다른 환경에서 접속한 경우\n",
        "본인 컴퓨터나 연구실 워크스테이션 등에서 작업하는 경우에는 다음 명령어로 다운로드 받으시면 됩니다. 첫 번째에는 wget이 접속오류를 내는 경우가 많으니, 접속에러가 발생하면 다시 한 번 실행해 보세요. `/content/drive/Mydrive` 부분은 원하는 저장 경로로 바꿔서 지정하시면 됩니다."
      ]
    },
    {
      "cell_type": "code",
      "execution_count": null,
      "metadata": {
        "colab": {
          "base_uri": "https://localhost:8080/"
        },
        "id": "kIN484e7NSxR",
        "outputId": "266e019a-913c-478c-9ad5-aee929355cf5"
      },
      "outputs": [
        {
          "name": "stdout",
          "output_type": "stream",
          "text": [
            "--2023-04-28 04:20:03--  https://hyeshik.qbio.io/binfo/binfo1-datapack1.tar\n",
            "Resolving hyeshik.qbio.io (hyeshik.qbio.io)... 147.47.203.129\n",
            "Connecting to hyeshik.qbio.io (hyeshik.qbio.io)|147.47.203.129|:443... connected.\n",
            "WARNING: cannot verify hyeshik.qbio.io's certificate, issued by ‘CN=R3,O=Let's Encrypt,C=US’:\n",
            "  Unable to locally verify the issuer's authority.\n",
            "HTTP request sent, awaiting response... 200 OK\n",
            "Length: 6424668160 (6.0G) [application/octet-stream]\n",
            "Saving to: ‘STDOUT’\n",
            "\n",
            "-                     1%[                    ]  68.83M  7.69MB/s    eta 14m 24s^C\n"
          ]
        }
      ],
      "source": [
        "!wget -O - --no-check-certificate https://hyeshik.qbio.io/binfo/binfo1-datapack1.tar | tar -C /content/drive/MyDrive -xf -"
      ]
    },
    {
      "cell_type": "markdown",
      "metadata": {
        "id": "kiQ5y4dTD27M"
      },
      "source": [
        "그리고, GENCODE Annotation 데이터도 미리 받아서 저장해 둡니다. 에러가 나면 다시 한 번 실행해 봅니다."
      ]
    },
    {
      "cell_type": "code",
      "execution_count": null,
      "metadata": {
        "id": "Efdd3x8hDMh4"
      },
      "outputs": [],
      "source": [
        "!wget --no-check-certificate -O /content/drive/MyDrive/binfo1-datapack1/gencode.gtf.gz http://ftp.ebi.ac.uk/pub/databases/gencode/Gencode_mouse/release_M27/gencode.vM27.annotation.gtf.gz"
      ]
    },
    {
      "cell_type": "markdown",
      "metadata": {
        "id": "O3rM9ds6EMhB"
      },
      "source": [
        "다루기 쉽도록 Annotation 압축을 풉니다."
      ]
    },
    {
      "cell_type": "code",
      "execution_count": null,
      "metadata": {
        "id": "KNyuSM6PEQvX"
      },
      "outputs": [],
      "source": [
        "!gunzip /content/drive/MyDrive/binfo1-datapack1/gencode.gtf.gz"
      ]
    },
    {
      "cell_type": "markdown",
      "metadata": {
        "id": "lnlM-S70C-tY"
      },
      "source": [
        "### 파일 체크섬 확인\n",
        "\n",
        "받은 데이터의 MD5 체크섬을 확인합니다. 한참 걸립니다. 각 파일들의 원래 체크섬은 다음과 같습니다. 한 번 비교해 보세요.\n",
        "\n",
        "```\n",
        "140aaf30bcb9276cc716f8699f04ddd6  CLIP-35L33G.bam\n",
        "f1b3336ed7e2f97d562dcc71641251bd  CLIP-35L33G.bam.bai\n",
        "328883a73d507eafbf5b60bd6b906201  RNA-control.bam\n",
        "02073818e2f398a73c3b76e5169de1ca  RNA-control.bam.bai\n",
        "b09550d09d6c2a4ce27f0226f426fdb1  RNA-siLin28a.bam\n",
        "fef112c727244060ea62d3f2564a07f6  RNA-siLin28a.bam.bai\n",
        "28bbd0c47d725669340c784f1b772c01  RNA-siLuc.bam\n",
        "43590fdc4d81905c0432e0d1cb8cfd5b  RNA-siLuc.bam.bai\n",
        "5c08a9297307bc83259e658c4474f0cc  RPF-siLin28a.bam\n",
        "a1bb3e29be412dfd7fd8d16b1b1acc4c  RPF-siLin28a.bam.bai\n",
        "f2eebf50943024d0116c9cd3e744c707  RPF-siLuc.bam\n",
        "dc24f69e8f571fc8be30f28ce5b84fcd  RPF-siLuc.bam.bai\n",
        "```"
      ]
    },
    {
      "cell_type": "code",
      "execution_count": null,
      "metadata": {
        "colab": {
          "base_uri": "https://localhost:8080/"
        },
        "id": "g8lC_YJRBCPf",
        "outputId": "a20f8260-9efc-4f03-d538-6f2d5a9a4d62"
      },
      "outputs": [
        {
          "name": "stdout",
          "output_type": "stream",
          "text": [
            "efe05d8976b7b8815dd740cf44927565  drive/MyDrive/binfo1-datapack1/CLIP-35L33G.bam\n"
          ]
        }
      ],
      "source": [
        "!md5sum drive/MyDrive/binfo1-datapack1/*"
      ]
    },
    {
      "cell_type": "code",
      "execution_count": null,
      "metadata": {
        "colab": {
          "base_uri": "https://localhost:8080/"
        },
        "id": "PVXzIs5FE3Q4",
        "outputId": "18c10687-e103-4f54-e4f2-f6d2b267920e"
      },
      "outputs": [
        {
          "name": "stdout",
          "output_type": "stream",
          "text": [
            "lrw------- 1 root root    0 Apr 28 02:00 'drive/MyDrive/binfo1-datapack1 (1)' -> /content/drive/.shortcut-targets-by-id/1QBJednh-C7A17PFOlpZHBKyDmBvd6klh/binfo1-datapack1\n",
            "\n",
            "drive/MyDrive/binfo1-datapack1:\n",
            "total 70709\n",
            "-rw------- 1 root root 72406016 Apr 28 04:20 CLIP-35L33G.bam\n",
            "\n",
            "drive/MyDrive/binfo1-work:\n",
            "total 7160208\n",
            "-rw------- 1 root root 1370036258 Apr 28 02:15 CLIP-35L33G.bam\n",
            "-rw------- 1 root root    3118336 Apr 28 02:16 CLIP-35L33G.bam.bai\n",
            "-rw------- 1 root root  883334756 Apr 28 02:16 gencode.gtf\n",
            "-rw------- 1 root root   24065406 Apr 28 02:23 read-counts.txt\n",
            "-rw------- 1 root root        751 Apr 28 02:23 read-counts.txt.summary\n",
            "-rw------- 1 root root 1003658801 Apr 28 02:16 RNA-control.bam\n",
            "-rw------- 1 root root    2276104 Apr 28 02:16 RNA-control.bam.bai\n",
            "-rw------- 1 root root 1260991122 Apr 28 02:16 RNA-siLin28a.bam\n",
            "-rw------- 1 root root    2710744 Apr 28 02:16 RNA-siLin28a.bam.bai\n",
            "-rw------- 1 root root  981684502 Apr 28 02:16 RNA-siLuc.bam\n",
            "-rw------- 1 root root    2606104 Apr 28 02:17 RNA-siLuc.bam.bai\n",
            "-rw------- 1 root root  737352902 Apr 28 02:17 RPF-siLin28a.bam\n",
            "-rw------- 1 root root    2482768 Apr 28 02:17 RPF-siLin28a.bam.bai\n",
            "-rw------- 1 root root 1055123479 Apr 28 02:17 RPF-siLuc.bam\n",
            "-rw------- 1 root root    2605912 Apr 28 02:17 RPF-siLuc.bam.bai\n"
          ]
        }
      ],
      "source": [
        "!ls -al drive/MyDrive/binfo*"
      ]
    },
    {
      "cell_type": "markdown",
      "metadata": {
        "id": "ecEA1PPQUlIK"
      },
      "source": [
        "실습에 필요한 프로그램들 몇 가지를 추가로 설치합니다."
      ]
    },
    {
      "cell_type": "code",
      "execution_count": 13,
      "metadata": {
        "colab": {
          "base_uri": "https://localhost:8080/"
        },
        "id": "neteyWsWEKBy",
        "outputId": "03a5804c-2501-4942-c339-9b1adc686b6c"
      },
      "outputs": [
        {
          "output_type": "stream",
          "name": "stdout",
          "text": [
            "Collecting package metadata (current_repodata.json): - \b\b\\ \b\b| \b\b/ \b\b- \b\b\\ \b\b| \b\b/ \b\b- \b\b\\ \b\b| \b\b/ \b\b- \b\b\\ \b\b| \b\b/ \b\b- \b\b\\ \b\b| \b\b/ \b\b- \b\b\\ \b\b| \b\b/ \b\b- \b\b\\ \b\b| \b\b/ \b\b- \b\b\\ \b\b| \b\b/ \b\b- \b\b\\ \b\b| \b\b/ \b\b- \b\b\\ \b\b| \b\b/ \b\b- \b\b\\ \b\b| \b\b/ \b\b- \b\b\\ \b\b| \b\b/ \b\b- \b\b\\ \b\b| \b\b/ \b\b- \b\b\\ \b\b| \b\b/ \b\b- \b\b\\ \b\b| \b\b/ \b\b- \b\b\\ \b\b| \b\b/ \b\b- \b\b\\ \b\b| \b\b/ \b\b- \b\b\\ \b\b| \b\b/ \b\b- \b\b\\ \b\b| \b\b/ \b\b- \b\b\\ \b\b| \b\b/ \b\b- \b\b\\ \b\b| \b\b/ \b\b- \b\b\\ \b\b| \b\b/ \b\b- \b\b\\ \b\b| \b\b/ \b\b- \b\b\\ \b\b| \b\b/ \b\b- \b\b\\ \b\b| \b\b/ \b\b- \b\b\\ \b\b| \b\b/ \b\b- \b\b\\ \b\b| \b\b/ \b\b- \b\b\\ \b\b| \b\b/ \b\b- \b\b\\ \b\b| \b\b/ \b\b- \b\b\\ \b\b| \b\b/ \b\b- \b\b\\ \b\b| \b\b/ \b\b- \b\b\\ \b\b| \b\b/ \b\b- \b\b\\ \b\b| \b\b/ \b\b- \b\b\\ \b\b| \b\b/ \b\b- \b\b\\ \b\b| \b\b/ \b\b- \b\b\\ \b\b| \b\b/ \b\b- \b\b\\ \b\b| \b\b/ \b\b- \b\b\\ \b\b| \b\b/ \b\b- \b\b\\ \b\b| \b\b/ \b\b- \b\b\\ \b\b| \b\b/ \b\b- \b\b\\ \b\b| \b\b/ \b\b- \b\b\\ \b\b| \b\b/ \b\b- \b\b\\ \b\b| \b\b/ \b\b- \b\b\\ \b\b| \b\b/ \b\b- \b\b\\ \b\b| \b\b/ \b\b- \b\b\\ \b\b| \b\b/ \b\b- \b\b\\ \b\b| \b\b/ \b\b- \b\b\\ \b\b| \b\b/ \b\b- \b\b\\ \b\b| \b\b/ \b\b- \b\b\\ \b\b| \b\b/ \b\b- \b\b\\ \b\b| \b\b/ \b\b- \b\b\\ \b\b| \b\b/ \b\b- \b\b\\ \b\b| \b\b/ \b\b- \b\b\\ \b\b| \b\b/ \b\b- \b\b\\ \b\b| \b\b/ \b\b- \b\b\\ \b\b| \b\b/ \b\b- \b\b\\ \b\b| \b\b/ \b\b- \b\b\\ \b\b| \b\b/ \b\b- \b\b\\ \b\b| \b\b/ \b\b- \b\b\\ \b\b| \b\b/ \b\b- \b\b\\ \b\b| \b\b/ \b\b- \b\b\\ \b\b| \b\b/ \b\b- \b\b\\ \b\b| \b\b/ \b\b- \b\b\\ \b\b| \b\b/ \b\b- \b\b\\ \b\b| \b\b/ \b\b- \b\b\\ \b\b| \b\b/ \b\bdone\n",
            "Solving environment: \\ \b\b| \b\b/ \b\b- \b\b\\ \b\b| \b\b/ \b\b- \b\b\\ \b\b| \b\b/ \b\b- \b\b\\ \b\b| \b\b/ \b\b- \b\b\\ \b\b| \b\b/ \b\b- \b\b\\ \b\b| \b\b/ \b\b- \b\b\\ \b\b| \b\b/ \b\b- \b\b\\ \b\b| \b\b/ \b\b- \b\b\\ \b\b| \b\b/ \b\b- \b\b\\ \b\b| \b\b/ \b\b- \b\b\\ \b\b| \b\b/ \b\b- \b\b\\ \b\b| \b\b/ \b\b- \b\b\\ \b\b| \b\b/ \b\b- \b\b\\ \b\b| \b\b/ \b\b- \b\b\\ \b\b| \b\b/ \b\b- \b\b\\ \b\b| \b\b/ \b\b- \b\b\\ \b\b| \b\b/ \b\b- \b\b\\ \b\b| \b\b/ \b\b- \b\b\\ \b\b| \b\b/ \b\b- \b\b\\ \b\b| \b\b/ \b\b- \b\b\\ \b\b| \b\b/ \b\b- \b\b\\ \b\b| \b\b/ \b\b- \b\b\\ \n",
            "The environment is inconsistent, please check the package plan carefully\n",
            "The following packages are causing the inconsistency:\n",
            "\n",
            "  - conda-forge/linux-64::llvm-openmp==16.0.2=h4dfa4b3_0\n",
            "  - conda-forge/linux-64::libzlib==1.2.13=h166bdaf_4\n",
            "  - bioconda/linux-64::subread==2.0.3=h7132678_1\n",
            "  - conda-forge/linux-64::zstd==1.5.2=h8a70e8d_1\n",
            "\b\b| \b\b/ \b\b- \b\b\\ \b\b| \b\b/ \b\b- \b\b\\ \b\b| \b\bdone\n",
            "\n",
            "## Package Plan ##\n",
            "\n",
            "  environment location: /root/conda\n",
            "\n",
            "  added / updated specs:\n",
            "    - subread\n",
            "\n",
            "\n",
            "The following packages will be REMOVED:\n",
            "\n",
            "  libgomp-11.2.0-h1234567_1\n",
            "\n",
            "The following packages will be UPDATED:\n",
            "\n",
            "  libgcc-ng          pkgs/main::libgcc-ng-11.2.0-h1234567_1 --> conda-forge::libgcc-ng-12.2.0-h65d4601_19 \n",
            "  zlib                    pkgs/main::zlib-1.2.13-h5eee18b_0 --> conda-forge::zlib-1.2.13-h166bdaf_4 \n",
            "\n",
            "The following packages will be SUPERSEDED by a higher-priority channel:\n",
            "\n",
            "  _libgcc_mutex           pkgs/main::_libgcc_mutex-0.1-main --> conda-forge::_libgcc_mutex-0.1-conda_forge \n",
            "  _openmp_mutex          pkgs/main::_openmp_mutex-5.1-1_gnu --> conda-forge::_openmp_mutex-4.5-2_kmp_llvm \n",
            "  ca-certificates    pkgs/main::ca-certificates-2023.01.10~ --> conda-forge::ca-certificates-2022.12.7-ha878542_0 \n",
            "  certifi            pkgs/main/linux-64::certifi-2022.12.7~ --> conda-forge/noarch::certifi-2022.12.7-pyhd8ed1ab_0 \n",
            "  conda              pkgs/main::conda-23.3.1-py310h06a4308~ --> conda-forge::conda-23.3.1-py310hff52083_0 \n",
            "  openssl              pkgs/main::openssl-1.1.1t-h7f8727e_0 --> conda-forge::openssl-1.1.1t-h0b41bf4_0 \n",
            "\n",
            "\n",
            "\n",
            "Downloading and Extracting Packages\n",
            "\n",
            "Preparing transaction: - \b\bdone\n",
            "Verifying transaction: | \b\b/ \b\bdone\n",
            "Executing transaction: \\ \b\b| \b\b/ \b\b- \b\b\\ \b\b| \b\b/ \b\bdone\n"
          ]
        }
      ],
      "source": [
        "!conda install -y subread"
      ]
    },
    {
      "cell_type": "markdown",
      "metadata": {
        "id": "Oe_54MZrEi4y"
      },
      "source": [
        "## Transcript count table 마련하기\n",
        "\n",
        "제공된 alignment와 annotation 파일들을 이용해서 transcript별 read count를 구해봅니다. 실제 연구에서는 multi-mapping 등을 고려해야 하지만, 여기서는 단순화해서 모두 무시합니다. 데이터가 있는 곳으로 이동해서 작업합시다."
      ]
    },
    {
      "cell_type": "code",
      "execution_count": 14,
      "metadata": {
        "colab": {
          "base_uri": "https://localhost:8080/"
        },
        "id": "IANz6DmLUkA6",
        "outputId": "f8f18dc6-e298-494e-c2c7-bcebec90f309"
      },
      "outputs": [
        {
          "output_type": "stream",
          "name": "stdout",
          "text": [
            "/content/drive/.shortcut-targets-by-id/1QBJednh-C7A17PFOlpZHBKyDmBvd6klh/binfo1-datapack1\n"
          ]
        }
      ],
      "source": [
        "%cd /content/drive/MyDrive/binfo1-datapack1/"
      ]
    },
    {
      "cell_type": "code",
      "execution_count": 15,
      "metadata": {
        "colab": {
          "base_uri": "https://localhost:8080/"
        },
        "id": "y31TTWryoq9S",
        "outputId": "ea42623d-d81a-419f-8cd8-473884d9cc20"
      },
      "outputs": [
        {
          "output_type": "stream",
          "name": "stdout",
          "text": [
            "/content/drive/MyDrive/binfo1-work\n"
          ]
        }
      ],
      "source": [
        "!mkdir /content/drive/MyDrive/binfo1-work\n",
        "%cd /content/drive/MyDrive/binfo1-work\n",
        "!cp ../binfo1-datapack1/*.* ."
      ]
    },
    {
      "cell_type": "code",
      "execution_count": 16,
      "metadata": {
        "colab": {
          "base_uri": "https://localhost:8080/"
        },
        "id": "5OrnDxegFAip",
        "outputId": "39bd6e51-365b-4ed9-9c99-cc3d63832e84"
      },
      "outputs": [
        {
          "output_type": "stream",
          "name": "stdout",
          "text": [
            "\n",
            "       \u001b[44;37m ========== \u001b[0m\u001b[36m    _____ _    _ ____  _____  ______          _____  \n",
            "       \u001b[44;37m =====      \u001b[0m\u001b[36m   / ____| |  | |  _ \\|  __ \\|  ____|   /\\   |  __ \\ \n",
            "       \u001b[44;37m   =====    \u001b[0m\u001b[36m  | (___ | |  | | |_) | |__) | |__     /  \\  | |  | |\n",
            "       \u001b[44;37m     ====   \u001b[0m\u001b[36m   \\___ \\| |  | |  _ <|  _  /|  __|   / /\\ \\ | |  | |\n",
            "       \u001b[44;37m       ==== \u001b[0m\u001b[36m   ____) | |__| | |_) | | \\ \\| |____ / ____ \\| |__| |\n",
            "       \u001b[44;37m ========== \u001b[0m\u001b[36m  |_____/ \\____/|____/|_|  \\_\\______/_/    \\_\\_____/\u001b[0m\n",
            "\t  v2.0.3\n",
            "\n",
            "//==========================\u001b[36m featureCounts setting \u001b[0m===========================\\\\\n",
            "||  \u001b[0m                                                                          ||\n",
            "||             Input files : \u001b[36m6 BAM files  \u001b[0m \u001b[0m                                   ||\n",
            "||  \u001b[0m                                                                          ||\n",
            "||                           \u001b[36mCLIP-35L33G.bam\u001b[0m \u001b[0m                                 ||\n",
            "||                           \u001b[36mRNA-control.bam\u001b[0m \u001b[0m                                 ||\n",
            "||                           \u001b[36mRNA-siLin28a.bam\u001b[0m \u001b[0m                                ||\n",
            "||                           \u001b[36mRNA-siLuc.bam\u001b[0m \u001b[0m                                   ||\n",
            "||                           \u001b[36mRPF-siLin28a.bam\u001b[0m \u001b[0m                                ||\n",
            "||                           \u001b[36mRPF-siLuc.bam\u001b[0m \u001b[0m                                   ||\n",
            "||  \u001b[0m                                                                          ||\n",
            "||             Output file : \u001b[36mread-counts.txt\u001b[0m \u001b[0m                                 ||\n",
            "||                 Summary : \u001b[36mread-counts.txt.summary\u001b[0m \u001b[0m                         ||\n",
            "||              Paired-end : \u001b[36mno\u001b[0m \u001b[0m                                              ||\n",
            "||        Count read pairs : \u001b[36mno\u001b[0m \u001b[0m                                              ||\n",
            "||              Annotation : \u001b[36mgencode.gtf (GTF)\u001b[0m \u001b[0m                               ||\n",
            "||      Dir for temp files : \u001b[36m./\u001b[0m \u001b[0m                                              ||\n",
            "||  \u001b[0m                                                                          ||\n",
            "||                 Threads : \u001b[36m1\u001b[0m \u001b[0m                                               ||\n",
            "||                   Level : \u001b[36mmeta-feature level\u001b[0m \u001b[0m                              ||\n",
            "||      Multimapping reads : \u001b[36mnot counted\u001b[0m \u001b[0m                                     ||\n",
            "|| Multi-overlapping reads : \u001b[36mnot counted\u001b[0m \u001b[0m                                     ||\n",
            "||   Min overlapping bases : \u001b[36m1\u001b[0m \u001b[0m                                               ||\n",
            "||  \u001b[0m                                                                          ||\n",
            "\\\\============================================================================//\n",
            "\n",
            "//=================================\u001b[36m Running \u001b[0m==================================\\\\\n",
            "||  \u001b[0m                                                                          ||\n",
            "|| Load annotation file gencode.gtf \u001b[0m... \u001b[0m                                      ||\n",
            "||    Features : \u001b[36m841952\u001b[0m \u001b[0m                                                      ||\n",
            "||    Meta-features : \u001b[36m55359\u001b[0m \u001b[0m                                                  ||\n",
            "||    Chromosomes/contigs : \u001b[36m22\u001b[0m \u001b[0m                                               ||\n",
            "||  \u001b[0m                                                                          ||\n",
            "|| Process BAM file CLIP-35L33G.bam... \u001b[0m                                       ||\n",
            "||    Single-end reads are included. \u001b[0m                                         ||\n",
            "||    Total alignments : \u001b[36m38880853\u001b[0m \u001b[0m                                            ||\n",
            "||    Successfully assigned alignments : \u001b[36m13630945 (35.1%)\u001b[0m \u001b[0m                    ||\n",
            "||    Running time : \u001b[36m1.00 minutes\u001b[0m \u001b[0m                                            ||\n",
            "||  \u001b[0m                                                                          ||\n",
            "|| Process BAM file RNA-control.bam... \u001b[0m                                       ||\n",
            "||    Single-end reads are included. \u001b[0m                                         ||\n",
            "||    Total alignments : \u001b[36m24971058\u001b[0m \u001b[0m                                            ||\n",
            "||    Successfully assigned alignments : \u001b[36m5200836 (20.8%)\u001b[0m \u001b[0m                     ||\n",
            "||    Running time : \u001b[36m0.64 minutes\u001b[0m \u001b[0m                                            ||\n",
            "||  \u001b[0m                                                                          ||\n",
            "|| Process BAM file RNA-siLin28a.bam... \u001b[0m                                      ||\n",
            "||    Single-end reads are included. \u001b[0m                                         ||\n",
            "||    Total alignments : \u001b[36m35108178\u001b[0m \u001b[0m                                            ||\n",
            "||    Successfully assigned alignments : \u001b[36m12338280 (35.1%)\u001b[0m \u001b[0m                    ||\n",
            "||    Running time : \u001b[36m0.91 minutes\u001b[0m \u001b[0m                                            ||\n",
            "||  \u001b[0m                                                                          ||\n",
            "|| Process BAM file RNA-siLuc.bam... \u001b[0m                                         ||\n",
            "||    Single-end reads are included. \u001b[0m                                         ||\n",
            "||    Total alignments : \u001b[36m28117241\u001b[0m \u001b[0m                                            ||\n",
            "||    Successfully assigned alignments : \u001b[36m9748787 (34.7%)\u001b[0m \u001b[0m                     ||\n",
            "||    Running time : \u001b[36m0.79 minutes\u001b[0m \u001b[0m                                            ||\n",
            "||  \u001b[0m                                                                          ||\n",
            "|| Process BAM file RPF-siLin28a.bam... \u001b[0m                                      ||\n",
            "||    Single-end reads are included. \u001b[0m                                         ||\n",
            "||    Total alignments : \u001b[36m30095551\u001b[0m \u001b[0m                                            ||\n",
            "||    Successfully assigned alignments : \u001b[36m10694162 (35.5%)\u001b[0m \u001b[0m                    ||\n",
            "||    Running time : \u001b[36m0.62 minutes\u001b[0m \u001b[0m                                            ||\n",
            "||  \u001b[0m                                                                          ||\n",
            "|| Process BAM file RPF-siLuc.bam... \u001b[0m                                         ||\n",
            "||    Single-end reads are included. \u001b[0m                                         ||\n",
            "||    Total alignments : \u001b[36m42002435\u001b[0m \u001b[0m                                            ||\n",
            "||    Successfully assigned alignments : \u001b[36m12932285 (30.8%)\u001b[0m \u001b[0m                    ||\n",
            "||    Running time : \u001b[36m0.89 minutes\u001b[0m \u001b[0m                                            ||\n",
            "||  \u001b[0m                                                                          ||\n",
            "|| Write the final count table. \u001b[0m                                              ||\n",
            "|| Write the read assignment summary. \u001b[0m                                        ||\n",
            "||  \u001b[0m                                                                          ||\n",
            "|| Summary of counting results can be found in file \"read-counts.txt.summary \u001b[0m ||\n",
            "|| \" \u001b[0m                                                                         ||\n",
            "||  \u001b[0m                                                                          ||\n",
            "\\\\============================================================================//\n",
            "\n"
          ]
        }
      ],
      "source": [
        "!featureCounts -a gencode.gtf -o read-counts.txt *.bam "
      ]
    },
    {
      "cell_type": "markdown",
      "metadata": {
        "id": "b2yJztZvGl9Q"
      },
      "source": [
        "결과를 pandas로 읽어와 봅니다."
      ]
    },
    {
      "cell_type": "code",
      "execution_count": 17,
      "metadata": {
        "colab": {
          "base_uri": "https://localhost:8080/",
          "height": 319
        },
        "id": "BMyNT3ARFAWi",
        "outputId": "222d0eff-69c8-4ad0-d565-7c0ecd8d63e9"
      },
      "outputs": [
        {
          "output_type": "execute_result",
          "data": {
            "text/plain": [
              "                                                     Chr  \\\n",
              "Geneid                                                     \n",
              "ENSMUSG00000102693.2                                chr1   \n",
              "ENSMUSG00000064842.3                                chr1   \n",
              "ENSMUSG00000051951.6  chr1;chr1;chr1;chr1;chr1;chr1;chr1   \n",
              "ENSMUSG00000102851.2                                chr1   \n",
              "ENSMUSG00000103377.2                                chr1   \n",
              "\n",
              "                                                                  Start  \\\n",
              "Geneid                                                                    \n",
              "ENSMUSG00000102693.2                                            3143476   \n",
              "ENSMUSG00000064842.3                                            3172239   \n",
              "ENSMUSG00000051951.6  3276124;3276746;3283662;3283832;3284705;349192...   \n",
              "ENSMUSG00000102851.2                                            3322980   \n",
              "ENSMUSG00000103377.2                                            3435954   \n",
              "\n",
              "                                                                    End  \\\n",
              "Geneid                                                                    \n",
              "ENSMUSG00000102693.2                                            3144545   \n",
              "ENSMUSG00000064842.3                                            3172348   \n",
              "ENSMUSG00000051951.6  3277540;3277540;3285855;3286567;3287191;349212...   \n",
              "ENSMUSG00000102851.2                                            3323459   \n",
              "ENSMUSG00000103377.2                                            3438772   \n",
              "\n",
              "                             Strand  Length  CLIP-35L33G.bam  RNA-control.bam  \\\n",
              "Geneid                                                                          \n",
              "ENSMUSG00000102693.2              +    1070                0                0   \n",
              "ENSMUSG00000064842.3              +     110                0                0   \n",
              "ENSMUSG00000051951.6  -;-;-;-;-;-;-    6094                4                1   \n",
              "ENSMUSG00000102851.2              +     480                3                0   \n",
              "ENSMUSG00000103377.2              -    2819                0                0   \n",
              "\n",
              "                      RNA-siLin28a.bam  RNA-siLuc.bam  RPF-siLin28a.bam  \\\n",
              "Geneid                                                                    \n",
              "ENSMUSG00000102693.2                 0              0                 0   \n",
              "ENSMUSG00000064842.3                 0              0                 0   \n",
              "ENSMUSG00000051951.6                 1              1                 0   \n",
              "ENSMUSG00000102851.2                 0              0                 0   \n",
              "ENSMUSG00000103377.2                 0              0                 0   \n",
              "\n",
              "                      RPF-siLuc.bam  \n",
              "Geneid                               \n",
              "ENSMUSG00000102693.2              0  \n",
              "ENSMUSG00000064842.3              0  \n",
              "ENSMUSG00000051951.6              0  \n",
              "ENSMUSG00000102851.2              0  \n",
              "ENSMUSG00000103377.2              0  "
            ],
            "text/html": [
              "\n",
              "  <div id=\"df-419bfcd7-c4f3-487b-8707-7eeabc003f31\">\n",
              "    <div class=\"colab-df-container\">\n",
              "      <div>\n",
              "<style scoped>\n",
              "    .dataframe tbody tr th:only-of-type {\n",
              "        vertical-align: middle;\n",
              "    }\n",
              "\n",
              "    .dataframe tbody tr th {\n",
              "        vertical-align: top;\n",
              "    }\n",
              "\n",
              "    .dataframe thead th {\n",
              "        text-align: right;\n",
              "    }\n",
              "</style>\n",
              "<table border=\"1\" class=\"dataframe\">\n",
              "  <thead>\n",
              "    <tr style=\"text-align: right;\">\n",
              "      <th></th>\n",
              "      <th>Chr</th>\n",
              "      <th>Start</th>\n",
              "      <th>End</th>\n",
              "      <th>Strand</th>\n",
              "      <th>Length</th>\n",
              "      <th>CLIP-35L33G.bam</th>\n",
              "      <th>RNA-control.bam</th>\n",
              "      <th>RNA-siLin28a.bam</th>\n",
              "      <th>RNA-siLuc.bam</th>\n",
              "      <th>RPF-siLin28a.bam</th>\n",
              "      <th>RPF-siLuc.bam</th>\n",
              "    </tr>\n",
              "    <tr>\n",
              "      <th>Geneid</th>\n",
              "      <th></th>\n",
              "      <th></th>\n",
              "      <th></th>\n",
              "      <th></th>\n",
              "      <th></th>\n",
              "      <th></th>\n",
              "      <th></th>\n",
              "      <th></th>\n",
              "      <th></th>\n",
              "      <th></th>\n",
              "      <th></th>\n",
              "    </tr>\n",
              "  </thead>\n",
              "  <tbody>\n",
              "    <tr>\n",
              "      <th>ENSMUSG00000102693.2</th>\n",
              "      <td>chr1</td>\n",
              "      <td>3143476</td>\n",
              "      <td>3144545</td>\n",
              "      <td>+</td>\n",
              "      <td>1070</td>\n",
              "      <td>0</td>\n",
              "      <td>0</td>\n",
              "      <td>0</td>\n",
              "      <td>0</td>\n",
              "      <td>0</td>\n",
              "      <td>0</td>\n",
              "    </tr>\n",
              "    <tr>\n",
              "      <th>ENSMUSG00000064842.3</th>\n",
              "      <td>chr1</td>\n",
              "      <td>3172239</td>\n",
              "      <td>3172348</td>\n",
              "      <td>+</td>\n",
              "      <td>110</td>\n",
              "      <td>0</td>\n",
              "      <td>0</td>\n",
              "      <td>0</td>\n",
              "      <td>0</td>\n",
              "      <td>0</td>\n",
              "      <td>0</td>\n",
              "    </tr>\n",
              "    <tr>\n",
              "      <th>ENSMUSG00000051951.6</th>\n",
              "      <td>chr1;chr1;chr1;chr1;chr1;chr1;chr1</td>\n",
              "      <td>3276124;3276746;3283662;3283832;3284705;349192...</td>\n",
              "      <td>3277540;3277540;3285855;3286567;3287191;349212...</td>\n",
              "      <td>-;-;-;-;-;-;-</td>\n",
              "      <td>6094</td>\n",
              "      <td>4</td>\n",
              "      <td>1</td>\n",
              "      <td>1</td>\n",
              "      <td>1</td>\n",
              "      <td>0</td>\n",
              "      <td>0</td>\n",
              "    </tr>\n",
              "    <tr>\n",
              "      <th>ENSMUSG00000102851.2</th>\n",
              "      <td>chr1</td>\n",
              "      <td>3322980</td>\n",
              "      <td>3323459</td>\n",
              "      <td>+</td>\n",
              "      <td>480</td>\n",
              "      <td>3</td>\n",
              "      <td>0</td>\n",
              "      <td>0</td>\n",
              "      <td>0</td>\n",
              "      <td>0</td>\n",
              "      <td>0</td>\n",
              "    </tr>\n",
              "    <tr>\n",
              "      <th>ENSMUSG00000103377.2</th>\n",
              "      <td>chr1</td>\n",
              "      <td>3435954</td>\n",
              "      <td>3438772</td>\n",
              "      <td>-</td>\n",
              "      <td>2819</td>\n",
              "      <td>0</td>\n",
              "      <td>0</td>\n",
              "      <td>0</td>\n",
              "      <td>0</td>\n",
              "      <td>0</td>\n",
              "      <td>0</td>\n",
              "    </tr>\n",
              "  </tbody>\n",
              "</table>\n",
              "</div>\n",
              "      <button class=\"colab-df-convert\" onclick=\"convertToInteractive('df-419bfcd7-c4f3-487b-8707-7eeabc003f31')\"\n",
              "              title=\"Convert this dataframe to an interactive table.\"\n",
              "              style=\"display:none;\">\n",
              "        \n",
              "  <svg xmlns=\"http://www.w3.org/2000/svg\" height=\"24px\"viewBox=\"0 0 24 24\"\n",
              "       width=\"24px\">\n",
              "    <path d=\"M0 0h24v24H0V0z\" fill=\"none\"/>\n",
              "    <path d=\"M18.56 5.44l.94 2.06.94-2.06 2.06-.94-2.06-.94-.94-2.06-.94 2.06-2.06.94zm-11 1L8.5 8.5l.94-2.06 2.06-.94-2.06-.94L8.5 2.5l-.94 2.06-2.06.94zm10 10l.94 2.06.94-2.06 2.06-.94-2.06-.94-.94-2.06-.94 2.06-2.06.94z\"/><path d=\"M17.41 7.96l-1.37-1.37c-.4-.4-.92-.59-1.43-.59-.52 0-1.04.2-1.43.59L10.3 9.45l-7.72 7.72c-.78.78-.78 2.05 0 2.83L4 21.41c.39.39.9.59 1.41.59.51 0 1.02-.2 1.41-.59l7.78-7.78 2.81-2.81c.8-.78.8-2.07 0-2.86zM5.41 20L4 18.59l7.72-7.72 1.47 1.35L5.41 20z\"/>\n",
              "  </svg>\n",
              "      </button>\n",
              "      \n",
              "  <style>\n",
              "    .colab-df-container {\n",
              "      display:flex;\n",
              "      flex-wrap:wrap;\n",
              "      gap: 12px;\n",
              "    }\n",
              "\n",
              "    .colab-df-convert {\n",
              "      background-color: #E8F0FE;\n",
              "      border: none;\n",
              "      border-radius: 50%;\n",
              "      cursor: pointer;\n",
              "      display: none;\n",
              "      fill: #1967D2;\n",
              "      height: 32px;\n",
              "      padding: 0 0 0 0;\n",
              "      width: 32px;\n",
              "    }\n",
              "\n",
              "    .colab-df-convert:hover {\n",
              "      background-color: #E2EBFA;\n",
              "      box-shadow: 0px 1px 2px rgba(60, 64, 67, 0.3), 0px 1px 3px 1px rgba(60, 64, 67, 0.15);\n",
              "      fill: #174EA6;\n",
              "    }\n",
              "\n",
              "    [theme=dark] .colab-df-convert {\n",
              "      background-color: #3B4455;\n",
              "      fill: #D2E3FC;\n",
              "    }\n",
              "\n",
              "    [theme=dark] .colab-df-convert:hover {\n",
              "      background-color: #434B5C;\n",
              "      box-shadow: 0px 1px 3px 1px rgba(0, 0, 0, 0.15);\n",
              "      filter: drop-shadow(0px 1px 2px rgba(0, 0, 0, 0.3));\n",
              "      fill: #FFFFFF;\n",
              "    }\n",
              "  </style>\n",
              "\n",
              "      <script>\n",
              "        const buttonEl =\n",
              "          document.querySelector('#df-419bfcd7-c4f3-487b-8707-7eeabc003f31 button.colab-df-convert');\n",
              "        buttonEl.style.display =\n",
              "          google.colab.kernel.accessAllowed ? 'block' : 'none';\n",
              "\n",
              "        async function convertToInteractive(key) {\n",
              "          const element = document.querySelector('#df-419bfcd7-c4f3-487b-8707-7eeabc003f31');\n",
              "          const dataTable =\n",
              "            await google.colab.kernel.invokeFunction('convertToInteractive',\n",
              "                                                     [key], {});\n",
              "          if (!dataTable) return;\n",
              "\n",
              "          const docLinkHtml = 'Like what you see? Visit the ' +\n",
              "            '<a target=\"_blank\" href=https://colab.research.google.com/notebooks/data_table.ipynb>data table notebook</a>'\n",
              "            + ' to learn more about interactive tables.';\n",
              "          element.innerHTML = '';\n",
              "          dataTable['output_type'] = 'display_data';\n",
              "          await google.colab.output.renderOutput(dataTable, element);\n",
              "          const docLink = document.createElement('div');\n",
              "          docLink.innerHTML = docLinkHtml;\n",
              "          element.appendChild(docLink);\n",
              "        }\n",
              "      </script>\n",
              "    </div>\n",
              "  </div>\n",
              "  "
            ]
          },
          "metadata": {},
          "execution_count": 17
        }
      ],
      "source": [
        "import pandas as pd\n",
        "cnts = pd.read_csv('read-counts.txt', sep='\\t', comment='#', index_col=0)\n",
        "cnts.head()"
      ]
    },
    {
      "cell_type": "markdown",
      "metadata": {
        "id": "NyrUZ7WBPAmv"
      },
      "source": [
        "이제 한 번 대충 그림을 그려 봅니다."
      ]
    },
    {
      "cell_type": "code",
      "execution_count": 18,
      "metadata": {
        "colab": {
          "base_uri": "https://localhost:8080/",
          "height": 319
        },
        "id": "YlSZiJgVPAZS",
        "outputId": "312814f9-ba53-4b6f-965b-8d619fa5acc8"
      },
      "outputs": [
        {
          "output_type": "execute_result",
          "data": {
            "text/plain": [
              "                                                     Chr  \\\n",
              "Geneid                                                     \n",
              "ENSMUSG00000102693.2                                chr1   \n",
              "ENSMUSG00000064842.3                                chr1   \n",
              "ENSMUSG00000051951.6  chr1;chr1;chr1;chr1;chr1;chr1;chr1   \n",
              "ENSMUSG00000102851.2                                chr1   \n",
              "ENSMUSG00000103377.2                                chr1   \n",
              "\n",
              "                                                                  Start  \\\n",
              "Geneid                                                                    \n",
              "ENSMUSG00000102693.2                                            3143476   \n",
              "ENSMUSG00000064842.3                                            3172239   \n",
              "ENSMUSG00000051951.6  3276124;3276746;3283662;3283832;3284705;349192...   \n",
              "ENSMUSG00000102851.2                                            3322980   \n",
              "ENSMUSG00000103377.2                                            3435954   \n",
              "\n",
              "                                                                    End  \\\n",
              "Geneid                                                                    \n",
              "ENSMUSG00000102693.2                                            3144545   \n",
              "ENSMUSG00000064842.3                                            3172348   \n",
              "ENSMUSG00000051951.6  3277540;3277540;3285855;3286567;3287191;349212...   \n",
              "ENSMUSG00000102851.2                                            3323459   \n",
              "ENSMUSG00000103377.2                                            3438772   \n",
              "\n",
              "                             Strand  Length  CLIP-35L33G.bam  RNA-control.bam  \\\n",
              "Geneid                                                                          \n",
              "ENSMUSG00000102693.2              +    1070                0                0   \n",
              "ENSMUSG00000064842.3              +     110                0                0   \n",
              "ENSMUSG00000051951.6  -;-;-;-;-;-;-    6094                4                1   \n",
              "ENSMUSG00000102851.2              +     480                3                0   \n",
              "ENSMUSG00000103377.2              -    2819                0                0   \n",
              "\n",
              "                      RNA-siLin28a.bam  RNA-siLuc.bam  RPF-siLin28a.bam  \\\n",
              "Geneid                                                                    \n",
              "ENSMUSG00000102693.2                 0              0                 0   \n",
              "ENSMUSG00000064842.3                 0              0                 0   \n",
              "ENSMUSG00000051951.6                 1              1                 0   \n",
              "ENSMUSG00000102851.2                 0              0                 0   \n",
              "ENSMUSG00000103377.2                 0              0                 0   \n",
              "\n",
              "                      RPF-siLuc.bam  clip_enrichment  rden_change  \n",
              "Geneid                                                             \n",
              "ENSMUSG00000102693.2              0              NaN          NaN  \n",
              "ENSMUSG00000064842.3              0              NaN          NaN  \n",
              "ENSMUSG00000051951.6              0              4.0          NaN  \n",
              "ENSMUSG00000102851.2              0              inf          NaN  \n",
              "ENSMUSG00000103377.2              0              NaN          NaN  "
            ],
            "text/html": [
              "\n",
              "  <div id=\"df-ad92227a-2bb8-43a0-8da5-dbde9dae3463\">\n",
              "    <div class=\"colab-df-container\">\n",
              "      <div>\n",
              "<style scoped>\n",
              "    .dataframe tbody tr th:only-of-type {\n",
              "        vertical-align: middle;\n",
              "    }\n",
              "\n",
              "    .dataframe tbody tr th {\n",
              "        vertical-align: top;\n",
              "    }\n",
              "\n",
              "    .dataframe thead th {\n",
              "        text-align: right;\n",
              "    }\n",
              "</style>\n",
              "<table border=\"1\" class=\"dataframe\">\n",
              "  <thead>\n",
              "    <tr style=\"text-align: right;\">\n",
              "      <th></th>\n",
              "      <th>Chr</th>\n",
              "      <th>Start</th>\n",
              "      <th>End</th>\n",
              "      <th>Strand</th>\n",
              "      <th>Length</th>\n",
              "      <th>CLIP-35L33G.bam</th>\n",
              "      <th>RNA-control.bam</th>\n",
              "      <th>RNA-siLin28a.bam</th>\n",
              "      <th>RNA-siLuc.bam</th>\n",
              "      <th>RPF-siLin28a.bam</th>\n",
              "      <th>RPF-siLuc.bam</th>\n",
              "      <th>clip_enrichment</th>\n",
              "      <th>rden_change</th>\n",
              "    </tr>\n",
              "    <tr>\n",
              "      <th>Geneid</th>\n",
              "      <th></th>\n",
              "      <th></th>\n",
              "      <th></th>\n",
              "      <th></th>\n",
              "      <th></th>\n",
              "      <th></th>\n",
              "      <th></th>\n",
              "      <th></th>\n",
              "      <th></th>\n",
              "      <th></th>\n",
              "      <th></th>\n",
              "      <th></th>\n",
              "      <th></th>\n",
              "    </tr>\n",
              "  </thead>\n",
              "  <tbody>\n",
              "    <tr>\n",
              "      <th>ENSMUSG00000102693.2</th>\n",
              "      <td>chr1</td>\n",
              "      <td>3143476</td>\n",
              "      <td>3144545</td>\n",
              "      <td>+</td>\n",
              "      <td>1070</td>\n",
              "      <td>0</td>\n",
              "      <td>0</td>\n",
              "      <td>0</td>\n",
              "      <td>0</td>\n",
              "      <td>0</td>\n",
              "      <td>0</td>\n",
              "      <td>NaN</td>\n",
              "      <td>NaN</td>\n",
              "    </tr>\n",
              "    <tr>\n",
              "      <th>ENSMUSG00000064842.3</th>\n",
              "      <td>chr1</td>\n",
              "      <td>3172239</td>\n",
              "      <td>3172348</td>\n",
              "      <td>+</td>\n",
              "      <td>110</td>\n",
              "      <td>0</td>\n",
              "      <td>0</td>\n",
              "      <td>0</td>\n",
              "      <td>0</td>\n",
              "      <td>0</td>\n",
              "      <td>0</td>\n",
              "      <td>NaN</td>\n",
              "      <td>NaN</td>\n",
              "    </tr>\n",
              "    <tr>\n",
              "      <th>ENSMUSG00000051951.6</th>\n",
              "      <td>chr1;chr1;chr1;chr1;chr1;chr1;chr1</td>\n",
              "      <td>3276124;3276746;3283662;3283832;3284705;349192...</td>\n",
              "      <td>3277540;3277540;3285855;3286567;3287191;349212...</td>\n",
              "      <td>-;-;-;-;-;-;-</td>\n",
              "      <td>6094</td>\n",
              "      <td>4</td>\n",
              "      <td>1</td>\n",
              "      <td>1</td>\n",
              "      <td>1</td>\n",
              "      <td>0</td>\n",
              "      <td>0</td>\n",
              "      <td>4.0</td>\n",
              "      <td>NaN</td>\n",
              "    </tr>\n",
              "    <tr>\n",
              "      <th>ENSMUSG00000102851.2</th>\n",
              "      <td>chr1</td>\n",
              "      <td>3322980</td>\n",
              "      <td>3323459</td>\n",
              "      <td>+</td>\n",
              "      <td>480</td>\n",
              "      <td>3</td>\n",
              "      <td>0</td>\n",
              "      <td>0</td>\n",
              "      <td>0</td>\n",
              "      <td>0</td>\n",
              "      <td>0</td>\n",
              "      <td>inf</td>\n",
              "      <td>NaN</td>\n",
              "    </tr>\n",
              "    <tr>\n",
              "      <th>ENSMUSG00000103377.2</th>\n",
              "      <td>chr1</td>\n",
              "      <td>3435954</td>\n",
              "      <td>3438772</td>\n",
              "      <td>-</td>\n",
              "      <td>2819</td>\n",
              "      <td>0</td>\n",
              "      <td>0</td>\n",
              "      <td>0</td>\n",
              "      <td>0</td>\n",
              "      <td>0</td>\n",
              "      <td>0</td>\n",
              "      <td>NaN</td>\n",
              "      <td>NaN</td>\n",
              "    </tr>\n",
              "  </tbody>\n",
              "</table>\n",
              "</div>\n",
              "      <button class=\"colab-df-convert\" onclick=\"convertToInteractive('df-ad92227a-2bb8-43a0-8da5-dbde9dae3463')\"\n",
              "              title=\"Convert this dataframe to an interactive table.\"\n",
              "              style=\"display:none;\">\n",
              "        \n",
              "  <svg xmlns=\"http://www.w3.org/2000/svg\" height=\"24px\"viewBox=\"0 0 24 24\"\n",
              "       width=\"24px\">\n",
              "    <path d=\"M0 0h24v24H0V0z\" fill=\"none\"/>\n",
              "    <path d=\"M18.56 5.44l.94 2.06.94-2.06 2.06-.94-2.06-.94-.94-2.06-.94 2.06-2.06.94zm-11 1L8.5 8.5l.94-2.06 2.06-.94-2.06-.94L8.5 2.5l-.94 2.06-2.06.94zm10 10l.94 2.06.94-2.06 2.06-.94-2.06-.94-.94-2.06-.94 2.06-2.06.94z\"/><path d=\"M17.41 7.96l-1.37-1.37c-.4-.4-.92-.59-1.43-.59-.52 0-1.04.2-1.43.59L10.3 9.45l-7.72 7.72c-.78.78-.78 2.05 0 2.83L4 21.41c.39.39.9.59 1.41.59.51 0 1.02-.2 1.41-.59l7.78-7.78 2.81-2.81c.8-.78.8-2.07 0-2.86zM5.41 20L4 18.59l7.72-7.72 1.47 1.35L5.41 20z\"/>\n",
              "  </svg>\n",
              "      </button>\n",
              "      \n",
              "  <style>\n",
              "    .colab-df-container {\n",
              "      display:flex;\n",
              "      flex-wrap:wrap;\n",
              "      gap: 12px;\n",
              "    }\n",
              "\n",
              "    .colab-df-convert {\n",
              "      background-color: #E8F0FE;\n",
              "      border: none;\n",
              "      border-radius: 50%;\n",
              "      cursor: pointer;\n",
              "      display: none;\n",
              "      fill: #1967D2;\n",
              "      height: 32px;\n",
              "      padding: 0 0 0 0;\n",
              "      width: 32px;\n",
              "    }\n",
              "\n",
              "    .colab-df-convert:hover {\n",
              "      background-color: #E2EBFA;\n",
              "      box-shadow: 0px 1px 2px rgba(60, 64, 67, 0.3), 0px 1px 3px 1px rgba(60, 64, 67, 0.15);\n",
              "      fill: #174EA6;\n",
              "    }\n",
              "\n",
              "    [theme=dark] .colab-df-convert {\n",
              "      background-color: #3B4455;\n",
              "      fill: #D2E3FC;\n",
              "    }\n",
              "\n",
              "    [theme=dark] .colab-df-convert:hover {\n",
              "      background-color: #434B5C;\n",
              "      box-shadow: 0px 1px 3px 1px rgba(0, 0, 0, 0.15);\n",
              "      filter: drop-shadow(0px 1px 2px rgba(0, 0, 0, 0.3));\n",
              "      fill: #FFFFFF;\n",
              "    }\n",
              "  </style>\n",
              "\n",
              "      <script>\n",
              "        const buttonEl =\n",
              "          document.querySelector('#df-ad92227a-2bb8-43a0-8da5-dbde9dae3463 button.colab-df-convert');\n",
              "        buttonEl.style.display =\n",
              "          google.colab.kernel.accessAllowed ? 'block' : 'none';\n",
              "\n",
              "        async function convertToInteractive(key) {\n",
              "          const element = document.querySelector('#df-ad92227a-2bb8-43a0-8da5-dbde9dae3463');\n",
              "          const dataTable =\n",
              "            await google.colab.kernel.invokeFunction('convertToInteractive',\n",
              "                                                     [key], {});\n",
              "          if (!dataTable) return;\n",
              "\n",
              "          const docLinkHtml = 'Like what you see? Visit the ' +\n",
              "            '<a target=\"_blank\" href=https://colab.research.google.com/notebooks/data_table.ipynb>data table notebook</a>'\n",
              "            + ' to learn more about interactive tables.';\n",
              "          element.innerHTML = '';\n",
              "          dataTable['output_type'] = 'display_data';\n",
              "          await google.colab.output.renderOutput(dataTable, element);\n",
              "          const docLink = document.createElement('div');\n",
              "          docLink.innerHTML = docLinkHtml;\n",
              "          element.appendChild(docLink);\n",
              "        }\n",
              "      </script>\n",
              "    </div>\n",
              "  </div>\n",
              "  "
            ]
          },
          "metadata": {},
          "execution_count": 18
        }
      ],
      "source": [
        "cnts['clip_enrichment'] = cnts['CLIP-35L33G.bam'] / cnts['RNA-control.bam']\n",
        "cnts['rden_change'] = (cnts['RPF-siLin28a.bam'] / cnts['RNA-siLin28a.bam']) / (cnts['RPF-siLuc.bam'] / cnts['RNA-siLuc.bam'])\n",
        "cnts.head()"
      ]
    },
    {
      "cell_type": "code",
      "execution_count": null,
      "metadata": {
        "colab": {
          "base_uri": "https://localhost:8080/",
          "height": 500
        },
        "id": "vU3ce_HEFALl",
        "outputId": "cd5536e4-367d-409c-b8ee-8f480c5327d3"
      },
      "outputs": [
        {
          "name": "stderr",
          "output_type": "stream",
          "text": [
            "/usr/local/lib/python3.10/dist-packages/pandas/core/arraylike.py:402: RuntimeWarning: divide by zero encountered in log2\n",
            "  result = getattr(ufunc, method)(*inputs, **kwargs)\n"
          ]
        },
        {
          "data": {
            "text/plain": [
              "<matplotlib.collections.PathCollection at 0x7fecb5c2be80>"
            ]
          },
          "execution_count": 33,
          "metadata": {},
          "output_type": "execute_result"
        },
        {
          "data": {
            "image/png": "[encoded data removed]",
            "text/plain": [
              "<Figure size 500x500 with 1 Axes>"
            ]
          },
          "metadata": {},
          "output_type": "display_data"
        }
      ],
      "source": [
        "from matplotlib import pyplot as plt\n",
        "import numpy as np\n",
        "\n",
        "fig, ax = plt.subplots(1, 1, figsize=(5, 5))\n",
        "ax.scatter(np.log2(cnts['clip_enrichment']),\n",
        "           np.log2(cnts['rden_change']))"
      ]
    },
    {
      "cell_type": "markdown",
      "metadata": {
        "id": "ksVjIL10mV_v"
      },
      "source": [
        "이 그림에는 문제가 많이 있습니다. 논문의 그림처럼 한 번 만들어 봅시다~"
      ]
    },
    {
      "cell_type": "markdown",
      "metadata": {
        "id": "ps3NN6eht4oH"
      },
      "source": [
        "[2023-20920 정우빈] 내가 하고싶은 Workflows\n",
        "\n",
        "1. x,y 불필요한 read-count cutoff 설정해서 제거 \n",
        "2. x,y축 이름 지정\n",
        "3. x,y축 범위 변경\n",
        "4. dot크기 및 색 조정\n",
        "5. 그리드 설정\n",
        "6. r값 좌상단에 표기\n",
        "\n",
        "\n",
        "* RNA seq으로 RPF 을 normalization\n",
        "* 진짜로 양이 많은건지 아니면 잘못 나온건지를 확인해야함\n",
        "* scale 조정 필요\n",
        "* 분모에 작은 정수가 들어가면 안좋음\n"
      ]
    },
    {
      "cell_type": "code",
      "execution_count": null,
      "metadata": {
        "colab": {
          "base_uri": "https://localhost:8080/"
        },
        "id": "U8o6RVObHKuQ",
        "outputId": "351dc87e-9fb2-4970-f8ac-ed0381ac711e"
      },
      "outputs": [
        {
          "name": "stdout",
          "output_type": "stream",
          "text": [
            "count    3.276400e+04\n",
            "mean              inf\n",
            "std               NaN\n",
            "min      0.000000e+00\n",
            "25%      5.217391e-01\n",
            "50%      1.909676e+00\n",
            "75%      6.410985e+00\n",
            "max               inf\n",
            "Name: clip_enrichment, dtype: float64\n",
            "count    3.276400e+04\n",
            "mean              inf\n",
            "std               NaN\n",
            "min      0.000000e+00\n",
            "25%      5.217391e-01\n",
            "50%      1.909676e+00\n",
            "75%      6.410985e+00\n",
            "max               inf\n",
            "Name: clip_enrichment, dtype: float64\n",
            "count     55359.000000\n",
            "mean         93.947434\n",
            "std         681.143964\n",
            "min           0.000000\n",
            "25%           0.000000\n",
            "50%           0.000000\n",
            "75%          16.000000\n",
            "max      119734.000000\n",
            "Name: RNA-control.bam, dtype: float64\n",
            "count    5.535900e+04\n",
            "mean     2.336076e+02\n",
            "std      2.352763e+04\n",
            "min      0.000000e+00\n",
            "25%      0.000000e+00\n",
            "50%      0.000000e+00\n",
            "75%      7.000000e+00\n",
            "max      5.531458e+06\n",
            "Name: RPF-siLuc.bam, dtype: float64\n",
            "count     55359.000000\n",
            "mean        176.101212\n",
            "std        1354.443243\n",
            "min           0.000000\n",
            "25%           0.000000\n",
            "50%           0.000000\n",
            "75%          15.000000\n",
            "max      237513.000000\n",
            "Name: RNA-siLuc.bam, dtype: float64\n"
          ]
        }
      ],
      "source": [
        "print(cnts['clip_enrichment'].describe())\n",
        "print(cnts['clip_enrichment'].describe())\n",
        "print(cnts['RNA-control.bam'].describe())\n",
        "print(cnts['RPF-siLuc.bam'].describe())\n",
        "print(cnts['RNA-siLuc.bam'].describe())"
      ]
    },
    {
      "cell_type": "code",
      "execution_count": null,
      "metadata": {
        "id": "usj6F6eSEeZX"
      },
      "outputs": [],
      "source": [
        "cnts['clip_enrichment'] = cnts['CLIP-35L33G.bam'] / cnts['RNA-control.bam']\n",
        "cntsFiltered = cnts.loc[cnts['RNA-control.bam'] >= 100, :]\n",
        "cnts.loc[cntsFiltered.index, 'rden_change'] = (cntsFiltered['RPF-siLin28a.bam'] / cntsFiltered['RNA-siLin28a.bam'])/ (cntsFiltered['RPF-siLuc.bam']/ cntsFiltered['RNA-siLuc.bam'])"
      ]
    },
    {
      "cell_type": "code",
      "execution_count": null,
      "metadata": {
        "colab": {
          "base_uri": "https://localhost:8080/"
        },
        "id": "4HIQUuQGDtXL",
        "outputId": "eb1d839d-fc07-4e26-eceb-c0d4467873a3"
      },
      "outputs": [
        {
          "output_type": "stream",
          "name": "stderr",
          "text": [
            "<ipython-input-16-0334b9f30555>:9: SettingWithCopyWarning: \n",
            "A value is trying to be set on a copy of a slice from a DataFrame.\n",
            "Try using .loc[row_indexer,col_indexer] = value instead\n",
            "\n",
            "See the caveats in the documentation: https://pandas.pydata.org/pandas-docs/stable/user_guide/indexing.html#returning-a-view-versus-a-copy\n",
            "  cnts_clip['clip_enrichment'] = cnts_clip['CLIP-35L33G.bam'] / cnts_clip['RNA-control.bam']\n",
            "<ipython-input-16-0334b9f30555>:12: SettingWithCopyWarning: \n",
            "A value is trying to be set on a copy of a slice from a DataFrame.\n",
            "Try using .loc[row_indexer,col_indexer] = value instead\n",
            "\n",
            "See the caveats in the documentation: https://pandas.pydata.org/pandas-docs/stable/user_guide/indexing.html#returning-a-view-versus-a-copy\n",
            "  cnts_rden['rden_change'] = (cnts_rden['RPF-siLin28a.bam'] / cnts_rden['RNA-siLin28a.bam']) / (cnts_rden['RPF-siLuc.bam'] / cnts_rden['RNA-siLuc.bam'])\n"
          ]
        }
      ],
      "source": [
        "import pandas as pd\n",
        "\n",
        "q1 = cnts['RNA-control.bam'].quantile(0.25)\n",
        "q3 = cnts['RNA-control.bam'].quantile(0.75)\n",
        "\n",
        "cnts_filtered = cnts.loc[(cnts['RNA-control.bam'] >= q1) & (cnts['RNA-control.bam'] <= q3), :]\n",
        "\n",
        "cnts_clip = cnts.loc[(cnts['RNA-control.bam'] >= q1) & (cnts['RNA-control.bam'] <= q3), :]\n",
        "cnts_clip['clip_enrichment'] = cnts_clip['CLIP-35L33G.bam'] / cnts_clip['RNA-control.bam']\n",
        "\n",
        "cnts_rden = cnts.loc[(cnts['RNA-control.bam'] >= q1) & (cnts['RNA-control.bam'] <= q3), :]\n",
        "cnts_rden['rden_change'] = (cnts_rden['RPF-siLin28a.bam'] / cnts_rden['RNA-siLin28a.bam']) / (cnts_rden['RPF-siLuc.bam'] / cnts_rden['RNA-siLuc.bam'])\n"
      ]
    },
    {
      "cell_type": "code",
      "execution_count": null,
      "metadata": {
        "colab": {
          "base_uri": "https://localhost:8080/",
          "height": 338
        },
        "id": "dABqQ4edbeG_",
        "outputId": "dc54f3b3-5b86-4ec8-e0ef-f2391d02984e"
      },
      "outputs": [
        {
          "output_type": "execute_result",
          "data": {
            "text/plain": [
              "Text(0, 0.5, '$\\\\mathrm{Ribosome\\\\ density\\\\ change}$\\n$\\\\mathrm{on}$ Lin28a $\\\\mathrm{knockdown\\\\ (log}_2)$')"
            ]
          },
          "metadata": {},
          "execution_count": 22
        },
        {
          "output_type": "display_data",
          "data": {
            "text/plain": [
              "<Figure size 300x300 with 1 Axes>"
            ],
            "image/png": "[encoded data removed]"
          },
          "metadata": {}
        }
      ],
      "source": [
        "from matplotlib import pyplot as plt\n",
        "import numpy as np\n",
        "from scipy import stats\n",
        "\n",
        "fig, ax = plt.subplots(1, 1, figsize=(3, 3))\n",
        "ax.grid(True, axis='x', zorder=0, linewidth=0.5)\n",
        "ax.grid(True, axis='y', zorder=0, linewidth=0.5)\n",
        "ax.scatter(np.log2(cnts_clip['clip_enrichment']), np.log2(cnts_rden['rden_change']),\n",
        "           c='black', s=1, alpha=0.5, zorder=10)\n",
        "ax.set_xlim(-6, 4)\n",
        "ax.set_ylim(-2, 3)\n",
        "ax.set_xlabel(r'$\\mathrm{LIN28A\\ CLIP\\ enrichment\\ (log}_2)$', fontstyle='italic')\n",
        "ax.set_ylabel(r'$\\mathrm{Ribosome\\ density\\ change}$' + '\\n' + r'$\\mathrm{on}$ Lin28a $\\mathrm{knockdown\\ (log}_2)$', fontstyle='italic')"
      ]
    },
    {
      "cell_type": "markdown",
      "metadata": {
        "id": "sf6EJJ60Qbxg"
      },
      "source": [
        "## Protein localization 반영하기\n",
        "\n",
        "논문 그림에서는 protein localization을 반영해서 색으로 나타냈습니다. 이것을 한 번 구현해 봅시다. 각 gene product의 localization을 따로 구하려면 좀 귀찮기 때문에 미리 모아 두었습니다. UniProt에서 매핑된 데이터를 토대로 아주 명확한 것만 일부 정리한 것입니다. 이것도 마찬가지로 처음엔 에러가 나기도 하니까, 다시 실행해보면 거의 잘 됩니다~"
      ]
    },
    {
      "cell_type": "markdown",
      "metadata": {
        "id": "ivb1q7_f-gl4"
      },
      "source": [
        "import ssl\n",
        "ssl._create_default_https_context = ssl._create_unverified_context\n",
        "mouselocal = pd.read_csv('https://hyeshik.qbio.io/binfo/mouselocalization-20210507.txt', sep='\\t')\n",
        "mouselocal.head()"
      ]
    },
    {
      "cell_type": "markdown",
      "metadata": {
        "id": "Q9vgSzeiQxDU"
      },
      "source": [
        "이제 이 localization 데이터와 위에서 만든 scatter를 결합해서 논문 그림과 비슷하게 만들어 봅시다."
      ]
    },
    {
      "cell_type": "code",
      "source": [
        "import pandas as pd\n",
        "import ssl\n",
        "\n",
        "ssl._create_default_https_context = ssl._create_unverified_context\n",
        "\n",
        "mouselocal = pd.read_csv('https://hyeshik.qbio.io/binfo/mouselocalization-20210507.txt', sep='\\t')\n",
        "mouselocal.head()"
      ],
      "metadata": {
        "colab": {
          "base_uri": "https://localhost:8080/",
          "height": 206
        },
        "id": "Q7Of4VAx_QMu",
        "outputId": "9836fb7b-d978-48d6-be88-8b69103648f0"
      },
      "execution_count": 20,
      "outputs": [
        {
          "output_type": "execute_result",
          "data": {
            "text/plain": [
              "              gene_id            Gene names       type\n",
              "0  ENSMUSG00000000001                 Gnai3  cytoplasm\n",
              "1  ENSMUSG00000000028  Cdc45 Cdc45l Cdc45l2    nucleus\n",
              "2  ENSMUSG00000000049            Apoh B2gp1  cytoplasm\n",
              "3  ENSMUSG00000000058                  Cav2  cytoplasm\n",
              "4  ENSMUSG00000000085                 Scmh1    nucleus"
            ],
            "text/html": [
              "\n",
              "  <div id=\"df-6a9bdc1b-9276-4de9-a5ef-4f22cc225889\">\n",
              "    <div class=\"colab-df-container\">\n",
              "      <div>\n",
              "<style scoped>\n",
              "    .dataframe tbody tr th:only-of-type {\n",
              "        vertical-align: middle;\n",
              "    }\n",
              "\n",
              "    .dataframe tbody tr th {\n",
              "        vertical-align: top;\n",
              "    }\n",
              "\n",
              "    .dataframe thead th {\n",
              "        text-align: right;\n",
              "    }\n",
              "</style>\n",
              "<table border=\"1\" class=\"dataframe\">\n",
              "  <thead>\n",
              "    <tr style=\"text-align: right;\">\n",
              "      <th></th>\n",
              "      <th>gene_id</th>\n",
              "      <th>Gene names</th>\n",
              "      <th>type</th>\n",
              "    </tr>\n",
              "  </thead>\n",
              "  <tbody>\n",
              "    <tr>\n",
              "      <th>0</th>\n",
              "      <td>ENSMUSG00000000001</td>\n",
              "      <td>Gnai3</td>\n",
              "      <td>cytoplasm</td>\n",
              "    </tr>\n",
              "    <tr>\n",
              "      <th>1</th>\n",
              "      <td>ENSMUSG00000000028</td>\n",
              "      <td>Cdc45 Cdc45l Cdc45l2</td>\n",
              "      <td>nucleus</td>\n",
              "    </tr>\n",
              "    <tr>\n",
              "      <th>2</th>\n",
              "      <td>ENSMUSG00000000049</td>\n",
              "      <td>Apoh B2gp1</td>\n",
              "      <td>cytoplasm</td>\n",
              "    </tr>\n",
              "    <tr>\n",
              "      <th>3</th>\n",
              "      <td>ENSMUSG00000000058</td>\n",
              "      <td>Cav2</td>\n",
              "      <td>cytoplasm</td>\n",
              "    </tr>\n",
              "    <tr>\n",
              "      <th>4</th>\n",
              "      <td>ENSMUSG00000000085</td>\n",
              "      <td>Scmh1</td>\n",
              "      <td>nucleus</td>\n",
              "    </tr>\n",
              "  </tbody>\n",
              "</table>\n",
              "</div>\n",
              "      <button class=\"colab-df-convert\" onclick=\"convertToInteractive('df-6a9bdc1b-9276-4de9-a5ef-4f22cc225889')\"\n",
              "              title=\"Convert this dataframe to an interactive table.\"\n",
              "              style=\"display:none;\">\n",
              "        \n",
              "  <svg xmlns=\"http://www.w3.org/2000/svg\" height=\"24px\"viewBox=\"0 0 24 24\"\n",
              "       width=\"24px\">\n",
              "    <path d=\"M0 0h24v24H0V0z\" fill=\"none\"/>\n",
              "    <path d=\"M18.56 5.44l.94 2.06.94-2.06 2.06-.94-2.06-.94-.94-2.06-.94 2.06-2.06.94zm-11 1L8.5 8.5l.94-2.06 2.06-.94-2.06-.94L8.5 2.5l-.94 2.06-2.06.94zm10 10l.94 2.06.94-2.06 2.06-.94-2.06-.94-.94-2.06-.94 2.06-2.06.94z\"/><path d=\"M17.41 7.96l-1.37-1.37c-.4-.4-.92-.59-1.43-.59-.52 0-1.04.2-1.43.59L10.3 9.45l-7.72 7.72c-.78.78-.78 2.05 0 2.83L4 21.41c.39.39.9.59 1.41.59.51 0 1.02-.2 1.41-.59l7.78-7.78 2.81-2.81c.8-.78.8-2.07 0-2.86zM5.41 20L4 18.59l7.72-7.72 1.47 1.35L5.41 20z\"/>\n",
              "  </svg>\n",
              "      </button>\n",
              "      \n",
              "  <style>\n",
              "    .colab-df-container {\n",
              "      display:flex;\n",
              "      flex-wrap:wrap;\n",
              "      gap: 12px;\n",
              "    }\n",
              "\n",
              "    .colab-df-convert {\n",
              "      background-color: #E8F0FE;\n",
              "      border: none;\n",
              "      border-radius: 50%;\n",
              "      cursor: pointer;\n",
              "      display: none;\n",
              "      fill: #1967D2;\n",
              "      height: 32px;\n",
              "      padding: 0 0 0 0;\n",
              "      width: 32px;\n",
              "    }\n",
              "\n",
              "    .colab-df-convert:hover {\n",
              "      background-color: #E2EBFA;\n",
              "      box-shadow: 0px 1px 2px rgba(60, 64, 67, 0.3), 0px 1px 3px 1px rgba(60, 64, 67, 0.15);\n",
              "      fill: #174EA6;\n",
              "    }\n",
              "\n",
              "    [theme=dark] .colab-df-convert {\n",
              "      background-color: #3B4455;\n",
              "      fill: #D2E3FC;\n",
              "    }\n",
              "\n",
              "    [theme=dark] .colab-df-convert:hover {\n",
              "      background-color: #434B5C;\n",
              "      box-shadow: 0px 1px 3px 1px rgba(0, 0, 0, 0.15);\n",
              "      filter: drop-shadow(0px 1px 2px rgba(0, 0, 0, 0.3));\n",
              "      fill: #FFFFFF;\n",
              "    }\n",
              "  </style>\n",
              "\n",
              "      <script>\n",
              "        const buttonEl =\n",
              "          document.querySelector('#df-6a9bdc1b-9276-4de9-a5ef-4f22cc225889 button.colab-df-convert');\n",
              "        buttonEl.style.display =\n",
              "          google.colab.kernel.accessAllowed ? 'block' : 'none';\n",
              "\n",
              "        async function convertToInteractive(key) {\n",
              "          const element = document.querySelector('#df-6a9bdc1b-9276-4de9-a5ef-4f22cc225889');\n",
              "          const dataTable =\n",
              "            await google.colab.kernel.invokeFunction('convertToInteractive',\n",
              "                                                     [key], {});\n",
              "          if (!dataTable) return;\n",
              "\n",
              "          const docLinkHtml = 'Like what you see? Visit the ' +\n",
              "            '<a target=\"_blank\" href=https://colab.research.google.com/notebooks/data_table.ipynb>data table notebook</a>'\n",
              "            + ' to learn more about interactive tables.';\n",
              "          element.innerHTML = '';\n",
              "          dataTable['output_type'] = 'display_data';\n",
              "          await google.colab.output.renderOutput(dataTable, element);\n",
              "          const docLink = document.createElement('div');\n",
              "          docLink.innerHTML = docLinkHtml;\n",
              "          element.appendChild(docLink);\n",
              "        }\n",
              "      </script>\n",
              "    </div>\n",
              "  </div>\n",
              "  "
            ]
          },
          "metadata": {},
          "execution_count": 20
        }
      ]
    },
    {
      "cell_type": "code",
      "source": [
        "print(cnts.index)"
      ],
      "metadata": {
        "colab": {
          "base_uri": "https://localhost:8080/"
        },
        "id": "98vpiU8AG2fN",
        "outputId": "174ddcde-b7cc-4a0f-abca-0e0106ede328"
      },
      "execution_count": 21,
      "outputs": [
        {
          "output_type": "stream",
          "name": "stdout",
          "text": [
            "Index(['ENSMUSG00000102693.2', 'ENSMUSG00000064842.3', 'ENSMUSG00000051951.6',\n",
            "       'ENSMUSG00000102851.2', 'ENSMUSG00000103377.2', 'ENSMUSG00000104017.2',\n",
            "       'ENSMUSG00000103025.2', 'ENSMUSG00000089699.2', 'ENSMUSG00000103201.2',\n",
            "       'ENSMUSG00000103147.2',\n",
            "       ...\n",
            "       'ENSMUSG00000064363.1', 'ENSMUSG00000064364.1', 'ENSMUSG00000064365.1',\n",
            "       'ENSMUSG00000064366.1', 'ENSMUSG00000064367.1', 'ENSMUSG00000064368.1',\n",
            "       'ENSMUSG00000064369.1', 'ENSMUSG00000064370.1', 'ENSMUSG00000064371.1',\n",
            "       'ENSMUSG00000064372.1'],\n",
            "      dtype='object', name='Geneid', length=55359)\n"
          ]
        }
      ]
    },
    {
      "cell_type": "code",
      "source": [
        "cnts['Geneid'] = cnts.index.str.split('.').str[0]\n",
        "cnts['Geneid'] = cnts['Geneid'].str.split('.').str[0]\n",
        "cnts['Geneid'].head()"
      ],
      "metadata": {
        "colab": {
          "base_uri": "https://localhost:8080/"
        },
        "id": "oHWISi6cJfAx",
        "outputId": "2c0ed030-57ab-412e-e591-6ba33ce721ce"
      },
      "execution_count": 22,
      "outputs": [
        {
          "output_type": "execute_result",
          "data": {
            "text/plain": [
              "Geneid\n",
              "ENSMUSG00000102693.2    ENSMUSG00000102693\n",
              "ENSMUSG00000064842.3    ENSMUSG00000064842\n",
              "ENSMUSG00000051951.6    ENSMUSG00000051951\n",
              "ENSMUSG00000102851.2    ENSMUSG00000102851\n",
              "ENSMUSG00000103377.2    ENSMUSG00000103377\n",
              "Name: Geneid, dtype: object"
            ]
          },
          "metadata": {},
          "execution_count": 22
        }
      ]
    },
    {
      "cell_type": "code",
      "source": [
        "cnts.head()"
      ],
      "metadata": {
        "colab": {
          "base_uri": "https://localhost:8080/",
          "height": 319
        },
        "id": "lwHZvUzMK518",
        "outputId": "5ad6144a-429b-423a-9238-b06dc51fb2b8"
      },
      "execution_count": 23,
      "outputs": [
        {
          "output_type": "execute_result",
          "data": {
            "text/plain": [
              "                                                     Chr  \\\n",
              "Geneid                                                     \n",
              "ENSMUSG00000102693.2                                chr1   \n",
              "ENSMUSG00000064842.3                                chr1   \n",
              "ENSMUSG00000051951.6  chr1;chr1;chr1;chr1;chr1;chr1;chr1   \n",
              "ENSMUSG00000102851.2                                chr1   \n",
              "ENSMUSG00000103377.2                                chr1   \n",
              "\n",
              "                                                                  Start  \\\n",
              "Geneid                                                                    \n",
              "ENSMUSG00000102693.2                                            3143476   \n",
              "ENSMUSG00000064842.3                                            3172239   \n",
              "ENSMUSG00000051951.6  3276124;3276746;3283662;3283832;3284705;349192...   \n",
              "ENSMUSG00000102851.2                                            3322980   \n",
              "ENSMUSG00000103377.2                                            3435954   \n",
              "\n",
              "                                                                    End  \\\n",
              "Geneid                                                                    \n",
              "ENSMUSG00000102693.2                                            3144545   \n",
              "ENSMUSG00000064842.3                                            3172348   \n",
              "ENSMUSG00000051951.6  3277540;3277540;3285855;3286567;3287191;349212...   \n",
              "ENSMUSG00000102851.2                                            3323459   \n",
              "ENSMUSG00000103377.2                                            3438772   \n",
              "\n",
              "                             Strand  Length  CLIP-35L33G.bam  RNA-control.bam  \\\n",
              "Geneid                                                                          \n",
              "ENSMUSG00000102693.2              +    1070                0                0   \n",
              "ENSMUSG00000064842.3              +     110                0                0   \n",
              "ENSMUSG00000051951.6  -;-;-;-;-;-;-    6094                4                1   \n",
              "ENSMUSG00000102851.2              +     480                3                0   \n",
              "ENSMUSG00000103377.2              -    2819                0                0   \n",
              "\n",
              "                      RNA-siLin28a.bam  RNA-siLuc.bam  RPF-siLin28a.bam  \\\n",
              "Geneid                                                                    \n",
              "ENSMUSG00000102693.2                 0              0                 0   \n",
              "ENSMUSG00000064842.3                 0              0                 0   \n",
              "ENSMUSG00000051951.6                 1              1                 0   \n",
              "ENSMUSG00000102851.2                 0              0                 0   \n",
              "ENSMUSG00000103377.2                 0              0                 0   \n",
              "\n",
              "                      RPF-siLuc.bam  clip_enrichment  rden_change  \\\n",
              "Geneid                                                              \n",
              "ENSMUSG00000102693.2              0              NaN          NaN   \n",
              "ENSMUSG00000064842.3              0              NaN          NaN   \n",
              "ENSMUSG00000051951.6              0              4.0          NaN   \n",
              "ENSMUSG00000102851.2              0              inf          NaN   \n",
              "ENSMUSG00000103377.2              0              NaN          NaN   \n",
              "\n",
              "                                  Geneid  \n",
              "Geneid                                    \n",
              "ENSMUSG00000102693.2  ENSMUSG00000102693  \n",
              "ENSMUSG00000064842.3  ENSMUSG00000064842  \n",
              "ENSMUSG00000051951.6  ENSMUSG00000051951  \n",
              "ENSMUSG00000102851.2  ENSMUSG00000102851  \n",
              "ENSMUSG00000103377.2  ENSMUSG00000103377  "
            ],
            "text/html": [
              "\n",
              "  <div id=\"df-6beee853-3b2e-4db9-8085-d3a1834a9f08\">\n",
              "    <div class=\"colab-df-container\">\n",
              "      <div>\n",
              "<style scoped>\n",
              "    .dataframe tbody tr th:only-of-type {\n",
              "        vertical-align: middle;\n",
              "    }\n",
              "\n",
              "    .dataframe tbody tr th {\n",
              "        vertical-align: top;\n",
              "    }\n",
              "\n",
              "    .dataframe thead th {\n",
              "        text-align: right;\n",
              "    }\n",
              "</style>\n",
              "<table border=\"1\" class=\"dataframe\">\n",
              "  <thead>\n",
              "    <tr style=\"text-align: right;\">\n",
              "      <th></th>\n",
              "      <th>Chr</th>\n",
              "      <th>Start</th>\n",
              "      <th>End</th>\n",
              "      <th>Strand</th>\n",
              "      <th>Length</th>\n",
              "      <th>CLIP-35L33G.bam</th>\n",
              "      <th>RNA-control.bam</th>\n",
              "      <th>RNA-siLin28a.bam</th>\n",
              "      <th>RNA-siLuc.bam</th>\n",
              "      <th>RPF-siLin28a.bam</th>\n",
              "      <th>RPF-siLuc.bam</th>\n",
              "      <th>clip_enrichment</th>\n",
              "      <th>rden_change</th>\n",
              "      <th>Geneid</th>\n",
              "    </tr>\n",
              "    <tr>\n",
              "      <th>Geneid</th>\n",
              "      <th></th>\n",
              "      <th></th>\n",
              "      <th></th>\n",
              "      <th></th>\n",
              "      <th></th>\n",
              "      <th></th>\n",
              "      <th></th>\n",
              "      <th></th>\n",
              "      <th></th>\n",
              "      <th></th>\n",
              "      <th></th>\n",
              "      <th></th>\n",
              "      <th></th>\n",
              "      <th></th>\n",
              "    </tr>\n",
              "  </thead>\n",
              "  <tbody>\n",
              "    <tr>\n",
              "      <th>ENSMUSG00000102693.2</th>\n",
              "      <td>chr1</td>\n",
              "      <td>3143476</td>\n",
              "      <td>3144545</td>\n",
              "      <td>+</td>\n",
              "      <td>1070</td>\n",
              "      <td>0</td>\n",
              "      <td>0</td>\n",
              "      <td>0</td>\n",
              "      <td>0</td>\n",
              "      <td>0</td>\n",
              "      <td>0</td>\n",
              "      <td>NaN</td>\n",
              "      <td>NaN</td>\n",
              "      <td>ENSMUSG00000102693</td>\n",
              "    </tr>\n",
              "    <tr>\n",
              "      <th>ENSMUSG00000064842.3</th>\n",
              "      <td>chr1</td>\n",
              "      <td>3172239</td>\n",
              "      <td>3172348</td>\n",
              "      <td>+</td>\n",
              "      <td>110</td>\n",
              "      <td>0</td>\n",
              "      <td>0</td>\n",
              "      <td>0</td>\n",
              "      <td>0</td>\n",
              "      <td>0</td>\n",
              "      <td>0</td>\n",
              "      <td>NaN</td>\n",
              "      <td>NaN</td>\n",
              "      <td>ENSMUSG00000064842</td>\n",
              "    </tr>\n",
              "    <tr>\n",
              "      <th>ENSMUSG00000051951.6</th>\n",
              "      <td>chr1;chr1;chr1;chr1;chr1;chr1;chr1</td>\n",
              "      <td>3276124;3276746;3283662;3283832;3284705;349192...</td>\n",
              "      <td>3277540;3277540;3285855;3286567;3287191;349212...</td>\n",
              "      <td>-;-;-;-;-;-;-</td>\n",
              "      <td>6094</td>\n",
              "      <td>4</td>\n",
              "      <td>1</td>\n",
              "      <td>1</td>\n",
              "      <td>1</td>\n",
              "      <td>0</td>\n",
              "      <td>0</td>\n",
              "      <td>4.0</td>\n",
              "      <td>NaN</td>\n",
              "      <td>ENSMUSG00000051951</td>\n",
              "    </tr>\n",
              "    <tr>\n",
              "      <th>ENSMUSG00000102851.2</th>\n",
              "      <td>chr1</td>\n",
              "      <td>3322980</td>\n",
              "      <td>3323459</td>\n",
              "      <td>+</td>\n",
              "      <td>480</td>\n",
              "      <td>3</td>\n",
              "      <td>0</td>\n",
              "      <td>0</td>\n",
              "      <td>0</td>\n",
              "      <td>0</td>\n",
              "      <td>0</td>\n",
              "      <td>inf</td>\n",
              "      <td>NaN</td>\n",
              "      <td>ENSMUSG00000102851</td>\n",
              "    </tr>\n",
              "    <tr>\n",
              "      <th>ENSMUSG00000103377.2</th>\n",
              "      <td>chr1</td>\n",
              "      <td>3435954</td>\n",
              "      <td>3438772</td>\n",
              "      <td>-</td>\n",
              "      <td>2819</td>\n",
              "      <td>0</td>\n",
              "      <td>0</td>\n",
              "      <td>0</td>\n",
              "      <td>0</td>\n",
              "      <td>0</td>\n",
              "      <td>0</td>\n",
              "      <td>NaN</td>\n",
              "      <td>NaN</td>\n",
              "      <td>ENSMUSG00000103377</td>\n",
              "    </tr>\n",
              "  </tbody>\n",
              "</table>\n",
              "</div>\n",
              "      <button class=\"colab-df-convert\" onclick=\"convertToInteractive('df-6beee853-3b2e-4db9-8085-d3a1834a9f08')\"\n",
              "              title=\"Convert this dataframe to an interactive table.\"\n",
              "              style=\"display:none;\">\n",
              "        \n",
              "  <svg xmlns=\"http://www.w3.org/2000/svg\" height=\"24px\"viewBox=\"0 0 24 24\"\n",
              "       width=\"24px\">\n",
              "    <path d=\"M0 0h24v24H0V0z\" fill=\"none\"/>\n",
              "    <path d=\"M18.56 5.44l.94 2.06.94-2.06 2.06-.94-2.06-.94-.94-2.06-.94 2.06-2.06.94zm-11 1L8.5 8.5l.94-2.06 2.06-.94-2.06-.94L8.5 2.5l-.94 2.06-2.06.94zm10 10l.94 2.06.94-2.06 2.06-.94-2.06-.94-.94-2.06-.94 2.06-2.06.94z\"/><path d=\"M17.41 7.96l-1.37-1.37c-.4-.4-.92-.59-1.43-.59-.52 0-1.04.2-1.43.59L10.3 9.45l-7.72 7.72c-.78.78-.78 2.05 0 2.83L4 21.41c.39.39.9.59 1.41.59.51 0 1.02-.2 1.41-.59l7.78-7.78 2.81-2.81c.8-.78.8-2.07 0-2.86zM5.41 20L4 18.59l7.72-7.72 1.47 1.35L5.41 20z\"/>\n",
              "  </svg>\n",
              "      </button>\n",
              "      \n",
              "  <style>\n",
              "    .colab-df-container {\n",
              "      display:flex;\n",
              "      flex-wrap:wrap;\n",
              "      gap: 12px;\n",
              "    }\n",
              "\n",
              "    .colab-df-convert {\n",
              "      background-color: #E8F0FE;\n",
              "      border: none;\n",
              "      border-radius: 50%;\n",
              "      cursor: pointer;\n",
              "      display: none;\n",
              "      fill: #1967D2;\n",
              "      height: 32px;\n",
              "      padding: 0 0 0 0;\n",
              "      width: 32px;\n",
              "    }\n",
              "\n",
              "    .colab-df-convert:hover {\n",
              "      background-color: #E2EBFA;\n",
              "      box-shadow: 0px 1px 2px rgba(60, 64, 67, 0.3), 0px 1px 3px 1px rgba(60, 64, 67, 0.15);\n",
              "      fill: #174EA6;\n",
              "    }\n",
              "\n",
              "    [theme=dark] .colab-df-convert {\n",
              "      background-color: #3B4455;\n",
              "      fill: #D2E3FC;\n",
              "    }\n",
              "\n",
              "    [theme=dark] .colab-df-convert:hover {\n",
              "      background-color: #434B5C;\n",
              "      box-shadow: 0px 1px 3px 1px rgba(0, 0, 0, 0.15);\n",
              "      filter: drop-shadow(0px 1px 2px rgba(0, 0, 0, 0.3));\n",
              "      fill: #FFFFFF;\n",
              "    }\n",
              "  </style>\n",
              "\n",
              "      <script>\n",
              "        const buttonEl =\n",
              "          document.querySelector('#df-6beee853-3b2e-4db9-8085-d3a1834a9f08 button.colab-df-convert');\n",
              "        buttonEl.style.display =\n",
              "          google.colab.kernel.accessAllowed ? 'block' : 'none';\n",
              "\n",
              "        async function convertToInteractive(key) {\n",
              "          const element = document.querySelector('#df-6beee853-3b2e-4db9-8085-d3a1834a9f08');\n",
              "          const dataTable =\n",
              "            await google.colab.kernel.invokeFunction('convertToInteractive',\n",
              "                                                     [key], {});\n",
              "          if (!dataTable) return;\n",
              "\n",
              "          const docLinkHtml = 'Like what you see? Visit the ' +\n",
              "            '<a target=\"_blank\" href=https://colab.research.google.com/notebooks/data_table.ipynb>data table notebook</a>'\n",
              "            + ' to learn more about interactive tables.';\n",
              "          element.innerHTML = '';\n",
              "          dataTable['output_type'] = 'display_data';\n",
              "          await google.colab.output.renderOutput(dataTable, element);\n",
              "          const docLink = document.createElement('div');\n",
              "          docLink.innerHTML = docLinkHtml;\n",
              "          element.appendChild(docLink);\n",
              "        }\n",
              "      </script>\n",
              "    </div>\n",
              "  </div>\n",
              "  "
            ]
          },
          "metadata": {},
          "execution_count": 23
        }
      ]
    },
    {
      "cell_type": "code",
      "source": [
        "mouselocal['gene_id'].head()"
      ],
      "metadata": {
        "colab": {
          "base_uri": "https://localhost:8080/"
        },
        "id": "FK_J1dNZJFlW",
        "outputId": "0c643365-4db5-4346-d59a-e6e9fdf3f629"
      },
      "execution_count": 24,
      "outputs": [
        {
          "output_type": "execute_result",
          "data": {
            "text/plain": [
              "0    ENSMUSG00000000001\n",
              "1    ENSMUSG00000000028\n",
              "2    ENSMUSG00000000049\n",
              "3    ENSMUSG00000000058\n",
              "4    ENSMUSG00000000085\n",
              "Name: gene_id, dtype: object"
            ]
          },
          "metadata": {},
          "execution_count": 24
        }
      ]
    },
    {
      "cell_type": "code",
      "source": [
        "cnts.reset_index(drop=True, inplace=True)"
      ],
      "metadata": {
        "id": "mi79fSwXL98g"
      },
      "execution_count": 26,
      "outputs": []
    },
    {
      "cell_type": "code",
      "execution_count": 27,
      "metadata": {
        "id": "aPPW73t4X3pp",
        "colab": {
          "base_uri": "https://localhost:8080/",
          "height": 409
        },
        "outputId": "e2571ce8-5534-4289-849d-7ad6f7a2e08a"
      },
      "outputs": [
        {
          "output_type": "execute_result",
          "data": {
            "text/plain": [
              "                                                 Chr  \\\n",
              "0                 chr1;chr1;chr1;chr1;chr1;chr1;chr1   \n",
              "1  chr1;chr1;chr1;chr1;chr1;chr1;chr1;chr1;chr1;c...   \n",
              "2  chr1;chr1;chr1;chr1;chr1;chr1;chr1;chr1;chr1;c...   \n",
              "3  chr1;chr1;chr1;chr1;chr1;chr1;chr1;chr1;chr1;c...   \n",
              "4  chr1;chr1;chr1;chr1;chr1;chr1;chr1;chr1;chr1;c...   \n",
              "\n",
              "                                               Start  \\\n",
              "0  3276124;3276746;3283662;3283832;3284705;349192...   \n",
              "1  4561154;4561473;4561613;4561936;4562680;456268...   \n",
              "2  4878011;4878046;4878053;4878119;4878121;487813...   \n",
              "3  4979799;4979799;4980625;4980697;4982537;498253...   \n",
              "4  5658689;5658716;5658716;5658780;5659164;565922...   \n",
              "\n",
              "                                                 End  \\\n",
              "0  3277540;3277540;3285855;3286567;3287191;349212...   \n",
              "1  4562891;4562886;4562891;4562891;4563827;456289...   \n",
              "2  4878205;4878205;4878205;4878205;4878205;487820...   \n",
              "3  4980885;4980885;4980885;4980885;4982771;498277...   \n",
              "4  5661534;5658886;5658886;5658886;5659528;565952...   \n",
              "\n",
              "                                              Strand  Length  CLIP-35L33G.bam  \\\n",
              "0                                      -;-;-;-;-;-;-    6094                4   \n",
              "1  -;-;-;-;-;-;-;-;-;-;-;-;-;-;-;-;-;-;-;-;-;-;-;...    4772                6   \n",
              "2  +;+;+;+;+;+;+;+;+;+;+;+;+;+;+;+;+;+;+;+;+;+;+;...    7145             2045   \n",
              "3  -;-;-;-;-;-;-;-;-;-;-;-;-;-;-;-;-;-;-;-;-;-;-;...    4239                5   \n",
              "4                +;+;+;+;+;+;+;+;+;+;+;+;+;+;+;+;+;+    9151               49   \n",
              "\n",
              "   RNA-control.bam  RNA-siLin28a.bam  RNA-siLuc.bam  RPF-siLin28a.bam  \\\n",
              "0                1                 1              1                 0   \n",
              "1                1                 8              5                 2   \n",
              "2              574              1219           1236                33   \n",
              "3                1                 1              8                 3   \n",
              "4                1                20             20                 8   \n",
              "\n",
              "   RPF-siLuc.bam  clip_enrichment  rden_change              Geneid  \\\n",
              "0              0         4.000000          NaN  ENSMUSG00000051951   \n",
              "1              3         6.000000     0.416667  ENSMUSG00000025902   \n",
              "2             44         3.562718     0.760459  ENSMUSG00000025903   \n",
              "3              2         5.000000    12.000000  ENSMUSG00000002459   \n",
              "4              7        49.000000     1.142857  ENSMUSG00000025905   \n",
              "\n",
              "              gene_id         Gene names               type  \n",
              "0  ENSMUSG00000051951          Xkr4 Xrg4  integral membrane  \n",
              "1  ENSMUSG00000025902       Sox17 Sox-17            nucleus  \n",
              "2  ENSMUSG00000025903  Lypla1 Apt1 Pla1a          cytoplasm  \n",
              "3  ENSMUSG00000002459        Rgs20 Rgsz1            nucleus  \n",
              "4  ENSMUSG00000025905              Oprk1  integral membrane  "
            ],
            "text/html": [
              "\n",
              "  <div id=\"df-8de05b27-2549-4d5a-b526-0ebb83dcebd5\">\n",
              "    <div class=\"colab-df-container\">\n",
              "      <div>\n",
              "<style scoped>\n",
              "    .dataframe tbody tr th:only-of-type {\n",
              "        vertical-align: middle;\n",
              "    }\n",
              "\n",
              "    .dataframe tbody tr th {\n",
              "        vertical-align: top;\n",
              "    }\n",
              "\n",
              "    .dataframe thead th {\n",
              "        text-align: right;\n",
              "    }\n",
              "</style>\n",
              "<table border=\"1\" class=\"dataframe\">\n",
              "  <thead>\n",
              "    <tr style=\"text-align: right;\">\n",
              "      <th></th>\n",
              "      <th>Chr</th>\n",
              "      <th>Start</th>\n",
              "      <th>End</th>\n",
              "      <th>Strand</th>\n",
              "      <th>Length</th>\n",
              "      <th>CLIP-35L33G.bam</th>\n",
              "      <th>RNA-control.bam</th>\n",
              "      <th>RNA-siLin28a.bam</th>\n",
              "      <th>RNA-siLuc.bam</th>\n",
              "      <th>RPF-siLin28a.bam</th>\n",
              "      <th>RPF-siLuc.bam</th>\n",
              "      <th>clip_enrichment</th>\n",
              "      <th>rden_change</th>\n",
              "      <th>Geneid</th>\n",
              "      <th>gene_id</th>\n",
              "      <th>Gene names</th>\n",
              "      <th>type</th>\n",
              "    </tr>\n",
              "  </thead>\n",
              "  <tbody>\n",
              "    <tr>\n",
              "      <th>0</th>\n",
              "      <td>chr1;chr1;chr1;chr1;chr1;chr1;chr1</td>\n",
              "      <td>3276124;3276746;3283662;3283832;3284705;349192...</td>\n",
              "      <td>3277540;3277540;3285855;3286567;3287191;349212...</td>\n",
              "      <td>-;-;-;-;-;-;-</td>\n",
              "      <td>6094</td>\n",
              "      <td>4</td>\n",
              "      <td>1</td>\n",
              "      <td>1</td>\n",
              "      <td>1</td>\n",
              "      <td>0</td>\n",
              "      <td>0</td>\n",
              "      <td>4.000000</td>\n",
              "      <td>NaN</td>\n",
              "      <td>ENSMUSG00000051951</td>\n",
              "      <td>ENSMUSG00000051951</td>\n",
              "      <td>Xkr4 Xrg4</td>\n",
              "      <td>integral membrane</td>\n",
              "    </tr>\n",
              "    <tr>\n",
              "      <th>1</th>\n",
              "      <td>chr1;chr1;chr1;chr1;chr1;chr1;chr1;chr1;chr1;c...</td>\n",
              "      <td>4561154;4561473;4561613;4561936;4562680;456268...</td>\n",
              "      <td>4562891;4562886;4562891;4562891;4563827;456289...</td>\n",
              "      <td>-;-;-;-;-;-;-;-;-;-;-;-;-;-;-;-;-;-;-;-;-;-;-;...</td>\n",
              "      <td>4772</td>\n",
              "      <td>6</td>\n",
              "      <td>1</td>\n",
              "      <td>8</td>\n",
              "      <td>5</td>\n",
              "      <td>2</td>\n",
              "      <td>3</td>\n",
              "      <td>6.000000</td>\n",
              "      <td>0.416667</td>\n",
              "      <td>ENSMUSG00000025902</td>\n",
              "      <td>ENSMUSG00000025902</td>\n",
              "      <td>Sox17 Sox-17</td>\n",
              "      <td>nucleus</td>\n",
              "    </tr>\n",
              "    <tr>\n",
              "      <th>2</th>\n",
              "      <td>chr1;chr1;chr1;chr1;chr1;chr1;chr1;chr1;chr1;c...</td>\n",
              "      <td>4878011;4878046;4878053;4878119;4878121;487813...</td>\n",
              "      <td>4878205;4878205;4878205;4878205;4878205;487820...</td>\n",
              "      <td>+;+;+;+;+;+;+;+;+;+;+;+;+;+;+;+;+;+;+;+;+;+;+;...</td>\n",
              "      <td>7145</td>\n",
              "      <td>2045</td>\n",
              "      <td>574</td>\n",
              "      <td>1219</td>\n",
              "      <td>1236</td>\n",
              "      <td>33</td>\n",
              "      <td>44</td>\n",
              "      <td>3.562718</td>\n",
              "      <td>0.760459</td>\n",
              "      <td>ENSMUSG00000025903</td>\n",
              "      <td>ENSMUSG00000025903</td>\n",
              "      <td>Lypla1 Apt1 Pla1a</td>\n",
              "      <td>cytoplasm</td>\n",
              "    </tr>\n",
              "    <tr>\n",
              "      <th>3</th>\n",
              "      <td>chr1;chr1;chr1;chr1;chr1;chr1;chr1;chr1;chr1;c...</td>\n",
              "      <td>4979799;4979799;4980625;4980697;4982537;498253...</td>\n",
              "      <td>4980885;4980885;4980885;4980885;4982771;498277...</td>\n",
              "      <td>-;-;-;-;-;-;-;-;-;-;-;-;-;-;-;-;-;-;-;-;-;-;-;...</td>\n",
              "      <td>4239</td>\n",
              "      <td>5</td>\n",
              "      <td>1</td>\n",
              "      <td>1</td>\n",
              "      <td>8</td>\n",
              "      <td>3</td>\n",
              "      <td>2</td>\n",
              "      <td>5.000000</td>\n",
              "      <td>12.000000</td>\n",
              "      <td>ENSMUSG00000002459</td>\n",
              "      <td>ENSMUSG00000002459</td>\n",
              "      <td>Rgs20 Rgsz1</td>\n",
              "      <td>nucleus</td>\n",
              "    </tr>\n",
              "    <tr>\n",
              "      <th>4</th>\n",
              "      <td>chr1;chr1;chr1;chr1;chr1;chr1;chr1;chr1;chr1;c...</td>\n",
              "      <td>5658689;5658716;5658716;5658780;5659164;565922...</td>\n",
              "      <td>5661534;5658886;5658886;5658886;5659528;565952...</td>\n",
              "      <td>+;+;+;+;+;+;+;+;+;+;+;+;+;+;+;+;+;+</td>\n",
              "      <td>9151</td>\n",
              "      <td>49</td>\n",
              "      <td>1</td>\n",
              "      <td>20</td>\n",
              "      <td>20</td>\n",
              "      <td>8</td>\n",
              "      <td>7</td>\n",
              "      <td>49.000000</td>\n",
              "      <td>1.142857</td>\n",
              "      <td>ENSMUSG00000025905</td>\n",
              "      <td>ENSMUSG00000025905</td>\n",
              "      <td>Oprk1</td>\n",
              "      <td>integral membrane</td>\n",
              "    </tr>\n",
              "  </tbody>\n",
              "</table>\n",
              "</div>\n",
              "      <button class=\"colab-df-convert\" onclick=\"convertToInteractive('df-8de05b27-2549-4d5a-b526-0ebb83dcebd5')\"\n",
              "              title=\"Convert this dataframe to an interactive table.\"\n",
              "              style=\"display:none;\">\n",
              "        \n",
              "  <svg xmlns=\"http://www.w3.org/2000/svg\" height=\"24px\"viewBox=\"0 0 24 24\"\n",
              "       width=\"24px\">\n",
              "    <path d=\"M0 0h24v24H0V0z\" fill=\"none\"/>\n",
              "    <path d=\"M18.56 5.44l.94 2.06.94-2.06 2.06-.94-2.06-.94-.94-2.06-.94 2.06-2.06.94zm-11 1L8.5 8.5l.94-2.06 2.06-.94-2.06-.94L8.5 2.5l-.94 2.06-2.06.94zm10 10l.94 2.06.94-2.06 2.06-.94-2.06-.94-.94-2.06-.94 2.06-2.06.94z\"/><path d=\"M17.41 7.96l-1.37-1.37c-.4-.4-.92-.59-1.43-.59-.52 0-1.04.2-1.43.59L10.3 9.45l-7.72 7.72c-.78.78-.78 2.05 0 2.83L4 21.41c.39.39.9.59 1.41.59.51 0 1.02-.2 1.41-.59l7.78-7.78 2.81-2.81c.8-.78.8-2.07 0-2.86zM5.41 20L4 18.59l7.72-7.72 1.47 1.35L5.41 20z\"/>\n",
              "  </svg>\n",
              "      </button>\n",
              "      \n",
              "  <style>\n",
              "    .colab-df-container {\n",
              "      display:flex;\n",
              "      flex-wrap:wrap;\n",
              "      gap: 12px;\n",
              "    }\n",
              "\n",
              "    .colab-df-convert {\n",
              "      background-color: #E8F0FE;\n",
              "      border: none;\n",
              "      border-radius: 50%;\n",
              "      cursor: pointer;\n",
              "      display: none;\n",
              "      fill: #1967D2;\n",
              "      height: 32px;\n",
              "      padding: 0 0 0 0;\n",
              "      width: 32px;\n",
              "    }\n",
              "\n",
              "    .colab-df-convert:hover {\n",
              "      background-color: #E2EBFA;\n",
              "      box-shadow: 0px 1px 2px rgba(60, 64, 67, 0.3), 0px 1px 3px 1px rgba(60, 64, 67, 0.15);\n",
              "      fill: #174EA6;\n",
              "    }\n",
              "\n",
              "    [theme=dark] .colab-df-convert {\n",
              "      background-color: #3B4455;\n",
              "      fill: #D2E3FC;\n",
              "    }\n",
              "\n",
              "    [theme=dark] .colab-df-convert:hover {\n",
              "      background-color: #434B5C;\n",
              "      box-shadow: 0px 1px 3px 1px rgba(0, 0, 0, 0.15);\n",
              "      filter: drop-shadow(0px 1px 2px rgba(0, 0, 0, 0.3));\n",
              "      fill: #FFFFFF;\n",
              "    }\n",
              "  </style>\n",
              "\n",
              "      <script>\n",
              "        const buttonEl =\n",
              "          document.querySelector('#df-8de05b27-2549-4d5a-b526-0ebb83dcebd5 button.colab-df-convert');\n",
              "        buttonEl.style.display =\n",
              "          google.colab.kernel.accessAllowed ? 'block' : 'none';\n",
              "\n",
              "        async function convertToInteractive(key) {\n",
              "          const element = document.querySelector('#df-8de05b27-2549-4d5a-b526-0ebb83dcebd5');\n",
              "          const dataTable =\n",
              "            await google.colab.kernel.invokeFunction('convertToInteractive',\n",
              "                                                     [key], {});\n",
              "          if (!dataTable) return;\n",
              "\n",
              "          const docLinkHtml = 'Like what you see? Visit the ' +\n",
              "            '<a target=\"_blank\" href=https://colab.research.google.com/notebooks/data_table.ipynb>data table notebook</a>'\n",
              "            + ' to learn more about interactive tables.';\n",
              "          element.innerHTML = '';\n",
              "          dataTable['output_type'] = 'display_data';\n",
              "          await google.colab.output.renderOutput(dataTable, element);\n",
              "          const docLink = document.createElement('div');\n",
              "          docLink.innerHTML = docLinkHtml;\n",
              "          element.appendChild(docLink);\n",
              "        }\n",
              "      </script>\n",
              "    </div>\n",
              "  </div>\n",
              "  "
            ]
          },
          "metadata": {},
          "execution_count": 27
        }
      ],
      "source": [
        "merged = pd.merge(cnts, mouselocal, left_on='Geneid', right_on='gene_id', how='inner')\n",
        "merged.head()"
      ]
    },
    {
      "cell_type": "code",
      "source": [
        "merged['clip_enrichment'] = merged['CLIP-35L33G.bam'] / merged['RNA-control.bam']\n",
        "mergedFiltered = merged.loc[merged['RNA-control.bam'] >= 100, :]\n",
        "merged.loc[mergedFiltered.index, 'rden_change'] = (mergedFiltered['RPF-siLin28a.bam'] / mergedFiltered['RNA-siLin28a.bam'])/ (mergedFiltered['RPF-siLuc.bam']/ mergedFiltered['RNA-siLuc.bam'])"
      ],
      "metadata": {
        "id": "G65lgrKHMfAQ"
      },
      "execution_count": 28,
      "outputs": []
    },
    {
      "cell_type": "code",
      "source": [
        "import pandas as pd\n",
        "\n",
        "q1 = merged['RNA-control.bam'].quantile(0.25)\n",
        "q3 = merged['RNA-control.bam'].quantile(0.75)\n",
        "\n",
        "merged_filtered = merged.loc[(merged['RNA-control.bam'] >= q1) & (merged['RNA-control.bam'] <= q3), :]\n",
        "\n",
        "merged_clip = merged.loc[(merged['RNA-control.bam'] >= q1) & (merged['RNA-control.bam'] <= q3), :]\n",
        "merged_clip['clip_enrichment'] = merged_clip['CLIP-35L33G.bam'] / merged_clip['RNA-control.bam']\n",
        "\n",
        "merged_rden = merged.loc[(merged['RNA-control.bam'] >= q1) & (merged['RNA-control.bam'] <= q3), :]\n",
        "merged_rden['rden_change'] = (merged_rden['RPF-siLin28a.bam'] / merged_rden['RNA-siLin28a.bam']) / (merged_rden['RPF-siLuc.bam'] / merged_rden['RNA-siLuc.bam'])\n"
      ],
      "metadata": {
        "colab": {
          "base_uri": "https://localhost:8080/"
        },
        "id": "TxdEVtOquJlw",
        "outputId": "0a9ee430-067e-43e7-eecc-2bff1e4ff0ab"
      },
      "execution_count": 34,
      "outputs": [
        {
          "output_type": "stream",
          "name": "stderr",
          "text": [
            "<ipython-input-34-4a486d3e6868>:9: SettingWithCopyWarning: \n",
            "A value is trying to be set on a copy of a slice from a DataFrame.\n",
            "Try using .loc[row_indexer,col_indexer] = value instead\n",
            "\n",
            "See the caveats in the documentation: https://pandas.pydata.org/pandas-docs/stable/user_guide/indexing.html#returning-a-view-versus-a-copy\n",
            "  merged_clip['clip_enrichment'] = merged_clip['CLIP-35L33G.bam'] / merged_clip['RNA-control.bam']\n",
            "<ipython-input-34-4a486d3e6868>:12: SettingWithCopyWarning: \n",
            "A value is trying to be set on a copy of a slice from a DataFrame.\n",
            "Try using .loc[row_indexer,col_indexer] = value instead\n",
            "\n",
            "See the caveats in the documentation: https://pandas.pydata.org/pandas-docs/stable/user_guide/indexing.html#returning-a-view-versus-a-copy\n",
            "  merged_rden['rden_change'] = (merged_rden['RPF-siLin28a.bam'] / merged_rden['RNA-siLin28a.bam']) / (merged_rden['RPF-siLuc.bam'] / merged_rden['RNA-siLuc.bam'])\n"
          ]
        }
      ]
    },
    {
      "cell_type": "code",
      "source": [
        "merged['type'].unique()"
      ],
      "metadata": {
        "colab": {
          "base_uri": "https://localhost:8080/"
        },
        "id": "UFueWbinvOwQ",
        "outputId": "e324503e-0832-4e55-df23-b745375d9f20"
      },
      "execution_count": 30,
      "outputs": [
        {
          "output_type": "execute_result",
          "data": {
            "text/plain": [
              "array(['integral membrane', 'nucleus', 'cytoplasm'], dtype=object)"
            ]
          },
          "metadata": {},
          "execution_count": 30
        }
      ]
    },
    {
      "cell_type": "code",
      "source": [
        "from matplotlib import pyplot as plt\n",
        "import numpy as np\n",
        "from scipy import stats\n",
        "\n",
        "colors = {'integral membrane': 'red', 'nucleus': 'blue', 'cytoplasm': 'green'}\n",
        "merged['color'] = merged['type'].map(colors)\n",
        "\n",
        "fig, ax = plt.subplots(1, 1, figsize=(3, 3))\n",
        "ax.grid(True, axis='x', zorder=0, linewidth=0.5)\n",
        "ax.grid(True, axis='y', zorder=0, linewidth=0.5)\n",
        "ax.scatter(np.log2(merged_filtered['clip_enrichment']), np.log2(merged_filtered['rden_change']),\n",
        "           c=merged_filtered['color'], s=1, alpha=0.5, zorder=10)\n",
        "\n",
        "\n",
        "ax.set_xlim(-6, 4)\n",
        "ax.set_ylim(-2, 3)\n",
        "ax.set_xlabel(r'$\\mathrm{LIN28A\\ CLIP\\ enrichment\\ (log}_2)$', fontstyle='italic')\n",
        "ax.set_ylabel(r'$\\mathrm{Ribosome\\ density\\ change}$' + '\\n' + r'$\\mathrm{on}$ Lin28a $\\mathrm{knockdown\\ (log}_2)$', fontstyle='italic')"
      ],
      "metadata": {
        "colab": {
          "base_uri": "https://localhost:8080/",
          "height": 375
        },
        "id": "L2xCDx7xMXFm",
        "outputId": "3708675a-4ff9-4818-e721-b272d3cfa7a2"
      },
      "execution_count": 55,
      "outputs": [
        {
          "output_type": "stream",
          "name": "stderr",
          "text": [
            "/usr/local/lib/python3.10/dist-packages/pandas/core/arraylike.py:402: RuntimeWarning: divide by zero encountered in log2\n",
            "  result = getattr(ufunc, method)(*inputs, **kwargs)\n"
          ]
        },
        {
          "output_type": "execute_result",
          "data": {
            "text/plain": [
              "Text(0, 0.5, '$\\\\mathrm{Ribosome\\\\ density\\\\ change}$\\n$\\\\mathrm{on}$ Lin28a $\\\\mathrm{knockdown\\\\ (log}_2)$')"
            ]
          },
          "metadata": {},
          "execution_count": 55
        },
        {
          "output_type": "display_data",
          "data": {
            "text/plain": [
              "<Figure size 300x300 with 1 Axes>"
            ],
            "image/png": "[encoded data removed]"
          },
          "metadata": {}
        }
      ]
    }
  ],
  "metadata": {
    "colab": {
      "provenance": [],
      "include_colab_link": true
    },
    "kernelspec": {
      "display_name": "Python 3",
      "name": "python3"
    }
  },
  "nbformat": 4,
  "nbformat_minor": 0
}