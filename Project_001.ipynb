{
  "cells": [
    {
      "cell_type": "markdown",
      "metadata": {
        "id": "view-in-github",
        "colab_type": "text"
      },
      "source": [
        "<a href=\"https://colab.research.google.com/github/WoobeenJeong/bioinfo1_jwb/blob/main/Project_001.ipynb\" target=\"_parent\"><img src=\"https://colab.research.google.com/assets/colab-badge.svg\" alt=\"Open In Colab\"/></a>"
      ]
    },
    {
      "cell_type": "markdown",
      "metadata": {
        "id": "bpP3b34tMVlI"
      },
      "source": [
        "**1) Data mounting**"
      ]
    },
    {
      "cell_type": "code",
      "execution_count": 12,
      "metadata": {
        "colab": {
          "base_uri": "https://localhost:8080/"
        },
        "id": "ucOASOB2MKSS",
        "outputId": "b8d93b97-5ae5-43ef-f7f8-51e077e9ff81"
      },
      "outputs": [
        {
          "output_type": "stream",
          "name": "stdout",
          "text": [
            "Drive already mounted at /content/drive; to attempt to forcibly remount, call drive.mount(\"/content/drive\", force_remount=True).\n"
          ]
        }
      ],
      "source": [
        "from google.colab import drive\n",
        "drive.mount('/content/drive')"
      ]
    },
    {
      "cell_type": "markdown",
      "metadata": {
        "id": "HGeYUN4bNg0Y"
      },
      "source": [
        "**2) Environment setting**"
      ]
    },
    {
      "cell_type": "code",
      "execution_count": null,
      "metadata": {
        "id": "qpAeDN_xNoiI"
      },
      "outputs": [],
      "source": [
        "!git clone https://github.com/hyeshik/colab-biolab.git\n",
        "!cd colab-biolab && bash tools/setup.sh\n",
        "exec(open('colab-biolab/tools/activate_conda.py').read())"
      ]
    },
    {
      "cell_type": "code",
      "execution_count": null,
      "metadata": {
        "id": "_eQeafJils95"
      },
      "outputs": [],
      "source": [
        "!conda install -y bedtools bioawk samtools"
      ]
    },
    {
      "cell_type": "markdown",
      "metadata": {
        "id": "ZtTJ5WTneSTX"
      },
      "source": [
        "**3) Data loading & check**"
      ]
    },
    {
      "cell_type": "code",
      "execution_count": 10,
      "metadata": {
        "colab": {
          "base_uri": "https://localhost:8080/"
        },
        "id": "3ovWb7O0eYGf",
        "outputId": "fc603c0d-2048-42a4-be8b-cf42f6816296"
      },
      "outputs": [
        {
          "output_type": "stream",
          "name": "stdout",
          "text": [
            "/content/drive/MyDrive/binfo1-work\n"
          ]
        }
      ],
      "source": [
        "%cd /content/drive/MyDrive/binfo1-work"
      ]
    },
    {
      "cell_type": "code",
      "execution_count": null,
      "metadata": {
        "id": "bu9blLM8lCjn"
      },
      "outputs": [],
      "source": [
        "!ls -al /content/drive/MyDrive/binfo1-work/"
      ]
    },
    {
      "cell_type": "code",
      "execution_count": null,
      "metadata": {
        "id": "OrbqDw1tkugu"
      },
      "outputs": [],
      "source": [
        "!md5sum /content/drive/MyDrive/binfo1-work/*"
      ]
    },
    {
      "cell_type": "markdown",
      "metadata": {
        "id": "ziU8sAjtlk1T"
      },
      "source": [
        "**4) Background setting**"
      ]
    },
    {
      "cell_type": "code",
      "execution_count": 3,
      "metadata": {
        "colab": {
          "base_uri": "https://localhost:8080/"
        },
        "id": "bXc89_vbuqLF",
        "outputId": "1bf06b6b-f6f6-41db-e124-dabea9824037"
      },
      "outputs": [
        {
          "output_type": "stream",
          "name": "stdout",
          "text": [
            "/content/drive/MyDrive/binfo1-work\n"
          ]
        }
      ],
      "source": [
        "%cd /content/drive/MyDrive/binfo1-work\n",
        "import pandas as pd\n",
        "import numpy as np\n",
        "import matplotlib.pyplot as plt\n",
        "import re\n",
        "from collections import Counter"
      ]
    },
    {
      "cell_type": "markdown",
      "metadata": {
        "id": "Acfq33BwuWG8"
      },
      "source": [
        "**5) Target region on CLIP-seq using gencode.gtf**"
      ]
    },
    {
      "cell_type": "markdown",
      "metadata": {
        "id": "ru1osIY-PchC"
      },
      "source": [
        "먼저 GTF파일은 genecode로부터 M32버전이 (2023.02월에) 나왔으며  \n",
        "M32(GRCm39) Refseq 자료 중 chr9에 대해 확인 할 것  \n",
        "NCBI RefSeq에서도 Mus musculus strain C57BL/6J chromosome 9, GRCm39 존재\n",
        "\n",
        "1) C=Shannon’s entrophy를 CRES: Crosslinking-induced reverse transcription error score로 가져감  \n",
        "2) 이때, insertion은 무시 substitution과 deletion고려  \n",
        "3) FDR은 permutation으로 구함   \n",
        "4) Read는 rRNA,tRNA,adapte제외하고 GSNAP의 Refseq에 align  \n",
        "5) 이를 바탕으로, 먼저 CRES(0.8) 상 low depth positio이 130 reads 이하  \n",
        "6) LOESS smoothing (regression) a=0.5사용 medium depth positon 250 read이하  \n",
        "7) FDR(0.001)상 high depth position >250 read 사용  "
      ]
    },
    {
      "cell_type": "code",
      "execution_count": 11,
      "metadata": {
        "id": "sqRqHaX7PcQj"
      },
      "outputs": [],
      "source": [
        "!gzip -d gencode.vM32.annotation.gtf.gz"
      ]
    },
    {
      "cell_type": "code",
      "source": [
        "!grep 'chr9' gencode.vM32.annotation.gtf > gencode.vM32.chr9.gtf"
      ],
      "metadata": {
        "id": "45-1kKZdWWqh"
      },
      "execution_count": 15,
      "outputs": []
    },
    {
      "cell_type": "code",
      "source": [
        "!head gencode.vM32.chr9.gtf"
      ],
      "metadata": {
        "colab": {
          "base_uri": "https://localhost:8080/"
        },
        "id": "n89Hr5-LacUm",
        "outputId": "65dcf516-86fc-4693-93d7-1d8986018d05"
      },
      "execution_count": 16,
      "outputs": [
        {
          "output_type": "stream",
          "name": "stdout",
          "text": [
            "chr9\tENSEMBL\tgene\t3038669\t3038743\t.\t-\t.\tgene_id \"ENSMUSG00000106183.2\"; gene_type \"miRNA\"; gene_name \"Mir101c\"; level 3; mgi_id \"MGI:4950030\";\n",
            "chr9\tENSEMBL\ttranscript\t3038669\t3038743\t.\t-\t.\tgene_id \"ENSMUSG00000106183.2\"; transcript_id \"ENSMUST00000195989.2\"; gene_type \"miRNA\"; gene_name \"Mir101c\"; transcript_type \"miRNA\"; transcript_name \"Mir101c-201\"; level 3; transcript_support_level \"NA\"; mgi_id \"MGI:4950030\"; tag \"basic\"; tag \"Ensembl_canonical\";\n",
            "chr9\tENSEMBL\texon\t3038669\t3038743\t.\t-\t.\tgene_id \"ENSMUSG00000106183.2\"; transcript_id \"ENSMUST00000195989.2\"; gene_type \"miRNA\"; gene_name \"Mir101c\"; transcript_type \"miRNA\"; transcript_name \"Mir101c-201\"; exon_number 1; exon_id \"ENSMUSE00001348199.2\"; level 3; transcript_support_level \"NA\"; mgi_id \"MGI:4950030\"; tag \"basic\"; tag \"Ensembl_canonical\";\n",
            "chr9\tHAVANA\tgene\t3133847\t3199799\t.\t-\t.\tgene_id \"ENSMUSG00000042360.13\"; gene_type \"lncRNA\"; gene_name \"4930433N12Rik\"; level 2; mgi_id \"MGI:2149746\"; tag \"overlapping_locus\"; havana_gene \"OTTMUSG00000047480.1\";\n",
            "chr9\tHAVANA\ttranscript\t3133847\t3199782\t.\t-\t.\tgene_id \"ENSMUSG00000042360.13\"; transcript_id \"ENSMUST00000048921.13\"; gene_type \"lncRNA\"; gene_name \"4930433N12Rik\"; transcript_type \"lncRNA\"; transcript_name \"4930433N12Rik-201\"; level 2; transcript_support_level \"1\"; mgi_id \"MGI:2149746\"; tag \"basic\"; tag \"Ensembl_canonical\"; havana_gene \"OTTMUSG00000047480.1\"; havana_transcript \"OTTMUST00000122542.1\";\n",
            "chr9\tHAVANA\texon\t3199537\t3199782\t.\t-\t.\tgene_id \"ENSMUSG00000042360.13\"; transcript_id \"ENSMUST00000048921.13\"; gene_type \"lncRNA\"; gene_name \"4930433N12Rik\"; transcript_type \"lncRNA\"; transcript_name \"4930433N12Rik-201\"; exon_number 1; exon_id \"ENSMUSE00000704006.2\"; level 2; transcript_support_level \"1\"; mgi_id \"MGI:2149746\"; tag \"basic\"; tag \"Ensembl_canonical\"; havana_gene \"OTTMUSG00000047480.1\"; havana_transcript \"OTTMUST00000122542.1\";\n",
            "chr9\tHAVANA\texon\t3192820\t3193048\t.\t-\t.\tgene_id \"ENSMUSG00000042360.13\"; transcript_id \"ENSMUST00000048921.13\"; gene_type \"lncRNA\"; gene_name \"4930433N12Rik\"; transcript_type \"lncRNA\"; transcript_name \"4930433N12Rik-201\"; exon_number 2; exon_id \"ENSMUSE00000704005.2\"; level 2; transcript_support_level \"1\"; mgi_id \"MGI:2149746\"; tag \"basic\"; tag \"Ensembl_canonical\"; havana_gene \"OTTMUSG00000047480.1\"; havana_transcript \"OTTMUST00000122542.1\";\n",
            "chr9\tHAVANA\texon\t3192312\t3192412\t.\t-\t.\tgene_id \"ENSMUSG00000042360.13\"; transcript_id \"ENSMUST00000048921.13\"; gene_type \"lncRNA\"; gene_name \"4930433N12Rik\"; transcript_type \"lncRNA\"; transcript_name \"4930433N12Rik-201\"; exon_number 3; exon_id \"ENSMUSE00000704004.2\"; level 2; transcript_support_level \"1\"; mgi_id \"MGI:2149746\"; tag \"basic\"; tag \"Ensembl_canonical\"; havana_gene \"OTTMUSG00000047480.1\"; havana_transcript \"OTTMUST00000122542.1\";\n",
            "chr9\tHAVANA\texon\t3190583\t3190805\t.\t-\t.\tgene_id \"ENSMUSG00000042360.13\"; transcript_id \"ENSMUST00000048921.13\"; gene_type \"lncRNA\"; gene_name \"4930433N12Rik\"; transcript_type \"lncRNA\"; transcript_name \"4930433N12Rik-201\"; exon_number 4; exon_id \"ENSMUSE00000262182.5\"; level 2; transcript_support_level \"1\"; mgi_id \"MGI:2149746\"; tag \"basic\"; tag \"Ensembl_canonical\"; havana_gene \"OTTMUSG00000047480.1\"; havana_transcript \"OTTMUST00000122542.1\";\n",
            "chr9\tHAVANA\texon\t3134876\t3135102\t.\t-\t.\tgene_id \"ENSMUSG00000042360.13\"; transcript_id \"ENSMUST00000048921.13\"; gene_type \"lncRNA\"; gene_name \"4930433N12Rik\"; transcript_type \"lncRNA\"; transcript_name \"4930433N12Rik-201\"; exon_number 5; exon_id \"ENSMUSE00000262160.4\"; level 2; transcript_support_level \"1\"; mgi_id \"MGI:2149746\"; tag \"basic\"; tag \"Ensembl_canonical\"; havana_gene \"OTTMUSG00000047480.1\"; havana_transcript \"OTTMUST00000122542.1\";\n"
          ]
        }
      ]
    },
    {
      "cell_type": "code",
      "source": [
        "!awk -F'\\t' '{if ($3 == \"gene\") print $4}' gencode.vM32.chr9.gtf | sort -n | head -n 1\n",
        "!awk -F'\\t' '{if ($3 == \"gene\") print $4}' gencode.vM32.chr9.gtf | sort -n | tail -n 1"
      ],
      "metadata": {
        "colab": {
          "base_uri": "https://localhost:8080/"
        },
        "id": "L1KLh3PmbfRt",
        "outputId": "4f394277-7025-466a-ee19-13a8802198bd"
      },
      "execution_count": 33,
      "outputs": [
        {
          "output_type": "stream",
          "name": "stdout",
          "text": [
            "3038669\n",
            "124252714\n"
          ]
        }
      ]
    },
    {
      "cell_type": "code",
      "source": [
        "!samtools view -b -o CLIP-let7g.bam CLIP-35L33G.bam chr9:3038669-124252714\n",
        "!samtools view CLIP-let7g.bam | wc -l"
      ],
      "metadata": {
        "colab": {
          "base_uri": "https://localhost:8080/"
        },
        "id": "TszRspV4c9oH",
        "outputId": "5c348ce0-ca41-4361-ae85-f73129e0dea3"
      },
      "execution_count": 13,
      "outputs": [
        {
          "output_type": "stream",
          "name": "stdout",
          "text": [
            "[E::hts_open_format] Failed to open file CLIP-35L33G.bam\n",
            "samtools view: failed to open \"CLIP-35L33G.bam\" for reading: No such file or directory\n",
            "1696159\n"
          ]
        }
      ]
    },
    {
      "cell_type": "code",
      "source": [
        "!samtools mpileup CLIP-let7g.bam 2>/dev/null > CLIP-let7g.pileup\n",
        "!wc -l CLIP-let7g.pileup"
      ],
      "metadata": {
        "colab": {
          "base_uri": "https://localhost:8080/"
        },
        "id": "me3Nx0ZxdLPm",
        "outputId": "85ffac59-be13-4191-e0a8-a53bc10d89ed"
      },
      "execution_count": 14,
      "outputs": [
        {
          "output_type": "stream",
          "name": "stdout",
          "text": [
            "47303563 CLIP-let7g.pileup\n"
          ]
        }
      ]
    },
    {
      "cell_type": "code",
      "source": [
        "!awk '$2 >= 3038669 && $2 <= 124252714 { print $0; }' CLIP-let7g.pileup > CLIP-let7g-gene.pileup\n",
        "!tail -n 2 CLIP-let7g-gene.pileup"
      ],
      "metadata": {
        "colab": {
          "base_uri": "https://localhost:8080/"
        },
        "id": "T5uYzX3EdqG2",
        "outputId": "235d943a-5a57-4229-a200-fc6106a4a0c3"
      },
      "execution_count": 15,
      "outputs": [
        {
          "output_type": "stream",
          "name": "stdout",
          "text": [
            "chr9\t124252286\tN\t1\tc\tE\n",
            "chr9\t124252287\tN\t1\tc$\tD\n"
          ]
        }
      ]
    },
    {
      "cell_type": "code",
      "source": [
        "pileup = pd.read_csv('CLIP-let7g-gene.pileup', sep='\\t', names=['chrom', 'pos', '_ref', 'count', 'basereads', 'quals'])\n",
        "pileup.tail()"
      ],
      "metadata": {
        "colab": {
          "base_uri": "https://localhost:8080/",
          "height": 206
        },
        "id": "CCeyuqDje2VW",
        "outputId": "074a700a-5641-416c-adea-b8609db5fe9a"
      },
      "execution_count": 16,
      "outputs": [
        {
          "output_type": "execute_result",
          "data": {
            "text/plain": [
              "         chrom        pos _ref  count basereads quals\n",
              "47303558  chr9  124252283    N      1         g     H\n",
              "47303559  chr9  124252284    N      1         g     G\n",
              "47303560  chr9  124252285    N      1         a     F\n",
              "47303561  chr9  124252286    N      1         c     E\n",
              "47303562  chr9  124252287    N      1        c$     D"
            ],
            "text/html": [
              "\n",
              "  <div id=\"df-d836af62-23b1-4539-9efe-751399fe4de9\">\n",
              "    <div class=\"colab-df-container\">\n",
              "      <div>\n",
              "<style scoped>\n",
              "    .dataframe tbody tr th:only-of-type {\n",
              "        vertical-align: middle;\n",
              "    }\n",
              "\n",
              "    .dataframe tbody tr th {\n",
              "        vertical-align: top;\n",
              "    }\n",
              "\n",
              "    .dataframe thead th {\n",
              "        text-align: right;\n",
              "    }\n",
              "</style>\n",
              "<table border=\"1\" class=\"dataframe\">\n",
              "  <thead>\n",
              "    <tr style=\"text-align: right;\">\n",
              "      <th></th>\n",
              "      <th>chrom</th>\n",
              "      <th>pos</th>\n",
              "      <th>_ref</th>\n",
              "      <th>count</th>\n",
              "      <th>basereads</th>\n",
              "      <th>quals</th>\n",
              "    </tr>\n",
              "  </thead>\n",
              "  <tbody>\n",
              "    <tr>\n",
              "      <th>47303558</th>\n",
              "      <td>chr9</td>\n",
              "      <td>124252283</td>\n",
              "      <td>N</td>\n",
              "      <td>1</td>\n",
              "      <td>g</td>\n",
              "      <td>H</td>\n",
              "    </tr>\n",
              "    <tr>\n",
              "      <th>47303559</th>\n",
              "      <td>chr9</td>\n",
              "      <td>124252284</td>\n",
              "      <td>N</td>\n",
              "      <td>1</td>\n",
              "      <td>g</td>\n",
              "      <td>G</td>\n",
              "    </tr>\n",
              "    <tr>\n",
              "      <th>47303560</th>\n",
              "      <td>chr9</td>\n",
              "      <td>124252285</td>\n",
              "      <td>N</td>\n",
              "      <td>1</td>\n",
              "      <td>a</td>\n",
              "      <td>F</td>\n",
              "    </tr>\n",
              "    <tr>\n",
              "      <th>47303561</th>\n",
              "      <td>chr9</td>\n",
              "      <td>124252286</td>\n",
              "      <td>N</td>\n",
              "      <td>1</td>\n",
              "      <td>c</td>\n",
              "      <td>E</td>\n",
              "    </tr>\n",
              "    <tr>\n",
              "      <th>47303562</th>\n",
              "      <td>chr9</td>\n",
              "      <td>124252287</td>\n",
              "      <td>N</td>\n",
              "      <td>1</td>\n",
              "      <td>c$</td>\n",
              "      <td>D</td>\n",
              "    </tr>\n",
              "  </tbody>\n",
              "</table>\n",
              "</div>\n",
              "      <button class=\"colab-df-convert\" onclick=\"convertToInteractive('df-d836af62-23b1-4539-9efe-751399fe4de9')\"\n",
              "              title=\"Convert this dataframe to an interactive table.\"\n",
              "              style=\"display:none;\">\n",
              "        \n",
              "  <svg xmlns=\"http://www.w3.org/2000/svg\" height=\"24px\"viewBox=\"0 0 24 24\"\n",
              "       width=\"24px\">\n",
              "    <path d=\"M0 0h24v24H0V0z\" fill=\"none\"/>\n",
              "    <path d=\"M18.56 5.44l.94 2.06.94-2.06 2.06-.94-2.06-.94-.94-2.06-.94 2.06-2.06.94zm-11 1L8.5 8.5l.94-2.06 2.06-.94-2.06-.94L8.5 2.5l-.94 2.06-2.06.94zm10 10l.94 2.06.94-2.06 2.06-.94-2.06-.94-.94-2.06-.94 2.06-2.06.94z\"/><path d=\"M17.41 7.96l-1.37-1.37c-.4-.4-.92-.59-1.43-.59-.52 0-1.04.2-1.43.59L10.3 9.45l-7.72 7.72c-.78.78-.78 2.05 0 2.83L4 21.41c.39.39.9.59 1.41.59.51 0 1.02-.2 1.41-.59l7.78-7.78 2.81-2.81c.8-.78.8-2.07 0-2.86zM5.41 20L4 18.59l7.72-7.72 1.47 1.35L5.41 20z\"/>\n",
              "  </svg>\n",
              "      </button>\n",
              "      \n",
              "  <style>\n",
              "    .colab-df-container {\n",
              "      display:flex;\n",
              "      flex-wrap:wrap;\n",
              "      gap: 12px;\n",
              "    }\n",
              "\n",
              "    .colab-df-convert {\n",
              "      background-color: #E8F0FE;\n",
              "      border: none;\n",
              "      border-radius: 50%;\n",
              "      cursor: pointer;\n",
              "      display: none;\n",
              "      fill: #1967D2;\n",
              "      height: 32px;\n",
              "      padding: 0 0 0 0;\n",
              "      width: 32px;\n",
              "    }\n",
              "\n",
              "    .colab-df-convert:hover {\n",
              "      background-color: #E2EBFA;\n",
              "      box-shadow: 0px 1px 2px rgba(60, 64, 67, 0.3), 0px 1px 3px 1px rgba(60, 64, 67, 0.15);\n",
              "      fill: #174EA6;\n",
              "    }\n",
              "\n",
              "    [theme=dark] .colab-df-convert {\n",
              "      background-color: #3B4455;\n",
              "      fill: #D2E3FC;\n",
              "    }\n",
              "\n",
              "    [theme=dark] .colab-df-convert:hover {\n",
              "      background-color: #434B5C;\n",
              "      box-shadow: 0px 1px 3px 1px rgba(0, 0, 0, 0.15);\n",
              "      filter: drop-shadow(0px 1px 2px rgba(0, 0, 0, 0.3));\n",
              "      fill: #FFFFFF;\n",
              "    }\n",
              "  </style>\n",
              "\n",
              "      <script>\n",
              "        const buttonEl =\n",
              "          document.querySelector('#df-d836af62-23b1-4539-9efe-751399fe4de9 button.colab-df-convert');\n",
              "        buttonEl.style.display =\n",
              "          google.colab.kernel.accessAllowed ? 'block' : 'none';\n",
              "\n",
              "        async function convertToInteractive(key) {\n",
              "          const element = document.querySelector('#df-d836af62-23b1-4539-9efe-751399fe4de9');\n",
              "          const dataTable =\n",
              "            await google.colab.kernel.invokeFunction('convertToInteractive',\n",
              "                                                     [key], {});\n",
              "          if (!dataTable) return;\n",
              "\n",
              "          const docLinkHtml = 'Like what you see? Visit the ' +\n",
              "            '<a target=\"_blank\" href=https://colab.research.google.com/notebooks/data_table.ipynb>data table notebook</a>'\n",
              "            + ' to learn more about interactive tables.';\n",
              "          element.innerHTML = '';\n",
              "          dataTable['output_type'] = 'display_data';\n",
              "          await google.colab.output.renderOutput(dataTable, element);\n",
              "          const docLink = document.createElement('div');\n",
              "          docLink.innerHTML = docLinkHtml;\n",
              "          element.appendChild(docLink);\n",
              "        }\n",
              "      </script>\n",
              "    </div>\n",
              "  </div>\n",
              "  "
            ]
          },
          "metadata": {},
          "execution_count": 16
        }
      ]
    },
    {
      "cell_type": "code",
      "source": [
        "count의 개수가 최대 / 최소 얼마이고 볼 만한 수준인지 확인"
      ],
      "metadata": {
        "id": "C5-Hd87LhEe1"
      },
      "execution_count": null,
      "outputs": []
    },
    {
      "cell_type": "code",
      "source": [
        "len(np.unique(pileup['count']))"
      ],
      "metadata": {
        "colab": {
          "base_uri": "https://localhost:8080/"
        },
        "id": "ZUVRFUq0kBY-",
        "outputId": "2de40225-67f1-4bb7-d4ed-8e4988dbe8ba"
      },
      "execution_count": 17,
      "outputs": [
        {
          "output_type": "execute_result",
          "data": {
            "text/plain": [
              "2443"
            ]
          },
          "metadata": {},
          "execution_count": 17
        }
      ]
    },
    {
      "cell_type": "code",
      "source": [
        "pileup['count'].describe()"
      ],
      "metadata": {
        "colab": {
          "base_uri": "https://localhost:8080/"
        },
        "id": "ZdHz2Glifq6U",
        "outputId": "817026b1-b964-4100-a9a9-e044eff6b9ef"
      },
      "execution_count": 44,
      "outputs": [
        {
          "output_type": "execute_result",
          "data": {
            "text/plain": [
              "count    4.730356e+07\n",
              "mean     1.007026e+01\n",
              "std      3.933483e+01\n",
              "min      0.000000e+00\n",
              "25%      3.000000e+00\n",
              "50%      5.000000e+00\n",
              "75%      1.000000e+01\n",
              "max      7.983000e+03\n",
              "Name: count, dtype: float64"
            ]
          },
          "metadata": {},
          "execution_count": 44
        }
      ]
    },
    {
      "cell_type": "code",
      "source": [
        "np.max(pileup['count'])"
      ],
      "metadata": {
        "colab": {
          "base_uri": "https://localhost:8080/"
        },
        "id": "h96qAMijkFXi",
        "outputId": "94dc4bdf-040c-459f-9f1d-8e0584973172"
      },
      "execution_count": 47,
      "outputs": [
        {
          "output_type": "execute_result",
          "data": {
            "text/plain": [
              "7983"
            ]
          },
          "metadata": {},
          "execution_count": 47
        }
      ]
    },
    {
      "cell_type": "markdown",
      "source": [
        "위를 보면 알수 있듯이 한 75%까지는 10개정도만 count되어 있는데, 무려 7983 read가 count되는 경우도 있음.  \n",
        "이경우는 좀 궁금하긴 하다만, 너무 크기 때문에, threshold <=130 reads로 두고 진행   \n",
        "(Shannon에서 depth 130으로 했으므로)"
      ],
      "metadata": {
        "id": "Ee07rqNgkvp3"
      }
    },
    {
      "cell_type": "code",
      "source": [
        "filter130pileup = pileup[pileup['count'] <= 130]"
      ],
      "metadata": {
        "id": "ySd4VMiakPa4"
      },
      "execution_count": 18,
      "outputs": []
    },
    {
      "cell_type": "code",
      "source": [
        "len(np.unique(filter130pileup['count']))"
      ],
      "metadata": {
        "colab": {
          "base_uri": "https://localhost:8080/"
        },
        "id": "5H2WHsXqkeEh",
        "outputId": "1c5bc6cc-ba2f-4b17-cdb3-4aa824642a26"
      },
      "execution_count": 19,
      "outputs": [
        {
          "output_type": "execute_result",
          "data": {
            "text/plain": [
              "131"
            ]
          },
          "metadata": {},
          "execution_count": 19
        }
      ]
    },
    {
      "cell_type": "code",
      "source": [
        "len(np.unique(filter130pileup['pos']))"
      ],
      "metadata": {
        "colab": {
          "base_uri": "https://localhost:8080/"
        },
        "id": "7d_gZXbIndXq",
        "outputId": "1b7c98b2-78fe-4356-bcf2-c44d02d2cf88"
      },
      "execution_count": 20,
      "outputs": [
        {
          "output_type": "execute_result",
          "data": {
            "text/plain": [
              "47076399"
            ]
          },
          "metadata": {},
          "execution_count": 20
        }
      ]
    },
    {
      "cell_type": "code",
      "source": [
        "filter130pileup['count'].describe()"
      ],
      "metadata": {
        "colab": {
          "base_uri": "https://localhost:8080/"
        },
        "id": "oh8Uz-iblXiT",
        "outputId": "fbefd793-15ef-4dee-9a52-69a8e44fe402"
      },
      "execution_count": 21,
      "outputs": [
        {
          "output_type": "execute_result",
          "data": {
            "text/plain": [
              "count    4.707640e+07\n",
              "mean     8.371837e+00\n",
              "std      1.172930e+01\n",
              "min      0.000000e+00\n",
              "25%      3.000000e+00\n",
              "50%      5.000000e+00\n",
              "75%      9.000000e+00\n",
              "max      1.300000e+02\n",
              "Name: count, dtype: float64"
            ]
          },
          "metadata": {},
          "execution_count": 21
        }
      ]
    },
    {
      "cell_type": "code",
      "source": [
        "max(filter130pileup['pos']),max(filter130pileup['pos'])-min(filter130pileup['pos'])"
      ],
      "metadata": {
        "colab": {
          "base_uri": "https://localhost:8080/"
        },
        "id": "-G-TKmS2m0bj",
        "outputId": "50e79adf-c8ea-4e2c-bb1c-ae4dfcbdac9f"
      },
      "execution_count": 23,
      "outputs": [
        {
          "output_type": "execute_result",
          "data": {
            "text/plain": [
              "(124252287, 121161794)"
            ]
          },
          "metadata": {},
          "execution_count": 23
        }
      ]
    },
    {
      "cell_type": "markdown",
      "source": [
        "match와 substitution, deletion을 사용할 것이므로, 나머지에 해당하는 tag들은 제거.  \n",
        "**여기서 Deletion은 포함하는 경우를 고려하는 것을 고민할 것**"
      ],
      "metadata": {
        "id": "dZjYsCGNlWU_"
      }
    },
    {
      "cell_type": "code",
      "source": [
        "toremove = re.compile('[<>$*#^]')\n",
        "filter130pileup.loc[:, 'matches'] = filter130pileup['basereads'].apply(lambda x: toremove.sub('', x))"
      ],
      "metadata": {
        "colab": {
          "base_uri": "https://localhost:8080/"
        },
        "id": "M9aQMeXsm6MK",
        "outputId": "6c44b095-f720-45bb-f81b-76dd6735f1c6"
      },
      "execution_count": 24,
      "outputs": [
        {
          "output_type": "stream",
          "name": "stderr",
          "text": [
            "<ipython-input-24-a83007237d9b>:2: SettingWithCopyWarning: \n",
            "A value is trying to be set on a copy of a slice from a DataFrame.\n",
            "Try using .loc[row_indexer,col_indexer] = value instead\n",
            "\n",
            "See the caveats in the documentation: https://pandas.pydata.org/pandas-docs/stable/user_guide/indexing.html#returning-a-view-versus-a-copy\n",
            "  filter130pileup.loc[:, 'matches'] = filter130pileup['basereads'].apply(lambda x: toremove.sub('', x))\n"
          ]
        }
      ]
    },
    {
      "cell_type": "code",
      "source": [
        "filter130pileup[['chrom', 'pos', 'matches']].head()"
      ],
      "metadata": {
        "colab": {
          "base_uri": "https://localhost:8080/",
          "height": 206
        },
        "id": "9JMYEv04nuE5",
        "outputId": "2665e69e-45e2-41ca-f58b-d7a0f41e9de1"
      },
      "execution_count": 26,
      "outputs": [
        {
          "output_type": "execute_result",
          "data": {
            "text/plain": [
              "  chrom      pos   matches\n",
              "0  chr9  3090493  HAIAGAHA\n",
              "1  chr9  3090494      GGGG\n",
              "2  chr9  3090495      GGGG\n",
              "3  chr9  3090496      GGGG\n",
              "4  chr9  3090497      GGGG"
            ],
            "text/html": [
              "\n",
              "  <div id=\"df-c86e90fe-eeda-4161-90b1-7f6d9898b0fa\">\n",
              "    <div class=\"colab-df-container\">\n",
              "      <div>\n",
              "<style scoped>\n",
              "    .dataframe tbody tr th:only-of-type {\n",
              "        vertical-align: middle;\n",
              "    }\n",
              "\n",
              "    .dataframe tbody tr th {\n",
              "        vertical-align: top;\n",
              "    }\n",
              "\n",
              "    .dataframe thead th {\n",
              "        text-align: right;\n",
              "    }\n",
              "</style>\n",
              "<table border=\"1\" class=\"dataframe\">\n",
              "  <thead>\n",
              "    <tr style=\"text-align: right;\">\n",
              "      <th></th>\n",
              "      <th>chrom</th>\n",
              "      <th>pos</th>\n",
              "      <th>matches</th>\n",
              "    </tr>\n",
              "  </thead>\n",
              "  <tbody>\n",
              "    <tr>\n",
              "      <th>0</th>\n",
              "      <td>chr9</td>\n",
              "      <td>3090493</td>\n",
              "      <td>HAIAGAHA</td>\n",
              "    </tr>\n",
              "    <tr>\n",
              "      <th>1</th>\n",
              "      <td>chr9</td>\n",
              "      <td>3090494</td>\n",
              "      <td>GGGG</td>\n",
              "    </tr>\n",
              "    <tr>\n",
              "      <th>2</th>\n",
              "      <td>chr9</td>\n",
              "      <td>3090495</td>\n",
              "      <td>GGGG</td>\n",
              "    </tr>\n",
              "    <tr>\n",
              "      <th>3</th>\n",
              "      <td>chr9</td>\n",
              "      <td>3090496</td>\n",
              "      <td>GGGG</td>\n",
              "    </tr>\n",
              "    <tr>\n",
              "      <th>4</th>\n",
              "      <td>chr9</td>\n",
              "      <td>3090497</td>\n",
              "      <td>GGGG</td>\n",
              "    </tr>\n",
              "  </tbody>\n",
              "</table>\n",
              "</div>\n",
              "      <button class=\"colab-df-convert\" onclick=\"convertToInteractive('df-c86e90fe-eeda-4161-90b1-7f6d9898b0fa')\"\n",
              "              title=\"Convert this dataframe to an interactive table.\"\n",
              "              style=\"display:none;\">\n",
              "        \n",
              "  <svg xmlns=\"http://www.w3.org/2000/svg\" height=\"24px\"viewBox=\"0 0 24 24\"\n",
              "       width=\"24px\">\n",
              "    <path d=\"M0 0h24v24H0V0z\" fill=\"none\"/>\n",
              "    <path d=\"M18.56 5.44l.94 2.06.94-2.06 2.06-.94-2.06-.94-.94-2.06-.94 2.06-2.06.94zm-11 1L8.5 8.5l.94-2.06 2.06-.94-2.06-.94L8.5 2.5l-.94 2.06-2.06.94zm10 10l.94 2.06.94-2.06 2.06-.94-2.06-.94-.94-2.06-.94 2.06-2.06.94z\"/><path d=\"M17.41 7.96l-1.37-1.37c-.4-.4-.92-.59-1.43-.59-.52 0-1.04.2-1.43.59L10.3 9.45l-7.72 7.72c-.78.78-.78 2.05 0 2.83L4 21.41c.39.39.9.59 1.41.59.51 0 1.02-.2 1.41-.59l7.78-7.78 2.81-2.81c.8-.78.8-2.07 0-2.86zM5.41 20L4 18.59l7.72-7.72 1.47 1.35L5.41 20z\"/>\n",
              "  </svg>\n",
              "      </button>\n",
              "      \n",
              "  <style>\n",
              "    .colab-df-container {\n",
              "      display:flex;\n",
              "      flex-wrap:wrap;\n",
              "      gap: 12px;\n",
              "    }\n",
              "\n",
              "    .colab-df-convert {\n",
              "      background-color: #E8F0FE;\n",
              "      border: none;\n",
              "      border-radius: 50%;\n",
              "      cursor: pointer;\n",
              "      display: none;\n",
              "      fill: #1967D2;\n",
              "      height: 32px;\n",
              "      padding: 0 0 0 0;\n",
              "      width: 32px;\n",
              "    }\n",
              "\n",
              "    .colab-df-convert:hover {\n",
              "      background-color: #E2EBFA;\n",
              "      box-shadow: 0px 1px 2px rgba(60, 64, 67, 0.3), 0px 1px 3px 1px rgba(60, 64, 67, 0.15);\n",
              "      fill: #174EA6;\n",
              "    }\n",
              "\n",
              "    [theme=dark] .colab-df-convert {\n",
              "      background-color: #3B4455;\n",
              "      fill: #D2E3FC;\n",
              "    }\n",
              "\n",
              "    [theme=dark] .colab-df-convert:hover {\n",
              "      background-color: #434B5C;\n",
              "      box-shadow: 0px 1px 3px 1px rgba(0, 0, 0, 0.15);\n",
              "      filter: drop-shadow(0px 1px 2px rgba(0, 0, 0, 0.3));\n",
              "      fill: #FFFFFF;\n",
              "    }\n",
              "  </style>\n",
              "\n",
              "      <script>\n",
              "        const buttonEl =\n",
              "          document.querySelector('#df-c86e90fe-eeda-4161-90b1-7f6d9898b0fa button.colab-df-convert');\n",
              "        buttonEl.style.display =\n",
              "          google.colab.kernel.accessAllowed ? 'block' : 'none';\n",
              "\n",
              "        async function convertToInteractive(key) {\n",
              "          const element = document.querySelector('#df-c86e90fe-eeda-4161-90b1-7f6d9898b0fa');\n",
              "          const dataTable =\n",
              "            await google.colab.kernel.invokeFunction('convertToInteractive',\n",
              "                                                     [key], {});\n",
              "          if (!dataTable) return;\n",
              "\n",
              "          const docLinkHtml = 'Like what you see? Visit the ' +\n",
              "            '<a target=\"_blank\" href=https://colab.research.google.com/notebooks/data_table.ipynb>data table notebook</a>'\n",
              "            + ' to learn more about interactive tables.';\n",
              "          element.innerHTML = '';\n",
              "          dataTable['output_type'] = 'display_data';\n",
              "          await google.colab.output.renderOutput(dataTable, element);\n",
              "          const docLink = document.createElement('div');\n",
              "          docLink.innerHTML = docLinkHtml;\n",
              "          element.appendChild(docLink);\n",
              "        }\n",
              "      </script>\n",
              "    </div>\n",
              "  </div>\n",
              "  "
            ]
          },
          "metadata": {},
          "execution_count": 26
        }
      ]
    },
    {
      "cell_type": "code",
      "source": [
        "x=filter130pileup['pos']\n",
        "y=filter130pileup['count']\n",
        "plt.bar(x,y)\n",
        "plt.xlabel('Position')\n",
        "plt.ylabel('Count')\n",
        "plt.title('Distribution of reads counts on position(chr=9)')\n",
        "plt.show()"
      ],
      "metadata": {
        "id": "9h7oIzfklvNA"
      },
      "execution_count": null,
      "outputs": []
    },
    {
      "cell_type": "markdown",
      "source": [
        "다행히 진짜 mirleg7 포지션에 매칭은 됨"
      ],
      "metadata": {
        "id": "Y8r7zEW7p9rE"
      }
    },
    {
      "cell_type": "code",
      "source": [
        "filter130pileup[filter130pileup['pos'] == 106056094].iloc[0]['matches']"
      ],
      "metadata": {
        "colab": {
          "base_uri": "https://localhost:8080/",
          "height": 55
        },
        "id": "jfIFdY2npyGt",
        "outputId": "7b9ccf35-d69c-4b38-e9ba-86b9fdbb25f9"
      },
      "execution_count": 29,
      "outputs": [
        {
          "output_type": "execute_result",
          "data": {
            "text/plain": [
              "'GGGGGGAAAAAAAAGGGGGAAAAAAGCCGCAGGATGAGGTGATAAGGGAGGGGTGAAGGGCGGTGAAGGGGAAAAGAGAAAGAAAAATAAAGGGGGAGTGGGAGGAAGAAGAGAATA'"
            ],
            "application/vnd.google.colaboratory.intrinsic+json": {
              "type": "string"
            }
          },
          "metadata": {},
          "execution_count": 29
        }
      ]
    },
    {
      "cell_type": "markdown",
      "source": [
        "Deletion상관 없이 Insertion하고 Hard-clipped read만 제외"
      ],
      "metadata": {
        "id": "o3s5uS1pqN9O"
      }
    },
    {
      "cell_type": "code",
      "source": [
        "filter130pileup['base_count'] = filter130pileup['matches'].apply(lambda x: len([c for c in x if c != 'H' and c != 'I']))\n",
        "filter130pileup.head()"
      ],
      "metadata": {
        "colab": {
          "base_uri": "https://localhost:8080/",
          "height": 339
        },
        "id": "1y1ZXtEyqHEW",
        "outputId": "048e01cc-1322-4d68-98eb-26435fa1138e"
      },
      "execution_count": 30,
      "outputs": [
        {
          "output_type": "stream",
          "name": "stderr",
          "text": [
            "<ipython-input-30-80f731dc1106>:1: SettingWithCopyWarning: \n",
            "A value is trying to be set on a copy of a slice from a DataFrame.\n",
            "Try using .loc[row_indexer,col_indexer] = value instead\n",
            "\n",
            "See the caveats in the documentation: https://pandas.pydata.org/pandas-docs/stable/user_guide/indexing.html#returning-a-view-versus-a-copy\n",
            "  filter130pileup['base_count'] = filter130pileup['matches'].apply(lambda x: len([c for c in x if c != 'H' and c != 'I']))\n"
          ]
        },
        {
          "output_type": "execute_result",
          "data": {
            "text/plain": [
              "  chrom      pos _ref  count     basereads quals   matches  base_count\n",
              "0  chr9  3090493    N      4  ^HA^IA^GA^HA  HIEG  HAIAGAHA           5\n",
              "1  chr9  3090494    N      4          GGGG  HIGG      GGGG           4\n",
              "2  chr9  3090495    N      4          GGGG  HIGG      GGGG           4\n",
              "3  chr9  3090496    N      4          GGGG  GHEG      GGGG           4\n",
              "4  chr9  3090497    N      4          GGGG  HIGG      GGGG           4"
            ],
            "text/html": [
              "\n",
              "  <div id=\"df-13dbbc00-36a0-4732-8901-b7b71338a9ca\">\n",
              "    <div class=\"colab-df-container\">\n",
              "      <div>\n",
              "<style scoped>\n",
              "    .dataframe tbody tr th:only-of-type {\n",
              "        vertical-align: middle;\n",
              "    }\n",
              "\n",
              "    .dataframe tbody tr th {\n",
              "        vertical-align: top;\n",
              "    }\n",
              "\n",
              "    .dataframe thead th {\n",
              "        text-align: right;\n",
              "    }\n",
              "</style>\n",
              "<table border=\"1\" class=\"dataframe\">\n",
              "  <thead>\n",
              "    <tr style=\"text-align: right;\">\n",
              "      <th></th>\n",
              "      <th>chrom</th>\n",
              "      <th>pos</th>\n",
              "      <th>_ref</th>\n",
              "      <th>count</th>\n",
              "      <th>basereads</th>\n",
              "      <th>quals</th>\n",
              "      <th>matches</th>\n",
              "      <th>base_count</th>\n",
              "    </tr>\n",
              "  </thead>\n",
              "  <tbody>\n",
              "    <tr>\n",
              "      <th>0</th>\n",
              "      <td>chr9</td>\n",
              "      <td>3090493</td>\n",
              "      <td>N</td>\n",
              "      <td>4</td>\n",
              "      <td>^HA^IA^GA^HA</td>\n",
              "      <td>HIEG</td>\n",
              "      <td>HAIAGAHA</td>\n",
              "      <td>5</td>\n",
              "    </tr>\n",
              "    <tr>\n",
              "      <th>1</th>\n",
              "      <td>chr9</td>\n",
              "      <td>3090494</td>\n",
              "      <td>N</td>\n",
              "      <td>4</td>\n",
              "      <td>GGGG</td>\n",
              "      <td>HIGG</td>\n",
              "      <td>GGGG</td>\n",
              "      <td>4</td>\n",
              "    </tr>\n",
              "    <tr>\n",
              "      <th>2</th>\n",
              "      <td>chr9</td>\n",
              "      <td>3090495</td>\n",
              "      <td>N</td>\n",
              "      <td>4</td>\n",
              "      <td>GGGG</td>\n",
              "      <td>HIGG</td>\n",
              "      <td>GGGG</td>\n",
              "      <td>4</td>\n",
              "    </tr>\n",
              "    <tr>\n",
              "      <th>3</th>\n",
              "      <td>chr9</td>\n",
              "      <td>3090496</td>\n",
              "      <td>N</td>\n",
              "      <td>4</td>\n",
              "      <td>GGGG</td>\n",
              "      <td>GHEG</td>\n",
              "      <td>GGGG</td>\n",
              "      <td>4</td>\n",
              "    </tr>\n",
              "    <tr>\n",
              "      <th>4</th>\n",
              "      <td>chr9</td>\n",
              "      <td>3090497</td>\n",
              "      <td>N</td>\n",
              "      <td>4</td>\n",
              "      <td>GGGG</td>\n",
              "      <td>HIGG</td>\n",
              "      <td>GGGG</td>\n",
              "      <td>4</td>\n",
              "    </tr>\n",
              "  </tbody>\n",
              "</table>\n",
              "</div>\n",
              "      <button class=\"colab-df-convert\" onclick=\"convertToInteractive('df-13dbbc00-36a0-4732-8901-b7b71338a9ca')\"\n",
              "              title=\"Convert this dataframe to an interactive table.\"\n",
              "              style=\"display:none;\">\n",
              "        \n",
              "  <svg xmlns=\"http://www.w3.org/2000/svg\" height=\"24px\"viewBox=\"0 0 24 24\"\n",
              "       width=\"24px\">\n",
              "    <path d=\"M0 0h24v24H0V0z\" fill=\"none\"/>\n",
              "    <path d=\"M18.56 5.44l.94 2.06.94-2.06 2.06-.94-2.06-.94-.94-2.06-.94 2.06-2.06.94zm-11 1L8.5 8.5l.94-2.06 2.06-.94-2.06-.94L8.5 2.5l-.94 2.06-2.06.94zm10 10l.94 2.06.94-2.06 2.06-.94-2.06-.94-.94-2.06-.94 2.06-2.06.94z\"/><path d=\"M17.41 7.96l-1.37-1.37c-.4-.4-.92-.59-1.43-.59-.52 0-1.04.2-1.43.59L10.3 9.45l-7.72 7.72c-.78.78-.78 2.05 0 2.83L4 21.41c.39.39.9.59 1.41.59.51 0 1.02-.2 1.41-.59l7.78-7.78 2.81-2.81c.8-.78.8-2.07 0-2.86zM5.41 20L4 18.59l7.72-7.72 1.47 1.35L5.41 20z\"/>\n",
              "  </svg>\n",
              "      </button>\n",
              "      \n",
              "  <style>\n",
              "    .colab-df-container {\n",
              "      display:flex;\n",
              "      flex-wrap:wrap;\n",
              "      gap: 12px;\n",
              "    }\n",
              "\n",
              "    .colab-df-convert {\n",
              "      background-color: #E8F0FE;\n",
              "      border: none;\n",
              "      border-radius: 50%;\n",
              "      cursor: pointer;\n",
              "      display: none;\n",
              "      fill: #1967D2;\n",
              "      height: 32px;\n",
              "      padding: 0 0 0 0;\n",
              "      width: 32px;\n",
              "    }\n",
              "\n",
              "    .colab-df-convert:hover {\n",
              "      background-color: #E2EBFA;\n",
              "      box-shadow: 0px 1px 2px rgba(60, 64, 67, 0.3), 0px 1px 3px 1px rgba(60, 64, 67, 0.15);\n",
              "      fill: #174EA6;\n",
              "    }\n",
              "\n",
              "    [theme=dark] .colab-df-convert {\n",
              "      background-color: #3B4455;\n",
              "      fill: #D2E3FC;\n",
              "    }\n",
              "\n",
              "    [theme=dark] .colab-df-convert:hover {\n",
              "      background-color: #434B5C;\n",
              "      box-shadow: 0px 1px 3px 1px rgba(0, 0, 0, 0.15);\n",
              "      filter: drop-shadow(0px 1px 2px rgba(0, 0, 0, 0.3));\n",
              "      fill: #FFFFFF;\n",
              "    }\n",
              "  </style>\n",
              "\n",
              "      <script>\n",
              "        const buttonEl =\n",
              "          document.querySelector('#df-13dbbc00-36a0-4732-8901-b7b71338a9ca button.colab-df-convert');\n",
              "        buttonEl.style.display =\n",
              "          google.colab.kernel.accessAllowed ? 'block' : 'none';\n",
              "\n",
              "        async function convertToInteractive(key) {\n",
              "          const element = document.querySelector('#df-13dbbc00-36a0-4732-8901-b7b71338a9ca');\n",
              "          const dataTable =\n",
              "            await google.colab.kernel.invokeFunction('convertToInteractive',\n",
              "                                                     [key], {});\n",
              "          if (!dataTable) return;\n",
              "\n",
              "          const docLinkHtml = 'Like what you see? Visit the ' +\n",
              "            '<a target=\"_blank\" href=https://colab.research.google.com/notebooks/data_table.ipynb>data table notebook</a>'\n",
              "            + ' to learn more about interactive tables.';\n",
              "          element.innerHTML = '';\n",
              "          dataTable['output_type'] = 'display_data';\n",
              "          await google.colab.output.renderOutput(dataTable, element);\n",
              "          const docLink = document.createElement('div');\n",
              "          docLink.innerHTML = docLinkHtml;\n",
              "          element.appendChild(docLink);\n",
              "        }\n",
              "      </script>\n",
              "    </div>\n",
              "  </div>\n",
              "  "
            ]
          },
          "metadata": {},
          "execution_count": 30
        }
      ]
    },
    {
      "cell_type": "code",
      "source": [
        "np.unique(filter130pileup['base_count'])"
      ],
      "metadata": {
        "colab": {
          "base_uri": "https://localhost:8080/"
        },
        "id": "aX5DjWZcqnag",
        "outputId": "a66891d0-d39a-4534-fa9b-e5cd91e8cafb"
      },
      "execution_count": 31,
      "outputs": [
        {
          "output_type": "execute_result",
          "data": {
            "text/plain": [
              "array([  0,   1,   2,   3,   4,   5,   6,   7,   8,   9,  10,  11,  12,\n",
              "        13,  14,  15,  16,  17,  18,  19,  20,  21,  22,  23,  24,  25,\n",
              "        26,  27,  28,  29,  30,  31,  32,  33,  34,  35,  36,  37,  38,\n",
              "        39,  40,  41,  42,  43,  44,  45,  46,  47,  48,  49,  50,  51,\n",
              "        52,  53,  54,  55,  56,  57,  58,  59,  60,  61,  62,  63,  64,\n",
              "        65,  66,  67,  68,  69,  70,  71,  72,  73,  74,  75,  76,  77,\n",
              "        78,  79,  80,  81,  82,  83,  84,  85,  86,  87,  88,  89,  90,\n",
              "        91,  92,  93,  94,  95,  96,  97,  98,  99, 100, 101, 102, 103,\n",
              "       104, 105, 106, 107, 108, 109, 110, 111, 112, 113, 114, 115, 116,\n",
              "       117, 118, 119, 120, 121, 122, 123, 124, 125, 126, 127, 128, 129,\n",
              "       130, 131, 132, 133, 134, 135, 136, 137, 138, 139, 140, 141, 142,\n",
              "       143, 144, 145, 146, 147, 148, 149, 150, 151, 152, 153, 154, 155,\n",
              "       156, 157, 158, 159, 161, 162, 163, 165, 166, 167, 168, 169, 170,\n",
              "       171, 172, 173, 174, 175, 176, 177, 178, 179, 180, 181, 182, 183,\n",
              "       187, 189, 190, 193, 198, 201, 202, 203, 206, 207, 213, 216, 218,\n",
              "       221, 227, 248, 377, 425, 448])"
            ]
          },
          "metadata": {},
          "execution_count": 31
        }
      ]
    },
    {
      "cell_type": "markdown",
      "source": [
        "Colab RAM사용 제한 상, 데이터가 날라가는 것을 방지하기 위해 일단 결과 csv 저장"
      ],
      "metadata": {
        "id": "E_0_hO3StYR4"
      }
    },
    {
      "cell_type": "code",
      "source": [
        "filter130pileup.to_csv('filter130pileup.csv', index=True)"
      ],
      "metadata": {
        "id": "Eq6jlhtctXta"
      },
      "execution_count": 32,
      "outputs": []
    },
    {
      "cell_type": "markdown",
      "source": [
        "RAM 사용량 상, 작업을 다른 주피터 노트북에 작성"
      ],
      "metadata": {
        "id": "M8Tg7A74q36Z"
      }
    }
  ],
  "metadata": {
    "colab": {
      "provenance": [],
      "authorship_tag": "ABX9TyNstZXGK+AwEYUdGpXFfA4B",
      "include_colab_link": true
    },
    "kernelspec": {
      "display_name": "Python 3",
      "name": "python3"
    },
    "language_info": {
      "name": "python"
    }
  },
  "nbformat": 4,
  "nbformat_minor": 0
}