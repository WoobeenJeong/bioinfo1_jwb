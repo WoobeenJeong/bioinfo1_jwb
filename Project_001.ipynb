{
  "cells": [
    {
      "cell_type": "markdown",
      "metadata": {
        "id": "view-in-github",
        "colab_type": "text"
      },
      "source": [
        "<a href=\"https://colab.research.google.com/github/WoobeenJeong/bioinfo1_jwb/blob/main/Project_001.ipynb\" target=\"_parent\"><img src=\"https://colab.research.google.com/assets/colab-badge.svg\" alt=\"Open In Colab\"/></a>"
      ]
    },
    {
      "cell_type": "markdown",
      "metadata": {
        "id": "bpP3b34tMVlI"
      },
      "source": [
        "**1) Data mounting**"
      ]
    },
    {
      "cell_type": "code",
      "execution_count": 1,
      "metadata": {
        "colab": {
          "base_uri": "https://localhost:8080/"
        },
        "id": "ucOASOB2MKSS",
        "outputId": "9aa348d3-7d90-4c7c-f626-fdc97602a4ad"
      },
      "outputs": [
        {
          "output_type": "stream",
          "name": "stdout",
          "text": [
            "Drive already mounted at /content/drive; to attempt to forcibly remount, call drive.mount(\"/content/drive\", force_remount=True).\n"
          ]
        }
      ],
      "source": [
        "from google.colab import drive\n",
        "drive.mount('/content/drive')"
      ]
    },
    {
      "cell_type": "markdown",
      "metadata": {
        "id": "HGeYUN4bNg0Y"
      },
      "source": [
        "**2) Environment setting**"
      ]
    },
    {
      "cell_type": "code",
      "execution_count": null,
      "metadata": {
        "id": "qpAeDN_xNoiI"
      },
      "outputs": [],
      "source": [
        "!git clone https://github.com/hyeshik/colab-biolab.git\n",
        "!cd colab-biolab && bash tools/setup.sh\n",
        "exec(open('colab-biolab/tools/activate_conda.py').read())"
      ]
    },
    {
      "cell_type": "code",
      "execution_count": null,
      "metadata": {
        "id": "_eQeafJils95"
      },
      "outputs": [],
      "source": [
        "!conda install -y bedtools bioawk samtools"
      ]
    },
    {
      "cell_type": "markdown",
      "metadata": {
        "id": "ZtTJ5WTneSTX"
      },
      "source": [
        "**3) Data loading & check**"
      ]
    },
    {
      "cell_type": "code",
      "execution_count": 4,
      "metadata": {
        "colab": {
          "base_uri": "https://localhost:8080/"
        },
        "id": "3ovWb7O0eYGf",
        "outputId": "ece77010-bf0e-4c7e-daa8-0971dc05861c"
      },
      "outputs": [
        {
          "output_type": "stream",
          "name": "stdout",
          "text": [
            "/content/drive/MyDrive/binfo1-work\n"
          ]
        }
      ],
      "source": [
        "%cd /content/drive/MyDrive/binfo1-work"
      ]
    },
    {
      "cell_type": "code",
      "execution_count": null,
      "metadata": {
        "id": "bu9blLM8lCjn"
      },
      "outputs": [],
      "source": [
        "!ls -al /content/drive/MyDrive/binfo1-work/"
      ]
    },
    {
      "cell_type": "code",
      "execution_count": null,
      "metadata": {
        "id": "OrbqDw1tkugu"
      },
      "outputs": [],
      "source": [
        "!md5sum /content/drive/MyDrive/binfo1-work/*"
      ]
    },
    {
      "cell_type": "markdown",
      "metadata": {
        "id": "ziU8sAjtlk1T"
      },
      "source": [
        "**4) Background setting**"
      ]
    },
    {
      "cell_type": "code",
      "execution_count": 5,
      "metadata": {
        "colab": {
          "base_uri": "https://localhost:8080/"
        },
        "id": "bXc89_vbuqLF",
        "outputId": "bcfbcd42-74c3-406f-c6cb-546f0f202c28"
      },
      "outputs": [
        {
          "output_type": "stream",
          "name": "stdout",
          "text": [
            "/content/drive/MyDrive/binfo1-work\n"
          ]
        }
      ],
      "source": [
        "%cd /content/drive/MyDrive/binfo1-work\n",
        "import pandas as pd\n",
        "import numpy as np\n",
        "import matplotlib.pyplot as plt\n",
        "import re\n",
        "from collections import Counter"
      ]
    },
    {
      "cell_type": "markdown",
      "metadata": {
        "id": "Acfq33BwuWG8"
      },
      "source": [
        "**5) Target region on CLIP-seq using gencode.gtf**"
      ]
    },
    {
      "cell_type": "markdown",
      "metadata": {
        "id": "ru1osIY-PchC"
      },
      "source": [
        "먼저 GTF파일은 genecode로부터 M32버전이 (2023.02월에) 나왔으며  \n",
        "M32(GRCm39) Refseq 자료 중 chr9에 대해 확인 할 것  \n",
        "NCBI RefSeq에서도 Mus musculus strain C57BL/6J chromosome 9, GRCm39 존재\n",
        "\n",
        "1) C=Shannon’s entrophy를 CRES: Crosslinking-induced reverse transcription error score로 가져감  \n",
        "2) 이때, insertion은 무시 substitution과 deletion고려  \n",
        "3) FDR은 permutation으로 구함   \n",
        "4) Read는 rRNA,tRNA,adapte제외하고 GSNAP의 Refseq에 align  \n",
        "5) 이를 바탕으로, 먼저 CRES(0.8) 상 low depth positio이 130 reads 이하  \n",
        "6) LOESS smoothing (regression) a=0.5사용 medium depth positon 250 read이하  \n",
        "7) FDR(0.001)상 high depth position >250 read 사용  "
      ]
    },
    {
      "cell_type": "code",
      "execution_count": 6,
      "metadata": {
        "id": "sqRqHaX7PcQj",
        "colab": {
          "base_uri": "https://localhost:8080/"
        },
        "outputId": "80840982-cfbc-4efe-ff41-27bc218b5fb9"
      },
      "outputs": [
        {
          "output_type": "stream",
          "name": "stdout",
          "text": [
            "gzip: gencode.vM32.annotation.gtf.gz: No such file or directory\n"
          ]
        }
      ],
      "source": [
        "!gzip -d gencode.vM32.annotation.gtf.gz"
      ]
    },
    {
      "cell_type": "code",
      "source": [
        "!grep 'chr9' gencode.vM32.annotation.gtf > gencode.vM32.chr9.gtf"
      ],
      "metadata": {
        "id": "45-1kKZdWWqh"
      },
      "execution_count": null,
      "outputs": []
    },
    {
      "cell_type": "code",
      "source": [
        "!head gencode.vM32.chr9.gtf"
      ],
      "metadata": {
        "colab": {
          "base_uri": "https://localhost:8080/"
        },
        "id": "n89Hr5-LacUm",
        "outputId": "65dcf516-86fc-4693-93d7-1d8986018d05"
      },
      "execution_count": null,
      "outputs": [
        {
          "output_type": "stream",
          "name": "stdout",
          "text": [
            "chr9\tENSEMBL\tgene\t3038669\t3038743\t.\t-\t.\tgene_id \"ENSMUSG00000106183.2\"; gene_type \"miRNA\"; gene_name \"Mir101c\"; level 3; mgi_id \"MGI:4950030\";\n",
            "chr9\tENSEMBL\ttranscript\t3038669\t3038743\t.\t-\t.\tgene_id \"ENSMUSG00000106183.2\"; transcript_id \"ENSMUST00000195989.2\"; gene_type \"miRNA\"; gene_name \"Mir101c\"; transcript_type \"miRNA\"; transcript_name \"Mir101c-201\"; level 3; transcript_support_level \"NA\"; mgi_id \"MGI:4950030\"; tag \"basic\"; tag \"Ensembl_canonical\";\n",
            "chr9\tENSEMBL\texon\t3038669\t3038743\t.\t-\t.\tgene_id \"ENSMUSG00000106183.2\"; transcript_id \"ENSMUST00000195989.2\"; gene_type \"miRNA\"; gene_name \"Mir101c\"; transcript_type \"miRNA\"; transcript_name \"Mir101c-201\"; exon_number 1; exon_id \"ENSMUSE00001348199.2\"; level 3; transcript_support_level \"NA\"; mgi_id \"MGI:4950030\"; tag \"basic\"; tag \"Ensembl_canonical\";\n",
            "chr9\tHAVANA\tgene\t3133847\t3199799\t.\t-\t.\tgene_id \"ENSMUSG00000042360.13\"; gene_type \"lncRNA\"; gene_name \"4930433N12Rik\"; level 2; mgi_id \"MGI:2149746\"; tag \"overlapping_locus\"; havana_gene \"OTTMUSG00000047480.1\";\n",
            "chr9\tHAVANA\ttranscript\t3133847\t3199782\t.\t-\t.\tgene_id \"ENSMUSG00000042360.13\"; transcript_id \"ENSMUST00000048921.13\"; gene_type \"lncRNA\"; gene_name \"4930433N12Rik\"; transcript_type \"lncRNA\"; transcript_name \"4930433N12Rik-201\"; level 2; transcript_support_level \"1\"; mgi_id \"MGI:2149746\"; tag \"basic\"; tag \"Ensembl_canonical\"; havana_gene \"OTTMUSG00000047480.1\"; havana_transcript \"OTTMUST00000122542.1\";\n",
            "chr9\tHAVANA\texon\t3199537\t3199782\t.\t-\t.\tgene_id \"ENSMUSG00000042360.13\"; transcript_id \"ENSMUST00000048921.13\"; gene_type \"lncRNA\"; gene_name \"4930433N12Rik\"; transcript_type \"lncRNA\"; transcript_name \"4930433N12Rik-201\"; exon_number 1; exon_id \"ENSMUSE00000704006.2\"; level 2; transcript_support_level \"1\"; mgi_id \"MGI:2149746\"; tag \"basic\"; tag \"Ensembl_canonical\"; havana_gene \"OTTMUSG00000047480.1\"; havana_transcript \"OTTMUST00000122542.1\";\n",
            "chr9\tHAVANA\texon\t3192820\t3193048\t.\t-\t.\tgene_id \"ENSMUSG00000042360.13\"; transcript_id \"ENSMUST00000048921.13\"; gene_type \"lncRNA\"; gene_name \"4930433N12Rik\"; transcript_type \"lncRNA\"; transcript_name \"4930433N12Rik-201\"; exon_number 2; exon_id \"ENSMUSE00000704005.2\"; level 2; transcript_support_level \"1\"; mgi_id \"MGI:2149746\"; tag \"basic\"; tag \"Ensembl_canonical\"; havana_gene \"OTTMUSG00000047480.1\"; havana_transcript \"OTTMUST00000122542.1\";\n",
            "chr9\tHAVANA\texon\t3192312\t3192412\t.\t-\t.\tgene_id \"ENSMUSG00000042360.13\"; transcript_id \"ENSMUST00000048921.13\"; gene_type \"lncRNA\"; gene_name \"4930433N12Rik\"; transcript_type \"lncRNA\"; transcript_name \"4930433N12Rik-201\"; exon_number 3; exon_id \"ENSMUSE00000704004.2\"; level 2; transcript_support_level \"1\"; mgi_id \"MGI:2149746\"; tag \"basic\"; tag \"Ensembl_canonical\"; havana_gene \"OTTMUSG00000047480.1\"; havana_transcript \"OTTMUST00000122542.1\";\n",
            "chr9\tHAVANA\texon\t3190583\t3190805\t.\t-\t.\tgene_id \"ENSMUSG00000042360.13\"; transcript_id \"ENSMUST00000048921.13\"; gene_type \"lncRNA\"; gene_name \"4930433N12Rik\"; transcript_type \"lncRNA\"; transcript_name \"4930433N12Rik-201\"; exon_number 4; exon_id \"ENSMUSE00000262182.5\"; level 2; transcript_support_level \"1\"; mgi_id \"MGI:2149746\"; tag \"basic\"; tag \"Ensembl_canonical\"; havana_gene \"OTTMUSG00000047480.1\"; havana_transcript \"OTTMUST00000122542.1\";\n",
            "chr9\tHAVANA\texon\t3134876\t3135102\t.\t-\t.\tgene_id \"ENSMUSG00000042360.13\"; transcript_id \"ENSMUST00000048921.13\"; gene_type \"lncRNA\"; gene_name \"4930433N12Rik\"; transcript_type \"lncRNA\"; transcript_name \"4930433N12Rik-201\"; exon_number 5; exon_id \"ENSMUSE00000262160.4\"; level 2; transcript_support_level \"1\"; mgi_id \"MGI:2149746\"; tag \"basic\"; tag \"Ensembl_canonical\"; havana_gene \"OTTMUSG00000047480.1\"; havana_transcript \"OTTMUST00000122542.1\";\n"
          ]
        }
      ]
    },
    {
      "cell_type": "code",
      "source": [
        "!awk -F'\\t' '{if ($3 == \"gene\") print $4}' gencode.vM32.chr9.gtf | sort -n | head -n 1\n",
        "!awk -F'\\t' '{if ($3 == \"gene\") print $4}' gencode.vM32.chr9.gtf | sort -n | tail -n 1"
      ],
      "metadata": {
        "colab": {
          "base_uri": "https://localhost:8080/"
        },
        "id": "L1KLh3PmbfRt",
        "outputId": "9eb4dfff-fe7f-42b9-b485-d3bf2578fbdc"
      },
      "execution_count": 7,
      "outputs": [
        {
          "output_type": "stream",
          "name": "stdout",
          "text": [
            "3038669\n",
            "124252714\n"
          ]
        }
      ]
    },
    {
      "cell_type": "code",
      "source": [
        "!samtools view -b -o CLIP-let7g.bam CLIP-35L33G.bam chr9:3038669-124252714\n",
        "!samtools view CLIP-let7g.bam | wc -l"
      ],
      "metadata": {
        "colab": {
          "base_uri": "https://localhost:8080/"
        },
        "id": "TszRspV4c9oH",
        "outputId": "8fac7763-3f3e-477b-b6a3-c09e5487d8b9"
      },
      "execution_count": 8,
      "outputs": [
        {
          "output_type": "stream",
          "name": "stdout",
          "text": [
            "1696159\n"
          ]
        }
      ]
    },
    {
      "cell_type": "code",
      "source": [
        "!samtools mpileup CLIP-let7g.bam 2>/dev/null > CLIP-let7g.pileup\n",
        "!wc -l CLIP-let7g.pileup"
      ],
      "metadata": {
        "colab": {
          "base_uri": "https://localhost:8080/"
        },
        "id": "me3Nx0ZxdLPm",
        "outputId": "864a7422-9b4a-4457-d61d-ddded9293004"
      },
      "execution_count": 9,
      "outputs": [
        {
          "output_type": "stream",
          "name": "stdout",
          "text": [
            "47303563 CLIP-let7g.pileup\n"
          ]
        }
      ]
    },
    {
      "cell_type": "code",
      "source": [
        "!awk '$2 >= 3038669 && $2 <= 124252714 { print $0; }' CLIP-let7g.pileup > CLIP-let7g-gene.pileup\n",
        "!tail -n 2 CLIP-let7g-gene.pileup"
      ],
      "metadata": {
        "colab": {
          "base_uri": "https://localhost:8080/"
        },
        "id": "T5uYzX3EdqG2",
        "outputId": "a9185b03-6780-4fab-862f-6928c48af11e"
      },
      "execution_count": 10,
      "outputs": [
        {
          "output_type": "stream",
          "name": "stdout",
          "text": [
            "chr9\t124252286\tN\t1\tc\tE\n",
            "chr9\t124252287\tN\t1\tc$\tD\n"
          ]
        }
      ]
    },
    {
      "cell_type": "code",
      "source": [
        "pileup = pd.read_csv('CLIP-let7g-gene.pileup', sep='\\t', names=['chrom', 'pos', '_ref', 'count', 'basereads', 'quals'])\n",
        "pileup.tail()"
      ],
      "metadata": {
        "colab": {
          "base_uri": "https://localhost:8080/",
          "height": 206
        },
        "id": "CCeyuqDje2VW",
        "outputId": "e697ce28-add4-4a6f-ff62-0f01a76bd4ff"
      },
      "execution_count": 13,
      "outputs": [
        {
          "output_type": "execute_result",
          "data": {
            "text/plain": [
              "         chrom        pos _ref  count basereads quals\n",
              "47303558  chr9  124252283    N      1         g     H\n",
              "47303559  chr9  124252284    N      1         g     G\n",
              "47303560  chr9  124252285    N      1         a     F\n",
              "47303561  chr9  124252286    N      1         c     E\n",
              "47303562  chr9  124252287    N      1        c$     D"
            ],
            "text/html": [
              "\n",
              "  <div id=\"df-917b3d84-ae80-49e9-bf6f-c8aed1f1ad84\">\n",
              "    <div class=\"colab-df-container\">\n",
              "      <div>\n",
              "<style scoped>\n",
              "    .dataframe tbody tr th:only-of-type {\n",
              "        vertical-align: middle;\n",
              "    }\n",
              "\n",
              "    .dataframe tbody tr th {\n",
              "        vertical-align: top;\n",
              "    }\n",
              "\n",
              "    .dataframe thead th {\n",
              "        text-align: right;\n",
              "    }\n",
              "</style>\n",
              "<table border=\"1\" class=\"dataframe\">\n",
              "  <thead>\n",
              "    <tr style=\"text-align: right;\">\n",
              "      <th></th>\n",
              "      <th>chrom</th>\n",
              "      <th>pos</th>\n",
              "      <th>_ref</th>\n",
              "      <th>count</th>\n",
              "      <th>basereads</th>\n",
              "      <th>quals</th>\n",
              "    </tr>\n",
              "  </thead>\n",
              "  <tbody>\n",
              "    <tr>\n",
              "      <th>47303558</th>\n",
              "      <td>chr9</td>\n",
              "      <td>124252283</td>\n",
              "      <td>N</td>\n",
              "      <td>1</td>\n",
              "      <td>g</td>\n",
              "      <td>H</td>\n",
              "    </tr>\n",
              "    <tr>\n",
              "      <th>47303559</th>\n",
              "      <td>chr9</td>\n",
              "      <td>124252284</td>\n",
              "      <td>N</td>\n",
              "      <td>1</td>\n",
              "      <td>g</td>\n",
              "      <td>G</td>\n",
              "    </tr>\n",
              "    <tr>\n",
              "      <th>47303560</th>\n",
              "      <td>chr9</td>\n",
              "      <td>124252285</td>\n",
              "      <td>N</td>\n",
              "      <td>1</td>\n",
              "      <td>a</td>\n",
              "      <td>F</td>\n",
              "    </tr>\n",
              "    <tr>\n",
              "      <th>47303561</th>\n",
              "      <td>chr9</td>\n",
              "      <td>124252286</td>\n",
              "      <td>N</td>\n",
              "      <td>1</td>\n",
              "      <td>c</td>\n",
              "      <td>E</td>\n",
              "    </tr>\n",
              "    <tr>\n",
              "      <th>47303562</th>\n",
              "      <td>chr9</td>\n",
              "      <td>124252287</td>\n",
              "      <td>N</td>\n",
              "      <td>1</td>\n",
              "      <td>c$</td>\n",
              "      <td>D</td>\n",
              "    </tr>\n",
              "  </tbody>\n",
              "</table>\n",
              "</div>\n",
              "      <button class=\"colab-df-convert\" onclick=\"convertToInteractive('df-917b3d84-ae80-49e9-bf6f-c8aed1f1ad84')\"\n",
              "              title=\"Convert this dataframe to an interactive table.\"\n",
              "              style=\"display:none;\">\n",
              "        \n",
              "  <svg xmlns=\"http://www.w3.org/2000/svg\" height=\"24px\"viewBox=\"0 0 24 24\"\n",
              "       width=\"24px\">\n",
              "    <path d=\"M0 0h24v24H0V0z\" fill=\"none\"/>\n",
              "    <path d=\"M18.56 5.44l.94 2.06.94-2.06 2.06-.94-2.06-.94-.94-2.06-.94 2.06-2.06.94zm-11 1L8.5 8.5l.94-2.06 2.06-.94-2.06-.94L8.5 2.5l-.94 2.06-2.06.94zm10 10l.94 2.06.94-2.06 2.06-.94-2.06-.94-.94-2.06-.94 2.06-2.06.94z\"/><path d=\"M17.41 7.96l-1.37-1.37c-.4-.4-.92-.59-1.43-.59-.52 0-1.04.2-1.43.59L10.3 9.45l-7.72 7.72c-.78.78-.78 2.05 0 2.83L4 21.41c.39.39.9.59 1.41.59.51 0 1.02-.2 1.41-.59l7.78-7.78 2.81-2.81c.8-.78.8-2.07 0-2.86zM5.41 20L4 18.59l7.72-7.72 1.47 1.35L5.41 20z\"/>\n",
              "  </svg>\n",
              "      </button>\n",
              "      \n",
              "  <style>\n",
              "    .colab-df-container {\n",
              "      display:flex;\n",
              "      flex-wrap:wrap;\n",
              "      gap: 12px;\n",
              "    }\n",
              "\n",
              "    .colab-df-convert {\n",
              "      background-color: #E8F0FE;\n",
              "      border: none;\n",
              "      border-radius: 50%;\n",
              "      cursor: pointer;\n",
              "      display: none;\n",
              "      fill: #1967D2;\n",
              "      height: 32px;\n",
              "      padding: 0 0 0 0;\n",
              "      width: 32px;\n",
              "    }\n",
              "\n",
              "    .colab-df-convert:hover {\n",
              "      background-color: #E2EBFA;\n",
              "      box-shadow: 0px 1px 2px rgba(60, 64, 67, 0.3), 0px 1px 3px 1px rgba(60, 64, 67, 0.15);\n",
              "      fill: #174EA6;\n",
              "    }\n",
              "\n",
              "    [theme=dark] .colab-df-convert {\n",
              "      background-color: #3B4455;\n",
              "      fill: #D2E3FC;\n",
              "    }\n",
              "\n",
              "    [theme=dark] .colab-df-convert:hover {\n",
              "      background-color: #434B5C;\n",
              "      box-shadow: 0px 1px 3px 1px rgba(0, 0, 0, 0.15);\n",
              "      filter: drop-shadow(0px 1px 2px rgba(0, 0, 0, 0.3));\n",
              "      fill: #FFFFFF;\n",
              "    }\n",
              "  </style>\n",
              "\n",
              "      <script>\n",
              "        const buttonEl =\n",
              "          document.querySelector('#df-917b3d84-ae80-49e9-bf6f-c8aed1f1ad84 button.colab-df-convert');\n",
              "        buttonEl.style.display =\n",
              "          google.colab.kernel.accessAllowed ? 'block' : 'none';\n",
              "\n",
              "        async function convertToInteractive(key) {\n",
              "          const element = document.querySelector('#df-917b3d84-ae80-49e9-bf6f-c8aed1f1ad84');\n",
              "          const dataTable =\n",
              "            await google.colab.kernel.invokeFunction('convertToInteractive',\n",
              "                                                     [key], {});\n",
              "          if (!dataTable) return;\n",
              "\n",
              "          const docLinkHtml = 'Like what you see? Visit the ' +\n",
              "            '<a target=\"_blank\" href=https://colab.research.google.com/notebooks/data_table.ipynb>data table notebook</a>'\n",
              "            + ' to learn more about interactive tables.';\n",
              "          element.innerHTML = '';\n",
              "          dataTable['output_type'] = 'display_data';\n",
              "          await google.colab.output.renderOutput(dataTable, element);\n",
              "          const docLink = document.createElement('div');\n",
              "          docLink.innerHTML = docLinkHtml;\n",
              "          element.appendChild(docLink);\n",
              "        }\n",
              "      </script>\n",
              "    </div>\n",
              "  </div>\n",
              "  "
            ]
          },
          "metadata": {},
          "execution_count": 13
        }
      ]
    },
    {
      "cell_type": "code",
      "source": [
        "count의 개수가 최대 / 최소 얼마이고 볼 만한 수준인지 확인"
      ],
      "metadata": {
        "id": "C5-Hd87LhEe1"
      },
      "execution_count": null,
      "outputs": []
    },
    {
      "cell_type": "code",
      "source": [
        "len(np.unique(pileup['count']))"
      ],
      "metadata": {
        "colab": {
          "base_uri": "https://localhost:8080/"
        },
        "id": "ZUVRFUq0kBY-",
        "outputId": "fd888c3d-0218-45be-c17e-487701664888"
      },
      "execution_count": 14,
      "outputs": [
        {
          "output_type": "execute_result",
          "data": {
            "text/plain": [
              "2443"
            ]
          },
          "metadata": {},
          "execution_count": 14
        }
      ]
    },
    {
      "cell_type": "code",
      "source": [
        "pileup['count'].describe()"
      ],
      "metadata": {
        "colab": {
          "base_uri": "https://localhost:8080/"
        },
        "id": "ZdHz2Glifq6U",
        "outputId": "817026b1-b964-4100-a9a9-e044eff6b9ef"
      },
      "execution_count": null,
      "outputs": [
        {
          "output_type": "execute_result",
          "data": {
            "text/plain": [
              "count    4.730356e+07\n",
              "mean     1.007026e+01\n",
              "std      3.933483e+01\n",
              "min      0.000000e+00\n",
              "25%      3.000000e+00\n",
              "50%      5.000000e+00\n",
              "75%      1.000000e+01\n",
              "max      7.983000e+03\n",
              "Name: count, dtype: float64"
            ]
          },
          "metadata": {},
          "execution_count": 44
        }
      ]
    },
    {
      "cell_type": "code",
      "source": [
        "np.max(pileup['count'])"
      ],
      "metadata": {
        "colab": {
          "base_uri": "https://localhost:8080/"
        },
        "id": "h96qAMijkFXi",
        "outputId": "94dc4bdf-040c-459f-9f1d-8e0584973172"
      },
      "execution_count": null,
      "outputs": [
        {
          "output_type": "execute_result",
          "data": {
            "text/plain": [
              "7983"
            ]
          },
          "metadata": {},
          "execution_count": 47
        }
      ]
    },
    {
      "cell_type": "markdown",
      "source": [
        "위를 보면 알수 있듯이 한 75%까지는 10개정도만 count되어 있는데, 무려 7983 read가 count되는 경우도 있음.  \n",
        "이경우는 좀 궁금하긴 하다만, 너무 크기 때문에, threshold <=130 reads로 두고 진행   \n",
        "(Shannon에서 depth 50으로 했으므로)"
      ],
      "metadata": {
        "id": "Ee07rqNgkvp3"
      }
    },
    {
      "cell_type": "code",
      "source": [
        "filter130pileup = pileup[pileup['count'] > 50]"
      ],
      "metadata": {
        "id": "ySd4VMiakPa4"
      },
      "execution_count": 15,
      "outputs": []
    },
    {
      "cell_type": "code",
      "source": [
        "len(np.unique(filter130pileup['count']))"
      ],
      "metadata": {
        "colab": {
          "base_uri": "https://localhost:8080/"
        },
        "id": "5H2WHsXqkeEh",
        "outputId": "fd6605ae-f8bc-4014-f7c2-f8818953f862"
      },
      "execution_count": 16,
      "outputs": [
        {
          "output_type": "execute_result",
          "data": {
            "text/plain": [
              "2392"
            ]
          },
          "metadata": {},
          "execution_count": 16
        }
      ]
    },
    {
      "cell_type": "code",
      "source": [
        "len(np.unique(filter130pileup['pos']))"
      ],
      "metadata": {
        "colab": {
          "base_uri": "https://localhost:8080/"
        },
        "id": "7d_gZXbIndXq",
        "outputId": "649dc06f-17db-45ae-8f80-f58f45e50a87"
      },
      "execution_count": 12,
      "outputs": [
        {
          "output_type": "execute_result",
          "data": {
            "text/plain": [
              "1044372"
            ]
          },
          "metadata": {},
          "execution_count": 12
        }
      ]
    },
    {
      "cell_type": "code",
      "source": [
        "filter130pileup['count'].describe()"
      ],
      "metadata": {
        "colab": {
          "base_uri": "https://localhost:8080/"
        },
        "id": "oh8Uz-iblXiT",
        "outputId": "518c7871-792f-4741-ed61-7fe087eebe28"
      },
      "execution_count": 13,
      "outputs": [
        {
          "output_type": "execute_result",
          "data": {
            "text/plain": [
              "count    1.044372e+06\n",
              "mean     1.360591e+02\n",
              "std      2.265502e+02\n",
              "min      5.100000e+01\n",
              "25%      5.900000e+01\n",
              "50%      7.500000e+01\n",
              "75%      1.230000e+02\n",
              "max      7.983000e+03\n",
              "Name: count, dtype: float64"
            ]
          },
          "metadata": {},
          "execution_count": 13
        }
      ]
    },
    {
      "cell_type": "code",
      "source": [
        "max(filter130pileup['pos']),max(filter130pileup['pos'])-min(filter130pileup['pos'])"
      ],
      "metadata": {
        "colab": {
          "base_uri": "https://localhost:8080/"
        },
        "id": "-G-TKmS2m0bj",
        "outputId": "dd115983-50f3-419f-b6d2-b90bf79e19fa"
      },
      "execution_count": 14,
      "outputs": [
        {
          "output_type": "execute_result",
          "data": {
            "text/plain": [
              "(123519204, 120260609)"
            ]
          },
          "metadata": {},
          "execution_count": 14
        }
      ]
    },
    {
      "cell_type": "markdown",
      "source": [
        "match와 substitution, deletion을 사용할 것이므로, 나머지에 해당하는 tag들은 제거.  \n",
        "**여기서 Deletion은 포함하는 경우를 고려하는 것을 고민할 것**"
      ],
      "metadata": {
        "id": "dZjYsCGNlWU_"
      }
    },
    {
      "cell_type": "code",
      "source": [
        "toremove = re.compile(r'[<>$*#+-]|\\^.')\n",
        "filter130pileup.loc[:, 'matches'] = filter130pileup['basereads'].apply(lambda x: toremove.sub('', x))"
      ],
      "metadata": {
        "colab": {
          "base_uri": "https://localhost:8080/"
        },
        "id": "M9aQMeXsm6MK",
        "outputId": "bdc1d23a-1269-40b8-b4e9-04913b52f5dc"
      },
      "execution_count": 17,
      "outputs": [
        {
          "output_type": "stream",
          "name": "stderr",
          "text": [
            "<ipython-input-17-150fc2d60f7b>:2: SettingWithCopyWarning: \n",
            "A value is trying to be set on a copy of a slice from a DataFrame.\n",
            "Try using .loc[row_indexer,col_indexer] = value instead\n",
            "\n",
            "See the caveats in the documentation: https://pandas.pydata.org/pandas-docs/stable/user_guide/indexing.html#returning-a-view-versus-a-copy\n",
            "  filter130pileup.loc[:, 'matches'] = filter130pileup['basereads'].apply(lambda x: toremove.sub('', x))\n"
          ]
        }
      ]
    },
    {
      "cell_type": "code",
      "source": [
        "filter130pileup[['chrom', 'pos', 'matches']].head()"
      ],
      "metadata": {
        "colab": {
          "base_uri": "https://localhost:8080/",
          "height": 206
        },
        "id": "9JMYEv04nuE5",
        "outputId": "4dc929c7-f290-49ac-fc70-28d29c7fa006"
      },
      "execution_count": 18,
      "outputs": [
        {
          "output_type": "execute_result",
          "data": {
            "text/plain": [
              "    chrom      pos                                            matches\n",
              "835  chr9  3258595  gagggggggggagagggaggggggggagaggggggggggggggggg...\n",
              "836  chr9  3258596  tttttttttttttttttttttttttttttttttttttttttttttt...\n",
              "837  chr9  3258597  tttttttttatttttttttttttttttttttttttttttttttttt...\n",
              "838  chr9  3258598  cccccccccccccccccccccccccccccccccccccccccccccc...\n",
              "839  chr9  3258599  aaaaaaaaaaaaaaaaaaaaaaaaaaaaaaaaaaaaaaaaaaaaaa..."
            ],
            "text/html": [
              "\n",
              "  <div id=\"df-e66fe579-aeb5-4168-a0e4-545412282252\">\n",
              "    <div class=\"colab-df-container\">\n",
              "      <div>\n",
              "<style scoped>\n",
              "    .dataframe tbody tr th:only-of-type {\n",
              "        vertical-align: middle;\n",
              "    }\n",
              "\n",
              "    .dataframe tbody tr th {\n",
              "        vertical-align: top;\n",
              "    }\n",
              "\n",
              "    .dataframe thead th {\n",
              "        text-align: right;\n",
              "    }\n",
              "</style>\n",
              "<table border=\"1\" class=\"dataframe\">\n",
              "  <thead>\n",
              "    <tr style=\"text-align: right;\">\n",
              "      <th></th>\n",
              "      <th>chrom</th>\n",
              "      <th>pos</th>\n",
              "      <th>matches</th>\n",
              "    </tr>\n",
              "  </thead>\n",
              "  <tbody>\n",
              "    <tr>\n",
              "      <th>835</th>\n",
              "      <td>chr9</td>\n",
              "      <td>3258595</td>\n",
              "      <td>gagggggggggagagggaggggggggagaggggggggggggggggg...</td>\n",
              "    </tr>\n",
              "    <tr>\n",
              "      <th>836</th>\n",
              "      <td>chr9</td>\n",
              "      <td>3258596</td>\n",
              "      <td>tttttttttttttttttttttttttttttttttttttttttttttt...</td>\n",
              "    </tr>\n",
              "    <tr>\n",
              "      <th>837</th>\n",
              "      <td>chr9</td>\n",
              "      <td>3258597</td>\n",
              "      <td>tttttttttatttttttttttttttttttttttttttttttttttt...</td>\n",
              "    </tr>\n",
              "    <tr>\n",
              "      <th>838</th>\n",
              "      <td>chr9</td>\n",
              "      <td>3258598</td>\n",
              "      <td>cccccccccccccccccccccccccccccccccccccccccccccc...</td>\n",
              "    </tr>\n",
              "    <tr>\n",
              "      <th>839</th>\n",
              "      <td>chr9</td>\n",
              "      <td>3258599</td>\n",
              "      <td>aaaaaaaaaaaaaaaaaaaaaaaaaaaaaaaaaaaaaaaaaaaaaa...</td>\n",
              "    </tr>\n",
              "  </tbody>\n",
              "</table>\n",
              "</div>\n",
              "      <button class=\"colab-df-convert\" onclick=\"convertToInteractive('df-e66fe579-aeb5-4168-a0e4-545412282252')\"\n",
              "              title=\"Convert this dataframe to an interactive table.\"\n",
              "              style=\"display:none;\">\n",
              "        \n",
              "  <svg xmlns=\"http://www.w3.org/2000/svg\" height=\"24px\"viewBox=\"0 0 24 24\"\n",
              "       width=\"24px\">\n",
              "    <path d=\"M0 0h24v24H0V0z\" fill=\"none\"/>\n",
              "    <path d=\"M18.56 5.44l.94 2.06.94-2.06 2.06-.94-2.06-.94-.94-2.06-.94 2.06-2.06.94zm-11 1L8.5 8.5l.94-2.06 2.06-.94-2.06-.94L8.5 2.5l-.94 2.06-2.06.94zm10 10l.94 2.06.94-2.06 2.06-.94-2.06-.94-.94-2.06-.94 2.06-2.06.94z\"/><path d=\"M17.41 7.96l-1.37-1.37c-.4-.4-.92-.59-1.43-.59-.52 0-1.04.2-1.43.59L10.3 9.45l-7.72 7.72c-.78.78-.78 2.05 0 2.83L4 21.41c.39.39.9.59 1.41.59.51 0 1.02-.2 1.41-.59l7.78-7.78 2.81-2.81c.8-.78.8-2.07 0-2.86zM5.41 20L4 18.59l7.72-7.72 1.47 1.35L5.41 20z\"/>\n",
              "  </svg>\n",
              "      </button>\n",
              "      \n",
              "  <style>\n",
              "    .colab-df-container {\n",
              "      display:flex;\n",
              "      flex-wrap:wrap;\n",
              "      gap: 12px;\n",
              "    }\n",
              "\n",
              "    .colab-df-convert {\n",
              "      background-color: #E8F0FE;\n",
              "      border: none;\n",
              "      border-radius: 50%;\n",
              "      cursor: pointer;\n",
              "      display: none;\n",
              "      fill: #1967D2;\n",
              "      height: 32px;\n",
              "      padding: 0 0 0 0;\n",
              "      width: 32px;\n",
              "    }\n",
              "\n",
              "    .colab-df-convert:hover {\n",
              "      background-color: #E2EBFA;\n",
              "      box-shadow: 0px 1px 2px rgba(60, 64, 67, 0.3), 0px 1px 3px 1px rgba(60, 64, 67, 0.15);\n",
              "      fill: #174EA6;\n",
              "    }\n",
              "\n",
              "    [theme=dark] .colab-df-convert {\n",
              "      background-color: #3B4455;\n",
              "      fill: #D2E3FC;\n",
              "    }\n",
              "\n",
              "    [theme=dark] .colab-df-convert:hover {\n",
              "      background-color: #434B5C;\n",
              "      box-shadow: 0px 1px 3px 1px rgba(0, 0, 0, 0.15);\n",
              "      filter: drop-shadow(0px 1px 2px rgba(0, 0, 0, 0.3));\n",
              "      fill: #FFFFFF;\n",
              "    }\n",
              "  </style>\n",
              "\n",
              "      <script>\n",
              "        const buttonEl =\n",
              "          document.querySelector('#df-e66fe579-aeb5-4168-a0e4-545412282252 button.colab-df-convert');\n",
              "        buttonEl.style.display =\n",
              "          google.colab.kernel.accessAllowed ? 'block' : 'none';\n",
              "\n",
              "        async function convertToInteractive(key) {\n",
              "          const element = document.querySelector('#df-e66fe579-aeb5-4168-a0e4-545412282252');\n",
              "          const dataTable =\n",
              "            await google.colab.kernel.invokeFunction('convertToInteractive',\n",
              "                                                     [key], {});\n",
              "          if (!dataTable) return;\n",
              "\n",
              "          const docLinkHtml = 'Like what you see? Visit the ' +\n",
              "            '<a target=\"_blank\" href=https://colab.research.google.com/notebooks/data_table.ipynb>data table notebook</a>'\n",
              "            + ' to learn more about interactive tables.';\n",
              "          element.innerHTML = '';\n",
              "          dataTable['output_type'] = 'display_data';\n",
              "          await google.colab.output.renderOutput(dataTable, element);\n",
              "          const docLink = document.createElement('div');\n",
              "          docLink.innerHTML = docLinkHtml;\n",
              "          element.appendChild(docLink);\n",
              "        }\n",
              "      </script>\n",
              "    </div>\n",
              "  </div>\n",
              "  "
            ]
          },
          "metadata": {},
          "execution_count": 18
        }
      ]
    },
    {
      "cell_type": "markdown",
      "source": [
        "Deletion상관 없이 Insertion하고 Hard-clipped read만 제외"
      ],
      "metadata": {
        "id": "o3s5uS1pqN9O"
      }
    },
    {
      "cell_type": "code",
      "source": [
        "filter130pileup['base_count'] = filter130pileup['matches'].apply(lambda x: len([c for c in x if c != 'H' and c != 'I']))\n",
        "filter130pileup.head()"
      ],
      "metadata": {
        "colab": {
          "base_uri": "https://localhost:8080/",
          "height": 401
        },
        "id": "1y1ZXtEyqHEW",
        "outputId": "d4db3aad-4ab7-4521-9cf2-008c45011d61"
      },
      "execution_count": 19,
      "outputs": [
        {
          "output_type": "stream",
          "name": "stderr",
          "text": [
            "<ipython-input-19-80f731dc1106>:1: SettingWithCopyWarning: \n",
            "A value is trying to be set on a copy of a slice from a DataFrame.\n",
            "Try using .loc[row_indexer,col_indexer] = value instead\n",
            "\n",
            "See the caveats in the documentation: https://pandas.pydata.org/pandas-docs/stable/user_guide/indexing.html#returning-a-view-versus-a-copy\n",
            "  filter130pileup['base_count'] = filter130pileup['matches'].apply(lambda x: len([c for c in x if c != 'H' and c != 'I']))\n"
          ]
        },
        {
          "output_type": "execute_result",
          "data": {
            "text/plain": [
              "    chrom      pos _ref  count  \\\n",
              "835  chr9  3258595    N     80   \n",
              "836  chr9  3258596    N    116   \n",
              "837  chr9  3258597    N    120   \n",
              "838  chr9  3258598    N    119   \n",
              "839  chr9  3258599    N    131   \n",
              "\n",
              "                                             basereads  \\\n",
              "835  gagggggggggagagggaggggggggagaggggg^Ig^$g^Gg^Gg...   \n",
              "836  tttttttttttttttttttttttttttttttttttttttttttttt...   \n",
              "837  tttttttttatttttttttttttttttttttttttttttttttttt...   \n",
              "838  cccccccccccccccccccccccccccccccccccccccccccccc...   \n",
              "839  aaaaaaaaaaaaaaaaaaaaaaaaaaaaaaaaaaaaaaaaaaaaaa...   \n",
              "\n",
              "                                                 quals  \\\n",
              "835  GEHD4@I@DGHIIBIGIIII>GHHII8G=2>GGGII:GBI=EIGIF...   \n",
              "836  HEIGD=IGGDIIIBIIIIII9GEHIHEGG?GG@GII@GGH3DIGII...   \n",
              "837  FEIDD8IBGDIII<IGIIII<GHHIIGGG;EEGGIH:EGIAGEGII...   \n",
              "838  HHIED2IE3EIIH?FIIIGI<GHHIHGGG?>BB>GI7FEH?GCGFI...   \n",
              "839  HGI@=;IEHBIIIBIIIIII<FGHIH<GG=HGDGHI6E@I?EEFIH...   \n",
              "\n",
              "                                               matches  base_count  \n",
              "835  gagggggggggagagggaggggggggagaggggggggggggggggg...          80  \n",
              "836  tttttttttttttttttttttttttttttttttttttttttttttt...         116  \n",
              "837  tttttttttatttttttttttttttttttttttttttttttttttt...         120  \n",
              "838  cccccccccccccccccccccccccccccccccccccccccccccc...         119  \n",
              "839  aaaaaaaaaaaaaaaaaaaaaaaaaaaaaaaaaaaaaaaaaaaaaa...         131  "
            ],
            "text/html": [
              "\n",
              "  <div id=\"df-6ef6f45d-f09e-412a-b1f8-d169605faf4a\">\n",
              "    <div class=\"colab-df-container\">\n",
              "      <div>\n",
              "<style scoped>\n",
              "    .dataframe tbody tr th:only-of-type {\n",
              "        vertical-align: middle;\n",
              "    }\n",
              "\n",
              "    .dataframe tbody tr th {\n",
              "        vertical-align: top;\n",
              "    }\n",
              "\n",
              "    .dataframe thead th {\n",
              "        text-align: right;\n",
              "    }\n",
              "</style>\n",
              "<table border=\"1\" class=\"dataframe\">\n",
              "  <thead>\n",
              "    <tr style=\"text-align: right;\">\n",
              "      <th></th>\n",
              "      <th>chrom</th>\n",
              "      <th>pos</th>\n",
              "      <th>_ref</th>\n",
              "      <th>count</th>\n",
              "      <th>basereads</th>\n",
              "      <th>quals</th>\n",
              "      <th>matches</th>\n",
              "      <th>base_count</th>\n",
              "    </tr>\n",
              "  </thead>\n",
              "  <tbody>\n",
              "    <tr>\n",
              "      <th>835</th>\n",
              "      <td>chr9</td>\n",
              "      <td>3258595</td>\n",
              "      <td>N</td>\n",
              "      <td>80</td>\n",
              "      <td>gagggggggggagagggaggggggggagaggggg^Ig^$g^Gg^Gg...</td>\n",
              "      <td>GEHD4@I@DGHIIBIGIIII&gt;GHHII8G=2&gt;GGGII:GBI=EIGIF...</td>\n",
              "      <td>gagggggggggagagggaggggggggagaggggggggggggggggg...</td>\n",
              "      <td>80</td>\n",
              "    </tr>\n",
              "    <tr>\n",
              "      <th>836</th>\n",
              "      <td>chr9</td>\n",
              "      <td>3258596</td>\n",
              "      <td>N</td>\n",
              "      <td>116</td>\n",
              "      <td>tttttttttttttttttttttttttttttttttttttttttttttt...</td>\n",
              "      <td>HEIGD=IGGDIIIBIIIIII9GEHIHEGG?GG@GII@GGH3DIGII...</td>\n",
              "      <td>tttttttttttttttttttttttttttttttttttttttttttttt...</td>\n",
              "      <td>116</td>\n",
              "    </tr>\n",
              "    <tr>\n",
              "      <th>837</th>\n",
              "      <td>chr9</td>\n",
              "      <td>3258597</td>\n",
              "      <td>N</td>\n",
              "      <td>120</td>\n",
              "      <td>tttttttttatttttttttttttttttttttttttttttttttttt...</td>\n",
              "      <td>FEIDD8IBGDIII&lt;IGIIII&lt;GHHIIGGG;EEGGIH:EGIAGEGII...</td>\n",
              "      <td>tttttttttatttttttttttttttttttttttttttttttttttt...</td>\n",
              "      <td>120</td>\n",
              "    </tr>\n",
              "    <tr>\n",
              "      <th>838</th>\n",
              "      <td>chr9</td>\n",
              "      <td>3258598</td>\n",
              "      <td>N</td>\n",
              "      <td>119</td>\n",
              "      <td>cccccccccccccccccccccccccccccccccccccccccccccc...</td>\n",
              "      <td>HHIED2IE3EIIH?FIIIGI&lt;GHHIHGGG?&gt;BB&gt;GI7FEH?GCGFI...</td>\n",
              "      <td>cccccccccccccccccccccccccccccccccccccccccccccc...</td>\n",
              "      <td>119</td>\n",
              "    </tr>\n",
              "    <tr>\n",
              "      <th>839</th>\n",
              "      <td>chr9</td>\n",
              "      <td>3258599</td>\n",
              "      <td>N</td>\n",
              "      <td>131</td>\n",
              "      <td>aaaaaaaaaaaaaaaaaaaaaaaaaaaaaaaaaaaaaaaaaaaaaa...</td>\n",
              "      <td>HGI@=;IEHBIIIBIIIIII&lt;FGHIH&lt;GG=HGDGHI6E@I?EEFIH...</td>\n",
              "      <td>aaaaaaaaaaaaaaaaaaaaaaaaaaaaaaaaaaaaaaaaaaaaaa...</td>\n",
              "      <td>131</td>\n",
              "    </tr>\n",
              "  </tbody>\n",
              "</table>\n",
              "</div>\n",
              "      <button class=\"colab-df-convert\" onclick=\"convertToInteractive('df-6ef6f45d-f09e-412a-b1f8-d169605faf4a')\"\n",
              "              title=\"Convert this dataframe to an interactive table.\"\n",
              "              style=\"display:none;\">\n",
              "        \n",
              "  <svg xmlns=\"http://www.w3.org/2000/svg\" height=\"24px\"viewBox=\"0 0 24 24\"\n",
              "       width=\"24px\">\n",
              "    <path d=\"M0 0h24v24H0V0z\" fill=\"none\"/>\n",
              "    <path d=\"M18.56 5.44l.94 2.06.94-2.06 2.06-.94-2.06-.94-.94-2.06-.94 2.06-2.06.94zm-11 1L8.5 8.5l.94-2.06 2.06-.94-2.06-.94L8.5 2.5l-.94 2.06-2.06.94zm10 10l.94 2.06.94-2.06 2.06-.94-2.06-.94-.94-2.06-.94 2.06-2.06.94z\"/><path d=\"M17.41 7.96l-1.37-1.37c-.4-.4-.92-.59-1.43-.59-.52 0-1.04.2-1.43.59L10.3 9.45l-7.72 7.72c-.78.78-.78 2.05 0 2.83L4 21.41c.39.39.9.59 1.41.59.51 0 1.02-.2 1.41-.59l7.78-7.78 2.81-2.81c.8-.78.8-2.07 0-2.86zM5.41 20L4 18.59l7.72-7.72 1.47 1.35L5.41 20z\"/>\n",
              "  </svg>\n",
              "      </button>\n",
              "      \n",
              "  <style>\n",
              "    .colab-df-container {\n",
              "      display:flex;\n",
              "      flex-wrap:wrap;\n",
              "      gap: 12px;\n",
              "    }\n",
              "\n",
              "    .colab-df-convert {\n",
              "      background-color: #E8F0FE;\n",
              "      border: none;\n",
              "      border-radius: 50%;\n",
              "      cursor: pointer;\n",
              "      display: none;\n",
              "      fill: #1967D2;\n",
              "      height: 32px;\n",
              "      padding: 0 0 0 0;\n",
              "      width: 32px;\n",
              "    }\n",
              "\n",
              "    .colab-df-convert:hover {\n",
              "      background-color: #E2EBFA;\n",
              "      box-shadow: 0px 1px 2px rgba(60, 64, 67, 0.3), 0px 1px 3px 1px rgba(60, 64, 67, 0.15);\n",
              "      fill: #174EA6;\n",
              "    }\n",
              "\n",
              "    [theme=dark] .colab-df-convert {\n",
              "      background-color: #3B4455;\n",
              "      fill: #D2E3FC;\n",
              "    }\n",
              "\n",
              "    [theme=dark] .colab-df-convert:hover {\n",
              "      background-color: #434B5C;\n",
              "      box-shadow: 0px 1px 3px 1px rgba(0, 0, 0, 0.15);\n",
              "      filter: drop-shadow(0px 1px 2px rgba(0, 0, 0, 0.3));\n",
              "      fill: #FFFFFF;\n",
              "    }\n",
              "  </style>\n",
              "\n",
              "      <script>\n",
              "        const buttonEl =\n",
              "          document.querySelector('#df-6ef6f45d-f09e-412a-b1f8-d169605faf4a button.colab-df-convert');\n",
              "        buttonEl.style.display =\n",
              "          google.colab.kernel.accessAllowed ? 'block' : 'none';\n",
              "\n",
              "        async function convertToInteractive(key) {\n",
              "          const element = document.querySelector('#df-6ef6f45d-f09e-412a-b1f8-d169605faf4a');\n",
              "          const dataTable =\n",
              "            await google.colab.kernel.invokeFunction('convertToInteractive',\n",
              "                                                     [key], {});\n",
              "          if (!dataTable) return;\n",
              "\n",
              "          const docLinkHtml = 'Like what you see? Visit the ' +\n",
              "            '<a target=\"_blank\" href=https://colab.research.google.com/notebooks/data_table.ipynb>data table notebook</a>'\n",
              "            + ' to learn more about interactive tables.';\n",
              "          element.innerHTML = '';\n",
              "          dataTable['output_type'] = 'display_data';\n",
              "          await google.colab.output.renderOutput(dataTable, element);\n",
              "          const docLink = document.createElement('div');\n",
              "          docLink.innerHTML = docLinkHtml;\n",
              "          element.appendChild(docLink);\n",
              "        }\n",
              "      </script>\n",
              "    </div>\n",
              "  </div>\n",
              "  "
            ]
          },
          "metadata": {},
          "execution_count": 19
        }
      ]
    },
    {
      "cell_type": "code",
      "source": [
        "np.unique(filter130pileup['base_count'])"
      ],
      "metadata": {
        "colab": {
          "base_uri": "https://localhost:8080/"
        },
        "id": "aX5DjWZcqnag",
        "outputId": "c64cc000-1223-4d9f-a3b0-da1b8c0f3b51"
      },
      "execution_count": 20,
      "outputs": [
        {
          "output_type": "execute_result",
          "data": {
            "text/plain": [
              "array([    0,     1,     2, ...,  9308, 10219, 10269])"
            ]
          },
          "metadata": {},
          "execution_count": 20
        }
      ]
    },
    {
      "cell_type": "markdown",
      "source": [
        "Colab RAM사용 제한 상, 데이터가 날라가는 것을 방지하기 위해 일단 결과 csv 저장"
      ],
      "metadata": {
        "id": "E_0_hO3StYR4"
      }
    },
    {
      "cell_type": "code",
      "source": [
        "filter130pileup.to_csv('filter130pileup.csv', index=True)"
      ],
      "metadata": {
        "id": "Eq6jlhtctXta"
      },
      "execution_count": null,
      "outputs": []
    },
    {
      "cell_type": "markdown",
      "source": [
        "RAM 사용량 상, 작업을 다른 주피터 노트북에 작성"
      ],
      "metadata": {
        "id": "M8Tg7A74q36Z"
      }
    },
    {
      "cell_type": "code",
      "source": [
        "filter130pileup.head()"
      ],
      "metadata": {
        "colab": {
          "base_uri": "https://localhost:8080/",
          "height": 287
        },
        "id": "dwPHY6D5xWpK",
        "outputId": "286f4763-96bd-450d-bf6d-949f2fdfd359"
      },
      "execution_count": 21,
      "outputs": [
        {
          "output_type": "execute_result",
          "data": {
            "text/plain": [
              "    chrom      pos _ref  count  \\\n",
              "835  chr9  3258595    N     80   \n",
              "836  chr9  3258596    N    116   \n",
              "837  chr9  3258597    N    120   \n",
              "838  chr9  3258598    N    119   \n",
              "839  chr9  3258599    N    131   \n",
              "\n",
              "                                             basereads  \\\n",
              "835  gagggggggggagagggaggggggggagaggggg^Ig^$g^Gg^Gg...   \n",
              "836  tttttttttttttttttttttttttttttttttttttttttttttt...   \n",
              "837  tttttttttatttttttttttttttttttttttttttttttttttt...   \n",
              "838  cccccccccccccccccccccccccccccccccccccccccccccc...   \n",
              "839  aaaaaaaaaaaaaaaaaaaaaaaaaaaaaaaaaaaaaaaaaaaaaa...   \n",
              "\n",
              "                                                 quals  \\\n",
              "835  GEHD4@I@DGHIIBIGIIII>GHHII8G=2>GGGII:GBI=EIGIF...   \n",
              "836  HEIGD=IGGDIIIBIIIIII9GEHIHEGG?GG@GII@GGH3DIGII...   \n",
              "837  FEIDD8IBGDIII<IGIIII<GHHIIGGG;EEGGIH:EGIAGEGII...   \n",
              "838  HHIED2IE3EIIH?FIIIGI<GHHIHGGG?>BB>GI7FEH?GCGFI...   \n",
              "839  HGI@=;IEHBIIIBIIIIII<FGHIH<GG=HGDGHI6E@I?EEFIH...   \n",
              "\n",
              "                                               matches  base_count  \n",
              "835  gagggggggggagagggaggggggggagaggggggggggggggggg...          80  \n",
              "836  tttttttttttttttttttttttttttttttttttttttttttttt...         116  \n",
              "837  tttttttttatttttttttttttttttttttttttttttttttttt...         120  \n",
              "838  cccccccccccccccccccccccccccccccccccccccccccccc...         119  \n",
              "839  aaaaaaaaaaaaaaaaaaaaaaaaaaaaaaaaaaaaaaaaaaaaaa...         131  "
            ],
            "text/html": [
              "\n",
              "  <div id=\"df-0eb4bfc7-3ff4-4447-8e2c-942aa6b27761\">\n",
              "    <div class=\"colab-df-container\">\n",
              "      <div>\n",
              "<style scoped>\n",
              "    .dataframe tbody tr th:only-of-type {\n",
              "        vertical-align: middle;\n",
              "    }\n",
              "\n",
              "    .dataframe tbody tr th {\n",
              "        vertical-align: top;\n",
              "    }\n",
              "\n",
              "    .dataframe thead th {\n",
              "        text-align: right;\n",
              "    }\n",
              "</style>\n",
              "<table border=\"1\" class=\"dataframe\">\n",
              "  <thead>\n",
              "    <tr style=\"text-align: right;\">\n",
              "      <th></th>\n",
              "      <th>chrom</th>\n",
              "      <th>pos</th>\n",
              "      <th>_ref</th>\n",
              "      <th>count</th>\n",
              "      <th>basereads</th>\n",
              "      <th>quals</th>\n",
              "      <th>matches</th>\n",
              "      <th>base_count</th>\n",
              "    </tr>\n",
              "  </thead>\n",
              "  <tbody>\n",
              "    <tr>\n",
              "      <th>835</th>\n",
              "      <td>chr9</td>\n",
              "      <td>3258595</td>\n",
              "      <td>N</td>\n",
              "      <td>80</td>\n",
              "      <td>gagggggggggagagggaggggggggagaggggg^Ig^$g^Gg^Gg...</td>\n",
              "      <td>GEHD4@I@DGHIIBIGIIII&gt;GHHII8G=2&gt;GGGII:GBI=EIGIF...</td>\n",
              "      <td>gagggggggggagagggaggggggggagaggggggggggggggggg...</td>\n",
              "      <td>80</td>\n",
              "    </tr>\n",
              "    <tr>\n",
              "      <th>836</th>\n",
              "      <td>chr9</td>\n",
              "      <td>3258596</td>\n",
              "      <td>N</td>\n",
              "      <td>116</td>\n",
              "      <td>tttttttttttttttttttttttttttttttttttttttttttttt...</td>\n",
              "      <td>HEIGD=IGGDIIIBIIIIII9GEHIHEGG?GG@GII@GGH3DIGII...</td>\n",
              "      <td>tttttttttttttttttttttttttttttttttttttttttttttt...</td>\n",
              "      <td>116</td>\n",
              "    </tr>\n",
              "    <tr>\n",
              "      <th>837</th>\n",
              "      <td>chr9</td>\n",
              "      <td>3258597</td>\n",
              "      <td>N</td>\n",
              "      <td>120</td>\n",
              "      <td>tttttttttatttttttttttttttttttttttttttttttttttt...</td>\n",
              "      <td>FEIDD8IBGDIII&lt;IGIIII&lt;GHHIIGGG;EEGGIH:EGIAGEGII...</td>\n",
              "      <td>tttttttttatttttttttttttttttttttttttttttttttttt...</td>\n",
              "      <td>120</td>\n",
              "    </tr>\n",
              "    <tr>\n",
              "      <th>838</th>\n",
              "      <td>chr9</td>\n",
              "      <td>3258598</td>\n",
              "      <td>N</td>\n",
              "      <td>119</td>\n",
              "      <td>cccccccccccccccccccccccccccccccccccccccccccccc...</td>\n",
              "      <td>HHIED2IE3EIIH?FIIIGI&lt;GHHIHGGG?&gt;BB&gt;GI7FEH?GCGFI...</td>\n",
              "      <td>cccccccccccccccccccccccccccccccccccccccccccccc...</td>\n",
              "      <td>119</td>\n",
              "    </tr>\n",
              "    <tr>\n",
              "      <th>839</th>\n",
              "      <td>chr9</td>\n",
              "      <td>3258599</td>\n",
              "      <td>N</td>\n",
              "      <td>131</td>\n",
              "      <td>aaaaaaaaaaaaaaaaaaaaaaaaaaaaaaaaaaaaaaaaaaaaaa...</td>\n",
              "      <td>HGI@=;IEHBIIIBIIIIII&lt;FGHIH&lt;GG=HGDGHI6E@I?EEFIH...</td>\n",
              "      <td>aaaaaaaaaaaaaaaaaaaaaaaaaaaaaaaaaaaaaaaaaaaaaa...</td>\n",
              "      <td>131</td>\n",
              "    </tr>\n",
              "  </tbody>\n",
              "</table>\n",
              "</div>\n",
              "      <button class=\"colab-df-convert\" onclick=\"convertToInteractive('df-0eb4bfc7-3ff4-4447-8e2c-942aa6b27761')\"\n",
              "              title=\"Convert this dataframe to an interactive table.\"\n",
              "              style=\"display:none;\">\n",
              "        \n",
              "  <svg xmlns=\"http://www.w3.org/2000/svg\" height=\"24px\"viewBox=\"0 0 24 24\"\n",
              "       width=\"24px\">\n",
              "    <path d=\"M0 0h24v24H0V0z\" fill=\"none\"/>\n",
              "    <path d=\"M18.56 5.44l.94 2.06.94-2.06 2.06-.94-2.06-.94-.94-2.06-.94 2.06-2.06.94zm-11 1L8.5 8.5l.94-2.06 2.06-.94-2.06-.94L8.5 2.5l-.94 2.06-2.06.94zm10 10l.94 2.06.94-2.06 2.06-.94-2.06-.94-.94-2.06-.94 2.06-2.06.94z\"/><path d=\"M17.41 7.96l-1.37-1.37c-.4-.4-.92-.59-1.43-.59-.52 0-1.04.2-1.43.59L10.3 9.45l-7.72 7.72c-.78.78-.78 2.05 0 2.83L4 21.41c.39.39.9.59 1.41.59.51 0 1.02-.2 1.41-.59l7.78-7.78 2.81-2.81c.8-.78.8-2.07 0-2.86zM5.41 20L4 18.59l7.72-7.72 1.47 1.35L5.41 20z\"/>\n",
              "  </svg>\n",
              "      </button>\n",
              "      \n",
              "  <style>\n",
              "    .colab-df-container {\n",
              "      display:flex;\n",
              "      flex-wrap:wrap;\n",
              "      gap: 12px;\n",
              "    }\n",
              "\n",
              "    .colab-df-convert {\n",
              "      background-color: #E8F0FE;\n",
              "      border: none;\n",
              "      border-radius: 50%;\n",
              "      cursor: pointer;\n",
              "      display: none;\n",
              "      fill: #1967D2;\n",
              "      height: 32px;\n",
              "      padding: 0 0 0 0;\n",
              "      width: 32px;\n",
              "    }\n",
              "\n",
              "    .colab-df-convert:hover {\n",
              "      background-color: #E2EBFA;\n",
              "      box-shadow: 0px 1px 2px rgba(60, 64, 67, 0.3), 0px 1px 3px 1px rgba(60, 64, 67, 0.15);\n",
              "      fill: #174EA6;\n",
              "    }\n",
              "\n",
              "    [theme=dark] .colab-df-convert {\n",
              "      background-color: #3B4455;\n",
              "      fill: #D2E3FC;\n",
              "    }\n",
              "\n",
              "    [theme=dark] .colab-df-convert:hover {\n",
              "      background-color: #434B5C;\n",
              "      box-shadow: 0px 1px 3px 1px rgba(0, 0, 0, 0.15);\n",
              "      filter: drop-shadow(0px 1px 2px rgba(0, 0, 0, 0.3));\n",
              "      fill: #FFFFFF;\n",
              "    }\n",
              "  </style>\n",
              "\n",
              "      <script>\n",
              "        const buttonEl =\n",
              "          document.querySelector('#df-0eb4bfc7-3ff4-4447-8e2c-942aa6b27761 button.colab-df-convert');\n",
              "        buttonEl.style.display =\n",
              "          google.colab.kernel.accessAllowed ? 'block' : 'none';\n",
              "\n",
              "        async function convertToInteractive(key) {\n",
              "          const element = document.querySelector('#df-0eb4bfc7-3ff4-4447-8e2c-942aa6b27761');\n",
              "          const dataTable =\n",
              "            await google.colab.kernel.invokeFunction('convertToInteractive',\n",
              "                                                     [key], {});\n",
              "          if (!dataTable) return;\n",
              "\n",
              "          const docLinkHtml = 'Like what you see? Visit the ' +\n",
              "            '<a target=\"_blank\" href=https://colab.research.google.com/notebooks/data_table.ipynb>data table notebook</a>'\n",
              "            + ' to learn more about interactive tables.';\n",
              "          element.innerHTML = '';\n",
              "          dataTable['output_type'] = 'display_data';\n",
              "          await google.colab.output.renderOutput(dataTable, element);\n",
              "          const docLink = document.createElement('div');\n",
              "          docLink.innerHTML = docLinkHtml;\n",
              "          element.appendChild(docLink);\n",
              "        }\n",
              "      </script>\n",
              "    </div>\n",
              "  </div>\n",
              "  "
            ]
          },
          "metadata": {},
          "execution_count": 21
        }
      ]
    },
    {
      "cell_type": "code",
      "source": [
        "x = filter130pileup['pos']\n",
        "y = filter130pileup['count']\n",
        "\n",
        "plt.plot(x, y)\n",
        "plt.xlabel('Position')\n",
        "plt.ylabel('Count')\n",
        "plt.title('Distribution of read counts on position (chr=9)')\n",
        "plt.show()"
      ],
      "metadata": {
        "id": "9h7oIzfklvNA",
        "colab": {
          "base_uri": "https://localhost:8080/",
          "height": 472
        },
        "outputId": "de26e952-16db-4fe6-8a85-d801a3101855"
      },
      "execution_count": 50,
      "outputs": [
        {
          "output_type": "display_data",
          "data": {
            "text/plain": [
              "<Figure size 640x480 with 1 Axes>"
            ],
            "image/png": "[encoded data removed]"
          },
          "metadata": {}
        }
      ]
    },
    {
      "cell_type": "code",
      "source": [
        "np.unique(filter130pileup['base_count'])"
      ],
      "metadata": {
        "colab": {
          "base_uri": "https://localhost:8080/"
        },
        "id": "XiA0hiu6eUYR",
        "outputId": "8c7f0ab6-bb7f-4b7f-c483-0799b5f840e6"
      },
      "execution_count": 27,
      "outputs": [
        {
          "output_type": "execute_result",
          "data": {
            "text/plain": [
              "array([    0,     1,     2, ...,  9308, 10219, 10269])"
            ]
          },
          "metadata": {},
          "execution_count": 27
        }
      ]
    },
    {
      "cell_type": "code",
      "source": [
        "pup = filter130pileup[filter130pileup['base_count']>4500]"
      ],
      "metadata": {
        "id": "a2Q5KkmCRy45"
      },
      "execution_count": 43,
      "outputs": []
    },
    {
      "cell_type": "code",
      "source": [
        "pup['nonzero'] = pup['base_count']/pup['basereads'].apply(len)\n",
        "pup.head()"
      ],
      "metadata": {
        "colab": {
          "base_uri": "https://localhost:8080/",
          "height": 383
        },
        "id": "tBm3Day_Rxj7",
        "outputId": "0ae397f7-7b7a-456c-b7f7-f7cbd3880931"
      },
      "execution_count": 44,
      "outputs": [
        {
          "output_type": "stream",
          "name": "stderr",
          "text": [
            "<ipython-input-44-ef3998149eec>:1: SettingWithCopyWarning: \n",
            "A value is trying to be set on a copy of a slice from a DataFrame.\n",
            "Try using .loc[row_indexer,col_indexer] = value instead\n",
            "\n",
            "See the caveats in the documentation: https://pandas.pydata.org/pandas-docs/stable/user_guide/indexing.html#returning-a-view-versus-a-copy\n",
            "  pup['nonzero'] = pup['base_count']/pup['basereads'].apply(len)\n"
          ]
        },
        {
          "output_type": "execute_result",
          "data": {
            "text/plain": [
              "         chrom       pos _ref  count  \\\n",
              "19070565  chr9  56130897    N   7757   \n",
              "19070566  chr9  56130898    N   7777   \n",
              "19070567  chr9  56130899    N   7764   \n",
              "19070568  chr9  56130900    N   7805   \n",
              "19070569  chr9  56130901    N   7820   \n",
              "\n",
              "                                                  basereads  \\\n",
              "19070565  aaaaaaaaaaaaaaaaaaaaaaaaaaaaaaaaaaaaaaaaaaaaaa...   \n",
              "19070566  cccccccccccccccccccccccccccccccccccccccccccccc...   \n",
              "19070567  gggggggggggggggggggggggggggggggggggggggggggggg...   \n",
              "19070568  aaaaaaaaaaaaaaaaaaaaaaaaaaaaaaaaaaaaaaaaaaaaaa...   \n",
              "19070569  aaaaaaaaaaaaaaaaaaaaaaaaaaaaaaaaaaaaaaaaaaaaaa...   \n",
              "\n",
              "                                                      quals  \\\n",
              "19070565  CG@I4GIHHIHG<DGDID<EAGI;EI?HIIG?FIDIHEFEG.I8I?...   \n",
              "19070566  CG@I7F8IHIIG=HD@GID?GBGIEHEIIIGBGI<GIHGFI5IGI?...   \n",
              "19070567  @G@I85D=IHIIH5IB;G8IE?>HGG<CI@IIIEBHIGIIHFFH0I...   \n",
              "19070568  @GCI57F7IHIIH5IDBGGIG<GHGI17IGIIIGDHIGIIHEHI.I...   \n",
              "19070569  @G@I/8DIHIIH=IBBGDIE@GHGI1AIGIIIEDHIEGGGHIG3IG...   \n",
              "\n",
              "                                                    matches  base_count  \\\n",
              "19070565  aaaaaaaaaaaaaaaaaaaaaaaaaaaaaaaaaaaaaaaaaaaaaa...        7757   \n",
              "19070566  cccccccccccccccccccccccccccccccccccccccccccccc...        7777   \n",
              "19070567  gggggggggggggggggggggggggggggggggggggggggggggg...        7764   \n",
              "19070568  aaaaaaaaaaaaaaaaaaaaaaaaaaaaaaaaaaaaaaaaaaaaaa...        7805   \n",
              "19070569  aaaaaaaaaaaaaaaaaaaaaaaaaaaaaaaaaaaaaaaaaaaaaa...        7820   \n",
              "\n",
              "           nonzero  \n",
              "19070565  0.352607  \n",
              "19070566  0.999743  \n",
              "19070567  1.000000  \n",
              "19070568  0.999744  \n",
              "19070569  0.999744  "
            ],
            "text/html": [
              "\n",
              "  <div id=\"df-7c3805d1-bc45-4d9a-a8da-5ea0dfa880e7\">\n",
              "    <div class=\"colab-df-container\">\n",
              "      <div>\n",
              "<style scoped>\n",
              "    .dataframe tbody tr th:only-of-type {\n",
              "        vertical-align: middle;\n",
              "    }\n",
              "\n",
              "    .dataframe tbody tr th {\n",
              "        vertical-align: top;\n",
              "    }\n",
              "\n",
              "    .dataframe thead th {\n",
              "        text-align: right;\n",
              "    }\n",
              "</style>\n",
              "<table border=\"1\" class=\"dataframe\">\n",
              "  <thead>\n",
              "    <tr style=\"text-align: right;\">\n",
              "      <th></th>\n",
              "      <th>chrom</th>\n",
              "      <th>pos</th>\n",
              "      <th>_ref</th>\n",
              "      <th>count</th>\n",
              "      <th>basereads</th>\n",
              "      <th>quals</th>\n",
              "      <th>matches</th>\n",
              "      <th>base_count</th>\n",
              "      <th>nonzero</th>\n",
              "    </tr>\n",
              "  </thead>\n",
              "  <tbody>\n",
              "    <tr>\n",
              "      <th>19070565</th>\n",
              "      <td>chr9</td>\n",
              "      <td>56130897</td>\n",
              "      <td>N</td>\n",
              "      <td>7757</td>\n",
              "      <td>aaaaaaaaaaaaaaaaaaaaaaaaaaaaaaaaaaaaaaaaaaaaaa...</td>\n",
              "      <td>CG@I4GIHHIHG&lt;DGDID&lt;EAGI;EI?HIIG?FIDIHEFEG.I8I?...</td>\n",
              "      <td>aaaaaaaaaaaaaaaaaaaaaaaaaaaaaaaaaaaaaaaaaaaaaa...</td>\n",
              "      <td>7757</td>\n",
              "      <td>0.352607</td>\n",
              "    </tr>\n",
              "    <tr>\n",
              "      <th>19070566</th>\n",
              "      <td>chr9</td>\n",
              "      <td>56130898</td>\n",
              "      <td>N</td>\n",
              "      <td>7777</td>\n",
              "      <td>cccccccccccccccccccccccccccccccccccccccccccccc...</td>\n",
              "      <td>CG@I7F8IHIIG=HD@GID?GBGIEHEIIIGBGI&lt;GIHGFI5IGI?...</td>\n",
              "      <td>cccccccccccccccccccccccccccccccccccccccccccccc...</td>\n",
              "      <td>7777</td>\n",
              "      <td>0.999743</td>\n",
              "    </tr>\n",
              "    <tr>\n",
              "      <th>19070567</th>\n",
              "      <td>chr9</td>\n",
              "      <td>56130899</td>\n",
              "      <td>N</td>\n",
              "      <td>7764</td>\n",
              "      <td>gggggggggggggggggggggggggggggggggggggggggggggg...</td>\n",
              "      <td>@G@I85D=IHIIH5IB;G8IE?&gt;HGG&lt;CI@IIIEBHIGIIHFFH0I...</td>\n",
              "      <td>gggggggggggggggggggggggggggggggggggggggggggggg...</td>\n",
              "      <td>7764</td>\n",
              "      <td>1.000000</td>\n",
              "    </tr>\n",
              "    <tr>\n",
              "      <th>19070568</th>\n",
              "      <td>chr9</td>\n",
              "      <td>56130900</td>\n",
              "      <td>N</td>\n",
              "      <td>7805</td>\n",
              "      <td>aaaaaaaaaaaaaaaaaaaaaaaaaaaaaaaaaaaaaaaaaaaaaa...</td>\n",
              "      <td>@GCI57F7IHIIH5IDBGGIG&lt;GHGI17IGIIIGDHIGIIHEHI.I...</td>\n",
              "      <td>aaaaaaaaaaaaaaaaaaaaaaaaaaaaaaaaaaaaaaaaaaaaaa...</td>\n",
              "      <td>7805</td>\n",
              "      <td>0.999744</td>\n",
              "    </tr>\n",
              "    <tr>\n",
              "      <th>19070569</th>\n",
              "      <td>chr9</td>\n",
              "      <td>56130901</td>\n",
              "      <td>N</td>\n",
              "      <td>7820</td>\n",
              "      <td>aaaaaaaaaaaaaaaaaaaaaaaaaaaaaaaaaaaaaaaaaaaaaa...</td>\n",
              "      <td>@G@I/8DIHIIH=IBBGDIE@GHGI1AIGIIIEDHIEGGGHIG3IG...</td>\n",
              "      <td>aaaaaaaaaaaaaaaaaaaaaaaaaaaaaaaaaaaaaaaaaaaaaa...</td>\n",
              "      <td>7820</td>\n",
              "      <td>0.999744</td>\n",
              "    </tr>\n",
              "  </tbody>\n",
              "</table>\n",
              "</div>\n",
              "      <button class=\"colab-df-convert\" onclick=\"convertToInteractive('df-7c3805d1-bc45-4d9a-a8da-5ea0dfa880e7')\"\n",
              "              title=\"Convert this dataframe to an interactive table.\"\n",
              "              style=\"display:none;\">\n",
              "        \n",
              "  <svg xmlns=\"http://www.w3.org/2000/svg\" height=\"24px\"viewBox=\"0 0 24 24\"\n",
              "       width=\"24px\">\n",
              "    <path d=\"M0 0h24v24H0V0z\" fill=\"none\"/>\n",
              "    <path d=\"M18.56 5.44l.94 2.06.94-2.06 2.06-.94-2.06-.94-.94-2.06-.94 2.06-2.06.94zm-11 1L8.5 8.5l.94-2.06 2.06-.94-2.06-.94L8.5 2.5l-.94 2.06-2.06.94zm10 10l.94 2.06.94-2.06 2.06-.94-2.06-.94-.94-2.06-.94 2.06-2.06.94z\"/><path d=\"M17.41 7.96l-1.37-1.37c-.4-.4-.92-.59-1.43-.59-.52 0-1.04.2-1.43.59L10.3 9.45l-7.72 7.72c-.78.78-.78 2.05 0 2.83L4 21.41c.39.39.9.59 1.41.59.51 0 1.02-.2 1.41-.59l7.78-7.78 2.81-2.81c.8-.78.8-2.07 0-2.86zM5.41 20L4 18.59l7.72-7.72 1.47 1.35L5.41 20z\"/>\n",
              "  </svg>\n",
              "      </button>\n",
              "      \n",
              "  <style>\n",
              "    .colab-df-container {\n",
              "      display:flex;\n",
              "      flex-wrap:wrap;\n",
              "      gap: 12px;\n",
              "    }\n",
              "\n",
              "    .colab-df-convert {\n",
              "      background-color: #E8F0FE;\n",
              "      border: none;\n",
              "      border-radius: 50%;\n",
              "      cursor: pointer;\n",
              "      display: none;\n",
              "      fill: #1967D2;\n",
              "      height: 32px;\n",
              "      padding: 0 0 0 0;\n",
              "      width: 32px;\n",
              "    }\n",
              "\n",
              "    .colab-df-convert:hover {\n",
              "      background-color: #E2EBFA;\n",
              "      box-shadow: 0px 1px 2px rgba(60, 64, 67, 0.3), 0px 1px 3px 1px rgba(60, 64, 67, 0.15);\n",
              "      fill: #174EA6;\n",
              "    }\n",
              "\n",
              "    [theme=dark] .colab-df-convert {\n",
              "      background-color: #3B4455;\n",
              "      fill: #D2E3FC;\n",
              "    }\n",
              "\n",
              "    [theme=dark] .colab-df-convert:hover {\n",
              "      background-color: #434B5C;\n",
              "      box-shadow: 0px 1px 3px 1px rgba(0, 0, 0, 0.15);\n",
              "      filter: drop-shadow(0px 1px 2px rgba(0, 0, 0, 0.3));\n",
              "      fill: #FFFFFF;\n",
              "    }\n",
              "  </style>\n",
              "\n",
              "      <script>\n",
              "        const buttonEl =\n",
              "          document.querySelector('#df-7c3805d1-bc45-4d9a-a8da-5ea0dfa880e7 button.colab-df-convert');\n",
              "        buttonEl.style.display =\n",
              "          google.colab.kernel.accessAllowed ? 'block' : 'none';\n",
              "\n",
              "        async function convertToInteractive(key) {\n",
              "          const element = document.querySelector('#df-7c3805d1-bc45-4d9a-a8da-5ea0dfa880e7');\n",
              "          const dataTable =\n",
              "            await google.colab.kernel.invokeFunction('convertToInteractive',\n",
              "                                                     [key], {});\n",
              "          if (!dataTable) return;\n",
              "\n",
              "          const docLinkHtml = 'Like what you see? Visit the ' +\n",
              "            '<a target=\"_blank\" href=https://colab.research.google.com/notebooks/data_table.ipynb>data table notebook</a>'\n",
              "            + ' to learn more about interactive tables.';\n",
              "          element.innerHTML = '';\n",
              "          dataTable['output_type'] = 'display_data';\n",
              "          await google.colab.output.renderOutput(dataTable, element);\n",
              "          const docLink = document.createElement('div');\n",
              "          docLink.innerHTML = docLinkHtml;\n",
              "          element.appendChild(docLink);\n",
              "        }\n",
              "      </script>\n",
              "    </div>\n",
              "  </div>\n",
              "  "
            ]
          },
          "metadata": {},
          "execution_count": 44
        }
      ]
    },
    {
      "cell_type": "code",
      "source": [
        "pup['shannon'] = -pup['nonzero']*np.log2(pup['nonzero'])\n",
        "pup.head()"
      ],
      "metadata": {
        "colab": {
          "base_uri": "https://localhost:8080/",
          "height": 383
        },
        "id": "HXbGir2yRyMg",
        "outputId": "40e8cd08-6af1-4dc8-d8a4-29c3a834c849"
      },
      "execution_count": 45,
      "outputs": [
        {
          "output_type": "stream",
          "name": "stderr",
          "text": [
            "<ipython-input-45-95ec17a8bda6>:1: SettingWithCopyWarning: \n",
            "A value is trying to be set on a copy of a slice from a DataFrame.\n",
            "Try using .loc[row_indexer,col_indexer] = value instead\n",
            "\n",
            "See the caveats in the documentation: https://pandas.pydata.org/pandas-docs/stable/user_guide/indexing.html#returning-a-view-versus-a-copy\n",
            "  pup['shannon'] = -pup['nonzero']*np.log2(pup['nonzero'])\n"
          ]
        },
        {
          "output_type": "execute_result",
          "data": {
            "text/plain": [
              "         chrom       pos _ref  count  \\\n",
              "19070565  chr9  56130897    N   7757   \n",
              "19070566  chr9  56130898    N   7777   \n",
              "19070567  chr9  56130899    N   7764   \n",
              "19070568  chr9  56130900    N   7805   \n",
              "19070569  chr9  56130901    N   7820   \n",
              "\n",
              "                                                  basereads  \\\n",
              "19070565  aaaaaaaaaaaaaaaaaaaaaaaaaaaaaaaaaaaaaaaaaaaaaa...   \n",
              "19070566  cccccccccccccccccccccccccccccccccccccccccccccc...   \n",
              "19070567  gggggggggggggggggggggggggggggggggggggggggggggg...   \n",
              "19070568  aaaaaaaaaaaaaaaaaaaaaaaaaaaaaaaaaaaaaaaaaaaaaa...   \n",
              "19070569  aaaaaaaaaaaaaaaaaaaaaaaaaaaaaaaaaaaaaaaaaaaaaa...   \n",
              "\n",
              "                                                      quals  \\\n",
              "19070565  CG@I4GIHHIHG<DGDID<EAGI;EI?HIIG?FIDIHEFEG.I8I?...   \n",
              "19070566  CG@I7F8IHIIG=HD@GID?GBGIEHEIIIGBGI<GIHGFI5IGI?...   \n",
              "19070567  @G@I85D=IHIIH5IB;G8IE?>HGG<CI@IIIEBHIGIIHFFH0I...   \n",
              "19070568  @GCI57F7IHIIH5IDBGGIG<GHGI17IGIIIGDHIGIIHEHI.I...   \n",
              "19070569  @G@I/8DIHIIH=IBBGDIE@GHGI1AIGIIIEDHIEGGGHIG3IG...   \n",
              "\n",
              "                                                    matches  base_count  \\\n",
              "19070565  aaaaaaaaaaaaaaaaaaaaaaaaaaaaaaaaaaaaaaaaaaaaaa...        7757   \n",
              "19070566  cccccccccccccccccccccccccccccccccccccccccccccc...        7777   \n",
              "19070567  gggggggggggggggggggggggggggggggggggggggggggggg...        7764   \n",
              "19070568  aaaaaaaaaaaaaaaaaaaaaaaaaaaaaaaaaaaaaaaaaaaaaa...        7805   \n",
              "19070569  aaaaaaaaaaaaaaaaaaaaaaaaaaaaaaaaaaaaaaaaaaaaaa...        7820   \n",
              "\n",
              "           nonzero   shannon  \n",
              "19070565  0.352607  0.530274  \n",
              "19070566  0.999743  0.000371  \n",
              "19070567  1.000000 -0.000000  \n",
              "19070568  0.999744  0.000370  \n",
              "19070569  0.999744  0.000369  "
            ],
            "text/html": [
              "\n",
              "  <div id=\"df-cf0cbd3a-012f-4c91-b4ea-f389f15e995d\">\n",
              "    <div class=\"colab-df-container\">\n",
              "      <div>\n",
              "<style scoped>\n",
              "    .dataframe tbody tr th:only-of-type {\n",
              "        vertical-align: middle;\n",
              "    }\n",
              "\n",
              "    .dataframe tbody tr th {\n",
              "        vertical-align: top;\n",
              "    }\n",
              "\n",
              "    .dataframe thead th {\n",
              "        text-align: right;\n",
              "    }\n",
              "</style>\n",
              "<table border=\"1\" class=\"dataframe\">\n",
              "  <thead>\n",
              "    <tr style=\"text-align: right;\">\n",
              "      <th></th>\n",
              "      <th>chrom</th>\n",
              "      <th>pos</th>\n",
              "      <th>_ref</th>\n",
              "      <th>count</th>\n",
              "      <th>basereads</th>\n",
              "      <th>quals</th>\n",
              "      <th>matches</th>\n",
              "      <th>base_count</th>\n",
              "      <th>nonzero</th>\n",
              "      <th>shannon</th>\n",
              "    </tr>\n",
              "  </thead>\n",
              "  <tbody>\n",
              "    <tr>\n",
              "      <th>19070565</th>\n",
              "      <td>chr9</td>\n",
              "      <td>56130897</td>\n",
              "      <td>N</td>\n",
              "      <td>7757</td>\n",
              "      <td>aaaaaaaaaaaaaaaaaaaaaaaaaaaaaaaaaaaaaaaaaaaaaa...</td>\n",
              "      <td>CG@I4GIHHIHG&lt;DGDID&lt;EAGI;EI?HIIG?FIDIHEFEG.I8I?...</td>\n",
              "      <td>aaaaaaaaaaaaaaaaaaaaaaaaaaaaaaaaaaaaaaaaaaaaaa...</td>\n",
              "      <td>7757</td>\n",
              "      <td>0.352607</td>\n",
              "      <td>0.530274</td>\n",
              "    </tr>\n",
              "    <tr>\n",
              "      <th>19070566</th>\n",
              "      <td>chr9</td>\n",
              "      <td>56130898</td>\n",
              "      <td>N</td>\n",
              "      <td>7777</td>\n",
              "      <td>cccccccccccccccccccccccccccccccccccccccccccccc...</td>\n",
              "      <td>CG@I7F8IHIIG=HD@GID?GBGIEHEIIIGBGI&lt;GIHGFI5IGI?...</td>\n",
              "      <td>cccccccccccccccccccccccccccccccccccccccccccccc...</td>\n",
              "      <td>7777</td>\n",
              "      <td>0.999743</td>\n",
              "      <td>0.000371</td>\n",
              "    </tr>\n",
              "    <tr>\n",
              "      <th>19070567</th>\n",
              "      <td>chr9</td>\n",
              "      <td>56130899</td>\n",
              "      <td>N</td>\n",
              "      <td>7764</td>\n",
              "      <td>gggggggggggggggggggggggggggggggggggggggggggggg...</td>\n",
              "      <td>@G@I85D=IHIIH5IB;G8IE?&gt;HGG&lt;CI@IIIEBHIGIIHFFH0I...</td>\n",
              "      <td>gggggggggggggggggggggggggggggggggggggggggggggg...</td>\n",
              "      <td>7764</td>\n",
              "      <td>1.000000</td>\n",
              "      <td>-0.000000</td>\n",
              "    </tr>\n",
              "    <tr>\n",
              "      <th>19070568</th>\n",
              "      <td>chr9</td>\n",
              "      <td>56130900</td>\n",
              "      <td>N</td>\n",
              "      <td>7805</td>\n",
              "      <td>aaaaaaaaaaaaaaaaaaaaaaaaaaaaaaaaaaaaaaaaaaaaaa...</td>\n",
              "      <td>@GCI57F7IHIIH5IDBGGIG&lt;GHGI17IGIIIGDHIGIIHEHI.I...</td>\n",
              "      <td>aaaaaaaaaaaaaaaaaaaaaaaaaaaaaaaaaaaaaaaaaaaaaa...</td>\n",
              "      <td>7805</td>\n",
              "      <td>0.999744</td>\n",
              "      <td>0.000370</td>\n",
              "    </tr>\n",
              "    <tr>\n",
              "      <th>19070569</th>\n",
              "      <td>chr9</td>\n",
              "      <td>56130901</td>\n",
              "      <td>N</td>\n",
              "      <td>7820</td>\n",
              "      <td>aaaaaaaaaaaaaaaaaaaaaaaaaaaaaaaaaaaaaaaaaaaaaa...</td>\n",
              "      <td>@G@I/8DIHIIH=IBBGDIE@GHGI1AIGIIIEDHIEGGGHIG3IG...</td>\n",
              "      <td>aaaaaaaaaaaaaaaaaaaaaaaaaaaaaaaaaaaaaaaaaaaaaa...</td>\n",
              "      <td>7820</td>\n",
              "      <td>0.999744</td>\n",
              "      <td>0.000369</td>\n",
              "    </tr>\n",
              "  </tbody>\n",
              "</table>\n",
              "</div>\n",
              "      <button class=\"colab-df-convert\" onclick=\"convertToInteractive('df-cf0cbd3a-012f-4c91-b4ea-f389f15e995d')\"\n",
              "              title=\"Convert this dataframe to an interactive table.\"\n",
              "              style=\"display:none;\">\n",
              "        \n",
              "  <svg xmlns=\"http://www.w3.org/2000/svg\" height=\"24px\"viewBox=\"0 0 24 24\"\n",
              "       width=\"24px\">\n",
              "    <path d=\"M0 0h24v24H0V0z\" fill=\"none\"/>\n",
              "    <path d=\"M18.56 5.44l.94 2.06.94-2.06 2.06-.94-2.06-.94-.94-2.06-.94 2.06-2.06.94zm-11 1L8.5 8.5l.94-2.06 2.06-.94-2.06-.94L8.5 2.5l-.94 2.06-2.06.94zm10 10l.94 2.06.94-2.06 2.06-.94-2.06-.94-.94-2.06-.94 2.06-2.06.94z\"/><path d=\"M17.41 7.96l-1.37-1.37c-.4-.4-.92-.59-1.43-.59-.52 0-1.04.2-1.43.59L10.3 9.45l-7.72 7.72c-.78.78-.78 2.05 0 2.83L4 21.41c.39.39.9.59 1.41.59.51 0 1.02-.2 1.41-.59l7.78-7.78 2.81-2.81c.8-.78.8-2.07 0-2.86zM5.41 20L4 18.59l7.72-7.72 1.47 1.35L5.41 20z\"/>\n",
              "  </svg>\n",
              "      </button>\n",
              "      \n",
              "  <style>\n",
              "    .colab-df-container {\n",
              "      display:flex;\n",
              "      flex-wrap:wrap;\n",
              "      gap: 12px;\n",
              "    }\n",
              "\n",
              "    .colab-df-convert {\n",
              "      background-color: #E8F0FE;\n",
              "      border: none;\n",
              "      border-radius: 50%;\n",
              "      cursor: pointer;\n",
              "      display: none;\n",
              "      fill: #1967D2;\n",
              "      height: 32px;\n",
              "      padding: 0 0 0 0;\n",
              "      width: 32px;\n",
              "    }\n",
              "\n",
              "    .colab-df-convert:hover {\n",
              "      background-color: #E2EBFA;\n",
              "      box-shadow: 0px 1px 2px rgba(60, 64, 67, 0.3), 0px 1px 3px 1px rgba(60, 64, 67, 0.15);\n",
              "      fill: #174EA6;\n",
              "    }\n",
              "\n",
              "    [theme=dark] .colab-df-convert {\n",
              "      background-color: #3B4455;\n",
              "      fill: #D2E3FC;\n",
              "    }\n",
              "\n",
              "    [theme=dark] .colab-df-convert:hover {\n",
              "      background-color: #434B5C;\n",
              "      box-shadow: 0px 1px 3px 1px rgba(0, 0, 0, 0.15);\n",
              "      filter: drop-shadow(0px 1px 2px rgba(0, 0, 0, 0.3));\n",
              "      fill: #FFFFFF;\n",
              "    }\n",
              "  </style>\n",
              "\n",
              "      <script>\n",
              "        const buttonEl =\n",
              "          document.querySelector('#df-cf0cbd3a-012f-4c91-b4ea-f389f15e995d button.colab-df-convert');\n",
              "        buttonEl.style.display =\n",
              "          google.colab.kernel.accessAllowed ? 'block' : 'none';\n",
              "\n",
              "        async function convertToInteractive(key) {\n",
              "          const element = document.querySelector('#df-cf0cbd3a-012f-4c91-b4ea-f389f15e995d');\n",
              "          const dataTable =\n",
              "            await google.colab.kernel.invokeFunction('convertToInteractive',\n",
              "                                                     [key], {});\n",
              "          if (!dataTable) return;\n",
              "\n",
              "          const docLinkHtml = 'Like what you see? Visit the ' +\n",
              "            '<a target=\"_blank\" href=https://colab.research.google.com/notebooks/data_table.ipynb>data table notebook</a>'\n",
              "            + ' to learn more about interactive tables.';\n",
              "          element.innerHTML = '';\n",
              "          dataTable['output_type'] = 'display_data';\n",
              "          await google.colab.output.renderOutput(dataTable, element);\n",
              "          const docLink = document.createElement('div');\n",
              "          docLink.innerHTML = docLinkHtml;\n",
              "          element.appendChild(docLink);\n",
              "        }\n",
              "      </script>\n",
              "    </div>\n",
              "  </div>\n",
              "  "
            ]
          },
          "metadata": {},
          "execution_count": 45
        }
      ]
    },
    {
      "cell_type": "code",
      "source": [
        "plt.scatter(pup['pos'], pup['shannon'],s=1)\n",
        "plt.xlabel('Position')\n",
        "plt.ylabel('Shannon Entropy')\n",
        "plt.title('Shannon Entropy by Position in Pileup Data')\n",
        "plt.axhline(0.8, c='red', linewidth=2)\n",
        "plt.show()"
      ],
      "metadata": {
        "colab": {
          "base_uri": "https://localhost:8080/",
          "height": 472
        },
        "id": "f6wDPK3dR2cP",
        "outputId": "ef141583-15cb-4f42-c436-624cc51ba90e"
      },
      "execution_count": 49,
      "outputs": [
        {
          "output_type": "display_data",
          "data": {
            "text/plain": [
              "<Figure size 640x480 with 1 Axes>"
            ],
            "image/png": "[encoded data removed]"
          },
          "metadata": {}
        }
      ]
    }
  ],
  "metadata": {
    "colab": {
      "provenance": [],
      "authorship_tag": "ABX9TyPYSpLPKOzWaunHt8Bz3CXH",
      "include_colab_link": true
    },
    "kernelspec": {
      "display_name": "Python 3",
      "name": "python3"
    },
    "language_info": {
      "name": "python"
    }
  },
  "nbformat": 4,
  "nbformat_minor": 0
}